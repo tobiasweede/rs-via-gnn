{
 "cells": [
  {
   "cell_type": "code",
   "execution_count": 1,
   "metadata": {},
   "outputs": [],
   "source": [
    "# Deep Walk example\n",
    "# https://dsgiitr.com/blogs/deepwalk/"
   ]
  },
  {
   "cell_type": "code",
   "execution_count": 2,
   "metadata": {},
   "outputs": [],
   "source": [
    "import torch\n",
    "import torch.nn as nn\n",
    "import random\n",
    "import networkx as nx\n",
    "import matplotlib.pyplot as plt"
   ]
  },
  {
   "cell_type": "code",
   "execution_count": 3,
   "metadata": {},
   "outputs": [
    {
     "data": {
      "image/png": "[encoded data removed]",
      "text/plain": [
       "<Figure size 432x288 with 1 Axes>"
      ]
     },
     "metadata": {},
     "output_type": "display_data"
    }
   ],
   "source": [
    "#  Graph\n",
    "v=[0,1,2,3,4,5,6,7] # labels of available vertices (not really needed)\n",
    "adj_list = [[1,2,3], [0,2,3], [0, 1, 3], [0, 1, 2], [5, 6], [4,6], [4, 5], [1, 3]]\n",
    "size_vertex = len(adj_list)  # number of vertices"
   ]
  },
  {
   "cell_type": "code",
   "execution_count": 4,
   "metadata": {},
   "outputs": [],
   "source": [
    "# Hyperparameters\n",
    "w=3            # window size\n",
    "d=2            # embedding size\n",
    "y=200          # walks per vertex\n",
    "t=6            # walk length \n",
    "lr=0.025       # learning rate"
   ]
  },
  {
   "cell_type": "code",
   "execution_count": 5,
   "metadata": {},
   "outputs": [],
   "source": [
    "# Random Walk on the graph\n",
    "\n",
    "def random_walk(node, t):\n",
    "    walk = [node] # starting point / inital list of walk nodes\n",
    "    \n",
    "    for i in range(t-1):\n",
    "        node = adj_list[node][random.randint(0, len(adj_list[node])-1)]\n",
    "        walk.append(node)\n",
    "        \n",
    "    return walk"
   ]
  },
  {
   "cell_type": "code",
   "execution_count": 6,
   "metadata": {
    "scrolled": true
   },
   "outputs": [],
   "source": [
    "# SkipGram\n",
    "\n",
    "class Model(torch.nn.Module):\n",
    "    def __init__(self):\n",
    "        super(Model, self).__init__()\n",
    "        self.phi = nn.Parameter(torch.rand((size_vertex, d), requires_grad=True))\n",
    "        self.phi2 = nn.Parameter(torch.rand((d, size_vertex), requires_grad=True))\n",
    "        \n",
    "    def forward(self, one_hot):\n",
    "        hidden = torch.matmul(one_hot, self.phi)\n",
    "        out = torch.matmul(hidden, self.phi2)\n",
    "        return out\n",
    "\n",
    "model = Model()\n",
    "\n",
    "def skip_gram(wvi, w):\n",
    "    for j in range(len(wvi)):\n",
    "        for k in range(max(0, j-w), min(j+w, len(wvi))):\n",
    "            # generate 1-hot vector\n",
    "            one_hot = torch.zeros(size_vertex)\n",
    "            one_hot[wvi[j]] = 1\n",
    "            \n",
    "            out = model(one_hot)\n",
    "            loss = torch.log(torch.sum(torch.exp(out))) - out[wvi[k]]\n",
    "            loss.backward()\n",
    "            \n",
    "            for param in model.parameters():\n",
    "                param.data.sub_(lr*param.grad)\n",
    "                param.grad.data.zero_()"
   ]
  },
  {
   "cell_type": "code",
   "execution_count": 7,
   "metadata": {},
   "outputs": [],
   "source": [
    "# training\n",
    "for i in range(y):\n",
    "    random.shuffle(v)\n",
    "    for vi in v:\n",
    "        wvi=random_walk(vi, t)\n",
    "        skip_gram(wvi, w)"
   ]
  },
  {
   "cell_type": "code",
   "execution_count": 9,
   "metadata": {},
   "outputs": [
    {
     "data": {
      "image/png": "[encoded data removed]",
      "text/plain": [
       "<Figure size 432x288 with 1 Axes>"
      ]
     },
     "metadata": {},
     "output_type": "display_data"
    }
   ],
   "source": [
    "# Visualize\n",
    "G = nx.Graph()\n",
    "for i in range(size_vertex):\n",
    "    G.add_node(i)\n",
    "    for j in adj_list[i]:\n",
    "        G.add_edge(i, j)\n",
    "nx.draw(G, with_labels=True)"
   ]
  },
  {
   "cell_type": "code",
   "execution_count": 10,
   "metadata": {},
   "outputs": [
    {
     "name": "stdout",
     "output_type": "stream",
     "text": [
      "Parameter containing:\n",
      "tensor([[ 1.2061, -0.9326],\n",
      "        [ 1.0518, -0.2775],\n",
      "        [ 1.1280, -0.3912],\n",
      "        [ 1.0523, -0.9189],\n",
      "        [-1.1144,  0.8999],\n",
      "        [-0.5610,  1.3623],\n",
      "        [-0.5839,  1.3451],\n",
      "        [-0.1305, -0.9618]], requires_grad=True)\n"
     ]
    }
   ],
   "source": [
    "print(model.phi)\n",
    "\n",
    "# we note that nodes 0,1,2,3,7 and 4,5,6 have a similar embedding"
   ]
  }
 ],
 "metadata": {
  "kernelspec": {
   "display_name": "Python 3",
   "language": "python",
   "name": "python3"
  },
  "language_info": {
   "codemirror_mode": {
    "name": "ipython",
    "version": 3
   },
   "file_extension": ".py",
   "mimetype": "text/x-python",
   "name": "python",
   "nbconvert_exporter": "python",
   "pygments_lexer": "ipython3",
   "version": "3.7.9"
  }
 },
 "nbformat": 4,
 "nbformat_minor": 4
}
