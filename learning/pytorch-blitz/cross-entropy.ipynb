{
 "cells": [
  {
   "cell_type": "markdown",
   "metadata": {},
   "source": [
    "# Cross entropy\n",
    "\n",
    "source: https://neptune.ai/blog/cross-entropy-loss-and-its-applications-in-deep-learning"
   ]
  },
  {
   "cell_type": "code",
   "execution_count": 1,
   "metadata": {},
   "outputs": [],
   "source": [
    "import torch\n",
    "import torch.nn as nn"
   ]
  },
  {
   "cell_type": "markdown",
   "metadata": {},
   "source": [
    "## binary"
   ]
  },
  {
   "cell_type": "markdown",
   "metadata": {},
   "source": [
    "X = torch.randn(10)  # random N(0,1) distributed float values\n",
    "y = torch.randint(2, (10,), dtype=torch.float)   # uniformly distributed integers in from {0, 1}\n",
    "print(X, '\\n', y)"
   ]
  },
  {
   "cell_type": "code",
   "execution_count": null,
   "metadata": {},
   "outputs": [],
   "source": [
    "X_continous_values = torch.sigmoid(X) # rescale [0, 1]\n",
    "print(X)"
   ]
  },
  {
   "cell_type": "code",
   "execution_count": 15,
   "metadata": {},
   "outputs": [],
   "source": [
    "X = torch.randn(10)  # random N(0,1) distributed float values\n",
    "y = torch.randint(2, (10,), dtype=torch.float)   # uniformly distributed integers in from {0, 1}\n",
    "print(X, '\\n', y)"
   ]
  },
  {
   "cell_type": "code",
   "execution_count": 12,
   "metadata": {},
   "outputs": [
    {
     "name": "stdout",
     "output_type": "stream",
     "text": [
      "tensor([-0.1660, -0.4581, -0.6261, -0.9480,  0.8766, -1.1436, -3.0885, -1.5065,\n",
      "         0.7975,  1.6920])\n"
     ]
    }
   ],
   "source": [
    "X_continous_values = torch.sigmoid(X) # rescale [0, 1]\n",
    "print(X)"
   ]
  },
  {
   "cell_type": "code",
   "execution_count": 14,
   "metadata": {},
   "outputs": [
    {
     "name": "stdout",
     "output_type": "stream",
     "text": [
      "tensor(0.9352)\n"
     ]
    }
   ],
   "source": [
    "loss = nn.BCELoss()(X_continous_values, y)  # sum of the negative logarithm of predicted probabilities of each value\n",
    "print(loss)"
   ]
  },
  {
   "cell_type": "markdown",
   "metadata": {},
   "source": [
    "## categorical\n",
    "\n",
    "no need to use sigmoid separately!"
   ]
  },
  {
   "cell_type": "code",
   "execution_count": 16,
   "metadata": {},
   "outputs": [
    {
     "name": "stdout",
     "output_type": "stream",
     "text": [
      "tensor([[-0.6077,  0.3422,  1.1210,  0.1117,  0.2464],\n",
      "        [ 0.0823, -1.4471, -1.1924, -1.8981,  1.5608],\n",
      "        [-1.6820,  1.7624, -1.2353,  0.4847, -1.1121],\n",
      "        [ 1.7515, -0.2493,  1.8441,  0.1136, -0.8871],\n",
      "        [-0.1722,  1.5344,  0.5421, -0.1137,  0.7329],\n",
      "        [ 0.3097,  0.3260, -0.0139,  1.5647,  1.3114],\n",
      "        [ 0.1861, -0.0351, -0.3049, -0.3827,  0.2460],\n",
      "        [ 0.3221, -0.3083,  0.8501,  0.4580, -0.9952],\n",
      "        [-0.1591,  1.1320,  1.4432, -0.4367, -0.5070],\n",
      "        [ 0.1325,  0.2672, -0.3751,  0.5407, -0.9217]])\n"
     ]
    }
   ],
   "source": [
    "X = torch.randn(10, 5)\n",
    "print(X)"
   ]
  },
  {
   "cell_type": "code",
   "execution_count": 18,
   "metadata": {},
   "outputs": [
    {
     "name": "stdout",
     "output_type": "stream",
     "text": [
      "tensor([2, 4, 2, 1, 4, 4, 2, 4, 2, 2])\n"
     ]
    }
   ],
   "source": [
    "y = torch.randint(5, (10,))\n",
    "print(y)"
   ]
  },
  {
   "cell_type": "code",
   "execution_count": 20,
   "metadata": {},
   "outputs": [
    {
     "name": "stdout",
     "output_type": "stream",
     "text": [
      "tensor(1.7816)\n"
     ]
    }
   ],
   "source": [
    "loss = nn.CrossEntropyLoss()(X, y)\n",
    "print(loss)"
   ]
  }
 ],
 "metadata": {
  "kernelspec": {
   "display_name": "PyCharm (rs-via-gnn)",
   "language": "python",
   "name": "pycharm-f57757a1"
  },
  "language_info": {
   "codemirror_mode": {
    "name": "ipython",
    "version": 3
   },
   "file_extension": ".py",
   "mimetype": "text/x-python",
   "name": "python",
   "nbconvert_exporter": "python",
   "pygments_lexer": "ipython3",
   "version": "3.7.9"
  }
 },
 "nbformat": 4,
 "nbformat_minor": 4
}
