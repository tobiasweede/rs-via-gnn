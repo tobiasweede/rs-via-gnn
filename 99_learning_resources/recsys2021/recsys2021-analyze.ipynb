{
 "cells": [
  {
   "cell_type": "code",
   "execution_count": 11,
   "metadata": {
    "collapsed": true
   },
   "outputs": [],
   "source": [
    "import pandas as pd\n",
    "\n",
    "all_features = [\"text_tokens\", \"hashtags\", \"tweet_id\", \"present_media\", \"present_links\", \"present_domains\",\\\n",
    "                \"tweet_type\",\"language\", \"tweet_timestamp\", \"engaged_with_user_id\", \"engaged_with_user_follower_count\",\\\n",
    "               \"engaged_with_user_following_count\", \"engaged_with_user_is_verified\", \"engaged_with_user_account_creation\",\\\n",
    "               \"engaging_user_id\", \"engaging_user_follower_count\", \"engaging_user_following_count\", \"engaging_user_is_verified\",\\\n",
    "               \"engaging_user_account_creation\", \"engagee_follows_engager\"]\n",
    "\n",
    "all_features_to_idx = dict(zip(all_features, range(len(all_features))))\n",
    "labels_to_idx = {\"reply_timestamp\": 20, \"retweet_timestamp\": 21, \"retweet_with_comment_timestamp\": 22, \"like_timestamp\": 23}\n",
    "\n",
    "# with open(\"train.tsv\", encoding=\"utf-8\") as f:\n",
    "folder = '/home/weiss/rs_data/recsys-challenge-2021/'\n",
    "\n",
    "cols=[*all_features, *labels_to_idx.keys()]\n",
    "\n",
    "df = pd.read_csv(folder+'part-00000', names=cols, delimiter='\\x01')"
   ]
  },
  {
   "cell_type": "code",
   "execution_count": 18,
   "outputs": [],
   "source": [
    "df['text_tokens'] = df['text_tokens'].str.split('\\t', expand=False)\n"
   ],
   "metadata": {
    "collapsed": false,
    "pycharm": {
     "name": "#%%\n"
    }
   }
  },
  {
   "cell_type": "code",
   "execution_count": 12,
   "outputs": [
    {
     "name": "stdout",
     "output_type": "stream",
     "text": [
      "                                         text_tokens  \\\n",
      "0  101\\t100\\t216\\t108\\t14612\\t137\\t14066\\t47954\\t...   \n",
      "\n",
      "                           hashtags                          tweet_id  \\\n",
      "0  C3D306CCD70AF9340D4A8B718FD053C1  03BC57306F1937AA58FE2069DD469CEA   \n",
      "\n",
      "  present_media present_links present_domains tweet_type  \\\n",
      "0           NaN           NaN             NaN      Quote   \n",
      "\n",
      "                           language  tweet_timestamp  \\\n",
      "0  313ECD3A1E5BB07406E4249475C2D6D6       1613138414   \n",
      "\n",
      "               engaged_with_user_id  ...                  engaging_user_id  \\\n",
      "0  2F29352ADC44CBC52E7F4D1FC2F1D5CE  ...  0564EB0D2FE70849333968C0554ABC24   \n",
      "\n",
      "   engaging_user_follower_count  engaging_user_following_count  \\\n",
      "0                           175                            186   \n",
      "\n",
      "   engaging_user_is_verified engaging_user_account_creation  \\\n",
      "0                      False                     1565100032   \n",
      "\n",
      "   engagee_follows_engager  reply_timestamp  retweet_timestamp  \\\n",
      "0                    False              NaN                NaN   \n",
      "\n",
      "   retweet_with_comment_timestamp  like_timestamp  \n",
      "0                             NaN    1.613140e+09  \n",
      "\n",
      "[1 rows x 24 columns]\n"
     ]
    }
   ],
   "source": [
    "print(df.head(1))"
   ],
   "metadata": {
    "collapsed": false,
    "pycharm": {
     "name": "#%%\n"
    }
   }
  },
  {
   "cell_type": "code",
   "execution_count": 5,
   "outputs": [
    {
     "data": {
      "text/plain": "text_ tokens                          3282149\nhashtags                               667473\ntweet_id                              3282149\npresent_media                         1252541\npresent_links                          382601\npresent_domains                        382601\ntweet_type                            3282149\nlanguage                              3282149\ntweet_timestamp                       3282149\nengaged_with_user_id                  3282149\nengaged_with_user_follower_count      3282149\nengaged_with_user_following_count     3282149\nengaged_with_user_is_verified         3282149\nengaged_with_user_account_creation    3282149\nenaging_user_id                       3282149\nenaging_user_follower_count           3282149\nenaging_user_following_count          3282149\nenaging_user_is_verified              3282149\nenaging_user_account_creation         3282149\nengagee_follows_engager               3282149\nreply_timestamp                         91889\nretweet_timestamp                      288375\nretweet_with_comment_timestamp          22641\nlike_timestamp                        1301939\ndtype: int64"
     },
     "execution_count": 5,
     "metadata": {},
     "output_type": "execute_result"
    }
   ],
   "source": [
    "df.count()"
   ],
   "metadata": {
    "collapsed": false,
    "pycharm": {
     "name": "#%%\n"
    }
   }
  },
  {
   "cell_type": "code",
   "execution_count": 19,
   "outputs": [
    {
     "data": {
      "text/plain": "array(['Quote', 'TopLevel', 'Retweet'], dtype=object)"
     },
     "execution_count": 19,
     "metadata": {},
     "output_type": "execute_result"
    }
   ],
   "source": [
    "df['tweet_type'].unique()"
   ],
   "metadata": {
    "collapsed": false,
    "pycharm": {
     "name": "#%%\n"
    }
   }
  },
  {
   "cell_type": "code",
   "execution_count": 7,
   "outputs": [
    {
     "data": {
      "text/plain": "488B32D24BD4BB44172EB981C1BCA6FA    1201207\nE7F038DE3EAD397AEC9193686C911677     570988\nB0FA488F2911701DD8EC5B1EA5E322D8     283811\nB8B04128918BBF54E2E178BFF1ABA833     252714\n313ECD3A1E5BB07406E4249475C2D6D6     205539\n                                     ...   \nCDE47D81F953D800F760F1DE8AA754BA         31\n0BB2C843174730BA7D958C98B763A797         27\n9D831A0F3603A54732CCBDBF291D17B7         21\n5F152815982885A996841493F2757D91          3\n82C9890E4A7FC1F8730A3443C761143E          1\nName: language, Length: 65, dtype: int64"
     },
     "execution_count": 7,
     "metadata": {},
     "output_type": "execute_result"
    }
   ],
   "source": [
    "df['language'].unique()\n",
    "df['language'].value_counts()"
   ],
   "metadata": {
    "collapsed": false,
    "pycharm": {
     "name": "#%%\n"
    }
   }
  },
  {
   "cell_type": "code",
   "execution_count": 10,
   "outputs": [
    {
     "data": {
      "text/plain": "2289344"
     },
     "execution_count": 10,
     "metadata": {},
     "output_type": "execute_result"
    }
   ],
   "source": [
    "df['enaging_user_id'].nunique()"
   ],
   "metadata": {
    "collapsed": false,
    "pycharm": {
     "name": "#%%\n"
    }
   }
  },
  {
   "cell_type": "code",
   "execution_count": 13,
   "outputs": [],
   "source": [
    "unique_engaging_users = df['engaging_user_id'].unique()\n",
    "unique_engaged_users = df['engaged_with_user_id'].unique()"
   ],
   "metadata": {
    "collapsed": false,
    "pycharm": {
     "name": "#%%\n"
    }
   }
  },
  {
   "cell_type": "code",
   "execution_count": 16,
   "outputs": [],
   "source": [
    "# https://stackoverflow.com/questions/26977076/pandas-unique-values-multiple-columns#26977290\n",
    "unique_users = pd.unique(df[['engaging_user_id', 'engaged_with_user_id']].values.ravel('K'))\n"
   ],
   "metadata": {
    "collapsed": false,
    "pycharm": {
     "name": "#%%\n"
    }
   }
  }
 ],
 "metadata": {
  "kernelspec": {
   "name": "pycharm-f57757a1",
   "language": "python",
   "display_name": "PyCharm (rs-via-gnn)"
  },
  "language_info": {
   "codemirror_mode": {
    "name": "ipython",
    "version": 2
   },
   "file_extension": ".py",
   "mimetype": "text/x-python",
   "name": "python",
   "nbconvert_exporter": "python",
   "pygments_lexer": "ipython2",
   "version": "2.7.6"
  }
 },
 "nbformat": 4,
 "nbformat_minor": 0
}