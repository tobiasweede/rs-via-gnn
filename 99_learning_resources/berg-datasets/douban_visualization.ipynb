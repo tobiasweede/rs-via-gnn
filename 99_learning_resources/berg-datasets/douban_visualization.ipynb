{
 "cells": [
  {
   "cell_type": "code",
   "execution_count": 6,
   "metadata": {
    "collapsed": true
   },
   "outputs": [],
   "source": [
    "from preprocessing import load_data_monti"
   ]
  },
  {
   "cell_type": "code",
   "execution_count": 7,
   "outputs": [
    {
     "name": "stdout",
     "output_type": "stream",
     "text": [
      "number of users =  2999\n",
      "number of item =  3000\n",
      "User features shape: (3000, 3000)\n",
      "Item features shape: (3000, 3000)\n"
     ]
    }
   ],
   "source": [
    "DATASET = 'douban'\n",
    "DATAPATH = '/home/weiss/rs_data/'\n",
    "TESTING = False\n",
    "\n",
    "if DATASET == 'flixster' or DATASET == 'douban' or DATASET == 'yahoo_music':\n",
    "    u_features, v_features, adj_train, train_labels, train_u_indices, train_v_indices, \\\n",
    "        val_labels, val_u_indices, val_v_indices, test_labels, \\\n",
    "        test_u_indices, test_v_indices, class_values = load_data_monti(DATASET, DATAPATH, TESTING)"
   ],
   "metadata": {
    "collapsed": false,
    "pycharm": {
     "name": "#%%\n"
    }
   }
  },
  {
   "cell_type": "code",
   "execution_count": 8,
   "outputs": [
    {
     "data": {
      "text/plain": "matrix([[0., 0., 0., ..., 0., 0., 0.],\n        [0., 0., 0., ..., 0., 0., 0.],\n        [0., 0., 0., ..., 0., 0., 0.],\n        ...,\n        [0., 0., 0., ..., 0., 0., 0.],\n        [0., 0., 0., ..., 0., 0., 0.],\n        [0., 0., 0., ..., 0., 0., 0.]], dtype=float32)"
     },
     "execution_count": 8,
     "metadata": {},
     "output_type": "execute_result"
    }
   ],
   "source": [
    "adj_train.todense()"
   ],
   "metadata": {
    "collapsed": false,
    "pycharm": {
     "name": "#%%\n"
    }
   }
  }
 ],
 "metadata": {
  "kernelspec": {
   "name": "pycharm-f57757a1",
   "language": "python",
   "display_name": "PyCharm (rs-via-gnn)"
  },
  "language_info": {
   "codemirror_mode": {
    "name": "ipython",
    "version": 2
   },
   "file_extension": ".py",
   "mimetype": "text/x-python",
   "name": "python",
   "nbconvert_exporter": "python",
   "pygments_lexer": "ipython2",
   "version": "2.7.6"
  }
 },
 "nbformat": 4,
 "nbformat_minor": 0
}