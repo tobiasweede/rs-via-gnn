{
 "cells": [
  {
   "cell_type": "code",
   "execution_count": 1,
   "metadata": {},
   "outputs": [],
   "source": [
    "# Own MovieLens experiments\n",
    "import os\n",
    "import pandas as pd\n",
    "import matplotlib.pyplot as plt\n",
    "import networkx as nx\n",
    "\n",
    "RANDOM = 2021"
   ]
  },
  {
   "cell_type": "code",
   "execution_count": 2,
   "metadata": {},
   "outputs": [
    {
     "name": "stdout",
     "output_type": "stream",
     "text": [
      "Available datasets:  ['ml-100k', 'ml-latest-small', 'ml-latest']\n",
      "You selected ml-100k\n"
     ]
    }
   ],
   "source": [
    "datasets = {\n",
    "    'ml-100k': '/home/weiss/rs_data/ml-100k/',\n",
    "    'ml-latest-small': '/home/weiss/rs_data/ml-latest-small/',\n",
    "    'ml-latest': '/home/weiss/rs_data/ml-latest/'\n",
    "}\n",
    "\n",
    "print('Available datasets: ', [key for key in datasets])\n",
    "#dt = input('Dataset name = ')\n",
    "#dt='ml-latest-small'\n",
    "dt='ml-100k'\n",
    "\n",
    "print('You selected {}'.format(dt))"
   ]
  },
  {
   "cell_type": "code",
   "execution_count": 3,
   "outputs": [
    {
     "name": "stdout",
     "output_type": "stream",
     "text": [
      "/home/weiss/rs_data/ml-100k/\n",
      "/\n",
      "    README\n",
      "    u2.test\n",
      "    u4.test\n",
      "    u2.base\n",
      "    allbut.pl\n",
      "    u3.base\n",
      "    u.data\n",
      "    u.occupation\n",
      "    ua.test\n",
      "    u5.base\n",
      "    u.genre\n",
      "    u3.test\n",
      "    ub.test\n",
      "    mku.sh\n",
      "    u.user\n",
      "    u1.test\n",
      "    ua.base\n",
      "    u1.base\n",
      "    u.item\n",
      "    u5.test\n",
      "    ub.base\n",
      "    u4.base\n",
      "    ml-100k.pkl\n",
      "    u.info\n",
      "processed/\n",
      "    test.csv\n",
      "    rX_val.csv\n",
      "    rX_test_ns.csv\n",
      "    rX_test.csv\n",
      "    train.csv\n",
      "    rX_train.csv\n",
      "    rX_val_ns.csv\n",
      "    rX_train_ns.csv\n",
      "    val.csv\n",
      "None\n"
     ]
    }
   ],
   "source": [
    "# Check structure\n",
    "def list_files(startpath):\n",
    "    print(startpath)\n",
    "    for root, dirs, files in os.walk(startpath):\n",
    "        level = root.replace(startpath, '').count(os.sep)\n",
    "        indent = ' ' * 4 * (level)\n",
    "        print('{}{}/'.format(indent, os.path.basename(root)))\n",
    "        subindent = ' ' * 4 * (level + 1)\n",
    "        for f in files:\n",
    "            print('{}{}'.format(subindent, f))\n",
    "dirs = [x[0] for x in os.walk(datasets[dt])]\n",
    "ml = filter(lambda dirName: dirName if ('ml' in dirName) else '', list(dirs))\n",
    "dt_dir_name= list(ml)[0]\n",
    "print(list_files(dt_dir_name))"
   ],
   "metadata": {
    "collapsed": false,
    "pycharm": {
     "name": "#%%\n"
    }
   }
  },
  {
   "cell_type": "code",
   "execution_count": 4,
   "metadata": {},
   "outputs": [
    {
     "data": {
      "text/plain": "  userId movieId  rating\n0   u269    i401       3\n1    u90    i497       5\n2   u925    i447       4\n3   u450    i832       2\n4   u901     i88       5",
      "text/html": "<div>\n<style scoped>\n    .dataframe tbody tr th:only-of-type {\n        vertical-align: middle;\n    }\n\n    .dataframe tbody tr th {\n        vertical-align: top;\n    }\n\n    .dataframe thead th {\n        text-align: right;\n    }\n</style>\n<table border=\"1\" class=\"dataframe\">\n  <thead>\n    <tr style=\"text-align: right;\">\n      <th></th>\n      <th>userId</th>\n      <th>movieId</th>\n      <th>rating</th>\n    </tr>\n  </thead>\n  <tbody>\n    <tr>\n      <th>0</th>\n      <td>u269</td>\n      <td>i401</td>\n      <td>3</td>\n    </tr>\n    <tr>\n      <th>1</th>\n      <td>u90</td>\n      <td>i497</td>\n      <td>5</td>\n    </tr>\n    <tr>\n      <th>2</th>\n      <td>u925</td>\n      <td>i447</td>\n      <td>4</td>\n    </tr>\n    <tr>\n      <th>3</th>\n      <td>u450</td>\n      <td>i832</td>\n      <td>2</td>\n    </tr>\n    <tr>\n      <th>4</th>\n      <td>u901</td>\n      <td>i88</td>\n      <td>5</td>\n    </tr>\n  </tbody>\n</table>\n</div>"
     },
     "execution_count": 4,
     "metadata": {},
     "output_type": "execute_result"
    }
   ],
   "source": [
    "# read data from CSV\n",
    "train = pd.read_csv(dt_dir_name + 'processed/' + 'train.csv', names=['userId', 'movieId', 'rating'])\n",
    "test = pd.read_csv(dt_dir_name + 'processed/' + 'test.csv', names=['userId', 'movieId', 'rating'])\n",
    "val = pd.read_csv(dt_dir_name + 'processed/' + 'val.csv', names=['userId', 'movieId', 'rating'])\n",
    "\n",
    "\n",
    "train['userId'] = 'u' + train['userId'].astype(str)\n",
    "train['movieId'] = 'i' + train['movieId'].astype(str)\n",
    "train.head()"
   ]
  },
  {
   "cell_type": "code",
   "execution_count": 5,
   "metadata": {
    "pycharm": {
     "name": "#%%\n"
    }
   },
   "outputs": [
    {
     "name": "stdout",
     "output_type": "stream",
     "text": [
      "Name: \n",
      "Type: Graph\n",
      "Number of nodes: 2588\n",
      "Number of edges: 80000\n",
      "Average degree:  61.8238\n"
     ]
    }
   ],
   "source": [
    "#Create a graph\n",
    "G = nx.Graph()\n",
    " \n",
    "#Add nodes\n",
    "G.add_nodes_from(train.userId, bipartite=0)\n",
    "G.add_nodes_from(train.movieId, bipartite=1)\n",
    " \n",
    "#Add weights (ratings) for edges\n",
    "G.add_weighted_edges_from([(userId, movieId, rating) for (userId, movieId, rating) \n",
    "              in train[['userId', 'movieId', 'rating']].to_numpy()])\n",
    "\n",
    "print(nx.info(G))"
   ]
  }
 ],
 "metadata": {
  "kernelspec": {
   "name": "pycharm-f57757a1",
   "language": "python",
   "display_name": "PyCharm (rs-via-gnn)"
  },
  "language_info": {
   "codemirror_mode": {
    "name": "ipython",
    "version": 3
   },
   "file_extension": ".py",
   "mimetype": "text/x-python",
   "name": "python",
   "nbconvert_exporter": "python",
   "pygments_lexer": "ipython3",
   "version": "3.7.9"
  }
 },
 "nbformat": 4,
 "nbformat_minor": 5
}