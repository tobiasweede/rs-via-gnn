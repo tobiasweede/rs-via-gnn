{
 "cells": [
  {
   "cell_type": "code",
   "execution_count": 4,
   "outputs": [],
   "source": [
    "import os.path as osp\n",
    "from pathlib import Path\n",
    "\n",
    "import torch\n",
    "import torch.nn.functional as F\n",
    "from torch_geometric.datasets import Planetoid\n",
    "import torch_geometric.transforms as T\n",
    "from torch_geometric.nn import GCNConv\n",
    "\n",
    "from torch.utils.tensorboard import SummaryWriter"
   ],
   "metadata": {
    "collapsed": false,
    "pycharm": {
     "name": "#%%\n"
    }
   }
  },
  {
   "cell_type": "code",
   "execution_count": 6,
   "outputs": [
    {
     "name": "stdout",
     "output_type": "stream",
     "text": [
      "Downloading https://github.com/kimiyoung/planetoid/raw/master/data/ind.cora.x\n",
      "Downloading https://github.com/kimiyoung/planetoid/raw/master/data/ind.cora.tx\n",
      "Downloading https://github.com/kimiyoung/planetoid/raw/master/data/ind.cora.allx\n",
      "Downloading https://github.com/kimiyoung/planetoid/raw/master/data/ind.cora.y\n",
      "Downloading https://github.com/kimiyoung/planetoid/raw/master/data/ind.cora.ty\n",
      "Downloading https://github.com/kimiyoung/planetoid/raw/master/data/ind.cora.ally\n",
      "Downloading https://github.com/kimiyoung/planetoid/raw/master/data/ind.cora.graph\n",
      "Downloading https://github.com/kimiyoung/planetoid/raw/master/data/ind.cora.test.index\n",
      "Processing...\n",
      "Done!\n"
     ]
    }
   ],
   "source": [
    "dataset = 'Cora'\n",
    "#path = osp.join(osp.dirname(osp.realpath(__file__)), '..', 'data', dataset)\n",
    "path = Path.cwd()\n",
    "dataset = Planetoid(path, dataset, transform=T.NormalizeFeatures())\n",
    "data = dataset[-1]"
   ],
   "metadata": {
    "collapsed": false,
    "pycharm": {
     "name": "#%%\n"
    }
   }
  },
  {
   "cell_type": "code",
   "execution_count": 11,
   "outputs": [],
   "source": [
    "class Net(torch.nn.Module):\n",
    "    def __init__(self):\n",
    "        super(Net, self).__init__()\n",
    "        self.conv0 = GCNConv(dataset.num_features, 16, cached=True)\n",
    "        self.conv1 = GCNConv(16, dataset.num_classes, cached=True)\n",
    "\n",
    "    def forward(self, x, edge_index):\n",
    "        x = F.relu(self.conv0(x, edge_index, None))\n",
    "        x = F.dropout(x, training=self.training)\n",
    "        x = self.conv1(x, edge_index, None)\n",
    "        return F.log_softmax(x, dim=0)"
   ],
   "metadata": {
    "collapsed": false,
    "pycharm": {
     "name": "#%%\n"
    }
   }
  },
  {
   "cell_type": "code",
   "execution_count": 17,
   "outputs": [],
   "source": [
    "device = torch.device('cuda' if torch.cuda.is_available() else 'cpu')\n",
    "model, data = Net().to(device), data.to(device)\n",
    "optimizer = torch.optim.Adam(model.parameters(), lr=1e-3, weight_decay=1e-4)"
   ],
   "metadata": {
    "collapsed": false,
    "pycharm": {
     "name": "#%%\n"
    }
   }
  },
  {
   "cell_type": "code",
   "execution_count": 18,
   "outputs": [],
   "source": [
    "def train():\n",
    "    model.train()\n",
    "    optimizer.zero_grad()\n",
    "    logits = model(data.x, data.edge_index)\n",
    "    loss = F.nll_loss(logits[data.train_mask], data.y[data.train_mask])\n",
    "    loss.backward()\n",
    "    optimizer.step()\n",
    "    return loss.item()"
   ],
   "metadata": {
    "collapsed": false,
    "pycharm": {
     "name": "#%%\n"
    }
   }
  },
  {
   "cell_type": "code",
   "execution_count": 22,
   "outputs": [],
   "source": [
    "@torch.no_grad()\n",
    "def test():\n",
    "    model.eval()\n",
    "    logits, accs = model(data.x, data.edge_index), []\n",
    "    for _, mask in data('train_mask', 'val_mask', 'test_mask'):\n",
    "        pred = logits[mask].max(1)[1]\n",
    "        acc = pred.eq(data.y[mask]).sum().item() / mask.sum().item()\n",
    "        accs.append(acc)\n",
    "    return accs"
   ],
   "metadata": {
    "collapsed": false,
    "pycharm": {
     "name": "#%%\n"
    }
   }
  },
  {
   "cell_type": "code",
   "execution_count": 23,
   "outputs": [],
   "source": [
    "model(data.x, data.edge_index)\n",
    "writer = SummaryWriter('runs/zkc-separation-pytorch-geometric')\n",
    "writer.add_graph(model, [data.x, data.edge_index])"
   ],
   "metadata": {
    "collapsed": false,
    "pycharm": {
     "name": "#%%\n"
    }
   }
  },
  {
   "cell_type": "code",
   "execution_count": 24,
   "outputs": [
    {
     "name": "stdout",
     "output_type": "stream",
     "text": [
      "Epoch: 00, Train: 0.2643, Val: 0.1980, Test: 0.1860\n",
      "Epoch: 01, Train: 0.3571, Val: 0.2460, Test: 0.2360\n",
      "Epoch: 02, Train: 0.4500, Val: 0.2880, Test: 0.2840\n",
      "Epoch: 03, Train: 0.5071, Val: 0.3120, Test: 0.3210\n",
      "Epoch: 04, Train: 0.5643, Val: 0.3500, Test: 0.3410\n",
      "Epoch: 05, Train: 0.5929, Val: 0.3780, Test: 0.3690\n",
      "Epoch: 06, Train: 0.6071, Val: 0.3940, Test: 0.3940\n",
      "Epoch: 07, Train: 0.6286, Val: 0.4140, Test: 0.4180\n",
      "Epoch: 08, Train: 0.6786, Val: 0.4260, Test: 0.4350\n",
      "Epoch: 09, Train: 0.7000, Val: 0.4540, Test: 0.4570\n",
      "Epoch: 10, Train: 0.7214, Val: 0.4760, Test: 0.4800\n",
      "Epoch: 11, Train: 0.7286, Val: 0.4880, Test: 0.4940\n",
      "Epoch: 12, Train: 0.7500, Val: 0.5040, Test: 0.5060\n",
      "Epoch: 13, Train: 0.7571, Val: 0.5080, Test: 0.5250\n",
      "Epoch: 14, Train: 0.7714, Val: 0.5200, Test: 0.5360\n",
      "Epoch: 15, Train: 0.7714, Val: 0.5340, Test: 0.5490\n",
      "Epoch: 16, Train: 0.7929, Val: 0.5440, Test: 0.5620\n",
      "Epoch: 17, Train: 0.8143, Val: 0.5600, Test: 0.5710\n",
      "Epoch: 18, Train: 0.8214, Val: 0.5820, Test: 0.5780\n",
      "Epoch: 19, Train: 0.8286, Val: 0.5840, Test: 0.5880\n",
      "Epoch: 20, Train: 0.8429, Val: 0.6000, Test: 0.5930\n",
      "Epoch: 21, Train: 0.8500, Val: 0.6060, Test: 0.6040\n",
      "Epoch: 22, Train: 0.8643, Val: 0.6120, Test: 0.6100\n",
      "Epoch: 23, Train: 0.8714, Val: 0.6160, Test: 0.6160\n",
      "Epoch: 24, Train: 0.8714, Val: 0.6220, Test: 0.6220\n",
      "Epoch: 25, Train: 0.8714, Val: 0.6220, Test: 0.6220\n",
      "Epoch: 26, Train: 0.8786, Val: 0.6260, Test: 0.6340\n",
      "Epoch: 27, Train: 0.8786, Val: 0.6260, Test: 0.6340\n",
      "Epoch: 28, Train: 0.8786, Val: 0.6320, Test: 0.6430\n",
      "Epoch: 29, Train: 0.8786, Val: 0.6320, Test: 0.6430\n",
      "Epoch: 30, Train: 0.8786, Val: 0.6380, Test: 0.6540\n",
      "Epoch: 31, Train: 0.8929, Val: 0.6460, Test: 0.6570\n",
      "Epoch: 32, Train: 0.8929, Val: 0.6500, Test: 0.6610\n",
      "Epoch: 33, Train: 0.8929, Val: 0.6520, Test: 0.6640\n",
      "Epoch: 34, Train: 0.8929, Val: 0.6540, Test: 0.6680\n",
      "Epoch: 35, Train: 0.8929, Val: 0.6560, Test: 0.6720\n",
      "Epoch: 36, Train: 0.8929, Val: 0.6560, Test: 0.6720\n",
      "Epoch: 37, Train: 0.8929, Val: 0.6620, Test: 0.6800\n",
      "Epoch: 38, Train: 0.9000, Val: 0.6640, Test: 0.6820\n",
      "Epoch: 39, Train: 0.9000, Val: 0.6680, Test: 0.6850\n",
      "Epoch: 40, Train: 0.9000, Val: 0.6680, Test: 0.6850\n",
      "Epoch: 41, Train: 0.9071, Val: 0.6740, Test: 0.6880\n",
      "Epoch: 42, Train: 0.9071, Val: 0.6740, Test: 0.6880\n",
      "Epoch: 43, Train: 0.9071, Val: 0.6740, Test: 0.6880\n",
      "Epoch: 44, Train: 0.9071, Val: 0.6740, Test: 0.6880\n",
      "Epoch: 45, Train: 0.9143, Val: 0.6740, Test: 0.6880\n",
      "Epoch: 46, Train: 0.9143, Val: 0.6740, Test: 0.6880\n",
      "Epoch: 47, Train: 0.9143, Val: 0.6740, Test: 0.6880\n",
      "Epoch: 48, Train: 0.9143, Val: 0.6740, Test: 0.6880\n",
      "Epoch: 49, Train: 0.9143, Val: 0.6760, Test: 0.6980\n",
      "Epoch: 50, Train: 0.9143, Val: 0.6780, Test: 0.7000\n",
      "Epoch: 51, Train: 0.9143, Val: 0.6800, Test: 0.7010\n",
      "Epoch: 52, Train: 0.9143, Val: 0.6800, Test: 0.7010\n",
      "Epoch: 53, Train: 0.9143, Val: 0.6800, Test: 0.7010\n",
      "Epoch: 54, Train: 0.9143, Val: 0.6800, Test: 0.7010\n",
      "Epoch: 55, Train: 0.9143, Val: 0.6840, Test: 0.7040\n",
      "Epoch: 56, Train: 0.9143, Val: 0.6880, Test: 0.7040\n",
      "Epoch: 57, Train: 0.9143, Val: 0.6900, Test: 0.7060\n",
      "Epoch: 58, Train: 0.9143, Val: 0.6920, Test: 0.7080\n",
      "Epoch: 59, Train: 0.9143, Val: 0.6920, Test: 0.7080\n",
      "Epoch: 60, Train: 0.9143, Val: 0.6920, Test: 0.7080\n",
      "Epoch: 61, Train: 0.9143, Val: 0.6940, Test: 0.7080\n",
      "Epoch: 62, Train: 0.9143, Val: 0.6940, Test: 0.7080\n",
      "Epoch: 63, Train: 0.9214, Val: 0.6940, Test: 0.7080\n",
      "Epoch: 64, Train: 0.9214, Val: 0.6960, Test: 0.7140\n",
      "Epoch: 65, Train: 0.9214, Val: 0.6960, Test: 0.7140\n",
      "Epoch: 66, Train: 0.9214, Val: 0.6960, Test: 0.7140\n",
      "Epoch: 67, Train: 0.9214, Val: 0.6960, Test: 0.7140\n",
      "Epoch: 68, Train: 0.9214, Val: 0.7000, Test: 0.7170\n",
      "Epoch: 69, Train: 0.9214, Val: 0.7000, Test: 0.7170\n",
      "Epoch: 70, Train: 0.9214, Val: 0.7000, Test: 0.7170\n",
      "Epoch: 71, Train: 0.9214, Val: 0.7000, Test: 0.7170\n",
      "Epoch: 72, Train: 0.9214, Val: 0.7000, Test: 0.7170\n",
      "Epoch: 73, Train: 0.9214, Val: 0.7000, Test: 0.7170\n",
      "Epoch: 74, Train: 0.9286, Val: 0.7000, Test: 0.7170\n",
      "Epoch: 75, Train: 0.9286, Val: 0.7020, Test: 0.7200\n",
      "Epoch: 76, Train: 0.9286, Val: 0.7020, Test: 0.7200\n",
      "Epoch: 77, Train: 0.9286, Val: 0.7020, Test: 0.7200\n",
      "Epoch: 78, Train: 0.9286, Val: 0.7020, Test: 0.7200\n",
      "Epoch: 79, Train: 0.9357, Val: 0.7020, Test: 0.7200\n",
      "Epoch: 80, Train: 0.9357, Val: 0.7020, Test: 0.7200\n",
      "Epoch: 81, Train: 0.9357, Val: 0.7020, Test: 0.7200\n",
      "Epoch: 82, Train: 0.9357, Val: 0.7020, Test: 0.7200\n",
      "Epoch: 83, Train: 0.9357, Val: 0.7020, Test: 0.7200\n",
      "Epoch: 84, Train: 0.9357, Val: 0.7020, Test: 0.7200\n",
      "Epoch: 85, Train: 0.9357, Val: 0.7040, Test: 0.7240\n",
      "Epoch: 86, Train: 0.9357, Val: 0.7040, Test: 0.7240\n",
      "Epoch: 87, Train: 0.9357, Val: 0.7040, Test: 0.7240\n",
      "Epoch: 88, Train: 0.9357, Val: 0.7040, Test: 0.7240\n",
      "Epoch: 89, Train: 0.9357, Val: 0.7040, Test: 0.7240\n",
      "Epoch: 90, Train: 0.9357, Val: 0.7060, Test: 0.7270\n",
      "Epoch: 91, Train: 0.9357, Val: 0.7060, Test: 0.7270\n",
      "Epoch: 92, Train: 0.9357, Val: 0.7060, Test: 0.7270\n",
      "Epoch: 93, Train: 0.9357, Val: 0.7060, Test: 0.7270\n",
      "Epoch: 94, Train: 0.9357, Val: 0.7060, Test: 0.7270\n",
      "Epoch: 95, Train: 0.9357, Val: 0.7080, Test: 0.7310\n",
      "Epoch: 96, Train: 0.9357, Val: 0.7080, Test: 0.7310\n",
      "Epoch: 97, Train: 0.9357, Val: 0.7080, Test: 0.7310\n",
      "Epoch: 98, Train: 0.9357, Val: 0.7080, Test: 0.7310\n",
      "Epoch: 99, Train: 0.9357, Val: 0.7080, Test: 0.7310\n",
      "Epoch: 100, Train: 0.9357, Val: 0.7080, Test: 0.7310\n",
      "Epoch: 101, Train: 0.9357, Val: 0.7100, Test: 0.7320\n",
      "Epoch: 102, Train: 0.9357, Val: 0.7100, Test: 0.7320\n",
      "Epoch: 103, Train: 0.9357, Val: 0.7100, Test: 0.7320\n",
      "Epoch: 104, Train: 0.9357, Val: 0.7100, Test: 0.7320\n",
      "Epoch: 105, Train: 0.9357, Val: 0.7100, Test: 0.7320\n",
      "Epoch: 106, Train: 0.9357, Val: 0.7120, Test: 0.7340\n",
      "Epoch: 107, Train: 0.9357, Val: 0.7120, Test: 0.7340\n",
      "Epoch: 108, Train: 0.9357, Val: 0.7120, Test: 0.7340\n",
      "Epoch: 109, Train: 0.9357, Val: 0.7120, Test: 0.7340\n",
      "Epoch: 110, Train: 0.9357, Val: 0.7120, Test: 0.7340\n",
      "Epoch: 111, Train: 0.9357, Val: 0.7120, Test: 0.7340\n",
      "Epoch: 112, Train: 0.9357, Val: 0.7120, Test: 0.7340\n",
      "Epoch: 113, Train: 0.9357, Val: 0.7120, Test: 0.7340\n",
      "Epoch: 114, Train: 0.9357, Val: 0.7120, Test: 0.7340\n",
      "Epoch: 115, Train: 0.9357, Val: 0.7120, Test: 0.7340\n",
      "Epoch: 116, Train: 0.9357, Val: 0.7120, Test: 0.7340\n",
      "Epoch: 117, Train: 0.9357, Val: 0.7140, Test: 0.7350\n",
      "Epoch: 118, Train: 0.9357, Val: 0.7140, Test: 0.7350\n",
      "Epoch: 119, Train: 0.9357, Val: 0.7140, Test: 0.7350\n",
      "Epoch: 120, Train: 0.9357, Val: 0.7140, Test: 0.7350\n",
      "Epoch: 121, Train: 0.9357, Val: 0.7140, Test: 0.7350\n",
      "Epoch: 122, Train: 0.9357, Val: 0.7160, Test: 0.7360\n",
      "Epoch: 123, Train: 0.9357, Val: 0.7160, Test: 0.7360\n",
      "Epoch: 124, Train: 0.9357, Val: 0.7160, Test: 0.7360\n",
      "Epoch: 125, Train: 0.9357, Val: 0.7180, Test: 0.7370\n",
      "Epoch: 126, Train: 0.9357, Val: 0.7180, Test: 0.7370\n",
      "Epoch: 127, Train: 0.9357, Val: 0.7180, Test: 0.7370\n",
      "Epoch: 128, Train: 0.9357, Val: 0.7180, Test: 0.7370\n",
      "Epoch: 129, Train: 0.9357, Val: 0.7180, Test: 0.7370\n",
      "Epoch: 130, Train: 0.9357, Val: 0.7180, Test: 0.7370\n",
      "Epoch: 131, Train: 0.9357, Val: 0.7180, Test: 0.7370\n",
      "Epoch: 132, Train: 0.9357, Val: 0.7180, Test: 0.7370\n",
      "Epoch: 133, Train: 0.9357, Val: 0.7180, Test: 0.7370\n",
      "Epoch: 134, Train: 0.9357, Val: 0.7180, Test: 0.7370\n",
      "Epoch: 135, Train: 0.9357, Val: 0.7180, Test: 0.7370\n",
      "Epoch: 136, Train: 0.9357, Val: 0.7180, Test: 0.7370\n",
      "Epoch: 137, Train: 0.9357, Val: 0.7180, Test: 0.7370\n",
      "Epoch: 138, Train: 0.9357, Val: 0.7180, Test: 0.7370\n",
      "Epoch: 139, Train: 0.9357, Val: 0.7180, Test: 0.7370\n",
      "Epoch: 140, Train: 0.9357, Val: 0.7180, Test: 0.7370\n",
      "Epoch: 141, Train: 0.9357, Val: 0.7180, Test: 0.7370\n",
      "Epoch: 142, Train: 0.9357, Val: 0.7180, Test: 0.7370\n",
      "Epoch: 143, Train: 0.9357, Val: 0.7180, Test: 0.7370\n",
      "Epoch: 144, Train: 0.9357, Val: 0.7180, Test: 0.7370\n",
      "Epoch: 145, Train: 0.9357, Val: 0.7180, Test: 0.7370\n",
      "Epoch: 146, Train: 0.9357, Val: 0.7180, Test: 0.7370\n",
      "Epoch: 147, Train: 0.9357, Val: 0.7180, Test: 0.7370\n",
      "Epoch: 148, Train: 0.9357, Val: 0.7180, Test: 0.7370\n",
      "Epoch: 149, Train: 0.9357, Val: 0.7180, Test: 0.7370\n",
      "Epoch: 150, Train: 0.9357, Val: 0.7180, Test: 0.7370\n",
      "Epoch: 151, Train: 0.9357, Val: 0.7180, Test: 0.7370\n",
      "Epoch: 152, Train: 0.9357, Val: 0.7180, Test: 0.7370\n",
      "Epoch: 153, Train: 0.9357, Val: 0.7180, Test: 0.7370\n",
      "Epoch: 154, Train: 0.9357, Val: 0.7180, Test: 0.7370\n",
      "Epoch: 155, Train: 0.9357, Val: 0.7180, Test: 0.7370\n",
      "Epoch: 156, Train: 0.9357, Val: 0.7180, Test: 0.7370\n",
      "Epoch: 157, Train: 0.9357, Val: 0.7180, Test: 0.7370\n",
      "Epoch: 158, Train: 0.9357, Val: 0.7180, Test: 0.7370\n",
      "Epoch: 159, Train: 0.9357, Val: 0.7180, Test: 0.7370\n",
      "Epoch: 160, Train: 0.9357, Val: 0.7180, Test: 0.7370\n",
      "Epoch: 161, Train: 0.9357, Val: 0.7180, Test: 0.7370\n",
      "Epoch: 162, Train: 0.9357, Val: 0.7180, Test: 0.7370\n",
      "Epoch: 163, Train: 0.9357, Val: 0.7180, Test: 0.7370\n",
      "Epoch: 164, Train: 0.9357, Val: 0.7180, Test: 0.7370\n",
      "Epoch: 165, Train: 0.9357, Val: 0.7180, Test: 0.7370\n",
      "Epoch: 166, Train: 0.9357, Val: 0.7180, Test: 0.7370\n",
      "Epoch: 167, Train: 0.9357, Val: 0.7180, Test: 0.7370\n",
      "Epoch: 168, Train: 0.9357, Val: 0.7180, Test: 0.7370\n",
      "Epoch: 169, Train: 0.9357, Val: 0.7180, Test: 0.7370\n",
      "Epoch: 170, Train: 0.9357, Val: 0.7180, Test: 0.7370\n",
      "Epoch: 171, Train: 0.9357, Val: 0.7180, Test: 0.7370\n",
      "Epoch: 172, Train: 0.9357, Val: 0.7180, Test: 0.7370\n",
      "Epoch: 173, Train: 0.9357, Val: 0.7180, Test: 0.7370\n",
      "Epoch: 174, Train: 0.9357, Val: 0.7200, Test: 0.7480\n",
      "Epoch: 175, Train: 0.9357, Val: 0.7200, Test: 0.7480\n",
      "Epoch: 176, Train: 0.9357, Val: 0.7200, Test: 0.7480\n",
      "Epoch: 177, Train: 0.9357, Val: 0.7200, Test: 0.7480\n",
      "Epoch: 178, Train: 0.9357, Val: 0.7200, Test: 0.7480\n",
      "Epoch: 179, Train: 0.9357, Val: 0.7200, Test: 0.7480\n",
      "Epoch: 180, Train: 0.9357, Val: 0.7200, Test: 0.7480\n",
      "Epoch: 181, Train: 0.9429, Val: 0.7200, Test: 0.7480\n",
      "Epoch: 182, Train: 0.9429, Val: 0.7200, Test: 0.7480\n",
      "Epoch: 183, Train: 0.9429, Val: 0.7200, Test: 0.7480\n",
      "Epoch: 184, Train: 0.9429, Val: 0.7200, Test: 0.7480\n",
      "Epoch: 185, Train: 0.9429, Val: 0.7200, Test: 0.7480\n",
      "Epoch: 186, Train: 0.9429, Val: 0.7200, Test: 0.7480\n",
      "Epoch: 187, Train: 0.9429, Val: 0.7220, Test: 0.7530\n",
      "Epoch: 188, Train: 0.9429, Val: 0.7220, Test: 0.7530\n",
      "Epoch: 189, Train: 0.9429, Val: 0.7220, Test: 0.7530\n",
      "Epoch: 190, Train: 0.9429, Val: 0.7220, Test: 0.7530\n",
      "Epoch: 191, Train: 0.9429, Val: 0.7220, Test: 0.7530\n",
      "Epoch: 192, Train: 0.9429, Val: 0.7220, Test: 0.7530\n",
      "Epoch: 193, Train: 0.9429, Val: 0.7220, Test: 0.7530\n",
      "Epoch: 194, Train: 0.9429, Val: 0.7220, Test: 0.7530\n",
      "Epoch: 195, Train: 0.9429, Val: 0.7220, Test: 0.7530\n",
      "Epoch: 196, Train: 0.9429, Val: 0.7220, Test: 0.7530\n",
      "Epoch: 197, Train: 0.9429, Val: 0.7220, Test: 0.7530\n",
      "Epoch: 198, Train: 0.9429, Val: 0.7220, Test: 0.7530\n",
      "Epoch: 199, Train: 0.9429, Val: 0.7220, Test: 0.7530\n",
      "Epoch: 200, Train: 0.9429, Val: 0.7220, Test: 0.7530\n"
     ]
    }
   ],
   "source": [
    "best_val_acc = test_acc = -1\n",
    "for epoch in range(0, 201):\n",
    "    train_loss = train()\n",
    "    train_acc, val_acc, tmp_test_acc = test()\n",
    "    if val_acc > best_val_acc:\n",
    "        best_val_acc = val_acc\n",
    "        test_acc = tmp_test_acc\n",
    "    log = 'Epoch: {:02d}, Train: {:.4f}, Val: {:.4f}, Test: {:.4f}'\n",
    "    print(log.format(epoch, train_acc, best_val_acc, test_acc))\n",
    "\n",
    "    writer.add_scalar('Loss/train', train_loss, epoch)\n",
    "    writer.add_scalar('Accuracy/train', train_acc, epoch)\n",
    "    writer.add_scalar('Accuracy/val', val_acc, epoch)\n",
    "    writer.add_scalar('Accuracy/test', test_acc, epoch)"
   ],
   "metadata": {
    "collapsed": false,
    "pycharm": {
     "name": "#%%\n"
    }
   }
  },
  {
   "cell_type": "code",
   "execution_count": null,
   "outputs": [],
   "source": [],
   "metadata": {
    "collapsed": false,
    "pycharm": {
     "name": "#%%\n"
    }
   }
  }
 ],
 "metadata": {
  "kernelspec": {
   "name": "pycharm-f57757a1",
   "language": "python",
   "display_name": "PyCharm (rs-via-gnn)"
  },
  "language_info": {
   "codemirror_mode": {
    "name": "ipython",
    "version": 3
   },
   "file_extension": ".py",
   "mimetype": "text/x-python",
   "name": "python",
   "nbconvert_exporter": "python",
   "pygments_lexer": "ipython3",
   "version": "3.9.2"
  }
 },
 "nbformat": 4,
 "nbformat_minor": 5
}