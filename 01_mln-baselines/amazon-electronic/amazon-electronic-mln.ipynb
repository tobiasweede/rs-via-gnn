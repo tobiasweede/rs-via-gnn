{
 "cells": [
  {
   "cell_type": "markdown",
   "source": [
    "# Amazon Electronic MLN Recommendation via PyTorch\n",
    "\n",
    "adapted from https://github.com/fastai/fastai"
   ],
   "metadata": {
    "collapsed": false
   }
  },
  {
   "cell_type": "code",
   "execution_count": 15,
   "outputs": [],
   "source": [
    "import time\n",
    "import copy\n",
    "import math\n",
    "import pickle\n",
    "from itertools import zip_longest\n",
    "\n",
    "import matplotlib.pyplot as plt\n",
    "import numpy as np\n",
    "import pandas as pd\n",
    "import torch\n",
    "from sklearn.model_selection import train_test_split\n",
    "from torch import nn\n",
    "from torch import optim\n",
    "\n",
    "figure_path = '/home/weiss/git/thesis/doc/figures/'"
   ],
   "metadata": {
    "collapsed": false,
    "pycharm": {
     "name": "#%%\n"
    }
   }
  },
  {
   "cell_type": "code",
   "execution_count": 16,
   "outputs": [],
   "source": [
    "def set_random_seed(state=1):\n",
    "    gens = (np.random.seed, torch.manual_seed, torch.cuda.manual_seed)\n",
    "    for set_state in gens:\n",
    "        set_state(state)\n",
    "\n",
    "RANDOM_STATE = 2021\n",
    "set_random_seed(RANDOM_STATE)\n",
    "\n",
    "DIR = '/home/weiss/rs_data/amazon-electronic-product-recommendation/'"
   ],
   "metadata": {
    "collapsed": false,
    "pycharm": {
     "name": "#%%\n"
    }
   }
  },
  {
   "cell_type": "code",
   "execution_count": 17,
   "outputs": [],
   "source": [
    "dataset = 'amazon'\n",
    "# pick one of the available folders\n",
    "ratings = pd.read_pickle(DIR+'amazon-electronic-ratings.pkl')"
   ],
   "metadata": {
    "collapsed": false,
    "pycharm": {
     "name": "#%%\n"
    }
   }
  },
  {
   "cell_type": "code",
   "execution_count": 18,
   "outputs": [
    {
     "data": {
      "text/plain": "            user_id     item_id  rating\n222  A3MV1KKHX51FYT  0380709473     4.0\n306  A2I2KPNJDQ9SL0  0511189877     5.0\n380  A2DFM26VLNVYNY  0511189877     5.0\n649  A34GB2ZA1JLGND  0594033926     5.0\n743   AT09WGFUM934H  0594481902     3.0",
      "text/html": "<div>\n<style scoped>\n    .dataframe tbody tr th:only-of-type {\n        vertical-align: middle;\n    }\n\n    .dataframe tbody tr th {\n        vertical-align: top;\n    }\n\n    .dataframe thead th {\n        text-align: right;\n    }\n</style>\n<table border=\"1\" class=\"dataframe\">\n  <thead>\n    <tr style=\"text-align: right;\">\n      <th></th>\n      <th>user_id</th>\n      <th>item_id</th>\n      <th>rating</th>\n    </tr>\n  </thead>\n  <tbody>\n    <tr>\n      <th>222</th>\n      <td>A3MV1KKHX51FYT</td>\n      <td>0380709473</td>\n      <td>4.0</td>\n    </tr>\n    <tr>\n      <th>306</th>\n      <td>A2I2KPNJDQ9SL0</td>\n      <td>0511189877</td>\n      <td>5.0</td>\n    </tr>\n    <tr>\n      <th>380</th>\n      <td>A2DFM26VLNVYNY</td>\n      <td>0511189877</td>\n      <td>5.0</td>\n    </tr>\n    <tr>\n      <th>649</th>\n      <td>A34GB2ZA1JLGND</td>\n      <td>0594033926</td>\n      <td>5.0</td>\n    </tr>\n    <tr>\n      <th>743</th>\n      <td>AT09WGFUM934H</td>\n      <td>0594481902</td>\n      <td>3.0</td>\n    </tr>\n  </tbody>\n</table>\n</div>"
     },
     "execution_count": 18,
     "metadata": {},
     "output_type": "execute_result"
    }
   ],
   "source": [
    "ratings.head()"
   ],
   "metadata": {
    "collapsed": false,
    "pycharm": {
     "name": "#%%\n"
    }
   }
  },
  {
   "cell_type": "code",
   "execution_count": 19,
   "outputs": [
    {
     "name": "stdout",
     "output_type": "stream",
     "text": [
      "[4. 5. 3. 2. 1.]\n"
     ]
    }
   ],
   "source": [
    "print(ratings['rating'].unique())"
   ],
   "metadata": {
    "collapsed": false,
    "pycharm": {
     "name": "#%%\n"
    }
   }
  },
  {
   "cell_type": "code",
   "execution_count": 20,
   "outputs": [
    {
     "name": "stdout",
     "output_type": "stream",
     "text": [
      "Embeddings: 5143 users, 115961 items\n",
      "Dataset shape: (394059, 2)\n",
      "Target shape: (394059,)\n",
      "     user_id  item_id\n",
      "222        0        0\n",
      "306        1        1\n",
      "380        2        1\n",
      "649        3        2\n",
      "743        4        3\n",
      "222    4\n",
      "306    5\n",
      "380    5\n",
      "649    5\n",
      "743    3\n",
      "Name: rating, dtype: int64\n"
     ]
    }
   ],
   "source": [
    "def create_dataset(ratings, top=None):\n",
    "    unique_users = ratings.user_id.unique()\n",
    "    user_to_index = {old: new for new, old in enumerate(unique_users)}\n",
    "    new_users = ratings.user_id.map(user_to_index)\n",
    "\n",
    "    unique_items = ratings.item_id.unique()\n",
    "    item_to_index = {old: new for new, old in enumerate(unique_items)}\n",
    "    new_items = ratings.item_id.map(item_to_index)\n",
    "\n",
    "    n_users = unique_users.shape[0]\n",
    "    n_items = unique_items.shape[0]\n",
    "\n",
    "    X = pd.DataFrame({'user_id': new_users, 'item_id': new_items})\n",
    "    y = ratings['rating'].astype(np.int)\n",
    "    return (n_users, n_items), (X, y), (user_to_index, item_to_index)\n",
    "\n",
    "(n, m), (X, y), _ = create_dataset(ratings)\n",
    "print(f'Embeddings: {n} users, {m} items')\n",
    "print(f'Dataset shape: {X.shape}')\n",
    "print(f'Target shape: {y.shape}')\n",
    "print(X.head())\n",
    "print(y.head())"
   ],
   "metadata": {
    "collapsed": false,
    "pycharm": {
     "name": "#%%\n"
    }
   }
  },
  {
   "cell_type": "code",
   "execution_count": 21,
   "outputs": [],
   "source": [
    "X_train, X_valid, y_train, y_valid = train_test_split(X, y, test_size=0.4, random_state=RANDOM_STATE)\n",
    "X_valid, X_test, y_valid, y_test = train_test_split(X_valid, y_valid, test_size=0.5, random_state=RANDOM_STATE)\n",
    "datasets = {'train': (X_train, y_train), 'val': (X_valid, y_valid), 'test': (X_test, y_test)}\n",
    "dataset_sizes = {'train': len(X_train), 'val': len(X_valid), 'test': len(X_test)}"
   ],
   "metadata": {
    "collapsed": false,
    "pycharm": {
     "name": "#%%\n"
    }
   }
  },
  {
   "cell_type": "code",
   "execution_count": 22,
   "outputs": [],
   "source": [
    "class RatingsIterator:\n",
    "\n",
    "    def __init__(self, X, y, batch_size=32, shuffle=True):\n",
    "        X, y = np.asarray(X), np.asarray(y)\n",
    "        if shuffle:\n",
    "            index = np.random.permutation(X.shape[0])\n",
    "            X, y = X[index], y[index]\n",
    "        self.X = X\n",
    "        self.y = y\n",
    "        self.batch_size = batch_size\n",
    "        self.shuffle = shuffle\n",
    "        self.n_batches = int(math.ceil(X.shape[0] // batch_size))\n",
    "        self._current = 0\n",
    "\n",
    "    def __iter__(self):\n",
    "        return self\n",
    "\n",
    "    def __next__(self):\n",
    "        return self.next()\n",
    "\n",
    "    def next(self):\n",
    "        if self._current >= self.n_batches:\n",
    "            raise StopIteration()\n",
    "        k = self._current\n",
    "        self._current += 1\n",
    "        bs = self.batch_size\n",
    "        return self.X[k*bs:(k + 1)*bs], self.y[k*bs:(k + 1)*bs]"
   ],
   "metadata": {
    "collapsed": false,
    "pycharm": {
     "name": "#%%\n"
    }
   }
  },
  {
   "cell_type": "code",
   "execution_count": 23,
   "outputs": [],
   "source": [
    "def batches(X, y, bs=32, shuffle=True):\n",
    "    for xb, yb in RatingsIterator(X, y, bs, shuffle):\n",
    "        xb = torch.LongTensor(xb)\n",
    "        yb = torch.FloatTensor(yb)\n",
    "        yield xb, yb.view(-1, 1)"
   ],
   "metadata": {
    "collapsed": false,
    "pycharm": {
     "name": "#%%\n"
    }
   }
  },
  {
   "cell_type": "code",
   "execution_count": 24,
   "outputs": [],
   "source": [
    "class RecommenderNet(nn.Module):\n",
    "    \"\"\"\n",
    "    Creates dense MLN with embedding layers.\n",
    "\n",
    "    Args:\n",
    "        n_users:\n",
    "            Number of unique users in the dataset.\n",
    "\n",
    "        n_items:\n",
    "            Number of unique items in the dataset.\n",
    "\n",
    "        n_factors:\n",
    "            Number of columns in the embeddings matrix.\n",
    "\n",
    "        embedding_dropout:\n",
    "            Dropout rate to apply right after embeddings layer.\n",
    "\n",
    "        hidden:\n",
    "            A single integer or a list of integers defining the number of\n",
    "            units in hidden layer(s).\n",
    "\n",
    "        dropouts:\n",
    "            A single integer or a list of integers defining the dropout\n",
    "            layers rates applied right after each of hidden layers.\n",
    "\n",
    "    \"\"\"\n",
    "    def __init__(self, n_users, n_items,\n",
    "                 n_factors=50, embedding_dropout=0.3,\n",
    "                 hidden=10, dropouts=0.3):\n",
    "\n",
    "        super().__init__()\n",
    "        hidden = get_list(hidden)\n",
    "        dropouts = get_list(dropouts)\n",
    "        n_last = hidden[-1]\n",
    "\n",
    "        def gen_layers(n_in):\n",
    "            \"\"\"\n",
    "            A generator that yields a sequence of hidden layers and\n",
    "            their activations/dropouts.\n",
    "\n",
    "            Note that the function captures `hidden` and `dropouts`\n",
    "            values from the outer scope.\n",
    "            \"\"\"\n",
    "            nonlocal hidden, dropouts\n",
    "            assert len(dropouts) <= len(hidden)\n",
    "\n",
    "            for n_out, rate in zip_longest(hidden, dropouts):\n",
    "                yield nn.Linear(n_in, n_out)\n",
    "                yield self.activation\n",
    "                if rate is not None and rate > 0.:\n",
    "                    yield nn.Dropout(rate)\n",
    "                n_in = n_out\n",
    "\n",
    "        self.u = nn.Embedding(n_users, n_factors)\n",
    "        self.m = nn.Embedding(n_items, n_factors)\n",
    "        self.drop = nn.Dropout(embedding_dropout)\n",
    "        self.activation = nn.Sigmoid()\n",
    "        self.hidden = nn.Sequential(*list(gen_layers(n_factors * 2)))\n",
    "        self.fc = nn.Linear(n_last, 1)\n",
    "        self._init()\n",
    "\n",
    "    def forward(self, users, items, minmax=None):\n",
    "        features = torch.cat([self.u(users), self.m(items)], dim=1)\n",
    "        x = self.drop(features)\n",
    "        x = self.hidden(x)\n",
    "        out = self.activation(self.fc(x))\n",
    "        #out = self.relu(self.fc(x))  # relu delivers worse rmse\n",
    "        if minmax is not None:\n",
    "            min_rating, max_rating = minmax\n",
    "            out = out*(max_rating - min_rating + 1) + min_rating - 0.5\n",
    "        return out\n",
    "\n",
    "    def _init(self):\n",
    "        \"\"\"\n",
    "        Setup embeddings and hidden layers with reasonable initial values.\n",
    "        \"\"\"\n",
    "\n",
    "        def init(m):\n",
    "            if type(m) == nn.Linear:\n",
    "                torch.nn.init.xavier_uniform_(m.weight)\n",
    "                m.bias.data.fill_(0.01)\n",
    "\n",
    "        self.u.weight.data.uniform_(-0.05, 0.05)\n",
    "        self.m.weight.data.uniform_(-0.05, 0.05)\n",
    "        self.hidden.apply(init)\n",
    "        init(self.fc)\n",
    "\n",
    "\n",
    "def get_list(n):\n",
    "    if isinstance(n, (int, float)):\n",
    "        return [n]\n",
    "    elif hasattr(n, '__iter__'):\n",
    "        return list(n)\n",
    "    raise TypeError('layers configuraiton should be a single number or a list of numbers')"
   ],
   "metadata": {
    "collapsed": false,
    "pycharm": {
     "name": "#%%\n"
    }
   }
  },
  {
   "cell_type": "code",
   "execution_count": 25,
   "outputs": [
    {
     "data": {
      "text/plain": "(1.0, 5.0)"
     },
     "execution_count": 25,
     "metadata": {},
     "output_type": "execute_result"
    }
   ],
   "source": [
    "minmax = float(ratings.rating.min()), float(ratings.rating.max())\n",
    "minmax"
   ],
   "metadata": {
    "collapsed": false,
    "pycharm": {
     "name": "#%%\n"
    }
   }
  },
  {
   "cell_type": "code",
   "execution_count": 26,
   "outputs": [],
   "source": [
    "# small net\n",
    "\n",
    "start = time.time()\n",
    "net = RecommenderNet(\n",
    "    n_users=n, n_items=m,\n",
    "    n_factors=10, hidden=[10],\n",
    "    embedding_dropout=0.05, dropouts=[0.3])"
   ],
   "metadata": {
    "collapsed": false,
    "pycharm": {
     "name": "#%%\n"
    }
   }
  },
  {
   "cell_type": "code",
   "execution_count": 27,
   "outputs": [],
   "source": [
    "lr = 1e-3\n",
    "wd = 1e-5\n",
    "bs = 4096\n",
    "n_epochs = 300\n",
    "patience = 300\n",
    "no_improvements = 0\n",
    "best_loss = np.inf\n",
    "best_weights = None\n",
    "history = []\n",
    "lr_history = []\n",
    "\n",
    "device = torch.device('cuda:0' if torch.cuda.is_available() else 'cpu')\n",
    "\n",
    "net.to(device)\n",
    "criterion = nn.MSELoss(reduction='sum')\n",
    "optimizer = optim.Adam(net.parameters(), lr=lr, weight_decay=wd)"
   ],
   "metadata": {
    "collapsed": false,
    "pycharm": {
     "name": "#%%\n"
    }
   }
  },
  {
   "cell_type": "code",
   "execution_count": 28,
   "outputs": [
    {
     "name": "stdout",
     "output_type": "stream",
     "text": [
      "loss improvement on epoch: 1\n",
      "[001/300] train: 1.3160 - val: 1.2635\n",
      "loss improvement on epoch: 2\n",
      "[002/300] train: 1.2368 - val: 1.2165\n",
      "loss improvement on epoch: 3\n",
      "[003/300] train: 1.1792 - val: 1.1675\n",
      "loss improvement on epoch: 4\n",
      "[004/300] train: 1.1065 - val: 1.1171\n",
      "loss improvement on epoch: 5\n",
      "[005/300] train: 1.0298 - val: 1.0818\n",
      "loss improvement on epoch: 6\n",
      "[006/300] train: 0.9602 - val: 1.0514\n",
      "loss improvement on epoch: 7\n",
      "[007/300] train: 0.8960 - val: 1.0449\n",
      "[008/300] train: 0.8417 - val: 1.0455\n",
      "[009/300] train: 0.7966 - val: 1.0553\n",
      "[010/300] train: 0.7598 - val: 1.0680\n",
      "[011/300] train: 0.7252 - val: 1.0817\n",
      "[012/300] train: 0.6998 - val: 1.0927\n",
      "[013/300] train: 0.6793 - val: 1.1051\n",
      "[014/300] train: 0.6602 - val: 1.1163\n",
      "[015/300] train: 0.6453 - val: 1.1239\n",
      "[016/300] train: 0.6369 - val: 1.1324\n",
      "[017/300] train: 0.6240 - val: 1.1380\n",
      "[018/300] train: 0.6148 - val: 1.1401\n",
      "[019/300] train: 0.6064 - val: 1.1427\n",
      "[020/300] train: 0.6026 - val: 1.1416\n",
      "[021/300] train: 0.5940 - val: 1.1486\n",
      "[022/300] train: 0.5922 - val: 1.1515\n",
      "[023/300] train: 0.5842 - val: 1.1525\n",
      "[024/300] train: 0.5804 - val: 1.1480\n",
      "[025/300] train: 0.5746 - val: 1.1505\n",
      "[026/300] train: 0.5720 - val: 1.1563\n",
      "[027/300] train: 0.5672 - val: 1.1556\n",
      "[028/300] train: 0.5638 - val: 1.1604\n",
      "[029/300] train: 0.5605 - val: 1.1544\n",
      "[030/300] train: 0.5557 - val: 1.1543\n",
      "[031/300] train: 0.5512 - val: 1.1615\n",
      "[032/300] train: 0.5503 - val: 1.1614\n",
      "[033/300] train: 0.5471 - val: 1.1584\n",
      "[034/300] train: 0.5446 - val: 1.1645\n",
      "[035/300] train: 0.5396 - val: 1.1631\n",
      "[036/300] train: 0.5351 - val: 1.1618\n",
      "[037/300] train: 0.5373 - val: 1.1630\n",
      "[038/300] train: 0.5310 - val: 1.1704\n",
      "[039/300] train: 0.5318 - val: 1.1678\n",
      "[040/300] train: 0.5269 - val: 1.1713\n",
      "[041/300] train: 0.5261 - val: 1.1694\n",
      "[042/300] train: 0.5220 - val: 1.1697\n",
      "[043/300] train: 0.5195 - val: 1.1734\n",
      "[044/300] train: 0.5187 - val: 1.1716\n",
      "[045/300] train: 0.5171 - val: 1.1742\n",
      "[046/300] train: 0.5155 - val: 1.1733\n",
      "[047/300] train: 0.5118 - val: 1.1784\n",
      "[048/300] train: 0.5104 - val: 1.1795\n",
      "[049/300] train: 0.5083 - val: 1.1764\n",
      "[050/300] train: 0.5067 - val: 1.1845\n",
      "[051/300] train: 0.5045 - val: 1.1821\n",
      "[052/300] train: 0.5010 - val: 1.1850\n",
      "[053/300] train: 0.5021 - val: 1.1855\n",
      "[054/300] train: 0.4989 - val: 1.1932\n",
      "[055/300] train: 0.4986 - val: 1.1878\n",
      "[056/300] train: 0.4969 - val: 1.1945\n",
      "[057/300] train: 0.4936 - val: 1.1909\n",
      "[058/300] train: 0.4905 - val: 1.2003\n",
      "[059/300] train: 0.4894 - val: 1.1965\n",
      "[060/300] train: 0.4872 - val: 1.2045\n",
      "[061/300] train: 0.4873 - val: 1.2062\n",
      "[062/300] train: 0.4849 - val: 1.2087\n",
      "[063/300] train: 0.4818 - val: 1.2143\n",
      "[064/300] train: 0.4799 - val: 1.2129\n",
      "[065/300] train: 0.4772 - val: 1.2182\n",
      "[066/300] train: 0.4758 - val: 1.2215\n",
      "[067/300] train: 0.4740 - val: 1.2276\n",
      "[068/300] train: 0.4739 - val: 1.2251\n",
      "[069/300] train: 0.4709 - val: 1.2283\n",
      "[070/300] train: 0.4700 - val: 1.2363\n",
      "[071/300] train: 0.4681 - val: 1.2340\n",
      "[072/300] train: 0.4666 - val: 1.2385\n",
      "[073/300] train: 0.4657 - val: 1.2441\n",
      "[074/300] train: 0.4631 - val: 1.2499\n",
      "[075/300] train: 0.4631 - val: 1.2458\n",
      "[076/300] train: 0.4632 - val: 1.2504\n",
      "[077/300] train: 0.4615 - val: 1.2556\n",
      "[078/300] train: 0.4597 - val: 1.2584\n",
      "[079/300] train: 0.4584 - val: 1.2625\n",
      "[080/300] train: 0.4572 - val: 1.2642\n",
      "[081/300] train: 0.4567 - val: 1.2689\n",
      "[082/300] train: 0.4541 - val: 1.2673\n",
      "[083/300] train: 0.4532 - val: 1.2763\n",
      "[084/300] train: 0.4529 - val: 1.2789\n",
      "[085/300] train: 0.4522 - val: 1.2792\n",
      "[086/300] train: 0.4493 - val: 1.2799\n",
      "[087/300] train: 0.4502 - val: 1.2882\n",
      "[088/300] train: 0.4497 - val: 1.2930\n",
      "[089/300] train: 0.4449 - val: 1.2929\n",
      "[090/300] train: 0.4437 - val: 1.2954\n",
      "[091/300] train: 0.4456 - val: 1.3004\n",
      "[092/300] train: 0.4423 - val: 1.3021\n",
      "[093/300] train: 0.4421 - val: 1.3042\n",
      "[094/300] train: 0.4401 - val: 1.3076\n",
      "[095/300] train: 0.4391 - val: 1.3180\n",
      "[096/300] train: 0.4385 - val: 1.3102\n",
      "[097/300] train: 0.4375 - val: 1.3089\n",
      "[098/300] train: 0.4355 - val: 1.3144\n",
      "[099/300] train: 0.4331 - val: 1.3206\n",
      "[100/300] train: 0.4328 - val: 1.3245\n",
      "[101/300] train: 0.4325 - val: 1.3189\n",
      "[102/300] train: 0.4314 - val: 1.3285\n",
      "[103/300] train: 0.4311 - val: 1.3341\n",
      "[104/300] train: 0.4300 - val: 1.3363\n",
      "[105/300] train: 0.4267 - val: 1.3354\n",
      "[106/300] train: 0.4258 - val: 1.3345\n",
      "[107/300] train: 0.4257 - val: 1.3388\n",
      "[108/300] train: 0.4225 - val: 1.3399\n",
      "[109/300] train: 0.4228 - val: 1.3467\n",
      "[110/300] train: 0.4224 - val: 1.3500\n",
      "[111/300] train: 0.4214 - val: 1.3453\n",
      "[112/300] train: 0.4181 - val: 1.3559\n",
      "[113/300] train: 0.4176 - val: 1.3540\n",
      "[114/300] train: 0.4171 - val: 1.3555\n",
      "[115/300] train: 0.4168 - val: 1.3604\n",
      "[116/300] train: 0.4152 - val: 1.3678\n",
      "[117/300] train: 0.4141 - val: 1.3630\n",
      "[118/300] train: 0.4126 - val: 1.3661\n",
      "[119/300] train: 0.4138 - val: 1.3680\n",
      "[120/300] train: 0.4118 - val: 1.3691\n",
      "[121/300] train: 0.4104 - val: 1.3721\n",
      "[122/300] train: 0.4095 - val: 1.3728\n",
      "[123/300] train: 0.4101 - val: 1.3744\n",
      "[124/300] train: 0.4056 - val: 1.3745\n",
      "[125/300] train: 0.4064 - val: 1.3819\n",
      "[126/300] train: 0.4060 - val: 1.3842\n",
      "[127/300] train: 0.4056 - val: 1.3807\n",
      "[128/300] train: 0.4044 - val: 1.3887\n",
      "[129/300] train: 0.4037 - val: 1.3843\n",
      "[130/300] train: 0.4035 - val: 1.3915\n",
      "[131/300] train: 0.4020 - val: 1.4012\n",
      "[132/300] train: 0.4012 - val: 1.3956\n",
      "[133/300] train: 0.3995 - val: 1.3959\n",
      "[134/300] train: 0.4008 - val: 1.3969\n",
      "[135/300] train: 0.3995 - val: 1.3989\n",
      "[136/300] train: 0.3997 - val: 1.4023\n",
      "[137/300] train: 0.3980 - val: 1.3998\n",
      "[138/300] train: 0.3976 - val: 1.4044\n",
      "[139/300] train: 0.3973 - val: 1.3991\n",
      "[140/300] train: 0.3965 - val: 1.4143\n",
      "[141/300] train: 0.3961 - val: 1.4083\n",
      "[142/300] train: 0.3964 - val: 1.4133\n",
      "[143/300] train: 0.3941 - val: 1.4099\n",
      "[144/300] train: 0.3946 - val: 1.4164\n",
      "[145/300] train: 0.3938 - val: 1.4125\n",
      "[146/300] train: 0.3922 - val: 1.4192\n",
      "[147/300] train: 0.3929 - val: 1.4119\n",
      "[148/300] train: 0.3921 - val: 1.4164\n",
      "[149/300] train: 0.3921 - val: 1.4174\n",
      "[150/300] train: 0.3899 - val: 1.4252\n",
      "[151/300] train: 0.3899 - val: 1.4193\n",
      "[152/300] train: 0.3896 - val: 1.4255\n",
      "[153/300] train: 0.3886 - val: 1.4272\n",
      "[154/300] train: 0.3896 - val: 1.4253\n",
      "[155/300] train: 0.3892 - val: 1.4260\n",
      "[156/300] train: 0.3873 - val: 1.4273\n",
      "[157/300] train: 0.3872 - val: 1.4304\n",
      "[158/300] train: 0.3868 - val: 1.4227\n",
      "[159/300] train: 0.3859 - val: 1.4313\n",
      "[160/300] train: 0.3870 - val: 1.4310\n",
      "[161/300] train: 0.3845 - val: 1.4324\n",
      "[162/300] train: 0.3856 - val: 1.4314\n",
      "[163/300] train: 0.3857 - val: 1.4410\n",
      "[164/300] train: 0.3845 - val: 1.4349\n",
      "[165/300] train: 0.3836 - val: 1.4353\n",
      "[166/300] train: 0.3844 - val: 1.4439\n",
      "[167/300] train: 0.3829 - val: 1.4425\n",
      "[168/300] train: 0.3838 - val: 1.4377\n",
      "[169/300] train: 0.3832 - val: 1.4393\n",
      "[170/300] train: 0.3837 - val: 1.4413\n",
      "[171/300] train: 0.3805 - val: 1.4364\n",
      "[172/300] train: 0.3820 - val: 1.4404\n",
      "[173/300] train: 0.3796 - val: 1.4413\n",
      "[174/300] train: 0.3818 - val: 1.4396\n",
      "[175/300] train: 0.3812 - val: 1.4482\n",
      "[176/300] train: 0.3803 - val: 1.4432\n",
      "[177/300] train: 0.3803 - val: 1.4432\n",
      "[178/300] train: 0.3790 - val: 1.4482\n",
      "[179/300] train: 0.3820 - val: 1.4414\n",
      "[180/300] train: 0.3774 - val: 1.4450\n",
      "[181/300] train: 0.3803 - val: 1.4462\n",
      "[182/300] train: 0.3777 - val: 1.4459\n",
      "[183/300] train: 0.3804 - val: 1.4497\n",
      "[184/300] train: 0.3790 - val: 1.4505\n",
      "[185/300] train: 0.3767 - val: 1.4486\n",
      "[186/300] train: 0.3785 - val: 1.4577\n",
      "[187/300] train: 0.3765 - val: 1.4550\n",
      "[188/300] train: 0.3756 - val: 1.4588\n",
      "[189/300] train: 0.3763 - val: 1.4608\n",
      "[190/300] train: 0.3775 - val: 1.4560\n",
      "[191/300] train: 0.3762 - val: 1.4477\n",
      "[192/300] train: 0.3751 - val: 1.4536\n",
      "[193/300] train: 0.3755 - val: 1.4636\n",
      "[194/300] train: 0.3759 - val: 1.4566\n",
      "[195/300] train: 0.3760 - val: 1.4572\n",
      "[196/300] train: 0.3747 - val: 1.4568\n",
      "[197/300] train: 0.3737 - val: 1.4567\n",
      "[198/300] train: 0.3737 - val: 1.4578\n",
      "[199/300] train: 0.3747 - val: 1.4538\n",
      "[200/300] train: 0.3730 - val: 1.4565\n",
      "[201/300] train: 0.3719 - val: 1.4635\n",
      "[202/300] train: 0.3720 - val: 1.4613\n",
      "[203/300] train: 0.3733 - val: 1.4617\n",
      "[204/300] train: 0.3721 - val: 1.4540\n",
      "[205/300] train: 0.3732 - val: 1.4588\n",
      "[206/300] train: 0.3714 - val: 1.4646\n",
      "[207/300] train: 0.3742 - val: 1.4637\n",
      "[208/300] train: 0.3723 - val: 1.4632\n",
      "[209/300] train: 0.3740 - val: 1.4542\n",
      "[210/300] train: 0.3716 - val: 1.4654\n",
      "[211/300] train: 0.3716 - val: 1.4603\n",
      "[212/300] train: 0.3709 - val: 1.4622\n",
      "[213/300] train: 0.3729 - val: 1.4622\n",
      "[214/300] train: 0.3708 - val: 1.4664\n",
      "[215/300] train: 0.3718 - val: 1.4619\n",
      "[216/300] train: 0.3709 - val: 1.4601\n",
      "[217/300] train: 0.3699 - val: 1.4694\n",
      "[218/300] train: 0.3717 - val: 1.4684\n",
      "[219/300] train: 0.3699 - val: 1.4609\n",
      "[220/300] train: 0.3711 - val: 1.4600\n",
      "[221/300] train: 0.3706 - val: 1.4742\n",
      "[222/300] train: 0.3688 - val: 1.4698\n",
      "[223/300] train: 0.3700 - val: 1.4654\n",
      "[224/300] train: 0.3699 - val: 1.4722\n",
      "[225/300] train: 0.3694 - val: 1.4646\n",
      "[226/300] train: 0.3692 - val: 1.4624\n",
      "[227/300] train: 0.3694 - val: 1.4691\n",
      "[228/300] train: 0.3686 - val: 1.4724\n",
      "[229/300] train: 0.3691 - val: 1.4606\n",
      "[230/300] train: 0.3688 - val: 1.4634\n",
      "[231/300] train: 0.3696 - val: 1.4714\n",
      "[232/300] train: 0.3695 - val: 1.4679\n",
      "[233/300] train: 0.3678 - val: 1.4622\n",
      "[234/300] train: 0.3682 - val: 1.4745\n",
      "[235/300] train: 0.3682 - val: 1.4710\n",
      "[236/300] train: 0.3697 - val: 1.4726\n",
      "[237/300] train: 0.3682 - val: 1.4625\n",
      "[238/300] train: 0.3675 - val: 1.4631\n",
      "[239/300] train: 0.3674 - val: 1.4670\n",
      "[240/300] train: 0.3684 - val: 1.4710\n",
      "[241/300] train: 0.3679 - val: 1.4673\n",
      "[242/300] train: 0.3664 - val: 1.4652\n",
      "[243/300] train: 0.3658 - val: 1.4629\n",
      "[244/300] train: 0.3672 - val: 1.4679\n",
      "[245/300] train: 0.3662 - val: 1.4708\n",
      "[246/300] train: 0.3669 - val: 1.4734\n",
      "[247/300] train: 0.3669 - val: 1.4641\n",
      "[248/300] train: 0.3662 - val: 1.4676\n",
      "[249/300] train: 0.3657 - val: 1.4763\n",
      "[250/300] train: 0.3663 - val: 1.4724\n",
      "[251/300] train: 0.3651 - val: 1.4754\n",
      "[252/300] train: 0.3663 - val: 1.4760\n",
      "[253/300] train: 0.3658 - val: 1.4682\n",
      "[254/300] train: 0.3661 - val: 1.4753\n",
      "[255/300] train: 0.3658 - val: 1.4754\n",
      "[256/300] train: 0.3648 - val: 1.4703\n",
      "[257/300] train: 0.3654 - val: 1.4744\n",
      "[258/300] train: 0.3654 - val: 1.4740\n",
      "[259/300] train: 0.3641 - val: 1.4790\n",
      "[260/300] train: 0.3651 - val: 1.4709\n",
      "[261/300] train: 0.3647 - val: 1.4642\n",
      "[262/300] train: 0.3652 - val: 1.4772\n",
      "[263/300] train: 0.3645 - val: 1.4717\n",
      "[264/300] train: 0.3663 - val: 1.4744\n",
      "[265/300] train: 0.3647 - val: 1.4753\n",
      "[266/300] train: 0.3649 - val: 1.4781\n",
      "[267/300] train: 0.3642 - val: 1.4795\n",
      "[268/300] train: 0.3644 - val: 1.4775\n",
      "[269/300] train: 0.3655 - val: 1.4792\n",
      "[270/300] train: 0.3633 - val: 1.4702\n",
      "[271/300] train: 0.3645 - val: 1.4755\n",
      "[272/300] train: 0.3641 - val: 1.4702\n",
      "[273/300] train: 0.3645 - val: 1.4731\n",
      "[274/300] train: 0.3640 - val: 1.4673\n",
      "[275/300] train: 0.3641 - val: 1.4760\n",
      "[276/300] train: 0.3640 - val: 1.4725\n",
      "[277/300] train: 0.3627 - val: 1.4798\n",
      "[278/300] train: 0.3629 - val: 1.4787\n",
      "[279/300] train: 0.3637 - val: 1.4754\n",
      "[280/300] train: 0.3639 - val: 1.4767\n",
      "[281/300] train: 0.3627 - val: 1.4805\n",
      "[282/300] train: 0.3632 - val: 1.4734\n",
      "[283/300] train: 0.3633 - val: 1.4694\n",
      "[284/300] train: 0.3639 - val: 1.4862\n",
      "[285/300] train: 0.3620 - val: 1.4769\n",
      "[286/300] train: 0.3623 - val: 1.4847\n",
      "[287/300] train: 0.3617 - val: 1.4877\n",
      "[288/300] train: 0.3617 - val: 1.4794\n",
      "[289/300] train: 0.3617 - val: 1.4788\n",
      "[290/300] train: 0.3627 - val: 1.4785\n",
      "[291/300] train: 0.3623 - val: 1.4730\n",
      "[292/300] train: 0.3634 - val: 1.4845\n",
      "[293/300] train: 0.3621 - val: 1.4795\n",
      "[294/300] train: 0.3621 - val: 1.4839\n",
      "[295/300] train: 0.3612 - val: 1.4792\n",
      "[296/300] train: 0.3617 - val: 1.4859\n",
      "[297/300] train: 0.3617 - val: 1.4711\n",
      "[298/300] train: 0.3614 - val: 1.4840\n",
      "[299/300] train: 0.3616 - val: 1.4808\n",
      "[300/300] train: 0.3624 - val: 1.4846\n"
     ]
    }
   ],
   "source": [
    "for epoch in range(n_epochs):\n",
    "    stats = {'epoch': epoch + 1, 'total': n_epochs}\n",
    "\n",
    "    for phase in ('train', 'val'):\n",
    "        if phase == 'train':\n",
    "          training = True\n",
    "        else:\n",
    "          training = False\n",
    "        running_loss = 0\n",
    "        n_batches = 0\n",
    "        for batch in batches(*datasets[phase], shuffle=training, bs=bs):\n",
    "            x_batch, y_batch = [b.to(device) for b in batch]\n",
    "            optimizer.zero_grad()\n",
    "            # compute gradients only during 'train' phase\n",
    "            with torch.set_grad_enabled(training):\n",
    "                outputs = net(x_batch[:,0], x_batch[:,1], minmax)\n",
    "                loss = criterion(outputs, y_batch)\n",
    "                # don't update weights and rates when in 'val' phase\n",
    "                if training:\n",
    "                    #scheduler.step()\n",
    "                    loss.backward()\n",
    "                    optimizer.step()\n",
    "                    #lr_history.extend(scheduler.get_lr())\n",
    "            running_loss += loss.item()\n",
    "        epoch_loss = running_loss / dataset_sizes[phase]\n",
    "        stats[phase] = epoch_loss\n",
    "        # early stopping: save weights of the best model so far\n",
    "        if phase == 'val':\n",
    "            if epoch_loss < best_loss:\n",
    "                print('loss improvement on epoch: %d' % (epoch + 1))\n",
    "                best_loss = epoch_loss\n",
    "                best_weights = copy.deepcopy(net.state_dict())\n",
    "                no_improvements = 0\n",
    "            else:\n",
    "                no_improvements += 1\n",
    "    history.append(stats)\n",
    "    with open(f'logs/small.txt', 'a') as f:\n",
    "        print('[{epoch:03d}/{total:03d}] train: {train:.4f} - val: {val:.4f}'.format(**stats))\n",
    "        f.write('[{epoch:03d}/{total:03d}] train: {train:.4f} - val: {val:.4f}'.format(**stats))\n",
    "    if no_improvements >= patience:\n",
    "        print('early stopping after epoch {epoch:03d}'.format(**stats))\n",
    "        break"
   ],
   "metadata": {
    "collapsed": false,
    "pycharm": {
     "name": "#%%\n"
    }
   }
  },
  {
   "cell_type": "code",
   "execution_count": 29,
   "outputs": [
    {
     "data": {
      "text/plain": "<All keys matched successfully>"
     },
     "execution_count": 29,
     "metadata": {},
     "output_type": "execute_result"
    }
   ],
   "source": [
    "net.load_state_dict(best_weights)"
   ],
   "metadata": {
    "collapsed": false,
    "pycharm": {
     "name": "#%%\n"
    }
   }
  },
  {
   "cell_type": "code",
   "execution_count": 30,
   "outputs": [],
   "source": [
    "groud_truth, predictions = [], []\n",
    "\n",
    "with torch.no_grad():\n",
    "    for batch in batches(*datasets['val'], shuffle=False, bs=bs):\n",
    "        x_batch, y_batch = [b.to(device) for b in batch]\n",
    "        outputs = net(x_batch[:, 0], x_batch[:, 1], minmax)\n",
    "        groud_truth.extend(y_batch.tolist())\n",
    "        predictions.extend(outputs.tolist())\n",
    "\n",
    "groud_truth = np.asarray(groud_truth).ravel()\n",
    "predictions = np.asarray(predictions).ravel()"
   ],
   "metadata": {
    "collapsed": false,
    "pycharm": {
     "name": "#%%\n"
    }
   }
  },
  {
   "cell_type": "code",
   "execution_count": 31,
   "outputs": [
    {
     "name": "stdout",
     "output_type": "stream",
     "text": [
      "Validation RMSE: 1.0286\n"
     ]
    }
   ],
   "source": [
    "valid_loss = np.sqrt(np.mean((predictions - groud_truth)**2))\n",
    "print(f'Validation RMSE: {valid_loss:.4f}')"
   ],
   "metadata": {
    "collapsed": false,
    "pycharm": {
     "name": "#%%\n"
    }
   }
  },
  {
   "cell_type": "code",
   "execution_count": 32,
   "outputs": [],
   "source": [
    "groud_truth, predictions = [], []\n",
    "\n",
    "with torch.no_grad():\n",
    "    for batch in batches(*datasets['test'], shuffle=False, bs=bs):\n",
    "        x_batch, y_batch = [b.to(device) for b in batch]\n",
    "        outputs = net(x_batch[:, 0], x_batch[:, 1], minmax)\n",
    "        groud_truth.extend(y_batch.tolist())\n",
    "        predictions.extend(outputs.tolist())\n",
    "\n",
    "groud_truth = np.asarray(groud_truth).ravel()\n",
    "predictions = np.asarray(predictions).ravel()"
   ],
   "metadata": {
    "collapsed": false,
    "pycharm": {
     "name": "#%%\n"
    }
   }
  },
  {
   "cell_type": "code",
   "execution_count": 33,
   "outputs": [
    {
     "name": "stdout",
     "output_type": "stream",
     "text": [
      "Small Test RMSE: 1.0353\n"
     ]
    }
   ],
   "source": [
    "final_loss = np.sqrt(np.mean((predictions - groud_truth)**2))\n",
    "print(f'Small Test RMSE: {final_loss:.4f}')"
   ],
   "metadata": {
    "collapsed": false,
    "pycharm": {
     "name": "#%%\n"
    }
   }
  },
  {
   "cell_type": "code",
   "execution_count": 34,
   "outputs": [
    {
     "name": "stdout",
     "output_type": "stream",
     "text": [
      "Small duration: 37.209\n"
     ]
    }
   ],
   "source": [
    "print(f'Small duration: {round(time.time() - start, 4)}')"
   ],
   "metadata": {
    "collapsed": false,
    "pycharm": {
     "name": "#%%\n"
    }
   }
  },
  {
   "cell_type": "code",
   "execution_count": 35,
   "outputs": [
    {
     "data": {
      "text/plain": "<Figure size 432x288 with 1 Axes>",
      "image/png": "[encoded data removed]"
     },
     "metadata": {},
     "output_type": "display_data"
    }
   ],
   "source": [
    "plt.rcParams['font.size'] = 26\n",
    "plt.rcParams['axes.labelsize'] = 26\n",
    "plt.rcParams['xtick.labelsize'] = 26\n",
    "plt.rcParams['ytick.labelsize'] = 26\n",
    "plt.rcParams['legend.fontsize'] = 26\n",
    "plt.style.use('seaborn-whitegrid')\n",
    "ax = pd.DataFrame(history).drop(columns='total').plot(x='epoch')\n",
    "plt.ylabel('loss')\n",
    "plt.ylim([0.2, 1.8])\n",
    "\n",
    "plt.savefig(figure_path + '/' + dataset +'-small-loss.png', dpi=300, bbox_inches='tight')\n"
   ],
   "metadata": {
    "collapsed": false,
    "pycharm": {
     "name": "#%%\n"
    }
   }
  },
  {
   "cell_type": "code",
   "execution_count": 36,
   "outputs": [],
   "source": [
    "with open('best.weights.small', 'wb') as file:\n",
    "    pickle.dump(best_weights, file)"
   ],
   "metadata": {
    "collapsed": false,
    "pycharm": {
     "name": "#%%\n"
    }
   }
  },
  {
   "cell_type": "code",
   "execution_count": 37,
   "outputs": [],
   "source": [
    "# medium net\n",
    "\n",
    "start = time.time()\n",
    "net = RecommenderNet(\n",
    "    n_users=n, n_items=m,\n",
    "    n_factors=20, hidden=[10 ,10],\n",
    "    embedding_dropout=0.05, dropouts=[0.3, 0.3])"
   ],
   "metadata": {
    "collapsed": false,
    "pycharm": {
     "name": "#%%\n"
    }
   }
  },
  {
   "cell_type": "code",
   "execution_count": 38,
   "outputs": [],
   "source": [
    "lr = 1e-3\n",
    "wd = 1e-5\n",
    "bs = 4096\n",
    "n_epochs = 300\n",
    "patience = 300\n",
    "no_improvements = 0\n",
    "best_loss = np.inf\n",
    "best_weights = None\n",
    "history = []\n",
    "lr_history = []\n",
    "\n",
    "device = torch.device('cuda:0' if torch.cuda.is_available() else 'cpu')\n",
    "\n",
    "net.to(device)\n",
    "criterion = nn.MSELoss(reduction='sum')\n",
    "optimizer = optim.Adam(net.parameters(), lr=lr, weight_decay=wd)"
   ],
   "metadata": {
    "collapsed": false,
    "pycharm": {
     "name": "#%%\n"
    }
   }
  },
  {
   "cell_type": "code",
   "execution_count": 39,
   "outputs": [
    {
     "name": "stdout",
     "output_type": "stream",
     "text": [
      "loss improvement on epoch: 1\n",
      "[001/300] train: 1.9357 - val: 1.5862\n",
      "loss improvement on epoch: 2\n",
      "[002/300] train: 1.4588 - val: 1.3707\n",
      "loss improvement on epoch: 3\n",
      "[003/300] train: 1.3428 - val: 1.3135\n",
      "loss improvement on epoch: 4\n",
      "[004/300] train: 1.2725 - val: 1.2643\n",
      "loss improvement on epoch: 5\n",
      "[005/300] train: 1.2015 - val: 1.2187\n",
      "loss improvement on epoch: 6\n",
      "[006/300] train: 1.1256 - val: 1.1701\n",
      "loss improvement on epoch: 7\n",
      "[007/300] train: 1.0561 - val: 1.1399\n",
      "loss improvement on epoch: 8\n",
      "[008/300] train: 0.9864 - val: 1.1237\n",
      "loss improvement on epoch: 9\n",
      "[009/300] train: 0.9191 - val: 1.1197\n",
      "[010/300] train: 0.8651 - val: 1.1250\n",
      "[011/300] train: 0.8180 - val: 1.1380\n",
      "[012/300] train: 0.7884 - val: 1.1418\n",
      "[013/300] train: 0.7605 - val: 1.1540\n",
      "[014/300] train: 0.7397 - val: 1.1551\n",
      "[015/300] train: 0.7239 - val: 1.1681\n",
      "[016/300] train: 0.7090 - val: 1.1697\n",
      "[017/300] train: 0.6973 - val: 1.1888\n",
      "[018/300] train: 0.6895 - val: 1.1887\n",
      "[019/300] train: 0.6796 - val: 1.1940\n",
      "[020/300] train: 0.6706 - val: 1.1977\n",
      "[021/300] train: 0.6616 - val: 1.2015\n",
      "[022/300] train: 0.6545 - val: 1.1992\n",
      "[023/300] train: 0.6503 - val: 1.2034\n",
      "[024/300] train: 0.6462 - val: 1.2091\n",
      "[025/300] train: 0.6412 - val: 1.2123\n",
      "[026/300] train: 0.6371 - val: 1.2142\n",
      "[027/300] train: 0.6308 - val: 1.2128\n",
      "[028/300] train: 0.6255 - val: 1.2188\n",
      "[029/300] train: 0.6202 - val: 1.2223\n",
      "[030/300] train: 0.6197 - val: 1.2263\n",
      "[031/300] train: 0.6172 - val: 1.2289\n",
      "[032/300] train: 0.6101 - val: 1.2264\n",
      "[033/300] train: 0.6096 - val: 1.2262\n",
      "[034/300] train: 0.6067 - val: 1.2294\n",
      "[035/300] train: 0.6049 - val: 1.2302\n",
      "[036/300] train: 0.6008 - val: 1.2312\n",
      "[037/300] train: 0.5956 - val: 1.2330\n",
      "[038/300] train: 0.5939 - val: 1.2365\n",
      "[039/300] train: 0.5918 - val: 1.2313\n",
      "[040/300] train: 0.5872 - val: 1.2421\n",
      "[041/300] train: 0.5871 - val: 1.2432\n",
      "[042/300] train: 0.5852 - val: 1.2420\n",
      "[043/300] train: 0.5803 - val: 1.2447\n",
      "[044/300] train: 0.5796 - val: 1.2471\n",
      "[045/300] train: 0.5760 - val: 1.2502\n",
      "[046/300] train: 0.5746 - val: 1.2447\n",
      "[047/300] train: 0.5723 - val: 1.2488\n",
      "[048/300] train: 0.5737 - val: 1.2532\n",
      "[049/300] train: 0.5701 - val: 1.2568\n",
      "[050/300] train: 0.5674 - val: 1.2548\n",
      "[051/300] train: 0.5666 - val: 1.2632\n",
      "[052/300] train: 0.5645 - val: 1.2583\n",
      "[053/300] train: 0.5649 - val: 1.2604\n",
      "[054/300] train: 0.5620 - val: 1.2637\n",
      "[055/300] train: 0.5604 - val: 1.2673\n",
      "[056/300] train: 0.5613 - val: 1.2632\n",
      "[057/300] train: 0.5573 - val: 1.2642\n",
      "[058/300] train: 0.5566 - val: 1.2684\n",
      "[059/300] train: 0.5561 - val: 1.2666\n",
      "[060/300] train: 0.5558 - val: 1.2687\n",
      "[061/300] train: 0.5557 - val: 1.2725\n",
      "[062/300] train: 0.5527 - val: 1.2757\n",
      "[063/300] train: 0.5540 - val: 1.2734\n",
      "[064/300] train: 0.5517 - val: 1.2768\n",
      "[065/300] train: 0.5507 - val: 1.2817\n",
      "[066/300] train: 0.5508 - val: 1.2819\n",
      "[067/300] train: 0.5473 - val: 1.2828\n",
      "[068/300] train: 0.5461 - val: 1.2818\n",
      "[069/300] train: 0.5483 - val: 1.2818\n",
      "[070/300] train: 0.5480 - val: 1.2821\n",
      "[071/300] train: 0.5447 - val: 1.2874\n",
      "[072/300] train: 0.5458 - val: 1.2881\n",
      "[073/300] train: 0.5446 - val: 1.2853\n",
      "[074/300] train: 0.5448 - val: 1.2868\n",
      "[075/300] train: 0.5432 - val: 1.2906\n",
      "[076/300] train: 0.5444 - val: 1.2919\n",
      "[077/300] train: 0.5426 - val: 1.2868\n",
      "[078/300] train: 0.5411 - val: 1.2914\n",
      "[079/300] train: 0.5420 - val: 1.2907\n",
      "[080/300] train: 0.5401 - val: 1.2973\n",
      "[081/300] train: 0.5398 - val: 1.2961\n",
      "[082/300] train: 0.5388 - val: 1.2989\n",
      "[083/300] train: 0.5401 - val: 1.2926\n",
      "[084/300] train: 0.5372 - val: 1.2984\n",
      "[085/300] train: 0.5379 - val: 1.3046\n",
      "[086/300] train: 0.5382 - val: 1.3049\n",
      "[087/300] train: 0.5373 - val: 1.3043\n",
      "[088/300] train: 0.5348 - val: 1.3098\n",
      "[089/300] train: 0.5356 - val: 1.3057\n",
      "[090/300] train: 0.5358 - val: 1.3108\n",
      "[091/300] train: 0.5336 - val: 1.3072\n",
      "[092/300] train: 0.5346 - val: 1.3004\n",
      "[093/300] train: 0.5342 - val: 1.3055\n",
      "[094/300] train: 0.5348 - val: 1.3076\n",
      "[095/300] train: 0.5346 - val: 1.3086\n",
      "[096/300] train: 0.5329 - val: 1.3083\n",
      "[097/300] train: 0.5335 - val: 1.3172\n",
      "[098/300] train: 0.5328 - val: 1.3089\n",
      "[099/300] train: 0.5308 - val: 1.3140\n",
      "[100/300] train: 0.5316 - val: 1.3128\n",
      "[101/300] train: 0.5299 - val: 1.3056\n",
      "[102/300] train: 0.5283 - val: 1.3206\n",
      "[103/300] train: 0.5280 - val: 1.3066\n",
      "[104/300] train: 0.5279 - val: 1.3143\n",
      "[105/300] train: 0.5281 - val: 1.3272\n",
      "[106/300] train: 0.5270 - val: 1.3289\n",
      "[107/300] train: 0.5280 - val: 1.3107\n",
      "[108/300] train: 0.5297 - val: 1.3175\n",
      "[109/300] train: 0.5276 - val: 1.3232\n",
      "[110/300] train: 0.5290 - val: 1.3205\n",
      "[111/300] train: 0.5274 - val: 1.3192\n",
      "[112/300] train: 0.5239 - val: 1.3236\n",
      "[113/300] train: 0.5229 - val: 1.3131\n",
      "[114/300] train: 0.5228 - val: 1.3215\n",
      "[115/300] train: 0.5215 - val: 1.3236\n",
      "[116/300] train: 0.5227 - val: 1.3261\n",
      "[117/300] train: 0.5213 - val: 1.3237\n",
      "[118/300] train: 0.5210 - val: 1.3246\n",
      "[119/300] train: 0.5199 - val: 1.3283\n",
      "[120/300] train: 0.5169 - val: 1.3305\n",
      "[121/300] train: 0.5200 - val: 1.3227\n",
      "[122/300] train: 0.5167 - val: 1.3271\n",
      "[123/300] train: 0.5166 - val: 1.3257\n",
      "[124/300] train: 0.5160 - val: 1.3181\n",
      "[125/300] train: 0.5162 - val: 1.3268\n",
      "[126/300] train: 0.5140 - val: 1.3364\n",
      "[127/300] train: 0.5118 - val: 1.3183\n",
      "[128/300] train: 0.5112 - val: 1.3239\n",
      "[129/300] train: 0.5096 - val: 1.3328\n",
      "[130/300] train: 0.5073 - val: 1.3249\n",
      "[131/300] train: 0.5063 - val: 1.3345\n",
      "[132/300] train: 0.5030 - val: 1.3351\n",
      "[133/300] train: 0.5015 - val: 1.3317\n",
      "[134/300] train: 0.5006 - val: 1.3257\n",
      "[135/300] train: 0.4983 - val: 1.3351\n",
      "[136/300] train: 0.4983 - val: 1.3378\n",
      "[137/300] train: 0.4971 - val: 1.3376\n",
      "[138/300] train: 0.4949 - val: 1.3485\n",
      "[139/300] train: 0.4943 - val: 1.3422\n",
      "[140/300] train: 0.4913 - val: 1.3392\n",
      "[141/300] train: 0.4909 - val: 1.3475\n",
      "[142/300] train: 0.4879 - val: 1.3440\n",
      "[143/300] train: 0.4876 - val: 1.3416\n",
      "[144/300] train: 0.4872 - val: 1.3437\n",
      "[145/300] train: 0.4841 - val: 1.3538\n",
      "[146/300] train: 0.4835 - val: 1.3551\n",
      "[147/300] train: 0.4811 - val: 1.3558\n",
      "[148/300] train: 0.4810 - val: 1.3589\n",
      "[149/300] train: 0.4786 - val: 1.3578\n",
      "[150/300] train: 0.4772 - val: 1.3515\n",
      "[151/300] train: 0.4763 - val: 1.3510\n",
      "[152/300] train: 0.4757 - val: 1.3588\n",
      "[153/300] train: 0.4728 - val: 1.3665\n",
      "[154/300] train: 0.4725 - val: 1.3686\n",
      "[155/300] train: 0.4703 - val: 1.3587\n",
      "[156/300] train: 0.4695 - val: 1.3599\n",
      "[157/300] train: 0.4689 - val: 1.3702\n",
      "[158/300] train: 0.4681 - val: 1.3624\n",
      "[159/300] train: 0.4648 - val: 1.3723\n",
      "[160/300] train: 0.4649 - val: 1.3718\n",
      "[161/300] train: 0.4640 - val: 1.3679\n",
      "[162/300] train: 0.4644 - val: 1.3736\n",
      "[163/300] train: 0.4623 - val: 1.3684\n",
      "[164/300] train: 0.4622 - val: 1.3737\n",
      "[165/300] train: 0.4620 - val: 1.3681\n",
      "[166/300] train: 0.4581 - val: 1.3724\n",
      "[167/300] train: 0.4577 - val: 1.3759\n",
      "[168/300] train: 0.4575 - val: 1.3711\n",
      "[169/300] train: 0.4560 - val: 1.3797\n",
      "[170/300] train: 0.4547 - val: 1.3703\n",
      "[171/300] train: 0.4555 - val: 1.3789\n",
      "[172/300] train: 0.4546 - val: 1.3810\n",
      "[173/300] train: 0.4529 - val: 1.3699\n",
      "[174/300] train: 0.4539 - val: 1.3776\n",
      "[175/300] train: 0.4528 - val: 1.3843\n",
      "[176/300] train: 0.4491 - val: 1.3871\n",
      "[177/300] train: 0.4496 - val: 1.3866\n",
      "[178/300] train: 0.4502 - val: 1.3842\n",
      "[179/300] train: 0.4473 - val: 1.3845\n",
      "[180/300] train: 0.4481 - val: 1.3858\n",
      "[181/300] train: 0.4480 - val: 1.3950\n",
      "[182/300] train: 0.4452 - val: 1.3939\n",
      "[183/300] train: 0.4460 - val: 1.3901\n",
      "[184/300] train: 0.4421 - val: 1.3886\n",
      "[185/300] train: 0.4451 - val: 1.3861\n",
      "[186/300] train: 0.4434 - val: 1.3892\n",
      "[187/300] train: 0.4441 - val: 1.3901\n",
      "[188/300] train: 0.4450 - val: 1.3861\n",
      "[189/300] train: 0.4409 - val: 1.3868\n",
      "[190/300] train: 0.4405 - val: 1.3874\n",
      "[191/300] train: 0.4407 - val: 1.3806\n",
      "[192/300] train: 0.4397 - val: 1.3988\n",
      "[193/300] train: 0.4401 - val: 1.3922\n",
      "[194/300] train: 0.4383 - val: 1.3920\n",
      "[195/300] train: 0.4385 - val: 1.3893\n",
      "[196/300] train: 0.4390 - val: 1.3978\n",
      "[197/300] train: 0.4391 - val: 1.4023\n",
      "[198/300] train: 0.4381 - val: 1.3883\n",
      "[199/300] train: 0.4382 - val: 1.3921\n",
      "[200/300] train: 0.4373 - val: 1.3878\n",
      "[201/300] train: 0.4354 - val: 1.3902\n",
      "[202/300] train: 0.4335 - val: 1.3859\n",
      "[203/300] train: 0.4351 - val: 1.3932\n",
      "[204/300] train: 0.4361 - val: 1.3914\n",
      "[205/300] train: 0.4361 - val: 1.3884\n",
      "[206/300] train: 0.4346 - val: 1.3907\n",
      "[207/300] train: 0.4327 - val: 1.3956\n",
      "[208/300] train: 0.4326 - val: 1.3999\n",
      "[209/300] train: 0.4318 - val: 1.3894\n",
      "[210/300] train: 0.4309 - val: 1.4018\n",
      "[211/300] train: 0.4313 - val: 1.3935\n",
      "[212/300] train: 0.4309 - val: 1.3883\n",
      "[213/300] train: 0.4306 - val: 1.3864\n",
      "[214/300] train: 0.4310 - val: 1.3970\n",
      "[215/300] train: 0.4298 - val: 1.3842\n",
      "[216/300] train: 0.4268 - val: 1.3964\n",
      "[217/300] train: 0.4294 - val: 1.3914\n",
      "[218/300] train: 0.4273 - val: 1.3997\n",
      "[219/300] train: 0.4281 - val: 1.3871\n",
      "[220/300] train: 0.4279 - val: 1.3910\n",
      "[221/300] train: 0.4261 - val: 1.3947\n",
      "[222/300] train: 0.4269 - val: 1.3913\n",
      "[223/300] train: 0.4275 - val: 1.3947\n",
      "[224/300] train: 0.4230 - val: 1.3985\n",
      "[225/300] train: 0.4230 - val: 1.3931\n",
      "[226/300] train: 0.4235 - val: 1.3959\n",
      "[227/300] train: 0.4246 - val: 1.3932\n",
      "[228/300] train: 0.4232 - val: 1.4012\n",
      "[229/300] train: 0.4237 - val: 1.3946\n",
      "[230/300] train: 0.4234 - val: 1.3945\n",
      "[231/300] train: 0.4219 - val: 1.4061\n",
      "[232/300] train: 0.4233 - val: 1.3868\n",
      "[233/300] train: 0.4215 - val: 1.3855\n",
      "[234/300] train: 0.4238 - val: 1.3878\n",
      "[235/300] train: 0.4215 - val: 1.3945\n",
      "[236/300] train: 0.4208 - val: 1.3955\n",
      "[237/300] train: 0.4238 - val: 1.3898\n",
      "[238/300] train: 0.4207 - val: 1.4016\n",
      "[239/300] train: 0.4208 - val: 1.3925\n",
      "[240/300] train: 0.4196 - val: 1.4005\n",
      "[241/300] train: 0.4209 - val: 1.3859\n",
      "[242/300] train: 0.4203 - val: 1.3889\n",
      "[243/300] train: 0.4182 - val: 1.3895\n",
      "[244/300] train: 0.4168 - val: 1.3987\n",
      "[245/300] train: 0.4184 - val: 1.3907\n",
      "[246/300] train: 0.4156 - val: 1.3858\n",
      "[247/300] train: 0.4172 - val: 1.3938\n",
      "[248/300] train: 0.4171 - val: 1.3959\n",
      "[249/300] train: 0.4137 - val: 1.3932\n",
      "[250/300] train: 0.4149 - val: 1.4002\n",
      "[251/300] train: 0.4144 - val: 1.3965\n",
      "[252/300] train: 0.4174 - val: 1.3925\n",
      "[253/300] train: 0.4152 - val: 1.3922\n",
      "[254/300] train: 0.4169 - val: 1.3911\n",
      "[255/300] train: 0.4134 - val: 1.3867\n",
      "[256/300] train: 0.4165 - val: 1.3939\n",
      "[257/300] train: 0.4142 - val: 1.3969\n",
      "[258/300] train: 0.4137 - val: 1.3867\n",
      "[259/300] train: 0.4110 - val: 1.3826\n",
      "[260/300] train: 0.4138 - val: 1.3957\n",
      "[261/300] train: 0.4145 - val: 1.3932\n",
      "[262/300] train: 0.4103 - val: 1.3942\n",
      "[263/300] train: 0.4106 - val: 1.3885\n",
      "[264/300] train: 0.4119 - val: 1.3894\n",
      "[265/300] train: 0.4118 - val: 1.3827\n",
      "[266/300] train: 0.4107 - val: 1.3953\n",
      "[267/300] train: 0.4127 - val: 1.3889\n",
      "[268/300] train: 0.4092 - val: 1.3875\n",
      "[269/300] train: 0.4083 - val: 1.3981\n",
      "[270/300] train: 0.4093 - val: 1.3914\n",
      "[271/300] train: 0.4081 - val: 1.3831\n",
      "[272/300] train: 0.4095 - val: 1.3954\n",
      "[273/300] train: 0.4086 - val: 1.3948\n",
      "[274/300] train: 0.4101 - val: 1.3897\n",
      "[275/300] train: 0.4078 - val: 1.3950\n",
      "[276/300] train: 0.4100 - val: 1.3928\n",
      "[277/300] train: 0.4084 - val: 1.3888\n",
      "[278/300] train: 0.4086 - val: 1.3918\n",
      "[279/300] train: 0.4105 - val: 1.3844\n",
      "[280/300] train: 0.4067 - val: 1.3899\n",
      "[281/300] train: 0.4043 - val: 1.3849\n",
      "[282/300] train: 0.4090 - val: 1.3899\n",
      "[283/300] train: 0.4071 - val: 1.3904\n",
      "[284/300] train: 0.4084 - val: 1.3947\n",
      "[285/300] train: 0.4058 - val: 1.3836\n",
      "[286/300] train: 0.4043 - val: 1.3893\n",
      "[287/300] train: 0.4050 - val: 1.3916\n",
      "[288/300] train: 0.4076 - val: 1.3847\n",
      "[289/300] train: 0.4053 - val: 1.3856\n",
      "[290/300] train: 0.4055 - val: 1.3948\n",
      "[291/300] train: 0.4052 - val: 1.3957\n",
      "[292/300] train: 0.4061 - val: 1.3863\n",
      "[293/300] train: 0.4034 - val: 1.3848\n",
      "[294/300] train: 0.4036 - val: 1.3937\n",
      "[295/300] train: 0.4045 - val: 1.3819\n",
      "[296/300] train: 0.4045 - val: 1.3835\n",
      "[297/300] train: 0.4045 - val: 1.3875\n",
      "[298/300] train: 0.4026 - val: 1.3786\n",
      "[299/300] train: 0.4050 - val: 1.3945\n",
      "[300/300] train: 0.4054 - val: 1.3840\n"
     ]
    }
   ],
   "source": [
    "for epoch in range(n_epochs):\n",
    "    stats = {'epoch': epoch + 1, 'total': n_epochs}\n",
    "\n",
    "    for phase in ('train', 'val'):\n",
    "        if phase == 'train':\n",
    "          training = True\n",
    "        else:\n",
    "          training = False\n",
    "        running_loss = 0\n",
    "        n_batches = 0\n",
    "        for batch in batches(*datasets[phase], shuffle=training, bs=bs):\n",
    "            x_batch, y_batch = [b.to(device) for b in batch]\n",
    "            optimizer.zero_grad()\n",
    "            # compute gradients only during 'train' phase\n",
    "            with torch.set_grad_enabled(training):\n",
    "                outputs = net(x_batch[:,0], x_batch[:,1], minmax)\n",
    "                loss = criterion(outputs, y_batch)\n",
    "                # don't update weights and rates when in 'val' phase\n",
    "                if training:\n",
    "                    #scheduler.step()\n",
    "                    loss.backward()\n",
    "                    optimizer.step()\n",
    "                    #lr_history.extend(scheduler.get_lr())\n",
    "            running_loss += loss.item()\n",
    "        epoch_loss = running_loss / dataset_sizes[phase]\n",
    "        stats[phase] = epoch_loss\n",
    "        # early stopping: save weights of the best model so far\n",
    "        if phase == 'val':\n",
    "            if epoch_loss < best_loss:\n",
    "                print('loss improvement on epoch: %d' % (epoch + 1))\n",
    "                best_loss = epoch_loss\n",
    "                best_weights = copy.deepcopy(net.state_dict())\n",
    "                no_improvements = 0\n",
    "            else:\n",
    "                no_improvements += 1\n",
    "    history.append(stats)\n",
    "    with open(f'logs/medium.txt', 'a') as f:\n",
    "        print('[{epoch:03d}/{total:03d}] train: {train:.4f} - val: {val:.4f}'.format(**stats))\n",
    "        f.write('[{epoch:03d}/{total:03d}] train: {train:.4f} - val: {val:.4f}'.format(**stats))\n",
    "    if no_improvements >= patience:\n",
    "        print('early stopping after epoch {epoch:03d}'.format(**stats))\n",
    "        break"
   ],
   "metadata": {
    "collapsed": false,
    "pycharm": {
     "name": "#%%\n"
    }
   }
  },
  {
   "cell_type": "code",
   "execution_count": 40,
   "outputs": [
    {
     "data": {
      "text/plain": "<All keys matched successfully>"
     },
     "execution_count": 40,
     "metadata": {},
     "output_type": "execute_result"
    }
   ],
   "source": [
    "net.load_state_dict(best_weights)"
   ],
   "metadata": {
    "collapsed": false,
    "pycharm": {
     "name": "#%%\n"
    }
   }
  },
  {
   "cell_type": "code",
   "execution_count": 41,
   "outputs": [],
   "source": [
    "groud_truth, predictions = [], []\n",
    "\n",
    "with torch.no_grad():\n",
    "    for batch in batches(*datasets['val'], shuffle=False, bs=bs):\n",
    "        x_batch, y_batch = [b.to(device) for b in batch]\n",
    "        outputs = net(x_batch[:, 0], x_batch[:, 1], minmax)\n",
    "        groud_truth.extend(y_batch.tolist())\n",
    "        predictions.extend(outputs.tolist())\n",
    "\n",
    "groud_truth = np.asarray(groud_truth).ravel()\n",
    "predictions = np.asarray(predictions).ravel()"
   ],
   "metadata": {
    "collapsed": false,
    "pycharm": {
     "name": "#%%\n"
    }
   }
  },
  {
   "cell_type": "code",
   "execution_count": 42,
   "outputs": [
    {
     "name": "stdout",
     "output_type": "stream",
     "text": [
      "Validation RMSE: 1.0653\n"
     ]
    }
   ],
   "source": [
    "valid_loss = np.sqrt(np.mean((predictions - groud_truth)**2))\n",
    "print(f'Validation RMSE: {valid_loss:.4f}')"
   ],
   "metadata": {
    "collapsed": false,
    "pycharm": {
     "name": "#%%\n"
    }
   }
  },
  {
   "cell_type": "code",
   "execution_count": 43,
   "outputs": [],
   "source": [
    "groud_truth, predictions = [], []\n",
    "\n",
    "with torch.no_grad():\n",
    "    for batch in batches(*datasets['test'], shuffle=False, bs=bs):\n",
    "        x_batch, y_batch = [b.to(device) for b in batch]\n",
    "        outputs = net(x_batch[:, 0], x_batch[:, 1], minmax)\n",
    "        groud_truth.extend(y_batch.tolist())\n",
    "        predictions.extend(outputs.tolist())\n",
    "\n",
    "groud_truth = np.asarray(groud_truth).ravel()\n",
    "predictions = np.asarray(predictions).ravel()"
   ],
   "metadata": {
    "collapsed": false,
    "pycharm": {
     "name": "#%%\n"
    }
   }
  },
  {
   "cell_type": "code",
   "execution_count": 44,
   "outputs": [
    {
     "name": "stdout",
     "output_type": "stream",
     "text": [
      "Medium test RMSE: 1.0723\n"
     ]
    }
   ],
   "source": [
    "final_loss = np.sqrt(np.mean((predictions - groud_truth)**2))\n",
    "print(f'Medium test RMSE: {final_loss:.4f}')"
   ],
   "metadata": {
    "collapsed": false,
    "pycharm": {
     "name": "#%%\n"
    }
   }
  },
  {
   "cell_type": "code",
   "execution_count": 45,
   "outputs": [
    {
     "name": "stdout",
     "output_type": "stream",
     "text": [
      "Medium duration: 55.3098\n"
     ]
    }
   ],
   "source": [
    "print(f'Medium duration: {round(time.time() - start, 4)}')"
   ],
   "metadata": {
    "collapsed": false,
    "pycharm": {
     "name": "#%%\n"
    }
   }
  },
  {
   "cell_type": "code",
   "execution_count": 46,
   "outputs": [],
   "source": [
    "with open('best.weights.medium', 'wb') as file:\n",
    "    pickle.dump(best_weights, file)"
   ],
   "metadata": {
    "collapsed": false,
    "pycharm": {
     "name": "#%%\n"
    }
   }
  },
  {
   "cell_type": "code",
   "execution_count": 47,
   "outputs": [
    {
     "data": {
      "text/plain": "<Figure size 432x288 with 1 Axes>",
      "image/png": "[encoded data removed]"
     },
     "metadata": {},
     "output_type": "display_data"
    }
   ],
   "source": [
    "plt.rcParams['font.size'] = 26\n",
    "plt.rcParams['axes.labelsize'] = 26\n",
    "plt.rcParams['xtick.labelsize'] = 26\n",
    "plt.rcParams['ytick.labelsize'] = 26\n",
    "plt.rcParams['legend.fontsize'] = 26\n",
    "plt.style.use('seaborn-whitegrid')\n",
    "ax = pd.DataFrame(history).drop(columns='total').plot(x='epoch')\n",
    "plt.ylabel('loss')\n",
    "plt.ylim([0.2, 1.8])\n",
    "\n",
    "plt.savefig(figure_path + '/' + dataset +'-medium-loss.png', dpi=300, bbox_inches='tight')"
   ],
   "metadata": {
    "collapsed": false,
    "pycharm": {
     "name": "#%%\n"
    }
   }
  },
  {
   "cell_type": "code",
   "execution_count": 48,
   "outputs": [],
   "source": [
    "# large net\n",
    "\n",
    "start = time.time()\n",
    "net = RecommenderNet(\n",
    "    n_users=n, n_items=m,\n",
    "    n_factors=50, hidden=[100, 100, 100],\n",
    "    embedding_dropout=0.05, dropouts=[0.3, 0.3, 0.3])"
   ],
   "metadata": {
    "collapsed": false,
    "pycharm": {
     "name": "#%%\n"
    }
   }
  },
  {
   "cell_type": "code",
   "execution_count": 49,
   "outputs": [],
   "source": [
    "lr = 1e-3\n",
    "wd = 1e-5\n",
    "bs = 4096\n",
    "n_epochs = 300\n",
    "patience = 300\n",
    "no_improvements = 0\n",
    "best_loss = np.inf\n",
    "best_weights = None\n",
    "history = []\n",
    "lr_history = []\n",
    "\n",
    "device = torch.device('cuda:0' if torch.cuda.is_available() else 'cpu')\n",
    "\n",
    "net.to(device)\n",
    "criterion = nn.MSELoss(reduction='sum')\n",
    "optimizer = optim.Adam(net.parameters(), lr=lr, weight_decay=wd)"
   ],
   "metadata": {
    "collapsed": false,
    "pycharm": {
     "name": "#%%\n"
    }
   }
  },
  {
   "cell_type": "code",
   "execution_count": 50,
   "outputs": [
    {
     "name": "stdout",
     "output_type": "stream",
     "text": [
      "loss improvement on epoch: 1\n",
      "[001/300] train: 1.4050 - val: 1.2703\n",
      "loss improvement on epoch: 2\n",
      "[002/300] train: 1.2542 - val: 1.2123\n",
      "loss improvement on epoch: 3\n",
      "[003/300] train: 1.1545 - val: 1.0868\n",
      "loss improvement on epoch: 4\n",
      "[004/300] train: 0.9339 - val: 1.0438\n",
      "[005/300] train: 0.7649 - val: 1.0833\n",
      "[006/300] train: 0.6737 - val: 1.0955\n",
      "[007/300] train: 0.6156 - val: 1.1143\n",
      "[008/300] train: 0.5790 - val: 1.1215\n",
      "[009/300] train: 0.5568 - val: 1.1402\n",
      "[010/300] train: 0.5410 - val: 1.1396\n",
      "[011/300] train: 0.5303 - val: 1.1543\n",
      "[012/300] train: 0.5211 - val: 1.1521\n",
      "[013/300] train: 0.5118 - val: 1.1612\n",
      "[014/300] train: 0.5064 - val: 1.1624\n",
      "[015/300] train: 0.5023 - val: 1.1806\n",
      "[016/300] train: 0.4964 - val: 1.1811\n",
      "[017/300] train: 0.4923 - val: 1.1813\n",
      "[018/300] train: 0.4900 - val: 1.1917\n",
      "[019/300] train: 0.4849 - val: 1.1992\n",
      "[020/300] train: 0.4825 - val: 1.1922\n",
      "[021/300] train: 0.4806 - val: 1.1991\n",
      "[022/300] train: 0.4772 - val: 1.2088\n",
      "[023/300] train: 0.4749 - val: 1.2125\n",
      "[024/300] train: 0.4724 - val: 1.2168\n",
      "[025/300] train: 0.4700 - val: 1.2267\n",
      "[026/300] train: 0.4671 - val: 1.2292\n",
      "[027/300] train: 0.4647 - val: 1.2330\n",
      "[028/300] train: 0.4622 - val: 1.2344\n",
      "[029/300] train: 0.4601 - val: 1.2357\n",
      "[030/300] train: 0.4573 - val: 1.2463\n",
      "[031/300] train: 0.4548 - val: 1.2563\n",
      "[032/300] train: 0.4523 - val: 1.2471\n",
      "[033/300] train: 0.4481 - val: 1.2487\n",
      "[034/300] train: 0.4450 - val: 1.2622\n",
      "[035/300] train: 0.4422 - val: 1.2572\n",
      "[036/300] train: 0.4393 - val: 1.2697\n",
      "[037/300] train: 0.4365 - val: 1.2795\n",
      "[038/300] train: 0.4328 - val: 1.2794\n",
      "[039/300] train: 0.4308 - val: 1.2751\n",
      "[040/300] train: 0.4269 - val: 1.2742\n",
      "[041/300] train: 0.4244 - val: 1.2844\n",
      "[042/300] train: 0.4215 - val: 1.2876\n",
      "[043/300] train: 0.4177 - val: 1.2929\n",
      "[044/300] train: 0.4148 - val: 1.3035\n",
      "[045/300] train: 0.4119 - val: 1.3007\n",
      "[046/300] train: 0.4094 - val: 1.2939\n",
      "[047/300] train: 0.4065 - val: 1.3006\n",
      "[048/300] train: 0.4027 - val: 1.3124\n",
      "[049/300] train: 0.3998 - val: 1.3198\n",
      "[050/300] train: 0.3961 - val: 1.3206\n",
      "[051/300] train: 0.3930 - val: 1.3154\n",
      "[052/300] train: 0.3889 - val: 1.3358\n",
      "[053/300] train: 0.3858 - val: 1.3398\n",
      "[054/300] train: 0.3831 - val: 1.3361\n",
      "[055/300] train: 0.3792 - val: 1.3397\n",
      "[056/300] train: 0.3765 - val: 1.3411\n",
      "[057/300] train: 0.3730 - val: 1.3580\n",
      "[058/300] train: 0.3704 - val: 1.3495\n",
      "[059/300] train: 0.3685 - val: 1.3458\n",
      "[060/300] train: 0.3647 - val: 1.3645\n",
      "[061/300] train: 0.3617 - val: 1.3656\n",
      "[062/300] train: 0.3590 - val: 1.3720\n",
      "[063/300] train: 0.3566 - val: 1.3785\n",
      "[064/300] train: 0.3537 - val: 1.3807\n",
      "[065/300] train: 0.3529 - val: 1.3795\n",
      "[066/300] train: 0.3490 - val: 1.3902\n",
      "[067/300] train: 0.3474 - val: 1.3728\n",
      "[068/300] train: 0.3459 - val: 1.3839\n",
      "[069/300] train: 0.3428 - val: 1.3871\n",
      "[070/300] train: 0.3410 - val: 1.3851\n",
      "[071/300] train: 0.3395 - val: 1.3937\n",
      "[072/300] train: 0.3382 - val: 1.3967\n",
      "[073/300] train: 0.3370 - val: 1.3935\n",
      "[074/300] train: 0.3347 - val: 1.3908\n",
      "[075/300] train: 0.3341 - val: 1.3924\n",
      "[076/300] train: 0.3312 - val: 1.4022\n",
      "[077/300] train: 0.3303 - val: 1.3980\n",
      "[078/300] train: 0.3285 - val: 1.4068\n",
      "[079/300] train: 0.3281 - val: 1.4106\n",
      "[080/300] train: 0.3258 - val: 1.4130\n",
      "[081/300] train: 0.3251 - val: 1.4132\n",
      "[082/300] train: 0.3250 - val: 1.4172\n",
      "[083/300] train: 0.3222 - val: 1.4021\n",
      "[084/300] train: 0.3212 - val: 1.4134\n",
      "[085/300] train: 0.3208 - val: 1.4293\n",
      "[086/300] train: 0.3189 - val: 1.4272\n",
      "[087/300] train: 0.3183 - val: 1.4286\n",
      "[088/300] train: 0.3172 - val: 1.4282\n",
      "[089/300] train: 0.3156 - val: 1.4393\n",
      "[090/300] train: 0.3152 - val: 1.4342\n",
      "[091/300] train: 0.3144 - val: 1.4317\n",
      "[092/300] train: 0.3123 - val: 1.4484\n",
      "[093/300] train: 0.3125 - val: 1.4311\n",
      "[094/300] train: 0.3108 - val: 1.4531\n",
      "[095/300] train: 0.3096 - val: 1.4434\n",
      "[096/300] train: 0.3089 - val: 1.4544\n",
      "[097/300] train: 0.3083 - val: 1.4495\n",
      "[098/300] train: 0.3063 - val: 1.4658\n",
      "[099/300] train: 0.3073 - val: 1.4508\n",
      "[100/300] train: 0.3049 - val: 1.4465\n",
      "[101/300] train: 0.3036 - val: 1.4607\n",
      "[102/300] train: 0.3028 - val: 1.4368\n",
      "[103/300] train: 0.3009 - val: 1.4711\n",
      "[104/300] train: 0.3013 - val: 1.4591\n",
      "[105/300] train: 0.2988 - val: 1.4562\n",
      "[106/300] train: 0.2992 - val: 1.4694\n",
      "[107/300] train: 0.2986 - val: 1.4621\n",
      "[108/300] train: 0.2962 - val: 1.4754\n",
      "[109/300] train: 0.2966 - val: 1.4599\n",
      "[110/300] train: 0.2945 - val: 1.4826\n",
      "[111/300] train: 0.2932 - val: 1.4691\n",
      "[112/300] train: 0.2930 - val: 1.4676\n",
      "[113/300] train: 0.2918 - val: 1.4623\n",
      "[114/300] train: 0.2909 - val: 1.4651\n",
      "[115/300] train: 0.2888 - val: 1.4507\n",
      "[116/300] train: 0.2879 - val: 1.4543\n",
      "[117/300] train: 0.2870 - val: 1.4464\n",
      "[118/300] train: 0.2846 - val: 1.4521\n",
      "[119/300] train: 0.2838 - val: 1.4558\n",
      "[120/300] train: 0.2829 - val: 1.4516\n",
      "[121/300] train: 0.2800 - val: 1.4711\n",
      "[122/300] train: 0.2786 - val: 1.4798\n",
      "[123/300] train: 0.2777 - val: 1.4646\n",
      "[124/300] train: 0.2767 - val: 1.4527\n",
      "[125/300] train: 0.2751 - val: 1.4561\n",
      "[126/300] train: 0.2742 - val: 1.4537\n",
      "[127/300] train: 0.2745 - val: 1.4639\n",
      "[128/300] train: 0.2712 - val: 1.4586\n",
      "[129/300] train: 0.2713 - val: 1.4679\n",
      "[130/300] train: 0.2696 - val: 1.4632\n",
      "[131/300] train: 0.2676 - val: 1.4643\n",
      "[132/300] train: 0.2669 - val: 1.4711\n",
      "[133/300] train: 0.2654 - val: 1.4622\n",
      "[134/300] train: 0.2637 - val: 1.4566\n",
      "[135/300] train: 0.2627 - val: 1.4621\n",
      "[136/300] train: 0.2619 - val: 1.4735\n",
      "[137/300] train: 0.2612 - val: 1.4668\n",
      "[138/300] train: 0.2588 - val: 1.4707\n",
      "[139/300] train: 0.2578 - val: 1.4717\n",
      "[140/300] train: 0.2572 - val: 1.4589\n",
      "[141/300] train: 0.2555 - val: 1.4850\n",
      "[142/300] train: 0.2550 - val: 1.4666\n",
      "[143/300] train: 0.2535 - val: 1.5022\n",
      "[144/300] train: 0.2533 - val: 1.4872\n",
      "[145/300] train: 0.2530 - val: 1.4730\n",
      "[146/300] train: 0.2511 - val: 1.4940\n",
      "[147/300] train: 0.2500 - val: 1.4644\n",
      "[148/300] train: 0.2480 - val: 1.4899\n",
      "[149/300] train: 0.2482 - val: 1.4988\n",
      "[150/300] train: 0.2471 - val: 1.4700\n",
      "[151/300] train: 0.2456 - val: 1.5014\n",
      "[152/300] train: 0.2445 - val: 1.4937\n",
      "[153/300] train: 0.2434 - val: 1.4893\n",
      "[154/300] train: 0.2428 - val: 1.4768\n",
      "[155/300] train: 0.2416 - val: 1.4905\n",
      "[156/300] train: 0.2409 - val: 1.4854\n",
      "[157/300] train: 0.2399 - val: 1.4991\n",
      "[158/300] train: 0.2387 - val: 1.4943\n",
      "[159/300] train: 0.2377 - val: 1.4942\n",
      "[160/300] train: 0.2369 - val: 1.5075\n",
      "[161/300] train: 0.2355 - val: 1.5173\n",
      "[162/300] train: 0.2340 - val: 1.5083\n",
      "[163/300] train: 0.2336 - val: 1.5203\n",
      "[164/300] train: 0.2331 - val: 1.5251\n",
      "[165/300] train: 0.2338 - val: 1.5023\n",
      "[166/300] train: 0.2324 - val: 1.5084\n",
      "[167/300] train: 0.2325 - val: 1.5125\n",
      "[168/300] train: 0.2311 - val: 1.5053\n",
      "[169/300] train: 0.2293 - val: 1.5334\n",
      "[170/300] train: 0.2286 - val: 1.5051\n",
      "[171/300] train: 0.2262 - val: 1.5301\n",
      "[172/300] train: 0.2257 - val: 1.5141\n",
      "[173/300] train: 0.2256 - val: 1.5109\n",
      "[174/300] train: 0.2247 - val: 1.5240\n",
      "[175/300] train: 0.2252 - val: 1.5403\n",
      "[176/300] train: 0.2246 - val: 1.5363\n",
      "[177/300] train: 0.2241 - val: 1.5244\n",
      "[178/300] train: 0.2225 - val: 1.5285\n",
      "[179/300] train: 0.2226 - val: 1.5303\n",
      "[180/300] train: 0.2210 - val: 1.5267\n",
      "[181/300] train: 0.2217 - val: 1.5215\n",
      "[182/300] train: 0.2201 - val: 1.5378\n",
      "[183/300] train: 0.2197 - val: 1.5295\n",
      "[184/300] train: 0.2184 - val: 1.5306\n",
      "[185/300] train: 0.2187 - val: 1.5455\n",
      "[186/300] train: 0.2182 - val: 1.5228\n",
      "[187/300] train: 0.2180 - val: 1.5361\n",
      "[188/300] train: 0.2159 - val: 1.5393\n",
      "[189/300] train: 0.2170 - val: 1.5243\n",
      "[190/300] train: 0.2166 - val: 1.5277\n",
      "[191/300] train: 0.2144 - val: 1.5464\n",
      "[192/300] train: 0.2143 - val: 1.5279\n",
      "[193/300] train: 0.2144 - val: 1.5378\n",
      "[194/300] train: 0.2121 - val: 1.5338\n",
      "[195/300] train: 0.2125 - val: 1.5445\n",
      "[196/300] train: 0.2121 - val: 1.5304\n",
      "[197/300] train: 0.2107 - val: 1.5525\n",
      "[198/300] train: 0.2094 - val: 1.5411\n",
      "[199/300] train: 0.2093 - val: 1.5270\n",
      "[200/300] train: 0.2084 - val: 1.5590\n",
      "[201/300] train: 0.2072 - val: 1.5454\n",
      "[202/300] train: 0.2078 - val: 1.5426\n",
      "[203/300] train: 0.2064 - val: 1.5457\n",
      "[204/300] train: 0.2060 - val: 1.5540\n",
      "[205/300] train: 0.2045 - val: 1.5441\n",
      "[206/300] train: 0.2049 - val: 1.5455\n",
      "[207/300] train: 0.2044 - val: 1.5481\n",
      "[208/300] train: 0.2029 - val: 1.5681\n",
      "[209/300] train: 0.2028 - val: 1.5497\n",
      "[210/300] train: 0.2022 - val: 1.5586\n",
      "[211/300] train: 0.2023 - val: 1.5482\n",
      "[212/300] train: 0.2013 - val: 1.5528\n",
      "[213/300] train: 0.2005 - val: 1.5529\n",
      "[214/300] train: 0.2008 - val: 1.5569\n",
      "[215/300] train: 0.1989 - val: 1.5715\n",
      "[216/300] train: 0.1975 - val: 1.5584\n",
      "[217/300] train: 0.1976 - val: 1.5682\n",
      "[218/300] train: 0.1969 - val: 1.5603\n",
      "[219/300] train: 0.1962 - val: 1.5623\n",
      "[220/300] train: 0.1961 - val: 1.5506\n",
      "[221/300] train: 0.1957 - val: 1.5710\n",
      "[222/300] train: 0.1942 - val: 1.5696\n",
      "[223/300] train: 0.1945 - val: 1.5550\n",
      "[224/300] train: 0.1934 - val: 1.5592\n",
      "[225/300] train: 0.1933 - val: 1.5473\n",
      "[226/300] train: 0.1927 - val: 1.5727\n",
      "[227/300] train: 0.1927 - val: 1.5663\n",
      "[228/300] train: 0.1903 - val: 1.5631\n",
      "[229/300] train: 0.1901 - val: 1.5767\n",
      "[230/300] train: 0.1899 - val: 1.5852\n",
      "[231/300] train: 0.1891 - val: 1.5530\n",
      "[232/300] train: 0.1879 - val: 1.5795\n",
      "[233/300] train: 0.1878 - val: 1.5754\n",
      "[234/300] train: 0.1880 - val: 1.5818\n",
      "[235/300] train: 0.1860 - val: 1.5688\n",
      "[236/300] train: 0.1870 - val: 1.5747\n",
      "[237/300] train: 0.1851 - val: 1.5786\n",
      "[238/300] train: 0.1851 - val: 1.5691\n",
      "[239/300] train: 0.1836 - val: 1.5834\n",
      "[240/300] train: 0.1834 - val: 1.5624\n",
      "[241/300] train: 0.1827 - val: 1.5657\n",
      "[242/300] train: 0.1817 - val: 1.5605\n",
      "[243/300] train: 0.1825 - val: 1.5810\n",
      "[244/300] train: 0.1808 - val: 1.5799\n",
      "[245/300] train: 0.1812 - val: 1.5872\n",
      "[246/300] train: 0.1804 - val: 1.5752\n",
      "[247/300] train: 0.1798 - val: 1.5728\n",
      "[248/300] train: 0.1788 - val: 1.5773\n",
      "[249/300] train: 0.1779 - val: 1.5679\n",
      "[250/300] train: 0.1776 - val: 1.5651\n",
      "[251/300] train: 0.1767 - val: 1.5901\n",
      "[252/300] train: 0.1770 - val: 1.5778\n",
      "[253/300] train: 0.1761 - val: 1.5679\n",
      "[254/300] train: 0.1748 - val: 1.5800\n",
      "[255/300] train: 0.1751 - val: 1.5809\n",
      "[256/300] train: 0.1751 - val: 1.5735\n",
      "[257/300] train: 0.1742 - val: 1.5848\n",
      "[258/300] train: 0.1726 - val: 1.5917\n",
      "[259/300] train: 0.1722 - val: 1.5881\n",
      "[260/300] train: 0.1728 - val: 1.5554\n",
      "[261/300] train: 0.1719 - val: 1.5780\n",
      "[262/300] train: 0.1719 - val: 1.5843\n",
      "[263/300] train: 0.1704 - val: 1.5843\n",
      "[264/300] train: 0.1712 - val: 1.5879\n",
      "[265/300] train: 0.1690 - val: 1.5717\n",
      "[266/300] train: 0.1691 - val: 1.5979\n",
      "[267/300] train: 0.1692 - val: 1.5733\n",
      "[268/300] train: 0.1694 - val: 1.5909\n",
      "[269/300] train: 0.1688 - val: 1.5899\n",
      "[270/300] train: 0.1672 - val: 1.5736\n",
      "[271/300] train: 0.1673 - val: 1.5721\n",
      "[272/300] train: 0.1672 - val: 1.5751\n",
      "[273/300] train: 0.1663 - val: 1.5805\n",
      "[274/300] train: 0.1659 - val: 1.5658\n",
      "[275/300] train: 0.1662 - val: 1.5866\n",
      "[276/300] train: 0.1646 - val: 1.5713\n",
      "[277/300] train: 0.1644 - val: 1.5850\n",
      "[278/300] train: 0.1638 - val: 1.5705\n",
      "[279/300] train: 0.1632 - val: 1.5775\n",
      "[280/300] train: 0.1631 - val: 1.5780\n",
      "[281/300] train: 0.1630 - val: 1.5944\n",
      "[282/300] train: 0.1613 - val: 1.6028\n",
      "[283/300] train: 0.1606 - val: 1.5822\n",
      "[284/300] train: 0.1612 - val: 1.5801\n",
      "[285/300] train: 0.1606 - val: 1.5768\n",
      "[286/300] train: 0.1612 - val: 1.5752\n",
      "[287/300] train: 0.1600 - val: 1.5874\n",
      "[288/300] train: 0.1586 - val: 1.5879\n",
      "[289/300] train: 0.1591 - val: 1.5968\n",
      "[290/300] train: 0.1579 - val: 1.5847\n",
      "[291/300] train: 0.1590 - val: 1.5894\n",
      "[292/300] train: 0.1568 - val: 1.5805\n",
      "[293/300] train: 0.1565 - val: 1.5855\n",
      "[294/300] train: 0.1569 - val: 1.5965\n",
      "[295/300] train: 0.1560 - val: 1.5717\n",
      "[296/300] train: 0.1559 - val: 1.5915\n",
      "[297/300] train: 0.1547 - val: 1.5942\n",
      "[298/300] train: 0.1550 - val: 1.5857\n",
      "[299/300] train: 0.1537 - val: 1.5946\n",
      "[300/300] train: 0.1535 - val: 1.5816\n"
     ]
    }
   ],
   "source": [
    "for epoch in range(n_epochs):\n",
    "    stats = {'epoch': epoch + 1, 'total': n_epochs}\n",
    "\n",
    "    for phase in ('train', 'val'):\n",
    "        if phase == 'train':\n",
    "          training = True\n",
    "        else:\n",
    "          training = False\n",
    "        running_loss = 0\n",
    "        n_batches = 0\n",
    "        for batch in batches(*datasets[phase], shuffle=training, bs=bs):\n",
    "            x_batch, y_batch = [b.to(device) for b in batch]\n",
    "            optimizer.zero_grad()\n",
    "            # compute gradients only during 'train' phase\n",
    "            with torch.set_grad_enabled(training):\n",
    "                outputs = net(x_batch[:,0], x_batch[:,1], minmax)\n",
    "                loss = criterion(outputs, y_batch)\n",
    "                # don't update weights and rates when in 'val' phase\n",
    "                if training:\n",
    "                    #scheduler.step()\n",
    "                    loss.backward()\n",
    "                    optimizer.step()\n",
    "                    #lr_history.extend(scheduler.get_lr())\n",
    "            running_loss += loss.item()\n",
    "        epoch_loss = running_loss / dataset_sizes[phase]\n",
    "        stats[phase] = epoch_loss\n",
    "        # early stopping: save weights of the best model so far\n",
    "        if phase == 'val':\n",
    "            if epoch_loss < best_loss:\n",
    "                print('loss improvement on epoch: %d' % (epoch + 1))\n",
    "                best_loss = epoch_loss\n",
    "                best_weights = copy.deepcopy(net.state_dict())\n",
    "                no_improvements = 0\n",
    "            else:\n",
    "                no_improvements += 1\n",
    "    history.append(stats)\n",
    "    with open(f'logs/large.txt', 'a') as f:\n",
    "        print('[{epoch:03d}/{total:03d}] train: {train:.4f} - val: {val:.4f}'.format(**stats))\n",
    "        f.write('[{epoch:03d}/{total:03d}] train: {train:.4f} - val: {val:.4f}'.format(**stats))\n",
    "    if no_improvements >= patience:\n",
    "        print('early stopping after epoch {epoch:03d}'.format(**stats))\n",
    "        break"
   ],
   "metadata": {
    "collapsed": false,
    "pycharm": {
     "name": "#%%\n"
    }
   }
  },
  {
   "cell_type": "code",
   "execution_count": 51,
   "outputs": [
    {
     "data": {
      "text/plain": "<All keys matched successfully>"
     },
     "execution_count": 51,
     "metadata": {},
     "output_type": "execute_result"
    }
   ],
   "source": [
    "net.load_state_dict(best_weights)"
   ],
   "metadata": {
    "collapsed": false,
    "pycharm": {
     "name": "#%%\n"
    }
   }
  },
  {
   "cell_type": "code",
   "execution_count": 52,
   "outputs": [],
   "source": [
    "groud_truth, predictions = [], []\n",
    "\n",
    "with torch.no_grad():\n",
    "    for batch in batches(*datasets['val'], shuffle=False, bs=bs):\n",
    "        x_batch, y_batch = [b.to(device) for b in batch]\n",
    "        outputs = net(x_batch[:, 0], x_batch[:, 1], minmax)\n",
    "        groud_truth.extend(y_batch.tolist())\n",
    "        predictions.extend(outputs.tolist())\n",
    "\n",
    "groud_truth = np.asarray(groud_truth).ravel()\n",
    "predictions = np.asarray(predictions).ravel()"
   ],
   "metadata": {
    "collapsed": false,
    "pycharm": {
     "name": "#%%\n"
    }
   }
  },
  {
   "cell_type": "code",
   "execution_count": 53,
   "outputs": [
    {
     "name": "stdout",
     "output_type": "stream",
     "text": [
      "Validation RMSE: 1.0277\n"
     ]
    }
   ],
   "source": [
    "valid_loss = np.sqrt(np.mean((predictions - groud_truth)**2))\n",
    "print(f'Validation RMSE: {valid_loss:.4f}')"
   ],
   "metadata": {
    "collapsed": false,
    "pycharm": {
     "name": "#%%\n"
    }
   }
  },
  {
   "cell_type": "code",
   "execution_count": 54,
   "outputs": [],
   "source": [
    "groud_truth, predictions = [], []\n",
    "\n",
    "with torch.no_grad():\n",
    "    for batch in batches(*datasets['test'], shuffle=False, bs=bs):\n",
    "        x_batch, y_batch = [b.to(device) for b in batch]\n",
    "        outputs = net(x_batch[:, 0], x_batch[:, 1], minmax)\n",
    "        groud_truth.extend(y_batch.tolist())\n",
    "        predictions.extend(outputs.tolist())\n",
    "\n",
    "groud_truth = np.asarray(groud_truth).ravel()\n",
    "predictions = np.asarray(predictions).ravel()"
   ],
   "metadata": {
    "collapsed": false,
    "pycharm": {
     "name": "#%%\n"
    }
   }
  },
  {
   "cell_type": "code",
   "execution_count": 55,
   "outputs": [
    {
     "name": "stdout",
     "output_type": "stream",
     "text": [
      "Large test RMSE: 1.0328\n"
     ]
    }
   ],
   "source": [
    "final_loss = np.sqrt(np.mean((predictions - groud_truth)**2))\n",
    "print(f'Large test RMSE: {final_loss:.4f}')"
   ],
   "metadata": {
    "collapsed": false,
    "pycharm": {
     "name": "#%%\n"
    }
   }
  },
  {
   "cell_type": "code",
   "execution_count": 56,
   "outputs": [
    {
     "name": "stdout",
     "output_type": "stream",
     "text": [
      "Large duration: 86.9872\n"
     ]
    }
   ],
   "source": [
    "print(f'Large duration: {round(time.time() - start, 4)}')\n"
   ],
   "metadata": {
    "collapsed": false,
    "pycharm": {
     "name": "#%%\n"
    }
   }
  },
  {
   "cell_type": "code",
   "execution_count": 57,
   "outputs": [],
   "source": [
    "with open('best.weights.big', 'wb') as file:\n",
    "    pickle.dump(best_weights, file)"
   ],
   "metadata": {
    "collapsed": false,
    "pycharm": {
     "name": "#%%\n"
    }
   }
  },
  {
   "cell_type": "code",
   "execution_count": 58,
   "outputs": [
    {
     "data": {
      "text/plain": "<Figure size 432x288 with 1 Axes>",
      "image/png": "[encoded data removed]"
     },
     "metadata": {},
     "output_type": "display_data"
    }
   ],
   "source": [
    "plt.rcParams['font.size'] = 26\n",
    "plt.rcParams['axes.labelsize'] = 26\n",
    "plt.rcParams['xtick.labelsize'] = 26\n",
    "plt.rcParams['ytick.labelsize'] = 26\n",
    "plt.rcParams['legend.fontsize'] = 26\n",
    "plt.style.use('seaborn-whitegrid')\n",
    "ax = pd.DataFrame(history).drop(columns='total').plot(x='epoch')\n",
    "plt.ylabel('loss')\n",
    "plt.ylim([0.2, 1.8])\n",
    "\n",
    "plt.savefig(figure_path + '/' + dataset +'-large-loss.png', dpi=300, bbox_inches='tight')"
   ],
   "metadata": {
    "collapsed": false,
    "pycharm": {
     "name": "#%%\n"
    }
   }
  },
  {
   "cell_type": "code",
   "execution_count": 58,
   "outputs": [],
   "source": [],
   "metadata": {
    "collapsed": false,
    "pycharm": {
     "name": "#%%\n"
    }
   }
  }
 ],
 "metadata": {
  "kernelspec": {
   "name": "pycharm-f57757a1",
   "language": "python",
   "display_name": "PyCharm (rs-via-gnn)"
  },
  "language_info": {
   "codemirror_mode": {
    "name": "ipython",
    "version": 2
   },
   "file_extension": ".py",
   "mimetype": "text/x-python",
   "name": "python",
   "nbconvert_exporter": "python",
   "pygments_lexer": "ipython2",
   "version": "2.7.6"
  }
 },
 "nbformat": 4,
 "nbformat_minor": 0
}