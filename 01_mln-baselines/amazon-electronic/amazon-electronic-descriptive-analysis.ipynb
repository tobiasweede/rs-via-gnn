{
 "cells": [
  {
   "cell_type": "markdown",
   "source": [
    "# Amazon electronic procducts descriptive analysis\n",
    "\n",
    "- Source: Amazon Reviews data (http://jmcauley.ucsd.edu/data/amazon/)\n",
    "\n",
    "The repository has several datasets. For this case study, we are using the Electronics\n",
    "dataset.\n"
   ],
   "metadata": {
    "collapsed": false
   }
  },
  {
   "cell_type": "code",
   "execution_count": 16,
   "outputs": [],
   "source": [
    "import os\n",
    "import json\n",
    "import gzip\n",
    "from tqdm.notebook import tqdm as tqdm\n",
    "\n",
    "import pandas as pd\n",
    "import numpy as np\n",
    "import seaborn as sns\n",
    "import matplotlib.pyplot as plt\n",
    "%matplotlib inline\n",
    "\n",
    "RANDOM = 2021\n",
    "\n",
    "figure_path = '/home/weiss/git/thesis/doc/figures/'"
   ],
   "metadata": {
    "collapsed": false,
    "pycharm": {
     "name": "#%%\n"
    }
   }
  },
  {
   "cell_type": "code",
   "execution_count": 17,
   "outputs": [],
   "source": [
    "DIR = '/home/weiss/rs_data/amazon-electronic-product-recommendation/'\n",
    "PATH_IN = os.path.join(DIR, 'Electronics.json.gz')\n",
    "PATH_META = os.path.join(DIR, 'meta_Electronics.json.gz')"
   ],
   "metadata": {
    "collapsed": false,
    "pycharm": {
     "name": "#%%\n"
    }
   }
  },
  {
   "cell_type": "code",
   "execution_count": 18,
   "outputs": [],
   "source": [
    "### load the meta data\n",
    "\n",
    "def load_data(file, limit_data=False):\n",
    "    data = []\n",
    "    with gzip.open(file) as f:\n",
    "        i = 0\n",
    "        for l in tqdm(f):\n",
    "            data.append(json.loads(l.strip()))\n",
    "            if i >= 100000 and limit_data == True:\n",
    "                break\n",
    "            i +=1\n",
    "    return pd.DataFrame.from_dict(data)"
   ],
   "metadata": {
    "collapsed": false,
    "pycharm": {
     "name": "#%%\n"
    }
   }
  },
  {
   "cell_type": "code",
   "execution_count": null,
   "outputs": [
    {
     "data": {
      "text/plain": "HBox(children=(HTML(value=''), FloatProgress(value=1.0, bar_style='info', layout=Layout(width='20px'), max=1.0…",
      "application/vnd.jupyter.widget-view+json": {
       "version_major": 2,
       "version_minor": 0,
       "model_id": "3b12ef33feea47a4a6644f45e9bda019"
      }
     },
     "metadata": {},
     "output_type": "display_data"
    }
   ],
   "source": [
    "ratings = load_data(PATH_IN)\n",
    "print(ratings.head())\n",
    "print(ratings.shape)"
   ],
   "metadata": {
    "collapsed": false,
    "pycharm": {
     "name": "#%%\n",
     "is_executing": true
    }
   }
  },
  {
   "cell_type": "code",
   "execution_count": null,
   "outputs": [],
   "source": [
    "meta = load_data(PATH_META, limit_data=True)\n",
    "print(meta.head())\n",
    "print(meta.shape)"
   ],
   "metadata": {
    "collapsed": false,
    "pycharm": {
     "name": "#%%\n",
     "is_executing": true
    }
   }
  },
  {
   "cell_type": "code",
   "execution_count": null,
   "outputs": [],
   "source": [
    "processed_ratings = ratings[['reviewerID', 'asin','overall']]\n",
    "processed_ratings.columns = ['user_id', 'item_id', 'rating']\n",
    "display(processed_ratings.head())"
   ],
   "metadata": {
    "collapsed": false,
    "pycharm": {
     "name": "#%%\n",
     "is_executing": true
    }
   }
  },
  {
   "cell_type": "code",
   "execution_count": null,
   "outputs": [],
   "source": [
    "print('# users: ', processed_ratings['user_id'].unique().size)\n",
    "print('# items: ', processed_ratings['item_id'].unique().size)\n",
    "print('# ratings: ', processed_ratings['rating'].size)"
   ],
   "metadata": {
    "collapsed": false,
    "pycharm": {
     "name": "#%%\n",
     "is_executing": true
    }
   }
  },
  {
   "cell_type": "code",
   "execution_count": null,
   "outputs": [],
   "source": [
    "# power law?\n",
    "rating_count_by_user = processed_ratings.groupby('user_id').size().sort_values(ascending=False)\n",
    "print(rating_count_by_user)\n",
    "print(type(rating_count_by_user))\n",
    "size = rating_count_by_user.size\n",
    "print(size)\n",
    "\n",
    "df = pd.DataFrame(dict(sorted_user_id=range(1,size+1), rating_counts=rating_count_by_user.values))\n",
    "\n",
    "sns.set(style='whitegrid', font_scale=1.3, rc={'xtick.labelsize':12, 'ytick.labelsize':12})\n",
    "image = sns.relplot(data=df,\n",
    "                    x=\"sorted_user_id\",\n",
    "                    y=\"rating_counts\",\n",
    "                    kind=\"line\",\n",
    "                    )\n",
    "\n",
    "image.set(xlabel=\"users sorted desc. by # ratings\",\n",
    "          ylabel=\"# ratings\"\n",
    "          )\n",
    "\n",
    "\n",
    "image.savefig(figure_path + '/amazon-long-tail-distribution.png', dpi=300, bbox_inches='tight')"
   ],
   "metadata": {
    "collapsed": false,
    "pycharm": {
     "name": "#%%\n",
     "is_executing": true
    }
   }
  },
  {
   "cell_type": "code",
   "execution_count": null,
   "outputs": [],
   "source": [
    "# Keep entries where the user has rated more than n items and less than m items\n",
    "\n",
    "n = 50\n",
    "m = 1000\n",
    "\n",
    "counts = processed_ratings['user_id'].value_counts()\n",
    "mask = (counts >= n) & (counts <= m)\n",
    "print(mask.value_counts())\n",
    "processed_ratings_cut = processed_ratings[processed_ratings['user_id'].isin(mask[mask == True].index)]"
   ],
   "metadata": {
    "collapsed": false,
    "pycharm": {
     "name": "#%%\n",
     "is_executing": true
    }
   }
  },
  {
   "cell_type": "code",
   "execution_count": null,
   "outputs": [],
   "source": [
    "# power law?\n",
    "rating_count_by_user = processed_ratings_cut.groupby('user_id').size().sort_values(ascending=False)\n",
    "print(rating_count_by_user)\n",
    "print(type(rating_count_by_user))\n",
    "size = rating_count_by_user.size\n",
    "print(size)\n",
    "\n",
    "df = pd.DataFrame(dict(sorted_user_id=range(1,size+1), rating_counts=rating_count_by_user.values))\n",
    "\n",
    "sns.set(style='whitegrid', font_scale=1.3, rc={'xtick.labelsize':12, 'ytick.labelsize':12})\n",
    "image = sns.relplot(data=df,\n",
    "                    x=\"sorted_user_id\",\n",
    "                    y=\"rating_counts\",\n",
    "                    kind=\"line\",\n",
    "                    )\n",
    "\n",
    "image.set(xlabel=\"users sorted desc. by # ratings\",\n",
    "          ylabel=\"# ratings\"\n",
    "          )\n",
    "\n",
    "\n",
    "image.savefig(figure_path + '/amazon-long-tail-distribution-cut.png', dpi=300, bbox_inches='tight')"
   ],
   "metadata": {
    "collapsed": false,
    "pycharm": {
     "name": "#%%\n",
     "is_executing": true
    }
   }
  },
  {
   "cell_type": "code",
   "execution_count": null,
   "outputs": [],
   "source": [
    "processed_ratings_cut['rating'] = processed_ratings_cut['rating'].values.astype(int)\n",
    "\n",
    "print(processed_ratings_cut['rating'])\n",
    "print(processed_ratings_cut['rating'].size)"
   ],
   "metadata": {
    "collapsed": false,
    "pycharm": {
     "name": "#%%\n",
     "is_executing": true
    }
   }
  },
  {
   "cell_type": "code",
   "execution_count": null,
   "outputs": [],
   "source": [
    "# rating distribution after cleanup\n",
    "sns.set(style='whitegrid', font_scale=1.3)\n",
    "g = sns.factorplot(\"rating\", data=processed_ratings_cut, kind='count')\n",
    "g.set_ylabels(\"# ratings\")\n",
    "g.savefig(figure_path + '/amazon-rating-distribution.png', dpi=300, bbox_inches='tight')"
   ],
   "metadata": {
    "collapsed": false,
    "pycharm": {
     "name": "#%%\n",
     "is_executing": true
    }
   }
  },
  {
   "cell_type": "code",
   "execution_count": null,
   "outputs": [],
   "source": [
    "processed_ratings_cut['rating'].mean()"
   ],
   "metadata": {
    "collapsed": false,
    "pycharm": {
     "name": "#%%\n",
     "is_executing": true
    }
   }
  },
  {
   "cell_type": "code",
   "execution_count": null,
   "outputs": [],
   "source": [
    "processed_ratings_cut['rating'].median()"
   ],
   "metadata": {
    "collapsed": false,
    "pycharm": {
     "name": "#%%\n",
     "is_executing": true
    }
   }
  },
  {
   "cell_type": "code",
   "execution_count": null,
   "outputs": [],
   "source": [
    "# save processed ratings as pickle\n",
    "processed_ratings_cut.to_pickle(DIR+'amazon-electronic-ratings.pkl')"
   ],
   "metadata": {
    "collapsed": false,
    "pycharm": {
     "name": "#%%\n",
     "is_executing": true
    }
   }
  },
  {
   "cell_type": "code",
   "execution_count": null,
   "outputs": [],
   "source": [],
   "metadata": {
    "collapsed": false,
    "pycharm": {
     "name": "#%%\n",
     "is_executing": true
    }
   }
  }
 ],
 "metadata": {
  "kernelspec": {
   "name": "pycharm-f57757a1",
   "language": "python",
   "display_name": "PyCharm (rs-via-gnn)"
  },
  "language_info": {
   "codemirror_mode": {
    "name": "ipython",
    "version": 3
   },
   "file_extension": ".py",
   "mimetype": "text/x-python",
   "name": "python",
   "nbconvert_exporter": "python",
   "pygments_lexer": "ipython3",
   "version": "3.7.9"
  },
  "papermill": {
   "duration": 38.668056,
   "end_time": "2021-01-16T05:36:39.152998",
   "environment_variables": {},
   "exception": null,
   "input_path": "__notebook__.ipynb",
   "output_path": "__notebook__.ipynb",
   "parameters": {},
   "start_time": "2021-01-16T05:36:00.484942",
   "version": "2.1.0"
  }
 },
 "nbformat": 4,
 "nbformat_minor": 4
}