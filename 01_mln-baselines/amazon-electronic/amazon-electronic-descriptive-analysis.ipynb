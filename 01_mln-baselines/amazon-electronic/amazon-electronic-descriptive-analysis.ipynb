{
 "cells": [
  {
   "cell_type": "markdown",
   "source": [
    "# Amazon electronic procducts descriptive analysis\n",
    "\n",
    "- Source: Amazon Reviews data (http://jmcauley.ucsd.edu/data/amazon/)\n",
    "\n",
    "The repository has several datasets. For this case study, we are using the Electronics\n",
    "dataset.\n"
   ],
   "metadata": {
    "collapsed": false
   }
  },
  {
   "cell_type": "code",
   "execution_count": 1,
   "outputs": [],
   "source": [
    "import os\n",
    "import json\n",
    "import gzip\n",
    "from tqdm.notebook import tqdm as tqdm\n",
    "\n",
    "import pandas as pd\n",
    "import numpy as np\n",
    "import seaborn as sns\n",
    "import matplotlib.pyplot as plt\n",
    "%matplotlib inline\n",
    "\n",
    "RANDOM = 2021\n",
    "\n",
    "figure_path = '/home/weiss/git/thesis/doc/figures/'"
   ],
   "metadata": {
    "collapsed": false,
    "pycharm": {
     "name": "#%%\n"
    }
   }
  },
  {
   "cell_type": "code",
   "execution_count": 2,
   "outputs": [],
   "source": [
    "DIR = '/home/weiss/rs_data/amazon-electronic-product-recommendation/'\n",
    "PATH_IN = os.path.join(DIR, 'Electronics.json.gz')\n",
    "PATH_META = os.path.join(DIR, 'meta_Electronics.json.gz')"
   ],
   "metadata": {
    "collapsed": false,
    "pycharm": {
     "name": "#%%\n"
    }
   }
  },
  {
   "cell_type": "code",
   "execution_count": 3,
   "outputs": [],
   "source": [
    "### load the meta data\n",
    "\n",
    "def load_data(file, limit_data=False):\n",
    "    data = []\n",
    "    with gzip.open(file) as f:\n",
    "        i = 0\n",
    "        for l in tqdm(f):\n",
    "            data.append(json.loads(l.strip()))\n",
    "            if i >= 100000 and limit_data == True:\n",
    "                break\n",
    "            i +=1\n",
    "    return pd.DataFrame.from_dict(data)"
   ],
   "metadata": {
    "collapsed": false,
    "pycharm": {
     "name": "#%%\n"
    }
   }
  },
  {
   "cell_type": "code",
   "execution_count": 4,
   "outputs": [
    {
     "data": {
      "text/plain": "HBox(children=(HTML(value=''), FloatProgress(value=1.0, bar_style='info', layout=Layout(width='20px'), max=1.0…",
      "application/vnd.jupyter.widget-view+json": {
       "version_major": 2,
       "version_minor": 0,
       "model_id": "bb2226d13a5a445095ddb10bafecebd0"
      }
     },
     "metadata": {},
     "output_type": "display_data"
    },
    {
     "name": "stdout",
     "output_type": "stream",
     "text": [
      "\n",
      "   overall  verified   reviewTime      reviewerID        asin  \\\n",
      "0      5.0      True  07 17, 2002  A1N070NS9CJQ2I  0060009810   \n",
      "1      5.0     False   07 6, 2002  A3P0KRKOBQK1KN  0060009810   \n",
      "2      5.0     False   07 3, 2002  A192HO2ICJ75VU  0060009810   \n",
      "3      4.0     False  06 30, 2002  A2T278FKFL3BLT  0060009810   \n",
      "4      5.0     False  06 28, 2002  A2ZUXVTW8RXBXW  0060009810   \n",
      "\n",
      "                       style reviewerName  \\\n",
      "0  {'Format:': ' Hardcover'}   Teri Adams   \n",
      "1  {'Format:': ' Hardcover'}     Willa C.   \n",
      "2  {'Format:': ' Hardcover'}          Kit   \n",
      "3  {'Format:': ' Hardcover'}       Andres   \n",
      "4  {'Format:': ' Hardcover'}         John   \n",
      "\n",
      "                                          reviewText  \\\n",
      "0  This was the first time I read Garcia-Aguilera...   \n",
      "1  As with all of Ms. Garcia-Aguilera's books, I ...   \n",
      "2  I've not read any of Ms Aguilera's works befor...   \n",
      "3  This romance novel is right up there with the ...   \n",
      "4  Carolina Garcia Aguilera has done it again.  S...   \n",
      "\n",
      "                          summary  unixReviewTime vote image  \n",
      "0                   Hit The Spot!      1026864000  NaN   NaN  \n",
      "1  one hot summer is HOT HOT HOT!      1025913600  NaN   NaN  \n",
      "2                  One Hot Summer      1025654400    2   NaN  \n",
      "3               I love this book!      1025395200    3   NaN  \n",
      "4                    One Hot Book      1025222400  NaN   NaN  \n",
      "(20994353, 12)\n"
     ]
    }
   ],
   "source": [
    "ratings = load_data(PATH_IN)\n",
    "print(ratings.head())\n",
    "print(ratings.shape)"
   ],
   "metadata": {
    "collapsed": false,
    "pycharm": {
     "name": "#%%\n"
    }
   }
  },
  {
   "cell_type": "code",
   "execution_count": 5,
   "outputs": [
    {
     "data": {
      "text/plain": "HBox(children=(HTML(value=''), FloatProgress(value=1.0, bar_style='info', layout=Layout(width='20px'), max=1.0…",
      "application/vnd.jupyter.widget-view+json": {
       "version_major": 2,
       "version_minor": 0,
       "model_id": "5fd9e83132954816b770d8325ffbc4cf"
      }
     },
     "metadata": {},
     "output_type": "display_data"
    },
    {
     "name": "stdout",
     "output_type": "stream",
     "text": [
      "\n",
      "                                            category tech1  \\\n",
      "0  [Electronics, Camera &amp; Photo, Video Survei...         \n",
      "1                  [Electronics, Camera &amp; Photo]         \n",
      "2  [Electronics, eBook Readers &amp; Accessories,...         \n",
      "3  [Electronics, eBook Readers & Accessories, eBo...         \n",
      "4  [Electronics, eBook Readers & Accessories, eBo...         \n",
      "\n",
      "                                         description fit  \\\n",
      "0  [The following camera brands and models have b...       \n",
      "1  [This second edition of the Handbook of Astron...       \n",
      "2  [A zesty tale. (Publishers Weekly)<br /><br />...       \n",
      "3                                                 []       \n",
      "4  [&#8220;sex.lies.murder.fame. is brillllli&#82...       \n",
      "\n",
      "                                               title  \\\n",
      "0  Genuine Geovision 1 Channel 3rd Party NVR IP S...   \n",
      "1  Books \"Handbook of Astronomical Image Processi...   \n",
      "2                                     One Hot Summer   \n",
      "3  Hurray for Hattie Rabbit: Story and pictures (...   \n",
      "4                     sex.lies.murder.fame.: A Novel   \n",
      "\n",
      "                               also_buy  \\\n",
      "0                                    []   \n",
      "1                          [0999470906]   \n",
      "2              [0425167798, 039914157X]   \n",
      "3  [0060219521, 0060219580, 0060219394]   \n",
      "4                                    []   \n",
      "\n",
      "                                               image tech2  \\\n",
      "0  [https://images-na.ssl-images-amazon.com/image...         \n",
      "1  [https://images-na.ssl-images-amazon.com/image...         \n",
      "2                                                 []         \n",
      "3                                                 []         \n",
      "4                                                 []         \n",
      "\n",
      "                                          brand  \\\n",
      "0                                     GeoVision   \n",
      "1                                  33 Books Co.   \n",
      "2  Visit Amazon's Carolina Garcia Aguilera Page   \n",
      "3           Visit Amazon's Dick Gackenbach Page   \n",
      "4              Visit Amazon's Lolita Files Page   \n",
      "\n",
      "                                             feature  \\\n",
      "0  [Genuine Geovision 1 Channel NVR IP Software, ...   \n",
      "1  [Detailed chapters cover these fundamental top...   \n",
      "2                                                 []   \n",
      "3                                                 []   \n",
      "4                                                 []   \n",
      "\n",
      "                                                rank  \\\n",
      "0  [>#3,092 in Tools &amp; Home Improvement &gt; ...   \n",
      "1  [>#55,933 in Camera &amp; Photo (See Top 100 i...   \n",
      "2                               3,105,177 in Books (   \n",
      "3                               2,024,298 in Books (   \n",
      "4                               3,778,828 in Books (   \n",
      "\n",
      "                              also_view            main_cat similar_item  \\\n",
      "0                                    []  Camera &amp; Photo                \n",
      "1  [0943396670, 1138055360, 0999470906]  Camera &amp; Photo                \n",
      "2                                    []               Books                \n",
      "3  [0060219521, 0060219475, 0060219394]               Books                \n",
      "4                                    []               Books                \n",
      "\n",
      "               date                                              price  \\\n",
      "0  January 28, 2014                                             $65.00   \n",
      "1     June 17, 2003                                                      \n",
      "2                                                               $11.49   \n",
      "3                    .a-section.a-spacing-mini{margin-bottom:6px!im...   \n",
      "4                                                               $13.95   \n",
      "\n",
      "         asin details  \n",
      "0  0011300000     NaN  \n",
      "1  0043396828     NaN  \n",
      "2  0060009810     NaN  \n",
      "3  0060219602     NaN  \n",
      "4  0060786817     NaN  \n",
      "(100001, 18)\n"
     ]
    }
   ],
   "source": [
    "meta = load_data(PATH_META, limit_data=True)\n",
    "print(meta.head())\n",
    "print(meta.shape)"
   ],
   "metadata": {
    "collapsed": false,
    "pycharm": {
     "name": "#%%\n"
    }
   }
  },
  {
   "cell_type": "code",
   "execution_count": 6,
   "outputs": [
    {
     "data": {
      "text/plain": "          user_id     item_id  rating\n0  A1N070NS9CJQ2I  0060009810     5.0\n1  A3P0KRKOBQK1KN  0060009810     5.0\n2  A192HO2ICJ75VU  0060009810     5.0\n3  A2T278FKFL3BLT  0060009810     4.0\n4  A2ZUXVTW8RXBXW  0060009810     5.0",
      "text/html": "<div>\n<style scoped>\n    .dataframe tbody tr th:only-of-type {\n        vertical-align: middle;\n    }\n\n    .dataframe tbody tr th {\n        vertical-align: top;\n    }\n\n    .dataframe thead th {\n        text-align: right;\n    }\n</style>\n<table border=\"1\" class=\"dataframe\">\n  <thead>\n    <tr style=\"text-align: right;\">\n      <th></th>\n      <th>user_id</th>\n      <th>item_id</th>\n      <th>rating</th>\n    </tr>\n  </thead>\n  <tbody>\n    <tr>\n      <th>0</th>\n      <td>A1N070NS9CJQ2I</td>\n      <td>0060009810</td>\n      <td>5.0</td>\n    </tr>\n    <tr>\n      <th>1</th>\n      <td>A3P0KRKOBQK1KN</td>\n      <td>0060009810</td>\n      <td>5.0</td>\n    </tr>\n    <tr>\n      <th>2</th>\n      <td>A192HO2ICJ75VU</td>\n      <td>0060009810</td>\n      <td>5.0</td>\n    </tr>\n    <tr>\n      <th>3</th>\n      <td>A2T278FKFL3BLT</td>\n      <td>0060009810</td>\n      <td>4.0</td>\n    </tr>\n    <tr>\n      <th>4</th>\n      <td>A2ZUXVTW8RXBXW</td>\n      <td>0060009810</td>\n      <td>5.0</td>\n    </tr>\n  </tbody>\n</table>\n</div>"
     },
     "metadata": {},
     "output_type": "display_data"
    }
   ],
   "source": [
    "processed_ratings = ratings[['reviewerID', 'asin','overall']]\n",
    "processed_ratings.columns = ['user_id', 'item_id', 'rating']\n",
    "display(processed_ratings.head())"
   ],
   "metadata": {
    "collapsed": false,
    "pycharm": {
     "name": "#%%\n"
    }
   }
  },
  {
   "cell_type": "code",
   "execution_count": 7,
   "outputs": [
    {
     "name": "stdout",
     "output_type": "stream",
     "text": [
      "# users:  9838676\n",
      "# items:  756489\n",
      "# ratings:  20994353\n"
     ]
    }
   ],
   "source": [
    "print('# users: ', processed_ratings['user_id'].unique().size)\n",
    "print('# items: ', processed_ratings['item_id'].unique().size)\n",
    "print('# ratings: ', processed_ratings['rating'].size)"
   ],
   "metadata": {
    "collapsed": false,
    "pycharm": {
     "name": "#%%\n"
    }
   }
  },
  {
   "cell_type": "code",
   "execution_count": 8,
   "outputs": [
    {
     "name": "stdout",
     "output_type": "stream",
     "text": [
      "user_id\n",
      "A680RUE1FDO8B     633\n",
      "A3OXHLG6DIBRW8    593\n",
      "ADLVFFE4VBT8      549\n",
      "A1X1CEGHTHMBL1    498\n",
      "A6FIAB28IS79      491\n",
      "                 ... \n",
      "A2JNTVQIKGB5O1      1\n",
      "A2JNTURHIY1LIN      1\n",
      "A2JNTSQZZE069Q      1\n",
      "A2JNTLW8Q6SFKZ      1\n",
      "A2W4MUCX8DW4Q9      1\n",
      "Length: 9838676, dtype: int64\n",
      "<class 'pandas.core.series.Series'>\n",
      "9838676\n"
     ]
    },
    {
     "data": {
      "text/plain": "<Figure size 360x360 with 1 Axes>",
      "image/png": "[encoded data removed]"
     },
     "metadata": {},
     "output_type": "display_data"
    }
   ],
   "source": [
    "# power law?\n",
    "rating_count_by_user = processed_ratings.groupby('user_id').size().sort_values(ascending=False)\n",
    "print(rating_count_by_user)\n",
    "print(type(rating_count_by_user))\n",
    "size = rating_count_by_user.size\n",
    "print(size)\n",
    "\n",
    "df = pd.DataFrame(dict(sorted_user_id=range(1,size+1), rating_counts=rating_count_by_user.values))\n",
    "\n",
    "sns.set(style='whitegrid', font_scale=1.3, rc={'xtick.labelsize':12, 'ytick.labelsize':12})\n",
    "image = sns.relplot(data=df,\n",
    "                    x=\"sorted_user_id\",\n",
    "                    y=\"rating_counts\",\n",
    "                    kind=\"line\",\n",
    "                    )\n",
    "\n",
    "image.set(xlabel=\"users sorted desc. by # ratings\",\n",
    "          ylabel=\"# ratings\"\n",
    "          )\n",
    "\n",
    "\n",
    "image.savefig(figure_path + '/amazon-long-tail-distribution.png', dpi=300, bbox_inches='tight')"
   ],
   "metadata": {
    "collapsed": false,
    "pycharm": {
     "name": "#%%\n"
    }
   }
  },
  {
   "cell_type": "code",
   "execution_count": 9,
   "outputs": [
    {
     "name": "stdout",
     "output_type": "stream",
     "text": [
      "False    9833533\n",
      "True        5143\n",
      "Name: user_id, dtype: int64\n"
     ]
    }
   ],
   "source": [
    "# Keep entries where the user has rated more than n items and less than m items\n",
    "\n",
    "n = 50\n",
    "m = 1000\n",
    "\n",
    "counts = processed_ratings['user_id'].value_counts()\n",
    "mask = (counts >= n) & (counts <= m)\n",
    "print(mask.value_counts())\n",
    "processed_ratings_cut = processed_ratings[processed_ratings['user_id'].isin(mask[mask == True].index)]"
   ],
   "metadata": {
    "collapsed": false,
    "pycharm": {
     "name": "#%%\n"
    }
   }
  },
  {
   "cell_type": "code",
   "execution_count": 10,
   "outputs": [
    {
     "name": "stdout",
     "output_type": "stream",
     "text": [
      "user_id\n",
      "A680RUE1FDO8B     633\n",
      "A3OXHLG6DIBRW8    593\n",
      "ADLVFFE4VBT8      549\n",
      "A1X1CEGHTHMBL1    498\n",
      "A6FIAB28IS79      491\n",
      "                 ... \n",
      "AL3JCDQ3DTGFE      50\n",
      "A2Y3FNMRNCDFUA     50\n",
      "A26OALL5BYR5UH     50\n",
      "A3RKGFB4T4NBCL     50\n",
      "AFZLQ3QNRGOZM      50\n",
      "Length: 5143, dtype: int64\n",
      "<class 'pandas.core.series.Series'>\n",
      "5143\n"
     ]
    },
    {
     "data": {
      "text/plain": "<Figure size 360x360 with 1 Axes>",
      "image/png": "[encoded data removed]"
     },
     "metadata": {},
     "output_type": "display_data"
    }
   ],
   "source": [
    "# power law?\n",
    "rating_count_by_user = processed_ratings_cut.groupby('user_id').size().sort_values(ascending=False)\n",
    "print(rating_count_by_user)\n",
    "print(type(rating_count_by_user))\n",
    "size = rating_count_by_user.size\n",
    "print(size)\n",
    "\n",
    "df = pd.DataFrame(dict(sorted_user_id=range(1,size+1), rating_counts=rating_count_by_user.values))\n",
    "\n",
    "sns.set(style='whitegrid', font_scale=1.3, rc={'xtick.labelsize':12, 'ytick.labelsize':12})\n",
    "image = sns.relplot(data=df,\n",
    "                    x=\"sorted_user_id\",\n",
    "                    y=\"rating_counts\",\n",
    "                    kind=\"line\",\n",
    "                    )\n",
    "\n",
    "image.set(xlabel=\"users sorted desc. by # ratings\",\n",
    "          ylabel=\"# ratings\"\n",
    "          )\n",
    "\n",
    "\n",
    "image.savefig(figure_path + '/amazon-long-tail-distribution-cut.png', dpi=300, bbox_inches='tight')"
   ],
   "metadata": {
    "collapsed": false,
    "pycharm": {
     "name": "#%%\n"
    }
   }
  },
  {
   "cell_type": "code",
   "execution_count": 11,
   "outputs": [
    {
     "name": "stdout",
     "output_type": "stream",
     "text": [
      "222         4\n",
      "306         5\n",
      "380         5\n",
      "649         5\n",
      "743         3\n",
      "           ..\n",
      "20993431    5\n",
      "20993438    5\n",
      "20993495    5\n",
      "20993689    4\n",
      "20993740    4\n",
      "Name: rating, Length: 394059, dtype: int64\n",
      "394059\n"
     ]
    },
    {
     "name": "stderr",
     "output_type": "stream",
     "text": [
      "/home/weiss/.conda/envs/GNN/lib/python3.7/site-packages/ipykernel_launcher.py:1: SettingWithCopyWarning: \n",
      "A value is trying to be set on a copy of a slice from a DataFrame.\n",
      "Try using .loc[row_indexer,col_indexer] = value instead\n",
      "\n",
      "See the caveats in the documentation: https://pandas.pydata.org/pandas-docs/stable/user_guide/indexing.html#returning-a-view-versus-a-copy\n",
      "  \"\"\"Entry point for launching an IPython kernel.\n"
     ]
    }
   ],
   "source": [
    "processed_ratings_cut['rating'] = processed_ratings_cut['rating'].values.astype(int)\n",
    "\n",
    "print(processed_ratings_cut['rating'])\n",
    "print(processed_ratings_cut['rating'].size)"
   ],
   "metadata": {
    "collapsed": false,
    "pycharm": {
     "name": "#%%\n"
    }
   }
  },
  {
   "cell_type": "code",
   "execution_count": 12,
   "outputs": [
    {
     "name": "stderr",
     "output_type": "stream",
     "text": [
      "/home/weiss/.conda/envs/GNN/lib/python3.7/site-packages/seaborn/categorical.py:3704: UserWarning: The `factorplot` function has been renamed to `catplot`. The original name will be removed in a future release. Please update your code. Note that the default `kind` in `factorplot` (`'point'`) has changed `'strip'` in `catplot`.\n",
      "  warnings.warn(msg)\n",
      "/home/weiss/.conda/envs/GNN/lib/python3.7/site-packages/seaborn/_decorators.py:43: FutureWarning: Pass the following variable as a keyword arg: x. From version 0.12, the only valid positional argument will be `data`, and passing other arguments without an explicit keyword will result in an error or misinterpretation.\n",
      "  FutureWarning\n"
     ]
    },
    {
     "data": {
      "text/plain": "<Figure size 360x360 with 1 Axes>",
      "image/png": "[encoded data removed]"
     },
     "metadata": {},
     "output_type": "display_data"
    }
   ],
   "source": [
    "# rating distribution after cleanup\n",
    "sns.set(style='whitegrid', font_scale=1.3)\n",
    "g = sns.factorplot(\"rating\", data=processed_ratings_cut, kind='count')\n",
    "g.set_ylabels(\"# ratings\")\n",
    "g.savefig(figure_path + '/amazon-rating-distribution.png', dpi=300, bbox_inches='tight')"
   ],
   "metadata": {
    "collapsed": false,
    "pycharm": {
     "name": "#%%\n"
    }
   }
  },
  {
   "cell_type": "code",
   "execution_count": 13,
   "outputs": [
    {
     "data": {
      "text/plain": "4.340865200388774"
     },
     "execution_count": 13,
     "metadata": {},
     "output_type": "execute_result"
    }
   ],
   "source": [
    "processed_ratings_cut['rating'].mean()"
   ],
   "metadata": {
    "collapsed": false,
    "pycharm": {
     "name": "#%%\n"
    }
   }
  },
  {
   "cell_type": "code",
   "execution_count": 14,
   "outputs": [
    {
     "data": {
      "text/plain": "5.0"
     },
     "execution_count": 14,
     "metadata": {},
     "output_type": "execute_result"
    }
   ],
   "source": [
    "processed_ratings_cut['rating'].median()"
   ],
   "metadata": {
    "collapsed": false,
    "pycharm": {
     "name": "#%%\n"
    }
   }
  },
  {
   "cell_type": "code",
   "execution_count": 15,
   "outputs": [],
   "source": [
    "# save processed ratings as pickle\n",
    "processed_ratings_cut.to_pickle(DIR+'amazon-electronic-ratings.pkl')"
   ],
   "metadata": {
    "collapsed": false,
    "pycharm": {
     "name": "#%%\n"
    }
   }
  },
  {
   "cell_type": "code",
   "execution_count": 15,
   "outputs": [],
   "source": [],
   "metadata": {
    "collapsed": false,
    "pycharm": {
     "name": "#%%\n"
    }
   }
  }
 ],
 "metadata": {
  "kernelspec": {
   "name": "pycharm-f57757a1",
   "language": "python",
   "display_name": "PyCharm (rs-via-gnn)"
  },
  "language_info": {
   "codemirror_mode": {
    "name": "ipython",
    "version": 3
   },
   "file_extension": ".py",
   "mimetype": "text/x-python",
   "name": "python",
   "nbconvert_exporter": "python",
   "pygments_lexer": "ipython3",
   "version": "3.7.9"
  },
  "papermill": {
   "duration": 38.668056,
   "end_time": "2021-01-16T05:36:39.152998",
   "environment_variables": {},
   "exception": null,
   "input_path": "__notebook__.ipynb",
   "output_path": "__notebook__.ipynb",
   "parameters": {},
   "start_time": "2021-01-16T05:36:00.484942",
   "version": "2.1.0"
  }
 },
 "nbformat": 4,
 "nbformat_minor": 4
}