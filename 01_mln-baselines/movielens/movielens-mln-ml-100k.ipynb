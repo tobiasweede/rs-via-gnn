{
 "cells": [
  {
   "cell_type": "markdown",
   "metadata": {
    "collapsed": true,
    "pycharm": {
     "name": "#%% md\n"
    }
   },
   "source": [
    "# MovieLens MLN Recommendation via PyTorch\n",
    "\n",
    "adapted from https://github.com/fastai/fastai"
   ]
  },
  {
   "cell_type": "code",
   "execution_count": 330,
   "outputs": [],
   "source": [
    "import math\n",
    "import copy\n",
    "import pickle\n",
    "from pathlib import Path\n",
    "from itertools import zip_longest\n",
    "\n",
    "import numpy as np\n",
    "import pandas as pd\n",
    "import matplotlib.pyplot as plt\n",
    "from sklearn.model_selection import train_test_split\n",
    "\n",
    "import torch\n",
    "from torch import nn\n",
    "from torch import optim\n",
    "from torch.optim.lr_scheduler import _LRScheduler\n",
    "\n",
    "import time"
   ],
   "metadata": {
    "collapsed": false,
    "pycharm": {
     "name": "#%%\n"
    }
   }
  },
  {
   "cell_type": "code",
   "execution_count": 331,
   "outputs": [],
   "source": [
    "def set_random_seed(state=1):\n",
    "    gens = (np.random.seed, torch.manual_seed, torch.cuda.manual_seed)\n",
    "    for set_state in gens:\n",
    "        set_state(state)\n",
    "\n",
    "RANDOM_STATE = 2021\n",
    "set_random_seed(RANDOM_STATE)"
   ],
   "metadata": {
    "collapsed": false,
    "pycharm": {
     "name": "#%%\n"
    }
   }
  },
  {
   "cell_type": "code",
   "execution_count": 332,
   "outputs": [],
   "source": [
    "def read_data(path):\n",
    "    files = {}\n",
    "    path = Path(path)\n",
    "    for filename in path.glob('*'):\n",
    "        if filename.suffix == '.csv':\n",
    "            files[filename.stem] = pd.read_csv(filename)\n",
    "        elif filename.suffix == '.dat':\n",
    "            if filename.stem == 'ratings':\n",
    "                columns = ['userId', 'movieId', 'rating', 'timestamp']\n",
    "            else:\n",
    "                columns = ['movieId', 'title', 'genres']\n",
    "            data = pd.read_csv(filename, sep='::', names=columns, engine='python')\n",
    "            files[filename.stem] = data\n",
    "        elif filename.suffix == '.data':  # ml-100k\n",
    "            if filename.stem == 'u':\n",
    "                columns = ['userId', 'movieId', 'rating', 'timestamp']\n",
    "                data = pd.read_csv(filename, sep='\\t', names=columns, engine='python')\n",
    "                files['ratings'] = data\n",
    "        elif filename.suffix == '.item':  # ml-100k\n",
    "            if filename.stem == 'u':\n",
    "                columns = ['movieId', 'title', 'genres']\n",
    "                data = pd.read_csv(filename, sep='|', names=columns, engine='python')\n",
    "                files['movies'] = data\n",
    "    return files['ratings'], files['movies']"
   ],
   "metadata": {
    "collapsed": false,
    "pycharm": {
     "name": "#%%\n"
    }
   }
  },
  {
   "cell_type": "code",
   "execution_count": 333,
   "outputs": [],
   "source": [
    "# pick one of the available folders\n",
    "ratings, movies = read_data('/home/weiss/rs_data/ml-100k')"
   ],
   "metadata": {
    "collapsed": false,
    "pycharm": {
     "name": "#%%\n"
    }
   }
  },
  {
   "cell_type": "code",
   "execution_count": 334,
   "outputs": [
    {
     "data": {
      "text/plain": "   userId  movieId  rating  timestamp\n0     196      242       3  881250949\n1     186      302       3  891717742\n2      22      377       1  878887116\n3     244       51       2  880606923\n4     166      346       1  886397596",
      "text/html": "<div>\n<style scoped>\n    .dataframe tbody tr th:only-of-type {\n        vertical-align: middle;\n    }\n\n    .dataframe tbody tr th {\n        vertical-align: top;\n    }\n\n    .dataframe thead th {\n        text-align: right;\n    }\n</style>\n<table border=\"1\" class=\"dataframe\">\n  <thead>\n    <tr style=\"text-align: right;\">\n      <th></th>\n      <th>userId</th>\n      <th>movieId</th>\n      <th>rating</th>\n      <th>timestamp</th>\n    </tr>\n  </thead>\n  <tbody>\n    <tr>\n      <th>0</th>\n      <td>196</td>\n      <td>242</td>\n      <td>3</td>\n      <td>881250949</td>\n    </tr>\n    <tr>\n      <th>1</th>\n      <td>186</td>\n      <td>302</td>\n      <td>3</td>\n      <td>891717742</td>\n    </tr>\n    <tr>\n      <th>2</th>\n      <td>22</td>\n      <td>377</td>\n      <td>1</td>\n      <td>878887116</td>\n    </tr>\n    <tr>\n      <th>3</th>\n      <td>244</td>\n      <td>51</td>\n      <td>2</td>\n      <td>880606923</td>\n    </tr>\n    <tr>\n      <th>4</th>\n      <td>166</td>\n      <td>346</td>\n      <td>1</td>\n      <td>886397596</td>\n    </tr>\n  </tbody>\n</table>\n</div>"
     },
     "execution_count": 334,
     "metadata": {},
     "output_type": "execute_result"
    }
   ],
   "source": [
    "ratings.head()"
   ],
   "metadata": {
    "collapsed": false,
    "pycharm": {
     "name": "#%%\n"
    }
   }
  },
  {
   "cell_type": "code",
   "execution_count": 335,
   "outputs": [
    {
     "data": {
      "text/plain": "                                                                                                                        movieId  \\\n1 Toy Story (1995)  01-Jan-1995 NaN http://us.imdb.com/M/title-exact?Toy%20Story%20... 0 0 0 1 1 1 0 0 0 0 0 0 0 0 0 0        0   \n2 GoldenEye (1995)  01-Jan-1995 NaN http://us.imdb.com/M/title-exact?GoldenEye%20(1... 0 1 1 0 0 0 0 0 0 0 0 0 0 0 0 0        1   \n3 Four Rooms (1995) 01-Jan-1995 NaN http://us.imdb.com/M/title-exact?Four%20Rooms%2... 0 0 0 0 0 0 0 0 0 0 0 0 0 0 0 0        1   \n4 Get Shorty (1995) 01-Jan-1995 NaN http://us.imdb.com/M/title-exact?Get%20Shorty%2... 0 1 0 0 0 1 0 0 1 0 0 0 0 0 0 0        0   \n5 Copycat (1995)    01-Jan-1995 NaN http://us.imdb.com/M/title-exact?Copycat%20(1995)  0 0 0 0 0 0 1 0 1 0 0 0 0 0 0 0        1   \n\n                                                                                                                        title  \\\n1 Toy Story (1995)  01-Jan-1995 NaN http://us.imdb.com/M/title-exact?Toy%20Story%20... 0 0 0 1 1 1 0 0 0 0 0 0 0 0 0 0      0   \n2 GoldenEye (1995)  01-Jan-1995 NaN http://us.imdb.com/M/title-exact?GoldenEye%20(1... 0 1 1 0 0 0 0 0 0 0 0 0 0 0 0 0      0   \n3 Four Rooms (1995) 01-Jan-1995 NaN http://us.imdb.com/M/title-exact?Four%20Rooms%2... 0 0 0 0 0 0 0 0 0 0 0 0 0 0 0 0      0   \n4 Get Shorty (1995) 01-Jan-1995 NaN http://us.imdb.com/M/title-exact?Get%20Shorty%2... 0 1 0 0 0 1 0 0 1 0 0 0 0 0 0 0      0   \n5 Copycat (1995)    01-Jan-1995 NaN http://us.imdb.com/M/title-exact?Copycat%20(1995)  0 0 0 0 0 0 1 0 1 0 0 0 0 0 0 0      0   \n\n                                                                                                                        genres  \n1 Toy Story (1995)  01-Jan-1995 NaN http://us.imdb.com/M/title-exact?Toy%20Story%20... 0 0 0 1 1 1 0 0 0 0 0 0 0 0 0 0       0  \n2 GoldenEye (1995)  01-Jan-1995 NaN http://us.imdb.com/M/title-exact?GoldenEye%20(1... 0 1 1 0 0 0 0 0 0 0 0 0 0 0 0 0       0  \n3 Four Rooms (1995) 01-Jan-1995 NaN http://us.imdb.com/M/title-exact?Four%20Rooms%2... 0 0 0 0 0 0 0 0 0 0 0 0 0 0 0 0       0  \n4 Get Shorty (1995) 01-Jan-1995 NaN http://us.imdb.com/M/title-exact?Get%20Shorty%2... 0 1 0 0 0 1 0 0 1 0 0 0 0 0 0 0       0  \n5 Copycat (1995)    01-Jan-1995 NaN http://us.imdb.com/M/title-exact?Copycat%20(1995)  0 0 0 0 0 0 1 0 1 0 0 0 0 0 0 0       0  ",
      "text/html": "<div>\n<style scoped>\n    .dataframe tbody tr th:only-of-type {\n        vertical-align: middle;\n    }\n\n    .dataframe tbody tr th {\n        vertical-align: top;\n    }\n\n    .dataframe thead th {\n        text-align: right;\n    }\n</style>\n<table border=\"1\" class=\"dataframe\">\n  <thead>\n    <tr style=\"text-align: right;\">\n      <th></th>\n      <th></th>\n      <th></th>\n      <th></th>\n      <th></th>\n      <th></th>\n      <th></th>\n      <th></th>\n      <th></th>\n      <th></th>\n      <th></th>\n      <th></th>\n      <th></th>\n      <th></th>\n      <th></th>\n      <th></th>\n      <th></th>\n      <th></th>\n      <th></th>\n      <th></th>\n      <th></th>\n      <th>movieId</th>\n      <th>title</th>\n      <th>genres</th>\n    </tr>\n  </thead>\n  <tbody>\n    <tr>\n      <th>1</th>\n      <th>Toy Story (1995)</th>\n      <th>01-Jan-1995</th>\n      <th>NaN</th>\n      <th>http://us.imdb.com/M/title-exact?Toy%20Story%20(1995)</th>\n      <th>0</th>\n      <th>0</th>\n      <th>0</th>\n      <th>1</th>\n      <th>1</th>\n      <th>1</th>\n      <th>0</th>\n      <th>0</th>\n      <th>0</th>\n      <th>0</th>\n      <th>0</th>\n      <th>0</th>\n      <th>0</th>\n      <th>0</th>\n      <th>0</th>\n      <th>0</th>\n      <td>0</td>\n      <td>0</td>\n      <td>0</td>\n    </tr>\n    <tr>\n      <th>2</th>\n      <th>GoldenEye (1995)</th>\n      <th>01-Jan-1995</th>\n      <th>NaN</th>\n      <th>http://us.imdb.com/M/title-exact?GoldenEye%20(1995)</th>\n      <th>0</th>\n      <th>1</th>\n      <th>1</th>\n      <th>0</th>\n      <th>0</th>\n      <th>0</th>\n      <th>0</th>\n      <th>0</th>\n      <th>0</th>\n      <th>0</th>\n      <th>0</th>\n      <th>0</th>\n      <th>0</th>\n      <th>0</th>\n      <th>0</th>\n      <th>0</th>\n      <td>1</td>\n      <td>0</td>\n      <td>0</td>\n    </tr>\n    <tr>\n      <th>3</th>\n      <th>Four Rooms (1995)</th>\n      <th>01-Jan-1995</th>\n      <th>NaN</th>\n      <th>http://us.imdb.com/M/title-exact?Four%20Rooms%20(1995)</th>\n      <th>0</th>\n      <th>0</th>\n      <th>0</th>\n      <th>0</th>\n      <th>0</th>\n      <th>0</th>\n      <th>0</th>\n      <th>0</th>\n      <th>0</th>\n      <th>0</th>\n      <th>0</th>\n      <th>0</th>\n      <th>0</th>\n      <th>0</th>\n      <th>0</th>\n      <th>0</th>\n      <td>1</td>\n      <td>0</td>\n      <td>0</td>\n    </tr>\n    <tr>\n      <th>4</th>\n      <th>Get Shorty (1995)</th>\n      <th>01-Jan-1995</th>\n      <th>NaN</th>\n      <th>http://us.imdb.com/M/title-exact?Get%20Shorty%20(1995)</th>\n      <th>0</th>\n      <th>1</th>\n      <th>0</th>\n      <th>0</th>\n      <th>0</th>\n      <th>1</th>\n      <th>0</th>\n      <th>0</th>\n      <th>1</th>\n      <th>0</th>\n      <th>0</th>\n      <th>0</th>\n      <th>0</th>\n      <th>0</th>\n      <th>0</th>\n      <th>0</th>\n      <td>0</td>\n      <td>0</td>\n      <td>0</td>\n    </tr>\n    <tr>\n      <th>5</th>\n      <th>Copycat (1995)</th>\n      <th>01-Jan-1995</th>\n      <th>NaN</th>\n      <th>http://us.imdb.com/M/title-exact?Copycat%20(1995)</th>\n      <th>0</th>\n      <th>0</th>\n      <th>0</th>\n      <th>0</th>\n      <th>0</th>\n      <th>0</th>\n      <th>1</th>\n      <th>0</th>\n      <th>1</th>\n      <th>0</th>\n      <th>0</th>\n      <th>0</th>\n      <th>0</th>\n      <th>0</th>\n      <th>0</th>\n      <th>0</th>\n      <td>1</td>\n      <td>0</td>\n      <td>0</td>\n    </tr>\n  </tbody>\n</table>\n</div>"
     },
     "execution_count": 335,
     "metadata": {},
     "output_type": "execute_result"
    }
   ],
   "source": [
    "movies.head()"
   ],
   "metadata": {
    "collapsed": false,
    "pycharm": {
     "name": "#%%\n"
    }
   }
  },
  {
   "cell_type": "code",
   "execution_count": 336,
   "outputs": [
    {
     "name": "stdout",
     "output_type": "stream",
     "text": [
      "Embeddings: 943 users, 1682 movies\n",
      "Dataset shape: (100000, 2)\n",
      "Target shape: (100000,)\n"
     ]
    }
   ],
   "source": [
    "def create_dataset(ratings, top=None):\n",
    "    if top is not None:\n",
    "        ratings.groupby('userId')['rating'].count()\n",
    "\n",
    "    unique_users = ratings.userId.unique()\n",
    "    user_to_index = {old: new for new, old in enumerate(unique_users)}\n",
    "    new_users = ratings.userId.map(user_to_index)\n",
    "\n",
    "    unique_movies = ratings.movieId.unique()\n",
    "    movie_to_index = {old: new for new, old in enumerate(unique_movies)}\n",
    "    new_movies = ratings.movieId.map(movie_to_index)\n",
    "\n",
    "    n_users = unique_users.shape[0]\n",
    "    n_movies = unique_movies.shape[0]\n",
    "\n",
    "    X = pd.DataFrame({'user_id': new_users, 'movie_id': new_movies})\n",
    "    y = ratings['rating'].astype(np.float32)\n",
    "    return (n_users, n_movies), (X, y), (user_to_index, movie_to_index)\n",
    "\n",
    "(n, m), (X, y), _ = create_dataset(ratings)\n",
    "print(f'Embeddings: {n} users, {m} movies')\n",
    "print(f'Dataset shape: {X.shape}')\n",
    "print(f'Target shape: {y.shape}')"
   ],
   "metadata": {
    "collapsed": false,
    "pycharm": {
     "name": "#%%\n"
    }
   }
  },
  {
   "cell_type": "code",
   "execution_count": 337,
   "outputs": [],
   "source": [
    "X_train, X_valid, y_train, y_valid = train_test_split(X, y, test_size=0.4, random_state=RANDOM_STATE)\n",
    "X_valid, X_test, y_valid, y_test = train_test_split(X_valid, y_valid, test_size=0.5, random_state=RANDOM_STATE)\n",
    "datasets = {'train': (X_train, y_train), 'val': (X_valid, y_valid), 'test': (X_test, y_test)}\n",
    "dataset_sizes = {'train': len(X_train), 'val': len(X_valid), 'test': len(X_test)}\n"
   ],
   "metadata": {
    "collapsed": false,
    "pycharm": {
     "name": "#%%\n"
    }
   }
  },
  {
   "cell_type": "code",
   "execution_count": 338,
   "outputs": [],
   "source": [
    "class RatingsIterator:\n",
    "\n",
    "    def __init__(self, X, y, batch_size=32, shuffle=True):\n",
    "        X, y = np.asarray(X), np.asarray(y)\n",
    "        if shuffle:\n",
    "            index = np.random.permutation(X.shape[0])\n",
    "            X, y = X[index], y[index]\n",
    "        self.X = X\n",
    "        self.y = y\n",
    "        self.batch_size = batch_size\n",
    "        self.shuffle = shuffle\n",
    "        self.n_batches = int(math.ceil(X.shape[0] // batch_size))\n",
    "        self._current = 0\n",
    "\n",
    "    def __iter__(self):\n",
    "        return self\n",
    "\n",
    "    def __next__(self):\n",
    "        return self.next()\n",
    "\n",
    "    def next(self):\n",
    "        if self._current >= self.n_batches:\n",
    "            raise StopIteration()\n",
    "        k = self._current\n",
    "        self._current += 1\n",
    "        bs = self.batch_size\n",
    "        return self.X[k*bs:(k + 1)*bs], self.y[k*bs:(k + 1)*bs]"
   ],
   "metadata": {
    "collapsed": false,
    "pycharm": {
     "name": "#%%\n"
    }
   }
  },
  {
   "cell_type": "code",
   "execution_count": 339,
   "outputs": [],
   "source": [
    "def batches(X, y, bs=32, shuffle=True):\n",
    "    for xb, yb in RatingsIterator(X, y, bs, shuffle):\n",
    "        xb = torch.LongTensor(xb)\n",
    "        yb = torch.FloatTensor(yb)\n",
    "        yield xb, yb.view(-1, 1)"
   ],
   "metadata": {
    "collapsed": false,
    "pycharm": {
     "name": "#%%\n"
    }
   }
  },
  {
   "cell_type": "code",
   "execution_count": 340,
   "outputs": [],
   "source": [
    "class RecommenderNet(nn.Module):\n",
    "    \"\"\"\n",
    "    Creates dense MLN with embedding layers.\n",
    "\n",
    "    Args:\n",
    "        n_users:\n",
    "            Number of unique users in the dataset.\n",
    "\n",
    "        n_movies:\n",
    "            Number of unique movies in the dataset.\n",
    "\n",
    "        n_factors:\n",
    "            Number of columns in the embeddings matrix.\n",
    "\n",
    "        embedding_dropout:\n",
    "            Dropout rate to apply right after embeddings layer.\n",
    "\n",
    "        hidden:\n",
    "            A single integer or a list of integers defining the number of\n",
    "            units in hidden layer(s).\n",
    "\n",
    "        dropouts:\n",
    "            A single integer or a list of integers defining the dropout\n",
    "            layers rates applied right after each of hidden layers.\n",
    "\n",
    "    \"\"\"\n",
    "    def __init__(self, n_users, n_movies,\n",
    "                 n_factors=50, embedding_dropout=0.02,\n",
    "                 hidden=10, dropouts=0.2):\n",
    "\n",
    "        super().__init__()\n",
    "        hidden = get_list(hidden)\n",
    "        dropouts = get_list(dropouts)\n",
    "        n_last = hidden[-1]\n",
    "\n",
    "        def gen_layers(n_in):\n",
    "            \"\"\"\n",
    "            A generator that yields a sequence of hidden layers and\n",
    "            their activations/dropouts.\n",
    "\n",
    "            Note that the function captures `hidden` and `dropouts`\n",
    "            values from the outer scope.\n",
    "            \"\"\"\n",
    "            nonlocal hidden, dropouts\n",
    "            assert len(dropouts) <= len(hidden)\n",
    "\n",
    "            for n_out, rate in zip_longest(hidden, dropouts):\n",
    "                yield nn.Linear(n_in, n_out)\n",
    "                yield nn.ReLU()\n",
    "                if rate is not None and rate > 0.:\n",
    "                    yield nn.Dropout(rate)\n",
    "                n_in = n_out\n",
    "\n",
    "        self.u = nn.Embedding(n_users, n_factors)\n",
    "        self.m = nn.Embedding(n_movies, n_factors)\n",
    "        self.drop = nn.Dropout(embedding_dropout)\n",
    "        self.hidden = nn.Sequential(*list(gen_layers(n_factors * 2)))\n",
    "        self.fc = nn.Linear(n_last, 1)\n",
    "        self.relu = nn.ReLU()\n",
    "        self._init()\n",
    "\n",
    "    def forward(self, users, movies, minmax=None):\n",
    "        features = torch.cat([self.u(users), self.m(movies)], dim=1)\n",
    "        x = self.drop(features)\n",
    "        x = self.hidden(x)\n",
    "        out = torch.sigmoid(self.fc(x))\n",
    "        #out = self.relu(self.fc(x))  # relu delivers worse rsme\n",
    "        if minmax is not None:\n",
    "            min_rating, max_rating = minmax\n",
    "            out = out*(max_rating - min_rating + 1) + min_rating - 0.5\n",
    "        return out\n",
    "\n",
    "    def _init(self):\n",
    "        \"\"\"\n",
    "        Setup embeddings and hidden layers with reasonable initial values.\n",
    "        \"\"\"\n",
    "\n",
    "        def init(m):\n",
    "            if type(m) == nn.Linear:\n",
    "                torch.nn.init.xavier_uniform_(m.weight)\n",
    "                m.bias.data.fill_(0.01)\n",
    "\n",
    "        self.u.weight.data.uniform_(-0.05, 0.05)\n",
    "        self.m.weight.data.uniform_(-0.05, 0.05)\n",
    "        self.hidden.apply(init)\n",
    "        init(self.fc)\n",
    "\n",
    "\n",
    "def get_list(n):\n",
    "    if isinstance(n, (int, float)):\n",
    "        return [n]\n",
    "    elif hasattr(n, '__iter__'):\n",
    "        return list(n)\n",
    "    raise TypeError('layers configuraiton should be a single number or a list of numbers')"
   ],
   "metadata": {
    "collapsed": false,
    "pycharm": {
     "name": "#%%\n"
    }
   }
  },
  {
   "cell_type": "code",
   "execution_count": 341,
   "outputs": [],
   "source": [
    "class CyclicLR(_LRScheduler):\n",
    "\n",
    "    def __init__(self, optimizer, schedule, last_epoch=-1):\n",
    "        assert callable(schedule)\n",
    "        self.schedule = schedule\n",
    "        super().__init__(optimizer, last_epoch)\n",
    "\n",
    "    def get_lr(self):\n",
    "        return [self.schedule(self.last_epoch, lr) for lr in self.base_lrs]"
   ],
   "metadata": {
    "collapsed": false,
    "pycharm": {
     "name": "#%%\n"
    }
   }
  },
  {
   "cell_type": "code",
   "execution_count": 342,
   "outputs": [],
   "source": [
    "def cosine(t_max, eta_min=0):\n",
    "\n",
    "    def scheduler(epoch, base_lr):\n",
    "        t = epoch % t_max\n",
    "        return eta_min + (base_lr - eta_min)*(1 + math.cos(math.pi*t/t_max))/2\n",
    "    return scheduler"
   ],
   "metadata": {
    "collapsed": false,
    "pycharm": {
     "name": "#%%\n"
    }
   }
  },
  {
   "cell_type": "code",
   "execution_count": 343,
   "outputs": [],
   "source": [
    "def plot_lr(schedule):\n",
    "    ts = list(range(1000))\n",
    "    y = [schedule(t, 0.001) for t in ts]\n",
    "    plt.plot(ts, y)\n"
   ],
   "metadata": {
    "collapsed": false,
    "pycharm": {
     "name": "#%%\n"
    }
   }
  },
  {
   "cell_type": "code",
   "execution_count": 344,
   "outputs": [
    {
     "data": {
      "text/plain": "(1.0, 5.0)"
     },
     "execution_count": 344,
     "metadata": {},
     "output_type": "execute_result"
    }
   ],
   "source": [
    "minmax = float(ratings.rating.min()), float(ratings.rating.max())\n",
    "minmax"
   ],
   "metadata": {
    "collapsed": false,
    "pycharm": {
     "name": "#%%\n"
    }
   }
  },
  {
   "cell_type": "code",
   "execution_count": 345,
   "outputs": [],
   "source": [
    "# small net\n",
    "\n",
    "start = time.time()\n",
    "net = RecommenderNet(\n",
    "    n_users=n, n_movies=m,\n",
    "    n_factors=10, hidden=[10],\n",
    "    embedding_dropout=0.05, dropouts=[0.3])"
   ],
   "metadata": {
    "collapsed": false,
    "pycharm": {
     "name": "#%%\n"
    }
   }
  },
  {
   "cell_type": "code",
   "execution_count": 346,
   "outputs": [],
   "source": [
    "lr = 1e-3\n",
    "wd = 1e-5\n",
    "bs = 4096\n",
    "n_epochs = 300\n",
    "patience = 300\n",
    "no_improvements = 0\n",
    "best_loss = np.inf\n",
    "best_weights = None\n",
    "history = []\n",
    "lr_history = []\n",
    "\n",
    "device = torch.device('cuda:0' if torch.cuda.is_available() else 'cpu')\n",
    "\n",
    "net.to(device)\n",
    "criterion = nn.MSELoss(reduction='sum')\n",
    "optimizer = optim.Adam(net.parameters(), lr=lr, weight_decay=wd)\n",
    "#iterations_per_epoch = int(math.ceil(dataset_sizes['train'] // bs))\n",
    "#scheduler = CyclicLR(optimizer, cosine(t_max=iterations_per_epoch * 2, eta_min=lr/10))"
   ],
   "metadata": {
    "collapsed": false,
    "pycharm": {
     "name": "#%%\n"
    }
   }
  },
  {
   "cell_type": "code",
   "execution_count": 347,
   "outputs": [
    {
     "name": "stdout",
     "output_type": "stream",
     "text": [
      "loss improvement on epoch: 1\n",
      "[001/300] train: 1.4755 - val: 1.2107\n",
      "loss improvement on epoch: 2\n",
      "[002/300] train: 1.3701 - val: 1.1408\n",
      "loss improvement on epoch: 3\n",
      "[003/300] train: 1.2979 - val: 1.0829\n",
      "loss improvement on epoch: 4\n",
      "[004/300] train: 1.2267 - val: 1.0260\n",
      "loss improvement on epoch: 5\n",
      "[005/300] train: 1.1607 - val: 0.9740\n",
      "loss improvement on epoch: 6\n",
      "[006/300] train: 1.1016 - val: 0.9320\n",
      "loss improvement on epoch: 7\n",
      "[007/300] train: 1.0467 - val: 0.8983\n",
      "loss improvement on epoch: 8\n",
      "[008/300] train: 1.0028 - val: 0.8624\n",
      "loss improvement on epoch: 9\n",
      "[009/300] train: 0.9636 - val: 0.8409\n",
      "loss improvement on epoch: 10\n",
      "[010/300] train: 0.9354 - val: 0.8223\n",
      "loss improvement on epoch: 11\n",
      "[011/300] train: 0.9161 - val: 0.8177\n",
      "loss improvement on epoch: 12\n",
      "[012/300] train: 0.8987 - val: 0.8077\n",
      "loss improvement on epoch: 13\n",
      "[013/300] train: 0.8905 - val: 0.8053\n",
      "loss improvement on epoch: 14\n",
      "[014/300] train: 0.8821 - val: 0.7990\n",
      "loss improvement on epoch: 15\n",
      "[015/300] train: 0.8788 - val: 0.7949\n",
      "loss improvement on epoch: 16\n",
      "[016/300] train: 0.8737 - val: 0.7850\n",
      "[017/300] train: 0.8627 - val: 0.7880\n",
      "[018/300] train: 0.8614 - val: 0.7886\n",
      "[019/300] train: 0.8576 - val: 0.7880\n",
      "[020/300] train: 0.8513 - val: 0.7915\n",
      "loss improvement on epoch: 21\n",
      "[021/300] train: 0.8539 - val: 0.7822\n",
      "[022/300] train: 0.8461 - val: 0.7852\n",
      "[023/300] train: 0.8391 - val: 0.7832\n",
      "loss improvement on epoch: 24\n",
      "[024/300] train: 0.8428 - val: 0.7817\n",
      "loss improvement on epoch: 25\n",
      "[025/300] train: 0.8406 - val: 0.7788\n",
      "[026/300] train: 0.8332 - val: 0.7798\n",
      "loss improvement on epoch: 27\n",
      "[027/300] train: 0.8346 - val: 0.7739\n",
      "[028/300] train: 0.8267 - val: 0.7772\n",
      "[029/300] train: 0.8303 - val: 0.7814\n",
      "[030/300] train: 0.8250 - val: 0.7748\n",
      "[031/300] train: 0.8231 - val: 0.7791\n",
      "loss improvement on epoch: 32\n",
      "[032/300] train: 0.8189 - val: 0.7684\n",
      "[033/300] train: 0.8235 - val: 0.7753\n",
      "[034/300] train: 0.8177 - val: 0.7699\n",
      "[035/300] train: 0.8193 - val: 0.7740\n",
      "[036/300] train: 0.8146 - val: 0.7750\n",
      "[037/300] train: 0.8119 - val: 0.7718\n",
      "[038/300] train: 0.8135 - val: 0.7756\n",
      "[039/300] train: 0.8074 - val: 0.7717\n",
      "[040/300] train: 0.8075 - val: 0.7777\n",
      "[041/300] train: 0.8056 - val: 0.7687\n",
      "[042/300] train: 0.8051 - val: 0.7731\n",
      "[043/300] train: 0.8008 - val: 0.7727\n",
      "[044/300] train: 0.8057 - val: 0.7717\n",
      "[045/300] train: 0.8005 - val: 0.7708\n",
      "[046/300] train: 0.8009 - val: 0.7730\n",
      "[047/300] train: 0.7988 - val: 0.7722\n",
      "loss improvement on epoch: 48\n",
      "[048/300] train: 0.7970 - val: 0.7642\n",
      "[049/300] train: 0.7948 - val: 0.7672\n",
      "[050/300] train: 0.7943 - val: 0.7723\n",
      "[051/300] train: 0.7967 - val: 0.7697\n",
      "loss improvement on epoch: 52\n",
      "[052/300] train: 0.7900 - val: 0.7593\n",
      "[053/300] train: 0.7883 - val: 0.7695\n",
      "[054/300] train: 0.7912 - val: 0.7734\n",
      "[055/300] train: 0.7902 - val: 0.7704\n",
      "[056/300] train: 0.7870 - val: 0.7709\n",
      "[057/300] train: 0.7860 - val: 0.7668\n",
      "[058/300] train: 0.7817 - val: 0.7681\n",
      "[059/300] train: 0.7813 - val: 0.7750\n",
      "[060/300] train: 0.7837 - val: 0.7700\n",
      "[061/300] train: 0.7799 - val: 0.7674\n",
      "[062/300] train: 0.7788 - val: 0.7732\n",
      "[063/300] train: 0.7807 - val: 0.7633\n",
      "[064/300] train: 0.7817 - val: 0.7659\n",
      "[065/300] train: 0.7785 - val: 0.7686\n",
      "[066/300] train: 0.7776 - val: 0.7733\n",
      "[067/300] train: 0.7762 - val: 0.7691\n",
      "[068/300] train: 0.7751 - val: 0.7721\n",
      "[069/300] train: 0.7729 - val: 0.7671\n",
      "[070/300] train: 0.7707 - val: 0.7704\n",
      "[071/300] train: 0.7737 - val: 0.7661\n",
      "[072/300] train: 0.7713 - val: 0.7697\n",
      "[073/300] train: 0.7689 - val: 0.7720\n",
      "[074/300] train: 0.7678 - val: 0.7703\n",
      "[075/300] train: 0.7686 - val: 0.7706\n",
      "[076/300] train: 0.7672 - val: 0.7712\n",
      "[077/300] train: 0.7695 - val: 0.7711\n",
      "[078/300] train: 0.7654 - val: 0.7706\n",
      "[079/300] train: 0.7675 - val: 0.7709\n",
      "[080/300] train: 0.7657 - val: 0.7773\n",
      "[081/300] train: 0.7644 - val: 0.7711\n",
      "[082/300] train: 0.7655 - val: 0.7720\n",
      "[083/300] train: 0.7659 - val: 0.7710\n",
      "[084/300] train: 0.7634 - val: 0.7717\n",
      "[085/300] train: 0.7607 - val: 0.7683\n",
      "[086/300] train: 0.7579 - val: 0.7773\n",
      "[087/300] train: 0.7614 - val: 0.7700\n",
      "[088/300] train: 0.7548 - val: 0.7697\n",
      "[089/300] train: 0.7564 - val: 0.7727\n",
      "[090/300] train: 0.7603 - val: 0.7728\n",
      "[091/300] train: 0.7563 - val: 0.7705\n",
      "[092/300] train: 0.7569 - val: 0.7765\n",
      "[093/300] train: 0.7564 - val: 0.7730\n",
      "[094/300] train: 0.7550 - val: 0.7679\n",
      "[095/300] train: 0.7534 - val: 0.7742\n",
      "[096/300] train: 0.7536 - val: 0.7769\n",
      "[097/300] train: 0.7526 - val: 0.7677\n",
      "[098/300] train: 0.7540 - val: 0.7730\n",
      "[099/300] train: 0.7530 - val: 0.7764\n",
      "[100/300] train: 0.7552 - val: 0.7716\n",
      "[101/300] train: 0.7521 - val: 0.7711\n",
      "[102/300] train: 0.7530 - val: 0.7749\n",
      "[103/300] train: 0.7519 - val: 0.7698\n",
      "[104/300] train: 0.7470 - val: 0.7752\n",
      "[105/300] train: 0.7490 - val: 0.7753\n",
      "[106/300] train: 0.7501 - val: 0.7760\n",
      "[107/300] train: 0.7478 - val: 0.7751\n",
      "[108/300] train: 0.7501 - val: 0.7779\n",
      "[109/300] train: 0.7472 - val: 0.7748\n",
      "[110/300] train: 0.7463 - val: 0.7754\n",
      "[111/300] train: 0.7476 - val: 0.7710\n",
      "[112/300] train: 0.7460 - val: 0.7695\n",
      "[113/300] train: 0.7493 - val: 0.7796\n",
      "[114/300] train: 0.7485 - val: 0.7727\n",
      "[115/300] train: 0.7477 - val: 0.7797\n",
      "[116/300] train: 0.7434 - val: 0.7790\n",
      "[117/300] train: 0.7454 - val: 0.7773\n",
      "[118/300] train: 0.7464 - val: 0.7789\n",
      "[119/300] train: 0.7433 - val: 0.7735\n",
      "[120/300] train: 0.7420 - val: 0.7712\n",
      "[121/300] train: 0.7433 - val: 0.7734\n",
      "[122/300] train: 0.7429 - val: 0.7774\n",
      "[123/300] train: 0.7426 - val: 0.7758\n",
      "[124/300] train: 0.7428 - val: 0.7754\n",
      "[125/300] train: 0.7425 - val: 0.7773\n",
      "[126/300] train: 0.7446 - val: 0.7827\n",
      "[127/300] train: 0.7420 - val: 0.7829\n",
      "[128/300] train: 0.7412 - val: 0.7747\n",
      "[129/300] train: 0.7364 - val: 0.7708\n",
      "[130/300] train: 0.7373 - val: 0.7777\n",
      "[131/300] train: 0.7398 - val: 0.7824\n",
      "[132/300] train: 0.7401 - val: 0.7808\n",
      "[133/300] train: 0.7403 - val: 0.7804\n",
      "[134/300] train: 0.7412 - val: 0.7759\n",
      "[135/300] train: 0.7393 - val: 0.7780\n",
      "[136/300] train: 0.7409 - val: 0.7788\n",
      "[137/300] train: 0.7368 - val: 0.7785\n",
      "[138/300] train: 0.7374 - val: 0.7763\n",
      "[139/300] train: 0.7355 - val: 0.7866\n",
      "[140/300] train: 0.7366 - val: 0.7812\n",
      "[141/300] train: 0.7346 - val: 0.7797\n",
      "[142/300] train: 0.7368 - val: 0.7754\n",
      "[143/300] train: 0.7399 - val: 0.7782\n",
      "[144/300] train: 0.7323 - val: 0.7802\n",
      "[145/300] train: 0.7356 - val: 0.7767\n",
      "[146/300] train: 0.7323 - val: 0.7874\n",
      "[147/300] train: 0.7329 - val: 0.7732\n",
      "[148/300] train: 0.7290 - val: 0.7783\n",
      "[149/300] train: 0.7341 - val: 0.7731\n",
      "[150/300] train: 0.7339 - val: 0.7769\n",
      "[151/300] train: 0.7329 - val: 0.7740\n",
      "[152/300] train: 0.7334 - val: 0.7761\n",
      "[153/300] train: 0.7342 - val: 0.7837\n",
      "[154/300] train: 0.7292 - val: 0.7805\n",
      "[155/300] train: 0.7325 - val: 0.7782\n",
      "[156/300] train: 0.7326 - val: 0.7792\n",
      "[157/300] train: 0.7331 - val: 0.7796\n",
      "[158/300] train: 0.7328 - val: 0.7834\n",
      "[159/300] train: 0.7346 - val: 0.7828\n",
      "[160/300] train: 0.7343 - val: 0.7850\n",
      "[161/300] train: 0.7350 - val: 0.7850\n",
      "[162/300] train: 0.7301 - val: 0.7750\n",
      "[163/300] train: 0.7327 - val: 0.7807\n",
      "[164/300] train: 0.7320 - val: 0.7847\n",
      "[165/300] train: 0.7314 - val: 0.7791\n",
      "[166/300] train: 0.7304 - val: 0.7829\n",
      "[167/300] train: 0.7280 - val: 0.7766\n",
      "[168/300] train: 0.7282 - val: 0.7780\n",
      "[169/300] train: 0.7268 - val: 0.7749\n",
      "[170/300] train: 0.7296 - val: 0.7771\n",
      "[171/300] train: 0.7272 - val: 0.7789\n",
      "[172/300] train: 0.7270 - val: 0.7793\n",
      "[173/300] train: 0.7273 - val: 0.7805\n",
      "[174/300] train: 0.7274 - val: 0.7756\n",
      "[175/300] train: 0.7285 - val: 0.7828\n",
      "[176/300] train: 0.7239 - val: 0.7798\n",
      "[177/300] train: 0.7268 - val: 0.7739\n",
      "[178/300] train: 0.7300 - val: 0.7810\n",
      "[179/300] train: 0.7277 - val: 0.7779\n",
      "[180/300] train: 0.7267 - val: 0.7757\n",
      "[181/300] train: 0.7247 - val: 0.7780\n",
      "[182/300] train: 0.7279 - val: 0.7746\n",
      "[183/300] train: 0.7260 - val: 0.7800\n",
      "[184/300] train: 0.7274 - val: 0.7807\n",
      "[185/300] train: 0.7253 - val: 0.7747\n",
      "[186/300] train: 0.7258 - val: 0.7793\n",
      "[187/300] train: 0.7247 - val: 0.7820\n",
      "[188/300] train: 0.7253 - val: 0.7785\n",
      "[189/300] train: 0.7255 - val: 0.7844\n",
      "[190/300] train: 0.7252 - val: 0.7848\n",
      "[191/300] train: 0.7247 - val: 0.7821\n",
      "[192/300] train: 0.7247 - val: 0.7837\n",
      "[193/300] train: 0.7276 - val: 0.7809\n",
      "[194/300] train: 0.7216 - val: 0.7782\n",
      "[195/300] train: 0.7245 - val: 0.7809\n",
      "[196/300] train: 0.7235 - val: 0.7781\n",
      "[197/300] train: 0.7216 - val: 0.7761\n",
      "[198/300] train: 0.7249 - val: 0.7757\n",
      "[199/300] train: 0.7236 - val: 0.7845\n",
      "[200/300] train: 0.7264 - val: 0.7766\n",
      "[201/300] train: 0.7209 - val: 0.7800\n",
      "[202/300] train: 0.7246 - val: 0.7815\n",
      "[203/300] train: 0.7242 - val: 0.7814\n",
      "[204/300] train: 0.7225 - val: 0.7821\n",
      "[205/300] train: 0.7216 - val: 0.7803\n",
      "[206/300] train: 0.7183 - val: 0.7790\n",
      "[207/300] train: 0.7208 - val: 0.7862\n",
      "[208/300] train: 0.7222 - val: 0.7854\n",
      "[209/300] train: 0.7254 - val: 0.7836\n",
      "[210/300] train: 0.7236 - val: 0.7809\n",
      "[211/300] train: 0.7195 - val: 0.7848\n",
      "[212/300] train: 0.7216 - val: 0.7850\n",
      "[213/300] train: 0.7185 - val: 0.7801\n",
      "[214/300] train: 0.7206 - val: 0.7831\n",
      "[215/300] train: 0.7214 - val: 0.7766\n",
      "[216/300] train: 0.7215 - val: 0.7873\n",
      "[217/300] train: 0.7243 - val: 0.7838\n",
      "[218/300] train: 0.7230 - val: 0.7840\n",
      "[219/300] train: 0.7203 - val: 0.7836\n",
      "[220/300] train: 0.7208 - val: 0.7830\n",
      "[221/300] train: 0.7233 - val: 0.7901\n",
      "[222/300] train: 0.7190 - val: 0.7783\n",
      "[223/300] train: 0.7166 - val: 0.7811\n",
      "[224/300] train: 0.7181 - val: 0.7807\n",
      "[225/300] train: 0.7189 - val: 0.7871\n",
      "[226/300] train: 0.7193 - val: 0.7903\n",
      "[227/300] train: 0.7221 - val: 0.7857\n",
      "[228/300] train: 0.7193 - val: 0.7816\n",
      "[229/300] train: 0.7204 - val: 0.7819\n",
      "[230/300] train: 0.7175 - val: 0.7840\n",
      "[231/300] train: 0.7211 - val: 0.7828\n",
      "[232/300] train: 0.7215 - val: 0.7845\n",
      "[233/300] train: 0.7178 - val: 0.7840\n",
      "[234/300] train: 0.7208 - val: 0.7810\n",
      "[235/300] train: 0.7179 - val: 0.7888\n",
      "[236/300] train: 0.7163 - val: 0.7784\n",
      "[237/300] train: 0.7208 - val: 0.7780\n",
      "[238/300] train: 0.7166 - val: 0.7819\n",
      "[239/300] train: 0.7176 - val: 0.7883\n",
      "[240/300] train: 0.7184 - val: 0.7835\n",
      "[241/300] train: 0.7181 - val: 0.7857\n",
      "[242/300] train: 0.7189 - val: 0.7844\n",
      "[243/300] train: 0.7153 - val: 0.7871\n",
      "[244/300] train: 0.7209 - val: 0.7796\n",
      "[245/300] train: 0.7161 - val: 0.7811\n",
      "[246/300] train: 0.7145 - val: 0.7820\n",
      "[247/300] train: 0.7184 - val: 0.7860\n",
      "[248/300] train: 0.7134 - val: 0.7826\n",
      "[249/300] train: 0.7175 - val: 0.7852\n",
      "[250/300] train: 0.7150 - val: 0.7838\n",
      "[251/300] train: 0.7174 - val: 0.7846\n",
      "[252/300] train: 0.7149 - val: 0.7915\n",
      "[253/300] train: 0.7157 - val: 0.7851\n",
      "[254/300] train: 0.7176 - val: 0.7835\n",
      "[255/300] train: 0.7175 - val: 0.7840\n",
      "[256/300] train: 0.7182 - val: 0.7919\n",
      "[257/300] train: 0.7180 - val: 0.7914\n",
      "[258/300] train: 0.7146 - val: 0.7884\n",
      "[259/300] train: 0.7162 - val: 0.7847\n",
      "[260/300] train: 0.7155 - val: 0.7893\n",
      "[261/300] train: 0.7138 - val: 0.7872\n",
      "[262/300] train: 0.7137 - val: 0.7795\n",
      "[263/300] train: 0.7139 - val: 0.7867\n",
      "[264/300] train: 0.7176 - val: 0.7967\n",
      "[265/300] train: 0.7170 - val: 0.7827\n",
      "[266/300] train: 0.7152 - val: 0.7843\n",
      "[267/300] train: 0.7176 - val: 0.7857\n",
      "[268/300] train: 0.7176 - val: 0.7883\n",
      "[269/300] train: 0.7130 - val: 0.7894\n",
      "[270/300] train: 0.7112 - val: 0.7955\n",
      "[271/300] train: 0.7131 - val: 0.7894\n",
      "[272/300] train: 0.7152 - val: 0.7876\n",
      "[273/300] train: 0.7133 - val: 0.7863\n",
      "[274/300] train: 0.7143 - val: 0.7896\n",
      "[275/300] train: 0.7159 - val: 0.7889\n",
      "[276/300] train: 0.7156 - val: 0.7832\n",
      "[277/300] train: 0.7095 - val: 0.7907\n",
      "[278/300] train: 0.7113 - val: 0.7889\n",
      "[279/300] train: 0.7142 - val: 0.7891\n",
      "[280/300] train: 0.7147 - val: 0.7906\n",
      "[281/300] train: 0.7132 - val: 0.7879\n",
      "[282/300] train: 0.7130 - val: 0.7875\n",
      "[283/300] train: 0.7111 - val: 0.7924\n",
      "[284/300] train: 0.7096 - val: 0.7787\n",
      "[285/300] train: 0.7140 - val: 0.8043\n",
      "[286/300] train: 0.7108 - val: 0.7870\n",
      "[287/300] train: 0.7091 - val: 0.7866\n",
      "[288/300] train: 0.7103 - val: 0.7911\n",
      "[289/300] train: 0.7159 - val: 0.7841\n",
      "[290/300] train: 0.7159 - val: 0.7801\n",
      "[291/300] train: 0.7159 - val: 0.7863\n",
      "[292/300] train: 0.7129 - val: 0.7891\n",
      "[293/300] train: 0.7157 - val: 0.7907\n",
      "[294/300] train: 0.7116 - val: 0.7871\n",
      "[295/300] train: 0.7154 - val: 0.7783\n",
      "[296/300] train: 0.7119 - val: 0.7874\n",
      "[297/300] train: 0.7114 - val: 0.7863\n",
      "[298/300] train: 0.7139 - val: 0.7860\n",
      "[299/300] train: 0.7107 - val: 0.7857\n",
      "[300/300] train: 0.7077 - val: 0.7900\n"
     ]
    }
   ],
   "source": [
    "for epoch in range(n_epochs):\n",
    "    stats = {'epoch': epoch + 1, 'total': n_epochs}\n",
    "\n",
    "    for phase in ('train', 'val'):\n",
    "        if phase == 'train':\n",
    "          training = True\n",
    "        else:\n",
    "          training = False\n",
    "        running_loss = 0\n",
    "        n_batches = 0\n",
    "        for batch in batches(*datasets[phase], shuffle=training, bs=bs):\n",
    "            x_batch, y_batch = [b.to(device) for b in batch]\n",
    "            optimizer.zero_grad()\n",
    "            # compute gradients only during 'train' phase\n",
    "            with torch.set_grad_enabled(training):\n",
    "                outputs = net(x_batch[:,0], x_batch[:,1], minmax)\n",
    "                loss = criterion(outputs, y_batch)\n",
    "                # don't update weights and rates when in 'val' phase\n",
    "                if training:\n",
    "                    #scheduler.step()\n",
    "                    loss.backward()\n",
    "                    optimizer.step()\n",
    "                    #lr_history.extend(scheduler.get_lr())\n",
    "            running_loss += loss.item()\n",
    "        epoch_loss = running_loss / dataset_sizes[phase]\n",
    "        stats[phase] = epoch_loss\n",
    "        # early stopping: save weights of the best model so far\n",
    "        if phase == 'val':\n",
    "            if epoch_loss < best_loss:\n",
    "                print('loss improvement on epoch: %d' % (epoch + 1))\n",
    "                best_loss = epoch_loss\n",
    "                best_weights = copy.deepcopy(net.state_dict())\n",
    "                no_improvements = 0\n",
    "            else:\n",
    "                no_improvements += 1\n",
    "    history.append(stats)\n",
    "    print('[{epoch:03d}/{total:03d}] train: {train:.4f} - val: {val:.4f}'.format(**stats))\n",
    "    if no_improvements >= patience:\n",
    "        print('early stopping after epoch {epoch:03d}'.format(**stats))\n",
    "        break"
   ],
   "metadata": {
    "collapsed": false,
    "pycharm": {
     "name": "#%%\n"
    }
   }
  },
  {
   "cell_type": "code",
   "execution_count": 348,
   "outputs": [
    {
     "data": {
      "text/plain": "<Figure size 432x288 with 1 Axes>",
      "image/png": "[encoded data removed]"
     },
     "metadata": {
      "needs_background": "light"
     },
     "output_type": "display_data"
    }
   ],
   "source": [
    "ax = pd.DataFrame(history).drop(columns='total').plot(x='epoch')"
   ],
   "metadata": {
    "collapsed": false,
    "pycharm": {
     "name": "#%%\n"
    }
   }
  },
  {
   "cell_type": "code",
   "execution_count": 349,
   "outputs": [],
   "source": [
    "# Plot decreasing learning rate\n",
    "\n",
    "#_ = plt.plot(lr_history[:2*iterations_per_epoch-1])"
   ],
   "metadata": {
    "collapsed": false,
    "pycharm": {
     "name": "#%%\n"
    }
   }
  },
  {
   "cell_type": "code",
   "execution_count": 350,
   "outputs": [
    {
     "data": {
      "text/plain": "<All keys matched successfully>"
     },
     "execution_count": 350,
     "metadata": {},
     "output_type": "execute_result"
    }
   ],
   "source": [
    "net.load_state_dict(best_weights)"
   ],
   "metadata": {
    "collapsed": false,
    "pycharm": {
     "name": "#%%\n"
    }
   }
  },
  {
   "cell_type": "code",
   "execution_count": 351,
   "outputs": [],
   "source": [
    "groud_truth, predictions = [], []\n",
    "\n",
    "with torch.no_grad():\n",
    "    for batch in batches(*datasets['val'], shuffle=False, bs=bs):\n",
    "        x_batch, y_batch = [b.to(device) for b in batch]\n",
    "        outputs = net(x_batch[:, 0], x_batch[:, 1], minmax)\n",
    "        groud_truth.extend(y_batch.tolist())\n",
    "        predictions.extend(outputs.tolist())\n",
    "\n",
    "groud_truth = np.asarray(groud_truth).ravel()\n",
    "predictions = np.asarray(predictions).ravel()"
   ],
   "metadata": {
    "collapsed": false,
    "pycharm": {
     "name": "#%%\n"
    }
   }
  },
  {
   "cell_type": "code",
   "execution_count": 352,
   "outputs": [
    {
     "name": "stdout",
     "output_type": "stream",
     "text": [
      "Validation RMSE: 0.9684\n"
     ]
    }
   ],
   "source": [
    "valid_loss = np.sqrt(np.mean((predictions - groud_truth)**2))\n",
    "print(f'Validation RMSE: {valid_loss:.4f}')"
   ],
   "metadata": {
    "collapsed": false,
    "pycharm": {
     "name": "#%%\n"
    }
   }
  },
  {
   "cell_type": "code",
   "execution_count": 353,
   "outputs": [],
   "source": [
    "groud_truth, predictions = [], []\n",
    "\n",
    "with torch.no_grad():\n",
    "    for batch in batches(*datasets['test'], shuffle=False, bs=bs):\n",
    "        x_batch, y_batch = [b.to(device) for b in batch]\n",
    "        outputs = net(x_batch[:, 0], x_batch[:, 1], minmax)\n",
    "        groud_truth.extend(y_batch.tolist())\n",
    "        predictions.extend(outputs.tolist())\n",
    "\n",
    "groud_truth = np.asarray(groud_truth).ravel()\n",
    "predictions = np.asarray(predictions).ravel()"
   ],
   "metadata": {
    "collapsed": false,
    "pycharm": {
     "name": "#%%\n"
    }
   }
  },
  {
   "cell_type": "code",
   "execution_count": 354,
   "outputs": [
    {
     "name": "stdout",
     "output_type": "stream",
     "text": [
      "Final RMSE: 0.9777\n"
     ]
    }
   ],
   "source": [
    "final_loss = np.sqrt(np.mean((predictions - groud_truth)**2))\n",
    "print(f'Final RMSE: {final_loss:.4f}')"
   ],
   "metadata": {
    "collapsed": false,
    "pycharm": {
     "name": "#%%\n"
    }
   }
  },
  {
   "cell_type": "code",
   "execution_count": 355,
   "outputs": [],
   "source": [
    "with open('best.weights.small', 'wb') as file:\n",
    "    pickle.dump(best_weights, file)"
   ],
   "metadata": {
    "collapsed": false,
    "pycharm": {
     "name": "#%%\n"
    }
   }
  },
  {
   "cell_type": "code",
   "execution_count": 356,
   "outputs": [
    {
     "name": "stdout",
     "output_type": "stream",
     "text": [
      "duration: 24.5885\n"
     ]
    }
   ],
   "source": [
    "print(f'duration: {round(time.time() - start, 4)}')"
   ],
   "metadata": {
    "collapsed": false,
    "pycharm": {
     "name": "#%%\n"
    }
   }
  },
  {
   "cell_type": "code",
   "execution_count": 356,
   "outputs": [],
   "source": [],
   "metadata": {
    "collapsed": false,
    "pycharm": {
     "name": "#%%\n"
    }
   }
  },
  {
   "cell_type": "code",
   "execution_count": 357,
   "outputs": [],
   "source": [
    "# medium net\n",
    "\n",
    "start = time.time()\n",
    "net = RecommenderNet(\n",
    "    n_users=n, n_movies=m,\n",
    "    n_factors=20, hidden=[10 ,10],\n",
    "    embedding_dropout=0.05, dropouts=[0.3, 0.3])"
   ],
   "metadata": {
    "collapsed": false,
    "pycharm": {
     "name": "#%%\n"
    }
   }
  },
  {
   "cell_type": "code",
   "execution_count": 358,
   "outputs": [],
   "source": [
    "lr = 1e-3\n",
    "wd = 1e-5\n",
    "bs = 4096\n",
    "n_epochs = 300\n",
    "patience = 300\n",
    "no_improvements = 0\n",
    "best_loss = np.inf\n",
    "best_weights = None\n",
    "history = []\n",
    "lr_history = []\n",
    "\n",
    "device = torch.device('cuda:0' if torch.cuda.is_available() else 'cpu')\n",
    "\n",
    "net.to(device)\n",
    "criterion = nn.MSELoss(reduction='sum')\n",
    "optimizer = optim.Adam(net.parameters(), lr=lr, weight_decay=wd)\n",
    "#iterations_per_epoch = int(math.ceil(dataset_sizes['train'] // bs))\n",
    "#scheduler = CyclicLR(optimizer, cosine(t_max=iterations_per_epoch * 2, eta_min=lr/10))"
   ],
   "metadata": {
    "collapsed": false,
    "pycharm": {
     "name": "#%%\n"
    }
   }
  },
  {
   "cell_type": "code",
   "execution_count": 359,
   "outputs": [
    {
     "name": "stdout",
     "output_type": "stream",
     "text": [
      "loss improvement on epoch: 1\n",
      "[001/300] train: 1.4455 - val: 1.1931\n",
      "loss improvement on epoch: 2\n",
      "[002/300] train: 1.3553 - val: 1.1317\n",
      "loss improvement on epoch: 3\n",
      "[003/300] train: 1.2826 - val: 1.0726\n",
      "loss improvement on epoch: 4\n",
      "[004/300] train: 1.2135 - val: 1.0143\n",
      "loss improvement on epoch: 5\n",
      "[005/300] train: 1.1445 - val: 0.9702\n",
      "loss improvement on epoch: 6\n",
      "[006/300] train: 1.0798 - val: 0.9146\n",
      "loss improvement on epoch: 7\n",
      "[007/300] train: 1.0215 - val: 0.8867\n",
      "loss improvement on epoch: 8\n",
      "[008/300] train: 0.9853 - val: 0.8592\n",
      "loss improvement on epoch: 9\n",
      "[009/300] train: 0.9592 - val: 0.8509\n",
      "loss improvement on epoch: 10\n",
      "[010/300] train: 0.9384 - val: 0.8359\n",
      "loss improvement on epoch: 11\n",
      "[011/300] train: 0.9206 - val: 0.8331\n",
      "loss improvement on epoch: 12\n",
      "[012/300] train: 0.9142 - val: 0.8207\n",
      "loss improvement on epoch: 13\n",
      "[013/300] train: 0.8993 - val: 0.8149\n",
      "loss improvement on epoch: 14\n",
      "[014/300] train: 0.8870 - val: 0.8119\n",
      "loss improvement on epoch: 15\n",
      "[015/300] train: 0.8807 - val: 0.8046\n",
      "loss improvement on epoch: 16\n",
      "[016/300] train: 0.8750 - val: 0.8013\n",
      "loss improvement on epoch: 17\n",
      "[017/300] train: 0.8665 - val: 0.7912\n",
      "[018/300] train: 0.8595 - val: 0.8004\n",
      "[019/300] train: 0.8540 - val: 0.7930\n",
      "loss improvement on epoch: 20\n",
      "[020/300] train: 0.8504 - val: 0.7904\n",
      "loss improvement on epoch: 21\n",
      "[021/300] train: 0.8446 - val: 0.7892\n",
      "[022/300] train: 0.8430 - val: 0.7915\n",
      "[023/300] train: 0.8366 - val: 0.7918\n",
      "loss improvement on epoch: 24\n",
      "[024/300] train: 0.8327 - val: 0.7846\n",
      "[025/300] train: 0.8276 - val: 0.7853\n",
      "[026/300] train: 0.8268 - val: 0.7875\n",
      "loss improvement on epoch: 27\n",
      "[027/300] train: 0.8201 - val: 0.7807\n",
      "[028/300] train: 0.8211 - val: 0.7856\n",
      "[029/300] train: 0.8176 - val: 0.7839\n",
      "[030/300] train: 0.8171 - val: 0.7826\n",
      "[031/300] train: 0.8165 - val: 0.7854\n",
      "[032/300] train: 0.8097 - val: 0.7891\n",
      "[033/300] train: 0.8095 - val: 0.7810\n",
      "loss improvement on epoch: 34\n",
      "[034/300] train: 0.8111 - val: 0.7767\n",
      "[035/300] train: 0.8049 - val: 0.7889\n",
      "[036/300] train: 0.8047 - val: 0.7871\n",
      "[037/300] train: 0.8022 - val: 0.7836\n",
      "[038/300] train: 0.8034 - val: 0.7888\n",
      "[039/300] train: 0.8011 - val: 0.7788\n",
      "[040/300] train: 0.7997 - val: 0.7846\n",
      "[041/300] train: 0.7953 - val: 0.7883\n",
      "[042/300] train: 0.7948 - val: 0.7842\n",
      "[043/300] train: 0.7925 - val: 0.7802\n",
      "[044/300] train: 0.7941 - val: 0.7849\n",
      "[045/300] train: 0.7911 - val: 0.7812\n",
      "[046/300] train: 0.7890 - val: 0.7810\n",
      "[047/300] train: 0.7889 - val: 0.7799\n",
      "[048/300] train: 0.7838 - val: 0.7805\n",
      "[049/300] train: 0.7853 - val: 0.7832\n",
      "[050/300] train: 0.7874 - val: 0.7847\n",
      "[051/300] train: 0.7825 - val: 0.7836\n",
      "[052/300] train: 0.7790 - val: 0.7821\n",
      "[053/300] train: 0.7809 - val: 0.7829\n",
      "[054/300] train: 0.7800 - val: 0.7864\n",
      "[055/300] train: 0.7782 - val: 0.7882\n",
      "[056/300] train: 0.7759 - val: 0.7880\n",
      "[057/300] train: 0.7776 - val: 0.7797\n",
      "[058/300] train: 0.7713 - val: 0.7884\n",
      "[059/300] train: 0.7722 - val: 0.7875\n",
      "[060/300] train: 0.7710 - val: 0.7828\n",
      "[061/300] train: 0.7713 - val: 0.7860\n",
      "[062/300] train: 0.7708 - val: 0.7876\n",
      "[063/300] train: 0.7666 - val: 0.7864\n",
      "[064/300] train: 0.7658 - val: 0.7871\n",
      "[065/300] train: 0.7694 - val: 0.7914\n",
      "[066/300] train: 0.7658 - val: 0.7915\n",
      "[067/300] train: 0.7653 - val: 0.7885\n",
      "[068/300] train: 0.7665 - val: 0.7892\n",
      "[069/300] train: 0.7650 - val: 0.7886\n",
      "[070/300] train: 0.7635 - val: 0.7874\n",
      "[071/300] train: 0.7651 - val: 0.7818\n",
      "[072/300] train: 0.7636 - val: 0.7893\n",
      "[073/300] train: 0.7619 - val: 0.7910\n",
      "[074/300] train: 0.7620 - val: 0.7884\n",
      "[075/300] train: 0.7594 - val: 0.7843\n",
      "[076/300] train: 0.7563 - val: 0.7907\n",
      "[077/300] train: 0.7564 - val: 0.7795\n",
      "[078/300] train: 0.7602 - val: 0.7905\n",
      "[079/300] train: 0.7568 - val: 0.7918\n",
      "[080/300] train: 0.7541 - val: 0.7886\n",
      "[081/300] train: 0.7574 - val: 0.7886\n",
      "[082/300] train: 0.7591 - val: 0.7881\n",
      "[083/300] train: 0.7552 - val: 0.7944\n",
      "[084/300] train: 0.7525 - val: 0.7909\n",
      "[085/300] train: 0.7523 - val: 0.7884\n",
      "[086/300] train: 0.7548 - val: 0.7799\n",
      "[087/300] train: 0.7529 - val: 0.7927\n",
      "[088/300] train: 0.7520 - val: 0.7886\n",
      "[089/300] train: 0.7492 - val: 0.7870\n",
      "[090/300] train: 0.7531 - val: 0.7898\n",
      "[091/300] train: 0.7488 - val: 0.7911\n",
      "[092/300] train: 0.7498 - val: 0.7928\n",
      "[093/300] train: 0.7474 - val: 0.7861\n",
      "[094/300] train: 0.7488 - val: 0.7879\n",
      "[095/300] train: 0.7496 - val: 0.7914\n",
      "[096/300] train: 0.7454 - val: 0.7910\n",
      "[097/300] train: 0.7491 - val: 0.7913\n",
      "[098/300] train: 0.7503 - val: 0.7925\n",
      "[099/300] train: 0.7477 - val: 0.7966\n",
      "[100/300] train: 0.7440 - val: 0.7869\n",
      "[101/300] train: 0.7464 - val: 0.7958\n",
      "[102/300] train: 0.7500 - val: 0.7942\n",
      "[103/300] train: 0.7450 - val: 0.7916\n",
      "[104/300] train: 0.7435 - val: 0.7932\n",
      "[105/300] train: 0.7393 - val: 0.7923\n",
      "[106/300] train: 0.7402 - val: 0.7963\n",
      "[107/300] train: 0.7407 - val: 0.7862\n",
      "[108/300] train: 0.7432 - val: 0.7904\n",
      "[109/300] train: 0.7356 - val: 0.7888\n",
      "[110/300] train: 0.7370 - val: 0.8034\n",
      "[111/300] train: 0.7358 - val: 0.7977\n",
      "[112/300] train: 0.7374 - val: 0.8021\n",
      "[113/300] train: 0.7384 - val: 0.7866\n",
      "[114/300] train: 0.7350 - val: 0.7917\n",
      "[115/300] train: 0.7393 - val: 0.7980\n",
      "[116/300] train: 0.7339 - val: 0.7996\n",
      "[117/300] train: 0.7376 - val: 0.7992\n",
      "[118/300] train: 0.7359 - val: 0.7939\n",
      "[119/300] train: 0.7320 - val: 0.7984\n",
      "[120/300] train: 0.7370 - val: 0.7944\n",
      "[121/300] train: 0.7348 - val: 0.7989\n",
      "[122/300] train: 0.7370 - val: 0.8001\n",
      "[123/300] train: 0.7335 - val: 0.8018\n",
      "[124/300] train: 0.7284 - val: 0.7972\n",
      "[125/300] train: 0.7305 - val: 0.8001\n",
      "[126/300] train: 0.7336 - val: 0.7967\n",
      "[127/300] train: 0.7353 - val: 0.7983\n",
      "[128/300] train: 0.7371 - val: 0.7989\n",
      "[129/300] train: 0.7377 - val: 0.7963\n",
      "[130/300] train: 0.7304 - val: 0.7962\n",
      "[131/300] train: 0.7322 - val: 0.7977\n",
      "[132/300] train: 0.7365 - val: 0.7982\n",
      "[133/300] train: 0.7276 - val: 0.7944\n",
      "[134/300] train: 0.7317 - val: 0.8031\n",
      "[135/300] train: 0.7324 - val: 0.7977\n",
      "[136/300] train: 0.7296 - val: 0.8018\n",
      "[137/300] train: 0.7348 - val: 0.8015\n",
      "[138/300] train: 0.7268 - val: 0.7918\n",
      "[139/300] train: 0.7309 - val: 0.8037\n",
      "[140/300] train: 0.7334 - val: 0.8010\n",
      "[141/300] train: 0.7304 - val: 0.8022\n",
      "[142/300] train: 0.7322 - val: 0.7974\n",
      "[143/300] train: 0.7315 - val: 0.8047\n",
      "[144/300] train: 0.7284 - val: 0.8005\n",
      "[145/300] train: 0.7293 - val: 0.8012\n",
      "[146/300] train: 0.7226 - val: 0.8025\n",
      "[147/300] train: 0.7282 - val: 0.8021\n",
      "[148/300] train: 0.7304 - val: 0.7989\n",
      "[149/300] train: 0.7285 - val: 0.8051\n",
      "[150/300] train: 0.7275 - val: 0.7999\n",
      "[151/300] train: 0.7241 - val: 0.8063\n",
      "[152/300] train: 0.7266 - val: 0.8049\n",
      "[153/300] train: 0.7222 - val: 0.8002\n",
      "[154/300] train: 0.7244 - val: 0.8015\n",
      "[155/300] train: 0.7283 - val: 0.8025\n",
      "[156/300] train: 0.7268 - val: 0.8035\n",
      "[157/300] train: 0.7207 - val: 0.8008\n",
      "[158/300] train: 0.7292 - val: 0.8023\n",
      "[159/300] train: 0.7245 - val: 0.8066\n",
      "[160/300] train: 0.7226 - val: 0.8039\n",
      "[161/300] train: 0.7272 - val: 0.8106\n",
      "[162/300] train: 0.7221 - val: 0.8018\n",
      "[163/300] train: 0.7235 - val: 0.8018\n",
      "[164/300] train: 0.7273 - val: 0.8014\n",
      "[165/300] train: 0.7250 - val: 0.7995\n",
      "[166/300] train: 0.7264 - val: 0.8022\n",
      "[167/300] train: 0.7265 - val: 0.7981\n",
      "[168/300] train: 0.7230 - val: 0.8064\n",
      "[169/300] train: 0.7251 - val: 0.8031\n",
      "[170/300] train: 0.7273 - val: 0.8015\n",
      "[171/300] train: 0.7205 - val: 0.7992\n",
      "[172/300] train: 0.7249 - val: 0.8052\n",
      "[173/300] train: 0.7213 - val: 0.8108\n",
      "[174/300] train: 0.7241 - val: 0.8085\n",
      "[175/300] train: 0.7219 - val: 0.8021\n",
      "[176/300] train: 0.7237 - val: 0.8004\n",
      "[177/300] train: 0.7194 - val: 0.8032\n",
      "[178/300] train: 0.7243 - val: 0.8062\n",
      "[179/300] train: 0.7197 - val: 0.8141\n",
      "[180/300] train: 0.7205 - val: 0.8049\n",
      "[181/300] train: 0.7242 - val: 0.8046\n",
      "[182/300] train: 0.7213 - val: 0.8050\n",
      "[183/300] train: 0.7224 - val: 0.8017\n",
      "[184/300] train: 0.7210 - val: 0.8045\n",
      "[185/300] train: 0.7181 - val: 0.8113\n",
      "[186/300] train: 0.7222 - val: 0.8050\n",
      "[187/300] train: 0.7215 - val: 0.8029\n",
      "[188/300] train: 0.7212 - val: 0.8064\n",
      "[189/300] train: 0.7178 - val: 0.8034\n",
      "[190/300] train: 0.7209 - val: 0.8021\n",
      "[191/300] train: 0.7220 - val: 0.8123\n",
      "[192/300] train: 0.7190 - val: 0.8092\n",
      "[193/300] train: 0.7208 - val: 0.8085\n",
      "[194/300] train: 0.7184 - val: 0.8051\n",
      "[195/300] train: 0.7236 - val: 0.8049\n",
      "[196/300] train: 0.7185 - val: 0.8065\n",
      "[197/300] train: 0.7204 - val: 0.8015\n",
      "[198/300] train: 0.7213 - val: 0.8070\n",
      "[199/300] train: 0.7196 - val: 0.8039\n",
      "[200/300] train: 0.7198 - val: 0.8133\n",
      "[201/300] train: 0.7193 - val: 0.8113\n",
      "[202/300] train: 0.7195 - val: 0.8109\n",
      "[203/300] train: 0.7245 - val: 0.8108\n",
      "[204/300] train: 0.7123 - val: 0.8122\n",
      "[205/300] train: 0.7180 - val: 0.8100\n",
      "[206/300] train: 0.7232 - val: 0.8076\n",
      "[207/300] train: 0.7183 - val: 0.8106\n",
      "[208/300] train: 0.7174 - val: 0.8080\n",
      "[209/300] train: 0.7239 - val: 0.8029\n",
      "[210/300] train: 0.7183 - val: 0.8080\n",
      "[211/300] train: 0.7195 - val: 0.8150\n",
      "[212/300] train: 0.7189 - val: 0.8114\n",
      "[213/300] train: 0.7222 - val: 0.8084\n",
      "[214/300] train: 0.7177 - val: 0.8075\n",
      "[215/300] train: 0.7191 - val: 0.8157\n",
      "[216/300] train: 0.7198 - val: 0.8106\n",
      "[217/300] train: 0.7158 - val: 0.8186\n",
      "[218/300] train: 0.7173 - val: 0.8093\n",
      "[219/300] train: 0.7150 - val: 0.8239\n",
      "[220/300] train: 0.7179 - val: 0.8063\n",
      "[221/300] train: 0.7165 - val: 0.8138\n",
      "[222/300] train: 0.7147 - val: 0.8098\n",
      "[223/300] train: 0.7187 - val: 0.8142\n",
      "[224/300] train: 0.7124 - val: 0.8176\n",
      "[225/300] train: 0.7165 - val: 0.8052\n",
      "[226/300] train: 0.7170 - val: 0.8096\n",
      "[227/300] train: 0.7131 - val: 0.8069\n",
      "[228/300] train: 0.7138 - val: 0.8084\n",
      "[229/300] train: 0.7157 - val: 0.8145\n",
      "[230/300] train: 0.7145 - val: 0.8100\n",
      "[231/300] train: 0.7155 - val: 0.8097\n",
      "[232/300] train: 0.7138 - val: 0.8042\n",
      "[233/300] train: 0.7157 - val: 0.8114\n",
      "[234/300] train: 0.7178 - val: 0.8121\n",
      "[235/300] train: 0.7147 - val: 0.8104\n",
      "[236/300] train: 0.7138 - val: 0.8099\n",
      "[237/300] train: 0.7110 - val: 0.8152\n",
      "[238/300] train: 0.7142 - val: 0.8153\n",
      "[239/300] train: 0.7172 - val: 0.8145\n",
      "[240/300] train: 0.7169 - val: 0.8104\n",
      "[241/300] train: 0.7126 - val: 0.8131\n",
      "[242/300] train: 0.7139 - val: 0.8221\n",
      "[243/300] train: 0.7110 - val: 0.8134\n",
      "[244/300] train: 0.7175 - val: 0.8182\n",
      "[245/300] train: 0.7148 - val: 0.8176\n",
      "[246/300] train: 0.7137 - val: 0.8228\n",
      "[247/300] train: 0.7118 - val: 0.8160\n",
      "[248/300] train: 0.7098 - val: 0.8146\n",
      "[249/300] train: 0.7071 - val: 0.8166\n",
      "[250/300] train: 0.7123 - val: 0.8122\n",
      "[251/300] train: 0.7124 - val: 0.8152\n",
      "[252/300] train: 0.7130 - val: 0.8191\n",
      "[253/300] train: 0.7124 - val: 0.8120\n",
      "[254/300] train: 0.7161 - val: 0.8178\n",
      "[255/300] train: 0.7112 - val: 0.8153\n",
      "[256/300] train: 0.7107 - val: 0.8173\n",
      "[257/300] train: 0.7102 - val: 0.8066\n",
      "[258/300] train: 0.7135 - val: 0.8120\n",
      "[259/300] train: 0.7127 - val: 0.8224\n",
      "[260/300] train: 0.7138 - val: 0.8191\n",
      "[261/300] train: 0.7091 - val: 0.8189\n",
      "[262/300] train: 0.7111 - val: 0.8183\n",
      "[263/300] train: 0.7140 - val: 0.8158\n",
      "[264/300] train: 0.7110 - val: 0.8124\n",
      "[265/300] train: 0.7086 - val: 0.8129\n",
      "[266/300] train: 0.7136 - val: 0.8120\n",
      "[267/300] train: 0.7125 - val: 0.8124\n",
      "[268/300] train: 0.7162 - val: 0.8102\n",
      "[269/300] train: 0.7125 - val: 0.8154\n",
      "[270/300] train: 0.7097 - val: 0.8177\n",
      "[271/300] train: 0.7107 - val: 0.8166\n",
      "[272/300] train: 0.7147 - val: 0.8150\n",
      "[273/300] train: 0.7107 - val: 0.8182\n",
      "[274/300] train: 0.7143 - val: 0.8131\n",
      "[275/300] train: 0.7138 - val: 0.8135\n",
      "[276/300] train: 0.7113 - val: 0.8246\n",
      "[277/300] train: 0.7113 - val: 0.8167\n",
      "[278/300] train: 0.7109 - val: 0.8186\n",
      "[279/300] train: 0.7130 - val: 0.8206\n",
      "[280/300] train: 0.7111 - val: 0.8217\n",
      "[281/300] train: 0.7072 - val: 0.8245\n",
      "[282/300] train: 0.7117 - val: 0.8198\n",
      "[283/300] train: 0.7067 - val: 0.8275\n",
      "[284/300] train: 0.7116 - val: 0.8144\n",
      "[285/300] train: 0.7124 - val: 0.8163\n",
      "[286/300] train: 0.7137 - val: 0.8144\n",
      "[287/300] train: 0.7118 - val: 0.8146\n",
      "[288/300] train: 0.7109 - val: 0.8103\n",
      "[289/300] train: 0.7077 - val: 0.8093\n",
      "[290/300] train: 0.7093 - val: 0.8161\n",
      "[291/300] train: 0.7048 - val: 0.8235\n",
      "[292/300] train: 0.7085 - val: 0.8224\n",
      "[293/300] train: 0.7092 - val: 0.8201\n",
      "[294/300] train: 0.7084 - val: 0.8262\n",
      "[295/300] train: 0.7089 - val: 0.8189\n",
      "[296/300] train: 0.7084 - val: 0.8214\n",
      "[297/300] train: 0.7068 - val: 0.8238\n",
      "[298/300] train: 0.7089 - val: 0.8204\n",
      "[299/300] train: 0.7057 - val: 0.8272\n",
      "[300/300] train: 0.7118 - val: 0.8192\n"
     ]
    }
   ],
   "source": [
    "for epoch in range(n_epochs):\n",
    "    stats = {'epoch': epoch + 1, 'total': n_epochs}\n",
    "\n",
    "    for phase in ('train', 'val'):\n",
    "        if phase == 'train':\n",
    "          training = True\n",
    "        else:\n",
    "          training = False\n",
    "        running_loss = 0\n",
    "        n_batches = 0\n",
    "        for batch in batches(*datasets[phase], shuffle=training, bs=bs):\n",
    "            x_batch, y_batch = [b.to(device) for b in batch]\n",
    "            optimizer.zero_grad()\n",
    "            # compute gradients only during 'train' phase\n",
    "            with torch.set_grad_enabled(training):\n",
    "                outputs = net(x_batch[:,0], x_batch[:,1], minmax)\n",
    "                loss = criterion(outputs, y_batch)\n",
    "                # don't update weights and rates when in 'val' phase\n",
    "                if training:\n",
    "                    #scheduler.step()\n",
    "                    loss.backward()\n",
    "                    optimizer.step()\n",
    "                    #lr_history.extend(scheduler.get_lr())\n",
    "            running_loss += loss.item()\n",
    "        epoch_loss = running_loss / dataset_sizes[phase]\n",
    "        stats[phase] = epoch_loss\n",
    "        # early stopping: save weights of the best model so far\n",
    "        if phase == 'val':\n",
    "            if epoch_loss < best_loss:\n",
    "                print('loss improvement on epoch: %d' % (epoch + 1))\n",
    "                best_loss = epoch_loss\n",
    "                best_weights = copy.deepcopy(net.state_dict())\n",
    "                no_improvements = 0\n",
    "            else:\n",
    "                no_improvements += 1\n",
    "    history.append(stats)\n",
    "    print('[{epoch:03d}/{total:03d}] train: {train:.4f} - val: {val:.4f}'.format(**stats))\n",
    "    if no_improvements >= patience:\n",
    "        print('early stopping after epoch {epoch:03d}'.format(**stats))\n",
    "        break"
   ],
   "metadata": {
    "collapsed": false,
    "pycharm": {
     "name": "#%%\n"
    }
   }
  },
  {
   "cell_type": "code",
   "execution_count": 360,
   "outputs": [
    {
     "data": {
      "text/plain": "<Figure size 432x288 with 1 Axes>",
      "image/png": "[encoded data removed]"
     },
     "metadata": {
      "needs_background": "light"
     },
     "output_type": "display_data"
    }
   ],
   "source": [
    "ax = pd.DataFrame(history).drop(columns='total').plot(x='epoch')"
   ],
   "metadata": {
    "collapsed": false,
    "pycharm": {
     "name": "#%%\n"
    }
   }
  },
  {
   "cell_type": "code",
   "execution_count": 361,
   "outputs": [],
   "source": [
    "# Plot decreasing learning rate\n",
    "\n",
    "#_ = plt.plot(lr_history[:2*iterations_per_epoch-1])"
   ],
   "metadata": {
    "collapsed": false,
    "pycharm": {
     "name": "#%%\n"
    }
   }
  },
  {
   "cell_type": "code",
   "execution_count": 362,
   "outputs": [
    {
     "data": {
      "text/plain": "<All keys matched successfully>"
     },
     "execution_count": 362,
     "metadata": {},
     "output_type": "execute_result"
    }
   ],
   "source": [
    "net.load_state_dict(best_weights)"
   ],
   "metadata": {
    "collapsed": false,
    "pycharm": {
     "name": "#%%\n"
    }
   }
  },
  {
   "cell_type": "code",
   "execution_count": 363,
   "outputs": [],
   "source": [
    "groud_truth, predictions = [], []\n",
    "\n",
    "with torch.no_grad():\n",
    "    for batch in batches(*datasets['val'], shuffle=False, bs=bs):\n",
    "        x_batch, y_batch = [b.to(device) for b in batch]\n",
    "        outputs = net(x_batch[:, 0], x_batch[:, 1], minmax)\n",
    "        groud_truth.extend(y_batch.tolist())\n",
    "        predictions.extend(outputs.tolist())\n",
    "\n",
    "groud_truth = np.asarray(groud_truth).ravel()\n",
    "predictions = np.asarray(predictions).ravel()"
   ],
   "metadata": {
    "collapsed": false,
    "pycharm": {
     "name": "#%%\n"
    }
   }
  },
  {
   "cell_type": "code",
   "execution_count": 364,
   "outputs": [
    {
     "name": "stdout",
     "output_type": "stream",
     "text": [
      "Validation RMSE: 0.9784\n"
     ]
    }
   ],
   "source": [
    "valid_loss = np.sqrt(np.mean((predictions - groud_truth)**2))\n",
    "print(f'Validation RMSE: {valid_loss:.4f}')"
   ],
   "metadata": {
    "collapsed": false,
    "pycharm": {
     "name": "#%%\n"
    }
   }
  },
  {
   "cell_type": "code",
   "execution_count": 365,
   "outputs": [],
   "source": [
    "groud_truth, predictions = [], []\n",
    "\n",
    "with torch.no_grad():\n",
    "    for batch in batches(*datasets['test'], shuffle=False, bs=bs):\n",
    "        x_batch, y_batch = [b.to(device) for b in batch]\n",
    "        outputs = net(x_batch[:, 0], x_batch[:, 1], minmax)\n",
    "        groud_truth.extend(y_batch.tolist())\n",
    "        predictions.extend(outputs.tolist())\n",
    "\n",
    "groud_truth = np.asarray(groud_truth).ravel()\n",
    "predictions = np.asarray(predictions).ravel()"
   ],
   "metadata": {
    "collapsed": false,
    "pycharm": {
     "name": "#%%\n"
    }
   }
  },
  {
   "cell_type": "code",
   "execution_count": 366,
   "outputs": [
    {
     "name": "stdout",
     "output_type": "stream",
     "text": [
      "Final RMSE: 0.9821\n"
     ]
    }
   ],
   "source": [
    "final_loss = np.sqrt(np.mean((predictions - groud_truth)**2))\n",
    "print(f'Final RMSE: {final_loss:.4f}')"
   ],
   "metadata": {
    "collapsed": false,
    "pycharm": {
     "name": "#%%\n"
    }
   }
  },
  {
   "cell_type": "code",
   "execution_count": 367,
   "outputs": [],
   "source": [
    "with open('best.weights.medium', 'wb') as file:\n",
    "    pickle.dump(best_weights, file)"
   ],
   "metadata": {
    "collapsed": false,
    "pycharm": {
     "name": "#%%\n"
    }
   }
  },
  {
   "cell_type": "code",
   "execution_count": 368,
   "outputs": [
    {
     "name": "stdout",
     "output_type": "stream",
     "text": [
      "duration: 26.3646\n"
     ]
    }
   ],
   "source": [
    "print(f'duration: {round(time.time() - start, 4)}')"
   ],
   "metadata": {
    "collapsed": false,
    "pycharm": {
     "name": "#%%\n"
    }
   }
  },
  {
   "cell_type": "code",
   "execution_count": 368,
   "outputs": [],
   "source": [],
   "metadata": {
    "collapsed": false,
    "pycharm": {
     "name": "#%%\n"
    }
   }
  },
  {
   "cell_type": "code",
   "execution_count": 369,
   "outputs": [],
   "source": [
    "# big net\n",
    "\n",
    "start = time.time()\n",
    "net = RecommenderNet(\n",
    "    n_users=n, n_movies=m,\n",
    "    n_factors=50, hidden=[100, 100, 100],\n",
    "    embedding_dropout=0.05, dropouts=[0.3, 0.3, 0.3])"
   ],
   "metadata": {
    "collapsed": false,
    "pycharm": {
     "name": "#%%\n"
    }
   }
  },
  {
   "cell_type": "code",
   "execution_count": 370,
   "outputs": [],
   "source": [
    "lr = 1e-3\n",
    "wd = 1e-5\n",
    "bs = 4096\n",
    "n_epochs = 300\n",
    "patience = 300\n",
    "no_improvements = 0\n",
    "best_loss = np.inf\n",
    "best_weights = None\n",
    "history = []\n",
    "lr_history = []\n",
    "\n",
    "device = torch.device('cuda:0' if torch.cuda.is_available() else 'cpu')\n",
    "\n",
    "net.to(device)\n",
    "criterion = nn.MSELoss(reduction='sum')\n",
    "optimizer = optim.Adam(net.parameters(), lr=lr, weight_decay=wd)\n",
    "#iterations_per_epoch = int(math.ceil(dataset_sizes['train'] // bs))\n",
    "#scheduler = CyclicLR(optimizer, cosine(t_max=iterations_per_epoch * 2, eta_min=lr/10))"
   ],
   "metadata": {
    "collapsed": false,
    "pycharm": {
     "name": "#%%\n"
    }
   }
  },
  {
   "cell_type": "code",
   "execution_count": 371,
   "outputs": [
    {
     "name": "stdout",
     "output_type": "stream",
     "text": [
      "loss improvement on epoch: 1\n",
      "[001/300] train: 1.2858 - val: 1.0368\n",
      "loss improvement on epoch: 2\n",
      "[002/300] train: 1.1515 - val: 0.9362\n",
      "loss improvement on epoch: 3\n",
      "[003/300] train: 1.0110 - val: 0.8395\n",
      "loss improvement on epoch: 4\n",
      "[004/300] train: 0.9241 - val: 0.8053\n",
      "loss improvement on epoch: 5\n",
      "[005/300] train: 0.8823 - val: 0.7814\n",
      "loss improvement on epoch: 6\n",
      "[006/300] train: 0.8457 - val: 0.7613\n",
      "loss improvement on epoch: 7\n",
      "[007/300] train: 0.8241 - val: 0.7492\n",
      "loss improvement on epoch: 8\n",
      "[008/300] train: 0.8115 - val: 0.7457\n",
      "loss improvement on epoch: 9\n",
      "[009/300] train: 0.7978 - val: 0.7425\n",
      "loss improvement on epoch: 10\n",
      "[010/300] train: 0.7839 - val: 0.7396\n",
      "loss improvement on epoch: 11\n",
      "[011/300] train: 0.7790 - val: 0.7378\n",
      "[012/300] train: 0.7692 - val: 0.7382\n",
      "loss improvement on epoch: 13\n",
      "[013/300] train: 0.7621 - val: 0.7362\n",
      "[014/300] train: 0.7504 - val: 0.7437\n",
      "[015/300] train: 0.7452 - val: 0.7452\n",
      "[016/300] train: 0.7352 - val: 0.7473\n",
      "[017/300] train: 0.7231 - val: 0.7491\n",
      "[018/300] train: 0.7117 - val: 0.7516\n",
      "[019/300] train: 0.6967 - val: 0.7579\n",
      "[020/300] train: 0.6838 - val: 0.7769\n",
      "[021/300] train: 0.6691 - val: 0.7771\n",
      "[022/300] train: 0.6499 - val: 0.7873\n",
      "[023/300] train: 0.6367 - val: 0.7929\n",
      "[024/300] train: 0.6204 - val: 0.8065\n",
      "[025/300] train: 0.6044 - val: 0.8166\n",
      "[026/300] train: 0.5903 - val: 0.8186\n",
      "[027/300] train: 0.5786 - val: 0.8252\n",
      "[028/300] train: 0.5702 - val: 0.8345\n",
      "[029/300] train: 0.5591 - val: 0.8406\n",
      "[030/300] train: 0.5506 - val: 0.8312\n",
      "[031/300] train: 0.5379 - val: 0.8498\n",
      "[032/300] train: 0.5288 - val: 0.8423\n",
      "[033/300] train: 0.5160 - val: 0.8509\n",
      "[034/300] train: 0.5126 - val: 0.8545\n",
      "[035/300] train: 0.5037 - val: 0.8513\n",
      "[036/300] train: 0.4968 - val: 0.8652\n",
      "[037/300] train: 0.4911 - val: 0.8564\n",
      "[038/300] train: 0.4858 - val: 0.8593\n",
      "[039/300] train: 0.4789 - val: 0.8604\n",
      "[040/300] train: 0.4727 - val: 0.8653\n",
      "[041/300] train: 0.4651 - val: 0.8797\n",
      "[042/300] train: 0.4610 - val: 0.8706\n",
      "[043/300] train: 0.4564 - val: 0.8775\n",
      "[044/300] train: 0.4550 - val: 0.8796\n",
      "[045/300] train: 0.4516 - val: 0.8763\n",
      "[046/300] train: 0.4444 - val: 0.8846\n",
      "[047/300] train: 0.4402 - val: 0.8799\n",
      "[048/300] train: 0.4408 - val: 0.8701\n",
      "[049/300] train: 0.4392 - val: 0.8843\n",
      "[050/300] train: 0.4297 - val: 0.8862\n",
      "[051/300] train: 0.4251 - val: 0.8887\n",
      "[052/300] train: 0.4231 - val: 0.8966\n",
      "[053/300] train: 0.4229 - val: 0.8761\n",
      "[054/300] train: 0.4181 - val: 0.8875\n",
      "[055/300] train: 0.4144 - val: 0.8772\n",
      "[056/300] train: 0.4127 - val: 0.8935\n",
      "[057/300] train: 0.4095 - val: 0.8914\n",
      "[058/300] train: 0.4037 - val: 0.8973\n",
      "[059/300] train: 0.4037 - val: 0.8985\n",
      "[060/300] train: 0.4014 - val: 0.8950\n",
      "[061/300] train: 0.4008 - val: 0.9032\n",
      "[062/300] train: 0.3994 - val: 0.8948\n",
      "[063/300] train: 0.3932 - val: 0.8971\n",
      "[064/300] train: 0.3935 - val: 0.9128\n",
      "[065/300] train: 0.3923 - val: 0.8937\n",
      "[066/300] train: 0.3898 - val: 0.9088\n",
      "[067/300] train: 0.3861 - val: 0.9033\n",
      "[068/300] train: 0.3844 - val: 0.8978\n",
      "[069/300] train: 0.3819 - val: 0.8974\n",
      "[070/300] train: 0.3827 - val: 0.8952\n",
      "[071/300] train: 0.3815 - val: 0.9047\n",
      "[072/300] train: 0.3800 - val: 0.9017\n",
      "[073/300] train: 0.3763 - val: 0.8991\n",
      "[074/300] train: 0.3757 - val: 0.9079\n",
      "[075/300] train: 0.3754 - val: 0.9060\n",
      "[076/300] train: 0.3738 - val: 0.9134\n",
      "[077/300] train: 0.3718 - val: 0.9038\n",
      "[078/300] train: 0.3699 - val: 0.9129\n",
      "[079/300] train: 0.3692 - val: 0.9007\n",
      "[080/300] train: 0.3699 - val: 0.9155\n",
      "[081/300] train: 0.3656 - val: 0.8996\n",
      "[082/300] train: 0.3628 - val: 0.9078\n",
      "[083/300] train: 0.3643 - val: 0.9141\n",
      "[084/300] train: 0.3600 - val: 0.9053\n",
      "[085/300] train: 0.3623 - val: 0.9107\n",
      "[086/300] train: 0.3597 - val: 0.9181\n",
      "[087/300] train: 0.3607 - val: 0.9028\n",
      "[088/300] train: 0.3601 - val: 0.9085\n",
      "[089/300] train: 0.3559 - val: 0.9076\n",
      "[090/300] train: 0.3556 - val: 0.9165\n",
      "[091/300] train: 0.3531 - val: 0.9082\n",
      "[092/300] train: 0.3526 - val: 0.9229\n",
      "[093/300] train: 0.3534 - val: 0.8999\n",
      "[094/300] train: 0.3517 - val: 0.9195\n",
      "[095/300] train: 0.3528 - val: 0.9034\n",
      "[096/300] train: 0.3479 - val: 0.9187\n",
      "[097/300] train: 0.3480 - val: 0.9112\n",
      "[098/300] train: 0.3463 - val: 0.9145\n",
      "[099/300] train: 0.3434 - val: 0.9214\n",
      "[100/300] train: 0.3422 - val: 0.9226\n",
      "[101/300] train: 0.3449 - val: 0.9208\n",
      "[102/300] train: 0.3464 - val: 0.9044\n",
      "[103/300] train: 0.3409 - val: 0.9053\n",
      "[104/300] train: 0.3389 - val: 0.9178\n",
      "[105/300] train: 0.3421 - val: 0.9119\n",
      "[106/300] train: 0.3409 - val: 0.9176\n",
      "[107/300] train: 0.3381 - val: 0.9139\n",
      "[108/300] train: 0.3378 - val: 0.9091\n",
      "[109/300] train: 0.3415 - val: 0.9146\n",
      "[110/300] train: 0.3382 - val: 0.9069\n",
      "[111/300] train: 0.3364 - val: 0.9125\n",
      "[112/300] train: 0.3373 - val: 0.9160\n",
      "[113/300] train: 0.3375 - val: 0.9086\n",
      "[114/300] train: 0.3346 - val: 0.9144\n",
      "[115/300] train: 0.3330 - val: 0.9175\n",
      "[116/300] train: 0.3284 - val: 0.8972\n",
      "[117/300] train: 0.3312 - val: 0.9200\n",
      "[118/300] train: 0.3300 - val: 0.9097\n",
      "[119/300] train: 0.3334 - val: 0.9095\n",
      "[120/300] train: 0.3319 - val: 0.9104\n",
      "[121/300] train: 0.3300 - val: 0.9137\n",
      "[122/300] train: 0.3285 - val: 0.9251\n",
      "[123/300] train: 0.3275 - val: 0.9019\n",
      "[124/300] train: 0.3244 - val: 0.9044\n",
      "[125/300] train: 0.3276 - val: 0.9095\n",
      "[126/300] train: 0.3268 - val: 0.9099\n",
      "[127/300] train: 0.3236 - val: 0.9198\n",
      "[128/300] train: 0.3237 - val: 0.9231\n",
      "[129/300] train: 0.3236 - val: 0.9136\n",
      "[130/300] train: 0.3228 - val: 0.9160\n",
      "[131/300] train: 0.3260 - val: 0.9116\n",
      "[132/300] train: 0.3225 - val: 0.9241\n",
      "[133/300] train: 0.3229 - val: 0.9057\n",
      "[134/300] train: 0.3221 - val: 0.9193\n",
      "[135/300] train: 0.3197 - val: 0.9206\n",
      "[136/300] train: 0.3206 - val: 0.9118\n",
      "[137/300] train: 0.3223 - val: 0.9142\n",
      "[138/300] train: 0.3216 - val: 0.9123\n",
      "[139/300] train: 0.3202 - val: 0.9155\n",
      "[140/300] train: 0.3208 - val: 0.9095\n",
      "[141/300] train: 0.3202 - val: 0.9231\n",
      "[142/300] train: 0.3162 - val: 0.9140\n",
      "[143/300] train: 0.3177 - val: 0.9279\n",
      "[144/300] train: 0.3187 - val: 0.9130\n",
      "[145/300] train: 0.3166 - val: 0.9165\n",
      "[146/300] train: 0.3177 - val: 0.9219\n",
      "[147/300] train: 0.3156 - val: 0.9211\n",
      "[148/300] train: 0.3143 - val: 0.9228\n",
      "[149/300] train: 0.3131 - val: 0.9221\n",
      "[150/300] train: 0.3143 - val: 0.9143\n",
      "[151/300] train: 0.3157 - val: 0.9076\n",
      "[152/300] train: 0.3141 - val: 0.9281\n",
      "[153/300] train: 0.3121 - val: 0.9227\n",
      "[154/300] train: 0.3135 - val: 0.9162\n",
      "[155/300] train: 0.3127 - val: 0.9161\n",
      "[156/300] train: 0.3131 - val: 0.9096\n",
      "[157/300] train: 0.3109 - val: 0.9100\n",
      "[158/300] train: 0.3086 - val: 0.9092\n",
      "[159/300] train: 0.3093 - val: 0.9089\n",
      "[160/300] train: 0.3127 - val: 0.9100\n",
      "[161/300] train: 0.3103 - val: 0.9125\n",
      "[162/300] train: 0.3116 - val: 0.9237\n",
      "[163/300] train: 0.3112 - val: 0.9051\n",
      "[164/300] train: 0.3088 - val: 0.9224\n",
      "[165/300] train: 0.3123 - val: 0.9172\n",
      "[166/300] train: 0.3083 - val: 0.9167\n",
      "[167/300] train: 0.3071 - val: 0.9196\n",
      "[168/300] train: 0.3072 - val: 0.9213\n",
      "[169/300] train: 0.3080 - val: 0.9183\n",
      "[170/300] train: 0.3058 - val: 0.9131\n",
      "[171/300] train: 0.3053 - val: 0.9008\n",
      "[172/300] train: 0.3074 - val: 0.9278\n",
      "[173/300] train: 0.3049 - val: 0.9005\n",
      "[174/300] train: 0.3032 - val: 0.9130\n",
      "[175/300] train: 0.3047 - val: 0.9062\n",
      "[176/300] train: 0.3066 - val: 0.9134\n",
      "[177/300] train: 0.3065 - val: 0.9033\n",
      "[178/300] train: 0.3039 - val: 0.9173\n",
      "[179/300] train: 0.3011 - val: 0.9143\n",
      "[180/300] train: 0.3052 - val: 0.9107\n",
      "[181/300] train: 0.3056 - val: 0.9188\n",
      "[182/300] train: 0.3030 - val: 0.9118\n",
      "[183/300] train: 0.3008 - val: 0.9154\n",
      "[184/300] train: 0.3030 - val: 0.9239\n",
      "[185/300] train: 0.3003 - val: 0.9134\n",
      "[186/300] train: 0.3003 - val: 0.9195\n",
      "[187/300] train: 0.2961 - val: 0.9257\n",
      "[188/300] train: 0.3023 - val: 0.9144\n",
      "[189/300] train: 0.3028 - val: 0.9159\n",
      "[190/300] train: 0.2974 - val: 0.9164\n",
      "[191/300] train: 0.2992 - val: 0.9090\n",
      "[192/300] train: 0.2993 - val: 0.9045\n",
      "[193/300] train: 0.3008 - val: 0.9074\n",
      "[194/300] train: 0.2997 - val: 0.9184\n",
      "[195/300] train: 0.2997 - val: 0.9203\n",
      "[196/300] train: 0.2974 - val: 0.9039\n",
      "[197/300] train: 0.2976 - val: 0.9205\n",
      "[198/300] train: 0.3008 - val: 0.9191\n",
      "[199/300] train: 0.3009 - val: 0.9152\n",
      "[200/300] train: 0.3010 - val: 0.9102\n",
      "[201/300] train: 0.2973 - val: 0.9093\n",
      "[202/300] train: 0.2951 - val: 0.9057\n",
      "[203/300] train: 0.2984 - val: 0.9055\n",
      "[204/300] train: 0.2993 - val: 0.9147\n",
      "[205/300] train: 0.2962 - val: 0.9118\n",
      "[206/300] train: 0.2944 - val: 0.9298\n",
      "[207/300] train: 0.2974 - val: 0.9210\n",
      "[208/300] train: 0.2956 - val: 0.9144\n",
      "[209/300] train: 0.2961 - val: 0.9192\n",
      "[210/300] train: 0.2963 - val: 0.9117\n",
      "[211/300] train: 0.2982 - val: 0.9327\n",
      "[212/300] train: 0.2929 - val: 0.9241\n",
      "[213/300] train: 0.2918 - val: 0.9130\n",
      "[214/300] train: 0.2906 - val: 0.9173\n",
      "[215/300] train: 0.2937 - val: 0.9251\n",
      "[216/300] train: 0.2912 - val: 0.9272\n",
      "[217/300] train: 0.2943 - val: 0.9163\n",
      "[218/300] train: 0.2945 - val: 0.9201\n",
      "[219/300] train: 0.2957 - val: 0.9096\n",
      "[220/300] train: 0.2957 - val: 0.9084\n",
      "[221/300] train: 0.2944 - val: 0.9138\n",
      "[222/300] train: 0.2924 - val: 0.9136\n",
      "[223/300] train: 0.2938 - val: 0.9151\n",
      "[224/300] train: 0.2908 - val: 0.9071\n",
      "[225/300] train: 0.2917 - val: 0.9201\n",
      "[226/300] train: 0.2914 - val: 0.9179\n",
      "[227/300] train: 0.2890 - val: 0.9258\n",
      "[228/300] train: 0.2904 - val: 0.9146\n",
      "[229/300] train: 0.2901 - val: 0.9183\n",
      "[230/300] train: 0.2895 - val: 0.9196\n",
      "[231/300] train: 0.2905 - val: 0.9161\n",
      "[232/300] train: 0.2904 - val: 0.9143\n",
      "[233/300] train: 0.2933 - val: 0.9259\n",
      "[234/300] train: 0.2867 - val: 0.9235\n",
      "[235/300] train: 0.2923 - val: 0.9256\n",
      "[236/300] train: 0.2893 - val: 0.9138\n",
      "[237/300] train: 0.2928 - val: 0.9205\n",
      "[238/300] train: 0.2879 - val: 0.9188\n",
      "[239/300] train: 0.2903 - val: 0.9279\n",
      "[240/300] train: 0.2886 - val: 0.9167\n",
      "[241/300] train: 0.2884 - val: 0.9208\n",
      "[242/300] train: 0.2896 - val: 0.9142\n",
      "[243/300] train: 0.2904 - val: 0.9115\n",
      "[244/300] train: 0.2876 - val: 0.9069\n",
      "[245/300] train: 0.2908 - val: 0.9066\n",
      "[246/300] train: 0.2887 - val: 0.9153\n",
      "[247/300] train: 0.2840 - val: 0.9138\n",
      "[248/300] train: 0.2885 - val: 0.9216\n",
      "[249/300] train: 0.2824 - val: 0.9164\n",
      "[250/300] train: 0.2845 - val: 0.9049\n",
      "[251/300] train: 0.2851 - val: 0.9225\n",
      "[252/300] train: 0.2836 - val: 0.9150\n",
      "[253/300] train: 0.2855 - val: 0.9142\n",
      "[254/300] train: 0.2859 - val: 0.9341\n",
      "[255/300] train: 0.2852 - val: 0.9271\n",
      "[256/300] train: 0.2840 - val: 0.9250\n",
      "[257/300] train: 0.2861 - val: 0.9213\n",
      "[258/300] train: 0.2823 - val: 0.9200\n",
      "[259/300] train: 0.2858 - val: 0.9142\n",
      "[260/300] train: 0.2839 - val: 0.9266\n",
      "[261/300] train: 0.2835 - val: 0.9140\n",
      "[262/300] train: 0.2832 - val: 0.9103\n",
      "[263/300] train: 0.2845 - val: 0.9111\n",
      "[264/300] train: 0.2826 - val: 0.9132\n",
      "[265/300] train: 0.2822 - val: 0.9149\n",
      "[266/300] train: 0.2838 - val: 0.9208\n",
      "[267/300] train: 0.2825 - val: 0.9221\n",
      "[268/300] train: 0.2839 - val: 0.9203\n",
      "[269/300] train: 0.2791 - val: 0.9220\n",
      "[270/300] train: 0.2809 - val: 0.9182\n",
      "[271/300] train: 0.2843 - val: 0.9167\n",
      "[272/300] train: 0.2805 - val: 0.9203\n",
      "[273/300] train: 0.2817 - val: 0.9197\n",
      "[274/300] train: 0.2832 - val: 0.9252\n",
      "[275/300] train: 0.2829 - val: 0.9163\n",
      "[276/300] train: 0.2814 - val: 0.9212\n",
      "[277/300] train: 0.2843 - val: 0.9161\n",
      "[278/300] train: 0.2808 - val: 0.9313\n",
      "[279/300] train: 0.2816 - val: 0.9191\n",
      "[280/300] train: 0.2806 - val: 0.9142\n",
      "[281/300] train: 0.2778 - val: 0.9147\n",
      "[282/300] train: 0.2796 - val: 0.9175\n",
      "[283/300] train: 0.2823 - val: 0.9192\n",
      "[284/300] train: 0.2807 - val: 0.9191\n",
      "[285/300] train: 0.2811 - val: 0.9118\n",
      "[286/300] train: 0.2800 - val: 0.9181\n",
      "[287/300] train: 0.2790 - val: 0.9051\n",
      "[288/300] train: 0.2775 - val: 0.9240\n",
      "[289/300] train: 0.2784 - val: 0.9158\n",
      "[290/300] train: 0.2798 - val: 0.9117\n",
      "[291/300] train: 0.2809 - val: 0.9024\n",
      "[292/300] train: 0.2795 - val: 0.9264\n",
      "[293/300] train: 0.2776 - val: 0.9198\n",
      "[294/300] train: 0.2791 - val: 0.9131\n",
      "[295/300] train: 0.2787 - val: 0.9120\n",
      "[296/300] train: 0.2797 - val: 0.9118\n",
      "[297/300] train: 0.2788 - val: 0.9253\n",
      "[298/300] train: 0.2768 - val: 0.9194\n",
      "[299/300] train: 0.2798 - val: 0.9119\n",
      "[300/300] train: 0.2774 - val: 0.9020\n"
     ]
    }
   ],
   "source": [
    "for epoch in range(n_epochs):\n",
    "    stats = {'epoch': epoch + 1, 'total': n_epochs}\n",
    "\n",
    "    for phase in ('train', 'val'):\n",
    "        if phase == 'train':\n",
    "          training = True\n",
    "        else:\n",
    "          training = False\n",
    "        running_loss = 0\n",
    "        n_batches = 0\n",
    "        for batch in batches(*datasets[phase], shuffle=training, bs=bs):\n",
    "            x_batch, y_batch = [b.to(device) for b in batch]\n",
    "            optimizer.zero_grad()\n",
    "            # compute gradients only during 'train' phase\n",
    "            with torch.set_grad_enabled(training):\n",
    "                outputs = net(x_batch[:,0], x_batch[:,1], minmax)\n",
    "                loss = criterion(outputs, y_batch)\n",
    "                # don't update weights and rates when in 'val' phase\n",
    "                if training:\n",
    "                    #scheduler.step()\n",
    "                    loss.backward()\n",
    "                    optimizer.step()\n",
    "                    #lr_history.extend(scheduler.get_lr())\n",
    "            running_loss += loss.item()\n",
    "        epoch_loss = running_loss / dataset_sizes[phase]\n",
    "        stats[phase] = epoch_loss\n",
    "        # early stopping: save weights of the best model so far\n",
    "        if phase == 'val':\n",
    "            if epoch_loss < best_loss:\n",
    "                print('loss improvement on epoch: %d' % (epoch + 1))\n",
    "                best_loss = epoch_loss\n",
    "                best_weights = copy.deepcopy(net.state_dict())\n",
    "                no_improvements = 0\n",
    "            else:\n",
    "                no_improvements += 1\n",
    "    history.append(stats)\n",
    "    print('[{epoch:03d}/{total:03d}] train: {train:.4f} - val: {val:.4f}'.format(**stats))\n",
    "    if no_improvements >= patience:\n",
    "        print('early stopping after epoch {epoch:03d}'.format(**stats))\n",
    "        break"
   ],
   "metadata": {
    "collapsed": false,
    "pycharm": {
     "name": "#%%\n"
    }
   }
  },
  {
   "cell_type": "code",
   "execution_count": 372,
   "outputs": [
    {
     "data": {
      "text/plain": "<Figure size 432x288 with 1 Axes>",
      "image/png": "[encoded data removed]"
     },
     "metadata": {
      "needs_background": "light"
     },
     "output_type": "display_data"
    }
   ],
   "source": [
    "ax = pd.DataFrame(history).drop(columns='total').plot(x='epoch')"
   ],
   "metadata": {
    "collapsed": false,
    "pycharm": {
     "name": "#%%\n"
    }
   }
  },
  {
   "cell_type": "code",
   "execution_count": 373,
   "outputs": [],
   "source": [
    "# Plot decreasing learning rate\n",
    "\n",
    "#_ = plt.plot(lr_history[:2*iterations_per_epoch-1])"
   ],
   "metadata": {
    "collapsed": false,
    "pycharm": {
     "name": "#%%\n"
    }
   }
  },
  {
   "cell_type": "code",
   "execution_count": 374,
   "outputs": [
    {
     "data": {
      "text/plain": "<All keys matched successfully>"
     },
     "execution_count": 374,
     "metadata": {},
     "output_type": "execute_result"
    }
   ],
   "source": [
    "net.load_state_dict(best_weights)"
   ],
   "metadata": {
    "collapsed": false,
    "pycharm": {
     "name": "#%%\n"
    }
   }
  },
  {
   "cell_type": "code",
   "execution_count": 375,
   "outputs": [],
   "source": [
    "groud_truth, predictions = [], []\n",
    "\n",
    "with torch.no_grad():\n",
    "    for batch in batches(*datasets['val'], shuffle=False, bs=bs):\n",
    "        x_batch, y_batch = [b.to(device) for b in batch]\n",
    "        outputs = net(x_batch[:, 0], x_batch[:, 1], minmax)\n",
    "        groud_truth.extend(y_batch.tolist())\n",
    "        predictions.extend(outputs.tolist())\n",
    "\n",
    "groud_truth = np.asarray(groud_truth).ravel()\n",
    "predictions = np.asarray(predictions).ravel()"
   ],
   "metadata": {
    "collapsed": false,
    "pycharm": {
     "name": "#%%\n"
    }
   }
  },
  {
   "cell_type": "code",
   "execution_count": 376,
   "outputs": [
    {
     "name": "stdout",
     "output_type": "stream",
     "text": [
      "Validation RMSE: 0.9487\n"
     ]
    }
   ],
   "source": [
    "valid_loss = np.sqrt(np.mean((predictions - groud_truth)**2))\n",
    "print(f'Validation RMSE: {valid_loss:.4f}')"
   ],
   "metadata": {
    "collapsed": false,
    "pycharm": {
     "name": "#%%\n"
    }
   }
  },
  {
   "cell_type": "code",
   "execution_count": 377,
   "outputs": [],
   "source": [
    "groud_truth, predictions = [], []\n",
    "\n",
    "with torch.no_grad():\n",
    "    for batch in batches(*datasets['test'], shuffle=False, bs=bs):\n",
    "        x_batch, y_batch = [b.to(device) for b in batch]\n",
    "        outputs = net(x_batch[:, 0], x_batch[:, 1], minmax)\n",
    "        groud_truth.extend(y_batch.tolist())\n",
    "        predictions.extend(outputs.tolist())\n",
    "\n",
    "groud_truth = np.asarray(groud_truth).ravel()\n",
    "predictions = np.asarray(predictions).ravel()"
   ],
   "metadata": {
    "collapsed": false,
    "pycharm": {
     "name": "#%%\n"
    }
   }
  },
  {
   "cell_type": "code",
   "execution_count": 378,
   "outputs": [
    {
     "name": "stdout",
     "output_type": "stream",
     "text": [
      "Final RMSE: 0.9523\n"
     ]
    }
   ],
   "source": [
    "final_loss = np.sqrt(np.mean((predictions - groud_truth)**2))\n",
    "print(f'Final RMSE: {final_loss:.4f}')"
   ],
   "metadata": {
    "collapsed": false,
    "pycharm": {
     "name": "#%%\n"
    }
   }
  },
  {
   "cell_type": "code",
   "execution_count": 379,
   "outputs": [],
   "source": [
    "with open('best.weights.big', 'wb') as file:\n",
    "    pickle.dump(best_weights, file)"
   ],
   "metadata": {
    "collapsed": false,
    "pycharm": {
     "name": "#%%\n"
    }
   }
  },
  {
   "cell_type": "code",
   "execution_count": 380,
   "outputs": [
    {
     "name": "stdout",
     "output_type": "stream",
     "text": [
      "duration: 54.6365\n"
     ]
    }
   ],
   "source": [
    "print(f'duration: {round(time.time() - start, 4)}')"
   ],
   "metadata": {
    "collapsed": false,
    "pycharm": {
     "name": "#%%\n"
    }
   }
  },
  {
   "cell_type": "code",
   "execution_count": 380,
   "outputs": [],
   "source": [],
   "metadata": {
    "collapsed": false,
    "pycharm": {
     "name": "#%%\n"
    }
   }
  }
 ],
 "metadata": {
  "kernelspec": {
   "name": "pycharm-f57757a1",
   "language": "python",
   "display_name": "PyCharm (rs-via-gnn)"
  },
  "language_info": {
   "codemirror_mode": {
    "name": "ipython",
    "version": 2
   },
   "file_extension": ".py",
   "mimetype": "text/x-python",
   "name": "python",
   "nbconvert_exporter": "python",
   "pygments_lexer": "ipython2",
   "version": "2.7.6"
  }
 },
 "nbformat": 4,
 "nbformat_minor": 0
}