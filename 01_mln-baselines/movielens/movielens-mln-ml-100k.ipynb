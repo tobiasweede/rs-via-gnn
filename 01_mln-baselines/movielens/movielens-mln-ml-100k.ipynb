{
 "cells": [
  {
   "cell_type": "markdown",
   "metadata": {
    "collapsed": true,
    "pycharm": {
     "name": "#%% md\n"
    }
   },
   "source": [
    "# MovieLens MLN Recommendation via PyTorch\n",
    "\n",
    "adapted from https://github.com/fastai/fastai"
   ]
  },
  {
   "cell_type": "code",
   "execution_count": 777,
   "outputs": [],
   "source": [
    "import math\n",
    "import copy\n",
    "import pickle\n",
    "from pathlib import Path\n",
    "from itertools import zip_longest\n",
    "\n",
    "import numpy as np\n",
    "import pandas as pd\n",
    "import matplotlib.pyplot as plt\n",
    "from sklearn.model_selection import train_test_split\n",
    "\n",
    "import torch\n",
    "from torch import nn\n",
    "from torch import optim\n",
    "\n",
    "import time\n",
    "\n",
    "figure_path = '/home/weiss/git/thesis/doc/figures/'"
   ],
   "metadata": {
    "collapsed": false,
    "pycharm": {
     "name": "#%%\n"
    }
   }
  },
  {
   "cell_type": "code",
   "execution_count": 778,
   "outputs": [],
   "source": [
    "def set_random_seed(state=1):\n",
    "    gens = (np.random.seed, torch.manual_seed, torch.cuda.manual_seed)\n",
    "    for set_state in gens:\n",
    "        set_state(state)\n",
    "\n",
    "RANDOM_STATE = 2021\n",
    "set_random_seed(RANDOM_STATE)"
   ],
   "metadata": {
    "collapsed": false,
    "pycharm": {
     "name": "#%%\n"
    }
   }
  },
  {
   "cell_type": "code",
   "execution_count": 779,
   "outputs": [],
   "source": [
    "def read_data(path):\n",
    "    files = {}\n",
    "    path = Path(path)\n",
    "    for filename in path.glob('*'):\n",
    "        if filename.suffix == '.csv':\n",
    "            files[filename.stem] = pd.read_csv(filename)\n",
    "        elif filename.suffix == '.dat':\n",
    "            if filename.stem == 'ratings':\n",
    "                columns = ['userId', 'movieId', 'rating', 'timestamp']\n",
    "            else:\n",
    "                columns = ['movieId', 'title', 'genres']\n",
    "            data = pd.read_csv(filename, sep='::', names=columns, engine='python')\n",
    "            files[filename.stem] = data\n",
    "        elif filename.suffix == '.data':  # ml-100k\n",
    "            if filename.stem == 'u':\n",
    "                columns = ['userId', 'movieId', 'rating', 'timestamp']\n",
    "                data = pd.read_csv(filename, sep='\\t', names=columns, engine='python')\n",
    "                files['ratings'] = data\n",
    "        elif filename.suffix == '.item':  # ml-100k\n",
    "            if filename.stem == 'u':\n",
    "                columns = ['movieId', 'title', 'genres']\n",
    "                data = pd.read_csv(filename, sep='|', names=columns, engine='python')\n",
    "                files['movies'] = data\n",
    "    return files['ratings'], files['movies']"
   ],
   "metadata": {
    "collapsed": false,
    "pycharm": {
     "name": "#%%\n"
    }
   }
  },
  {
   "cell_type": "code",
   "execution_count": 780,
   "outputs": [],
   "source": [
    "dataset = 'ml-100k'\n",
    "\n",
    "# pick one of the available folders\n",
    "ratings, movies = read_data('/home/weiss/rs_data/'+dataset)"
   ],
   "metadata": {
    "collapsed": false,
    "pycharm": {
     "name": "#%%\n"
    }
   }
  },
  {
   "cell_type": "code",
   "execution_count": 781,
   "outputs": [
    {
     "data": {
      "text/plain": "   userId  movieId  rating  timestamp\n0     196      242       3  881250949\n1     186      302       3  891717742\n2      22      377       1  878887116\n3     244       51       2  880606923\n4     166      346       1  886397596",
      "text/html": "<div>\n<style scoped>\n    .dataframe tbody tr th:only-of-type {\n        vertical-align: middle;\n    }\n\n    .dataframe tbody tr th {\n        vertical-align: top;\n    }\n\n    .dataframe thead th {\n        text-align: right;\n    }\n</style>\n<table border=\"1\" class=\"dataframe\">\n  <thead>\n    <tr style=\"text-align: right;\">\n      <th></th>\n      <th>userId</th>\n      <th>movieId</th>\n      <th>rating</th>\n      <th>timestamp</th>\n    </tr>\n  </thead>\n  <tbody>\n    <tr>\n      <th>0</th>\n      <td>196</td>\n      <td>242</td>\n      <td>3</td>\n      <td>881250949</td>\n    </tr>\n    <tr>\n      <th>1</th>\n      <td>186</td>\n      <td>302</td>\n      <td>3</td>\n      <td>891717742</td>\n    </tr>\n    <tr>\n      <th>2</th>\n      <td>22</td>\n      <td>377</td>\n      <td>1</td>\n      <td>878887116</td>\n    </tr>\n    <tr>\n      <th>3</th>\n      <td>244</td>\n      <td>51</td>\n      <td>2</td>\n      <td>880606923</td>\n    </tr>\n    <tr>\n      <th>4</th>\n      <td>166</td>\n      <td>346</td>\n      <td>1</td>\n      <td>886397596</td>\n    </tr>\n  </tbody>\n</table>\n</div>"
     },
     "execution_count": 781,
     "metadata": {},
     "output_type": "execute_result"
    }
   ],
   "source": [
    "ratings.head()"
   ],
   "metadata": {
    "collapsed": false,
    "pycharm": {
     "name": "#%%\n"
    }
   }
  },
  {
   "cell_type": "code",
   "execution_count": 782,
   "outputs": [
    {
     "data": {
      "text/plain": "                                                                                                                        movieId  \\\n1 Toy Story (1995)  01-Jan-1995 NaN http://us.imdb.com/M/title-exact?Toy%20Story%20... 0 0 0 1 1 1 0 0 0 0 0 0 0 0 0 0        0   \n2 GoldenEye (1995)  01-Jan-1995 NaN http://us.imdb.com/M/title-exact?GoldenEye%20(1... 0 1 1 0 0 0 0 0 0 0 0 0 0 0 0 0        1   \n3 Four Rooms (1995) 01-Jan-1995 NaN http://us.imdb.com/M/title-exact?Four%20Rooms%2... 0 0 0 0 0 0 0 0 0 0 0 0 0 0 0 0        1   \n4 Get Shorty (1995) 01-Jan-1995 NaN http://us.imdb.com/M/title-exact?Get%20Shorty%2... 0 1 0 0 0 1 0 0 1 0 0 0 0 0 0 0        0   \n5 Copycat (1995)    01-Jan-1995 NaN http://us.imdb.com/M/title-exact?Copycat%20(1995)  0 0 0 0 0 0 1 0 1 0 0 0 0 0 0 0        1   \n\n                                                                                                                        title  \\\n1 Toy Story (1995)  01-Jan-1995 NaN http://us.imdb.com/M/title-exact?Toy%20Story%20... 0 0 0 1 1 1 0 0 0 0 0 0 0 0 0 0      0   \n2 GoldenEye (1995)  01-Jan-1995 NaN http://us.imdb.com/M/title-exact?GoldenEye%20(1... 0 1 1 0 0 0 0 0 0 0 0 0 0 0 0 0      0   \n3 Four Rooms (1995) 01-Jan-1995 NaN http://us.imdb.com/M/title-exact?Four%20Rooms%2... 0 0 0 0 0 0 0 0 0 0 0 0 0 0 0 0      0   \n4 Get Shorty (1995) 01-Jan-1995 NaN http://us.imdb.com/M/title-exact?Get%20Shorty%2... 0 1 0 0 0 1 0 0 1 0 0 0 0 0 0 0      0   \n5 Copycat (1995)    01-Jan-1995 NaN http://us.imdb.com/M/title-exact?Copycat%20(1995)  0 0 0 0 0 0 1 0 1 0 0 0 0 0 0 0      0   \n\n                                                                                                                        genres  \n1 Toy Story (1995)  01-Jan-1995 NaN http://us.imdb.com/M/title-exact?Toy%20Story%20... 0 0 0 1 1 1 0 0 0 0 0 0 0 0 0 0       0  \n2 GoldenEye (1995)  01-Jan-1995 NaN http://us.imdb.com/M/title-exact?GoldenEye%20(1... 0 1 1 0 0 0 0 0 0 0 0 0 0 0 0 0       0  \n3 Four Rooms (1995) 01-Jan-1995 NaN http://us.imdb.com/M/title-exact?Four%20Rooms%2... 0 0 0 0 0 0 0 0 0 0 0 0 0 0 0 0       0  \n4 Get Shorty (1995) 01-Jan-1995 NaN http://us.imdb.com/M/title-exact?Get%20Shorty%2... 0 1 0 0 0 1 0 0 1 0 0 0 0 0 0 0       0  \n5 Copycat (1995)    01-Jan-1995 NaN http://us.imdb.com/M/title-exact?Copycat%20(1995)  0 0 0 0 0 0 1 0 1 0 0 0 0 0 0 0       0  ",
      "text/html": "<div>\n<style scoped>\n    .dataframe tbody tr th:only-of-type {\n        vertical-align: middle;\n    }\n\n    .dataframe tbody tr th {\n        vertical-align: top;\n    }\n\n    .dataframe thead th {\n        text-align: right;\n    }\n</style>\n<table border=\"1\" class=\"dataframe\">\n  <thead>\n    <tr style=\"text-align: right;\">\n      <th></th>\n      <th></th>\n      <th></th>\n      <th></th>\n      <th></th>\n      <th></th>\n      <th></th>\n      <th></th>\n      <th></th>\n      <th></th>\n      <th></th>\n      <th></th>\n      <th></th>\n      <th></th>\n      <th></th>\n      <th></th>\n      <th></th>\n      <th></th>\n      <th></th>\n      <th></th>\n      <th></th>\n      <th>movieId</th>\n      <th>title</th>\n      <th>genres</th>\n    </tr>\n  </thead>\n  <tbody>\n    <tr>\n      <th>1</th>\n      <th>Toy Story (1995)</th>\n      <th>01-Jan-1995</th>\n      <th>NaN</th>\n      <th>http://us.imdb.com/M/title-exact?Toy%20Story%20(1995)</th>\n      <th>0</th>\n      <th>0</th>\n      <th>0</th>\n      <th>1</th>\n      <th>1</th>\n      <th>1</th>\n      <th>0</th>\n      <th>0</th>\n      <th>0</th>\n      <th>0</th>\n      <th>0</th>\n      <th>0</th>\n      <th>0</th>\n      <th>0</th>\n      <th>0</th>\n      <th>0</th>\n      <td>0</td>\n      <td>0</td>\n      <td>0</td>\n    </tr>\n    <tr>\n      <th>2</th>\n      <th>GoldenEye (1995)</th>\n      <th>01-Jan-1995</th>\n      <th>NaN</th>\n      <th>http://us.imdb.com/M/title-exact?GoldenEye%20(1995)</th>\n      <th>0</th>\n      <th>1</th>\n      <th>1</th>\n      <th>0</th>\n      <th>0</th>\n      <th>0</th>\n      <th>0</th>\n      <th>0</th>\n      <th>0</th>\n      <th>0</th>\n      <th>0</th>\n      <th>0</th>\n      <th>0</th>\n      <th>0</th>\n      <th>0</th>\n      <th>0</th>\n      <td>1</td>\n      <td>0</td>\n      <td>0</td>\n    </tr>\n    <tr>\n      <th>3</th>\n      <th>Four Rooms (1995)</th>\n      <th>01-Jan-1995</th>\n      <th>NaN</th>\n      <th>http://us.imdb.com/M/title-exact?Four%20Rooms%20(1995)</th>\n      <th>0</th>\n      <th>0</th>\n      <th>0</th>\n      <th>0</th>\n      <th>0</th>\n      <th>0</th>\n      <th>0</th>\n      <th>0</th>\n      <th>0</th>\n      <th>0</th>\n      <th>0</th>\n      <th>0</th>\n      <th>0</th>\n      <th>0</th>\n      <th>0</th>\n      <th>0</th>\n      <td>1</td>\n      <td>0</td>\n      <td>0</td>\n    </tr>\n    <tr>\n      <th>4</th>\n      <th>Get Shorty (1995)</th>\n      <th>01-Jan-1995</th>\n      <th>NaN</th>\n      <th>http://us.imdb.com/M/title-exact?Get%20Shorty%20(1995)</th>\n      <th>0</th>\n      <th>1</th>\n      <th>0</th>\n      <th>0</th>\n      <th>0</th>\n      <th>1</th>\n      <th>0</th>\n      <th>0</th>\n      <th>1</th>\n      <th>0</th>\n      <th>0</th>\n      <th>0</th>\n      <th>0</th>\n      <th>0</th>\n      <th>0</th>\n      <th>0</th>\n      <td>0</td>\n      <td>0</td>\n      <td>0</td>\n    </tr>\n    <tr>\n      <th>5</th>\n      <th>Copycat (1995)</th>\n      <th>01-Jan-1995</th>\n      <th>NaN</th>\n      <th>http://us.imdb.com/M/title-exact?Copycat%20(1995)</th>\n      <th>0</th>\n      <th>0</th>\n      <th>0</th>\n      <th>0</th>\n      <th>0</th>\n      <th>0</th>\n      <th>1</th>\n      <th>0</th>\n      <th>1</th>\n      <th>0</th>\n      <th>0</th>\n      <th>0</th>\n      <th>0</th>\n      <th>0</th>\n      <th>0</th>\n      <th>0</th>\n      <td>1</td>\n      <td>0</td>\n      <td>0</td>\n    </tr>\n  </tbody>\n</table>\n</div>"
     },
     "execution_count": 782,
     "metadata": {},
     "output_type": "execute_result"
    }
   ],
   "source": [
    "movies.head()"
   ],
   "metadata": {
    "collapsed": false,
    "pycharm": {
     "name": "#%%\n"
    }
   }
  },
  {
   "cell_type": "code",
   "execution_count": 783,
   "outputs": [
    {
     "name": "stdout",
     "output_type": "stream",
     "text": [
      "Embeddings: 943 users, 1682 movies\n",
      "Dataset shape: (100000, 2)\n",
      "Target shape: (100000,)\n"
     ]
    }
   ],
   "source": [
    "def create_dataset(ratings, top=None):\n",
    "    if top is not None:\n",
    "        ratings.groupby('userId')['rating'].count()\n",
    "\n",
    "    unique_users = ratings.userId.unique()\n",
    "    user_to_index = {old: new for new, old in enumerate(unique_users)}\n",
    "    new_users = ratings.userId.map(user_to_index)\n",
    "\n",
    "    unique_movies = ratings.movieId.unique()\n",
    "    movie_to_index = {old: new for new, old in enumerate(unique_movies)}\n",
    "    new_movies = ratings.movieId.map(movie_to_index)\n",
    "\n",
    "    n_users = unique_users.shape[0]\n",
    "    n_movies = unique_movies.shape[0]\n",
    "\n",
    "    X = pd.DataFrame({'user_id': new_users, 'movie_id': new_movies})\n",
    "    y = ratings['rating'].astype(np.float32)\n",
    "    return (n_users, n_movies), (X, y), (user_to_index, movie_to_index)\n",
    "\n",
    "(n, m), (X, y), _ = create_dataset(ratings)\n",
    "print(f'Embeddings: {n} users, {m} movies')\n",
    "print(f'Dataset shape: {X.shape}')\n",
    "print(f'Target shape: {y.shape}')"
   ],
   "metadata": {
    "collapsed": false,
    "pycharm": {
     "name": "#%%\n"
    }
   }
  },
  {
   "cell_type": "code",
   "execution_count": 784,
   "outputs": [],
   "source": [
    "X_train, X_valid, y_train, y_valid = train_test_split(X, y, test_size=0.4, random_state=RANDOM_STATE)\n",
    "X_valid, X_test, y_valid, y_test = train_test_split(X_valid, y_valid, test_size=0.5, random_state=RANDOM_STATE)\n",
    "datasets = {'train': (X_train, y_train), 'val': (X_valid, y_valid), 'test': (X_test, y_test)}\n",
    "dataset_sizes = {'train': len(X_train), 'val': len(X_valid), 'test': len(X_test)}\n"
   ],
   "metadata": {
    "collapsed": false,
    "pycharm": {
     "name": "#%%\n"
    }
   }
  },
  {
   "cell_type": "code",
   "execution_count": 785,
   "outputs": [],
   "source": [
    "class RatingsIterator:\n",
    "\n",
    "    def __init__(self, X, y, batch_size=32, shuffle=True):\n",
    "        X, y = np.asarray(X), np.asarray(y)\n",
    "        if shuffle:\n",
    "            index = np.random.permutation(X.shape[0])\n",
    "            X, y = X[index], y[index]\n",
    "        self.X = X\n",
    "        self.y = y\n",
    "        self.batch_size = batch_size\n",
    "        self.shuffle = shuffle\n",
    "        self.n_batches = int(math.ceil(X.shape[0] // batch_size))\n",
    "        self._current = 0\n",
    "\n",
    "    def __iter__(self):\n",
    "        return self\n",
    "\n",
    "    def __next__(self):\n",
    "        return self.next()\n",
    "\n",
    "    def next(self):\n",
    "        if self._current >= self.n_batches:\n",
    "            raise StopIteration()\n",
    "        k = self._current\n",
    "        self._current += 1\n",
    "        bs = self.batch_size\n",
    "        return self.X[k*bs:(k + 1)*bs], self.y[k*bs:(k + 1)*bs]"
   ],
   "metadata": {
    "collapsed": false,
    "pycharm": {
     "name": "#%%\n"
    }
   }
  },
  {
   "cell_type": "code",
   "execution_count": 786,
   "outputs": [],
   "source": [
    "def batches(X, y, bs=32, shuffle=True):\n",
    "    for xb, yb in RatingsIterator(X, y, bs, shuffle):\n",
    "        xb = torch.LongTensor(xb)\n",
    "        yb = torch.FloatTensor(yb)\n",
    "        yield xb, yb.view(-1, 1)"
   ],
   "metadata": {
    "collapsed": false,
    "pycharm": {
     "name": "#%%\n"
    }
   }
  },
  {
   "cell_type": "code",
   "execution_count": 787,
   "outputs": [],
   "source": [
    "class RecommenderNet(nn.Module):\n",
    "    \"\"\"\n",
    "    Creates dense MLN with embedding layers.\n",
    "\n",
    "    Args:\n",
    "        n_users:\n",
    "            Number of unique users in the dataset.\n",
    "\n",
    "        n_movies:\n",
    "            Number of unique movies in the dataset.\n",
    "\n",
    "        n_factors:\n",
    "            Number of columns in the embeddings matrix.\n",
    "\n",
    "        embedding_dropout:\n",
    "            Dropout rate to apply right after embeddings layer.\n",
    "\n",
    "        hidden:\n",
    "            A single integer or a list of integers defining the number of\n",
    "            units in hidden layer(s).\n",
    "\n",
    "        dropouts:\n",
    "            A single integer or a list of integers defining the dropout\n",
    "            layers rates applied right after each of hidden layers.\n",
    "\n",
    "    \"\"\"\n",
    "    def __init__(self, n_users, n_movies,\n",
    "                 n_factors=50, embedding_dropout=0.02,\n",
    "                 hidden=10, dropouts=0.2):\n",
    "\n",
    "        super().__init__()\n",
    "        hidden = get_list(hidden)\n",
    "        dropouts = get_list(dropouts)\n",
    "        n_last = hidden[-1]\n",
    "\n",
    "        def gen_layers(n_in):\n",
    "            \"\"\"\n",
    "            A generator that yields a sequence of hidden layers and\n",
    "            their activations/dropouts.\n",
    "\n",
    "            Note that the function captures `hidden` and `dropouts`\n",
    "            values from the outer scope.\n",
    "            \"\"\"\n",
    "            nonlocal hidden, dropouts\n",
    "            assert len(dropouts) <= len(hidden)\n",
    "\n",
    "            for n_out, rate in zip_longest(hidden, dropouts):\n",
    "                yield nn.Linear(n_in, n_out)\n",
    "                yield nn.ReLU()\n",
    "                if rate is not None and rate > 0.:\n",
    "                    yield nn.Dropout(rate)\n",
    "                n_in = n_out\n",
    "\n",
    "        self.u = nn.Embedding(n_users, n_factors)\n",
    "        self.m = nn.Embedding(n_movies, n_factors)\n",
    "        self.drop = nn.Dropout(embedding_dropout)\n",
    "        self.hidden = nn.Sequential(*list(gen_layers(n_factors * 2)))\n",
    "        self.fc = nn.Linear(n_last, 1)\n",
    "        self.relu = nn.ReLU()\n",
    "        self._init()\n",
    "\n",
    "    def forward(self, users, movies, minmax=None):\n",
    "        features = torch.cat([self.u(users), self.m(movies)], dim=1)\n",
    "        x = self.drop(features)\n",
    "        x = self.hidden(x)\n",
    "        out = torch.sigmoid(self.fc(x))\n",
    "        #out = self.relu(self.fc(x))  # relu delivers worse rsme\n",
    "        if minmax is not None:\n",
    "            min_rating, max_rating = minmax\n",
    "            out = out*(max_rating - min_rating + 1) + min_rating - 0.5\n",
    "        return out\n",
    "\n",
    "    def _init(self):\n",
    "        \"\"\"\n",
    "        Setup embeddings and hidden layers with reasonable initial values.\n",
    "        \"\"\"\n",
    "\n",
    "        def init(m):\n",
    "            if type(m) == nn.Linear:\n",
    "                torch.nn.init.xavier_uniform_(m.weight)\n",
    "                m.bias.data.fill_(0.01)\n",
    "\n",
    "        self.u.weight.data.uniform_(-0.05, 0.05)\n",
    "        self.m.weight.data.uniform_(-0.05, 0.05)\n",
    "        self.hidden.apply(init)\n",
    "        init(self.fc)\n",
    "\n",
    "\n",
    "def get_list(n):\n",
    "    if isinstance(n, (int, float)):\n",
    "        return [n]\n",
    "    elif hasattr(n, '__iter__'):\n",
    "        return list(n)\n",
    "    raise TypeError('layers configuraiton should be a single number or a list of numbers')"
   ],
   "metadata": {
    "collapsed": false,
    "pycharm": {
     "name": "#%%\n"
    }
   }
  },
  {
   "cell_type": "code",
   "execution_count": 790,
   "outputs": [],
   "source": [
    "def plot_lr(schedule):\n",
    "    ts = list(range(1000))\n",
    "    y = [schedule(t, 0.001) for t in ts]\n",
    "    plt.plot(ts, y)\n"
   ],
   "metadata": {
    "collapsed": false,
    "pycharm": {
     "name": "#%%\n"
    }
   }
  },
  {
   "cell_type": "code",
   "execution_count": 791,
   "outputs": [
    {
     "data": {
      "text/plain": "(1.0, 5.0)"
     },
     "execution_count": 791,
     "metadata": {},
     "output_type": "execute_result"
    }
   ],
   "source": [
    "minmax = float(ratings.rating.min()), float(ratings.rating.max())\n",
    "minmax"
   ],
   "metadata": {
    "collapsed": false,
    "pycharm": {
     "name": "#%%\n"
    }
   }
  },
  {
   "cell_type": "code",
   "execution_count": 792,
   "outputs": [],
   "source": [
    "# small net\n",
    "\n",
    "start = time.time()\n",
    "net = RecommenderNet(\n",
    "    n_users=n, n_movies=m,\n",
    "    n_factors=10, hidden=[10],\n",
    "    embedding_dropout=0.05, dropouts=[0.3])"
   ],
   "metadata": {
    "collapsed": false,
    "pycharm": {
     "name": "#%%\n"
    }
   }
  },
  {
   "cell_type": "code",
   "execution_count": 793,
   "outputs": [],
   "source": [
    "lr = 1e-3\n",
    "wd = 1e-5\n",
    "bs = 4096\n",
    "n_epochs = 300\n",
    "patience = 300\n",
    "no_improvements = 0\n",
    "best_loss = np.inf\n",
    "best_weights = None\n",
    "history = []\n",
    "lr_history = []\n",
    "\n",
    "device = torch.device('cuda:0' if torch.cuda.is_available() else 'cpu')\n",
    "\n",
    "net.to(device)\n",
    "criterion = nn.MSELoss(reduction='sum')\n",
    "optimizer = optim.Adam(net.parameters(), lr=lr, weight_decay=wd)"
   ],
   "metadata": {
    "collapsed": false,
    "pycharm": {
     "name": "#%%\n"
    }
   }
  },
  {
   "cell_type": "code",
   "execution_count": 794,
   "outputs": [
    {
     "name": "stdout",
     "output_type": "stream",
     "text": [
      "loss improvement on epoch: 1\n",
      "[001/300] train: 1.4751 - val: 1.2103\n",
      "loss improvement on epoch: 2\n",
      "[002/300] train: 1.3707 - val: 1.1426\n",
      "loss improvement on epoch: 3\n",
      "[003/300] train: 1.2983 - val: 1.0820\n",
      "loss improvement on epoch: 4\n",
      "[004/300] train: 1.2287 - val: 1.0252\n",
      "loss improvement on epoch: 5\n",
      "[005/300] train: 1.1617 - val: 0.9782\n",
      "loss improvement on epoch: 6\n",
      "[006/300] train: 1.1034 - val: 0.9300\n",
      "loss improvement on epoch: 7\n",
      "[007/300] train: 1.0471 - val: 0.8963\n",
      "loss improvement on epoch: 8\n",
      "[008/300] train: 1.0011 - val: 0.8660\n",
      "loss improvement on epoch: 9\n",
      "[009/300] train: 0.9640 - val: 0.8394\n",
      "loss improvement on epoch: 10\n",
      "[010/300] train: 0.9363 - val: 0.8245\n",
      "loss improvement on epoch: 11\n",
      "[011/300] train: 0.9149 - val: 0.8158\n",
      "loss improvement on epoch: 12\n",
      "[012/300] train: 0.9000 - val: 0.8067\n",
      "loss improvement on epoch: 13\n",
      "[013/300] train: 0.8951 - val: 0.8042\n",
      "loss improvement on epoch: 14\n",
      "[014/300] train: 0.8845 - val: 0.7940\n",
      "loss improvement on epoch: 15\n",
      "[015/300] train: 0.8752 - val: 0.7924\n",
      "[016/300] train: 0.8707 - val: 0.7959\n",
      "[017/300] train: 0.8662 - val: 0.7956\n",
      "loss improvement on epoch: 18\n",
      "[018/300] train: 0.8596 - val: 0.7914\n",
      "loss improvement on epoch: 19\n",
      "[019/300] train: 0.8549 - val: 0.7827\n",
      "[020/300] train: 0.8513 - val: 0.7847\n",
      "loss improvement on epoch: 21\n",
      "[021/300] train: 0.8499 - val: 0.7826\n",
      "[022/300] train: 0.8458 - val: 0.7830\n",
      "loss improvement on epoch: 23\n",
      "[023/300] train: 0.8384 - val: 0.7788\n",
      "loss improvement on epoch: 24\n",
      "[024/300] train: 0.8369 - val: 0.7775\n",
      "[025/300] train: 0.8398 - val: 0.7780\n",
      "loss improvement on epoch: 26\n",
      "[026/300] train: 0.8346 - val: 0.7759\n",
      "[027/300] train: 0.8325 - val: 0.7776\n",
      "[028/300] train: 0.8282 - val: 0.7768\n",
      "[029/300] train: 0.8244 - val: 0.7780\n",
      "[030/300] train: 0.8235 - val: 0.7784\n",
      "loss improvement on epoch: 31\n",
      "[031/300] train: 0.8255 - val: 0.7727\n",
      "[032/300] train: 0.8187 - val: 0.7783\n",
      "[033/300] train: 0.8196 - val: 0.7731\n",
      "[034/300] train: 0.8150 - val: 0.7761\n",
      "loss improvement on epoch: 35\n",
      "[035/300] train: 0.8147 - val: 0.7703\n",
      "[036/300] train: 0.8144 - val: 0.7715\n",
      "[037/300] train: 0.8136 - val: 0.7712\n",
      "[038/300] train: 0.8118 - val: 0.7798\n",
      "loss improvement on epoch: 39\n",
      "[039/300] train: 0.8138 - val: 0.7649\n",
      "[040/300] train: 0.8073 - val: 0.7700\n",
      "[041/300] train: 0.8080 - val: 0.7739\n",
      "[042/300] train: 0.8027 - val: 0.7766\n",
      "[043/300] train: 0.8014 - val: 0.7773\n",
      "[044/300] train: 0.8013 - val: 0.7711\n",
      "[045/300] train: 0.7992 - val: 0.7736\n",
      "[046/300] train: 0.7994 - val: 0.7705\n",
      "[047/300] train: 0.7986 - val: 0.7736\n",
      "[048/300] train: 0.7956 - val: 0.7738\n",
      "[049/300] train: 0.7949 - val: 0.7711\n",
      "loss improvement on epoch: 50\n",
      "[050/300] train: 0.7940 - val: 0.7638\n",
      "[051/300] train: 0.7932 - val: 0.7669\n",
      "[052/300] train: 0.7902 - val: 0.7714\n",
      "[053/300] train: 0.7864 - val: 0.7697\n",
      "[054/300] train: 0.7918 - val: 0.7673\n",
      "[055/300] train: 0.7904 - val: 0.7709\n",
      "[056/300] train: 0.7876 - val: 0.7666\n",
      "[057/300] train: 0.7817 - val: 0.7724\n",
      "[058/300] train: 0.7834 - val: 0.7656\n",
      "[059/300] train: 0.7834 - val: 0.7685\n",
      "[060/300] train: 0.7789 - val: 0.7722\n",
      "[061/300] train: 0.7779 - val: 0.7665\n",
      "[062/300] train: 0.7775 - val: 0.7699\n",
      "[063/300] train: 0.7786 - val: 0.7658\n",
      "[064/300] train: 0.7738 - val: 0.7709\n",
      "[065/300] train: 0.7801 - val: 0.7659\n",
      "[066/300] train: 0.7754 - val: 0.7674\n",
      "[067/300] train: 0.7793 - val: 0.7645\n",
      "[068/300] train: 0.7724 - val: 0.7744\n",
      "[069/300] train: 0.7730 - val: 0.7648\n",
      "[070/300] train: 0.7684 - val: 0.7742\n",
      "[071/300] train: 0.7704 - val: 0.7737\n",
      "[072/300] train: 0.7652 - val: 0.7647\n",
      "[073/300] train: 0.7712 - val: 0.7672\n",
      "[074/300] train: 0.7695 - val: 0.7732\n",
      "[075/300] train: 0.7648 - val: 0.7664\n",
      "[076/300] train: 0.7645 - val: 0.7736\n",
      "[077/300] train: 0.7630 - val: 0.7665\n",
      "[078/300] train: 0.7628 - val: 0.7762\n",
      "[079/300] train: 0.7639 - val: 0.7705\n",
      "[080/300] train: 0.7635 - val: 0.7703\n",
      "[081/300] train: 0.7614 - val: 0.7709\n",
      "[082/300] train: 0.7625 - val: 0.7724\n",
      "[083/300] train: 0.7623 - val: 0.7660\n",
      "[084/300] train: 0.7573 - val: 0.7754\n",
      "[085/300] train: 0.7572 - val: 0.7764\n",
      "[086/300] train: 0.7566 - val: 0.7768\n",
      "[087/300] train: 0.7548 - val: 0.7687\n",
      "[088/300] train: 0.7566 - val: 0.7723\n",
      "[089/300] train: 0.7552 - val: 0.7726\n",
      "[090/300] train: 0.7564 - val: 0.7723\n",
      "[091/300] train: 0.7530 - val: 0.7683\n",
      "[092/300] train: 0.7552 - val: 0.7745\n",
      "[093/300] train: 0.7511 - val: 0.7754\n",
      "[094/300] train: 0.7532 - val: 0.7728\n",
      "[095/300] train: 0.7523 - val: 0.7713\n",
      "[096/300] train: 0.7515 - val: 0.7726\n",
      "[097/300] train: 0.7472 - val: 0.7697\n",
      "[098/300] train: 0.7524 - val: 0.7723\n",
      "[099/300] train: 0.7508 - val: 0.7784\n",
      "[100/300] train: 0.7513 - val: 0.7719\n",
      "[101/300] train: 0.7488 - val: 0.7709\n",
      "[102/300] train: 0.7445 - val: 0.7741\n",
      "[103/300] train: 0.7482 - val: 0.7749\n",
      "[104/300] train: 0.7452 - val: 0.7770\n",
      "[105/300] train: 0.7468 - val: 0.7833\n",
      "[106/300] train: 0.7438 - val: 0.7743\n",
      "[107/300] train: 0.7502 - val: 0.7765\n",
      "[108/300] train: 0.7436 - val: 0.7711\n",
      "[109/300] train: 0.7435 - val: 0.7768\n",
      "[110/300] train: 0.7458 - val: 0.7725\n",
      "[111/300] train: 0.7437 - val: 0.7748\n",
      "[112/300] train: 0.7416 - val: 0.7752\n",
      "[113/300] train: 0.7464 - val: 0.7701\n",
      "[114/300] train: 0.7451 - val: 0.7743\n",
      "[115/300] train: 0.7441 - val: 0.7729\n",
      "[116/300] train: 0.7434 - val: 0.7782\n",
      "[117/300] train: 0.7430 - val: 0.7711\n",
      "[118/300] train: 0.7438 - val: 0.7778\n",
      "[119/300] train: 0.7405 - val: 0.7797\n",
      "[120/300] train: 0.7396 - val: 0.7703\n",
      "[121/300] train: 0.7403 - val: 0.7754\n",
      "[122/300] train: 0.7414 - val: 0.7738\n",
      "[123/300] train: 0.7413 - val: 0.7753\n",
      "[124/300] train: 0.7387 - val: 0.7723\n",
      "[125/300] train: 0.7383 - val: 0.7798\n",
      "[126/300] train: 0.7339 - val: 0.7792\n",
      "[127/300] train: 0.7355 - val: 0.7749\n",
      "[128/300] train: 0.7375 - val: 0.7726\n",
      "[129/300] train: 0.7383 - val: 0.7749\n",
      "[130/300] train: 0.7350 - val: 0.7754\n",
      "[131/300] train: 0.7349 - val: 0.7767\n",
      "[132/300] train: 0.7358 - val: 0.7785\n",
      "[133/300] train: 0.7365 - val: 0.7764\n",
      "[134/300] train: 0.7386 - val: 0.7761\n",
      "[135/300] train: 0.7342 - val: 0.7803\n",
      "[136/300] train: 0.7350 - val: 0.7781\n",
      "[137/300] train: 0.7335 - val: 0.7809\n",
      "[138/300] train: 0.7355 - val: 0.7774\n",
      "[139/300] train: 0.7354 - val: 0.7799\n",
      "[140/300] train: 0.7330 - val: 0.7842\n",
      "[141/300] train: 0.7347 - val: 0.7784\n",
      "[142/300] train: 0.7336 - val: 0.7755\n",
      "[143/300] train: 0.7316 - val: 0.7760\n",
      "[144/300] train: 0.7330 - val: 0.7747\n",
      "[145/300] train: 0.7326 - val: 0.7797\n",
      "[146/300] train: 0.7311 - val: 0.7767\n",
      "[147/300] train: 0.7306 - val: 0.7793\n",
      "[148/300] train: 0.7291 - val: 0.7784\n",
      "[149/300] train: 0.7314 - val: 0.7734\n",
      "[150/300] train: 0.7311 - val: 0.7785\n",
      "[151/300] train: 0.7267 - val: 0.7796\n",
      "[152/300] train: 0.7298 - val: 0.7747\n",
      "[153/300] train: 0.7307 - val: 0.7752\n",
      "[154/300] train: 0.7298 - val: 0.7779\n",
      "[155/300] train: 0.7255 - val: 0.7797\n",
      "[156/300] train: 0.7279 - val: 0.7787\n",
      "[157/300] train: 0.7306 - val: 0.7790\n",
      "[158/300] train: 0.7259 - val: 0.7810\n",
      "[159/300] train: 0.7290 - val: 0.7785\n",
      "[160/300] train: 0.7308 - val: 0.7831\n",
      "[161/300] train: 0.7299 - val: 0.7784\n",
      "[162/300] train: 0.7283 - val: 0.7778\n",
      "[163/300] train: 0.7269 - val: 0.7817\n",
      "[164/300] train: 0.7255 - val: 0.7788\n",
      "[165/300] train: 0.7274 - val: 0.7778\n",
      "[166/300] train: 0.7264 - val: 0.7790\n",
      "[167/300] train: 0.7251 - val: 0.7792\n",
      "[168/300] train: 0.7253 - val: 0.7794\n",
      "[169/300] train: 0.7239 - val: 0.7768\n",
      "[170/300] train: 0.7267 - val: 0.7791\n",
      "[171/300] train: 0.7282 - val: 0.7821\n",
      "[172/300] train: 0.7210 - val: 0.7796\n",
      "[173/300] train: 0.7232 - val: 0.7794\n",
      "[174/300] train: 0.7235 - val: 0.7798\n",
      "[175/300] train: 0.7267 - val: 0.7778\n",
      "[176/300] train: 0.7227 - val: 0.7847\n",
      "[177/300] train: 0.7232 - val: 0.7810\n",
      "[178/300] train: 0.7235 - val: 0.7791\n",
      "[179/300] train: 0.7227 - val: 0.7778\n",
      "[180/300] train: 0.7228 - val: 0.7826\n",
      "[181/300] train: 0.7207 - val: 0.7831\n",
      "[182/300] train: 0.7209 - val: 0.7869\n",
      "[183/300] train: 0.7245 - val: 0.7830\n",
      "[184/300] train: 0.7165 - val: 0.7843\n",
      "[185/300] train: 0.7207 - val: 0.7820\n",
      "[186/300] train: 0.7216 - val: 0.7828\n",
      "[187/300] train: 0.7188 - val: 0.7858\n",
      "[188/300] train: 0.7226 - val: 0.7786\n",
      "[189/300] train: 0.7209 - val: 0.7821\n",
      "[190/300] train: 0.7194 - val: 0.7797\n",
      "[191/300] train: 0.7195 - val: 0.7870\n",
      "[192/300] train: 0.7191 - val: 0.7866\n",
      "[193/300] train: 0.7199 - val: 0.7847\n",
      "[194/300] train: 0.7208 - val: 0.7886\n",
      "[195/300] train: 0.7214 - val: 0.7776\n",
      "[196/300] train: 0.7172 - val: 0.7892\n",
      "[197/300] train: 0.7184 - val: 0.7853\n",
      "[198/300] train: 0.7195 - val: 0.7901\n",
      "[199/300] train: 0.7182 - val: 0.7889\n",
      "[200/300] train: 0.7166 - val: 0.7795\n",
      "[201/300] train: 0.7200 - val: 0.7901\n",
      "[202/300] train: 0.7154 - val: 0.7859\n",
      "[203/300] train: 0.7171 - val: 0.7862\n",
      "[204/300] train: 0.7168 - val: 0.7844\n",
      "[205/300] train: 0.7172 - val: 0.7832\n",
      "[206/300] train: 0.7184 - val: 0.7888\n",
      "[207/300] train: 0.7195 - val: 0.7807\n",
      "[208/300] train: 0.7210 - val: 0.7829\n",
      "[209/300] train: 0.7175 - val: 0.7843\n",
      "[210/300] train: 0.7166 - val: 0.7880\n",
      "[211/300] train: 0.7131 - val: 0.7815\n",
      "[212/300] train: 0.7140 - val: 0.7882\n",
      "[213/300] train: 0.7178 - val: 0.7813\n",
      "[214/300] train: 0.7148 - val: 0.7883\n",
      "[215/300] train: 0.7176 - val: 0.7858\n",
      "[216/300] train: 0.7183 - val: 0.7877\n",
      "[217/300] train: 0.7205 - val: 0.7804\n",
      "[218/300] train: 0.7155 - val: 0.7848\n",
      "[219/300] train: 0.7164 - val: 0.7802\n",
      "[220/300] train: 0.7168 - val: 0.7848\n",
      "[221/300] train: 0.7143 - val: 0.7888\n",
      "[222/300] train: 0.7129 - val: 0.7876\n",
      "[223/300] train: 0.7168 - val: 0.7876\n",
      "[224/300] train: 0.7136 - val: 0.7846\n",
      "[225/300] train: 0.7148 - val: 0.7880\n",
      "[226/300] train: 0.7127 - val: 0.7822\n",
      "[227/300] train: 0.7164 - val: 0.7866\n",
      "[228/300] train: 0.7183 - val: 0.7858\n",
      "[229/300] train: 0.7164 - val: 0.7890\n",
      "[230/300] train: 0.7151 - val: 0.7843\n",
      "[231/300] train: 0.7121 - val: 0.7867\n",
      "[232/300] train: 0.7159 - val: 0.7867\n",
      "[233/300] train: 0.7135 - val: 0.7882\n",
      "[234/300] train: 0.7120 - val: 0.7888\n",
      "[235/300] train: 0.7113 - val: 0.7908\n",
      "[236/300] train: 0.7138 - val: 0.7828\n",
      "[237/300] train: 0.7144 - val: 0.7909\n",
      "[238/300] train: 0.7136 - val: 0.7812\n",
      "[239/300] train: 0.7110 - val: 0.7897\n",
      "[240/300] train: 0.7135 - val: 0.7776\n",
      "[241/300] train: 0.7113 - val: 0.7844\n",
      "[242/300] train: 0.7138 - val: 0.7793\n",
      "[243/300] train: 0.7130 - val: 0.7794\n",
      "[244/300] train: 0.7137 - val: 0.7753\n",
      "[245/300] train: 0.7158 - val: 0.7844\n",
      "[246/300] train: 0.7135 - val: 0.7877\n",
      "[247/300] train: 0.7140 - val: 0.7861\n",
      "[248/300] train: 0.7126 - val: 0.7849\n",
      "[249/300] train: 0.7151 - val: 0.7903\n",
      "[250/300] train: 0.7134 - val: 0.7812\n",
      "[251/300] train: 0.7099 - val: 0.7838\n",
      "[252/300] train: 0.7125 - val: 0.7867\n",
      "[253/300] train: 0.7140 - val: 0.7801\n",
      "[254/300] train: 0.7133 - val: 0.7820\n",
      "[255/300] train: 0.7121 - val: 0.7803\n",
      "[256/300] train: 0.7129 - val: 0.7901\n",
      "[257/300] train: 0.7123 - val: 0.7860\n",
      "[258/300] train: 0.7087 - val: 0.7844\n",
      "[259/300] train: 0.7116 - val: 0.7804\n",
      "[260/300] train: 0.7123 - val: 0.7810\n",
      "[261/300] train: 0.7098 - val: 0.7836\n",
      "[262/300] train: 0.7135 - val: 0.7903\n",
      "[263/300] train: 0.7122 - val: 0.7818\n",
      "[264/300] train: 0.7144 - val: 0.7814\n",
      "[265/300] train: 0.7104 - val: 0.7830\n",
      "[266/300] train: 0.7113 - val: 0.7835\n",
      "[267/300] train: 0.7134 - val: 0.7824\n",
      "[268/300] train: 0.7086 - val: 0.7887\n",
      "[269/300] train: 0.7139 - val: 0.7894\n",
      "[270/300] train: 0.7111 - val: 0.7867\n",
      "[271/300] train: 0.7128 - val: 0.7892\n",
      "[272/300] train: 0.7121 - val: 0.7841\n",
      "[273/300] train: 0.7089 - val: 0.7890\n",
      "[274/300] train: 0.7087 - val: 0.7833\n",
      "[275/300] train: 0.7075 - val: 0.7873\n",
      "[276/300] train: 0.7107 - val: 0.7840\n",
      "[277/300] train: 0.7090 - val: 0.7840\n",
      "[278/300] train: 0.7073 - val: 0.7872\n",
      "[279/300] train: 0.7098 - val: 0.7764\n",
      "[280/300] train: 0.7092 - val: 0.7883\n",
      "[281/300] train: 0.7085 - val: 0.7839\n",
      "[282/300] train: 0.7116 - val: 0.7900\n",
      "[283/300] train: 0.7109 - val: 0.7893\n",
      "[284/300] train: 0.7023 - val: 0.7775\n",
      "[285/300] train: 0.7124 - val: 0.7853\n",
      "[286/300] train: 0.7116 - val: 0.7859\n",
      "[287/300] train: 0.7090 - val: 0.7899\n",
      "[288/300] train: 0.7065 - val: 0.7864\n",
      "[289/300] train: 0.7092 - val: 0.7905\n",
      "[290/300] train: 0.7086 - val: 0.7914\n",
      "[291/300] train: 0.7115 - val: 0.7823\n",
      "[292/300] train: 0.7056 - val: 0.7865\n",
      "[293/300] train: 0.7095 - val: 0.7836\n",
      "[294/300] train: 0.7057 - val: 0.7830\n",
      "[295/300] train: 0.7098 - val: 0.7906\n",
      "[296/300] train: 0.7117 - val: 0.7887\n",
      "[297/300] train: 0.7121 - val: 0.7901\n",
      "[298/300] train: 0.7072 - val: 0.7847\n",
      "[299/300] train: 0.7078 - val: 0.7881\n",
      "[300/300] train: 0.7046 - val: 0.7831\n"
     ]
    }
   ],
   "source": [
    "for epoch in range(n_epochs):\n",
    "    stats = {'epoch': epoch + 1, 'total': n_epochs}\n",
    "\n",
    "    for phase in ('train', 'val'):\n",
    "        if phase == 'train':\n",
    "          training = True\n",
    "        else:\n",
    "          training = False\n",
    "        running_loss = 0\n",
    "        n_batches = 0\n",
    "        for batch in batches(*datasets[phase], shuffle=training, bs=bs):\n",
    "            x_batch, y_batch = [b.to(device) for b in batch]\n",
    "            optimizer.zero_grad()\n",
    "            # compute gradients only during 'train' phase\n",
    "            with torch.set_grad_enabled(training):\n",
    "                outputs = net(x_batch[:,0], x_batch[:,1], minmax)\n",
    "                loss = criterion(outputs, y_batch)\n",
    "                # don't update weights and rates when in 'val' phase\n",
    "                if training:\n",
    "                    #scheduler.step()\n",
    "                    loss.backward()\n",
    "                    optimizer.step()\n",
    "                    #lr_history.extend(scheduler.get_lr())\n",
    "            running_loss += loss.item()\n",
    "        epoch_loss = running_loss / dataset_sizes[phase]\n",
    "        stats[phase] = epoch_loss\n",
    "        # early stopping: save weights of the best model so far\n",
    "        if phase == 'val':\n",
    "            if epoch_loss < best_loss:\n",
    "                print('loss improvement on epoch: %d' % (epoch + 1))\n",
    "                best_loss = epoch_loss\n",
    "                best_weights = copy.deepcopy(net.state_dict())\n",
    "                no_improvements = 0\n",
    "            else:\n",
    "                no_improvements += 1\n",
    "    history.append(stats)\n",
    "    with open(f'logs/small.txt', 'a') as f:\n",
    "        print('[{epoch:03d}/{total:03d}] train: {train:.4f} - val: {val:.4f}'.format(**stats))\n",
    "        f.write('[{epoch:03d}/{total:03d}] train: {train:.4f} - val: {val:.4f}'.format(**stats))\n",
    "    if no_improvements >= patience:\n",
    "        print('early stopping after epoch {epoch:03d}'.format(**stats))\n",
    "        break"
   ],
   "metadata": {
    "collapsed": false,
    "pycharm": {
     "name": "#%%\n"
    }
   }
  },
  {
   "cell_type": "code",
   "execution_count": 795,
   "outputs": [
    {
     "data": {
      "text/plain": "<All keys matched successfully>"
     },
     "execution_count": 795,
     "metadata": {},
     "output_type": "execute_result"
    }
   ],
   "source": [
    "net.load_state_dict(best_weights)"
   ],
   "metadata": {
    "collapsed": false,
    "pycharm": {
     "name": "#%%\n"
    }
   }
  },
  {
   "cell_type": "code",
   "execution_count": 796,
   "outputs": [],
   "source": [
    "groud_truth, predictions = [], []\n",
    "\n",
    "with torch.no_grad():\n",
    "    for batch in batches(*datasets['val'], shuffle=False, bs=bs):\n",
    "        x_batch, y_batch = [b.to(device) for b in batch]\n",
    "        outputs = net(x_batch[:, 0], x_batch[:, 1], minmax)\n",
    "        groud_truth.extend(y_batch.tolist())\n",
    "        predictions.extend(outputs.tolist())\n",
    "\n",
    "groud_truth = np.asarray(groud_truth).ravel()\n",
    "predictions = np.asarray(predictions).ravel()"
   ],
   "metadata": {
    "collapsed": false,
    "pycharm": {
     "name": "#%%\n"
    }
   }
  },
  {
   "cell_type": "code",
   "execution_count": 797,
   "outputs": [
    {
     "name": "stdout",
     "output_type": "stream",
     "text": [
      "Validation RMSE: 0.9678\n"
     ]
    }
   ],
   "source": [
    "valid_loss = np.sqrt(np.mean((predictions - groud_truth)**2))\n",
    "print(f'Validation RMSE: {valid_loss:.4f}')"
   ],
   "metadata": {
    "collapsed": false,
    "pycharm": {
     "name": "#%%\n"
    }
   }
  },
  {
   "cell_type": "code",
   "execution_count": 798,
   "outputs": [],
   "source": [
    "groud_truth, predictions = [], []\n",
    "\n",
    "with torch.no_grad():\n",
    "    for batch in batches(*datasets['test'], shuffle=False, bs=bs):\n",
    "        x_batch, y_batch = [b.to(device) for b in batch]\n",
    "        outputs = net(x_batch[:, 0], x_batch[:, 1], minmax)\n",
    "        groud_truth.extend(y_batch.tolist())\n",
    "        predictions.extend(outputs.tolist())\n",
    "\n",
    "groud_truth = np.asarray(groud_truth).ravel()\n",
    "predictions = np.asarray(predictions).ravel()"
   ],
   "metadata": {
    "collapsed": false,
    "pycharm": {
     "name": "#%%\n"
    }
   }
  },
  {
   "cell_type": "code",
   "execution_count": 799,
   "outputs": [
    {
     "name": "stdout",
     "output_type": "stream",
     "text": [
      "Test RMSE: 0.9781\n"
     ]
    }
   ],
   "source": [
    "final_loss = np.sqrt(np.mean((predictions - groud_truth)**2))\n",
    "print(f'Test RMSE: {final_loss:.4f}')"
   ],
   "metadata": {
    "collapsed": false,
    "pycharm": {
     "name": "#%%\n"
    }
   }
  },
  {
   "cell_type": "code",
   "execution_count": 800,
   "outputs": [
    {
     "name": "stdout",
     "output_type": "stream",
     "text": [
      "duration: 7.8804\n"
     ]
    }
   ],
   "source": [
    "print(f'duration: {round(time.time() - start, 4)}')"
   ],
   "metadata": {
    "collapsed": false,
    "pycharm": {
     "name": "#%%\n"
    }
   }
  },
  {
   "cell_type": "code",
   "execution_count": 801,
   "outputs": [
    {
     "data": {
      "text/plain": "<Figure size 432x288 with 1 Axes>",
      "image/png": "[encoded data removed]"
     },
     "metadata": {},
     "output_type": "display_data"
    }
   ],
   "source": [
    "plt.rcParams['font.size'] = 26\n",
    "plt.rcParams['axes.labelsize'] = 26\n",
    "plt.rcParams['xtick.labelsize'] = 26\n",
    "plt.rcParams['ytick.labelsize'] = 26\n",
    "plt.rcParams['legend.fontsize'] = 26\n",
    "plt.style.use('seaborn-whitegrid')\n",
    "ax = pd.DataFrame(history).drop(columns='total').plot(x='epoch')\n",
    "plt.ylabel('RMSE')\n",
    "plt.ylim([0.2, 1.3])\n",
    "\n",
    "plt.savefig(figure_path + '/' + dataset +'-small-loss.png', dpi=300, bbox_inches='tight')\n"
   ],
   "metadata": {
    "collapsed": false,
    "pycharm": {
     "name": "#%%\n"
    }
   }
  },
  {
   "cell_type": "code",
   "execution_count": 802,
   "outputs": [],
   "source": [
    "with open('best.weights.small', 'wb') as file:\n",
    "    pickle.dump(best_weights, file)"
   ],
   "metadata": {
    "collapsed": false,
    "pycharm": {
     "name": "#%%\n"
    }
   }
  },
  {
   "cell_type": "code",
   "execution_count": 803,
   "outputs": [],
   "source": [
    "# medium net\n",
    "\n",
    "start = time.time()\n",
    "net = RecommenderNet(\n",
    "    n_users=n, n_movies=m,\n",
    "    n_factors=20, hidden=[10 ,10],\n",
    "    embedding_dropout=0.05, dropouts=[0.3, 0.3])"
   ],
   "metadata": {
    "collapsed": false,
    "pycharm": {
     "name": "#%%\n"
    }
   }
  },
  {
   "cell_type": "code",
   "execution_count": 804,
   "outputs": [],
   "source": [
    "lr = 1e-3\n",
    "wd = 1e-5\n",
    "bs = 4096\n",
    "n_epochs = 300\n",
    "patience = 300\n",
    "no_improvements = 0\n",
    "best_loss = np.inf\n",
    "best_weights = None\n",
    "history = []\n",
    "lr_history = []\n",
    "\n",
    "device = torch.device('cuda:0' if torch.cuda.is_available() else 'cpu')\n",
    "\n",
    "net.to(device)\n",
    "criterion = nn.MSELoss(reduction='sum')\n",
    "optimizer = optim.Adam(net.parameters(), lr=lr, weight_decay=wd)"
   ],
   "metadata": {
    "collapsed": false,
    "pycharm": {
     "name": "#%%\n"
    }
   }
  },
  {
   "cell_type": "code",
   "execution_count": 805,
   "outputs": [
    {
     "name": "stdout",
     "output_type": "stream",
     "text": [
      "loss improvement on epoch: 1\n",
      "[001/300] train: 1.4366 - val: 1.1841\n",
      "loss improvement on epoch: 2\n",
      "[002/300] train: 1.3432 - val: 1.1106\n",
      "loss improvement on epoch: 3\n",
      "[003/300] train: 1.2552 - val: 1.0356\n",
      "loss improvement on epoch: 4\n",
      "[004/300] train: 1.1739 - val: 0.9825\n",
      "loss improvement on epoch: 5\n",
      "[005/300] train: 1.1170 - val: 0.9507\n",
      "loss improvement on epoch: 6\n",
      "[006/300] train: 1.0736 - val: 0.9187\n",
      "loss improvement on epoch: 7\n",
      "[007/300] train: 1.0322 - val: 0.8926\n",
      "loss improvement on epoch: 8\n",
      "[008/300] train: 1.0007 - val: 0.8687\n",
      "loss improvement on epoch: 9\n",
      "[009/300] train: 0.9643 - val: 0.8425\n",
      "loss improvement on epoch: 10\n",
      "[010/300] train: 0.9448 - val: 0.8351\n",
      "loss improvement on epoch: 11\n",
      "[011/300] train: 0.9302 - val: 0.8315\n",
      "loss improvement on epoch: 12\n",
      "[012/300] train: 0.9162 - val: 0.8237\n",
      "loss improvement on epoch: 13\n",
      "[013/300] train: 0.9091 - val: 0.8133\n",
      "[014/300] train: 0.9004 - val: 0.8163\n",
      "[015/300] train: 0.8890 - val: 0.8170\n",
      "loss improvement on epoch: 16\n",
      "[016/300] train: 0.8875 - val: 0.8050\n",
      "[017/300] train: 0.8753 - val: 0.8074\n",
      "loss improvement on epoch: 18\n",
      "[018/300] train: 0.8695 - val: 0.7953\n",
      "[019/300] train: 0.8689 - val: 0.7966\n",
      "loss improvement on epoch: 20\n",
      "[020/300] train: 0.8578 - val: 0.7871\n",
      "[021/300] train: 0.8525 - val: 0.7936\n",
      "[022/300] train: 0.8515 - val: 0.7959\n",
      "[023/300] train: 0.8430 - val: 0.7883\n",
      "[024/300] train: 0.8439 - val: 0.7883\n",
      "[025/300] train: 0.8402 - val: 0.7942\n",
      "[026/300] train: 0.8390 - val: 0.7936\n",
      "[027/300] train: 0.8309 - val: 0.7926\n",
      "[028/300] train: 0.8319 - val: 0.7886\n",
      "loss improvement on epoch: 29\n",
      "[029/300] train: 0.8264 - val: 0.7859\n",
      "[030/300] train: 0.8279 - val: 0.7861\n",
      "loss improvement on epoch: 31\n",
      "[031/300] train: 0.8249 - val: 0.7842\n",
      "[032/300] train: 0.8187 - val: 0.7886\n",
      "[033/300] train: 0.8207 - val: 0.7872\n",
      "[034/300] train: 0.8162 - val: 0.7881\n",
      "loss improvement on epoch: 35\n",
      "[035/300] train: 0.8179 - val: 0.7830\n",
      "[036/300] train: 0.8142 - val: 0.7863\n",
      "loss improvement on epoch: 37\n",
      "[037/300] train: 0.8114 - val: 0.7808\n",
      "[038/300] train: 0.8116 - val: 0.7845\n",
      "[039/300] train: 0.8051 - val: 0.7828\n",
      "[040/300] train: 0.8047 - val: 0.7863\n",
      "[041/300] train: 0.8050 - val: 0.7877\n",
      "[042/300] train: 0.8026 - val: 0.7837\n",
      "[043/300] train: 0.8015 - val: 0.7854\n",
      "[044/300] train: 0.8010 - val: 0.7876\n",
      "[045/300] train: 0.8036 - val: 0.7824\n",
      "[046/300] train: 0.7973 - val: 0.7877\n",
      "[047/300] train: 0.7973 - val: 0.7826\n",
      "[048/300] train: 0.7963 - val: 0.7831\n",
      "[049/300] train: 0.7931 - val: 0.7822\n",
      "[050/300] train: 0.7923 - val: 0.7839\n",
      "[051/300] train: 0.7901 - val: 0.7836\n",
      "[052/300] train: 0.7922 - val: 0.7924\n",
      "[053/300] train: 0.7882 - val: 0.7841\n",
      "[054/300] train: 0.7855 - val: 0.7823\n",
      "[055/300] train: 0.7870 - val: 0.7837\n",
      "[056/300] train: 0.7816 - val: 0.7886\n",
      "[057/300] train: 0.7838 - val: 0.7856\n",
      "[058/300] train: 0.7807 - val: 0.7834\n",
      "[059/300] train: 0.7849 - val: 0.7839\n",
      "[060/300] train: 0.7810 - val: 0.7848\n",
      "[061/300] train: 0.7808 - val: 0.7820\n",
      "[062/300] train: 0.7802 - val: 0.7903\n",
      "[063/300] train: 0.7780 - val: 0.7820\n",
      "[064/300] train: 0.7775 - val: 0.7889\n",
      "[065/300] train: 0.7774 - val: 0.7887\n",
      "[066/300] train: 0.7768 - val: 0.7859\n",
      "[067/300] train: 0.7746 - val: 0.7878\n",
      "[068/300] train: 0.7719 - val: 0.7919\n",
      "[069/300] train: 0.7673 - val: 0.7891\n",
      "[070/300] train: 0.7724 - val: 0.7887\n",
      "[071/300] train: 0.7693 - val: 0.7856\n",
      "[072/300] train: 0.7701 - val: 0.7889\n",
      "[073/300] train: 0.7637 - val: 0.7906\n",
      "[074/300] train: 0.7699 - val: 0.7870\n",
      "[075/300] train: 0.7658 - val: 0.7877\n",
      "[076/300] train: 0.7644 - val: 0.7886\n",
      "[077/300] train: 0.7604 - val: 0.7950\n",
      "[078/300] train: 0.7675 - val: 0.7886\n",
      "[079/300] train: 0.7559 - val: 0.7847\n",
      "[080/300] train: 0.7610 - val: 0.7894\n",
      "[081/300] train: 0.7614 - val: 0.7853\n",
      "[082/300] train: 0.7605 - val: 0.7921\n",
      "[083/300] train: 0.7563 - val: 0.7955\n",
      "[084/300] train: 0.7590 - val: 0.7921\n",
      "[085/300] train: 0.7574 - val: 0.7944\n",
      "[086/300] train: 0.7608 - val: 0.7915\n",
      "[087/300] train: 0.7527 - val: 0.7909\n",
      "[088/300] train: 0.7562 - val: 0.7902\n",
      "[089/300] train: 0.7535 - val: 0.7953\n",
      "[090/300] train: 0.7556 - val: 0.7858\n",
      "[091/300] train: 0.7526 - val: 0.7937\n",
      "[092/300] train: 0.7529 - val: 0.7875\n",
      "[093/300] train: 0.7529 - val: 0.7943\n",
      "[094/300] train: 0.7512 - val: 0.7968\n",
      "[095/300] train: 0.7546 - val: 0.7974\n",
      "[096/300] train: 0.7476 - val: 0.7945\n",
      "[097/300] train: 0.7507 - val: 0.7919\n",
      "[098/300] train: 0.7478 - val: 0.8027\n",
      "[099/300] train: 0.7501 - val: 0.8005\n",
      "[100/300] train: 0.7509 - val: 0.7905\n",
      "[101/300] train: 0.7458 - val: 0.8043\n",
      "[102/300] train: 0.7503 - val: 0.7957\n",
      "[103/300] train: 0.7463 - val: 0.7970\n",
      "[104/300] train: 0.7490 - val: 0.7968\n",
      "[105/300] train: 0.7434 - val: 0.7990\n",
      "[106/300] train: 0.7457 - val: 0.8083\n",
      "[107/300] train: 0.7438 - val: 0.8069\n",
      "[108/300] train: 0.7460 - val: 0.7973\n",
      "[109/300] train: 0.7408 - val: 0.8109\n",
      "[110/300] train: 0.7423 - val: 0.8020\n",
      "[111/300] train: 0.7419 - val: 0.8086\n",
      "[112/300] train: 0.7437 - val: 0.7992\n",
      "[113/300] train: 0.7419 - val: 0.8033\n",
      "[114/300] train: 0.7404 - val: 0.8031\n",
      "[115/300] train: 0.7430 - val: 0.7974\n",
      "[116/300] train: 0.7399 - val: 0.7978\n",
      "[117/300] train: 0.7405 - val: 0.7997\n",
      "[118/300] train: 0.7363 - val: 0.8004\n",
      "[119/300] train: 0.7383 - val: 0.7999\n",
      "[120/300] train: 0.7404 - val: 0.8043\n",
      "[121/300] train: 0.7351 - val: 0.8022\n",
      "[122/300] train: 0.7410 - val: 0.8072\n",
      "[123/300] train: 0.7378 - val: 0.8039\n",
      "[124/300] train: 0.7362 - val: 0.8008\n",
      "[125/300] train: 0.7369 - val: 0.8078\n",
      "[126/300] train: 0.7298 - val: 0.8114\n",
      "[127/300] train: 0.7340 - val: 0.8088\n",
      "[128/300] train: 0.7333 - val: 0.8058\n",
      "[129/300] train: 0.7349 - val: 0.8064\n",
      "[130/300] train: 0.7353 - val: 0.8076\n",
      "[131/300] train: 0.7359 - val: 0.8132\n",
      "[132/300] train: 0.7384 - val: 0.8062\n",
      "[133/300] train: 0.7336 - val: 0.8031\n",
      "[134/300] train: 0.7328 - val: 0.8003\n",
      "[135/300] train: 0.7300 - val: 0.8072\n",
      "[136/300] train: 0.7333 - val: 0.8072\n",
      "[137/300] train: 0.7323 - val: 0.8087\n",
      "[138/300] train: 0.7345 - val: 0.8058\n",
      "[139/300] train: 0.7317 - val: 0.8072\n",
      "[140/300] train: 0.7272 - val: 0.8056\n",
      "[141/300] train: 0.7325 - val: 0.8028\n",
      "[142/300] train: 0.7275 - val: 0.8127\n",
      "[143/300] train: 0.7278 - val: 0.8132\n",
      "[144/300] train: 0.7343 - val: 0.8084\n",
      "[145/300] train: 0.7245 - val: 0.8121\n",
      "[146/300] train: 0.7254 - val: 0.8134\n",
      "[147/300] train: 0.7266 - val: 0.8075\n",
      "[148/300] train: 0.7305 - val: 0.8075\n",
      "[149/300] train: 0.7299 - val: 0.8109\n",
      "[150/300] train: 0.7284 - val: 0.8133\n",
      "[151/300] train: 0.7285 - val: 0.8079\n",
      "[152/300] train: 0.7248 - val: 0.8136\n",
      "[153/300] train: 0.7248 - val: 0.8117\n",
      "[154/300] train: 0.7270 - val: 0.8171\n",
      "[155/300] train: 0.7238 - val: 0.8185\n",
      "[156/300] train: 0.7276 - val: 0.8095\n",
      "[157/300] train: 0.7247 - val: 0.8132\n",
      "[158/300] train: 0.7251 - val: 0.8077\n",
      "[159/300] train: 0.7244 - val: 0.8189\n",
      "[160/300] train: 0.7255 - val: 0.8082\n",
      "[161/300] train: 0.7281 - val: 0.8145\n",
      "[162/300] train: 0.7215 - val: 0.8150\n",
      "[163/300] train: 0.7227 - val: 0.8171\n",
      "[164/300] train: 0.7224 - val: 0.8173\n",
      "[165/300] train: 0.7279 - val: 0.8111\n",
      "[166/300] train: 0.7239 - val: 0.8151\n",
      "[167/300] train: 0.7232 - val: 0.8204\n",
      "[168/300] train: 0.7249 - val: 0.8178\n",
      "[169/300] train: 0.7246 - val: 0.8208\n",
      "[170/300] train: 0.7214 - val: 0.8161\n",
      "[171/300] train: 0.7202 - val: 0.8098\n",
      "[172/300] train: 0.7247 - val: 0.8093\n",
      "[173/300] train: 0.7233 - val: 0.8170\n",
      "[174/300] train: 0.7226 - val: 0.8198\n",
      "[175/300] train: 0.7232 - val: 0.8197\n",
      "[176/300] train: 0.7190 - val: 0.8190\n",
      "[177/300] train: 0.7222 - val: 0.8123\n",
      "[178/300] train: 0.7222 - val: 0.8205\n",
      "[179/300] train: 0.7205 - val: 0.8182\n",
      "[180/300] train: 0.7187 - val: 0.8202\n",
      "[181/300] train: 0.7196 - val: 0.8127\n",
      "[182/300] train: 0.7231 - val: 0.8208\n",
      "[183/300] train: 0.7203 - val: 0.8295\n",
      "[184/300] train: 0.7153 - val: 0.8203\n",
      "[185/300] train: 0.7206 - val: 0.8182\n",
      "[186/300] train: 0.7175 - val: 0.8267\n",
      "[187/300] train: 0.7197 - val: 0.8167\n",
      "[188/300] train: 0.7185 - val: 0.8232\n",
      "[189/300] train: 0.7173 - val: 0.8165\n",
      "[190/300] train: 0.7207 - val: 0.8198\n",
      "[191/300] train: 0.7203 - val: 0.8158\n",
      "[192/300] train: 0.7184 - val: 0.8163\n",
      "[193/300] train: 0.7167 - val: 0.8200\n",
      "[194/300] train: 0.7179 - val: 0.8215\n",
      "[195/300] train: 0.7183 - val: 0.8196\n",
      "[196/300] train: 0.7200 - val: 0.8151\n",
      "[197/300] train: 0.7194 - val: 0.8240\n",
      "[198/300] train: 0.7184 - val: 0.8196\n",
      "[199/300] train: 0.7153 - val: 0.8235\n",
      "[200/300] train: 0.7168 - val: 0.8232\n",
      "[201/300] train: 0.7159 - val: 0.8291\n",
      "[202/300] train: 0.7125 - val: 0.8296\n",
      "[203/300] train: 0.7163 - val: 0.8249\n",
      "[204/300] train: 0.7191 - val: 0.8128\n",
      "[205/300] train: 0.7180 - val: 0.8217\n",
      "[206/300] train: 0.7149 - val: 0.8252\n",
      "[207/300] train: 0.7153 - val: 0.8096\n",
      "[208/300] train: 0.7150 - val: 0.8255\n",
      "[209/300] train: 0.7170 - val: 0.8144\n",
      "[210/300] train: 0.7127 - val: 0.8202\n",
      "[211/300] train: 0.7148 - val: 0.8263\n",
      "[212/300] train: 0.7106 - val: 0.8206\n",
      "[213/300] train: 0.7111 - val: 0.8209\n",
      "[214/300] train: 0.7128 - val: 0.8299\n",
      "[215/300] train: 0.7110 - val: 0.8252\n",
      "[216/300] train: 0.7156 - val: 0.8290\n",
      "[217/300] train: 0.7158 - val: 0.8266\n",
      "[218/300] train: 0.7109 - val: 0.8191\n",
      "[219/300] train: 0.7110 - val: 0.8268\n",
      "[220/300] train: 0.7144 - val: 0.8187\n",
      "[221/300] train: 0.7168 - val: 0.8193\n",
      "[222/300] train: 0.7113 - val: 0.8190\n",
      "[223/300] train: 0.7119 - val: 0.8200\n",
      "[224/300] train: 0.7104 - val: 0.8229\n",
      "[225/300] train: 0.7167 - val: 0.8261\n",
      "[226/300] train: 0.7124 - val: 0.8258\n",
      "[227/300] train: 0.7115 - val: 0.8308\n",
      "[228/300] train: 0.7107 - val: 0.8294\n",
      "[229/300] train: 0.7113 - val: 0.8271\n",
      "[230/300] train: 0.7091 - val: 0.8368\n",
      "[231/300] train: 0.7112 - val: 0.8166\n",
      "[232/300] train: 0.7109 - val: 0.8267\n",
      "[233/300] train: 0.7109 - val: 0.8291\n",
      "[234/300] train: 0.7112 - val: 0.8287\n",
      "[235/300] train: 0.7129 - val: 0.8259\n",
      "[236/300] train: 0.7107 - val: 0.8216\n",
      "[237/300] train: 0.7127 - val: 0.8173\n",
      "[238/300] train: 0.7060 - val: 0.8230\n",
      "[239/300] train: 0.7066 - val: 0.8273\n",
      "[240/300] train: 0.7074 - val: 0.8304\n",
      "[241/300] train: 0.7125 - val: 0.8321\n",
      "[242/300] train: 0.7116 - val: 0.8243\n",
      "[243/300] train: 0.7103 - val: 0.8259\n",
      "[244/300] train: 0.7138 - val: 0.8219\n",
      "[245/300] train: 0.7130 - val: 0.8312\n",
      "[246/300] train: 0.7063 - val: 0.8278\n",
      "[247/300] train: 0.7087 - val: 0.8280\n",
      "[248/300] train: 0.7057 - val: 0.8265\n",
      "[249/300] train: 0.7073 - val: 0.8206\n",
      "[250/300] train: 0.7110 - val: 0.8186\n",
      "[251/300] train: 0.7113 - val: 0.8181\n",
      "[252/300] train: 0.7117 - val: 0.8330\n",
      "[253/300] train: 0.7052 - val: 0.8268\n",
      "[254/300] train: 0.7087 - val: 0.8295\n",
      "[255/300] train: 0.7102 - val: 0.8241\n",
      "[256/300] train: 0.7111 - val: 0.8266\n",
      "[257/300] train: 0.7060 - val: 0.8319\n",
      "[258/300] train: 0.7096 - val: 0.8252\n",
      "[259/300] train: 0.7068 - val: 0.8186\n",
      "[260/300] train: 0.7033 - val: 0.8306\n",
      "[261/300] train: 0.7026 - val: 0.8246\n",
      "[262/300] train: 0.7096 - val: 0.8316\n",
      "[263/300] train: 0.7058 - val: 0.8240\n",
      "[264/300] train: 0.7086 - val: 0.8290\n",
      "[265/300] train: 0.7071 - val: 0.8230\n",
      "[266/300] train: 0.7058 - val: 0.8220\n",
      "[267/300] train: 0.7036 - val: 0.8336\n",
      "[268/300] train: 0.7102 - val: 0.8277\n",
      "[269/300] train: 0.7071 - val: 0.8237\n",
      "[270/300] train: 0.7074 - val: 0.8241\n",
      "[271/300] train: 0.7062 - val: 0.8280\n",
      "[272/300] train: 0.7087 - val: 0.8318\n",
      "[273/300] train: 0.7119 - val: 0.8300\n",
      "[274/300] train: 0.7068 - val: 0.8277\n",
      "[275/300] train: 0.7057 - val: 0.8362\n",
      "[276/300] train: 0.7080 - val: 0.8253\n",
      "[277/300] train: 0.7050 - val: 0.8278\n",
      "[278/300] train: 0.7025 - val: 0.8254\n",
      "[279/300] train: 0.7067 - val: 0.8267\n",
      "[280/300] train: 0.7077 - val: 0.8309\n",
      "[281/300] train: 0.7075 - val: 0.8308\n",
      "[282/300] train: 0.7073 - val: 0.8287\n",
      "[283/300] train: 0.7055 - val: 0.8322\n",
      "[284/300] train: 0.7067 - val: 0.8349\n",
      "[285/300] train: 0.7085 - val: 0.8284\n",
      "[286/300] train: 0.7094 - val: 0.8335\n",
      "[287/300] train: 0.7078 - val: 0.8367\n",
      "[288/300] train: 0.7036 - val: 0.8286\n",
      "[289/300] train: 0.7030 - val: 0.8271\n",
      "[290/300] train: 0.7052 - val: 0.8263\n",
      "[291/300] train: 0.7059 - val: 0.8216\n",
      "[292/300] train: 0.7070 - val: 0.8325\n",
      "[293/300] train: 0.7060 - val: 0.8325\n",
      "[294/300] train: 0.7051 - val: 0.8290\n",
      "[295/300] train: 0.7061 - val: 0.8311\n",
      "[296/300] train: 0.7074 - val: 0.8250\n",
      "[297/300] train: 0.7070 - val: 0.8299\n",
      "[298/300] train: 0.7036 - val: 0.8342\n",
      "[299/300] train: 0.6990 - val: 0.8303\n",
      "[300/300] train: 0.7009 - val: 0.8231\n"
     ]
    }
   ],
   "source": [
    "for epoch in range(n_epochs):\n",
    "    stats = {'epoch': epoch + 1, 'total': n_epochs}\n",
    "\n",
    "    for phase in ('train', 'val'):\n",
    "        if phase == 'train':\n",
    "          training = True\n",
    "        else:\n",
    "          training = False\n",
    "        running_loss = 0\n",
    "        n_batches = 0\n",
    "        for batch in batches(*datasets[phase], shuffle=training, bs=bs):\n",
    "            x_batch, y_batch = [b.to(device) for b in batch]\n",
    "            optimizer.zero_grad()\n",
    "            # compute gradients only during 'train' phase\n",
    "            with torch.set_grad_enabled(training):\n",
    "                outputs = net(x_batch[:,0], x_batch[:,1], minmax)\n",
    "                loss = criterion(outputs, y_batch)\n",
    "                # don't update weights and rates when in 'val' phase\n",
    "                if training:\n",
    "                    #scheduler.step()\n",
    "                    loss.backward()\n",
    "                    optimizer.step()\n",
    "                    #lr_history.extend(scheduler.get_lr())\n",
    "            running_loss += loss.item()\n",
    "        epoch_loss = running_loss / dataset_sizes[phase]\n",
    "        stats[phase] = epoch_loss\n",
    "        # early stopping: save weights of the best model so far\n",
    "        if phase == 'val':\n",
    "            if epoch_loss < best_loss:\n",
    "                print('loss improvement on epoch: %d' % (epoch + 1))\n",
    "                best_loss = epoch_loss\n",
    "                best_weights = copy.deepcopy(net.state_dict())\n",
    "                no_improvements = 0\n",
    "            else:\n",
    "                no_improvements += 1\n",
    "    history.append(stats)\n",
    "    with open(f'logs/medium.txt', 'a') as f:\n",
    "        print('[{epoch:03d}/{total:03d}] train: {train:.4f} - val: {val:.4f}'.format(**stats))\n",
    "        f.write('[{epoch:03d}/{total:03d}] train: {train:.4f} - val: {val:.4f}'.format(**stats))\n",
    "    if no_improvements >= patience:\n",
    "        print('early stopping after epoch {epoch:03d}'.format(**stats))\n",
    "        break"
   ],
   "metadata": {
    "collapsed": false,
    "pycharm": {
     "name": "#%%\n"
    }
   }
  },
  {
   "cell_type": "code",
   "execution_count": 806,
   "outputs": [
    {
     "data": {
      "text/plain": "<All keys matched successfully>"
     },
     "execution_count": 806,
     "metadata": {},
     "output_type": "execute_result"
    }
   ],
   "source": [
    "net.load_state_dict(best_weights)"
   ],
   "metadata": {
    "collapsed": false,
    "pycharm": {
     "name": "#%%\n"
    }
   }
  },
  {
   "cell_type": "code",
   "execution_count": 807,
   "outputs": [],
   "source": [
    "groud_truth, predictions = [], []\n",
    "\n",
    "with torch.no_grad():\n",
    "    for batch in batches(*datasets['val'], shuffle=False, bs=bs):\n",
    "        x_batch, y_batch = [b.to(device) for b in batch]\n",
    "        outputs = net(x_batch[:, 0], x_batch[:, 1], minmax)\n",
    "        groud_truth.extend(y_batch.tolist())\n",
    "        predictions.extend(outputs.tolist())\n",
    "\n",
    "groud_truth = np.asarray(groud_truth).ravel()\n",
    "predictions = np.asarray(predictions).ravel()"
   ],
   "metadata": {
    "collapsed": false,
    "pycharm": {
     "name": "#%%\n"
    }
   }
  },
  {
   "cell_type": "code",
   "execution_count": 808,
   "outputs": [
    {
     "name": "stdout",
     "output_type": "stream",
     "text": [
      "Validation RMSE: 0.9803\n"
     ]
    }
   ],
   "source": [
    "valid_loss = np.sqrt(np.mean((predictions - groud_truth)**2))\n",
    "print(f'Validation RMSE: {valid_loss:.4f}')"
   ],
   "metadata": {
    "collapsed": false,
    "pycharm": {
     "name": "#%%\n"
    }
   }
  },
  {
   "cell_type": "code",
   "execution_count": 809,
   "outputs": [],
   "source": [
    "groud_truth, predictions = [], []\n",
    "\n",
    "with torch.no_grad():\n",
    "    for batch in batches(*datasets['test'], shuffle=False, bs=bs):\n",
    "        x_batch, y_batch = [b.to(device) for b in batch]\n",
    "        outputs = net(x_batch[:, 0], x_batch[:, 1], minmax)\n",
    "        groud_truth.extend(y_batch.tolist())\n",
    "        predictions.extend(outputs.tolist())\n",
    "\n",
    "groud_truth = np.asarray(groud_truth).ravel()\n",
    "predictions = np.asarray(predictions).ravel()"
   ],
   "metadata": {
    "collapsed": false,
    "pycharm": {
     "name": "#%%\n"
    }
   }
  },
  {
   "cell_type": "code",
   "execution_count": 810,
   "outputs": [
    {
     "name": "stdout",
     "output_type": "stream",
     "text": [
      "Test RMSE: 0.9894\n"
     ]
    }
   ],
   "source": [
    "final_loss = np.sqrt(np.mean((predictions - groud_truth)**2))\n",
    "print(f'Test RMSE: {final_loss:.4f}')"
   ],
   "metadata": {
    "collapsed": false,
    "pycharm": {
     "name": "#%%\n"
    }
   }
  },
  {
   "cell_type": "code",
   "execution_count": 811,
   "outputs": [
    {
     "name": "stdout",
     "output_type": "stream",
     "text": [
      "duration: 9.2539\n"
     ]
    }
   ],
   "source": [
    "print(f'duration: {round(time.time() - start, 4)}')"
   ],
   "metadata": {
    "collapsed": false,
    "pycharm": {
     "name": "#%%\n"
    }
   }
  },
  {
   "cell_type": "code",
   "execution_count": 812,
   "outputs": [],
   "source": [
    "with open('best.weights.medium', 'wb') as file:\n",
    "    pickle.dump(best_weights, file)"
   ],
   "metadata": {
    "collapsed": false,
    "pycharm": {
     "name": "#%%\n"
    }
   }
  },
  {
   "cell_type": "code",
   "execution_count": 813,
   "outputs": [
    {
     "data": {
      "text/plain": "<Figure size 432x288 with 1 Axes>",
      "image/png": "[encoded data removed]"
     },
     "metadata": {},
     "output_type": "display_data"
    }
   ],
   "source": [
    "plt.rcParams['font.size'] = 26\n",
    "plt.rcParams['axes.labelsize'] = 26\n",
    "plt.rcParams['xtick.labelsize'] = 26\n",
    "plt.rcParams['ytick.labelsize'] = 26\n",
    "plt.rcParams['legend.fontsize'] = 26\n",
    "plt.style.use('seaborn-whitegrid')\n",
    "ax = pd.DataFrame(history).drop(columns='total').plot(x='epoch')\n",
    "plt.ylabel('RMSE')\n",
    "plt.ylim([0.2, 1.3])\n",
    "\n",
    "plt.savefig(figure_path + '/' + dataset +'-medium-loss.png', dpi=300, bbox_inches='tight')"
   ],
   "metadata": {
    "collapsed": false,
    "pycharm": {
     "name": "#%%\n"
    }
   }
  },
  {
   "cell_type": "code",
   "execution_count": 814,
   "outputs": [],
   "source": [
    "# large net\n",
    "\n",
    "start = time.time()\n",
    "net = RecommenderNet(\n",
    "    n_users=n, n_movies=m,\n",
    "    n_factors=50, hidden=[100, 100, 100],\n",
    "    embedding_dropout=0.05, dropouts=[0.3, 0.3, 0.3])"
   ],
   "metadata": {
    "collapsed": false,
    "pycharm": {
     "name": "#%%\n"
    }
   }
  },
  {
   "cell_type": "code",
   "execution_count": 815,
   "outputs": [],
   "source": [
    "lr = 1e-3\n",
    "wd = 1e-5\n",
    "bs = 4096\n",
    "n_epochs = 300\n",
    "patience = 300\n",
    "no_improvements = 0\n",
    "best_loss = np.inf\n",
    "best_weights = None\n",
    "history = []\n",
    "lr_history = []\n",
    "\n",
    "device = torch.device('cuda:0' if torch.cuda.is_available() else 'cpu')\n",
    "\n",
    "net.to(device)\n",
    "criterion = nn.MSELoss(reduction='sum')\n",
    "optimizer = optim.Adam(net.parameters(), lr=lr, weight_decay=wd)"
   ],
   "metadata": {
    "collapsed": false,
    "pycharm": {
     "name": "#%%\n"
    }
   }
  },
  {
   "cell_type": "code",
   "execution_count": 816,
   "outputs": [
    {
     "name": "stdout",
     "output_type": "stream",
     "text": [
      "loss improvement on epoch: 1\n",
      "[001/300] train: 1.2442 - val: 1.0223\n",
      "loss improvement on epoch: 2\n",
      "[002/300] train: 1.1244 - val: 0.9061\n",
      "loss improvement on epoch: 3\n",
      "[003/300] train: 0.9872 - val: 0.8208\n",
      "loss improvement on epoch: 4\n",
      "[004/300] train: 0.9078 - val: 0.7912\n",
      "loss improvement on epoch: 5\n",
      "[005/300] train: 0.8622 - val: 0.7699\n",
      "loss improvement on epoch: 6\n",
      "[006/300] train: 0.8344 - val: 0.7552\n",
      "loss improvement on epoch: 7\n",
      "[007/300] train: 0.8155 - val: 0.7520\n",
      "loss improvement on epoch: 8\n",
      "[008/300] train: 0.8030 - val: 0.7375\n",
      "[009/300] train: 0.7883 - val: 0.7383\n",
      "loss improvement on epoch: 10\n",
      "[010/300] train: 0.7774 - val: 0.7364\n",
      "[011/300] train: 0.7708 - val: 0.7394\n",
      "[012/300] train: 0.7599 - val: 0.7423\n",
      "[013/300] train: 0.7509 - val: 0.7434\n",
      "[014/300] train: 0.7392 - val: 0.7534\n",
      "[015/300] train: 0.7292 - val: 0.7509\n",
      "[016/300] train: 0.7194 - val: 0.7564\n",
      "[017/300] train: 0.7047 - val: 0.7593\n",
      "[018/300] train: 0.6929 - val: 0.7684\n",
      "[019/300] train: 0.6763 - val: 0.7768\n",
      "[020/300] train: 0.6644 - val: 0.7887\n",
      "[021/300] train: 0.6466 - val: 0.7982\n",
      "[022/300] train: 0.6278 - val: 0.8049\n",
      "[023/300] train: 0.6165 - val: 0.8007\n",
      "[024/300] train: 0.6028 - val: 0.8159\n",
      "[025/300] train: 0.5897 - val: 0.8230\n",
      "[026/300] train: 0.5743 - val: 0.8244\n",
      "[027/300] train: 0.5664 - val: 0.8330\n",
      "[028/300] train: 0.5517 - val: 0.8392\n",
      "[029/300] train: 0.5446 - val: 0.8436\n",
      "[030/300] train: 0.5330 - val: 0.8430\n",
      "[031/300] train: 0.5238 - val: 0.8461\n",
      "[032/300] train: 0.5180 - val: 0.8511\n",
      "[033/300] train: 0.5059 - val: 0.8513\n",
      "[034/300] train: 0.5023 - val: 0.8624\n",
      "[035/300] train: 0.4942 - val: 0.8506\n",
      "[036/300] train: 0.4852 - val: 0.8662\n",
      "[037/300] train: 0.4832 - val: 0.8767\n",
      "[038/300] train: 0.4766 - val: 0.8621\n",
      "[039/300] train: 0.4698 - val: 0.8722\n",
      "[040/300] train: 0.4661 - val: 0.8732\n",
      "[041/300] train: 0.4610 - val: 0.8802\n",
      "[042/300] train: 0.4528 - val: 0.8819\n",
      "[043/300] train: 0.4495 - val: 0.8769\n",
      "[044/300] train: 0.4434 - val: 0.8765\n",
      "[045/300] train: 0.4432 - val: 0.8814\n",
      "[046/300] train: 0.4385 - val: 0.8913\n",
      "[047/300] train: 0.4344 - val: 0.8872\n",
      "[048/300] train: 0.4316 - val: 0.8823\n",
      "[049/300] train: 0.4308 - val: 0.8839\n",
      "[050/300] train: 0.4252 - val: 0.8825\n",
      "[051/300] train: 0.4216 - val: 0.8896\n",
      "[052/300] train: 0.4176 - val: 0.8899\n",
      "[053/300] train: 0.4147 - val: 0.8843\n",
      "[054/300] train: 0.4157 - val: 0.8806\n",
      "[055/300] train: 0.4111 - val: 0.8825\n",
      "[056/300] train: 0.4078 - val: 0.9078\n",
      "[057/300] train: 0.4081 - val: 0.8952\n",
      "[058/300] train: 0.4046 - val: 0.9048\n",
      "[059/300] train: 0.4024 - val: 0.9002\n",
      "[060/300] train: 0.3989 - val: 0.8860\n",
      "[061/300] train: 0.4016 - val: 0.8874\n",
      "[062/300] train: 0.3950 - val: 0.8913\n",
      "[063/300] train: 0.3923 - val: 0.8890\n",
      "[064/300] train: 0.3898 - val: 0.9107\n",
      "[065/300] train: 0.3906 - val: 0.8971\n",
      "[066/300] train: 0.3842 - val: 0.8995\n",
      "[067/300] train: 0.3859 - val: 0.8937\n",
      "[068/300] train: 0.3850 - val: 0.8820\n",
      "[069/300] train: 0.3860 - val: 0.9053\n",
      "[070/300] train: 0.3786 - val: 0.8990\n",
      "[071/300] train: 0.3812 - val: 0.8882\n",
      "[072/300] train: 0.3772 - val: 0.8867\n",
      "[073/300] train: 0.3786 - val: 0.8926\n",
      "[074/300] train: 0.3762 - val: 0.9104\n",
      "[075/300] train: 0.3767 - val: 0.8921\n",
      "[076/300] train: 0.3709 - val: 0.8953\n",
      "[077/300] train: 0.3692 - val: 0.8942\n",
      "[078/300] train: 0.3674 - val: 0.9034\n",
      "[079/300] train: 0.3691 - val: 0.9030\n",
      "[080/300] train: 0.3650 - val: 0.9037\n",
      "[081/300] train: 0.3652 - val: 0.9049\n",
      "[082/300] train: 0.3625 - val: 0.8911\n",
      "[083/300] train: 0.3621 - val: 0.8935\n",
      "[084/300] train: 0.3627 - val: 0.9029\n",
      "[085/300] train: 0.3625 - val: 0.9009\n",
      "[086/300] train: 0.3590 - val: 0.9078\n",
      "[087/300] train: 0.3565 - val: 0.8934\n",
      "[088/300] train: 0.3582 - val: 0.9100\n",
      "[089/300] train: 0.3543 - val: 0.9033\n",
      "[090/300] train: 0.3540 - val: 0.9063\n",
      "[091/300] train: 0.3553 - val: 0.8975\n",
      "[092/300] train: 0.3532 - val: 0.9072\n",
      "[093/300] train: 0.3532 - val: 0.9061\n",
      "[094/300] train: 0.3543 - val: 0.8998\n",
      "[095/300] train: 0.3507 - val: 0.8948\n",
      "[096/300] train: 0.3486 - val: 0.9094\n",
      "[097/300] train: 0.3464 - val: 0.9105\n",
      "[098/300] train: 0.3491 - val: 0.9014\n",
      "[099/300] train: 0.3471 - val: 0.9149\n",
      "[100/300] train: 0.3474 - val: 0.9107\n",
      "[101/300] train: 0.3423 - val: 0.9150\n",
      "[102/300] train: 0.3448 - val: 0.9004\n",
      "[103/300] train: 0.3434 - val: 0.9069\n",
      "[104/300] train: 0.3440 - val: 0.9076\n",
      "[105/300] train: 0.3437 - val: 0.9023\n",
      "[106/300] train: 0.3420 - val: 0.9139\n",
      "[107/300] train: 0.3397 - val: 0.9131\n",
      "[108/300] train: 0.3385 - val: 0.9040\n",
      "[109/300] train: 0.3413 - val: 0.9042\n",
      "[110/300] train: 0.3371 - val: 0.9140\n",
      "[111/300] train: 0.3397 - val: 0.9182\n",
      "[112/300] train: 0.3404 - val: 0.9157\n",
      "[113/300] train: 0.3367 - val: 0.9138\n",
      "[114/300] train: 0.3359 - val: 0.9127\n",
      "[115/300] train: 0.3319 - val: 0.9169\n",
      "[116/300] train: 0.3325 - val: 0.9135\n",
      "[117/300] train: 0.3332 - val: 0.9164\n",
      "[118/300] train: 0.3367 - val: 0.9176\n",
      "[119/300] train: 0.3308 - val: 0.8998\n",
      "[120/300] train: 0.3310 - val: 0.9004\n",
      "[121/300] train: 0.3321 - val: 0.9037\n",
      "[122/300] train: 0.3293 - val: 0.9191\n",
      "[123/300] train: 0.3288 - val: 0.9115\n",
      "[124/300] train: 0.3300 - val: 0.9247\n",
      "[125/300] train: 0.3293 - val: 0.9019\n",
      "[126/300] train: 0.3313 - val: 0.9077\n",
      "[127/300] train: 0.3272 - val: 0.9126\n",
      "[128/300] train: 0.3271 - val: 0.9023\n",
      "[129/300] train: 0.3284 - val: 0.9036\n",
      "[130/300] train: 0.3243 - val: 0.9096\n",
      "[131/300] train: 0.3282 - val: 0.9093\n",
      "[132/300] train: 0.3255 - val: 0.9237\n",
      "[133/300] train: 0.3254 - val: 0.9095\n",
      "[134/300] train: 0.3227 - val: 0.9078\n",
      "[135/300] train: 0.3217 - val: 0.9023\n",
      "[136/300] train: 0.3253 - val: 0.9327\n",
      "[137/300] train: 0.3238 - val: 0.9067\n",
      "[138/300] train: 0.3196 - val: 0.9061\n",
      "[139/300] train: 0.3181 - val: 0.9190\n",
      "[140/300] train: 0.3191 - val: 0.9120\n",
      "[141/300] train: 0.3201 - val: 0.9249\n",
      "[142/300] train: 0.3211 - val: 0.9164\n",
      "[143/300] train: 0.3159 - val: 0.9149\n",
      "[144/300] train: 0.3216 - val: 0.9087\n",
      "[145/300] train: 0.3178 - val: 0.8998\n",
      "[146/300] train: 0.3184 - val: 0.9199\n",
      "[147/300] train: 0.3195 - val: 0.9076\n",
      "[148/300] train: 0.3173 - val: 0.9197\n",
      "[149/300] train: 0.3146 - val: 0.9100\n",
      "[150/300] train: 0.3143 - val: 0.9086\n",
      "[151/300] train: 0.3158 - val: 0.9117\n",
      "[152/300] train: 0.3162 - val: 0.9143\n",
      "[153/300] train: 0.3132 - val: 0.9161\n",
      "[154/300] train: 0.3132 - val: 0.9094\n",
      "[155/300] train: 0.3131 - val: 0.9118\n",
      "[156/300] train: 0.3147 - val: 0.9197\n",
      "[157/300] train: 0.3162 - val: 0.9044\n",
      "[158/300] train: 0.3108 - val: 0.9120\n",
      "[159/300] train: 0.3120 - val: 0.9164\n",
      "[160/300] train: 0.3129 - val: 0.9200\n",
      "[161/300] train: 0.3113 - val: 0.9252\n",
      "[162/300] train: 0.3125 - val: 0.9121\n",
      "[163/300] train: 0.3117 - val: 0.9076\n",
      "[164/300] train: 0.3124 - val: 0.9165\n",
      "[165/300] train: 0.3081 - val: 0.9306\n",
      "[166/300] train: 0.3107 - val: 0.9265\n",
      "[167/300] train: 0.3107 - val: 0.9151\n",
      "[168/300] train: 0.3110 - val: 0.9237\n",
      "[169/300] train: 0.3076 - val: 0.9195\n",
      "[170/300] train: 0.3069 - val: 0.9198\n",
      "[171/300] train: 0.3056 - val: 0.9138\n",
      "[172/300] train: 0.3057 - val: 0.9203\n",
      "[173/300] train: 0.3039 - val: 0.9156\n",
      "[174/300] train: 0.3041 - val: 0.9118\n",
      "[175/300] train: 0.3036 - val: 0.9206\n",
      "[176/300] train: 0.3054 - val: 0.9216\n",
      "[177/300] train: 0.3050 - val: 0.9123\n",
      "[178/300] train: 0.3048 - val: 0.8999\n",
      "[179/300] train: 0.3029 - val: 0.9071\n",
      "[180/300] train: 0.3069 - val: 0.9172\n",
      "[181/300] train: 0.3037 - val: 0.9252\n",
      "[182/300] train: 0.3019 - val: 0.9131\n",
      "[183/300] train: 0.3038 - val: 0.9347\n",
      "[184/300] train: 0.3056 - val: 0.9132\n",
      "[185/300] train: 0.3014 - val: 0.9173\n",
      "[186/300] train: 0.3034 - val: 0.9065\n",
      "[187/300] train: 0.3026 - val: 0.9259\n",
      "[188/300] train: 0.3028 - val: 0.9233\n",
      "[189/300] train: 0.3010 - val: 0.9082\n",
      "[190/300] train: 0.3021 - val: 0.9080\n",
      "[191/300] train: 0.3029 - val: 0.9129\n",
      "[192/300] train: 0.3027 - val: 0.9081\n",
      "[193/300] train: 0.3001 - val: 0.9163\n",
      "[194/300] train: 0.3018 - val: 0.9076\n",
      "[195/300] train: 0.3002 - val: 0.9180\n",
      "[196/300] train: 0.2999 - val: 0.9174\n",
      "[197/300] train: 0.2967 - val: 0.9236\n",
      "[198/300] train: 0.3021 - val: 0.9168\n",
      "[199/300] train: 0.3002 - val: 0.8972\n",
      "[200/300] train: 0.2972 - val: 0.9182\n",
      "[201/300] train: 0.2997 - val: 0.9136\n",
      "[202/300] train: 0.2988 - val: 0.9235\n",
      "[203/300] train: 0.2982 - val: 0.9144\n",
      "[204/300] train: 0.2986 - val: 0.9089\n",
      "[205/300] train: 0.2959 - val: 0.9203\n",
      "[206/300] train: 0.2945 - val: 0.9204\n",
      "[207/300] train: 0.2955 - val: 0.9226\n",
      "[208/300] train: 0.2968 - val: 0.9154\n",
      "[209/300] train: 0.2946 - val: 0.9263\n",
      "[210/300] train: 0.2948 - val: 0.9061\n",
      "[211/300] train: 0.2969 - val: 0.9215\n",
      "[212/300] train: 0.2973 - val: 0.9096\n",
      "[213/300] train: 0.2967 - val: 0.9125\n",
      "[214/300] train: 0.2934 - val: 0.9232\n",
      "[215/300] train: 0.2944 - val: 0.9157\n",
      "[216/300] train: 0.2934 - val: 0.9285\n",
      "[217/300] train: 0.2956 - val: 0.9240\n",
      "[218/300] train: 0.2966 - val: 0.9067\n",
      "[219/300] train: 0.2946 - val: 0.9138\n",
      "[220/300] train: 0.2947 - val: 0.9264\n",
      "[221/300] train: 0.2975 - val: 0.9156\n",
      "[222/300] train: 0.2930 - val: 0.9166\n",
      "[223/300] train: 0.2899 - val: 0.9165\n",
      "[224/300] train: 0.2903 - val: 0.9202\n",
      "[225/300] train: 0.2932 - val: 0.9189\n",
      "[226/300] train: 0.2907 - val: 0.9208\n",
      "[227/300] train: 0.2929 - val: 0.9131\n",
      "[228/300] train: 0.2920 - val: 0.9153\n",
      "[229/300] train: 0.2956 - val: 0.9139\n",
      "[230/300] train: 0.2890 - val: 0.9121\n",
      "[231/300] train: 0.2910 - val: 0.9348\n",
      "[232/300] train: 0.2907 - val: 0.9119\n",
      "[233/300] train: 0.2935 - val: 0.9137\n",
      "[234/300] train: 0.2913 - val: 0.9108\n",
      "[235/300] train: 0.2882 - val: 0.9109\n",
      "[236/300] train: 0.2873 - val: 0.9142\n",
      "[237/300] train: 0.2906 - val: 0.9132\n",
      "[238/300] train: 0.2913 - val: 0.9137\n",
      "[239/300] train: 0.2917 - val: 0.9175\n",
      "[240/300] train: 0.2887 - val: 0.9126\n",
      "[241/300] train: 0.2900 - val: 0.9203\n",
      "[242/300] train: 0.2917 - val: 0.9181\n",
      "[243/300] train: 0.2896 - val: 0.9113\n",
      "[244/300] train: 0.2902 - val: 0.9189\n",
      "[245/300] train: 0.2875 - val: 0.9177\n",
      "[246/300] train: 0.2863 - val: 0.9244\n",
      "[247/300] train: 0.2860 - val: 0.9156\n",
      "[248/300] train: 0.2873 - val: 0.9186\n",
      "[249/300] train: 0.2867 - val: 0.9151\n",
      "[250/300] train: 0.2861 - val: 0.9110\n",
      "[251/300] train: 0.2855 - val: 0.9208\n",
      "[252/300] train: 0.2881 - val: 0.9137\n",
      "[253/300] train: 0.2866 - val: 0.9102\n",
      "[254/300] train: 0.2863 - val: 0.9257\n",
      "[255/300] train: 0.2839 - val: 0.9116\n",
      "[256/300] train: 0.2842 - val: 0.9100\n",
      "[257/300] train: 0.2854 - val: 0.9170\n",
      "[258/300] train: 0.2872 - val: 0.9255\n",
      "[259/300] train: 0.2858 - val: 0.9294\n",
      "[260/300] train: 0.2873 - val: 0.9208\n",
      "[261/300] train: 0.2853 - val: 0.9225\n",
      "[262/300] train: 0.2867 - val: 0.9145\n",
      "[263/300] train: 0.2850 - val: 0.9093\n",
      "[264/300] train: 0.2866 - val: 0.9194\n",
      "[265/300] train: 0.2841 - val: 0.9280\n",
      "[266/300] train: 0.2858 - val: 0.9299\n",
      "[267/300] train: 0.2832 - val: 0.9285\n",
      "[268/300] train: 0.2886 - val: 0.9162\n",
      "[269/300] train: 0.2834 - val: 0.9086\n",
      "[270/300] train: 0.2841 - val: 0.9161\n",
      "[271/300] train: 0.2830 - val: 0.9133\n",
      "[272/300] train: 0.2833 - val: 0.9267\n",
      "[273/300] train: 0.2833 - val: 0.9163\n",
      "[274/300] train: 0.2808 - val: 0.9258\n",
      "[275/300] train: 0.2820 - val: 0.9129\n",
      "[276/300] train: 0.2813 - val: 0.9249\n",
      "[277/300] train: 0.2813 - val: 0.9183\n",
      "[278/300] train: 0.2823 - val: 0.8987\n",
      "[279/300] train: 0.2836 - val: 0.9166\n",
      "[280/300] train: 0.2809 - val: 0.9251\n",
      "[281/300] train: 0.2822 - val: 0.9095\n",
      "[282/300] train: 0.2820 - val: 0.9229\n",
      "[283/300] train: 0.2813 - val: 0.9235\n",
      "[284/300] train: 0.2830 - val: 0.9102\n",
      "[285/300] train: 0.2820 - val: 0.9133\n",
      "[286/300] train: 0.2822 - val: 0.9190\n",
      "[287/300] train: 0.2820 - val: 0.9178\n",
      "[288/300] train: 0.2878 - val: 0.9249\n",
      "[289/300] train: 0.2808 - val: 0.9132\n",
      "[290/300] train: 0.2813 - val: 0.9296\n",
      "[291/300] train: 0.2846 - val: 0.9173\n",
      "[292/300] train: 0.2823 - val: 0.9241\n",
      "[293/300] train: 0.2823 - val: 0.9142\n",
      "[294/300] train: 0.2821 - val: 0.9039\n",
      "[295/300] train: 0.2795 - val: 0.9174\n",
      "[296/300] train: 0.2818 - val: 0.9136\n",
      "[297/300] train: 0.2789 - val: 0.9126\n",
      "[298/300] train: 0.2813 - val: 0.9211\n",
      "[299/300] train: 0.2801 - val: 0.9187\n",
      "[300/300] train: 0.2783 - val: 0.9104\n"
     ]
    }
   ],
   "source": [
    "for epoch in range(n_epochs):\n",
    "    stats = {'epoch': epoch + 1, 'total': n_epochs}\n",
    "\n",
    "    for phase in ('train', 'val'):\n",
    "        if phase == 'train':\n",
    "          training = True\n",
    "        else:\n",
    "          training = False\n",
    "        running_loss = 0\n",
    "        n_batches = 0\n",
    "        for batch in batches(*datasets[phase], shuffle=training, bs=bs):\n",
    "            x_batch, y_batch = [b.to(device) for b in batch]\n",
    "            optimizer.zero_grad()\n",
    "            # compute gradients only during 'train' phase\n",
    "            with torch.set_grad_enabled(training):\n",
    "                outputs = net(x_batch[:,0], x_batch[:,1], minmax)\n",
    "                loss = criterion(outputs, y_batch)\n",
    "                # don't update weights and rates when in 'val' phase\n",
    "                if training:\n",
    "                    #scheduler.step()\n",
    "                    loss.backward()\n",
    "                    optimizer.step()\n",
    "                    #lr_history.extend(scheduler.get_lr())\n",
    "            running_loss += loss.item()\n",
    "        epoch_loss = running_loss / dataset_sizes[phase]\n",
    "        stats[phase] = epoch_loss\n",
    "        # early stopping: save weights of the best model so far\n",
    "        if phase == 'val':\n",
    "            if epoch_loss < best_loss:\n",
    "                print('loss improvement on epoch: %d' % (epoch + 1))\n",
    "                best_loss = epoch_loss\n",
    "                best_weights = copy.deepcopy(net.state_dict())\n",
    "                no_improvements = 0\n",
    "            else:\n",
    "                no_improvements += 1\n",
    "    history.append(stats)\n",
    "    with open(f'logs/large.txt', 'a') as f:\n",
    "        print('[{epoch:03d}/{total:03d}] train: {train:.4f} - val: {val:.4f}'.format(**stats))\n",
    "        f.write('[{epoch:03d}/{total:03d}] train: {train:.4f} - val: {val:.4f}'.format(**stats))\n",
    "    if no_improvements >= patience:\n",
    "        print('early stopping after epoch {epoch:03d}'.format(**stats))\n",
    "        break"
   ],
   "metadata": {
    "collapsed": false,
    "pycharm": {
     "name": "#%%\n"
    }
   }
  },
  {
   "cell_type": "code",
   "execution_count": 817,
   "outputs": [
    {
     "data": {
      "text/plain": "<All keys matched successfully>"
     },
     "execution_count": 817,
     "metadata": {},
     "output_type": "execute_result"
    }
   ],
   "source": [
    "net.load_state_dict(best_weights)"
   ],
   "metadata": {
    "collapsed": false,
    "pycharm": {
     "name": "#%%\n"
    }
   }
  },
  {
   "cell_type": "code",
   "execution_count": 818,
   "outputs": [],
   "source": [
    "groud_truth, predictions = [], []\n",
    "\n",
    "with torch.no_grad():\n",
    "    for batch in batches(*datasets['val'], shuffle=False, bs=bs):\n",
    "        x_batch, y_batch = [b.to(device) for b in batch]\n",
    "        outputs = net(x_batch[:, 0], x_batch[:, 1], minmax)\n",
    "        groud_truth.extend(y_batch.tolist())\n",
    "        predictions.extend(outputs.tolist())\n",
    "\n",
    "groud_truth = np.asarray(groud_truth).ravel()\n",
    "predictions = np.asarray(predictions).ravel()"
   ],
   "metadata": {
    "collapsed": false,
    "pycharm": {
     "name": "#%%\n"
    }
   }
  },
  {
   "cell_type": "code",
   "execution_count": 819,
   "outputs": [
    {
     "name": "stdout",
     "output_type": "stream",
     "text": [
      "Validation RMSE: 0.9497\n"
     ]
    }
   ],
   "source": [
    "valid_loss = np.sqrt(np.mean((predictions - groud_truth)**2))\n",
    "print(f'Validation RMSE: {valid_loss:.4f}')"
   ],
   "metadata": {
    "collapsed": false,
    "pycharm": {
     "name": "#%%\n"
    }
   }
  },
  {
   "cell_type": "code",
   "execution_count": 820,
   "outputs": [],
   "source": [
    "groud_truth, predictions = [], []\n",
    "\n",
    "with torch.no_grad():\n",
    "    for batch in batches(*datasets['test'], shuffle=False, bs=bs):\n",
    "        x_batch, y_batch = [b.to(device) for b in batch]\n",
    "        outputs = net(x_batch[:, 0], x_batch[:, 1], minmax)\n",
    "        groud_truth.extend(y_batch.tolist())\n",
    "        predictions.extend(outputs.tolist())\n",
    "\n",
    "groud_truth = np.asarray(groud_truth).ravel()\n",
    "predictions = np.asarray(predictions).ravel()"
   ],
   "metadata": {
    "collapsed": false,
    "pycharm": {
     "name": "#%%\n"
    }
   }
  },
  {
   "cell_type": "code",
   "execution_count": 821,
   "outputs": [
    {
     "name": "stdout",
     "output_type": "stream",
     "text": [
      "Test RMSE: 0.9549\n"
     ]
    }
   ],
   "source": [
    "final_loss = np.sqrt(np.mean((predictions - groud_truth)**2))\n",
    "print(f'Test RMSE: {final_loss:.4f}')"
   ],
   "metadata": {
    "collapsed": false,
    "pycharm": {
     "name": "#%%\n"
    }
   }
  },
  {
   "cell_type": "code",
   "execution_count": 822,
   "outputs": [
    {
     "name": "stdout",
     "output_type": "stream",
     "text": [
      "duration: 10.6419\n"
     ]
    }
   ],
   "source": [
    "print(f'duration: {round(time.time() - start, 4)}')\n"
   ],
   "metadata": {
    "collapsed": false,
    "pycharm": {
     "name": "#%%\n"
    }
   }
  },
  {
   "cell_type": "code",
   "execution_count": 823,
   "outputs": [],
   "source": [
    "with open('best.weights.big', 'wb') as file:\n",
    "    pickle.dump(best_weights, file)"
   ],
   "metadata": {
    "collapsed": false,
    "pycharm": {
     "name": "#%%\n"
    }
   }
  },
  {
   "cell_type": "code",
   "execution_count": 824,
   "outputs": [
    {
     "data": {
      "text/plain": "<Figure size 432x288 with 1 Axes>",
      "image/png": "[encoded data removed]"
     },
     "metadata": {},
     "output_type": "display_data"
    }
   ],
   "source": [
    "plt.rcParams['font.size'] = 26\n",
    "plt.rcParams['axes.labelsize'] = 26\n",
    "plt.rcParams['xtick.labelsize'] = 26\n",
    "plt.rcParams['ytick.labelsize'] = 26\n",
    "plt.rcParams['legend.fontsize'] = 26\n",
    "plt.style.use('seaborn-whitegrid')\n",
    "ax = pd.DataFrame(history).drop(columns='total').plot(x='epoch')\n",
    "plt.ylabel('RMSE')\n",
    "plt.ylim([0.2, 1.3])\n",
    "\n",
    "plt.savefig(figure_path + '/' + dataset +'-large-loss.png', dpi=300, bbox_inches='tight')"
   ],
   "metadata": {
    "collapsed": false,
    "pycharm": {
     "name": "#%%\n"
    }
   }
  },
  {
   "cell_type": "code",
   "execution_count": 824,
   "outputs": [],
   "source": [],
   "metadata": {
    "collapsed": false,
    "pycharm": {
     "name": "#%%\n"
    }
   }
  }
 ],
 "metadata": {
  "kernelspec": {
   "name": "pycharm-f57757a1",
   "language": "python",
   "display_name": "PyCharm (rs-via-gnn)"
  },
  "language_info": {
   "codemirror_mode": {
    "name": "ipython",
    "version": 2
   },
   "file_extension": ".py",
   "mimetype": "text/x-python",
   "name": "python",
   "nbconvert_exporter": "python",
   "pygments_lexer": "ipython2",
   "version": "2.7.6"
  }
 },
 "nbformat": 4,
 "nbformat_minor": 0
}