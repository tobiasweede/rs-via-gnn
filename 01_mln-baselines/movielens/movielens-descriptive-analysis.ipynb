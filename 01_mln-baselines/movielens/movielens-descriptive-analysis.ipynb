{
 "cells": [
  {
   "cell_type": "markdown",
   "metadata": {
    "pycharm": {
     "name": "#%% md\n"
    }
   },
   "source": [
    "# MovieLens descriptive analysis"
   ]
  },
  {
   "cell_type": "code",
   "execution_count": 321,
   "outputs": [],
   "source": [
    "figure_path = '/home/weiss/git/thesis/doc/figures/'"
   ],
   "metadata": {
    "collapsed": false,
    "pycharm": {
     "name": "#%%\n"
    }
   }
  },
  {
   "cell_type": "code",
   "execution_count": 337,
   "outputs": [],
   "source": [
    "import numpy as np\n",
    "import pandas as pd\n",
    "import os\n",
    "import seaborn as sns\n",
    "import matplotlib.pyplot as plt\n",
    "sns.set(style='whitegrid', font_scale=1.5)\n",
    "\n",
    "RANDOM = 2021"
   ],
   "metadata": {
    "collapsed": false,
    "pycharm": {
     "name": "#%%\n"
    }
   }
  },
  {
   "cell_type": "code",
   "execution_count": 323,
   "metadata": {},
   "outputs": [],
   "source": [
    "datasets = {\n",
    "    'ml-100k': '/home/weiss/rs_data/ml-100k/',\n",
    "}\n",
    "\n",
    "dt='ml-100k'"
   ]
  },
  {
   "cell_type": "code",
   "execution_count": 324,
   "metadata": {},
   "outputs": [
    {
     "name": "stdout",
     "output_type": "stream",
     "text": [
      "/home/weiss/rs_data/ml-100k/\n",
      "/\n",
      "    README\n",
      "    u2.test\n",
      "    u4.test\n",
      "    u2.base\n",
      "    allbut.pl\n",
      "    u3.base\n",
      "    u.data\n",
      "    u.occupation\n",
      "    ua.test\n",
      "    u5.base\n",
      "    u.genre\n",
      "    u3.test\n",
      "    ub.test\n",
      "    mku.sh\n",
      "    u.user\n",
      "    u1.test\n",
      "    ua.base\n",
      "    u1.base\n",
      "    u.item\n",
      "    u5.test\n",
      "    ub.base\n",
      "    u4.base\n",
      "    ml-100k.pkl\n",
      "    u.info\n",
      "processed/\n",
      "    test.csv\n",
      "    rX_val.csv\n",
      "    rX_test_ns.csv\n",
      "    rX_test.csv\n",
      "    train.csv\n",
      "    rX_train.csv\n",
      "    rX_val_ns.csv\n",
      "    test_ns.csv\n",
      "    rX_train_ns.csv\n",
      "    val.csv\n",
      "    val_ns.csv\n",
      "    train_ns.csv\n",
      "None\n"
     ]
    }
   ],
   "source": [
    "# Check structure\n",
    "def list_files(startpath):\n",
    "    print(startpath)\n",
    "    for root, dirs, files in os.walk(startpath):\n",
    "        level = root.replace(startpath, '').count(os.sep)\n",
    "        indent = ' ' * 4 * (level)\n",
    "        print('{}{}/'.format(indent, os.path.basename(root)))\n",
    "        subindent = ' ' * 4 * (level + 1)\n",
    "        for f in files:\n",
    "            print('{}{}'.format(subindent, f))\n",
    "dirs = [x[0] for x in os.walk(datasets[dt])]\n",
    "ml = filter(lambda dirName: dirName if ('ml' in dirName) else '', list(dirs))\n",
    "dt_dir_name= list(ml)[0]\n",
    "print(list_files(dt_dir_name))"
   ]
  },
  {
   "cell_type": "code",
   "execution_count": 325,
   "metadata": {},
   "outputs": [
    {
     "name": "stdout",
     "output_type": "stream",
     "text": [
      "ratings data (100000, 4)\n",
      "user data (943, 5)\n",
      "movie data (1682, 24)\n"
     ]
    }
   ],
   "source": [
    "# Select ratings and tags\n",
    "if dt=='ml-100k':\n",
    "  ratings_data = pd.read_csv(dt_dir_name +'/'+ 'u.data', delimiter='\\t', names=['userId', 'movieId', 'rating', 'timestamp'])\n",
    "  user_data = pd.read_csv(dt_dir_name +'/'+ 'u.user', delimiter='|', names=['user id', 'age' ,'gender' ,'occupation' , 'zip code'])\n",
    "  genres = ['unknown', 'Action' ,'Adventure' ,'Animation',\n",
    "              'Children' ,'Comedy' ,'Crime' ,'Documentary' ,'Drama' ,'Fantasy',\n",
    "              'Film-Noir' ,'Horror' ,'Musical' ,'Mystery' ,'Romance' ,'Sci-Fi',\n",
    "              'Thriller' ,'War' ,'Western']\n",
    "  movie_data = pd.read_csv(dt_dir_name +'/'+ 'u.item', delimiter='|', names=['movie id' ,'movie title' ,'release date' ,'video release date' ,\n",
    "              'IMDb URL'] + genres)\n",
    "  genre_list =  pd.read_csv(dt_dir_name +'/'+ 'u.genre', delimiter='|', names=['user id', 'age' ,'gender' ,'occupation' , 'zip code'])\n",
    "  print('ratings data', ratings_data.shape)\n",
    "  print('user data', user_data.shape)\n",
    "  print('movie data', movie_data.shape)"
   ]
  },
  {
   "cell_type": "code",
   "execution_count": 326,
   "metadata": {
    "scrolled": true,
    "pycharm": {
     "name": "#%%\n"
    }
   },
   "outputs": [
    {
     "name": "stdout",
     "output_type": "stream",
     "text": [
      "   userId  movieId  rating  timestamp\n",
      "0     196      242       3  881250949\n",
      "1     186      302       3  891717742\n",
      "2      22      377       1  878887116\n",
      "3     244       51       2  880606923\n",
      "4     166      346       1  886397596\n",
      "<class 'pandas.core.frame.DataFrame'>\n",
      "RangeIndex: 100000 entries, 0 to 99999\n",
      "Data columns (total 4 columns):\n",
      " #   Column     Non-Null Count   Dtype\n",
      "---  ------     --------------   -----\n",
      " 0   userId     100000 non-null  int64\n",
      " 1   movieId    100000 non-null  int64\n",
      " 2   rating     100000 non-null  int64\n",
      " 3   timestamp  100000 non-null  int64\n",
      "dtypes: int64(4)\n",
      "memory usage: 3.1 MB\n",
      "None\n",
      "Ratings null?\n",
      " userId       False\n",
      "movieId      False\n",
      "rating       False\n",
      "timestamp    False\n",
      "dtype: bool\n"
     ]
    }
   ],
   "source": [
    "# Check ratings data\n",
    "print(ratings_data.head())\n",
    "print(ratings_data.info())\n",
    "print('Ratings null?\\n', ratings_data.isnull().any())"
   ]
  },
  {
   "cell_type": "code",
   "execution_count": 327,
   "outputs": [
    {
     "name": "stdout",
     "output_type": "stream",
     "text": [
      "   user id  age gender  occupation zip code\n",
      "0        1   24      M  technician    85711\n",
      "1        2   53      F       other    94043\n",
      "2        3   23      M      writer    32067\n",
      "3        4   24      M  technician    43537\n",
      "4        5   33      F       other    15213\n",
      "Users null?\n",
      " user id       False\n",
      "age           False\n",
      "gender        False\n",
      "occupation    False\n",
      "zip code      False\n",
      "dtype: bool\n"
     ]
    }
   ],
   "source": [
    "# Check user data\n",
    "print(user_data.head())\n",
    "print('Users null?\\n', user_data.isnull().any())"
   ],
   "metadata": {
    "collapsed": false,
    "pycharm": {
     "name": "#%%\n"
    }
   }
  },
  {
   "cell_type": "code",
   "execution_count": 328,
   "outputs": [
    {
     "name": "stdout",
     "output_type": "stream",
     "text": [
      "   movie id        movie title release date  video release date  \\\n",
      "0         1   Toy Story (1995)  01-Jan-1995                 NaN   \n",
      "1         2   GoldenEye (1995)  01-Jan-1995                 NaN   \n",
      "2         3  Four Rooms (1995)  01-Jan-1995                 NaN   \n",
      "3         4  Get Shorty (1995)  01-Jan-1995                 NaN   \n",
      "4         5     Copycat (1995)  01-Jan-1995                 NaN   \n",
      "\n",
      "                                            IMDb URL  unknown  Action  \\\n",
      "0  http://us.imdb.com/M/title-exact?Toy%20Story%2...        0       0   \n",
      "1  http://us.imdb.com/M/title-exact?GoldenEye%20(...        0       1   \n",
      "2  http://us.imdb.com/M/title-exact?Four%20Rooms%...        0       0   \n",
      "3  http://us.imdb.com/M/title-exact?Get%20Shorty%...        0       1   \n",
      "4  http://us.imdb.com/M/title-exact?Copycat%20(1995)        0       0   \n",
      "\n",
      "   Adventure  Animation  Children  ...  Fantasy  Film-Noir  Horror  Musical  \\\n",
      "0          0          1         1  ...        0          0       0        0   \n",
      "1          1          0         0  ...        0          0       0        0   \n",
      "2          0          0         0  ...        0          0       0        0   \n",
      "3          0          0         0  ...        0          0       0        0   \n",
      "4          0          0         0  ...        0          0       0        0   \n",
      "\n",
      "   Mystery  Romance  Sci-Fi  Thriller  War  Western  \n",
      "0        0        0       0         0    0        0  \n",
      "1        0        0       0         1    0        0  \n",
      "2        0        0       0         1    0        0  \n",
      "3        0        0       0         0    0        0  \n",
      "4        0        0       0         1    0        0  \n",
      "\n",
      "[5 rows x 24 columns]\n",
      "movie null?\n",
      " movie id              False\n",
      "movie title           False\n",
      "release date           True\n",
      "video release date     True\n",
      "IMDb URL               True\n",
      "unknown               False\n",
      "Action                False\n",
      "Adventure             False\n",
      "Animation             False\n",
      "Children              False\n",
      "Comedy                False\n",
      "Crime                 False\n",
      "Documentary           False\n",
      "Drama                 False\n",
      "Fantasy               False\n",
      "Film-Noir             False\n",
      "Horror                False\n",
      "Musical               False\n",
      "Mystery               False\n",
      "Romance               False\n",
      "Sci-Fi                False\n",
      "Thriller              False\n",
      "War                   False\n",
      "Western               False\n",
      "dtype: bool\n"
     ]
    }
   ],
   "source": [
    "# Check movie data\n",
    "print(movie_data.head())\n",
    "print('movie null?\\n', movie_data.isnull().any())"
   ],
   "metadata": {
    "collapsed": false,
    "pycharm": {
     "name": "#%%\n"
    }
   }
  },
  {
   "cell_type": "code",
   "execution_count": 329,
   "outputs": [
    {
     "name": "stdout",
     "output_type": "stream",
     "text": [
      "userId\n",
      "405    737\n",
      "655    685\n",
      "13     636\n",
      "450    540\n",
      "276    518\n",
      "      ... \n",
      "685     20\n",
      "475     20\n",
      "36      20\n",
      "732     20\n",
      "596     20\n",
      "Length: 943, dtype: int64\n"
     ]
    }
   ],
   "source": [
    "rating_count_by_user = ratings_data.groupby('userId').size().sort_values(ascending=False)\n",
    "print(rating_count_by_user)"
   ],
   "metadata": {
    "collapsed": false,
    "pycharm": {
     "name": "#%%\n"
    }
   }
  },
  {
   "cell_type": "code",
   "execution_count": 330,
   "outputs": [
    {
     "name": "stdout",
     "output_type": "stream",
     "text": [
      "  gender  count   percent\n",
      "0      F    273  0.289502\n",
      "1      M    670  0.710498\n"
     ]
    }
   ],
   "source": [
    "gender_prop = user_data.groupby(['gender']).size().reset_index(name='count')\n",
    "gender_prop['percent'] = gender_prop['count'] / gender_prop['count'].sum()\n",
    "print(gender_prop)"
   ],
   "metadata": {
    "collapsed": false,
    "pycharm": {
     "name": "#%%\n"
    }
   }
  },
  {
   "cell_type": "code",
   "execution_count": 359,
   "outputs": [
    {
     "data": {
      "text/plain": "<Figure size 360x360 with 1 Axes>",
      "image/png": "[encoded data removed]"
     },
     "metadata": {},
     "output_type": "display_data"
    }
   ],
   "source": [
    "size = rating_count_by_user.size\n",
    "\n",
    "df = pd.DataFrame(dict(sorted_user_id=range(1,size+1), rating_counts=rating_count_by_user.values))\n",
    "\n",
    "sns.set(style='whitegrid', font_scale=1.3)\n",
    "image = sns.relplot(data=df,\n",
    "                    x=\"sorted_user_id\",\n",
    "                    y=\"rating_counts\",\n",
    "                    kind=\"line\",\n",
    "                    )\n",
    "\n",
    "image.set(xlabel=\"users sorted desc. by # ratings\",\n",
    "          ylabel=\"# ratings\"\n",
    "          )\n",
    "\n",
    "image.savefig(figure_path + '/ml-100k-long-tail-distribution.png', dpi=300, bbox_inches='tight')"
   ],
   "metadata": {
    "collapsed": false,
    "pycharm": {
     "name": "#%%\n"
    }
   }
  },
  {
   "cell_type": "code",
   "execution_count": 361,
   "outputs": [
    {
     "name": "stderr",
     "output_type": "stream",
     "text": [
      "/home/weiss/.conda/envs/GNN/lib/python3.7/site-packages/seaborn/categorical.py:3704: UserWarning: The `factorplot` function has been renamed to `catplot`. The original name will be removed in a future release. Please update your code. Note that the default `kind` in `factorplot` (`'point'`) has changed `'strip'` in `catplot`.\n",
      "  warnings.warn(msg)\n",
      "/home/weiss/.conda/envs/GNN/lib/python3.7/site-packages/seaborn/_decorators.py:43: FutureWarning: Pass the following variable as a keyword arg: x. From version 0.12, the only valid positional argument will be `data`, and passing other arguments without an explicit keyword will result in an error or misinterpretation.\n",
      "  FutureWarning\n"
     ]
    },
    {
     "data": {
      "text/plain": "<Figure size 360x360 with 1 Axes>",
      "image/png": "[encoded data removed]"
     },
     "metadata": {},
     "output_type": "display_data"
    }
   ],
   "source": [
    "# rating distribution\n",
    "\n",
    "sns.set(style='whitegrid', font_scale=1.3)\n",
    "g = sns.factorplot(\"rating\", data=ratings_data, kind='count')\n",
    "g.set_ylabels(\"# ratings\")\n",
    "g.savefig(figure_path + '/ml-100k-rating-distribution.png', dpi=300, bbox_inches='tight')"
   ],
   "metadata": {
    "collapsed": false,
    "pycharm": {
     "name": "#%%\n"
    }
   }
  },
  {
   "cell_type": "code",
   "execution_count": 362,
   "outputs": [
    {
     "name": "stdout",
     "output_type": "stream",
     "text": [
      "mean 3.52986\n",
      "median 4.0\n"
     ]
    }
   ],
   "source": [
    "print('mean', ratings_data['rating'].mean())\n",
    "print('median', ratings_data['rating'].median())"
   ],
   "metadata": {
    "collapsed": false,
    "pycharm": {
     "name": "#%%\n"
    }
   }
  },
  {
   "cell_type": "code",
   "execution_count": 349,
   "outputs": [
    {
     "data": {
      "text/plain": "<Figure size 432x288 with 1 Axes>",
      "image/png": "[encoded data removed]"
     },
     "metadata": {},
     "output_type": "display_data"
    }
   ],
   "source": [
    "\n",
    "sns.set(style='whitegrid', font_scale=1.5)\n",
    "image = sns.histplot(data = user_data,\n",
    "                     x = 'age')\n",
    "\n",
    "image.set(ylabel=\"# users\",\n",
    "          #title=\"ML-100k long-tail distribution\"\n",
    "          )\n",
    "\n",
    "image.figure.savefig(figure_path + 'ml-100k-user-age-hist.png', dpi=300, bbox_inches='tight')"
   ],
   "metadata": {
    "collapsed": false,
    "pycharm": {
     "name": "#%%\n"
    }
   }
  },
  {
   "cell_type": "code",
   "execution_count": 346,
   "outputs": [
    {
     "data": {
      "text/plain": "<Figure size 432x288 with 1 Axes>",
      "image/png": "[encoded data removed]"
     },
     "metadata": {},
     "output_type": "display_data"
    }
   ],
   "source": [
    "df = user_data.groupby(['occupation']).size().reset_index(name='count')\n",
    "\n",
    "sns.set(style='whitegrid', font_scale=1.5)\n",
    "sns.set_context(\"poster\", rc={'ytick.labelsize':12})\n",
    "image = sns.barplot(data = df,\n",
    "            y = 'occupation',\n",
    "            x= 'count'\n",
    "            )\n",
    "image.figure.savefig(figure_path + 'ml-100k-user-occupation.png', dpi=300, bbox_inches='tight')"
   ],
   "metadata": {
    "collapsed": false,
    "pycharm": {
     "name": "#%%\n"
    }
   }
  },
  {
   "cell_type": "code",
   "execution_count": 335,
   "outputs": [
    {
     "name": "stdout",
     "output_type": "stream",
     "text": [
      "          genre  count\n",
      "0       unknown      2\n",
      "1        Action    251\n",
      "2     Adventure    135\n",
      "3     Animation     42\n",
      "4      Children    122\n",
      "5        Comedy    505\n",
      "6         Crime    109\n",
      "7   Documentary     50\n",
      "8         Drama    725\n",
      "9       Fantasy     22\n",
      "10    Film-Noir     24\n",
      "11       Horror     92\n",
      "12      Musical     56\n",
      "13      Mystery     61\n",
      "14      Romance    247\n",
      "15       Sci-Fi    101\n",
      "16     Thriller    251\n",
      "17          War     71\n",
      "18      Western     27\n"
     ]
    }
   ],
   "source": [
    "data = dict(genre=[], count=[])\n",
    "for genre in genres:\n",
    "    count = movie_data[genre].value_counts()[1]\n",
    "    data['genre'].append(genre)\n",
    "    data['count'].append(count)\n",
    "genre_counts = pd.DataFrame(data)\n",
    "print(genre_counts)"
   ],
   "metadata": {
    "collapsed": false,
    "pycharm": {
     "name": "#%%\n"
    }
   }
  },
  {
   "cell_type": "code",
   "execution_count": 351,
   "outputs": [
    {
     "data": {
      "text/plain": "<Figure size 432x288 with 1 Axes>",
      "image/png": "[encoded data removed]"
     },
     "metadata": {},
     "output_type": "display_data"
    }
   ],
   "source": [
    "fig, image = plt.subplots()\n",
    "\n",
    "sns.set(style='whitegrid', font_scale=1.5)\n",
    "sns.set_context(\"poster\", rc={'ytick.labelsize':12})\n",
    "image = sns.barplot(data = genre_counts,\n",
    "            y = 'genre',\n",
    "            x= 'count'\n",
    "            )\n",
    "image.set_xlabel('# movies')\n",
    "image.set_ylabel('genres')\n",
    "\n",
    "image.figure.savefig(figure_path + 'ml-100k-genre-counts.png', dpi=300, bbox_inches='tight')\n"
   ],
   "metadata": {
    "collapsed": false,
    "pycharm": {
     "name": "#%%\n"
    }
   }
  },
  {
   "cell_type": "code",
   "execution_count": 336,
   "outputs": [],
   "source": [],
   "metadata": {
    "collapsed": false,
    "pycharm": {
     "name": "#%%\n"
    }
   }
  }
 ],
 "metadata": {
  "kernelspec": {
   "name": "pycharm-f57757a1",
   "language": "python",
   "display_name": "PyCharm (rs-via-gnn)"
  },
  "language_info": {
   "codemirror_mode": {
    "name": "ipython",
    "version": 3
   },
   "file_extension": ".py",
   "mimetype": "text/x-python",
   "name": "python",
   "nbconvert_exporter": "python",
   "pygments_lexer": "ipython3",
   "version": "3.7.9"
  }
 },
 "nbformat": 4,
 "nbformat_minor": 5
}