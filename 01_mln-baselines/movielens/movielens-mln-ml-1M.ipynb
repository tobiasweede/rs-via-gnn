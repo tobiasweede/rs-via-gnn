{
 "cells": [
  {
   "cell_type": "markdown",
   "metadata": {
    "collapsed": true,
    "pycharm": {
     "name": "#%% md\n"
    }
   },
   "source": [
    "# MovieLens MLN Recommendation via PyTorch\n",
    "\n",
    "adapted from https://github.com/fastai/fastai"
   ]
  },
  {
   "cell_type": "code",
   "execution_count": 46,
   "outputs": [],
   "source": [
    "import math\n",
    "import copy\n",
    "import pickle\n",
    "from pathlib import Path\n",
    "from itertools import zip_longest\n",
    "\n",
    "import numpy as np\n",
    "import pandas as pd\n",
    "import matplotlib.pyplot as plt\n",
    "from sklearn.model_selection import train_test_split\n",
    "\n",
    "import torch\n",
    "from torch import nn\n",
    "from torch import optim\n",
    "#from torch.optim.lr_scheduler import _LRScheduler\n",
    "\n",
    "import time"
   ],
   "metadata": {
    "collapsed": false,
    "pycharm": {
     "name": "#%%\n"
    }
   }
  },
  {
   "cell_type": "code",
   "execution_count": 47,
   "outputs": [],
   "source": [
    "def set_random_seed(state=1):\n",
    "    gens = (np.random.seed, torch.manual_seed, torch.cuda.manual_seed)\n",
    "    for set_state in gens:\n",
    "        set_state(state)\n",
    "\n",
    "RANDOM_STATE = 2021\n",
    "set_random_seed(RANDOM_STATE)"
   ],
   "metadata": {
    "collapsed": false,
    "pycharm": {
     "name": "#%%\n"
    }
   }
  },
  {
   "cell_type": "code",
   "execution_count": 48,
   "outputs": [],
   "source": [
    "def read_data(path):\n",
    "    files = {}\n",
    "    path = Path(path)\n",
    "    for filename in path.glob('*'):\n",
    "        if filename.suffix == '.dat':\n",
    "            if filename.stem == 'ratings':\n",
    "                columns = ['userId', 'movieId', 'rating', 'timestamp']\n",
    "            elif filename.stem == 'users':\n",
    "                columns = ['userId', 'gender', 'Occupation', 'zip-code']\n",
    "            else:\n",
    "                columns = ['movieId', 'title', 'genres']\n",
    "            data = pd.read_csv(filename, sep='::', names=columns, engine='python')\n",
    "            files[filename.stem] = data\n",
    "    return files['ratings'], files['movies'], files['users']"
   ],
   "metadata": {
    "collapsed": false,
    "pycharm": {
     "name": "#%%\n"
    }
   }
  },
  {
   "cell_type": "code",
   "execution_count": 49,
   "outputs": [],
   "source": [
    "# pick one of the available folders\n",
    "ratings, movies, users = read_data('/home/weiss/rs_data/ml-1m')"
   ],
   "metadata": {
    "collapsed": false,
    "pycharm": {
     "name": "#%%\n"
    }
   }
  },
  {
   "cell_type": "code",
   "execution_count": 50,
   "outputs": [
    {
     "data": {
      "text/plain": "   userId  movieId  rating  timestamp\n0       1     1193       5  978300760\n1       1      661       3  978302109\n2       1      914       3  978301968\n3       1     3408       4  978300275\n4       1     2355       5  978824291",
      "text/html": "<div>\n<style scoped>\n    .dataframe tbody tr th:only-of-type {\n        vertical-align: middle;\n    }\n\n    .dataframe tbody tr th {\n        vertical-align: top;\n    }\n\n    .dataframe thead th {\n        text-align: right;\n    }\n</style>\n<table border=\"1\" class=\"dataframe\">\n  <thead>\n    <tr style=\"text-align: right;\">\n      <th></th>\n      <th>userId</th>\n      <th>movieId</th>\n      <th>rating</th>\n      <th>timestamp</th>\n    </tr>\n  </thead>\n  <tbody>\n    <tr>\n      <th>0</th>\n      <td>1</td>\n      <td>1193</td>\n      <td>5</td>\n      <td>978300760</td>\n    </tr>\n    <tr>\n      <th>1</th>\n      <td>1</td>\n      <td>661</td>\n      <td>3</td>\n      <td>978302109</td>\n    </tr>\n    <tr>\n      <th>2</th>\n      <td>1</td>\n      <td>914</td>\n      <td>3</td>\n      <td>978301968</td>\n    </tr>\n    <tr>\n      <th>3</th>\n      <td>1</td>\n      <td>3408</td>\n      <td>4</td>\n      <td>978300275</td>\n    </tr>\n    <tr>\n      <th>4</th>\n      <td>1</td>\n      <td>2355</td>\n      <td>5</td>\n      <td>978824291</td>\n    </tr>\n  </tbody>\n</table>\n</div>"
     },
     "execution_count": 50,
     "metadata": {},
     "output_type": "execute_result"
    }
   ],
   "source": [
    "ratings.head()"
   ],
   "metadata": {
    "collapsed": false,
    "pycharm": {
     "name": "#%%\n"
    }
   }
  },
  {
   "cell_type": "code",
   "execution_count": 51,
   "outputs": [
    {
     "data": {
      "text/plain": "   movieId                               title                        genres\n0        1                    Toy Story (1995)   Animation|Children's|Comedy\n1        2                      Jumanji (1995)  Adventure|Children's|Fantasy\n2        3             Grumpier Old Men (1995)                Comedy|Romance\n3        4            Waiting to Exhale (1995)                  Comedy|Drama\n4        5  Father of the Bride Part II (1995)                        Comedy",
      "text/html": "<div>\n<style scoped>\n    .dataframe tbody tr th:only-of-type {\n        vertical-align: middle;\n    }\n\n    .dataframe tbody tr th {\n        vertical-align: top;\n    }\n\n    .dataframe thead th {\n        text-align: right;\n    }\n</style>\n<table border=\"1\" class=\"dataframe\">\n  <thead>\n    <tr style=\"text-align: right;\">\n      <th></th>\n      <th>movieId</th>\n      <th>title</th>\n      <th>genres</th>\n    </tr>\n  </thead>\n  <tbody>\n    <tr>\n      <th>0</th>\n      <td>1</td>\n      <td>Toy Story (1995)</td>\n      <td>Animation|Children's|Comedy</td>\n    </tr>\n    <tr>\n      <th>1</th>\n      <td>2</td>\n      <td>Jumanji (1995)</td>\n      <td>Adventure|Children's|Fantasy</td>\n    </tr>\n    <tr>\n      <th>2</th>\n      <td>3</td>\n      <td>Grumpier Old Men (1995)</td>\n      <td>Comedy|Romance</td>\n    </tr>\n    <tr>\n      <th>3</th>\n      <td>4</td>\n      <td>Waiting to Exhale (1995)</td>\n      <td>Comedy|Drama</td>\n    </tr>\n    <tr>\n      <th>4</th>\n      <td>5</td>\n      <td>Father of the Bride Part II (1995)</td>\n      <td>Comedy</td>\n    </tr>\n  </tbody>\n</table>\n</div>"
     },
     "execution_count": 51,
     "metadata": {},
     "output_type": "execute_result"
    }
   ],
   "source": [
    "movies.head()"
   ],
   "metadata": {
    "collapsed": false,
    "pycharm": {
     "name": "#%%\n"
    }
   }
  },
  {
   "cell_type": "code",
   "execution_count": 52,
   "outputs": [
    {
     "name": "stdout",
     "output_type": "stream",
     "text": [
      "Embeddings: 6040 users, 3706 movies\n",
      "Dataset shape: (1000209, 2)\n",
      "Target shape: (1000209,)\n"
     ]
    }
   ],
   "source": [
    "def create_dataset(ratings, top=None):\n",
    "    if top is not None:\n",
    "        ratings.groupby('userId')['rating'].count()\n",
    "\n",
    "    unique_users = ratings.userId.unique()\n",
    "    user_to_index = {old: new for new, old in enumerate(unique_users)}\n",
    "    new_users = ratings.userId.map(user_to_index)\n",
    "\n",
    "    unique_movies = ratings.movieId.unique()\n",
    "    movie_to_index = {old: new for new, old in enumerate(unique_movies)}\n",
    "    new_movies = ratings.movieId.map(movie_to_index)\n",
    "\n",
    "    n_users = unique_users.shape[0]\n",
    "    n_movies = unique_movies.shape[0]\n",
    "\n",
    "    X = pd.DataFrame({'user_id': new_users, 'movie_id': new_movies})\n",
    "    y = ratings['rating'].astype(np.float32)\n",
    "    return (n_users, n_movies), (X, y), (user_to_index, movie_to_index)\n",
    "\n",
    "(n, m), (X, y), _ = create_dataset(ratings)\n",
    "print(f'Embeddings: {n} users, {m} movies')\n",
    "print(f'Dataset shape: {X.shape}')\n",
    "print(f'Target shape: {y.shape}')"
   ],
   "metadata": {
    "collapsed": false,
    "pycharm": {
     "name": "#%%\n"
    }
   }
  },
  {
   "cell_type": "code",
   "execution_count": 53,
   "outputs": [],
   "source": [
    "X_train, X_valid, y_train, y_valid = train_test_split(X, y, test_size=0.4, random_state=RANDOM_STATE)\n",
    "X_valid, X_test, y_valid, y_test = train_test_split(X_valid, y_valid, test_size=0.5, random_state=RANDOM_STATE)\n",
    "datasets = {'train': (X_train, y_train), 'val': (X_valid, y_valid), 'test': (X_test, y_test)}\n",
    "dataset_sizes = {'train': len(X_train), 'val': len(X_valid), 'test': len(X_test)}\n"
   ],
   "metadata": {
    "collapsed": false,
    "pycharm": {
     "name": "#%%\n"
    }
   }
  },
  {
   "cell_type": "code",
   "execution_count": 54,
   "outputs": [],
   "source": [
    "class RatingsIterator:\n",
    "\n",
    "    def __init__(self, X, y, batch_size=32, shuffle=True):\n",
    "        X, y = np.asarray(X), np.asarray(y)\n",
    "        if shuffle:\n",
    "            index = np.random.permutation(X.shape[0])\n",
    "            X, y = X[index], y[index]\n",
    "        self.X = X\n",
    "        self.y = y\n",
    "        self.batch_size = batch_size\n",
    "        self.shuffle = shuffle\n",
    "        self.n_batches = int(math.ceil(X.shape[0] // batch_size))\n",
    "        self._current = 0\n",
    "\n",
    "    def __iter__(self):\n",
    "        return self\n",
    "\n",
    "    def __next__(self):\n",
    "        return self.next()\n",
    "\n",
    "    def next(self):\n",
    "        if self._current >= self.n_batches:\n",
    "            raise StopIteration()\n",
    "        k = self._current\n",
    "        self._current += 1\n",
    "        bs = self.batch_size\n",
    "        return self.X[k*bs:(k + 1)*bs], self.y[k*bs:(k + 1)*bs]"
   ],
   "metadata": {
    "collapsed": false,
    "pycharm": {
     "name": "#%%\n"
    }
   }
  },
  {
   "cell_type": "code",
   "execution_count": 55,
   "outputs": [],
   "source": [
    "def batches(X, y, bs=32, shuffle=True):\n",
    "    for xb, yb in RatingsIterator(X, y, bs, shuffle):\n",
    "        xb = torch.LongTensor(xb)\n",
    "        yb = torch.FloatTensor(yb)\n",
    "        yield xb, yb.view(-1, 1)"
   ],
   "metadata": {
    "collapsed": false,
    "pycharm": {
     "name": "#%%\n"
    }
   }
  },
  {
   "cell_type": "code",
   "execution_count": 56,
   "outputs": [],
   "source": [
    "class RecommenderNet(nn.Module):\n",
    "    \"\"\"\n",
    "    Creates dense MLN with embedding layers.\n",
    "\n",
    "    Args:\n",
    "        n_users:\n",
    "            Number of unique users in the dataset.\n",
    "\n",
    "        n_movies:\n",
    "            Number of unique movies in the dataset.\n",
    "\n",
    "        n_factors:\n",
    "            Number of columns in the embeddings matrix.\n",
    "\n",
    "        embedding_dropout:\n",
    "            Dropout rate to apply right after embeddings layer.\n",
    "\n",
    "        hidden:\n",
    "            A single integer or a list of integers defining the number of\n",
    "            units in hidden layer(s).\n",
    "\n",
    "        dropouts:\n",
    "            A single integer or a list of integers defining the dropout\n",
    "            layers rates applied right after each of hidden layers.\n",
    "\n",
    "    \"\"\"\n",
    "    def __init__(self, n_users, n_movies,\n",
    "                 n_factors=50, embedding_dropout=0.02,\n",
    "                 hidden=10, dropouts=0.2):\n",
    "\n",
    "        super().__init__()\n",
    "        hidden = get_list(hidden)\n",
    "        dropouts = get_list(dropouts)\n",
    "        n_last = hidden[-1]\n",
    "\n",
    "        def gen_layers(n_in):\n",
    "            \"\"\"\n",
    "            A generator that yields a sequence of hidden layers and\n",
    "            their activations/dropouts.\n",
    "\n",
    "            Note that the function captures `hidden` and `dropouts`\n",
    "            values from the outer scope.\n",
    "            \"\"\"\n",
    "            nonlocal hidden, dropouts\n",
    "            assert len(dropouts) <= len(hidden)\n",
    "\n",
    "            for n_out, rate in zip_longest(hidden, dropouts):\n",
    "                yield nn.Linear(n_in, n_out)\n",
    "                yield nn.ReLU()\n",
    "                if rate is not None and rate > 0.:\n",
    "                    yield nn.Dropout(rate)\n",
    "                n_in = n_out\n",
    "\n",
    "        self.u = nn.Embedding(n_users, n_factors)\n",
    "        self.m = nn.Embedding(n_movies, n_factors)\n",
    "        self.drop = nn.Dropout(embedding_dropout)\n",
    "        self.hidden = nn.Sequential(*list(gen_layers(n_factors * 2)))\n",
    "        self.fc = nn.Linear(n_last, 1)\n",
    "        self.relu = nn.ReLU()\n",
    "        self._init()\n",
    "\n",
    "    def forward(self, users, movies, minmax=None):\n",
    "        features = torch.cat([self.u(users), self.m(movies)], dim=1)\n",
    "        x = self.drop(features)\n",
    "        x = self.hidden(x)\n",
    "        out = torch.sigmoid(self.fc(x))\n",
    "        #out = self.relu(self.fc(x))  # relu delivers worse rsme\n",
    "        if minmax is not None:\n",
    "            min_rating, max_rating = minmax\n",
    "            out = out*(max_rating - min_rating + 1) + min_rating - 0.5\n",
    "        return out\n",
    "\n",
    "    def _init(self):\n",
    "        \"\"\"\n",
    "        Setup embeddings and hidden layers with reasonable initial values.\n",
    "        \"\"\"\n",
    "\n",
    "        def init(m):\n",
    "            if type(m) == nn.Linear:\n",
    "                torch.nn.init.xavier_uniform_(m.weight)\n",
    "                m.bias.data.fill_(0.01)\n",
    "\n",
    "        self.u.weight.data.uniform_(-0.05, 0.05)\n",
    "        self.m.weight.data.uniform_(-0.05, 0.05)\n",
    "        self.hidden.apply(init)\n",
    "        init(self.fc)\n",
    "\n",
    "\n",
    "def get_list(n):\n",
    "    if isinstance(n, (int, float)):\n",
    "        return [n]\n",
    "    elif hasattr(n, '__iter__'):\n",
    "        return list(n)\n",
    "    raise TypeError('layers configuraiton should be a single number or a list of numbers')"
   ],
   "metadata": {
    "collapsed": false,
    "pycharm": {
     "name": "#%%\n"
    }
   }
  },
  {
   "cell_type": "code",
   "execution_count": 57,
   "outputs": [],
   "source": [
    "class CyclicLR(_LRScheduler):\n",
    "\n",
    "    def __init__(self, optimizer, schedule, last_epoch=-1):\n",
    "        assert callable(schedule)\n",
    "        self.schedule = schedule\n",
    "        super().__init__(optimizer, last_epoch)\n",
    "\n",
    "    def get_lr(self):\n",
    "        return [self.schedule(self.last_epoch, lr) for lr in self.base_lrs]"
   ],
   "metadata": {
    "collapsed": false,
    "pycharm": {
     "name": "#%%\n"
    }
   }
  },
  {
   "cell_type": "code",
   "execution_count": 58,
   "outputs": [],
   "source": [
    "def cosine(t_max, eta_min=0):\n",
    "\n",
    "    def scheduler(epoch, base_lr):\n",
    "        t = epoch % t_max\n",
    "        return eta_min + (base_lr - eta_min)*(1 + math.cos(math.pi*t/t_max))/2\n",
    "    return scheduler"
   ],
   "metadata": {
    "collapsed": false,
    "pycharm": {
     "name": "#%%\n"
    }
   }
  },
  {
   "cell_type": "code",
   "execution_count": 59,
   "outputs": [],
   "source": [
    "def plot_lr(schedule):\n",
    "    ts = list(range(1000))\n",
    "    y = [schedule(t, 0.001) for t in ts]\n",
    "    plt.plot(ts, y)\n"
   ],
   "metadata": {
    "collapsed": false,
    "pycharm": {
     "name": "#%%\n"
    }
   }
  },
  {
   "cell_type": "code",
   "execution_count": 60,
   "outputs": [
    {
     "data": {
      "text/plain": "(1.0, 5.0)"
     },
     "execution_count": 60,
     "metadata": {},
     "output_type": "execute_result"
    }
   ],
   "source": [
    "minmax = float(ratings.rating.min()), float(ratings.rating.max())\n",
    "minmax"
   ],
   "metadata": {
    "collapsed": false,
    "pycharm": {
     "name": "#%%\n"
    }
   }
  },
  {
   "cell_type": "code",
   "execution_count": 61,
   "outputs": [],
   "source": [
    "# small net\n",
    "\n",
    "start = time.time()\n",
    "net = RecommenderNet(\n",
    "    n_users=n, n_movies=m,\n",
    "    n_factors=10, hidden=[10],\n",
    "    embedding_dropout=0.05, dropouts=[0.3])"
   ],
   "metadata": {
    "collapsed": false,
    "pycharm": {
     "name": "#%%\n"
    }
   }
  },
  {
   "cell_type": "code",
   "execution_count": 62,
   "outputs": [],
   "source": [
    "lr = 1e-3\n",
    "wd = 1e-5\n",
    "bs = 4096\n",
    "n_epochs = 300\n",
    "patience = 300\n",
    "no_improvements = 0\n",
    "best_loss = np.inf\n",
    "best_weights = None\n",
    "history = []\n",
    "lr_history = []\n",
    "\n",
    "device = torch.device('cuda:0' if torch.cuda.is_available() else 'cpu')\n",
    "\n",
    "net.to(device)\n",
    "criterion = nn.MSELoss(reduction='sum')\n",
    "optimizer = optim.Adam(net.parameters(), lr=lr, weight_decay=wd)\n",
    "#iterations_per_epoch = int(math.ceil(dataset_sizes['train'] // bs))\n",
    "#scheduler = CyclicLR(optimizer, cosine(t_max=iterations_per_epoch * 2, eta_min=lr/10))"
   ],
   "metadata": {
    "collapsed": false,
    "pycharm": {
     "name": "#%%\n"
    }
   }
  },
  {
   "cell_type": "code",
   "execution_count": 63,
   "outputs": [
    {
     "name": "stdout",
     "output_type": "stream",
     "text": [
      "loss improvement on epoch: 1\n",
      "[001/300] train: 1.1985 - val: 0.9439\n",
      "loss improvement on epoch: 2\n",
      "[002/300] train: 0.9015 - val: 0.8675\n",
      "loss improvement on epoch: 3\n",
      "[003/300] train: 0.8620 - val: 0.8532\n",
      "loss improvement on epoch: 4\n",
      "[004/300] train: 0.8468 - val: 0.8419\n",
      "loss improvement on epoch: 5\n",
      "[005/300] train: 0.8362 - val: 0.8386\n",
      "loss improvement on epoch: 6\n",
      "[006/300] train: 0.8287 - val: 0.8343\n",
      "loss improvement on epoch: 7\n",
      "[007/300] train: 0.8236 - val: 0.8337\n",
      "loss improvement on epoch: 8\n",
      "[008/300] train: 0.8198 - val: 0.8315\n",
      "loss improvement on epoch: 9\n",
      "[009/300] train: 0.8164 - val: 0.8287\n",
      "loss improvement on epoch: 10\n",
      "[010/300] train: 0.8138 - val: 0.8280\n",
      "loss improvement on epoch: 11\n",
      "[011/300] train: 0.8120 - val: 0.8268\n",
      "loss improvement on epoch: 12\n",
      "[012/300] train: 0.8097 - val: 0.8267\n",
      "loss improvement on epoch: 13\n",
      "[013/300] train: 0.8089 - val: 0.8257\n",
      "[014/300] train: 0.8078 - val: 0.8259\n",
      "loss improvement on epoch: 15\n",
      "[015/300] train: 0.8072 - val: 0.8244\n",
      "[016/300] train: 0.8058 - val: 0.8251\n",
      "[017/300] train: 0.8046 - val: 0.8259\n",
      "loss improvement on epoch: 18\n",
      "[018/300] train: 0.8038 - val: 0.8240\n",
      "loss improvement on epoch: 19\n",
      "[019/300] train: 0.8020 - val: 0.8235\n",
      "[020/300] train: 0.8012 - val: 0.8236\n",
      "[021/300] train: 0.7997 - val: 0.8254\n",
      "[022/300] train: 0.7987 - val: 0.8253\n",
      "[023/300] train: 0.7990 - val: 0.8240\n",
      "loss improvement on epoch: 24\n",
      "[024/300] train: 0.7970 - val: 0.8224\n",
      "[025/300] train: 0.7966 - val: 0.8231\n",
      "[026/300] train: 0.7952 - val: 0.8239\n",
      "[027/300] train: 0.7936 - val: 0.8226\n",
      "[028/300] train: 0.7939 - val: 0.8235\n",
      "loss improvement on epoch: 29\n",
      "[029/300] train: 0.7917 - val: 0.8207\n",
      "[030/300] train: 0.7912 - val: 0.8235\n",
      "[031/300] train: 0.7913 - val: 0.8231\n",
      "[032/300] train: 0.7892 - val: 0.8245\n",
      "[033/300] train: 0.7892 - val: 0.8231\n",
      "[034/300] train: 0.7875 - val: 0.8228\n",
      "[035/300] train: 0.7877 - val: 0.8214\n",
      "[036/300] train: 0.7866 - val: 0.8224\n",
      "[037/300] train: 0.7854 - val: 0.8217\n",
      "[038/300] train: 0.7852 - val: 0.8219\n",
      "[039/300] train: 0.7847 - val: 0.8236\n",
      "[040/300] train: 0.7850 - val: 0.8213\n",
      "[041/300] train: 0.7840 - val: 0.8215\n",
      "[042/300] train: 0.7838 - val: 0.8219\n",
      "[043/300] train: 0.7832 - val: 0.8209\n",
      "[044/300] train: 0.7829 - val: 0.8219\n",
      "[045/300] train: 0.7825 - val: 0.8215\n",
      "[046/300] train: 0.7824 - val: 0.8208\n",
      "[047/300] train: 0.7811 - val: 0.8218\n",
      "[048/300] train: 0.7816 - val: 0.8218\n",
      "[049/300] train: 0.7809 - val: 0.8215\n",
      "loss improvement on epoch: 50\n",
      "[050/300] train: 0.7795 - val: 0.8206\n",
      "[051/300] train: 0.7781 - val: 0.8231\n",
      "loss improvement on epoch: 52\n",
      "[052/300] train: 0.7794 - val: 0.8204\n",
      "[053/300] train: 0.7791 - val: 0.8215\n",
      "[054/300] train: 0.7778 - val: 0.8230\n",
      "[055/300] train: 0.7773 - val: 0.8234\n",
      "[056/300] train: 0.7777 - val: 0.8231\n",
      "loss improvement on epoch: 57\n",
      "[057/300] train: 0.7764 - val: 0.8201\n",
      "[058/300] train: 0.7761 - val: 0.8226\n",
      "[059/300] train: 0.7758 - val: 0.8220\n",
      "[060/300] train: 0.7755 - val: 0.8215\n",
      "[061/300] train: 0.7753 - val: 0.8215\n",
      "[062/300] train: 0.7759 - val: 0.8240\n",
      "[063/300] train: 0.7741 - val: 0.8222\n",
      "[064/300] train: 0.7745 - val: 0.8222\n",
      "[065/300] train: 0.7742 - val: 0.8236\n",
      "[066/300] train: 0.7738 - val: 0.8211\n",
      "[067/300] train: 0.7735 - val: 0.8224\n",
      "[068/300] train: 0.7736 - val: 0.8254\n",
      "[069/300] train: 0.7744 - val: 0.8225\n",
      "[070/300] train: 0.7734 - val: 0.8234\n",
      "[071/300] train: 0.7733 - val: 0.8236\n",
      "[072/300] train: 0.7729 - val: 0.8244\n",
      "[073/300] train: 0.7720 - val: 0.8247\n",
      "[074/300] train: 0.7718 - val: 0.8241\n",
      "[075/300] train: 0.7720 - val: 0.8245\n",
      "[076/300] train: 0.7720 - val: 0.8232\n",
      "[077/300] train: 0.7716 - val: 0.8249\n",
      "[078/300] train: 0.7713 - val: 0.8253\n",
      "[079/300] train: 0.7712 - val: 0.8245\n",
      "[080/300] train: 0.7707 - val: 0.8234\n",
      "[081/300] train: 0.7711 - val: 0.8240\n",
      "[082/300] train: 0.7706 - val: 0.8245\n",
      "[083/300] train: 0.7714 - val: 0.8255\n",
      "[084/300] train: 0.7704 - val: 0.8239\n",
      "[085/300] train: 0.7704 - val: 0.8245\n",
      "[086/300] train: 0.7713 - val: 0.8243\n",
      "[087/300] train: 0.7695 - val: 0.8250\n",
      "[088/300] train: 0.7692 - val: 0.8264\n",
      "[089/300] train: 0.7699 - val: 0.8235\n",
      "[090/300] train: 0.7691 - val: 0.8264\n",
      "[091/300] train: 0.7689 - val: 0.8261\n",
      "[092/300] train: 0.7704 - val: 0.8258\n",
      "[093/300] train: 0.7697 - val: 0.8255\n",
      "[094/300] train: 0.7689 - val: 0.8267\n",
      "[095/300] train: 0.7683 - val: 0.8265\n",
      "[096/300] train: 0.7693 - val: 0.8261\n",
      "[097/300] train: 0.7700 - val: 0.8265\n",
      "[098/300] train: 0.7684 - val: 0.8265\n",
      "[099/300] train: 0.7685 - val: 0.8261\n",
      "[100/300] train: 0.7691 - val: 0.8254\n",
      "[101/300] train: 0.7682 - val: 0.8265\n",
      "[102/300] train: 0.7684 - val: 0.8281\n",
      "[103/300] train: 0.7686 - val: 0.8262\n",
      "[104/300] train: 0.7673 - val: 0.8254\n",
      "[105/300] train: 0.7685 - val: 0.8251\n",
      "[106/300] train: 0.7681 - val: 0.8272\n",
      "[107/300] train: 0.7677 - val: 0.8255\n",
      "[108/300] train: 0.7670 - val: 0.8264\n",
      "[109/300] train: 0.7684 - val: 0.8265\n",
      "[110/300] train: 0.7678 - val: 0.8259\n",
      "[111/300] train: 0.7675 - val: 0.8274\n",
      "[112/300] train: 0.7672 - val: 0.8270\n",
      "[113/300] train: 0.7672 - val: 0.8273\n",
      "[114/300] train: 0.7669 - val: 0.8254\n",
      "[115/300] train: 0.7664 - val: 0.8263\n",
      "[116/300] train: 0.7679 - val: 0.8262\n",
      "[117/300] train: 0.7676 - val: 0.8279\n",
      "[118/300] train: 0.7671 - val: 0.8270\n",
      "[119/300] train: 0.7676 - val: 0.8268\n",
      "[120/300] train: 0.7661 - val: 0.8271\n",
      "[121/300] train: 0.7673 - val: 0.8271\n",
      "[122/300] train: 0.7666 - val: 0.8277\n",
      "[123/300] train: 0.7668 - val: 0.8262\n",
      "[124/300] train: 0.7669 - val: 0.8288\n",
      "[125/300] train: 0.7660 - val: 0.8268\n",
      "[126/300] train: 0.7665 - val: 0.8273\n",
      "[127/300] train: 0.7659 - val: 0.8283\n",
      "[128/300] train: 0.7656 - val: 0.8265\n",
      "[129/300] train: 0.7657 - val: 0.8258\n",
      "[130/300] train: 0.7662 - val: 0.8286\n",
      "[131/300] train: 0.7656 - val: 0.8262\n",
      "[132/300] train: 0.7660 - val: 0.8288\n",
      "[133/300] train: 0.7664 - val: 0.8277\n",
      "[134/300] train: 0.7653 - val: 0.8267\n",
      "[135/300] train: 0.7658 - val: 0.8250\n",
      "[136/300] train: 0.7651 - val: 0.8278\n",
      "[137/300] train: 0.7659 - val: 0.8275\n",
      "[138/300] train: 0.7660 - val: 0.8285\n",
      "[139/300] train: 0.7655 - val: 0.8270\n",
      "[140/300] train: 0.7654 - val: 0.8274\n",
      "[141/300] train: 0.7648 - val: 0.8277\n",
      "[142/300] train: 0.7654 - val: 0.8274\n",
      "[143/300] train: 0.7652 - val: 0.8290\n",
      "[144/300] train: 0.7651 - val: 0.8262\n",
      "[145/300] train: 0.7652 - val: 0.8251\n",
      "[146/300] train: 0.7653 - val: 0.8270\n",
      "[147/300] train: 0.7646 - val: 0.8280\n",
      "[148/300] train: 0.7655 - val: 0.8271\n",
      "[149/300] train: 0.7653 - val: 0.8275\n",
      "[150/300] train: 0.7641 - val: 0.8280\n",
      "[151/300] train: 0.7648 - val: 0.8275\n",
      "[152/300] train: 0.7648 - val: 0.8264\n",
      "[153/300] train: 0.7644 - val: 0.8272\n",
      "[154/300] train: 0.7651 - val: 0.8283\n",
      "[155/300] train: 0.7651 - val: 0.8285\n",
      "[156/300] train: 0.7636 - val: 0.8286\n",
      "[157/300] train: 0.7642 - val: 0.8278\n",
      "[158/300] train: 0.7647 - val: 0.8270\n",
      "[159/300] train: 0.7646 - val: 0.8284\n",
      "[160/300] train: 0.7648 - val: 0.8279\n",
      "[161/300] train: 0.7641 - val: 0.8276\n",
      "[162/300] train: 0.7633 - val: 0.8297\n",
      "[163/300] train: 0.7643 - val: 0.8296\n",
      "[164/300] train: 0.7650 - val: 0.8272\n",
      "[165/300] train: 0.7638 - val: 0.8286\n",
      "[166/300] train: 0.7643 - val: 0.8299\n",
      "[167/300] train: 0.7647 - val: 0.8296\n",
      "[168/300] train: 0.7640 - val: 0.8275\n",
      "[169/300] train: 0.7650 - val: 0.8279\n",
      "[170/300] train: 0.7645 - val: 0.8277\n",
      "[171/300] train: 0.7634 - val: 0.8310\n",
      "[172/300] train: 0.7646 - val: 0.8280\n",
      "[173/300] train: 0.7641 - val: 0.8277\n",
      "[174/300] train: 0.7644 - val: 0.8266\n",
      "[175/300] train: 0.7632 - val: 0.8280\n",
      "[176/300] train: 0.7639 - val: 0.8256\n",
      "[177/300] train: 0.7636 - val: 0.8299\n",
      "[178/300] train: 0.7635 - val: 0.8290\n",
      "[179/300] train: 0.7646 - val: 0.8271\n",
      "[180/300] train: 0.7636 - val: 0.8296\n",
      "[181/300] train: 0.7634 - val: 0.8304\n",
      "[182/300] train: 0.7644 - val: 0.8293\n",
      "[183/300] train: 0.7632 - val: 0.8283\n",
      "[184/300] train: 0.7631 - val: 0.8281\n",
      "[185/300] train: 0.7627 - val: 0.8302\n",
      "[186/300] train: 0.7631 - val: 0.8281\n",
      "[187/300] train: 0.7633 - val: 0.8271\n",
      "[188/300] train: 0.7635 - val: 0.8281\n",
      "[189/300] train: 0.7634 - val: 0.8271\n",
      "[190/300] train: 0.7627 - val: 0.8289\n",
      "[191/300] train: 0.7632 - val: 0.8303\n",
      "[192/300] train: 0.7635 - val: 0.8295\n",
      "[193/300] train: 0.7636 - val: 0.8286\n",
      "[194/300] train: 0.7623 - val: 0.8283\n",
      "[195/300] train: 0.7632 - val: 0.8259\n",
      "[196/300] train: 0.7631 - val: 0.8274\n",
      "[197/300] train: 0.7619 - val: 0.8274\n",
      "[198/300] train: 0.7627 - val: 0.8303\n",
      "[199/300] train: 0.7633 - val: 0.8290\n",
      "[200/300] train: 0.7623 - val: 0.8282\n",
      "[201/300] train: 0.7623 - val: 0.8292\n",
      "[202/300] train: 0.7616 - val: 0.8293\n",
      "[203/300] train: 0.7621 - val: 0.8296\n",
      "[204/300] train: 0.7629 - val: 0.8303\n",
      "[205/300] train: 0.7632 - val: 0.8285\n",
      "[206/300] train: 0.7617 - val: 0.8300\n",
      "[207/300] train: 0.7624 - val: 0.8286\n",
      "[208/300] train: 0.7617 - val: 0.8265\n",
      "[209/300] train: 0.7625 - val: 0.8286\n",
      "[210/300] train: 0.7628 - val: 0.8301\n",
      "[211/300] train: 0.7625 - val: 0.8287\n",
      "[212/300] train: 0.7626 - val: 0.8294\n",
      "[213/300] train: 0.7631 - val: 0.8289\n",
      "[214/300] train: 0.7622 - val: 0.8299\n",
      "[215/300] train: 0.7621 - val: 0.8298\n",
      "[216/300] train: 0.7621 - val: 0.8279\n",
      "[217/300] train: 0.7620 - val: 0.8296\n",
      "[218/300] train: 0.7629 - val: 0.8291\n",
      "[219/300] train: 0.7618 - val: 0.8287\n",
      "[220/300] train: 0.7622 - val: 0.8292\n",
      "[221/300] train: 0.7619 - val: 0.8263\n",
      "[222/300] train: 0.7623 - val: 0.8277\n",
      "[223/300] train: 0.7621 - val: 0.8284\n",
      "[224/300] train: 0.7623 - val: 0.8289\n",
      "[225/300] train: 0.7606 - val: 0.8294\n",
      "[226/300] train: 0.7620 - val: 0.8281\n",
      "[227/300] train: 0.7617 - val: 0.8301\n",
      "[228/300] train: 0.7620 - val: 0.8284\n",
      "[229/300] train: 0.7623 - val: 0.8304\n",
      "[230/300] train: 0.7619 - val: 0.8288\n",
      "[231/300] train: 0.7615 - val: 0.8315\n",
      "[232/300] train: 0.7618 - val: 0.8284\n",
      "[233/300] train: 0.7612 - val: 0.8286\n",
      "[234/300] train: 0.7620 - val: 0.8294\n",
      "[235/300] train: 0.7609 - val: 0.8303\n",
      "[236/300] train: 0.7621 - val: 0.8290\n",
      "[237/300] train: 0.7616 - val: 0.8314\n",
      "[238/300] train: 0.7611 - val: 0.8291\n",
      "[239/300] train: 0.7618 - val: 0.8285\n",
      "[240/300] train: 0.7626 - val: 0.8310\n",
      "[241/300] train: 0.7614 - val: 0.8296\n",
      "[242/300] train: 0.7611 - val: 0.8295\n",
      "[243/300] train: 0.7623 - val: 0.8294\n",
      "[244/300] train: 0.7609 - val: 0.8300\n",
      "[245/300] train: 0.7609 - val: 0.8283\n",
      "[246/300] train: 0.7611 - val: 0.8303\n",
      "[247/300] train: 0.7617 - val: 0.8295\n",
      "[248/300] train: 0.7600 - val: 0.8300\n",
      "[249/300] train: 0.7614 - val: 0.8294\n",
      "[250/300] train: 0.7614 - val: 0.8313\n",
      "[251/300] train: 0.7612 - val: 0.8290\n",
      "[252/300] train: 0.7619 - val: 0.8309\n",
      "[253/300] train: 0.7601 - val: 0.8298\n",
      "[254/300] train: 0.7618 - val: 0.8299\n",
      "[255/300] train: 0.7614 - val: 0.8303\n",
      "[256/300] train: 0.7610 - val: 0.8294\n",
      "[257/300] train: 0.7611 - val: 0.8311\n",
      "[258/300] train: 0.7604 - val: 0.8299\n",
      "[259/300] train: 0.7611 - val: 0.8298\n",
      "[260/300] train: 0.7600 - val: 0.8283\n",
      "[261/300] train: 0.7614 - val: 0.8294\n",
      "[262/300] train: 0.7615 - val: 0.8284\n",
      "[263/300] train: 0.7608 - val: 0.8305\n",
      "[264/300] train: 0.7604 - val: 0.8294\n",
      "[265/300] train: 0.7609 - val: 0.8311\n",
      "[266/300] train: 0.7613 - val: 0.8292\n",
      "[267/300] train: 0.7604 - val: 0.8309\n",
      "[268/300] train: 0.7610 - val: 0.8275\n",
      "[269/300] train: 0.7606 - val: 0.8313\n",
      "[270/300] train: 0.7599 - val: 0.8310\n",
      "[271/300] train: 0.7611 - val: 0.8295\n",
      "[272/300] train: 0.7611 - val: 0.8306\n",
      "[273/300] train: 0.7607 - val: 0.8311\n",
      "[274/300] train: 0.7598 - val: 0.8302\n",
      "[275/300] train: 0.7605 - val: 0.8292\n",
      "[276/300] train: 0.7613 - val: 0.8296\n",
      "[277/300] train: 0.7613 - val: 0.8306\n",
      "[278/300] train: 0.7609 - val: 0.8312\n",
      "[279/300] train: 0.7615 - val: 0.8293\n",
      "[280/300] train: 0.7591 - val: 0.8300\n",
      "[281/300] train: 0.7606 - val: 0.8311\n",
      "[282/300] train: 0.7603 - val: 0.8292\n",
      "[283/300] train: 0.7611 - val: 0.8299\n",
      "[284/300] train: 0.7601 - val: 0.8282\n",
      "[285/300] train: 0.7607 - val: 0.8308\n",
      "[286/300] train: 0.7604 - val: 0.8290\n",
      "[287/300] train: 0.7602 - val: 0.8302\n",
      "[288/300] train: 0.7607 - val: 0.8297\n",
      "[289/300] train: 0.7594 - val: 0.8289\n",
      "[290/300] train: 0.7611 - val: 0.8318\n",
      "[291/300] train: 0.7612 - val: 0.8297\n",
      "[292/300] train: 0.7606 - val: 0.8299\n",
      "[293/300] train: 0.7607 - val: 0.8294\n",
      "[294/300] train: 0.7596 - val: 0.8320\n",
      "[295/300] train: 0.7604 - val: 0.8282\n",
      "[296/300] train: 0.7599 - val: 0.8302\n",
      "[297/300] train: 0.7604 - val: 0.8294\n",
      "[298/300] train: 0.7605 - val: 0.8289\n",
      "[299/300] train: 0.7602 - val: 0.8296\n",
      "[300/300] train: 0.7598 - val: 0.8298\n"
     ]
    }
   ],
   "source": [
    "for epoch in range(n_epochs):\n",
    "    stats = {'epoch': epoch + 1, 'total': n_epochs}\n",
    "\n",
    "    for phase in ('train', 'val'):\n",
    "        if phase == 'train':\n",
    "          training = True\n",
    "        else:\n",
    "          training = False\n",
    "        running_loss = 0\n",
    "        n_batches = 0\n",
    "        for batch in batches(*datasets[phase], shuffle=training, bs=bs):\n",
    "            x_batch, y_batch = [b.to(device) for b in batch]\n",
    "            optimizer.zero_grad()\n",
    "            # compute gradients only during 'train' phase\n",
    "            with torch.set_grad_enabled(training):\n",
    "                outputs = net(x_batch[:,0], x_batch[:,1], minmax)\n",
    "                loss = criterion(outputs, y_batch)\n",
    "                # don't update weights and rates when in 'val' phase\n",
    "                if training:\n",
    "                    #scheduler.step()\n",
    "                    loss.backward()\n",
    "                    optimizer.step()\n",
    "                    #lr_history.extend(scheduler.get_lr())\n",
    "            running_loss += loss.item()\n",
    "        epoch_loss = running_loss / dataset_sizes[phase]\n",
    "        stats[phase] = epoch_loss\n",
    "        # early stopping: save weights of the best model so far\n",
    "        if phase == 'val':\n",
    "            if epoch_loss < best_loss:\n",
    "                print('loss improvement on epoch: %d' % (epoch + 1))\n",
    "                best_loss = epoch_loss\n",
    "                best_weights = copy.deepcopy(net.state_dict())\n",
    "                no_improvements = 0\n",
    "            else:\n",
    "                no_improvements += 1\n",
    "    history.append(stats)\n",
    "    print('[{epoch:03d}/{total:03d}] train: {train:.4f} - val: {val:.4f}'.format(**stats))\n",
    "    if no_improvements >= patience:\n",
    "        print('early stopping after epoch {epoch:03d}'.format(**stats))\n",
    "        break"
   ],
   "metadata": {
    "collapsed": false,
    "pycharm": {
     "name": "#%%\n"
    }
   }
  },
  {
   "cell_type": "code",
   "execution_count": 64,
   "outputs": [
    {
     "data": {
      "text/plain": "<Figure size 432x288 with 1 Axes>",
      "image/png": "[encoded data removed]"
     },
     "metadata": {
      "needs_background": "light"
     },
     "output_type": "display_data"
    }
   ],
   "source": [
    "ax = pd.DataFrame(history).drop(columns='total').plot(x='epoch')"
   ],
   "metadata": {
    "collapsed": false,
    "pycharm": {
     "name": "#%%\n"
    }
   }
  },
  {
   "cell_type": "code",
   "execution_count": 65,
   "outputs": [],
   "source": [
    "# Plot decreasing learning rate\n",
    "\n",
    "#_ = plt.plot(lr_history[:2*iterations_per_epoch-1])"
   ],
   "metadata": {
    "collapsed": false,
    "pycharm": {
     "name": "#%%\n"
    }
   }
  },
  {
   "cell_type": "code",
   "execution_count": 66,
   "outputs": [
    {
     "data": {
      "text/plain": "<All keys matched successfully>"
     },
     "execution_count": 66,
     "metadata": {},
     "output_type": "execute_result"
    }
   ],
   "source": [
    "net.load_state_dict(best_weights)"
   ],
   "metadata": {
    "collapsed": false,
    "pycharm": {
     "name": "#%%\n"
    }
   }
  },
  {
   "cell_type": "code",
   "execution_count": 67,
   "outputs": [],
   "source": [
    "groud_truth, predictions = [], []\n",
    "\n",
    "with torch.no_grad():\n",
    "    for batch in batches(*datasets['val'], shuffle=False, bs=bs):\n",
    "        x_batch, y_batch = [b.to(device) for b in batch]\n",
    "        outputs = net(x_batch[:, 0], x_batch[:, 1], minmax)\n",
    "        groud_truth.extend(y_batch.tolist())\n",
    "        predictions.extend(outputs.tolist())\n",
    "\n",
    "groud_truth = np.asarray(groud_truth).ravel()\n",
    "predictions = np.asarray(predictions).ravel()"
   ],
   "metadata": {
    "collapsed": false,
    "pycharm": {
     "name": "#%%\n"
    }
   }
  },
  {
   "cell_type": "code",
   "execution_count": 68,
   "outputs": [
    {
     "name": "stdout",
     "output_type": "stream",
     "text": [
      "Validation RMSE: 0.9147\n"
     ]
    }
   ],
   "source": [
    "valid_loss = np.sqrt(np.mean((predictions - groud_truth)**2))\n",
    "print(f'Validation RMSE: {valid_loss:.4f}')"
   ],
   "metadata": {
    "collapsed": false,
    "pycharm": {
     "name": "#%%\n"
    }
   }
  },
  {
   "cell_type": "code",
   "execution_count": 69,
   "outputs": [],
   "source": [
    "groud_truth, predictions = [], []\n",
    "\n",
    "with torch.no_grad():\n",
    "    for batch in batches(*datasets['test'], shuffle=False, bs=bs):\n",
    "        x_batch, y_batch = [b.to(device) for b in batch]\n",
    "        outputs = net(x_batch[:, 0], x_batch[:, 1], minmax)\n",
    "        groud_truth.extend(y_batch.tolist())\n",
    "        predictions.extend(outputs.tolist())\n",
    "\n",
    "groud_truth = np.asarray(groud_truth).ravel()\n",
    "predictions = np.asarray(predictions).ravel()"
   ],
   "metadata": {
    "collapsed": false,
    "pycharm": {
     "name": "#%%\n"
    }
   }
  },
  {
   "cell_type": "code",
   "execution_count": 70,
   "outputs": [
    {
     "name": "stdout",
     "output_type": "stream",
     "text": [
      "Final RMSE: 0.9169\n"
     ]
    }
   ],
   "source": [
    "final_loss = np.sqrt(np.mean((predictions - groud_truth)**2))\n",
    "print(f'Final RMSE: {final_loss:.4f}')"
   ],
   "metadata": {
    "collapsed": false,
    "pycharm": {
     "name": "#%%\n"
    }
   }
  },
  {
   "cell_type": "code",
   "execution_count": 71,
   "outputs": [],
   "source": [
    "with open('best.weights.small', 'wb') as file:\n",
    "    pickle.dump(best_weights, file)"
   ],
   "metadata": {
    "collapsed": false,
    "pycharm": {
     "name": "#%%\n"
    }
   }
  },
  {
   "cell_type": "code",
   "execution_count": 72,
   "outputs": [
    {
     "name": "stdout",
     "output_type": "stream",
     "text": [
      "duration: 254.2543\n"
     ]
    }
   ],
   "source": [
    "print(f'duration: {round(time.time() - start, 4)}')"
   ],
   "metadata": {
    "collapsed": false,
    "pycharm": {
     "name": "#%%\n"
    }
   }
  },
  {
   "cell_type": "code",
   "execution_count": 72,
   "outputs": [],
   "source": [],
   "metadata": {
    "collapsed": false,
    "pycharm": {
     "name": "#%%\n"
    }
   }
  },
  {
   "cell_type": "code",
   "execution_count": 73,
   "outputs": [],
   "source": [
    "# medium net\n",
    "\n",
    "start = time.time()\n",
    "net = RecommenderNet(\n",
    "    n_users=n, n_movies=m,\n",
    "    n_factors=20, hidden=[10 ,10],\n",
    "    embedding_dropout=0.05, dropouts=[0.3, 0.3])"
   ],
   "metadata": {
    "collapsed": false,
    "pycharm": {
     "name": "#%%\n"
    }
   }
  },
  {
   "cell_type": "code",
   "execution_count": 74,
   "outputs": [],
   "source": [
    "lr = 1e-3\n",
    "wd = 1e-5\n",
    "bs = 4096\n",
    "n_epochs = 300\n",
    "patience = 300\n",
    "no_improvements = 0\n",
    "best_loss = np.inf\n",
    "best_weights = None\n",
    "history = []\n",
    "lr_history = []\n",
    "\n",
    "device = torch.device('cuda:0' if torch.cuda.is_available() else 'cpu')\n",
    "\n",
    "net.to(device)\n",
    "criterion = nn.MSELoss(reduction='sum')\n",
    "optimizer = optim.Adam(net.parameters(), lr=lr, weight_decay=wd)\n",
    "#iterations_per_epoch = int(math.ceil(dataset_sizes['train'] // bs))\n",
    "#scheduler = CyclicLR(optimizer, cosine(t_max=iterations_per_epoch * 2, eta_min=lr/10))"
   ],
   "metadata": {
    "collapsed": false,
    "pycharm": {
     "name": "#%%\n"
    }
   }
  },
  {
   "cell_type": "code",
   "execution_count": 75,
   "outputs": [
    {
     "name": "stdout",
     "output_type": "stream",
     "text": [
      "loss improvement on epoch: 1\n",
      "[001/300] train: 1.1055 - val: 0.9449\n",
      "loss improvement on epoch: 2\n",
      "[002/300] train: 0.9220 - val: 0.8881\n",
      "loss improvement on epoch: 3\n",
      "[003/300] train: 0.8831 - val: 0.8725\n",
      "loss improvement on epoch: 4\n",
      "[004/300] train: 0.8654 - val: 0.8633\n",
      "loss improvement on epoch: 5\n",
      "[005/300] train: 0.8539 - val: 0.8575\n",
      "loss improvement on epoch: 6\n",
      "[006/300] train: 0.8468 - val: 0.8554\n",
      "loss improvement on epoch: 7\n",
      "[007/300] train: 0.8427 - val: 0.8545\n",
      "loss improvement on epoch: 8\n",
      "[008/300] train: 0.8384 - val: 0.8521\n",
      "[009/300] train: 0.8363 - val: 0.8537\n",
      "[010/300] train: 0.8328 - val: 0.8527\n",
      "loss improvement on epoch: 11\n",
      "[011/300] train: 0.8297 - val: 0.8517\n",
      "[012/300] train: 0.8286 - val: 0.8525\n",
      "[013/300] train: 0.8265 - val: 0.8537\n",
      "[014/300] train: 0.8250 - val: 0.8544\n",
      "[015/300] train: 0.8234 - val: 0.8539\n",
      "[016/300] train: 0.8219 - val: 0.8536\n",
      "[017/300] train: 0.8200 - val: 0.8546\n",
      "[018/300] train: 0.8188 - val: 0.8538\n",
      "[019/300] train: 0.8173 - val: 0.8531\n",
      "[020/300] train: 0.8160 - val: 0.8543\n",
      "[021/300] train: 0.8154 - val: 0.8536\n",
      "[022/300] train: 0.8147 - val: 0.8533\n",
      "[023/300] train: 0.8130 - val: 0.8542\n",
      "[024/300] train: 0.8123 - val: 0.8552\n",
      "[025/300] train: 0.8111 - val: 0.8533\n",
      "[026/300] train: 0.8111 - val: 0.8541\n",
      "[027/300] train: 0.8099 - val: 0.8549\n",
      "[028/300] train: 0.8101 - val: 0.8529\n",
      "[029/300] train: 0.8085 - val: 0.8550\n",
      "[030/300] train: 0.8079 - val: 0.8554\n",
      "[031/300] train: 0.8073 - val: 0.8526\n",
      "[032/300] train: 0.8057 - val: 0.8555\n",
      "[033/300] train: 0.8046 - val: 0.8556\n",
      "[034/300] train: 0.8044 - val: 0.8559\n",
      "[035/300] train: 0.8060 - val: 0.8541\n",
      "[036/300] train: 0.8041 - val: 0.8562\n",
      "[037/300] train: 0.8039 - val: 0.8559\n",
      "[038/300] train: 0.8029 - val: 0.8544\n",
      "[039/300] train: 0.8025 - val: 0.8566\n",
      "[040/300] train: 0.8023 - val: 0.8556\n",
      "[041/300] train: 0.8014 - val: 0.8549\n",
      "[042/300] train: 0.8008 - val: 0.8568\n",
      "[043/300] train: 0.8016 - val: 0.8565\n",
      "[044/300] train: 0.8005 - val: 0.8548\n",
      "[045/300] train: 0.8003 - val: 0.8561\n",
      "[046/300] train: 0.8000 - val: 0.8551\n",
      "[047/300] train: 0.7987 - val: 0.8596\n",
      "[048/300] train: 0.7996 - val: 0.8560\n",
      "[049/300] train: 0.7991 - val: 0.8566\n",
      "[050/300] train: 0.7980 - val: 0.8588\n",
      "[051/300] train: 0.7990 - val: 0.8564\n",
      "[052/300] train: 0.7992 - val: 0.8579\n",
      "[053/300] train: 0.7978 - val: 0.8607\n",
      "[054/300] train: 0.7976 - val: 0.8583\n",
      "[055/300] train: 0.7967 - val: 0.8596\n",
      "[056/300] train: 0.7968 - val: 0.8581\n",
      "[057/300] train: 0.7947 - val: 0.8570\n",
      "[058/300] train: 0.7960 - val: 0.8596\n",
      "[059/300] train: 0.7954 - val: 0.8587\n",
      "[060/300] train: 0.7949 - val: 0.8580\n",
      "[061/300] train: 0.7949 - val: 0.8589\n",
      "[062/300] train: 0.7946 - val: 0.8594\n",
      "[063/300] train: 0.7954 - val: 0.8583\n",
      "[064/300] train: 0.7942 - val: 0.8571\n",
      "[065/300] train: 0.7936 - val: 0.8608\n",
      "[066/300] train: 0.7934 - val: 0.8597\n",
      "[067/300] train: 0.7927 - val: 0.8591\n",
      "[068/300] train: 0.7934 - val: 0.8597\n",
      "[069/300] train: 0.7931 - val: 0.8588\n",
      "[070/300] train: 0.7926 - val: 0.8616\n",
      "[071/300] train: 0.7919 - val: 0.8600\n",
      "[072/300] train: 0.7923 - val: 0.8585\n",
      "[073/300] train: 0.7916 - val: 0.8596\n",
      "[074/300] train: 0.7925 - val: 0.8601\n",
      "[075/300] train: 0.7923 - val: 0.8578\n",
      "[076/300] train: 0.7923 - val: 0.8602\n",
      "[077/300] train: 0.7921 - val: 0.8600\n",
      "[078/300] train: 0.7911 - val: 0.8614\n",
      "[079/300] train: 0.7902 - val: 0.8615\n",
      "[080/300] train: 0.7904 - val: 0.8610\n",
      "[081/300] train: 0.7911 - val: 0.8591\n",
      "[082/300] train: 0.7906 - val: 0.8595\n",
      "[083/300] train: 0.7903 - val: 0.8594\n",
      "[084/300] train: 0.7903 - val: 0.8592\n",
      "[085/300] train: 0.7894 - val: 0.8602\n",
      "[086/300] train: 0.7889 - val: 0.8616\n",
      "[087/300] train: 0.7899 - val: 0.8599\n",
      "[088/300] train: 0.7905 - val: 0.8613\n",
      "[089/300] train: 0.7901 - val: 0.8608\n",
      "[090/300] train: 0.7882 - val: 0.8622\n",
      "[091/300] train: 0.7882 - val: 0.8619\n",
      "[092/300] train: 0.7893 - val: 0.8625\n",
      "[093/300] train: 0.7890 - val: 0.8584\n",
      "[094/300] train: 0.7882 - val: 0.8611\n",
      "[095/300] train: 0.7889 - val: 0.8622\n",
      "[096/300] train: 0.7885 - val: 0.8614\n",
      "[097/300] train: 0.7876 - val: 0.8600\n",
      "[098/300] train: 0.7868 - val: 0.8632\n",
      "[099/300] train: 0.7896 - val: 0.8600\n",
      "[100/300] train: 0.7886 - val: 0.8582\n",
      "[101/300] train: 0.7879 - val: 0.8629\n",
      "[102/300] train: 0.7869 - val: 0.8624\n",
      "[103/300] train: 0.7870 - val: 0.8636\n",
      "[104/300] train: 0.7880 - val: 0.8638\n",
      "[105/300] train: 0.7878 - val: 0.8635\n",
      "[106/300] train: 0.7866 - val: 0.8634\n",
      "[107/300] train: 0.7866 - val: 0.8641\n",
      "[108/300] train: 0.7862 - val: 0.8627\n",
      "[109/300] train: 0.7869 - val: 0.8630\n",
      "[110/300] train: 0.7867 - val: 0.8615\n",
      "[111/300] train: 0.7865 - val: 0.8628\n",
      "[112/300] train: 0.7860 - val: 0.8627\n",
      "[113/300] train: 0.7865 - val: 0.8596\n",
      "[114/300] train: 0.7867 - val: 0.8610\n",
      "[115/300] train: 0.7856 - val: 0.8614\n",
      "[116/300] train: 0.7851 - val: 0.8614\n",
      "[117/300] train: 0.7856 - val: 0.8604\n",
      "[118/300] train: 0.7848 - val: 0.8603\n",
      "[119/300] train: 0.7847 - val: 0.8630\n",
      "[120/300] train: 0.7863 - val: 0.8629\n",
      "[121/300] train: 0.7864 - val: 0.8614\n",
      "[122/300] train: 0.7850 - val: 0.8615\n",
      "[123/300] train: 0.7838 - val: 0.8623\n",
      "[124/300] train: 0.7855 - val: 0.8656\n",
      "[125/300] train: 0.7839 - val: 0.8611\n",
      "[126/300] train: 0.7860 - val: 0.8634\n",
      "[127/300] train: 0.7858 - val: 0.8647\n",
      "[128/300] train: 0.7843 - val: 0.8634\n",
      "[129/300] train: 0.7850 - val: 0.8615\n",
      "[130/300] train: 0.7841 - val: 0.8619\n",
      "[131/300] train: 0.7851 - val: 0.8623\n",
      "[132/300] train: 0.7840 - val: 0.8599\n",
      "[133/300] train: 0.7833 - val: 0.8626\n",
      "[134/300] train: 0.7839 - val: 0.8606\n",
      "[135/300] train: 0.7843 - val: 0.8639\n",
      "[136/300] train: 0.7833 - val: 0.8643\n",
      "[137/300] train: 0.7832 - val: 0.8627\n",
      "[138/300] train: 0.7825 - val: 0.8640\n",
      "[139/300] train: 0.7829 - val: 0.8603\n",
      "[140/300] train: 0.7831 - val: 0.8602\n",
      "[141/300] train: 0.7831 - val: 0.8632\n",
      "[142/300] train: 0.7822 - val: 0.8627\n",
      "[143/300] train: 0.7822 - val: 0.8625\n",
      "[144/300] train: 0.7826 - val: 0.8632\n",
      "[145/300] train: 0.7828 - val: 0.8621\n",
      "[146/300] train: 0.7835 - val: 0.8646\n",
      "[147/300] train: 0.7838 - val: 0.8645\n",
      "[148/300] train: 0.7837 - val: 0.8623\n",
      "[149/300] train: 0.7815 - val: 0.8614\n",
      "[150/300] train: 0.7817 - val: 0.8662\n",
      "[151/300] train: 0.7823 - val: 0.8612\n",
      "[152/300] train: 0.7833 - val: 0.8617\n",
      "[153/300] train: 0.7824 - val: 0.8625\n",
      "[154/300] train: 0.7830 - val: 0.8630\n",
      "[155/300] train: 0.7823 - val: 0.8651\n",
      "[156/300] train: 0.7819 - val: 0.8622\n",
      "[157/300] train: 0.7818 - val: 0.8646\n",
      "[158/300] train: 0.7822 - val: 0.8643\n",
      "[159/300] train: 0.7818 - val: 0.8649\n",
      "[160/300] train: 0.7813 - val: 0.8630\n",
      "[161/300] train: 0.7817 - val: 0.8611\n",
      "[162/300] train: 0.7829 - val: 0.8626\n",
      "[163/300] train: 0.7816 - val: 0.8634\n",
      "[164/300] train: 0.7818 - val: 0.8638\n",
      "[165/300] train: 0.7816 - val: 0.8638\n",
      "[166/300] train: 0.7811 - val: 0.8642\n",
      "[167/300] train: 0.7814 - val: 0.8614\n",
      "[168/300] train: 0.7809 - val: 0.8643\n",
      "[169/300] train: 0.7821 - val: 0.8638\n",
      "[170/300] train: 0.7806 - val: 0.8646\n",
      "[171/300] train: 0.7806 - val: 0.8618\n",
      "[172/300] train: 0.7820 - val: 0.8623\n",
      "[173/300] train: 0.7811 - val: 0.8624\n",
      "[174/300] train: 0.7817 - val: 0.8638\n",
      "[175/300] train: 0.7818 - val: 0.8648\n",
      "[176/300] train: 0.7805 - val: 0.8640\n",
      "[177/300] train: 0.7813 - val: 0.8618\n",
      "[178/300] train: 0.7814 - val: 0.8625\n",
      "[179/300] train: 0.7812 - val: 0.8638\n",
      "[180/300] train: 0.7801 - val: 0.8622\n",
      "[181/300] train: 0.7808 - val: 0.8641\n",
      "[182/300] train: 0.7805 - val: 0.8653\n",
      "[183/300] train: 0.7814 - val: 0.8627\n",
      "[184/300] train: 0.7823 - val: 0.8642\n",
      "[185/300] train: 0.7812 - val: 0.8669\n",
      "[186/300] train: 0.7808 - val: 0.8639\n",
      "[187/300] train: 0.7805 - val: 0.8651\n",
      "[188/300] train: 0.7809 - val: 0.8627\n",
      "[189/300] train: 0.7807 - val: 0.8657\n",
      "[190/300] train: 0.7798 - val: 0.8652\n",
      "[191/300] train: 0.7801 - val: 0.8637\n",
      "[192/300] train: 0.7796 - val: 0.8628\n",
      "[193/300] train: 0.7797 - val: 0.8635\n",
      "[194/300] train: 0.7804 - val: 0.8654\n",
      "[195/300] train: 0.7797 - val: 0.8610\n",
      "[196/300] train: 0.7788 - val: 0.8671\n",
      "[197/300] train: 0.7797 - val: 0.8635\n",
      "[198/300] train: 0.7795 - val: 0.8621\n",
      "[199/300] train: 0.7801 - val: 0.8632\n",
      "[200/300] train: 0.7803 - val: 0.8672\n",
      "[201/300] train: 0.7790 - val: 0.8649\n",
      "[202/300] train: 0.7802 - val: 0.8650\n",
      "[203/300] train: 0.7790 - val: 0.8655\n",
      "[204/300] train: 0.7790 - val: 0.8639\n",
      "[205/300] train: 0.7782 - val: 0.8656\n",
      "[206/300] train: 0.7796 - val: 0.8667\n",
      "[207/300] train: 0.7791 - val: 0.8671\n",
      "[208/300] train: 0.7796 - val: 0.8653\n",
      "[209/300] train: 0.7780 - val: 0.8657\n",
      "[210/300] train: 0.7796 - val: 0.8646\n",
      "[211/300] train: 0.7786 - val: 0.8627\n",
      "[212/300] train: 0.7793 - val: 0.8658\n",
      "[213/300] train: 0.7791 - val: 0.8641\n",
      "[214/300] train: 0.7780 - val: 0.8656\n",
      "[215/300] train: 0.7790 - val: 0.8647\n",
      "[216/300] train: 0.7794 - val: 0.8654\n",
      "[217/300] train: 0.7800 - val: 0.8665\n",
      "[218/300] train: 0.7789 - val: 0.8664\n",
      "[219/300] train: 0.7784 - val: 0.8645\n",
      "[220/300] train: 0.7790 - val: 0.8667\n",
      "[221/300] train: 0.7778 - val: 0.8657\n",
      "[222/300] train: 0.7788 - val: 0.8659\n",
      "[223/300] train: 0.7782 - val: 0.8649\n",
      "[224/300] train: 0.7789 - val: 0.8662\n",
      "[225/300] train: 0.7793 - val: 0.8645\n",
      "[226/300] train: 0.7800 - val: 0.8639\n",
      "[227/300] train: 0.7788 - val: 0.8638\n",
      "[228/300] train: 0.7784 - val: 0.8671\n",
      "[229/300] train: 0.7790 - val: 0.8667\n",
      "[230/300] train: 0.7789 - val: 0.8648\n",
      "[231/300] train: 0.7797 - val: 0.8637\n",
      "[232/300] train: 0.7785 - val: 0.8654\n",
      "[233/300] train: 0.7790 - val: 0.8622\n",
      "[234/300] train: 0.7782 - val: 0.8676\n",
      "[235/300] train: 0.7778 - val: 0.8656\n",
      "[236/300] train: 0.7783 - val: 0.8644\n",
      "[237/300] train: 0.7787 - val: 0.8645\n",
      "[238/300] train: 0.7771 - val: 0.8661\n",
      "[239/300] train: 0.7779 - val: 0.8658\n",
      "[240/300] train: 0.7783 - val: 0.8632\n",
      "[241/300] train: 0.7784 - val: 0.8646\n",
      "[242/300] train: 0.7775 - val: 0.8640\n",
      "[243/300] train: 0.7778 - val: 0.8673\n",
      "[244/300] train: 0.7775 - val: 0.8642\n",
      "[245/300] train: 0.7770 - val: 0.8642\n",
      "[246/300] train: 0.7770 - val: 0.8654\n",
      "[247/300] train: 0.7773 - val: 0.8678\n",
      "[248/300] train: 0.7777 - val: 0.8671\n",
      "[249/300] train: 0.7774 - val: 0.8647\n",
      "[250/300] train: 0.7762 - val: 0.8667\n",
      "[251/300] train: 0.7768 - val: 0.8688\n",
      "[252/300] train: 0.7771 - val: 0.8665\n",
      "[253/300] train: 0.7762 - val: 0.8672\n",
      "[254/300] train: 0.7772 - val: 0.8660\n",
      "[255/300] train: 0.7773 - val: 0.8647\n",
      "[256/300] train: 0.7766 - val: 0.8659\n",
      "[257/300] train: 0.7779 - val: 0.8640\n",
      "[258/300] train: 0.7765 - val: 0.8651\n",
      "[259/300] train: 0.7759 - val: 0.8655\n",
      "[260/300] train: 0.7761 - val: 0.8646\n",
      "[261/300] train: 0.7783 - val: 0.8681\n",
      "[262/300] train: 0.7774 - val: 0.8660\n",
      "[263/300] train: 0.7774 - val: 0.8636\n",
      "[264/300] train: 0.7785 - val: 0.8661\n",
      "[265/300] train: 0.7767 - val: 0.8632\n",
      "[266/300] train: 0.7757 - val: 0.8662\n",
      "[267/300] train: 0.7777 - val: 0.8660\n",
      "[268/300] train: 0.7759 - val: 0.8662\n",
      "[269/300] train: 0.7768 - val: 0.8658\n",
      "[270/300] train: 0.7763 - val: 0.8651\n",
      "[271/300] train: 0.7758 - val: 0.8661\n",
      "[272/300] train: 0.7765 - val: 0.8665\n",
      "[273/300] train: 0.7768 - val: 0.8660\n",
      "[274/300] train: 0.7766 - val: 0.8691\n",
      "[275/300] train: 0.7769 - val: 0.8671\n",
      "[276/300] train: 0.7760 - val: 0.8671\n",
      "[277/300] train: 0.7766 - val: 0.8673\n",
      "[278/300] train: 0.7763 - val: 0.8641\n",
      "[279/300] train: 0.7771 - val: 0.8658\n",
      "[280/300] train: 0.7771 - val: 0.8663\n",
      "[281/300] train: 0.7759 - val: 0.8656\n",
      "[282/300] train: 0.7769 - val: 0.8660\n",
      "[283/300] train: 0.7764 - val: 0.8680\n",
      "[284/300] train: 0.7751 - val: 0.8678\n",
      "[285/300] train: 0.7761 - val: 0.8661\n",
      "[286/300] train: 0.7763 - val: 0.8659\n",
      "[287/300] train: 0.7770 - val: 0.8653\n",
      "[288/300] train: 0.7753 - val: 0.8666\n",
      "[289/300] train: 0.7761 - val: 0.8648\n",
      "[290/300] train: 0.7771 - val: 0.8679\n",
      "[291/300] train: 0.7752 - val: 0.8675\n",
      "[292/300] train: 0.7758 - val: 0.8677\n",
      "[293/300] train: 0.7762 - val: 0.8662\n",
      "[294/300] train: 0.7766 - val: 0.8685\n",
      "[295/300] train: 0.7758 - val: 0.8677\n",
      "[296/300] train: 0.7770 - val: 0.8639\n",
      "[297/300] train: 0.7764 - val: 0.8637\n",
      "[298/300] train: 0.7753 - val: 0.8664\n",
      "[299/300] train: 0.7761 - val: 0.8657\n",
      "[300/300] train: 0.7772 - val: 0.8655\n"
     ]
    }
   ],
   "source": [
    "for epoch in range(n_epochs):\n",
    "    stats = {'epoch': epoch + 1, 'total': n_epochs}\n",
    "\n",
    "    for phase in ('train', 'val'):\n",
    "        if phase == 'train':\n",
    "          training = True\n",
    "        else:\n",
    "          training = False\n",
    "        running_loss = 0\n",
    "        n_batches = 0\n",
    "        for batch in batches(*datasets[phase], shuffle=training, bs=bs):\n",
    "            x_batch, y_batch = [b.to(device) for b in batch]\n",
    "            optimizer.zero_grad()\n",
    "            # compute gradients only during 'train' phase\n",
    "            with torch.set_grad_enabled(training):\n",
    "                outputs = net(x_batch[:,0], x_batch[:,1], minmax)\n",
    "                loss = criterion(outputs, y_batch)\n",
    "                # don't update weights and rates when in 'val' phase\n",
    "                if training:\n",
    "                    #scheduler.step()\n",
    "                    loss.backward()\n",
    "                    optimizer.step()\n",
    "                    #lr_history.extend(scheduler.get_lr())\n",
    "            running_loss += loss.item()\n",
    "        epoch_loss = running_loss / dataset_sizes[phase]\n",
    "        stats[phase] = epoch_loss\n",
    "        # early stopping: save weights of the best model so far\n",
    "        if phase == 'val':\n",
    "            if epoch_loss < best_loss:\n",
    "                print('loss improvement on epoch: %d' % (epoch + 1))\n",
    "                best_loss = epoch_loss\n",
    "                best_weights = copy.deepcopy(net.state_dict())\n",
    "                no_improvements = 0\n",
    "            else:\n",
    "                no_improvements += 1\n",
    "    history.append(stats)\n",
    "    print('[{epoch:03d}/{total:03d}] train: {train:.4f} - val: {val:.4f}'.format(**stats))\n",
    "    if no_improvements >= patience:\n",
    "        print('early stopping after epoch {epoch:03d}'.format(**stats))\n",
    "        break"
   ],
   "metadata": {
    "collapsed": false,
    "pycharm": {
     "name": "#%%\n"
    }
   }
  },
  {
   "cell_type": "code",
   "execution_count": 76,
   "outputs": [
    {
     "data": {
      "text/plain": "<Figure size 432x288 with 1 Axes>",
      "image/png": "[encoded data removed]"
     },
     "metadata": {
      "needs_background": "light"
     },
     "output_type": "display_data"
    }
   ],
   "source": [
    "ax = pd.DataFrame(history).drop(columns='total').plot(x='epoch')"
   ],
   "metadata": {
    "collapsed": false,
    "pycharm": {
     "name": "#%%\n"
    }
   }
  },
  {
   "cell_type": "code",
   "execution_count": 77,
   "outputs": [],
   "source": [
    "# Plot decreasing learning rate\n",
    "\n",
    "#_ = plt.plot(lr_history[:2*iterations_per_epoch-1])"
   ],
   "metadata": {
    "collapsed": false,
    "pycharm": {
     "name": "#%%\n"
    }
   }
  },
  {
   "cell_type": "code",
   "execution_count": 78,
   "outputs": [
    {
     "data": {
      "text/plain": "<All keys matched successfully>"
     },
     "execution_count": 78,
     "metadata": {},
     "output_type": "execute_result"
    }
   ],
   "source": [
    "net.load_state_dict(best_weights)"
   ],
   "metadata": {
    "collapsed": false,
    "pycharm": {
     "name": "#%%\n"
    }
   }
  },
  {
   "cell_type": "code",
   "execution_count": 79,
   "outputs": [],
   "source": [
    "groud_truth, predictions = [], []\n",
    "\n",
    "with torch.no_grad():\n",
    "    for batch in batches(*datasets['val'], shuffle=False, bs=bs):\n",
    "        x_batch, y_batch = [b.to(device) for b in batch]\n",
    "        outputs = net(x_batch[:, 0], x_batch[:, 1], minmax)\n",
    "        groud_truth.extend(y_batch.tolist())\n",
    "        predictions.extend(outputs.tolist())\n",
    "\n",
    "groud_truth = np.asarray(groud_truth).ravel()\n",
    "predictions = np.asarray(predictions).ravel()"
   ],
   "metadata": {
    "collapsed": false,
    "pycharm": {
     "name": "#%%\n"
    }
   }
  },
  {
   "cell_type": "code",
   "execution_count": 80,
   "outputs": [
    {
     "name": "stdout",
     "output_type": "stream",
     "text": [
      "Validation RMSE: 0.9315\n"
     ]
    }
   ],
   "source": [
    "valid_loss = np.sqrt(np.mean((predictions - groud_truth)**2))\n",
    "print(f'Validation RMSE: {valid_loss:.4f}')"
   ],
   "metadata": {
    "collapsed": false,
    "pycharm": {
     "name": "#%%\n"
    }
   }
  },
  {
   "cell_type": "code",
   "execution_count": 81,
   "outputs": [],
   "source": [
    "groud_truth, predictions = [], []\n",
    "\n",
    "with torch.no_grad():\n",
    "    for batch in batches(*datasets['test'], shuffle=False, bs=bs):\n",
    "        x_batch, y_batch = [b.to(device) for b in batch]\n",
    "        outputs = net(x_batch[:, 0], x_batch[:, 1], minmax)\n",
    "        groud_truth.extend(y_batch.tolist())\n",
    "        predictions.extend(outputs.tolist())\n",
    "\n",
    "groud_truth = np.asarray(groud_truth).ravel()\n",
    "predictions = np.asarray(predictions).ravel()"
   ],
   "metadata": {
    "collapsed": false,
    "pycharm": {
     "name": "#%%\n"
    }
   }
  },
  {
   "cell_type": "code",
   "execution_count": 82,
   "outputs": [
    {
     "name": "stdout",
     "output_type": "stream",
     "text": [
      "Final RMSE: 0.9349\n"
     ]
    }
   ],
   "source": [
    "final_loss = np.sqrt(np.mean((predictions - groud_truth)**2))\n",
    "print(f'Final RMSE: {final_loss:.4f}')"
   ],
   "metadata": {
    "collapsed": false,
    "pycharm": {
     "name": "#%%\n"
    }
   }
  },
  {
   "cell_type": "code",
   "execution_count": 83,
   "outputs": [],
   "source": [
    "with open('best.weights.medium', 'wb') as file:\n",
    "    pickle.dump(best_weights, file)"
   ],
   "metadata": {
    "collapsed": false,
    "pycharm": {
     "name": "#%%\n"
    }
   }
  },
  {
   "cell_type": "code",
   "execution_count": 84,
   "outputs": [
    {
     "name": "stdout",
     "output_type": "stream",
     "text": [
      "duration: 278.7559\n"
     ]
    }
   ],
   "source": [
    "print(f'duration: {round(time.time() - start, 4)}')"
   ],
   "metadata": {
    "collapsed": false,
    "pycharm": {
     "name": "#%%\n"
    }
   }
  },
  {
   "cell_type": "code",
   "execution_count": 84,
   "outputs": [],
   "source": [],
   "metadata": {
    "collapsed": false,
    "pycharm": {
     "name": "#%%\n"
    }
   }
  },
  {
   "cell_type": "code",
   "execution_count": 85,
   "outputs": [],
   "source": [
    "# big net\n",
    "\n",
    "start = time.time()\n",
    "net = RecommenderNet(\n",
    "    n_users=n, n_movies=m,\n",
    "    n_factors=50, hidden=[100, 100, 100],\n",
    "    embedding_dropout=0.05, dropouts=[0.3, 0.3, 0.3])"
   ],
   "metadata": {
    "collapsed": false,
    "pycharm": {
     "name": "#%%\n"
    }
   }
  },
  {
   "cell_type": "code",
   "execution_count": 86,
   "outputs": [],
   "source": [
    "lr = 1e-3\n",
    "wd = 1e-5\n",
    "bs = 4096\n",
    "n_epochs = 300\n",
    "patience = 300\n",
    "no_improvements = 0\n",
    "best_loss = np.inf\n",
    "best_weights = None\n",
    "history = []\n",
    "lr_history = []\n",
    "\n",
    "device = torch.device('cuda:0' if torch.cuda.is_available() else 'cpu')\n",
    "\n",
    "net.to(device)\n",
    "criterion = nn.MSELoss(reduction='sum')\n",
    "optimizer = optim.Adam(net.parameters(), lr=lr, weight_decay=wd)\n",
    "#iterations_per_epoch = int(math.ceil(dataset_sizes['train'] // bs))\n",
    "#scheduler = CyclicLR(optimizer, cosine(t_max=iterations_per_epoch * 2, eta_min=lr/10))"
   ],
   "metadata": {
    "collapsed": false,
    "pycharm": {
     "name": "#%%\n"
    }
   }
  },
  {
   "cell_type": "code",
   "execution_count": 87,
   "outputs": [
    {
     "name": "stdout",
     "output_type": "stream",
     "text": [
      "loss improvement on epoch: 1\n",
      "[001/300] train: 0.9864 - val: 0.8408\n",
      "loss improvement on epoch: 2\n",
      "[002/300] train: 0.8318 - val: 0.8165\n",
      "loss improvement on epoch: 3\n",
      "[003/300] train: 0.8082 - val: 0.8081\n",
      "loss improvement on epoch: 4\n",
      "[004/300] train: 0.7936 - val: 0.8054\n",
      "loss improvement on epoch: 5\n",
      "[005/300] train: 0.7791 - val: 0.7989\n",
      "loss improvement on epoch: 6\n",
      "[006/300] train: 0.7636 - val: 0.7945\n",
      "[007/300] train: 0.7475 - val: 0.7953\n",
      "[008/300] train: 0.7325 - val: 0.7976\n",
      "[009/300] train: 0.7187 - val: 0.8000\n",
      "[010/300] train: 0.7058 - val: 0.8058\n",
      "[011/300] train: 0.6915 - val: 0.8111\n",
      "[012/300] train: 0.6804 - val: 0.8113\n",
      "[013/300] train: 0.6689 - val: 0.8231\n",
      "[014/300] train: 0.6582 - val: 0.8233\n",
      "[015/300] train: 0.6491 - val: 0.8237\n",
      "[016/300] train: 0.6405 - val: 0.8326\n",
      "[017/300] train: 0.6310 - val: 0.8363\n",
      "[018/300] train: 0.6252 - val: 0.8385\n",
      "[019/300] train: 0.6183 - val: 0.8384\n",
      "[020/300] train: 0.6117 - val: 0.8452\n",
      "[021/300] train: 0.6066 - val: 0.8458\n",
      "[022/300] train: 0.6010 - val: 0.8553\n",
      "[023/300] train: 0.5959 - val: 0.8512\n",
      "[024/300] train: 0.5918 - val: 0.8503\n",
      "[025/300] train: 0.5882 - val: 0.8540\n",
      "[026/300] train: 0.5827 - val: 0.8599\n",
      "[027/300] train: 0.5799 - val: 0.8554\n",
      "[028/300] train: 0.5761 - val: 0.8627\n",
      "[029/300] train: 0.5709 - val: 0.8603\n",
      "[030/300] train: 0.5694 - val: 0.8584\n",
      "[031/300] train: 0.5661 - val: 0.8583\n",
      "[032/300] train: 0.5633 - val: 0.8747\n",
      "[033/300] train: 0.5613 - val: 0.8636\n",
      "[034/300] train: 0.5577 - val: 0.8653\n",
      "[035/300] train: 0.5551 - val: 0.8623\n",
      "[036/300] train: 0.5536 - val: 0.8646\n",
      "[037/300] train: 0.5491 - val: 0.8740\n",
      "[038/300] train: 0.5482 - val: 0.8682\n",
      "[039/300] train: 0.5474 - val: 0.8706\n",
      "[040/300] train: 0.5449 - val: 0.8709\n",
      "[041/300] train: 0.5426 - val: 0.8765\n",
      "[042/300] train: 0.5418 - val: 0.8710\n",
      "[043/300] train: 0.5387 - val: 0.8759\n",
      "[044/300] train: 0.5375 - val: 0.8703\n",
      "[045/300] train: 0.5364 - val: 0.8766\n",
      "[046/300] train: 0.5338 - val: 0.8792\n",
      "[047/300] train: 0.5334 - val: 0.8806\n",
      "[048/300] train: 0.5324 - val: 0.8755\n",
      "[049/300] train: 0.5300 - val: 0.8792\n",
      "[050/300] train: 0.5297 - val: 0.8811\n",
      "[051/300] train: 0.5283 - val: 0.8758\n",
      "[052/300] train: 0.5266 - val: 0.8745\n",
      "[053/300] train: 0.5266 - val: 0.8775\n",
      "[054/300] train: 0.5248 - val: 0.8775\n",
      "[055/300] train: 0.5226 - val: 0.8844\n",
      "[056/300] train: 0.5218 - val: 0.8766\n",
      "[057/300] train: 0.5207 - val: 0.8761\n",
      "[058/300] train: 0.5191 - val: 0.8802\n",
      "[059/300] train: 0.5175 - val: 0.8871\n",
      "[060/300] train: 0.5168 - val: 0.8783\n",
      "[061/300] train: 0.5169 - val: 0.8827\n",
      "[062/300] train: 0.5147 - val: 0.8796\n",
      "[063/300] train: 0.5150 - val: 0.8851\n",
      "[064/300] train: 0.5134 - val: 0.8860\n",
      "[065/300] train: 0.5124 - val: 0.8840\n",
      "[066/300] train: 0.5126 - val: 0.8832\n",
      "[067/300] train: 0.5116 - val: 0.8825\n",
      "[068/300] train: 0.5100 - val: 0.8878\n",
      "[069/300] train: 0.5101 - val: 0.8908\n",
      "[070/300] train: 0.5086 - val: 0.8788\n",
      "[071/300] train: 0.5083 - val: 0.8864\n",
      "[072/300] train: 0.5068 - val: 0.8910\n",
      "[073/300] train: 0.5058 - val: 0.8902\n",
      "[074/300] train: 0.5058 - val: 0.8901\n",
      "[075/300] train: 0.5047 - val: 0.8854\n",
      "[076/300] train: 0.5047 - val: 0.8874\n",
      "[077/300] train: 0.5038 - val: 0.8871\n",
      "[078/300] train: 0.5025 - val: 0.8835\n",
      "[079/300] train: 0.5030 - val: 0.8835\n",
      "[080/300] train: 0.5008 - val: 0.8988\n",
      "[081/300] train: 0.5009 - val: 0.8893\n",
      "[082/300] train: 0.5008 - val: 0.8895\n",
      "[083/300] train: 0.4998 - val: 0.8890\n",
      "[084/300] train: 0.4998 - val: 0.8872\n",
      "[085/300] train: 0.4978 - val: 0.8911\n",
      "[086/300] train: 0.4969 - val: 0.8922\n",
      "[087/300] train: 0.4978 - val: 0.8869\n",
      "[088/300] train: 0.4963 - val: 0.8866\n",
      "[089/300] train: 0.4967 - val: 0.8888\n",
      "[090/300] train: 0.4952 - val: 0.8854\n",
      "[091/300] train: 0.4950 - val: 0.8898\n",
      "[092/300] train: 0.4949 - val: 0.8901\n",
      "[093/300] train: 0.4944 - val: 0.8949\n",
      "[094/300] train: 0.4936 - val: 0.8931\n",
      "[095/300] train: 0.4932 - val: 0.8939\n",
      "[096/300] train: 0.4916 - val: 0.8962\n",
      "[097/300] train: 0.4908 - val: 0.8941\n",
      "[098/300] train: 0.4909 - val: 0.8841\n",
      "[099/300] train: 0.4921 - val: 0.8993\n",
      "[100/300] train: 0.4896 - val: 0.8936\n",
      "[101/300] train: 0.4888 - val: 0.9011\n",
      "[102/300] train: 0.4892 - val: 0.8984\n",
      "[103/300] train: 0.4896 - val: 0.8961\n",
      "[104/300] train: 0.4875 - val: 0.8949\n",
      "[105/300] train: 0.4887 - val: 0.8922\n",
      "[106/300] train: 0.4876 - val: 0.9089\n",
      "[107/300] train: 0.4875 - val: 0.8939\n",
      "[108/300] train: 0.4862 - val: 0.8913\n",
      "[109/300] train: 0.4861 - val: 0.8969\n",
      "[110/300] train: 0.4847 - val: 0.8998\n",
      "[111/300] train: 0.4842 - val: 0.8954\n",
      "[112/300] train: 0.4843 - val: 0.9011\n",
      "[113/300] train: 0.4845 - val: 0.9006\n",
      "[114/300] train: 0.4827 - val: 0.8960\n",
      "[115/300] train: 0.4851 - val: 0.8980\n",
      "[116/300] train: 0.4835 - val: 0.8972\n",
      "[117/300] train: 0.4830 - val: 0.8941\n",
      "[118/300] train: 0.4821 - val: 0.8959\n",
      "[119/300] train: 0.4827 - val: 0.8918\n",
      "[120/300] train: 0.4821 - val: 0.9035\n",
      "[121/300] train: 0.4817 - val: 0.8975\n",
      "[122/300] train: 0.4810 - val: 0.9010\n",
      "[123/300] train: 0.4810 - val: 0.8966\n",
      "[124/300] train: 0.4801 - val: 0.9011\n",
      "[125/300] train: 0.4804 - val: 0.9030\n",
      "[126/300] train: 0.4787 - val: 0.9119\n",
      "[127/300] train: 0.4784 - val: 0.9017\n",
      "[128/300] train: 0.4785 - val: 0.8997\n",
      "[129/300] train: 0.4777 - val: 0.8973\n",
      "[130/300] train: 0.4777 - val: 0.9001\n",
      "[131/300] train: 0.4778 - val: 0.9038\n",
      "[132/300] train: 0.4776 - val: 0.8959\n",
      "[133/300] train: 0.4766 - val: 0.8995\n",
      "[134/300] train: 0.4762 - val: 0.8973\n",
      "[135/300] train: 0.4757 - val: 0.9008\n",
      "[136/300] train: 0.4752 - val: 0.8997\n",
      "[137/300] train: 0.4753 - val: 0.9028\n",
      "[138/300] train: 0.4767 - val: 0.8986\n",
      "[139/300] train: 0.4754 - val: 0.8922\n",
      "[140/300] train: 0.4747 - val: 0.9037\n",
      "[141/300] train: 0.4750 - val: 0.9081\n",
      "[142/300] train: 0.4725 - val: 0.9097\n",
      "[143/300] train: 0.4742 - val: 0.9048\n",
      "[144/300] train: 0.4729 - val: 0.9013\n",
      "[145/300] train: 0.4736 - val: 0.8991\n",
      "[146/300] train: 0.4721 - val: 0.8938\n",
      "[147/300] train: 0.4727 - val: 0.9059\n",
      "[148/300] train: 0.4726 - val: 0.9018\n",
      "[149/300] train: 0.4720 - val: 0.9006\n",
      "[150/300] train: 0.4714 - val: 0.9042\n",
      "[151/300] train: 0.4710 - val: 0.9029\n",
      "[152/300] train: 0.4709 - val: 0.9017\n",
      "[153/300] train: 0.4712 - val: 0.9080\n",
      "[154/300] train: 0.4708 - val: 0.9035\n",
      "[155/300] train: 0.4705 - val: 0.9007\n",
      "[156/300] train: 0.4690 - val: 0.9100\n",
      "[157/300] train: 0.4700 - val: 0.9044\n",
      "[158/300] train: 0.4691 - val: 0.9080\n",
      "[159/300] train: 0.4691 - val: 0.9000\n",
      "[160/300] train: 0.4692 - val: 0.9078\n",
      "[161/300] train: 0.4693 - val: 0.8993\n",
      "[162/300] train: 0.4697 - val: 0.9044\n",
      "[163/300] train: 0.4680 - val: 0.9071\n",
      "[164/300] train: 0.4672 - val: 0.9005\n",
      "[165/300] train: 0.4682 - val: 0.9041\n",
      "[166/300] train: 0.4667 - val: 0.9038\n",
      "[167/300] train: 0.4671 - val: 0.9025\n",
      "[168/300] train: 0.4671 - val: 0.9006\n",
      "[169/300] train: 0.4665 - val: 0.9014\n",
      "[170/300] train: 0.4665 - val: 0.9098\n",
      "[171/300] train: 0.4662 - val: 0.9089\n",
      "[172/300] train: 0.4663 - val: 0.9057\n",
      "[173/300] train: 0.4660 - val: 0.9087\n",
      "[174/300] train: 0.4665 - val: 0.9118\n",
      "[175/300] train: 0.4643 - val: 0.9085\n",
      "[176/300] train: 0.4647 - val: 0.9081\n",
      "[177/300] train: 0.4644 - val: 0.9070\n",
      "[178/300] train: 0.4654 - val: 0.9074\n",
      "[179/300] train: 0.4631 - val: 0.9110\n",
      "[180/300] train: 0.4639 - val: 0.9091\n",
      "[181/300] train: 0.4640 - val: 0.9117\n",
      "[182/300] train: 0.4641 - val: 0.9112\n",
      "[183/300] train: 0.4643 - val: 0.9109\n",
      "[184/300] train: 0.4625 - val: 0.9095\n",
      "[185/300] train: 0.4618 - val: 0.9078\n",
      "[186/300] train: 0.4623 - val: 0.9020\n",
      "[187/300] train: 0.4630 - val: 0.9102\n",
      "[188/300] train: 0.4617 - val: 0.9145\n",
      "[189/300] train: 0.4620 - val: 0.9073\n",
      "[190/300] train: 0.4623 - val: 0.9067\n",
      "[191/300] train: 0.4614 - val: 0.9067\n",
      "[192/300] train: 0.4617 - val: 0.9028\n",
      "[193/300] train: 0.4618 - val: 0.9124\n",
      "[194/300] train: 0.4607 - val: 0.9120\n",
      "[195/300] train: 0.4587 - val: 0.9101\n",
      "[196/300] train: 0.4615 - val: 0.9050\n",
      "[197/300] train: 0.4608 - val: 0.9217\n",
      "[198/300] train: 0.4606 - val: 0.9034\n",
      "[199/300] train: 0.4600 - val: 0.9120\n",
      "[200/300] train: 0.4606 - val: 0.9142\n",
      "[201/300] train: 0.4592 - val: 0.9125\n",
      "[202/300] train: 0.4585 - val: 0.9083\n",
      "[203/300] train: 0.4597 - val: 0.9101\n",
      "[204/300] train: 0.4596 - val: 0.9110\n",
      "[205/300] train: 0.4590 - val: 0.9134\n",
      "[206/300] train: 0.4589 - val: 0.9081\n",
      "[207/300] train: 0.4589 - val: 0.9187\n",
      "[208/300] train: 0.4581 - val: 0.9081\n",
      "[209/300] train: 0.4576 - val: 0.9136\n",
      "[210/300] train: 0.4582 - val: 0.9159\n",
      "[211/300] train: 0.4578 - val: 0.9079\n",
      "[212/300] train: 0.4578 - val: 0.9125\n",
      "[213/300] train: 0.4574 - val: 0.9095\n",
      "[214/300] train: 0.4570 - val: 0.9064\n",
      "[215/300] train: 0.4556 - val: 0.9084\n",
      "[216/300] train: 0.4567 - val: 0.9039\n",
      "[217/300] train: 0.4565 - val: 0.9016\n",
      "[218/300] train: 0.4561 - val: 0.9087\n",
      "[219/300] train: 0.4559 - val: 0.9034\n",
      "[220/300] train: 0.4547 - val: 0.9141\n",
      "[221/300] train: 0.4563 - val: 0.9159\n",
      "[222/300] train: 0.4549 - val: 0.9153\n",
      "[223/300] train: 0.4558 - val: 0.9099\n",
      "[224/300] train: 0.4557 - val: 0.9136\n",
      "[225/300] train: 0.4547 - val: 0.9134\n",
      "[226/300] train: 0.4549 - val: 0.9094\n",
      "[227/300] train: 0.4536 - val: 0.9151\n",
      "[228/300] train: 0.4548 - val: 0.9102\n",
      "[229/300] train: 0.4553 - val: 0.9149\n",
      "[230/300] train: 0.4546 - val: 0.9097\n",
      "[231/300] train: 0.4541 - val: 0.9140\n",
      "[232/300] train: 0.4552 - val: 0.9140\n",
      "[233/300] train: 0.4542 - val: 0.9187\n",
      "[234/300] train: 0.4541 - val: 0.9148\n",
      "[235/300] train: 0.4515 - val: 0.9145\n",
      "[236/300] train: 0.4529 - val: 0.9169\n",
      "[237/300] train: 0.4529 - val: 0.9166\n",
      "[238/300] train: 0.4536 - val: 0.9109\n",
      "[239/300] train: 0.4543 - val: 0.9091\n",
      "[240/300] train: 0.4535 - val: 0.9168\n",
      "[241/300] train: 0.4525 - val: 0.9117\n",
      "[242/300] train: 0.4531 - val: 0.9151\n",
      "[243/300] train: 0.4530 - val: 0.9102\n",
      "[244/300] train: 0.4521 - val: 0.9049\n",
      "[245/300] train: 0.4530 - val: 0.9147\n",
      "[246/300] train: 0.4520 - val: 0.9143\n",
      "[247/300] train: 0.4517 - val: 0.9108\n",
      "[248/300] train: 0.4521 - val: 0.9157\n",
      "[249/300] train: 0.4517 - val: 0.9134\n",
      "[250/300] train: 0.4509 - val: 0.9150\n",
      "[251/300] train: 0.4513 - val: 0.9185\n",
      "[252/300] train: 0.4510 - val: 0.9089\n",
      "[253/300] train: 0.4515 - val: 0.9205\n",
      "[254/300] train: 0.4509 - val: 0.9106\n",
      "[255/300] train: 0.4498 - val: 0.9108\n",
      "[256/300] train: 0.4517 - val: 0.9278\n",
      "[257/300] train: 0.4506 - val: 0.9128\n",
      "[258/300] train: 0.4502 - val: 0.9172\n",
      "[259/300] train: 0.4515 - val: 0.9227\n",
      "[260/300] train: 0.4495 - val: 0.9175\n",
      "[261/300] train: 0.4509 - val: 0.9183\n",
      "[262/300] train: 0.4496 - val: 0.9169\n",
      "[263/300] train: 0.4503 - val: 0.9152\n",
      "[264/300] train: 0.4495 - val: 0.9223\n",
      "[265/300] train: 0.4497 - val: 0.9148\n",
      "[266/300] train: 0.4493 - val: 0.9084\n",
      "[267/300] train: 0.4496 - val: 0.9127\n",
      "[268/300] train: 0.4491 - val: 0.9159\n",
      "[269/300] train: 0.4487 - val: 0.9145\n",
      "[270/300] train: 0.4482 - val: 0.9176\n",
      "[271/300] train: 0.4494 - val: 0.9194\n",
      "[272/300] train: 0.4489 - val: 0.9161\n",
      "[273/300] train: 0.4486 - val: 0.9172\n",
      "[274/300] train: 0.4489 - val: 0.9199\n",
      "[275/300] train: 0.4475 - val: 0.9240\n",
      "[276/300] train: 0.4480 - val: 0.9184\n",
      "[277/300] train: 0.4477 - val: 0.9079\n",
      "[278/300] train: 0.4473 - val: 0.9136\n",
      "[279/300] train: 0.4479 - val: 0.9235\n",
      "[280/300] train: 0.4473 - val: 0.9179\n",
      "[281/300] train: 0.4482 - val: 0.9135\n",
      "[282/300] train: 0.4475 - val: 0.9198\n",
      "[283/300] train: 0.4463 - val: 0.9214\n",
      "[284/300] train: 0.4472 - val: 0.9172\n",
      "[285/300] train: 0.4470 - val: 0.9210\n",
      "[286/300] train: 0.4469 - val: 0.9176\n",
      "[287/300] train: 0.4472 - val: 0.9152\n",
      "[288/300] train: 0.4460 - val: 0.9163\n",
      "[289/300] train: 0.4464 - val: 0.9169\n",
      "[290/300] train: 0.4456 - val: 0.9249\n",
      "[291/300] train: 0.4453 - val: 0.9214\n",
      "[292/300] train: 0.4461 - val: 0.9180\n",
      "[293/300] train: 0.4466 - val: 0.9201\n",
      "[294/300] train: 0.4446 - val: 0.9194\n",
      "[295/300] train: 0.4459 - val: 0.9242\n",
      "[296/300] train: 0.4454 - val: 0.9166\n",
      "[297/300] train: 0.4451 - val: 0.9182\n",
      "[298/300] train: 0.4462 - val: 0.9109\n",
      "[299/300] train: 0.4445 - val: 0.9139\n",
      "[300/300] train: 0.4458 - val: 0.9204\n"
     ]
    }
   ],
   "source": [
    "for epoch in range(n_epochs):\n",
    "    stats = {'epoch': epoch + 1, 'total': n_epochs}\n",
    "\n",
    "    for phase in ('train', 'val'):\n",
    "        if phase == 'train':\n",
    "          training = True\n",
    "        else:\n",
    "          training = False\n",
    "        running_loss = 0\n",
    "        n_batches = 0\n",
    "        for batch in batches(*datasets[phase], shuffle=training, bs=bs):\n",
    "            x_batch, y_batch = [b.to(device) for b in batch]\n",
    "            optimizer.zero_grad()\n",
    "            # compute gradients only during 'train' phase\n",
    "            with torch.set_grad_enabled(training):\n",
    "                outputs = net(x_batch[:,0], x_batch[:,1], minmax)\n",
    "                loss = criterion(outputs, y_batch)\n",
    "                # don't update weights and rates when in 'val' phase\n",
    "                if training:\n",
    "                    #scheduler.step()\n",
    "                    loss.backward()\n",
    "                    optimizer.step()\n",
    "                    #lr_history.extend(scheduler.get_lr())\n",
    "            running_loss += loss.item()\n",
    "        epoch_loss = running_loss / dataset_sizes[phase]\n",
    "        stats[phase] = epoch_loss\n",
    "        # early stopping: save weights of the best model so far\n",
    "        if phase == 'val':\n",
    "            if epoch_loss < best_loss:\n",
    "                print('loss improvement on epoch: %d' % (epoch + 1))\n",
    "                best_loss = epoch_loss\n",
    "                best_weights = copy.deepcopy(net.state_dict())\n",
    "                no_improvements = 0\n",
    "            else:\n",
    "                no_improvements += 1\n",
    "    history.append(stats)\n",
    "    print('[{epoch:03d}/{total:03d}] train: {train:.4f} - val: {val:.4f}'.format(**stats))\n",
    "    if no_improvements >= patience:\n",
    "        print('early stopping after epoch {epoch:03d}'.format(**stats))\n",
    "        break"
   ],
   "metadata": {
    "collapsed": false,
    "pycharm": {
     "name": "#%%\n"
    }
   }
  },
  {
   "cell_type": "code",
   "execution_count": 88,
   "outputs": [
    {
     "data": {
      "text/plain": "<Figure size 432x288 with 1 Axes>",
      "image/png": "[encoded data removed]"
     },
     "metadata": {
      "needs_background": "light"
     },
     "output_type": "display_data"
    }
   ],
   "source": [
    "ax = pd.DataFrame(history).drop(columns='total').plot(x='epoch')"
   ],
   "metadata": {
    "collapsed": false,
    "pycharm": {
     "name": "#%%\n"
    }
   }
  },
  {
   "cell_type": "code",
   "execution_count": 89,
   "outputs": [],
   "source": [
    "# Plot decreasing learning rate\n",
    "\n",
    "#_ = plt.plot(lr_history[:2*iterations_per_epoch-1])"
   ],
   "metadata": {
    "collapsed": false,
    "pycharm": {
     "name": "#%%\n"
    }
   }
  },
  {
   "cell_type": "code",
   "execution_count": 90,
   "outputs": [
    {
     "data": {
      "text/plain": "<All keys matched successfully>"
     },
     "execution_count": 90,
     "metadata": {},
     "output_type": "execute_result"
    }
   ],
   "source": [
    "net.load_state_dict(best_weights)"
   ],
   "metadata": {
    "collapsed": false,
    "pycharm": {
     "name": "#%%\n"
    }
   }
  },
  {
   "cell_type": "code",
   "execution_count": 91,
   "outputs": [],
   "source": [
    "groud_truth, predictions = [], []\n",
    "\n",
    "with torch.no_grad():\n",
    "    for batch in batches(*datasets['val'], shuffle=False, bs=bs):\n",
    "        x_batch, y_batch = [b.to(device) for b in batch]\n",
    "        outputs = net(x_batch[:, 0], x_batch[:, 1], minmax)\n",
    "        groud_truth.extend(y_batch.tolist())\n",
    "        predictions.extend(outputs.tolist())\n",
    "\n",
    "groud_truth = np.asarray(groud_truth).ravel()\n",
    "predictions = np.asarray(predictions).ravel()"
   ],
   "metadata": {
    "collapsed": false,
    "pycharm": {
     "name": "#%%\n"
    }
   }
  },
  {
   "cell_type": "code",
   "execution_count": 92,
   "outputs": [
    {
     "name": "stdout",
     "output_type": "stream",
     "text": [
      "Validation RMSE: 0.8993\n"
     ]
    }
   ],
   "source": [
    "valid_loss = np.sqrt(np.mean((predictions - groud_truth)**2))\n",
    "print(f'Validation RMSE: {valid_loss:.4f}')"
   ],
   "metadata": {
    "collapsed": false,
    "pycharm": {
     "name": "#%%\n"
    }
   }
  },
  {
   "cell_type": "code",
   "execution_count": 93,
   "outputs": [],
   "source": [
    "groud_truth, predictions = [], []\n",
    "\n",
    "with torch.no_grad():\n",
    "    for batch in batches(*datasets['test'], shuffle=False, bs=bs):\n",
    "        x_batch, y_batch = [b.to(device) for b in batch]\n",
    "        outputs = net(x_batch[:, 0], x_batch[:, 1], minmax)\n",
    "        groud_truth.extend(y_batch.tolist())\n",
    "        predictions.extend(outputs.tolist())\n",
    "\n",
    "groud_truth = np.asarray(groud_truth).ravel()\n",
    "predictions = np.asarray(predictions).ravel()"
   ],
   "metadata": {
    "collapsed": false,
    "pycharm": {
     "name": "#%%\n"
    }
   }
  },
  {
   "cell_type": "code",
   "execution_count": 94,
   "outputs": [
    {
     "name": "stdout",
     "output_type": "stream",
     "text": [
      "Final RMSE: 0.9013\n"
     ]
    }
   ],
   "source": [
    "final_loss = np.sqrt(np.mean((predictions - groud_truth)**2))\n",
    "print(f'Final RMSE: {final_loss:.4f}')"
   ],
   "metadata": {
    "collapsed": false,
    "pycharm": {
     "name": "#%%\n"
    }
   }
  },
  {
   "cell_type": "code",
   "execution_count": 95,
   "outputs": [],
   "source": [
    "with open('best.weights.big', 'wb') as file:\n",
    "    pickle.dump(best_weights, file)"
   ],
   "metadata": {
    "collapsed": false,
    "pycharm": {
     "name": "#%%\n"
    }
   }
  },
  {
   "cell_type": "code",
   "execution_count": 96,
   "outputs": [
    {
     "name": "stdout",
     "output_type": "stream",
     "text": [
      "duration: 549.0049\n"
     ]
    }
   ],
   "source": [
    "print(f'duration: {round(time.time() - start, 4)}')"
   ],
   "metadata": {
    "collapsed": false,
    "pycharm": {
     "name": "#%%\n"
    }
   }
  },
  {
   "cell_type": "code",
   "execution_count": 96,
   "outputs": [],
   "source": [],
   "metadata": {
    "collapsed": false,
    "pycharm": {
     "name": "#%%\n"
    }
   }
  }
 ],
 "metadata": {
  "kernelspec": {
   "name": "pycharm-f57757a1",
   "language": "python",
   "display_name": "PyCharm (rs-via-gnn)"
  },
  "language_info": {
   "codemirror_mode": {
    "name": "ipython",
    "version": 2
   },
   "file_extension": ".py",
   "mimetype": "text/x-python",
   "name": "python",
   "nbconvert_exporter": "python",
   "pygments_lexer": "ipython2",
   "version": "2.7.6"
  }
 },
 "nbformat": 4,
 "nbformat_minor": 0
}