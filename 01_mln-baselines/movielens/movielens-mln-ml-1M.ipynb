{
 "cells": [
  {
   "cell_type": "markdown",
   "metadata": {
    "collapsed": true,
    "pycharm": {
     "name": "#%% md\n"
    }
   },
   "source": [
    "# MovieLens MLN Recommendation via PyTorch\n",
    "\n",
    "adapted from https://github.com/fastai/fastai"
   ]
  },
  {
   "cell_type": "code",
   "execution_count": 124,
   "outputs": [],
   "source": [
    "import math\n",
    "import copy\n",
    "import pickle\n",
    "from pathlib import Path\n",
    "from itertools import zip_longest\n",
    "\n",
    "import numpy as np\n",
    "import pandas as pd\n",
    "import matplotlib.pyplot as plt\n",
    "from sklearn.model_selection import train_test_split\n",
    "\n",
    "import torch\n",
    "from torch import nn\n",
    "from torch import optim\n",
    "\n",
    "import time\n",
    "\n",
    "figure_path = '/home/weiss/git/thesis/doc/figures/'"
   ],
   "metadata": {
    "collapsed": false,
    "pycharm": {
     "name": "#%%\n"
    }
   }
  },
  {
   "cell_type": "code",
   "execution_count": 125,
   "outputs": [],
   "source": [
    "def set_random_seed(state=1):\n",
    "    gens = (np.random.seed, torch.manual_seed, torch.cuda.manual_seed)\n",
    "    for set_state in gens:\n",
    "        set_state(state)\n",
    "\n",
    "RANDOM_STATE = 2021\n",
    "set_random_seed(RANDOM_STATE)"
   ],
   "metadata": {
    "collapsed": false,
    "pycharm": {
     "name": "#%%\n"
    }
   }
  },
  {
   "cell_type": "code",
   "execution_count": 126,
   "outputs": [],
   "source": [
    "def read_data(path):\n",
    "    files = {}\n",
    "    path = Path(path)\n",
    "    for filename in path.glob('*'):\n",
    "        if filename.suffix == '.csv':\n",
    "            files[filename.stem] = pd.read_csv(filename)\n",
    "        elif filename.suffix == '.dat': # ml-1m\n",
    "            if filename.stem == 'ratings':\n",
    "                columns = ['userId', 'movieId', 'rating', 'timestamp']\n",
    "            else:\n",
    "                columns = ['movieId', 'title', 'genres']\n",
    "            data = pd.read_csv(filename, sep='::', names=columns, engine='python')\n",
    "            files[filename.stem] = data\n",
    "        elif filename.suffix == '.data':  # ml-100k\n",
    "            if filename.stem == 'u':\n",
    "                columns = ['userId', 'movieId', 'rating', 'timestamp']\n",
    "                data = pd.read_csv(filename, sep='\\t', names=columns, engine='python')\n",
    "                files['ratings'] = data\n",
    "        elif filename.suffix == '.item':  # ml-100k\n",
    "            if filename.stem == 'u':\n",
    "                columns = ['movieId', 'title', 'genres']\n",
    "                data = pd.read_csv(filename, sep='|', names=columns, engine='python')\n",
    "                files['movies'] = data\n",
    "    return files['ratings'], files['movies']"
   ],
   "metadata": {
    "collapsed": false,
    "pycharm": {
     "name": "#%%\n"
    }
   }
  },
  {
   "cell_type": "code",
   "execution_count": 127,
   "outputs": [],
   "source": [
    "dataset = 'ml-10m'\n",
    "\n",
    "# pick one of the available folders\n",
    "ratings, movies = read_data('/home/weiss/rs_data/'+dataset)"
   ],
   "metadata": {
    "collapsed": false,
    "pycharm": {
     "name": "#%%\n"
    }
   }
  },
  {
   "cell_type": "code",
   "execution_count": 128,
   "outputs": [
    {
     "data": {
      "text/plain": "   userId  movieId  rating  timestamp\n0       1      122     5.0  838985046\n1       1      185     5.0  838983525\n2       1      231     5.0  838983392\n3       1      292     5.0  838983421\n4       1      316     5.0  838983392",
      "text/html": "<div>\n<style scoped>\n    .dataframe tbody tr th:only-of-type {\n        vertical-align: middle;\n    }\n\n    .dataframe tbody tr th {\n        vertical-align: top;\n    }\n\n    .dataframe thead th {\n        text-align: right;\n    }\n</style>\n<table border=\"1\" class=\"dataframe\">\n  <thead>\n    <tr style=\"text-align: right;\">\n      <th></th>\n      <th>userId</th>\n      <th>movieId</th>\n      <th>rating</th>\n      <th>timestamp</th>\n    </tr>\n  </thead>\n  <tbody>\n    <tr>\n      <th>0</th>\n      <td>1</td>\n      <td>122</td>\n      <td>5.0</td>\n      <td>838985046</td>\n    </tr>\n    <tr>\n      <th>1</th>\n      <td>1</td>\n      <td>185</td>\n      <td>5.0</td>\n      <td>838983525</td>\n    </tr>\n    <tr>\n      <th>2</th>\n      <td>1</td>\n      <td>231</td>\n      <td>5.0</td>\n      <td>838983392</td>\n    </tr>\n    <tr>\n      <th>3</th>\n      <td>1</td>\n      <td>292</td>\n      <td>5.0</td>\n      <td>838983421</td>\n    </tr>\n    <tr>\n      <th>4</th>\n      <td>1</td>\n      <td>316</td>\n      <td>5.0</td>\n      <td>838983392</td>\n    </tr>\n  </tbody>\n</table>\n</div>"
     },
     "execution_count": 128,
     "metadata": {},
     "output_type": "execute_result"
    }
   ],
   "source": [
    "ratings.head()"
   ],
   "metadata": {
    "collapsed": false,
    "pycharm": {
     "name": "#%%\n"
    }
   }
  },
  {
   "cell_type": "code",
   "execution_count": 129,
   "outputs": [
    {
     "data": {
      "text/plain": "   movieId                               title  \\\n0        1                    Toy Story (1995)   \n1        2                      Jumanji (1995)   \n2        3             Grumpier Old Men (1995)   \n3        4            Waiting to Exhale (1995)   \n4        5  Father of the Bride Part II (1995)   \n\n                                        genres  \n0  Adventure|Animation|Children|Comedy|Fantasy  \n1                   Adventure|Children|Fantasy  \n2                               Comedy|Romance  \n3                         Comedy|Drama|Romance  \n4                                       Comedy  ",
      "text/html": "<div>\n<style scoped>\n    .dataframe tbody tr th:only-of-type {\n        vertical-align: middle;\n    }\n\n    .dataframe tbody tr th {\n        vertical-align: top;\n    }\n\n    .dataframe thead th {\n        text-align: right;\n    }\n</style>\n<table border=\"1\" class=\"dataframe\">\n  <thead>\n    <tr style=\"text-align: right;\">\n      <th></th>\n      <th>movieId</th>\n      <th>title</th>\n      <th>genres</th>\n    </tr>\n  </thead>\n  <tbody>\n    <tr>\n      <th>0</th>\n      <td>1</td>\n      <td>Toy Story (1995)</td>\n      <td>Adventure|Animation|Children|Comedy|Fantasy</td>\n    </tr>\n    <tr>\n      <th>1</th>\n      <td>2</td>\n      <td>Jumanji (1995)</td>\n      <td>Adventure|Children|Fantasy</td>\n    </tr>\n    <tr>\n      <th>2</th>\n      <td>3</td>\n      <td>Grumpier Old Men (1995)</td>\n      <td>Comedy|Romance</td>\n    </tr>\n    <tr>\n      <th>3</th>\n      <td>4</td>\n      <td>Waiting to Exhale (1995)</td>\n      <td>Comedy|Drama|Romance</td>\n    </tr>\n    <tr>\n      <th>4</th>\n      <td>5</td>\n      <td>Father of the Bride Part II (1995)</td>\n      <td>Comedy</td>\n    </tr>\n  </tbody>\n</table>\n</div>"
     },
     "execution_count": 129,
     "metadata": {},
     "output_type": "execute_result"
    }
   ],
   "source": [
    "movies.head()"
   ],
   "metadata": {
    "collapsed": false,
    "pycharm": {
     "name": "#%%\n"
    }
   }
  },
  {
   "cell_type": "code",
   "execution_count": 130,
   "outputs": [
    {
     "name": "stdout",
     "output_type": "stream",
     "text": [
      "Embeddings: 69878 users, 10677 movies\n",
      "Dataset shape: (10000054, 2)\n",
      "Target shape: (10000054,)\n"
     ]
    }
   ],
   "source": [
    "def create_dataset(ratings, top=None):\n",
    "    if top is not None:\n",
    "        ratings.groupby('userId')['rating'].count()\n",
    "\n",
    "    unique_users = ratings.userId.unique()\n",
    "    user_to_index = {old: new for new, old in enumerate(unique_users)}\n",
    "    new_users = ratings.userId.map(user_to_index)\n",
    "\n",
    "    unique_movies = ratings.movieId.unique()\n",
    "    movie_to_index = {old: new for new, old in enumerate(unique_movies)}\n",
    "    new_movies = ratings.movieId.map(movie_to_index)\n",
    "\n",
    "    n_users = unique_users.shape[0]\n",
    "    n_movies = unique_movies.shape[0]\n",
    "\n",
    "    X = pd.DataFrame({'user_id': new_users, 'movie_id': new_movies})\n",
    "    y = ratings['rating'].astype(np.float32)\n",
    "    return (n_users, n_movies), (X, y), (user_to_index, movie_to_index)\n",
    "\n",
    "(n, m), (X, y), _ = create_dataset(ratings)\n",
    "print(f'Embeddings: {n} users, {m} movies')\n",
    "print(f'Dataset shape: {X.shape}')\n",
    "print(f'Target shape: {y.shape}')"
   ],
   "metadata": {
    "collapsed": false,
    "pycharm": {
     "name": "#%%\n"
    }
   }
  },
  {
   "cell_type": "code",
   "execution_count": 131,
   "outputs": [],
   "source": [
    "X_train, X_valid, y_train, y_valid = train_test_split(X, y, test_size=0.4, random_state=RANDOM_STATE)\n",
    "X_valid, X_test, y_valid, y_test = train_test_split(X_valid, y_valid, test_size=0.5, random_state=RANDOM_STATE)\n",
    "datasets = {'train': (X_train, y_train), 'val': (X_valid, y_valid), 'test': (X_test, y_test)}\n",
    "dataset_sizes = {'train': len(X_train), 'val': len(X_valid), 'test': len(X_test)}\n"
   ],
   "metadata": {
    "collapsed": false,
    "pycharm": {
     "name": "#%%\n"
    }
   }
  },
  {
   "cell_type": "code",
   "execution_count": 132,
   "outputs": [],
   "source": [
    "class RatingsIterator:\n",
    "\n",
    "    def __init__(self, X, y, batch_size=32, shuffle=True):\n",
    "        X, y = np.asarray(X), np.asarray(y)\n",
    "        if shuffle:\n",
    "            index = np.random.permutation(X.shape[0])\n",
    "            X, y = X[index], y[index]\n",
    "        self.X = X\n",
    "        self.y = y\n",
    "        self.batch_size = batch_size\n",
    "        self.shuffle = shuffle\n",
    "        self.n_batches = int(math.ceil(X.shape[0] // batch_size))\n",
    "        self._current = 0\n",
    "\n",
    "    def __iter__(self):\n",
    "        return self\n",
    "\n",
    "    def __next__(self):\n",
    "        return self.next()\n",
    "\n",
    "    def next(self):\n",
    "        if self._current >= self.n_batches:\n",
    "            raise StopIteration()\n",
    "        k = self._current\n",
    "        self._current += 1\n",
    "        bs = self.batch_size\n",
    "        return self.X[k*bs:(k + 1)*bs], self.y[k*bs:(k + 1)*bs]"
   ],
   "metadata": {
    "collapsed": false,
    "pycharm": {
     "name": "#%%\n"
    }
   }
  },
  {
   "cell_type": "code",
   "execution_count": 133,
   "outputs": [],
   "source": [
    "def batches(X, y, bs=32, shuffle=True):\n",
    "    for xb, yb in RatingsIterator(X, y, bs, shuffle):\n",
    "        xb = torch.LongTensor(xb)\n",
    "        yb = torch.FloatTensor(yb)\n",
    "        yield xb, yb.view(-1, 1)"
   ],
   "metadata": {
    "collapsed": false,
    "pycharm": {
     "name": "#%%\n"
    }
   }
  },
  {
   "cell_type": "code",
   "execution_count": 134,
   "outputs": [],
   "source": [
    "class RecommenderNet(nn.Module):\n",
    "    \"\"\"\n",
    "    Creates dense MLN with embedding layers.\n",
    "\n",
    "    Args:\n",
    "        n_users:\n",
    "            Number of unique users in the dataset.\n",
    "\n",
    "        n_movies:\n",
    "            Number of unique movies in the dataset.\n",
    "\n",
    "        n_factors:\n",
    "            Number of columns in the embeddings matrix.\n",
    "\n",
    "        embedding_dropout:\n",
    "            Dropout rate to apply right after embeddings layer.\n",
    "\n",
    "        hidden:\n",
    "            A single integer or a list of integers defining the number of\n",
    "            units in hidden layer(s).\n",
    "\n",
    "        dropouts:\n",
    "            A single integer or a list of integers defining the dropout\n",
    "            layers rates applied right after each of hidden layers.\n",
    "\n",
    "    \"\"\"\n",
    "    def __init__(self, n_users, n_movies,\n",
    "                 n_factors=50, embedding_dropout=0.02,\n",
    "                 hidden=10, dropouts=0.2):\n",
    "\n",
    "        super().__init__()\n",
    "        hidden = get_list(hidden)\n",
    "        dropouts = get_list(dropouts)\n",
    "        n_last = hidden[-1]\n",
    "\n",
    "        def gen_layers(n_in):\n",
    "            \"\"\"\n",
    "            A generator that yields a sequence of hidden layers and\n",
    "            their activations/dropouts.\n",
    "\n",
    "            Note that the function captures `hidden` and `dropouts`\n",
    "            values from the outer scope.\n",
    "            \"\"\"\n",
    "            nonlocal hidden, dropouts\n",
    "            assert len(dropouts) <= len(hidden)\n",
    "\n",
    "            for n_out, rate in zip_longest(hidden, dropouts):\n",
    "                yield nn.Linear(n_in, n_out)\n",
    "                yield nn.ReLU()\n",
    "                if rate is not None and rate > 0.:\n",
    "                    yield nn.Dropout(rate)\n",
    "                n_in = n_out\n",
    "\n",
    "        self.u = nn.Embedding(n_users, n_factors)\n",
    "        self.m = nn.Embedding(n_movies, n_factors)\n",
    "        self.drop = nn.Dropout(embedding_dropout)\n",
    "        self.hidden = nn.Sequential(*list(gen_layers(n_factors * 2)))\n",
    "        self.fc = nn.Linear(n_last, 1)\n",
    "        self.relu = nn.ReLU()\n",
    "        self._init()\n",
    "\n",
    "    def forward(self, users, movies, minmax=None):\n",
    "        features = torch.cat([self.u(users), self.m(movies)], dim=1)\n",
    "        x = self.drop(features)\n",
    "        x = self.hidden(x)\n",
    "        out = torch.sigmoid(self.fc(x))\n",
    "        #out = self.relu(self.fc(x))  # relu delivers worse rsme\n",
    "        if minmax is not None:\n",
    "            min_rating, max_rating = minmax\n",
    "            out = out*(max_rating - min_rating + 1) + min_rating - 0.5\n",
    "        return out\n",
    "\n",
    "    def _init(self):\n",
    "        \"\"\"\n",
    "        Setup embeddings and hidden layers with reasonable initial values.\n",
    "        \"\"\"\n",
    "\n",
    "        def init(m):\n",
    "            if type(m) == nn.Linear:\n",
    "                torch.nn.init.xavier_uniform_(m.weight)\n",
    "                m.bias.data.fill_(0.01)\n",
    "\n",
    "        self.u.weight.data.uniform_(-0.05, 0.05)\n",
    "        self.m.weight.data.uniform_(-0.05, 0.05)\n",
    "        self.hidden.apply(init)\n",
    "        init(self.fc)\n",
    "\n",
    "\n",
    "def get_list(n):\n",
    "    if isinstance(n, (int, float)):\n",
    "        return [n]\n",
    "    elif hasattr(n, '__iter__'):\n",
    "        return list(n)\n",
    "    raise TypeError('layers configuraiton should be a single number or a list of numbers')"
   ],
   "metadata": {
    "collapsed": false,
    "pycharm": {
     "name": "#%%\n"
    }
   }
  },
  {
   "cell_type": "code",
   "execution_count": 135,
   "outputs": [],
   "source": [
    "def plot_lr(schedule):\n",
    "    ts = list(range(1000))\n",
    "    y = [schedule(t, 0.001) for t in ts]\n",
    "    plt.plot(ts, y)\n"
   ],
   "metadata": {
    "collapsed": false,
    "pycharm": {
     "name": "#%%\n"
    }
   }
  },
  {
   "cell_type": "code",
   "execution_count": 136,
   "outputs": [
    {
     "data": {
      "text/plain": "(0.5, 5.0)"
     },
     "execution_count": 136,
     "metadata": {},
     "output_type": "execute_result"
    }
   ],
   "source": [
    "minmax = float(ratings.rating.min()), float(ratings.rating.max())\n",
    "minmax"
   ],
   "metadata": {
    "collapsed": false,
    "pycharm": {
     "name": "#%%\n"
    }
   }
  },
  {
   "cell_type": "code",
   "execution_count": 137,
   "outputs": [],
   "source": [
    "# small net\n",
    "\n",
    "start = time.time()\n",
    "net = RecommenderNet(\n",
    "    n_users=n, n_movies=m,\n",
    "    n_factors=10, hidden=[10],\n",
    "    embedding_dropout=0.05, dropouts=[0.3])"
   ],
   "metadata": {
    "collapsed": false,
    "pycharm": {
     "name": "#%%\n"
    }
   }
  },
  {
   "cell_type": "code",
   "execution_count": 138,
   "outputs": [],
   "source": [
    "lr = 1e-3\n",
    "wd = 1e-5\n",
    "bs = 4096\n",
    "n_epochs = 300\n",
    "patience = 300\n",
    "no_improvements = 0\n",
    "best_loss = np.inf\n",
    "best_weights = None\n",
    "history = []\n",
    "lr_history = []\n",
    "\n",
    "device = torch.device('cuda:0' if torch.cuda.is_available() else 'cpu')\n",
    "\n",
    "net.to(device)\n",
    "criterion = nn.MSELoss(reduction='sum')\n",
    "optimizer = optim.Adam(net.parameters(), lr=lr, weight_decay=wd)"
   ],
   "metadata": {
    "collapsed": false,
    "pycharm": {
     "name": "#%%\n"
    }
   }
  },
  {
   "cell_type": "code",
   "execution_count": 139,
   "outputs": [
    {
     "name": "stdout",
     "output_type": "stream",
     "text": [
      "loss improvement on epoch: 1\n",
      "[001/300] train: 0.8454 - val: 0.7826\n",
      "loss improvement on epoch: 2\n",
      "[002/300] train: 0.7685 - val: 0.7729\n",
      "loss improvement on epoch: 3\n",
      "[003/300] train: 0.7585 - val: 0.7700\n",
      "loss improvement on epoch: 4\n",
      "[004/300] train: 0.7538 - val: 0.7681\n",
      "loss improvement on epoch: 5\n",
      "[005/300] train: 0.7501 - val: 0.7671\n",
      "loss improvement on epoch: 6\n",
      "[006/300] train: 0.7468 - val: 0.7660\n",
      "loss improvement on epoch: 7\n",
      "[007/300] train: 0.7443 - val: 0.7652\n",
      "loss improvement on epoch: 8\n",
      "[008/300] train: 0.7419 - val: 0.7643\n",
      "[009/300] train: 0.7402 - val: 0.7643\n",
      "loss improvement on epoch: 10\n",
      "[010/300] train: 0.7385 - val: 0.7639\n",
      "loss improvement on epoch: 11\n",
      "[011/300] train: 0.7372 - val: 0.7631\n",
      "loss improvement on epoch: 12\n",
      "[012/300] train: 0.7359 - val: 0.7624\n",
      "loss improvement on epoch: 13\n",
      "[013/300] train: 0.7342 - val: 0.7619\n",
      "loss improvement on epoch: 14\n",
      "[014/300] train: 0.7330 - val: 0.7615\n",
      "[015/300] train: 0.7314 - val: 0.7615\n",
      "loss improvement on epoch: 16\n",
      "[016/300] train: 0.7306 - val: 0.7610\n",
      "loss improvement on epoch: 17\n",
      "[017/300] train: 0.7295 - val: 0.7609\n",
      "loss improvement on epoch: 18\n",
      "[018/300] train: 0.7285 - val: 0.7606\n",
      "[019/300] train: 0.7280 - val: 0.7611\n",
      "loss improvement on epoch: 20\n",
      "[020/300] train: 0.7265 - val: 0.7599\n",
      "[021/300] train: 0.7258 - val: 0.7603\n",
      "loss improvement on epoch: 22\n",
      "[022/300] train: 0.7248 - val: 0.7599\n",
      "[023/300] train: 0.7239 - val: 0.7609\n",
      "[024/300] train: 0.7234 - val: 0.7606\n",
      "[025/300] train: 0.7227 - val: 0.7603\n",
      "[026/300] train: 0.7222 - val: 0.7605\n",
      "[027/300] train: 0.7217 - val: 0.7607\n",
      "[028/300] train: 0.7216 - val: 0.7607\n",
      "[029/300] train: 0.7209 - val: 0.7606\n",
      "[030/300] train: 0.7207 - val: 0.7607\n",
      "[031/300] train: 0.7203 - val: 0.7612\n",
      "[032/300] train: 0.7202 - val: 0.7606\n",
      "[033/300] train: 0.7196 - val: 0.7606\n",
      "[034/300] train: 0.7197 - val: 0.7609\n",
      "[035/300] train: 0.7191 - val: 0.7609\n",
      "[036/300] train: 0.7188 - val: 0.7606\n",
      "[037/300] train: 0.7184 - val: 0.7612\n",
      "[038/300] train: 0.7187 - val: 0.7612\n",
      "[039/300] train: 0.7181 - val: 0.7609\n",
      "[040/300] train: 0.7177 - val: 0.7604\n",
      "[041/300] train: 0.7175 - val: 0.7609\n",
      "[042/300] train: 0.7177 - val: 0.7610\n",
      "[043/300] train: 0.7170 - val: 0.7611\n",
      "[044/300] train: 0.7170 - val: 0.7610\n",
      "[045/300] train: 0.7169 - val: 0.7607\n",
      "[046/300] train: 0.7166 - val: 0.7609\n",
      "[047/300] train: 0.7165 - val: 0.7607\n",
      "[048/300] train: 0.7163 - val: 0.7607\n",
      "[049/300] train: 0.7164 - val: 0.7611\n",
      "[050/300] train: 0.7160 - val: 0.7607\n",
      "[051/300] train: 0.7159 - val: 0.7610\n",
      "[052/300] train: 0.7158 - val: 0.7613\n",
      "[053/300] train: 0.7157 - val: 0.7611\n",
      "[054/300] train: 0.7154 - val: 0.7614\n",
      "[055/300] train: 0.7153 - val: 0.7614\n",
      "[056/300] train: 0.7151 - val: 0.7611\n",
      "[057/300] train: 0.7154 - val: 0.7615\n",
      "[058/300] train: 0.7151 - val: 0.7613\n",
      "[059/300] train: 0.7147 - val: 0.7609\n",
      "[060/300] train: 0.7148 - val: 0.7611\n",
      "[061/300] train: 0.7145 - val: 0.7611\n",
      "[062/300] train: 0.7147 - val: 0.7612\n",
      "[063/300] train: 0.7144 - val: 0.7619\n",
      "[064/300] train: 0.7142 - val: 0.7606\n",
      "[065/300] train: 0.7140 - val: 0.7623\n",
      "[066/300] train: 0.7142 - val: 0.7609\n",
      "[067/300] train: 0.7142 - val: 0.7615\n",
      "[068/300] train: 0.7137 - val: 0.7617\n",
      "[069/300] train: 0.7138 - val: 0.7616\n",
      "[070/300] train: 0.7139 - val: 0.7610\n",
      "[071/300] train: 0.7138 - val: 0.7615\n",
      "[072/300] train: 0.7136 - val: 0.7614\n",
      "[073/300] train: 0.7137 - val: 0.7611\n",
      "[074/300] train: 0.7137 - val: 0.7616\n",
      "[075/300] train: 0.7135 - val: 0.7618\n",
      "[076/300] train: 0.7135 - val: 0.7615\n",
      "[077/300] train: 0.7132 - val: 0.7614\n",
      "[078/300] train: 0.7130 - val: 0.7618\n",
      "[079/300] train: 0.7129 - val: 0.7614\n",
      "[080/300] train: 0.7131 - val: 0.7618\n",
      "[081/300] train: 0.7129 - val: 0.7612\n",
      "[082/300] train: 0.7128 - val: 0.7612\n",
      "[083/300] train: 0.7128 - val: 0.7615\n",
      "[084/300] train: 0.7126 - val: 0.7616\n",
      "[085/300] train: 0.7130 - val: 0.7619\n",
      "[086/300] train: 0.7126 - val: 0.7621\n",
      "[087/300] train: 0.7126 - val: 0.7615\n",
      "[088/300] train: 0.7128 - val: 0.7614\n",
      "[089/300] train: 0.7126 - val: 0.7625\n",
      "[090/300] train: 0.7124 - val: 0.7613\n",
      "[091/300] train: 0.7125 - val: 0.7614\n",
      "[092/300] train: 0.7125 - val: 0.7613\n",
      "[093/300] train: 0.7119 - val: 0.7614\n",
      "[094/300] train: 0.7121 - val: 0.7616\n",
      "[095/300] train: 0.7120 - val: 0.7613\n",
      "[096/300] train: 0.7121 - val: 0.7611\n",
      "[097/300] train: 0.7121 - val: 0.7619\n",
      "[098/300] train: 0.7119 - val: 0.7616\n",
      "[099/300] train: 0.7121 - val: 0.7614\n",
      "[100/300] train: 0.7120 - val: 0.7615\n",
      "[101/300] train: 0.7117 - val: 0.7615\n",
      "[102/300] train: 0.7118 - val: 0.7614\n",
      "[103/300] train: 0.7118 - val: 0.7620\n",
      "[104/300] train: 0.7115 - val: 0.7612\n",
      "[105/300] train: 0.7118 - val: 0.7611\n",
      "[106/300] train: 0.7117 - val: 0.7606\n",
      "[107/300] train: 0.7116 - val: 0.7624\n",
      "[108/300] train: 0.7115 - val: 0.7614\n",
      "[109/300] train: 0.7113 - val: 0.7622\n",
      "[110/300] train: 0.7113 - val: 0.7617\n",
      "[111/300] train: 0.7113 - val: 0.7626\n",
      "[112/300] train: 0.7117 - val: 0.7617\n",
      "[113/300] train: 0.7114 - val: 0.7621\n",
      "[114/300] train: 0.7114 - val: 0.7622\n",
      "[115/300] train: 0.7114 - val: 0.7619\n",
      "[116/300] train: 0.7110 - val: 0.7622\n",
      "[117/300] train: 0.7109 - val: 0.7615\n",
      "[118/300] train: 0.7112 - val: 0.7617\n",
      "[119/300] train: 0.7106 - val: 0.7618\n",
      "[120/300] train: 0.7108 - val: 0.7627\n",
      "[121/300] train: 0.7110 - val: 0.7620\n",
      "[122/300] train: 0.7108 - val: 0.7617\n",
      "[123/300] train: 0.7111 - val: 0.7621\n",
      "[124/300] train: 0.7108 - val: 0.7625\n",
      "[125/300] train: 0.7108 - val: 0.7621\n",
      "[126/300] train: 0.7105 - val: 0.7626\n",
      "[127/300] train: 0.7106 - val: 0.7621\n",
      "[128/300] train: 0.7105 - val: 0.7620\n",
      "[129/300] train: 0.7106 - val: 0.7620\n",
      "[130/300] train: 0.7104 - val: 0.7611\n",
      "[131/300] train: 0.7103 - val: 0.7627\n",
      "[132/300] train: 0.7107 - val: 0.7617\n",
      "[133/300] train: 0.7105 - val: 0.7617\n",
      "[134/300] train: 0.7104 - val: 0.7620\n",
      "[135/300] train: 0.7108 - val: 0.7619\n",
      "[136/300] train: 0.7104 - val: 0.7621\n",
      "[137/300] train: 0.7102 - val: 0.7622\n",
      "[138/300] train: 0.7101 - val: 0.7616\n",
      "[139/300] train: 0.7103 - val: 0.7619\n",
      "[140/300] train: 0.7104 - val: 0.7618\n",
      "[141/300] train: 0.7101 - val: 0.7623\n",
      "[142/300] train: 0.7102 - val: 0.7617\n",
      "[143/300] train: 0.7104 - val: 0.7620\n",
      "[144/300] train: 0.7099 - val: 0.7609\n",
      "[145/300] train: 0.7101 - val: 0.7625\n",
      "[146/300] train: 0.7102 - val: 0.7615\n",
      "[147/300] train: 0.7100 - val: 0.7623\n",
      "[148/300] train: 0.7099 - val: 0.7624\n",
      "[149/300] train: 0.7102 - val: 0.7623\n",
      "[150/300] train: 0.7103 - val: 0.7619\n",
      "[151/300] train: 0.7101 - val: 0.7627\n",
      "[152/300] train: 0.7100 - val: 0.7624\n",
      "[153/300] train: 0.7101 - val: 0.7624\n",
      "[154/300] train: 0.7101 - val: 0.7617\n",
      "[155/300] train: 0.7101 - val: 0.7622\n",
      "[156/300] train: 0.7101 - val: 0.7629\n",
      "[157/300] train: 0.7102 - val: 0.7620\n",
      "[158/300] train: 0.7097 - val: 0.7623\n",
      "[159/300] train: 0.7097 - val: 0.7622\n",
      "[160/300] train: 0.7097 - val: 0.7623\n",
      "[161/300] train: 0.7095 - val: 0.7624\n",
      "[162/300] train: 0.7094 - val: 0.7616\n",
      "[163/300] train: 0.7095 - val: 0.7618\n",
      "[164/300] train: 0.7098 - val: 0.7615\n",
      "[165/300] train: 0.7096 - val: 0.7622\n",
      "[166/300] train: 0.7099 - val: 0.7625\n",
      "[167/300] train: 0.7095 - val: 0.7623\n",
      "[168/300] train: 0.7093 - val: 0.7621\n",
      "[169/300] train: 0.7098 - val: 0.7622\n",
      "[170/300] train: 0.7096 - val: 0.7615\n",
      "[171/300] train: 0.7096 - val: 0.7618\n",
      "[172/300] train: 0.7096 - val: 0.7627\n",
      "[173/300] train: 0.7096 - val: 0.7631\n",
      "[174/300] train: 0.7093 - val: 0.7623\n",
      "[175/300] train: 0.7096 - val: 0.7623\n",
      "[176/300] train: 0.7094 - val: 0.7622\n",
      "[177/300] train: 0.7095 - val: 0.7612\n",
      "[178/300] train: 0.7094 - val: 0.7622\n",
      "[179/300] train: 0.7094 - val: 0.7625\n",
      "[180/300] train: 0.7091 - val: 0.7621\n",
      "[181/300] train: 0.7095 - val: 0.7622\n",
      "[182/300] train: 0.7094 - val: 0.7624\n",
      "[183/300] train: 0.7092 - val: 0.7615\n",
      "[184/300] train: 0.7093 - val: 0.7627\n",
      "[185/300] train: 0.7091 - val: 0.7620\n",
      "[186/300] train: 0.7093 - val: 0.7617\n",
      "[187/300] train: 0.7089 - val: 0.7623\n",
      "[188/300] train: 0.7092 - val: 0.7623\n",
      "[189/300] train: 0.7090 - val: 0.7615\n",
      "[190/300] train: 0.7093 - val: 0.7626\n",
      "[191/300] train: 0.7092 - val: 0.7619\n",
      "[192/300] train: 0.7092 - val: 0.7628\n",
      "[193/300] train: 0.7087 - val: 0.7624\n",
      "[194/300] train: 0.7090 - val: 0.7628\n",
      "[195/300] train: 0.7088 - val: 0.7627\n",
      "[196/300] train: 0.7090 - val: 0.7630\n",
      "[197/300] train: 0.7088 - val: 0.7627\n",
      "[198/300] train: 0.7088 - val: 0.7622\n",
      "[199/300] train: 0.7092 - val: 0.7626\n",
      "[200/300] train: 0.7088 - val: 0.7623\n",
      "[201/300] train: 0.7089 - val: 0.7633\n",
      "[202/300] train: 0.7088 - val: 0.7624\n",
      "[203/300] train: 0.7085 - val: 0.7614\n",
      "[204/300] train: 0.7087 - val: 0.7625\n",
      "[205/300] train: 0.7089 - val: 0.7628\n",
      "[206/300] train: 0.7087 - val: 0.7629\n",
      "[207/300] train: 0.7087 - val: 0.7622\n",
      "[208/300] train: 0.7088 - val: 0.7630\n",
      "[209/300] train: 0.7088 - val: 0.7620\n",
      "[210/300] train: 0.7087 - val: 0.7615\n",
      "[211/300] train: 0.7086 - val: 0.7628\n",
      "[212/300] train: 0.7086 - val: 0.7623\n",
      "[213/300] train: 0.7084 - val: 0.7623\n",
      "[214/300] train: 0.7084 - val: 0.7626\n",
      "[215/300] train: 0.7087 - val: 0.7622\n",
      "[216/300] train: 0.7086 - val: 0.7620\n",
      "[217/300] train: 0.7087 - val: 0.7623\n",
      "[218/300] train: 0.7084 - val: 0.7627\n",
      "[219/300] train: 0.7084 - val: 0.7631\n",
      "[220/300] train: 0.7084 - val: 0.7627\n",
      "[221/300] train: 0.7086 - val: 0.7627\n",
      "[222/300] train: 0.7085 - val: 0.7620\n",
      "[223/300] train: 0.7085 - val: 0.7634\n",
      "[224/300] train: 0.7083 - val: 0.7627\n",
      "[225/300] train: 0.7084 - val: 0.7621\n",
      "[226/300] train: 0.7083 - val: 0.7619\n",
      "[227/300] train: 0.7084 - val: 0.7628\n",
      "[228/300] train: 0.7085 - val: 0.7624\n",
      "[229/300] train: 0.7083 - val: 0.7623\n",
      "[230/300] train: 0.7084 - val: 0.7627\n",
      "[231/300] train: 0.7085 - val: 0.7625\n",
      "[232/300] train: 0.7082 - val: 0.7624\n",
      "[233/300] train: 0.7081 - val: 0.7633\n",
      "[234/300] train: 0.7081 - val: 0.7627\n",
      "[235/300] train: 0.7085 - val: 0.7626\n",
      "[236/300] train: 0.7083 - val: 0.7625\n",
      "[237/300] train: 0.7086 - val: 0.7625\n",
      "[238/300] train: 0.7079 - val: 0.7626\n",
      "[239/300] train: 0.7082 - val: 0.7629\n",
      "[240/300] train: 0.7082 - val: 0.7622\n",
      "[241/300] train: 0.7083 - val: 0.7626\n",
      "[242/300] train: 0.7080 - val: 0.7631\n",
      "[243/300] train: 0.7084 - val: 0.7624\n",
      "[244/300] train: 0.7082 - val: 0.7623\n",
      "[245/300] train: 0.7084 - val: 0.7636\n",
      "[246/300] train: 0.7083 - val: 0.7634\n",
      "[247/300] train: 0.7082 - val: 0.7620\n",
      "[248/300] train: 0.7080 - val: 0.7625\n",
      "[249/300] train: 0.7079 - val: 0.7629\n",
      "[250/300] train: 0.7083 - val: 0.7623\n",
      "[251/300] train: 0.7079 - val: 0.7634\n",
      "[252/300] train: 0.7078 - val: 0.7622\n",
      "[253/300] train: 0.7082 - val: 0.7634\n",
      "[254/300] train: 0.7079 - val: 0.7625\n",
      "[255/300] train: 0.7079 - val: 0.7623\n",
      "[256/300] train: 0.7079 - val: 0.7625\n",
      "[257/300] train: 0.7077 - val: 0.7627\n",
      "[258/300] train: 0.7078 - val: 0.7624\n",
      "[259/300] train: 0.7082 - val: 0.7627\n",
      "[260/300] train: 0.7077 - val: 0.7634\n",
      "[261/300] train: 0.7080 - val: 0.7629\n",
      "[262/300] train: 0.7078 - val: 0.7630\n",
      "[263/300] train: 0.7078 - val: 0.7631\n",
      "[264/300] train: 0.7080 - val: 0.7635\n",
      "[265/300] train: 0.7079 - val: 0.7625\n",
      "[266/300] train: 0.7077 - val: 0.7627\n",
      "[267/300] train: 0.7078 - val: 0.7629\n",
      "[268/300] train: 0.7078 - val: 0.7626\n",
      "[269/300] train: 0.7080 - val: 0.7625\n",
      "[270/300] train: 0.7080 - val: 0.7617\n",
      "[271/300] train: 0.7078 - val: 0.7622\n",
      "[272/300] train: 0.7079 - val: 0.7627\n",
      "[273/300] train: 0.7076 - val: 0.7629\n",
      "[274/300] train: 0.7077 - val: 0.7629\n",
      "[275/300] train: 0.7078 - val: 0.7632\n",
      "[276/300] train: 0.7079 - val: 0.7623\n",
      "[277/300] train: 0.7079 - val: 0.7627\n",
      "[278/300] train: 0.7077 - val: 0.7623\n",
      "[279/300] train: 0.7075 - val: 0.7627\n",
      "[280/300] train: 0.7077 - val: 0.7626\n",
      "[281/300] train: 0.7076 - val: 0.7625\n",
      "[282/300] train: 0.7075 - val: 0.7627\n",
      "[283/300] train: 0.7076 - val: 0.7624\n",
      "[284/300] train: 0.7078 - val: 0.7632\n",
      "[285/300] train: 0.7079 - val: 0.7635\n",
      "[286/300] train: 0.7076 - val: 0.7624\n",
      "[287/300] train: 0.7076 - val: 0.7627\n",
      "[288/300] train: 0.7079 - val: 0.7629\n",
      "[289/300] train: 0.7078 - val: 0.7632\n",
      "[290/300] train: 0.7079 - val: 0.7628\n",
      "[291/300] train: 0.7077 - val: 0.7625\n",
      "[292/300] train: 0.7075 - val: 0.7621\n",
      "[293/300] train: 0.7078 - val: 0.7635\n",
      "[294/300] train: 0.7074 - val: 0.7625\n",
      "[295/300] train: 0.7074 - val: 0.7625\n",
      "[296/300] train: 0.7075 - val: 0.7619\n",
      "[297/300] train: 0.7073 - val: 0.7623\n",
      "[298/300] train: 0.7074 - val: 0.7626\n",
      "[299/300] train: 0.7077 - val: 0.7632\n",
      "[300/300] train: 0.7075 - val: 0.7628\n"
     ]
    }
   ],
   "source": [
    "for epoch in range(n_epochs):\n",
    "    stats = {'epoch': epoch + 1, 'total': n_epochs}\n",
    "\n",
    "    for phase in ('train', 'val'):\n",
    "        if phase == 'train':\n",
    "          training = True\n",
    "        else:\n",
    "          training = False\n",
    "        running_loss = 0\n",
    "        n_batches = 0\n",
    "        for batch in batches(*datasets[phase], shuffle=training, bs=bs):\n",
    "            x_batch, y_batch = [b.to(device) for b in batch]\n",
    "            optimizer.zero_grad()\n",
    "            # compute gradients only during 'train' phase\n",
    "            with torch.set_grad_enabled(training):\n",
    "                outputs = net(x_batch[:,0], x_batch[:,1], minmax)\n",
    "                loss = criterion(outputs, y_batch)\n",
    "                # don't update weights and rates when in 'val' phase\n",
    "                if training:\n",
    "                    #scheduler.step()\n",
    "                    loss.backward()\n",
    "                    optimizer.step()\n",
    "                    #lr_history.extend(scheduler.get_lr())\n",
    "            running_loss += loss.item()\n",
    "        epoch_loss = running_loss / dataset_sizes[phase]\n",
    "        stats[phase] = epoch_loss\n",
    "        # early stopping: save weights of the best model so far\n",
    "        if phase == 'val':\n",
    "            if epoch_loss < best_loss:\n",
    "                print('loss improvement on epoch: %d' % (epoch + 1))\n",
    "                best_loss = epoch_loss\n",
    "                best_weights = copy.deepcopy(net.state_dict())\n",
    "                no_improvements = 0\n",
    "            else:\n",
    "                no_improvements += 1\n",
    "    history.append(stats)\n",
    "    with open(f'logs/small.txt', 'a') as f:\n",
    "        print('[{epoch:03d}/{total:03d}] train: {train:.4f} - val: {val:.4f}'.format(**stats))\n",
    "        f.write('[{epoch:03d}/{total:03d}] train: {train:.4f} - val: {val:.4f}'.format(**stats))\n",
    "    if no_improvements >= patience:\n",
    "        print('early stopping after epoch {epoch:03d}'.format(**stats))\n",
    "        break"
   ],
   "metadata": {
    "collapsed": false,
    "pycharm": {
     "name": "#%%\n"
    }
   }
  },
  {
   "cell_type": "code",
   "execution_count": 140,
   "outputs": [
    {
     "data": {
      "text/plain": "<All keys matched successfully>"
     },
     "execution_count": 140,
     "metadata": {},
     "output_type": "execute_result"
    }
   ],
   "source": [
    "net.load_state_dict(best_weights)"
   ],
   "metadata": {
    "collapsed": false,
    "pycharm": {
     "name": "#%%\n"
    }
   }
  },
  {
   "cell_type": "code",
   "execution_count": 141,
   "outputs": [],
   "source": [
    "groud_truth, predictions = [], []\n",
    "\n",
    "with torch.no_grad():\n",
    "    for batch in batches(*datasets['val'], shuffle=False, bs=bs):\n",
    "        x_batch, y_batch = [b.to(device) for b in batch]\n",
    "        outputs = net(x_batch[:, 0], x_batch[:, 1], minmax)\n",
    "        groud_truth.extend(y_batch.tolist())\n",
    "        predictions.extend(outputs.tolist())\n",
    "\n",
    "groud_truth = np.asarray(groud_truth).ravel()\n",
    "predictions = np.asarray(predictions).ravel()"
   ],
   "metadata": {
    "collapsed": false,
    "pycharm": {
     "name": "#%%\n"
    }
   }
  },
  {
   "cell_type": "code",
   "execution_count": 142,
   "outputs": [
    {
     "name": "stdout",
     "output_type": "stream",
     "text": [
      "Validation RMSE: 0.8723\n"
     ]
    }
   ],
   "source": [
    "valid_loss = np.sqrt(np.mean((predictions - groud_truth)**2))\n",
    "print(f'Validation RMSE: {valid_loss:.4f}')"
   ],
   "metadata": {
    "collapsed": false,
    "pycharm": {
     "name": "#%%\n"
    }
   }
  },
  {
   "cell_type": "code",
   "execution_count": 143,
   "outputs": [],
   "source": [
    "groud_truth, predictions = [], []\n",
    "\n",
    "with torch.no_grad():\n",
    "    for batch in batches(*datasets['test'], shuffle=False, bs=bs):\n",
    "        x_batch, y_batch = [b.to(device) for b in batch]\n",
    "        outputs = net(x_batch[:, 0], x_batch[:, 1], minmax)\n",
    "        groud_truth.extend(y_batch.tolist())\n",
    "        predictions.extend(outputs.tolist())\n",
    "\n",
    "groud_truth = np.asarray(groud_truth).ravel()\n",
    "predictions = np.asarray(predictions).ravel()"
   ],
   "metadata": {
    "collapsed": false,
    "pycharm": {
     "name": "#%%\n"
    }
   }
  },
  {
   "cell_type": "code",
   "execution_count": 144,
   "outputs": [
    {
     "name": "stdout",
     "output_type": "stream",
     "text": [
      "Test RMSE: 0.8722\n"
     ]
    }
   ],
   "source": [
    "final_loss = np.sqrt(np.mean((predictions - groud_truth)**2))\n",
    "print(f'Test RMSE: {final_loss:.4f}')"
   ],
   "metadata": {
    "collapsed": false,
    "pycharm": {
     "name": "#%%\n"
    }
   }
  },
  {
   "cell_type": "code",
   "execution_count": 145,
   "outputs": [
    {
     "name": "stdout",
     "output_type": "stream",
     "text": [
      "duration: 881.0528\n"
     ]
    }
   ],
   "source": [
    "print(f'duration: {round(time.time() - start, 4)}')"
   ],
   "metadata": {
    "collapsed": false,
    "pycharm": {
     "name": "#%%\n"
    }
   }
  },
  {
   "cell_type": "code",
   "execution_count": 146,
   "outputs": [
    {
     "data": {
      "text/plain": "<Figure size 432x288 with 1 Axes>",
      "image/png": "[encoded data removed]"
     },
     "metadata": {},
     "output_type": "display_data"
    }
   ],
   "source": [
    "plt.rcParams['font.size'] = 26\n",
    "plt.rcParams['axes.labelsize'] = 26\n",
    "plt.rcParams['xtick.labelsize'] = 26\n",
    "plt.rcParams['ytick.labelsize'] = 26\n",
    "plt.rcParams['legend.fontsize'] = 26\n",
    "plt.style.use('seaborn-whitegrid')\n",
    "ax = pd.DataFrame(history).drop(columns='total').plot(x='epoch')\n",
    "plt.ylabel('RMSE')\n",
    "plt.ylim([0.2, 1.3])\n",
    "\n",
    "plt.savefig(figure_path + '/' + dataset +'-small-loss.png', dpi=300, bbox_inches='tight')\n"
   ],
   "metadata": {
    "collapsed": false,
    "pycharm": {
     "name": "#%%\n"
    }
   }
  },
  {
   "cell_type": "code",
   "execution_count": 147,
   "outputs": [],
   "source": [
    "with open('best.weights.small', 'wb') as file:\n",
    "    pickle.dump(best_weights, file)"
   ],
   "metadata": {
    "collapsed": false,
    "pycharm": {
     "name": "#%%\n"
    }
   }
  },
  {
   "cell_type": "code",
   "execution_count": 148,
   "outputs": [],
   "source": [
    "# medium net\n",
    "\n",
    "start = time.time()\n",
    "net = RecommenderNet(\n",
    "    n_users=n, n_movies=m,\n",
    "    n_factors=20, hidden=[10 ,10],\n",
    "    embedding_dropout=0.05, dropouts=[0.3, 0.3])"
   ],
   "metadata": {
    "collapsed": false,
    "pycharm": {
     "name": "#%%\n"
    }
   }
  },
  {
   "cell_type": "code",
   "execution_count": 149,
   "outputs": [],
   "source": [
    "lr = 1e-3\n",
    "wd = 1e-5\n",
    "bs = 4096\n",
    "n_epochs = 300\n",
    "patience = 300\n",
    "no_improvements = 0\n",
    "best_loss = np.inf\n",
    "best_weights = None\n",
    "history = []\n",
    "lr_history = []\n",
    "\n",
    "device = torch.device('cuda:0' if torch.cuda.is_available() else 'cpu')\n",
    "\n",
    "net.to(device)\n",
    "criterion = nn.MSELoss(reduction='sum')\n",
    "optimizer = optim.Adam(net.parameters(), lr=lr, weight_decay=wd)"
   ],
   "metadata": {
    "collapsed": false,
    "pycharm": {
     "name": "#%%\n"
    }
   }
  },
  {
   "cell_type": "code",
   "execution_count": 150,
   "outputs": [
    {
     "name": "stdout",
     "output_type": "stream",
     "text": [
      "loss improvement on epoch: 1\n",
      "[001/300] train: 0.8778 - val: 0.7960\n",
      "loss improvement on epoch: 2\n",
      "[002/300] train: 0.7761 - val: 0.7788\n",
      "loss improvement on epoch: 3\n",
      "[003/300] train: 0.7622 - val: 0.7744\n",
      "loss improvement on epoch: 4\n",
      "[004/300] train: 0.7550 - val: 0.7715\n",
      "loss improvement on epoch: 5\n",
      "[005/300] train: 0.7495 - val: 0.7700\n",
      "loss improvement on epoch: 6\n",
      "[006/300] train: 0.7452 - val: 0.7690\n",
      "loss improvement on epoch: 7\n",
      "[007/300] train: 0.7415 - val: 0.7679\n",
      "loss improvement on epoch: 8\n",
      "[008/300] train: 0.7387 - val: 0.7669\n",
      "[009/300] train: 0.7367 - val: 0.7669\n",
      "[010/300] train: 0.7345 - val: 0.7671\n",
      "loss improvement on epoch: 11\n",
      "[011/300] train: 0.7330 - val: 0.7664\n",
      "loss improvement on epoch: 12\n",
      "[012/300] train: 0.7312 - val: 0.7653\n",
      "[013/300] train: 0.7302 - val: 0.7655\n",
      "[014/300] train: 0.7290 - val: 0.7659\n",
      "[015/300] train: 0.7278 - val: 0.7659\n",
      "[016/300] train: 0.7267 - val: 0.7658\n",
      "[017/300] train: 0.7258 - val: 0.7656\n",
      "[018/300] train: 0.7248 - val: 0.7663\n",
      "[019/300] train: 0.7240 - val: 0.7655\n",
      "[020/300] train: 0.7237 - val: 0.7654\n",
      "[021/300] train: 0.7229 - val: 0.7656\n",
      "[022/300] train: 0.7222 - val: 0.7657\n",
      "[023/300] train: 0.7218 - val: 0.7661\n",
      "[024/300] train: 0.7212 - val: 0.7664\n",
      "[025/300] train: 0.7205 - val: 0.7660\n",
      "[026/300] train: 0.7201 - val: 0.7659\n",
      "[027/300] train: 0.7196 - val: 0.7657\n",
      "[028/300] train: 0.7190 - val: 0.7655\n",
      "[029/300] train: 0.7186 - val: 0.7663\n",
      "[030/300] train: 0.7183 - val: 0.7667\n",
      "[031/300] train: 0.7179 - val: 0.7666\n",
      "[032/300] train: 0.7172 - val: 0.7662\n",
      "[033/300] train: 0.7168 - val: 0.7674\n",
      "[034/300] train: 0.7167 - val: 0.7662\n",
      "[035/300] train: 0.7167 - val: 0.7668\n",
      "[036/300] train: 0.7161 - val: 0.7666\n",
      "[037/300] train: 0.7162 - val: 0.7663\n",
      "[038/300] train: 0.7158 - val: 0.7672\n",
      "[039/300] train: 0.7155 - val: 0.7673\n",
      "[040/300] train: 0.7149 - val: 0.7676\n",
      "[041/300] train: 0.7144 - val: 0.7671\n",
      "[042/300] train: 0.7141 - val: 0.7667\n",
      "[043/300] train: 0.7144 - val: 0.7663\n",
      "[044/300] train: 0.7138 - val: 0.7664\n",
      "[045/300] train: 0.7141 - val: 0.7678\n",
      "[046/300] train: 0.7134 - val: 0.7672\n",
      "[047/300] train: 0.7131 - val: 0.7685\n",
      "[048/300] train: 0.7126 - val: 0.7672\n",
      "[049/300] train: 0.7129 - val: 0.7676\n",
      "[050/300] train: 0.7127 - val: 0.7674\n",
      "[051/300] train: 0.7123 - val: 0.7680\n",
      "[052/300] train: 0.7122 - val: 0.7677\n",
      "[053/300] train: 0.7117 - val: 0.7687\n",
      "[054/300] train: 0.7115 - val: 0.7668\n",
      "[055/300] train: 0.7116 - val: 0.7677\n",
      "[056/300] train: 0.7115 - val: 0.7688\n",
      "[057/300] train: 0.7111 - val: 0.7674\n",
      "[058/300] train: 0.7110 - val: 0.7685\n",
      "[059/300] train: 0.7105 - val: 0.7671\n",
      "[060/300] train: 0.7108 - val: 0.7678\n",
      "[061/300] train: 0.7105 - val: 0.7682\n",
      "[062/300] train: 0.7105 - val: 0.7687\n",
      "[063/300] train: 0.7104 - val: 0.7683\n",
      "[064/300] train: 0.7101 - val: 0.7686\n",
      "[065/300] train: 0.7102 - val: 0.7682\n",
      "[066/300] train: 0.7099 - val: 0.7691\n",
      "[067/300] train: 0.7092 - val: 0.7686\n",
      "[068/300] train: 0.7094 - val: 0.7694\n",
      "[069/300] train: 0.7093 - val: 0.7694\n",
      "[070/300] train: 0.7091 - val: 0.7683\n",
      "[071/300] train: 0.7091 - val: 0.7689\n",
      "[072/300] train: 0.7092 - val: 0.7691\n",
      "[073/300] train: 0.7091 - val: 0.7696\n",
      "[074/300] train: 0.7086 - val: 0.7688\n",
      "[075/300] train: 0.7089 - val: 0.7691\n",
      "[076/300] train: 0.7087 - val: 0.7697\n",
      "[077/300] train: 0.7082 - val: 0.7697\n",
      "[078/300] train: 0.7086 - val: 0.7688\n",
      "[079/300] train: 0.7082 - val: 0.7690\n",
      "[080/300] train: 0.7083 - val: 0.7693\n",
      "[081/300] train: 0.7081 - val: 0.7693\n",
      "[082/300] train: 0.7080 - val: 0.7696\n",
      "[083/300] train: 0.7078 - val: 0.7694\n",
      "[084/300] train: 0.7077 - val: 0.7694\n",
      "[085/300] train: 0.7076 - val: 0.7694\n",
      "[086/300] train: 0.7076 - val: 0.7690\n",
      "[087/300] train: 0.7075 - val: 0.7692\n",
      "[088/300] train: 0.7074 - val: 0.7692\n",
      "[089/300] train: 0.7073 - val: 0.7693\n",
      "[090/300] train: 0.7073 - val: 0.7695\n",
      "[091/300] train: 0.7072 - val: 0.7697\n",
      "[092/300] train: 0.7070 - val: 0.7691\n",
      "[093/300] train: 0.7071 - val: 0.7694\n",
      "[094/300] train: 0.7070 - val: 0.7694\n",
      "[095/300] train: 0.7067 - val: 0.7694\n",
      "[096/300] train: 0.7067 - val: 0.7685\n",
      "[097/300] train: 0.7067 - val: 0.7697\n",
      "[098/300] train: 0.7068 - val: 0.7696\n",
      "[099/300] train: 0.7066 - val: 0.7702\n",
      "[100/300] train: 0.7066 - val: 0.7689\n",
      "[101/300] train: 0.7066 - val: 0.7697\n",
      "[102/300] train: 0.7066 - val: 0.7709\n",
      "[103/300] train: 0.7061 - val: 0.7699\n",
      "[104/300] train: 0.7061 - val: 0.7700\n",
      "[105/300] train: 0.7061 - val: 0.7703\n",
      "[106/300] train: 0.7061 - val: 0.7705\n",
      "[107/300] train: 0.7062 - val: 0.7699\n",
      "[108/300] train: 0.7058 - val: 0.7702\n",
      "[109/300] train: 0.7054 - val: 0.7700\n",
      "[110/300] train: 0.7057 - val: 0.7697\n",
      "[111/300] train: 0.7055 - val: 0.7709\n",
      "[112/300] train: 0.7052 - val: 0.7696\n",
      "[113/300] train: 0.7055 - val: 0.7688\n",
      "[114/300] train: 0.7052 - val: 0.7705\n",
      "[115/300] train: 0.7052 - val: 0.7704\n",
      "[116/300] train: 0.7052 - val: 0.7699\n",
      "[117/300] train: 0.7054 - val: 0.7705\n",
      "[118/300] train: 0.7052 - val: 0.7704\n",
      "[119/300] train: 0.7052 - val: 0.7702\n",
      "[120/300] train: 0.7050 - val: 0.7712\n",
      "[121/300] train: 0.7050 - val: 0.7699\n",
      "[122/300] train: 0.7050 - val: 0.7698\n",
      "[123/300] train: 0.7049 - val: 0.7704\n",
      "[124/300] train: 0.7050 - val: 0.7692\n",
      "[125/300] train: 0.7047 - val: 0.7710\n",
      "[126/300] train: 0.7046 - val: 0.7700\n",
      "[127/300] train: 0.7047 - val: 0.7705\n",
      "[128/300] train: 0.7046 - val: 0.7698\n",
      "[129/300] train: 0.7047 - val: 0.7705\n",
      "[130/300] train: 0.7046 - val: 0.7715\n",
      "[131/300] train: 0.7049 - val: 0.7713\n",
      "[132/300] train: 0.7043 - val: 0.7706\n",
      "[133/300] train: 0.7043 - val: 0.7703\n",
      "[134/300] train: 0.7045 - val: 0.7720\n",
      "[135/300] train: 0.7041 - val: 0.7709\n",
      "[136/300] train: 0.7040 - val: 0.7708\n",
      "[137/300] train: 0.7045 - val: 0.7712\n",
      "[138/300] train: 0.7043 - val: 0.7692\n",
      "[139/300] train: 0.7043 - val: 0.7708\n",
      "[140/300] train: 0.7042 - val: 0.7714\n",
      "[141/300] train: 0.7038 - val: 0.7708\n",
      "[142/300] train: 0.7040 - val: 0.7720\n",
      "[143/300] train: 0.7037 - val: 0.7703\n",
      "[144/300] train: 0.7044 - val: 0.7711\n",
      "[145/300] train: 0.7037 - val: 0.7704\n",
      "[146/300] train: 0.7039 - val: 0.7708\n",
      "[147/300] train: 0.7036 - val: 0.7713\n",
      "[148/300] train: 0.7039 - val: 0.7721\n",
      "[149/300] train: 0.7036 - val: 0.7708\n",
      "[150/300] train: 0.7039 - val: 0.7714\n",
      "[151/300] train: 0.7037 - val: 0.7709\n",
      "[152/300] train: 0.7034 - val: 0.7706\n",
      "[153/300] train: 0.7032 - val: 0.7708\n",
      "[154/300] train: 0.7033 - val: 0.7707\n",
      "[155/300] train: 0.7038 - val: 0.7712\n",
      "[156/300] train: 0.7033 - val: 0.7713\n",
      "[157/300] train: 0.7033 - val: 0.7721\n",
      "[158/300] train: 0.7037 - val: 0.7718\n",
      "[159/300] train: 0.7031 - val: 0.7711\n",
      "[160/300] train: 0.7034 - val: 0.7712\n",
      "[161/300] train: 0.7030 - val: 0.7722\n",
      "[162/300] train: 0.7033 - val: 0.7722\n",
      "[163/300] train: 0.7031 - val: 0.7718\n",
      "[164/300] train: 0.7034 - val: 0.7718\n",
      "[165/300] train: 0.7032 - val: 0.7713\n",
      "[166/300] train: 0.7032 - val: 0.7714\n",
      "[167/300] train: 0.7032 - val: 0.7713\n",
      "[168/300] train: 0.7030 - val: 0.7705\n",
      "[169/300] train: 0.7028 - val: 0.7719\n",
      "[170/300] train: 0.7028 - val: 0.7723\n",
      "[171/300] train: 0.7026 - val: 0.7712\n",
      "[172/300] train: 0.7026 - val: 0.7714\n",
      "[173/300] train: 0.7029 - val: 0.7711\n",
      "[174/300] train: 0.7029 - val: 0.7712\n",
      "[175/300] train: 0.7031 - val: 0.7705\n",
      "[176/300] train: 0.7030 - val: 0.7724\n",
      "[177/300] train: 0.7027 - val: 0.7718\n",
      "[178/300] train: 0.7029 - val: 0.7717\n",
      "[179/300] train: 0.7026 - val: 0.7717\n",
      "[180/300] train: 0.7027 - val: 0.7720\n",
      "[181/300] train: 0.7025 - val: 0.7714\n",
      "[182/300] train: 0.7028 - val: 0.7718\n",
      "[183/300] train: 0.7026 - val: 0.7714\n",
      "[184/300] train: 0.7025 - val: 0.7722\n",
      "[185/300] train: 0.7026 - val: 0.7716\n",
      "[186/300] train: 0.7024 - val: 0.7712\n",
      "[187/300] train: 0.7026 - val: 0.7713\n",
      "[188/300] train: 0.7023 - val: 0.7703\n",
      "[189/300] train: 0.7023 - val: 0.7719\n",
      "[190/300] train: 0.7024 - val: 0.7717\n",
      "[191/300] train: 0.7025 - val: 0.7710\n",
      "[192/300] train: 0.7022 - val: 0.7717\n",
      "[193/300] train: 0.7022 - val: 0.7716\n",
      "[194/300] train: 0.7022 - val: 0.7708\n",
      "[195/300] train: 0.7024 - val: 0.7703\n",
      "[196/300] train: 0.7024 - val: 0.7723\n",
      "[197/300] train: 0.7022 - val: 0.7715\n",
      "[198/300] train: 0.7025 - val: 0.7710\n",
      "[199/300] train: 0.7026 - val: 0.7722\n",
      "[200/300] train: 0.7021 - val: 0.7713\n",
      "[201/300] train: 0.7020 - val: 0.7715\n",
      "[202/300] train: 0.7023 - val: 0.7719\n",
      "[203/300] train: 0.7016 - val: 0.7715\n",
      "[204/300] train: 0.7022 - val: 0.7715\n",
      "[205/300] train: 0.7020 - val: 0.7724\n",
      "[206/300] train: 0.7022 - val: 0.7716\n",
      "[207/300] train: 0.7022 - val: 0.7717\n",
      "[208/300] train: 0.7020 - val: 0.7726\n",
      "[209/300] train: 0.7015 - val: 0.7724\n",
      "[210/300] train: 0.7023 - val: 0.7717\n",
      "[211/300] train: 0.7017 - val: 0.7728\n",
      "[212/300] train: 0.7023 - val: 0.7725\n",
      "[213/300] train: 0.7018 - val: 0.7717\n",
      "[214/300] train: 0.7020 - val: 0.7722\n",
      "[215/300] train: 0.7019 - val: 0.7713\n",
      "[216/300] train: 0.7020 - val: 0.7722\n",
      "[217/300] train: 0.7017 - val: 0.7742\n",
      "[218/300] train: 0.7017 - val: 0.7718\n",
      "[219/300] train: 0.7015 - val: 0.7718\n",
      "[220/300] train: 0.7017 - val: 0.7714\n",
      "[221/300] train: 0.7016 - val: 0.7734\n",
      "[222/300] train: 0.7014 - val: 0.7725\n",
      "[223/300] train: 0.7016 - val: 0.7713\n",
      "[224/300] train: 0.7018 - val: 0.7710\n",
      "[225/300] train: 0.7015 - val: 0.7716\n",
      "[226/300] train: 0.7018 - val: 0.7712\n",
      "[227/300] train: 0.7011 - val: 0.7726\n",
      "[228/300] train: 0.7016 - val: 0.7727\n",
      "[229/300] train: 0.7017 - val: 0.7700\n",
      "[230/300] train: 0.7015 - val: 0.7728\n",
      "[231/300] train: 0.7013 - val: 0.7705\n",
      "[232/300] train: 0.7015 - val: 0.7712\n",
      "[233/300] train: 0.7017 - val: 0.7728\n",
      "[234/300] train: 0.7012 - val: 0.7720\n",
      "[235/300] train: 0.7015 - val: 0.7721\n",
      "[236/300] train: 0.7014 - val: 0.7724\n",
      "[237/300] train: 0.7015 - val: 0.7721\n",
      "[238/300] train: 0.7012 - val: 0.7728\n",
      "[239/300] train: 0.7017 - val: 0.7735\n",
      "[240/300] train: 0.7014 - val: 0.7719\n",
      "[241/300] train: 0.7013 - val: 0.7733\n",
      "[242/300] train: 0.7011 - val: 0.7722\n",
      "[243/300] train: 0.7011 - val: 0.7721\n",
      "[244/300] train: 0.7014 - val: 0.7727\n",
      "[245/300] train: 0.7013 - val: 0.7728\n",
      "[246/300] train: 0.7010 - val: 0.7735\n",
      "[247/300] train: 0.7014 - val: 0.7737\n",
      "[248/300] train: 0.7014 - val: 0.7741\n",
      "[249/300] train: 0.7011 - val: 0.7724\n",
      "[250/300] train: 0.7009 - val: 0.7721\n",
      "[251/300] train: 0.7010 - val: 0.7719\n",
      "[252/300] train: 0.7011 - val: 0.7733\n",
      "[253/300] train: 0.7007 - val: 0.7713\n",
      "[254/300] train: 0.7010 - val: 0.7731\n",
      "[255/300] train: 0.7007 - val: 0.7724\n",
      "[256/300] train: 0.7009 - val: 0.7713\n",
      "[257/300] train: 0.7007 - val: 0.7743\n",
      "[258/300] train: 0.7009 - val: 0.7728\n",
      "[259/300] train: 0.7012 - val: 0.7727\n",
      "[260/300] train: 0.7008 - val: 0.7726\n",
      "[261/300] train: 0.7009 - val: 0.7730\n",
      "[262/300] train: 0.7010 - val: 0.7734\n",
      "[263/300] train: 0.7011 - val: 0.7734\n",
      "[264/300] train: 0.7010 - val: 0.7714\n",
      "[265/300] train: 0.7008 - val: 0.7724\n",
      "[266/300] train: 0.7006 - val: 0.7731\n",
      "[267/300] train: 0.7009 - val: 0.7721\n",
      "[268/300] train: 0.7006 - val: 0.7725\n",
      "[269/300] train: 0.7008 - val: 0.7729\n",
      "[270/300] train: 0.7006 - val: 0.7725\n",
      "[271/300] train: 0.7008 - val: 0.7717\n",
      "[272/300] train: 0.7005 - val: 0.7724\n",
      "[273/300] train: 0.7008 - val: 0.7738\n",
      "[274/300] train: 0.7009 - val: 0.7739\n",
      "[275/300] train: 0.7007 - val: 0.7717\n",
      "[276/300] train: 0.7010 - val: 0.7719\n",
      "[277/300] train: 0.7008 - val: 0.7729\n",
      "[278/300] train: 0.7011 - val: 0.7716\n",
      "[279/300] train: 0.7006 - val: 0.7722\n",
      "[280/300] train: 0.7005 - val: 0.7722\n",
      "[281/300] train: 0.7010 - val: 0.7724\n",
      "[282/300] train: 0.7009 - val: 0.7727\n",
      "[283/300] train: 0.7008 - val: 0.7742\n",
      "[284/300] train: 0.7006 - val: 0.7731\n",
      "[285/300] train: 0.7004 - val: 0.7723\n",
      "[286/300] train: 0.7007 - val: 0.7727\n",
      "[287/300] train: 0.7005 - val: 0.7736\n",
      "[288/300] train: 0.7004 - val: 0.7746\n",
      "[289/300] train: 0.7006 - val: 0.7722\n",
      "[290/300] train: 0.7006 - val: 0.7725\n",
      "[291/300] train: 0.7006 - val: 0.7721\n",
      "[292/300] train: 0.7004 - val: 0.7745\n",
      "[293/300] train: 0.7009 - val: 0.7730\n",
      "[294/300] train: 0.7004 - val: 0.7729\n",
      "[295/300] train: 0.6999 - val: 0.7718\n",
      "[296/300] train: 0.7007 - val: 0.7717\n",
      "[297/300] train: 0.7003 - val: 0.7731\n",
      "[298/300] train: 0.7004 - val: 0.7729\n",
      "[299/300] train: 0.7002 - val: 0.7732\n",
      "[300/300] train: 0.7004 - val: 0.7728\n"
     ]
    }
   ],
   "source": [
    "for epoch in range(n_epochs):\n",
    "    stats = {'epoch': epoch + 1, 'total': n_epochs}\n",
    "\n",
    "    for phase in ('train', 'val'):\n",
    "        if phase == 'train':\n",
    "          training = True\n",
    "        else:\n",
    "          training = False\n",
    "        running_loss = 0\n",
    "        n_batches = 0\n",
    "        for batch in batches(*datasets[phase], shuffle=training, bs=bs):\n",
    "            x_batch, y_batch = [b.to(device) for b in batch]\n",
    "            optimizer.zero_grad()\n",
    "            # compute gradients only during 'train' phase\n",
    "            with torch.set_grad_enabled(training):\n",
    "                outputs = net(x_batch[:,0], x_batch[:,1], minmax)\n",
    "                loss = criterion(outputs, y_batch)\n",
    "                # don't update weights and rates when in 'val' phase\n",
    "                if training:\n",
    "                    #scheduler.step()\n",
    "                    loss.backward()\n",
    "                    optimizer.step()\n",
    "                    #lr_history.extend(scheduler.get_lr())\n",
    "            running_loss += loss.item()\n",
    "        epoch_loss = running_loss / dataset_sizes[phase]\n",
    "        stats[phase] = epoch_loss\n",
    "        # early stopping: save weights of the best model so far\n",
    "        if phase == 'val':\n",
    "            if epoch_loss < best_loss:\n",
    "                print('loss improvement on epoch: %d' % (epoch + 1))\n",
    "                best_loss = epoch_loss\n",
    "                best_weights = copy.deepcopy(net.state_dict())\n",
    "                no_improvements = 0\n",
    "            else:\n",
    "                no_improvements += 1\n",
    "    history.append(stats)\n",
    "    with open(f'logs/medium.txt', 'a') as f:\n",
    "        print('[{epoch:03d}/{total:03d}] train: {train:.4f} - val: {val:.4f}'.format(**stats))\n",
    "        f.write('[{epoch:03d}/{total:03d}] train: {train:.4f} - val: {val:.4f}'.format(**stats))\n",
    "    if no_improvements >= patience:\n",
    "        print('early stopping after epoch {epoch:03d}'.format(**stats))\n",
    "        break"
   ],
   "metadata": {
    "collapsed": false,
    "pycharm": {
     "name": "#%%\n"
    }
   }
  },
  {
   "cell_type": "code",
   "execution_count": 151,
   "outputs": [
    {
     "data": {
      "text/plain": "<All keys matched successfully>"
     },
     "execution_count": 151,
     "metadata": {},
     "output_type": "execute_result"
    }
   ],
   "source": [
    "net.load_state_dict(best_weights)"
   ],
   "metadata": {
    "collapsed": false,
    "pycharm": {
     "name": "#%%\n"
    }
   }
  },
  {
   "cell_type": "code",
   "execution_count": 152,
   "outputs": [],
   "source": [
    "groud_truth, predictions = [], []\n",
    "\n",
    "with torch.no_grad():\n",
    "    for batch in batches(*datasets['val'], shuffle=False, bs=bs):\n",
    "        x_batch, y_batch = [b.to(device) for b in batch]\n",
    "        outputs = net(x_batch[:, 0], x_batch[:, 1], minmax)\n",
    "        groud_truth.extend(y_batch.tolist())\n",
    "        predictions.extend(outputs.tolist())\n",
    "\n",
    "groud_truth = np.asarray(groud_truth).ravel()\n",
    "predictions = np.asarray(predictions).ravel()"
   ],
   "metadata": {
    "collapsed": false,
    "pycharm": {
     "name": "#%%\n"
    }
   }
  },
  {
   "cell_type": "code",
   "execution_count": 153,
   "outputs": [
    {
     "name": "stdout",
     "output_type": "stream",
     "text": [
      "Validation RMSE: 0.8755\n"
     ]
    }
   ],
   "source": [
    "valid_loss = np.sqrt(np.mean((predictions - groud_truth)**2))\n",
    "print(f'Validation RMSE: {valid_loss:.4f}')"
   ],
   "metadata": {
    "collapsed": false,
    "pycharm": {
     "name": "#%%\n"
    }
   }
  },
  {
   "cell_type": "code",
   "execution_count": 154,
   "outputs": [],
   "source": [
    "groud_truth, predictions = [], []\n",
    "\n",
    "with torch.no_grad():\n",
    "    for batch in batches(*datasets['test'], shuffle=False, bs=bs):\n",
    "        x_batch, y_batch = [b.to(device) for b in batch]\n",
    "        outputs = net(x_batch[:, 0], x_batch[:, 1], minmax)\n",
    "        groud_truth.extend(y_batch.tolist())\n",
    "        predictions.extend(outputs.tolist())\n",
    "\n",
    "groud_truth = np.asarray(groud_truth).ravel()\n",
    "predictions = np.asarray(predictions).ravel()"
   ],
   "metadata": {
    "collapsed": false,
    "pycharm": {
     "name": "#%%\n"
    }
   }
  },
  {
   "cell_type": "code",
   "execution_count": 155,
   "outputs": [
    {
     "name": "stdout",
     "output_type": "stream",
     "text": [
      "Test RMSE: 0.8752\n"
     ]
    }
   ],
   "source": [
    "final_loss = np.sqrt(np.mean((predictions - groud_truth)**2))\n",
    "print(f'Test RMSE: {final_loss:.4f}')"
   ],
   "metadata": {
    "collapsed": false,
    "pycharm": {
     "name": "#%%\n"
    }
   }
  },
  {
   "cell_type": "code",
   "execution_count": 156,
   "outputs": [
    {
     "name": "stdout",
     "output_type": "stream",
     "text": [
      "duration: 1105.3203\n"
     ]
    }
   ],
   "source": [
    "print(f'duration: {round(time.time() - start, 4)}')"
   ],
   "metadata": {
    "collapsed": false,
    "pycharm": {
     "name": "#%%\n"
    }
   }
  },
  {
   "cell_type": "code",
   "execution_count": 157,
   "outputs": [],
   "source": [
    "with open('best.weights.medium', 'wb') as file:\n",
    "    pickle.dump(best_weights, file)"
   ],
   "metadata": {
    "collapsed": false,
    "pycharm": {
     "name": "#%%\n"
    }
   }
  },
  {
   "cell_type": "code",
   "execution_count": 158,
   "outputs": [
    {
     "data": {
      "text/plain": "<Figure size 432x288 with 1 Axes>",
      "image/png": "[encoded data removed]"
     },
     "metadata": {},
     "output_type": "display_data"
    }
   ],
   "source": [
    "plt.rcParams['font.size'] = 26\n",
    "plt.rcParams['axes.labelsize'] = 26\n",
    "plt.rcParams['xtick.labelsize'] = 26\n",
    "plt.rcParams['ytick.labelsize'] = 26\n",
    "plt.rcParams['legend.fontsize'] = 26\n",
    "plt.style.use('seaborn-whitegrid')\n",
    "ax = pd.DataFrame(history).drop(columns='total').plot(x='epoch')\n",
    "plt.ylabel('RMSE')\n",
    "plt.ylim([0.2, 1.3])\n",
    "\n",
    "plt.savefig(figure_path + '/' + dataset +'-medium-loss.png', dpi=300, bbox_inches='tight')"
   ],
   "metadata": {
    "collapsed": false,
    "pycharm": {
     "name": "#%%\n"
    }
   }
  },
  {
   "cell_type": "code",
   "execution_count": 159,
   "outputs": [],
   "source": [
    "# large net\n",
    "\n",
    "start = time.time()\n",
    "net = RecommenderNet(\n",
    "    n_users=n, n_movies=m,\n",
    "    n_factors=50, hidden=[100, 100, 100],\n",
    "    embedding_dropout=0.05, dropouts=[0.3, 0.3, 0.3])"
   ],
   "metadata": {
    "collapsed": false,
    "pycharm": {
     "name": "#%%\n"
    }
   }
  },
  {
   "cell_type": "code",
   "execution_count": 160,
   "outputs": [],
   "source": [
    "lr = 1e-3\n",
    "wd = 1e-5\n",
    "bs = 4096\n",
    "n_epochs = 300\n",
    "patience = 300\n",
    "no_improvements = 0\n",
    "best_loss = np.inf\n",
    "best_weights = None\n",
    "history = []\n",
    "lr_history = []\n",
    "\n",
    "device = torch.device('cuda:0' if torch.cuda.is_available() else 'cpu')\n",
    "\n",
    "net.to(device)\n",
    "criterion = nn.MSELoss(reduction='sum')\n",
    "optimizer = optim.Adam(net.parameters(), lr=lr, weight_decay=wd)"
   ],
   "metadata": {
    "collapsed": false,
    "pycharm": {
     "name": "#%%\n"
    }
   }
  },
  {
   "cell_type": "code",
   "execution_count": 161,
   "outputs": [
    {
     "name": "stdout",
     "output_type": "stream",
     "text": [
      "loss improvement on epoch: 1\n",
      "[001/300] train: 0.7883 - val: 0.7387\n",
      "loss improvement on epoch: 2\n",
      "[002/300] train: 0.7133 - val: 0.7173\n",
      "loss improvement on epoch: 3\n",
      "[003/300] train: 0.6867 - val: 0.7073\n",
      "loss improvement on epoch: 4\n",
      "[004/300] train: 0.6664 - val: 0.7017\n",
      "loss improvement on epoch: 5\n",
      "[005/300] train: 0.6484 - val: 0.6974\n",
      "loss improvement on epoch: 6\n",
      "[006/300] train: 0.6326 - val: 0.6968\n",
      "[007/300] train: 0.6177 - val: 0.6975\n",
      "[008/300] train: 0.6046 - val: 0.6977\n",
      "[009/300] train: 0.5933 - val: 0.6984\n",
      "[010/300] train: 0.5833 - val: 0.7004\n",
      "[011/300] train: 0.5743 - val: 0.7023\n",
      "[012/300] train: 0.5665 - val: 0.7090\n",
      "[013/300] train: 0.5594 - val: 0.7048\n",
      "[014/300] train: 0.5532 - val: 0.7081\n",
      "[015/300] train: 0.5473 - val: 0.7108\n",
      "[016/300] train: 0.5419 - val: 0.7143\n",
      "[017/300] train: 0.5369 - val: 0.7157\n",
      "[018/300] train: 0.5328 - val: 0.7152\n",
      "[019/300] train: 0.5287 - val: 0.7198\n",
      "[020/300] train: 0.5247 - val: 0.7172\n",
      "[021/300] train: 0.5211 - val: 0.7216\n",
      "[022/300] train: 0.5180 - val: 0.7194\n",
      "[023/300] train: 0.5148 - val: 0.7218\n",
      "[024/300] train: 0.5119 - val: 0.7239\n",
      "[025/300] train: 0.5094 - val: 0.7257\n",
      "[026/300] train: 0.5067 - val: 0.7263\n",
      "[027/300] train: 0.5039 - val: 0.7272\n",
      "[028/300] train: 0.5020 - val: 0.7288\n",
      "[029/300] train: 0.4998 - val: 0.7335\n",
      "[030/300] train: 0.4974 - val: 0.7339\n",
      "[031/300] train: 0.4955 - val: 0.7357\n",
      "[032/300] train: 0.4935 - val: 0.7379\n",
      "[033/300] train: 0.4917 - val: 0.7385\n",
      "[034/300] train: 0.4902 - val: 0.7333\n",
      "[035/300] train: 0.4886 - val: 0.7372\n",
      "[036/300] train: 0.4871 - val: 0.7384\n",
      "[037/300] train: 0.4854 - val: 0.7390\n",
      "[038/300] train: 0.4838 - val: 0.7386\n",
      "[039/300] train: 0.4828 - val: 0.7372\n",
      "[040/300] train: 0.4815 - val: 0.7422\n",
      "[041/300] train: 0.4800 - val: 0.7465\n",
      "[042/300] train: 0.4788 - val: 0.7399\n",
      "[043/300] train: 0.4777 - val: 0.7422\n",
      "[044/300] train: 0.4768 - val: 0.7465\n",
      "[045/300] train: 0.4755 - val: 0.7465\n",
      "[046/300] train: 0.4745 - val: 0.7472\n",
      "[047/300] train: 0.4735 - val: 0.7486\n",
      "[048/300] train: 0.4725 - val: 0.7479\n",
      "[049/300] train: 0.4717 - val: 0.7464\n",
      "[050/300] train: 0.4708 - val: 0.7499\n",
      "[051/300] train: 0.4697 - val: 0.7463\n",
      "[052/300] train: 0.4690 - val: 0.7477\n",
      "[053/300] train: 0.4680 - val: 0.7488\n",
      "[054/300] train: 0.4676 - val: 0.7543\n",
      "[055/300] train: 0.4666 - val: 0.7483\n",
      "[056/300] train: 0.4660 - val: 0.7510\n",
      "[057/300] train: 0.4650 - val: 0.7519\n",
      "[058/300] train: 0.4642 - val: 0.7492\n",
      "[059/300] train: 0.4638 - val: 0.7501\n",
      "[060/300] train: 0.4633 - val: 0.7567\n",
      "[061/300] train: 0.4625 - val: 0.7496\n",
      "[062/300] train: 0.4617 - val: 0.7505\n",
      "[063/300] train: 0.4615 - val: 0.7520\n",
      "[064/300] train: 0.4606 - val: 0.7576\n",
      "[065/300] train: 0.4600 - val: 0.7551\n",
      "[066/300] train: 0.4592 - val: 0.7456\n",
      "[067/300] train: 0.4591 - val: 0.7540\n",
      "[068/300] train: 0.4586 - val: 0.7538\n",
      "[069/300] train: 0.4579 - val: 0.7524\n",
      "[070/300] train: 0.4574 - val: 0.7511\n",
      "[071/300] train: 0.4571 - val: 0.7624\n",
      "[072/300] train: 0.4563 - val: 0.7569\n",
      "[073/300] train: 0.4559 - val: 0.7585\n",
      "[074/300] train: 0.4559 - val: 0.7577\n",
      "[075/300] train: 0.4552 - val: 0.7611\n",
      "[076/300] train: 0.4545 - val: 0.7599\n",
      "[077/300] train: 0.4544 - val: 0.7605\n",
      "[078/300] train: 0.4535 - val: 0.7569\n",
      "[079/300] train: 0.4538 - val: 0.7548\n",
      "[080/300] train: 0.4533 - val: 0.7553\n",
      "[081/300] train: 0.4522 - val: 0.7645\n",
      "[082/300] train: 0.4522 - val: 0.7598\n",
      "[083/300] train: 0.4520 - val: 0.7610\n",
      "[084/300] train: 0.4513 - val: 0.7673\n",
      "[085/300] train: 0.4509 - val: 0.7595\n",
      "[086/300] train: 0.4507 - val: 0.7534\n",
      "[087/300] train: 0.4508 - val: 0.7655\n",
      "[088/300] train: 0.4500 - val: 0.7640\n",
      "[089/300] train: 0.4497 - val: 0.7630\n",
      "[090/300] train: 0.4495 - val: 0.7593\n",
      "[091/300] train: 0.4488 - val: 0.7648\n",
      "[092/300] train: 0.4487 - val: 0.7604\n",
      "[093/300] train: 0.4483 - val: 0.7657\n",
      "[094/300] train: 0.4479 - val: 0.7626\n",
      "[095/300] train: 0.4475 - val: 0.7683\n",
      "[096/300] train: 0.4477 - val: 0.7586\n",
      "[097/300] train: 0.4477 - val: 0.7640\n",
      "[098/300] train: 0.4469 - val: 0.7689\n",
      "[099/300] train: 0.4469 - val: 0.7647\n",
      "[100/300] train: 0.4467 - val: 0.7634\n",
      "[101/300] train: 0.4462 - val: 0.7650\n",
      "[102/300] train: 0.4460 - val: 0.7606\n",
      "[103/300] train: 0.4456 - val: 0.7610\n",
      "[104/300] train: 0.4454 - val: 0.7627\n",
      "[105/300] train: 0.4453 - val: 0.7667\n",
      "[106/300] train: 0.4448 - val: 0.7596\n",
      "[107/300] train: 0.4446 - val: 0.7602\n",
      "[108/300] train: 0.4443 - val: 0.7661\n",
      "[109/300] train: 0.4441 - val: 0.7671\n",
      "[110/300] train: 0.4442 - val: 0.7697\n",
      "[111/300] train: 0.4436 - val: 0.7639\n",
      "[112/300] train: 0.4437 - val: 0.7674\n",
      "[113/300] train: 0.4434 - val: 0.7684\n",
      "[114/300] train: 0.4430 - val: 0.7613\n",
      "[115/300] train: 0.4429 - val: 0.7635\n",
      "[116/300] train: 0.4424 - val: 0.7684\n",
      "[117/300] train: 0.4423 - val: 0.7688\n",
      "[118/300] train: 0.4423 - val: 0.7711\n",
      "[119/300] train: 0.4418 - val: 0.7619\n",
      "[120/300] train: 0.4418 - val: 0.7624\n",
      "[121/300] train: 0.4417 - val: 0.7689\n",
      "[122/300] train: 0.4413 - val: 0.7638\n",
      "[123/300] train: 0.4413 - val: 0.7661\n",
      "[124/300] train: 0.4409 - val: 0.7641\n",
      "[125/300] train: 0.4408 - val: 0.7676\n",
      "[126/300] train: 0.4407 - val: 0.7732\n",
      "[127/300] train: 0.4403 - val: 0.7725\n",
      "[128/300] train: 0.4402 - val: 0.7693\n",
      "[129/300] train: 0.4401 - val: 0.7740\n",
      "[130/300] train: 0.4396 - val: 0.7726\n",
      "[131/300] train: 0.4397 - val: 0.7724\n",
      "[132/300] train: 0.4396 - val: 0.7652\n",
      "[133/300] train: 0.4391 - val: 0.7674\n",
      "[134/300] train: 0.4391 - val: 0.7717\n",
      "[135/300] train: 0.4388 - val: 0.7730\n",
      "[136/300] train: 0.4391 - val: 0.7704\n",
      "[137/300] train: 0.4387 - val: 0.7638\n",
      "[138/300] train: 0.4387 - val: 0.7655\n",
      "[139/300] train: 0.4383 - val: 0.7732\n",
      "[140/300] train: 0.4381 - val: 0.7639\n",
      "[141/300] train: 0.4381 - val: 0.7672\n",
      "[142/300] train: 0.4379 - val: 0.7712\n",
      "[143/300] train: 0.4376 - val: 0.7685\n",
      "[144/300] train: 0.4377 - val: 0.7594\n",
      "[145/300] train: 0.4376 - val: 0.7716\n",
      "[146/300] train: 0.4374 - val: 0.7697\n",
      "[147/300] train: 0.4371 - val: 0.7680\n",
      "[148/300] train: 0.4368 - val: 0.7702\n",
      "[149/300] train: 0.4368 - val: 0.7738\n",
      "[150/300] train: 0.4365 - val: 0.7625\n",
      "[151/300] train: 0.4364 - val: 0.7690\n",
      "[152/300] train: 0.4365 - val: 0.7769\n",
      "[153/300] train: 0.4361 - val: 0.7751\n",
      "[154/300] train: 0.4359 - val: 0.7748\n",
      "[155/300] train: 0.4358 - val: 0.7754\n",
      "[156/300] train: 0.4361 - val: 0.7685\n",
      "[157/300] train: 0.4358 - val: 0.7719\n",
      "[158/300] train: 0.4357 - val: 0.7696\n",
      "[159/300] train: 0.4353 - val: 0.7798\n",
      "[160/300] train: 0.4353 - val: 0.7707\n",
      "[161/300] train: 0.4352 - val: 0.7678\n",
      "[162/300] train: 0.4353 - val: 0.7650\n",
      "[163/300] train: 0.4353 - val: 0.7751\n",
      "[164/300] train: 0.4350 - val: 0.7725\n",
      "[165/300] train: 0.4348 - val: 0.7644\n",
      "[166/300] train: 0.4345 - val: 0.7702\n",
      "[167/300] train: 0.4343 - val: 0.7717\n",
      "[168/300] train: 0.4345 - val: 0.7778\n",
      "[169/300] train: 0.4344 - val: 0.7669\n",
      "[170/300] train: 0.4341 - val: 0.7709\n",
      "[171/300] train: 0.4341 - val: 0.7722\n",
      "[172/300] train: 0.4340 - val: 0.7812\n",
      "[173/300] train: 0.4340 - val: 0.7733\n",
      "[174/300] train: 0.4339 - val: 0.7781\n",
      "[175/300] train: 0.4337 - val: 0.7660\n",
      "[176/300] train: 0.4333 - val: 0.7737\n",
      "[177/300] train: 0.4333 - val: 0.7728\n",
      "[178/300] train: 0.4334 - val: 0.7728\n",
      "[179/300] train: 0.4331 - val: 0.7911\n",
      "[180/300] train: 0.4331 - val: 0.7682\n",
      "[181/300] train: 0.4331 - val: 0.7707\n",
      "[182/300] train: 0.4330 - val: 0.7659\n",
      "[183/300] train: 0.4329 - val: 0.7798\n",
      "[184/300] train: 0.4322 - val: 0.7673\n",
      "[185/300] train: 0.4325 - val: 0.7776\n",
      "[186/300] train: 0.4324 - val: 0.7726\n",
      "[187/300] train: 0.4324 - val: 0.7747\n",
      "[188/300] train: 0.4319 - val: 0.7701\n",
      "[189/300] train: 0.4322 - val: 0.7777\n",
      "[190/300] train: 0.4322 - val: 0.7751\n",
      "[191/300] train: 0.4317 - val: 0.7793\n",
      "[192/300] train: 0.4319 - val: 0.7692\n",
      "[193/300] train: 0.4315 - val: 0.7694\n",
      "[194/300] train: 0.4316 - val: 0.7740\n",
      "[195/300] train: 0.4313 - val: 0.7685\n",
      "[196/300] train: 0.4318 - val: 0.7803\n",
      "[197/300] train: 0.4311 - val: 0.7803\n",
      "[198/300] train: 0.4313 - val: 0.7722\n",
      "[199/300] train: 0.4311 - val: 0.7791\n",
      "[200/300] train: 0.4312 - val: 0.7763\n",
      "[201/300] train: 0.4309 - val: 0.7736\n",
      "[202/300] train: 0.4309 - val: 0.7661\n",
      "[203/300] train: 0.4308 - val: 0.7765\n",
      "[204/300] train: 0.4310 - val: 0.7736\n",
      "[205/300] train: 0.4308 - val: 0.7751\n",
      "[206/300] train: 0.4308 - val: 0.7733\n",
      "[207/300] train: 0.4306 - val: 0.7774\n",
      "[208/300] train: 0.4306 - val: 0.7739\n",
      "[209/300] train: 0.4304 - val: 0.7700\n",
      "[210/300] train: 0.4302 - val: 0.7782\n",
      "[211/300] train: 0.4299 - val: 0.7823\n",
      "[212/300] train: 0.4303 - val: 0.7721\n",
      "[213/300] train: 0.4299 - val: 0.7770\n",
      "[214/300] train: 0.4300 - val: 0.7741\n",
      "[215/300] train: 0.4298 - val: 0.7808\n",
      "[216/300] train: 0.4297 - val: 0.7761\n",
      "[217/300] train: 0.4298 - val: 0.7761\n",
      "[218/300] train: 0.4293 - val: 0.7764\n",
      "[219/300] train: 0.4296 - val: 0.7781\n",
      "[220/300] train: 0.4295 - val: 0.7767\n",
      "[221/300] train: 0.4295 - val: 0.7706\n",
      "[222/300] train: 0.4295 - val: 0.7828\n",
      "[223/300] train: 0.4292 - val: 0.7752\n",
      "[224/300] train: 0.4292 - val: 0.7680\n",
      "[225/300] train: 0.4293 - val: 0.7765\n",
      "[226/300] train: 0.4292 - val: 0.7746\n",
      "[227/300] train: 0.4290 - val: 0.7737\n",
      "[228/300] train: 0.4289 - val: 0.7733\n",
      "[229/300] train: 0.4289 - val: 0.7800\n",
      "[230/300] train: 0.4287 - val: 0.7751\n",
      "[231/300] train: 0.4285 - val: 0.7752\n",
      "[232/300] train: 0.4286 - val: 0.7763\n",
      "[233/300] train: 0.4284 - val: 0.7775\n",
      "[234/300] train: 0.4286 - val: 0.7745\n",
      "[235/300] train: 0.4284 - val: 0.7714\n",
      "[236/300] train: 0.4283 - val: 0.7737\n",
      "[237/300] train: 0.4280 - val: 0.7746\n",
      "[238/300] train: 0.4278 - val: 0.7697\n",
      "[239/300] train: 0.4280 - val: 0.7705\n",
      "[240/300] train: 0.4278 - val: 0.7709\n",
      "[241/300] train: 0.4283 - val: 0.7735\n",
      "[242/300] train: 0.4281 - val: 0.7728\n",
      "[243/300] train: 0.4276 - val: 0.7746\n",
      "[244/300] train: 0.4278 - val: 0.7796\n",
      "[245/300] train: 0.4280 - val: 0.7819\n",
      "[246/300] train: 0.4277 - val: 0.7788\n",
      "[247/300] train: 0.4275 - val: 0.7801\n",
      "[248/300] train: 0.4276 - val: 0.7788\n",
      "[249/300] train: 0.4275 - val: 0.7804\n",
      "[250/300] train: 0.4274 - val: 0.7710\n",
      "[251/300] train: 0.4271 - val: 0.7782\n",
      "[252/300] train: 0.4272 - val: 0.7723\n",
      "[253/300] train: 0.4271 - val: 0.7725\n",
      "[254/300] train: 0.4273 - val: 0.7724\n",
      "[255/300] train: 0.4271 - val: 0.7793\n",
      "[256/300] train: 0.4272 - val: 0.7761\n",
      "[257/300] train: 0.4269 - val: 0.7853\n",
      "[258/300] train: 0.4268 - val: 0.7847\n",
      "[259/300] train: 0.4268 - val: 0.7828\n",
      "[260/300] train: 0.4270 - val: 0.7843\n",
      "[261/300] train: 0.4269 - val: 0.7747\n",
      "[262/300] train: 0.4267 - val: 0.7693\n",
      "[263/300] train: 0.4264 - val: 0.7800\n",
      "[264/300] train: 0.4268 - val: 0.7803\n",
      "[265/300] train: 0.4264 - val: 0.7740\n",
      "[266/300] train: 0.4269 - val: 0.7789\n",
      "[267/300] train: 0.4263 - val: 0.7778\n",
      "[268/300] train: 0.4263 - val: 0.7706\n",
      "[269/300] train: 0.4262 - val: 0.7787\n",
      "[270/300] train: 0.4262 - val: 0.7726\n",
      "[271/300] train: 0.4260 - val: 0.7818\n",
      "[272/300] train: 0.4262 - val: 0.7764\n",
      "[273/300] train: 0.4262 - val: 0.7769\n",
      "[274/300] train: 0.4261 - val: 0.7733\n",
      "[275/300] train: 0.4258 - val: 0.7810\n",
      "[276/300] train: 0.4260 - val: 0.7877\n",
      "[277/300] train: 0.4258 - val: 0.7738\n",
      "[278/300] train: 0.4260 - val: 0.7835\n",
      "[279/300] train: 0.4260 - val: 0.7707\n",
      "[280/300] train: 0.4256 - val: 0.7743\n",
      "[281/300] train: 0.4257 - val: 0.7803\n",
      "[282/300] train: 0.4255 - val: 0.7775\n",
      "[283/300] train: 0.4256 - val: 0.7792\n",
      "[284/300] train: 0.4254 - val: 0.7766\n",
      "[285/300] train: 0.4254 - val: 0.7730\n",
      "[286/300] train: 0.4256 - val: 0.7754\n",
      "[287/300] train: 0.4258 - val: 0.7820\n",
      "[288/300] train: 0.4252 - val: 0.7782\n",
      "[289/300] train: 0.4252 - val: 0.7710\n",
      "[290/300] train: 0.4254 - val: 0.7812\n",
      "[291/300] train: 0.4253 - val: 0.7881\n",
      "[292/300] train: 0.4253 - val: 0.7827\n",
      "[293/300] train: 0.4250 - val: 0.7735\n",
      "[294/300] train: 0.4255 - val: 0.7734\n",
      "[295/300] train: 0.4254 - val: 0.7829\n",
      "[296/300] train: 0.4251 - val: 0.7756\n",
      "[297/300] train: 0.4251 - val: 0.7779\n",
      "[298/300] train: 0.4251 - val: 0.7835\n",
      "[299/300] train: 0.4249 - val: 0.7762\n",
      "[300/300] train: 0.4245 - val: 0.7784\n"
     ]
    }
   ],
   "source": [
    "for epoch in range(n_epochs):\n",
    "    stats = {'epoch': epoch + 1, 'total': n_epochs}\n",
    "\n",
    "    for phase in ('train', 'val'):\n",
    "        if phase == 'train':\n",
    "          training = True\n",
    "        else:\n",
    "          training = False\n",
    "        running_loss = 0\n",
    "        n_batches = 0\n",
    "        for batch in batches(*datasets[phase], shuffle=training, bs=bs):\n",
    "            x_batch, y_batch = [b.to(device) for b in batch]\n",
    "            optimizer.zero_grad()\n",
    "            # compute gradients only during 'train' phase\n",
    "            with torch.set_grad_enabled(training):\n",
    "                outputs = net(x_batch[:,0], x_batch[:,1], minmax)\n",
    "                loss = criterion(outputs, y_batch)\n",
    "                # don't update weights and rates when in 'val' phase\n",
    "                if training:\n",
    "                    #scheduler.step()\n",
    "                    loss.backward()\n",
    "                    optimizer.step()\n",
    "                    #lr_history.extend(scheduler.get_lr())\n",
    "            running_loss += loss.item()\n",
    "        epoch_loss = running_loss / dataset_sizes[phase]\n",
    "        stats[phase] = epoch_loss\n",
    "        # early stopping: save weights of the best model so far\n",
    "        if phase == 'val':\n",
    "            if epoch_loss < best_loss:\n",
    "                print('loss improvement on epoch: %d' % (epoch + 1))\n",
    "                best_loss = epoch_loss\n",
    "                best_weights = copy.deepcopy(net.state_dict())\n",
    "                no_improvements = 0\n",
    "            else:\n",
    "                no_improvements += 1\n",
    "    history.append(stats)\n",
    "    with open(f'logs/large.txt', 'a') as f:\n",
    "        print('[{epoch:03d}/{total:03d}] train: {train:.4f} - val: {val:.4f}'.format(**stats))\n",
    "        f.write('[{epoch:03d}/{total:03d}] train: {train:.4f} - val: {val:.4f}'.format(**stats))\n",
    "    if no_improvements >= patience:\n",
    "        print('early stopping after epoch {epoch:03d}'.format(**stats))\n",
    "        break"
   ],
   "metadata": {
    "collapsed": false,
    "pycharm": {
     "name": "#%%\n"
    }
   }
  },
  {
   "cell_type": "code",
   "execution_count": 162,
   "outputs": [
    {
     "data": {
      "text/plain": "<All keys matched successfully>"
     },
     "execution_count": 162,
     "metadata": {},
     "output_type": "execute_result"
    }
   ],
   "source": [
    "net.load_state_dict(best_weights)"
   ],
   "metadata": {
    "collapsed": false,
    "pycharm": {
     "name": "#%%\n"
    }
   }
  },
  {
   "cell_type": "code",
   "execution_count": 163,
   "outputs": [],
   "source": [
    "groud_truth, predictions = [], []\n",
    "\n",
    "with torch.no_grad():\n",
    "    for batch in batches(*datasets['val'], shuffle=False, bs=bs):\n",
    "        x_batch, y_batch = [b.to(device) for b in batch]\n",
    "        outputs = net(x_batch[:, 0], x_batch[:, 1], minmax)\n",
    "        groud_truth.extend(y_batch.tolist())\n",
    "        predictions.extend(outputs.tolist())\n",
    "\n",
    "groud_truth = np.asarray(groud_truth).ravel()\n",
    "predictions = np.asarray(predictions).ravel()"
   ],
   "metadata": {
    "collapsed": false,
    "pycharm": {
     "name": "#%%\n"
    }
   }
  },
  {
   "cell_type": "code",
   "execution_count": 164,
   "outputs": [
    {
     "name": "stdout",
     "output_type": "stream",
     "text": [
      "Validation RMSE: 0.8351\n"
     ]
    }
   ],
   "source": [
    "valid_loss = np.sqrt(np.mean((predictions - groud_truth)**2))\n",
    "print(f'Validation RMSE: {valid_loss:.4f}')"
   ],
   "metadata": {
    "collapsed": false,
    "pycharm": {
     "name": "#%%\n"
    }
   }
  },
  {
   "cell_type": "code",
   "execution_count": 165,
   "outputs": [],
   "source": [
    "groud_truth, predictions = [], []\n",
    "\n",
    "with torch.no_grad():\n",
    "    for batch in batches(*datasets['test'], shuffle=False, bs=bs):\n",
    "        x_batch, y_batch = [b.to(device) for b in batch]\n",
    "        outputs = net(x_batch[:, 0], x_batch[:, 1], minmax)\n",
    "        groud_truth.extend(y_batch.tolist())\n",
    "        predictions.extend(outputs.tolist())\n",
    "\n",
    "groud_truth = np.asarray(groud_truth).ravel()\n",
    "predictions = np.asarray(predictions).ravel()"
   ],
   "metadata": {
    "collapsed": false,
    "pycharm": {
     "name": "#%%\n"
    }
   }
  },
  {
   "cell_type": "code",
   "execution_count": 166,
   "outputs": [
    {
     "name": "stdout",
     "output_type": "stream",
     "text": [
      "Test RMSE: 0.8346\n"
     ]
    }
   ],
   "source": [
    "final_loss = np.sqrt(np.mean((predictions - groud_truth)**2))\n",
    "print(f'Test RMSE: {final_loss:.4f}')"
   ],
   "metadata": {
    "collapsed": false,
    "pycharm": {
     "name": "#%%\n"
    }
   }
  },
  {
   "cell_type": "code",
   "execution_count": 167,
   "outputs": [
    {
     "name": "stdout",
     "output_type": "stream",
     "text": [
      "duration: 1727.9047\n"
     ]
    }
   ],
   "source": [
    "print(f'duration: {round(time.time() - start, 4)}')\n"
   ],
   "metadata": {
    "collapsed": false,
    "pycharm": {
     "name": "#%%\n"
    }
   }
  },
  {
   "cell_type": "code",
   "execution_count": 168,
   "outputs": [],
   "source": [
    "with open('best.weights.big', 'wb') as file:\n",
    "    pickle.dump(best_weights, file)"
   ],
   "metadata": {
    "collapsed": false,
    "pycharm": {
     "name": "#%%\n"
    }
   }
  },
  {
   "cell_type": "code",
   "execution_count": 169,
   "outputs": [
    {
     "data": {
      "text/plain": "<Figure size 432x288 with 1 Axes>",
      "image/png": "[encoded data removed]"
     },
     "metadata": {},
     "output_type": "display_data"
    }
   ],
   "source": [
    "plt.rcParams['font.size'] = 26\n",
    "plt.rcParams['axes.labelsize'] = 26\n",
    "plt.rcParams['xtick.labelsize'] = 26\n",
    "plt.rcParams['ytick.labelsize'] = 26\n",
    "plt.rcParams['legend.fontsize'] = 26\n",
    "plt.style.use('seaborn-whitegrid')\n",
    "ax = pd.DataFrame(history).drop(columns='total').plot(x='epoch')\n",
    "plt.ylabel('RMSE')\n",
    "plt.ylim([0.2, 1.3])\n",
    "\n",
    "plt.savefig(figure_path + '/' + dataset +'-large-loss.png', dpi=300, bbox_inches='tight')"
   ],
   "metadata": {
    "collapsed": false,
    "pycharm": {
     "name": "#%%\n"
    }
   }
  },
  {
   "cell_type": "code",
   "execution_count": 169,
   "outputs": [],
   "source": [],
   "metadata": {
    "collapsed": false,
    "pycharm": {
     "name": "#%%\n"
    }
   }
  }
 ],
 "metadata": {
  "kernelspec": {
   "name": "pycharm-f57757a1",
   "language": "python",
   "display_name": "PyCharm (rs-via-gnn)"
  },
  "language_info": {
   "codemirror_mode": {
    "name": "ipython",
    "version": 2
   },
   "file_extension": ".py",
   "mimetype": "text/x-python",
   "name": "python",
   "nbconvert_exporter": "python",
   "pygments_lexer": "ipython2",
   "version": "2.7.6"
  }
 },
 "nbformat": 4,
 "nbformat_minor": 0
}