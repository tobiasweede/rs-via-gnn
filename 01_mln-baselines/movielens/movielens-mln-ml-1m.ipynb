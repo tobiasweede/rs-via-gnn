{
 "cells": [
  {
   "cell_type": "markdown",
   "metadata": {
    "collapsed": true,
    "pycharm": {
     "name": "#%% md\n"
    }
   },
   "source": [
    "# MovieLens MLN Recommendation via PyTorch\n",
    "\n",
    "adapted from https://github.com/fastai/fastai"
   ]
  },
  {
   "cell_type": "code",
   "execution_count": 1,
   "outputs": [],
   "source": [
    "import math\n",
    "import copy\n",
    "import pickle\n",
    "from pathlib import Path\n",
    "from itertools import zip_longest\n",
    "\n",
    "import numpy as np\n",
    "import pandas as pd\n",
    "import matplotlib.pyplot as plt\n",
    "from sklearn.model_selection import train_test_split\n",
    "\n",
    "import torch\n",
    "from torch import nn\n",
    "from torch import optim\n",
    "\n",
    "import time\n",
    "\n",
    "figure_path = '/home/weiss/git/thesis/doc/figures/'"
   ],
   "metadata": {
    "collapsed": false,
    "pycharm": {
     "name": "#%%\n"
    }
   }
  },
  {
   "cell_type": "code",
   "execution_count": 2,
   "outputs": [],
   "source": [
    "def set_random_seed(state=1):\n",
    "    gens = (np.random.seed, torch.manual_seed, torch.cuda.manual_seed)\n",
    "    for set_state in gens:\n",
    "        set_state(state)\n",
    "\n",
    "RANDOM_STATE = 2021\n",
    "set_random_seed(RANDOM_STATE)"
   ],
   "metadata": {
    "collapsed": false,
    "pycharm": {
     "name": "#%%\n"
    }
   }
  },
  {
   "cell_type": "code",
   "execution_count": 3,
   "outputs": [],
   "source": [
    "def read_data(path):\n",
    "    files = {}\n",
    "    path = Path(path)\n",
    "    for filename in path.glob('*'):\n",
    "        if filename.suffix == '.csv':\n",
    "            files[filename.stem] = pd.read_csv(filename)\n",
    "        elif filename.suffix == '.dat':\n",
    "            if filename.stem == 'ratings':\n",
    "                columns = ['userId', 'movieId', 'rating', 'timestamp']\n",
    "            else:\n",
    "                columns = ['movieId', 'title', 'genres']\n",
    "            data = pd.read_csv(filename, sep='::', names=columns, engine='python')\n",
    "            files[filename.stem] = data\n",
    "        elif filename.suffix == '.data':  # ml-100k\n",
    "            if filename.stem == 'u':\n",
    "                columns = ['userId', 'movieId', 'rating', 'timestamp']\n",
    "                data = pd.read_csv(filename, sep='\\t', names=columns, engine='python')\n",
    "                files['ratings'] = data\n",
    "        elif filename.suffix == '.item':  # ml-100k\n",
    "            if filename.stem == 'u':\n",
    "                columns = ['movieId', 'title', 'genres']\n",
    "                data = pd.read_csv(filename, sep='|', names=columns, engine='python')\n",
    "                files['movies'] = data\n",
    "    return files['ratings'], files['movies']"
   ],
   "metadata": {
    "collapsed": false,
    "pycharm": {
     "name": "#%%\n"
    }
   }
  },
  {
   "cell_type": "code",
   "execution_count": 4,
   "outputs": [],
   "source": [
    "dataset = 'ml-1m'\n",
    "\n",
    "# pick one of the available folders\n",
    "ratings, movies = read_data('/home/weiss/rs_data/'+dataset)"
   ],
   "metadata": {
    "collapsed": false,
    "pycharm": {
     "name": "#%%\n"
    }
   }
  },
  {
   "cell_type": "code",
   "execution_count": 5,
   "outputs": [
    {
     "data": {
      "text/plain": "   userId  movieId  rating  timestamp\n0     196      242       3  881250949\n1     186      302       3  891717742\n2      22      377       1  878887116\n3     244       51       2  880606923\n4     166      346       1  886397596",
      "text/html": "<div>\n<style scoped>\n    .dataframe tbody tr th:only-of-type {\n        vertical-align: middle;\n    }\n\n    .dataframe tbody tr th {\n        vertical-align: top;\n    }\n\n    .dataframe thead th {\n        text-align: right;\n    }\n</style>\n<table border=\"1\" class=\"dataframe\">\n  <thead>\n    <tr style=\"text-align: right;\">\n      <th></th>\n      <th>userId</th>\n      <th>movieId</th>\n      <th>rating</th>\n      <th>timestamp</th>\n    </tr>\n  </thead>\n  <tbody>\n    <tr>\n      <th>0</th>\n      <td>196</td>\n      <td>242</td>\n      <td>3</td>\n      <td>881250949</td>\n    </tr>\n    <tr>\n      <th>1</th>\n      <td>186</td>\n      <td>302</td>\n      <td>3</td>\n      <td>891717742</td>\n    </tr>\n    <tr>\n      <th>2</th>\n      <td>22</td>\n      <td>377</td>\n      <td>1</td>\n      <td>878887116</td>\n    </tr>\n    <tr>\n      <th>3</th>\n      <td>244</td>\n      <td>51</td>\n      <td>2</td>\n      <td>880606923</td>\n    </tr>\n    <tr>\n      <th>4</th>\n      <td>166</td>\n      <td>346</td>\n      <td>1</td>\n      <td>886397596</td>\n    </tr>\n  </tbody>\n</table>\n</div>"
     },
     "execution_count": 5,
     "metadata": {},
     "output_type": "execute_result"
    }
   ],
   "source": [
    "ratings.head()"
   ],
   "metadata": {
    "collapsed": false,
    "pycharm": {
     "name": "#%%\n"
    }
   }
  },
  {
   "cell_type": "code",
   "execution_count": 6,
   "outputs": [
    {
     "data": {
      "text/plain": "                                                                                                                        movieId  \\\n1 Toy Story (1995)  01-Jan-1995 NaN http://us.imdb.com/M/title-exact?Toy%20Story%20... 0 0 0 1 1 1 0 0 0 0 0 0 0 0 0 0        0   \n2 GoldenEye (1995)  01-Jan-1995 NaN http://us.imdb.com/M/title-exact?GoldenEye%20(1... 0 1 1 0 0 0 0 0 0 0 0 0 0 0 0 0        1   \n3 Four Rooms (1995) 01-Jan-1995 NaN http://us.imdb.com/M/title-exact?Four%20Rooms%2... 0 0 0 0 0 0 0 0 0 0 0 0 0 0 0 0        1   \n4 Get Shorty (1995) 01-Jan-1995 NaN http://us.imdb.com/M/title-exact?Get%20Shorty%2... 0 1 0 0 0 1 0 0 1 0 0 0 0 0 0 0        0   \n5 Copycat (1995)    01-Jan-1995 NaN http://us.imdb.com/M/title-exact?Copycat%20(1995)  0 0 0 0 0 0 1 0 1 0 0 0 0 0 0 0        1   \n\n                                                                                                                        title  \\\n1 Toy Story (1995)  01-Jan-1995 NaN http://us.imdb.com/M/title-exact?Toy%20Story%20... 0 0 0 1 1 1 0 0 0 0 0 0 0 0 0 0      0   \n2 GoldenEye (1995)  01-Jan-1995 NaN http://us.imdb.com/M/title-exact?GoldenEye%20(1... 0 1 1 0 0 0 0 0 0 0 0 0 0 0 0 0      0   \n3 Four Rooms (1995) 01-Jan-1995 NaN http://us.imdb.com/M/title-exact?Four%20Rooms%2... 0 0 0 0 0 0 0 0 0 0 0 0 0 0 0 0      0   \n4 Get Shorty (1995) 01-Jan-1995 NaN http://us.imdb.com/M/title-exact?Get%20Shorty%2... 0 1 0 0 0 1 0 0 1 0 0 0 0 0 0 0      0   \n5 Copycat (1995)    01-Jan-1995 NaN http://us.imdb.com/M/title-exact?Copycat%20(1995)  0 0 0 0 0 0 1 0 1 0 0 0 0 0 0 0      0   \n\n                                                                                                                        genres  \n1 Toy Story (1995)  01-Jan-1995 NaN http://us.imdb.com/M/title-exact?Toy%20Story%20... 0 0 0 1 1 1 0 0 0 0 0 0 0 0 0 0       0  \n2 GoldenEye (1995)  01-Jan-1995 NaN http://us.imdb.com/M/title-exact?GoldenEye%20(1... 0 1 1 0 0 0 0 0 0 0 0 0 0 0 0 0       0  \n3 Four Rooms (1995) 01-Jan-1995 NaN http://us.imdb.com/M/title-exact?Four%20Rooms%2... 0 0 0 0 0 0 0 0 0 0 0 0 0 0 0 0       0  \n4 Get Shorty (1995) 01-Jan-1995 NaN http://us.imdb.com/M/title-exact?Get%20Shorty%2... 0 1 0 0 0 1 0 0 1 0 0 0 0 0 0 0       0  \n5 Copycat (1995)    01-Jan-1995 NaN http://us.imdb.com/M/title-exact?Copycat%20(1995)  0 0 0 0 0 0 1 0 1 0 0 0 0 0 0 0       0  ",
      "text/html": "<div>\n<style scoped>\n    .dataframe tbody tr th:only-of-type {\n        vertical-align: middle;\n    }\n\n    .dataframe tbody tr th {\n        vertical-align: top;\n    }\n\n    .dataframe thead th {\n        text-align: right;\n    }\n</style>\n<table border=\"1\" class=\"dataframe\">\n  <thead>\n    <tr style=\"text-align: right;\">\n      <th></th>\n      <th></th>\n      <th></th>\n      <th></th>\n      <th></th>\n      <th></th>\n      <th></th>\n      <th></th>\n      <th></th>\n      <th></th>\n      <th></th>\n      <th></th>\n      <th></th>\n      <th></th>\n      <th></th>\n      <th></th>\n      <th></th>\n      <th></th>\n      <th></th>\n      <th></th>\n      <th></th>\n      <th>movieId</th>\n      <th>title</th>\n      <th>genres</th>\n    </tr>\n  </thead>\n  <tbody>\n    <tr>\n      <th>1</th>\n      <th>Toy Story (1995)</th>\n      <th>01-Jan-1995</th>\n      <th>NaN</th>\n      <th>http://us.imdb.com/M/title-exact?Toy%20Story%20(1995)</th>\n      <th>0</th>\n      <th>0</th>\n      <th>0</th>\n      <th>1</th>\n      <th>1</th>\n      <th>1</th>\n      <th>0</th>\n      <th>0</th>\n      <th>0</th>\n      <th>0</th>\n      <th>0</th>\n      <th>0</th>\n      <th>0</th>\n      <th>0</th>\n      <th>0</th>\n      <th>0</th>\n      <td>0</td>\n      <td>0</td>\n      <td>0</td>\n    </tr>\n    <tr>\n      <th>2</th>\n      <th>GoldenEye (1995)</th>\n      <th>01-Jan-1995</th>\n      <th>NaN</th>\n      <th>http://us.imdb.com/M/title-exact?GoldenEye%20(1995)</th>\n      <th>0</th>\n      <th>1</th>\n      <th>1</th>\n      <th>0</th>\n      <th>0</th>\n      <th>0</th>\n      <th>0</th>\n      <th>0</th>\n      <th>0</th>\n      <th>0</th>\n      <th>0</th>\n      <th>0</th>\n      <th>0</th>\n      <th>0</th>\n      <th>0</th>\n      <th>0</th>\n      <td>1</td>\n      <td>0</td>\n      <td>0</td>\n    </tr>\n    <tr>\n      <th>3</th>\n      <th>Four Rooms (1995)</th>\n      <th>01-Jan-1995</th>\n      <th>NaN</th>\n      <th>http://us.imdb.com/M/title-exact?Four%20Rooms%20(1995)</th>\n      <th>0</th>\n      <th>0</th>\n      <th>0</th>\n      <th>0</th>\n      <th>0</th>\n      <th>0</th>\n      <th>0</th>\n      <th>0</th>\n      <th>0</th>\n      <th>0</th>\n      <th>0</th>\n      <th>0</th>\n      <th>0</th>\n      <th>0</th>\n      <th>0</th>\n      <th>0</th>\n      <td>1</td>\n      <td>0</td>\n      <td>0</td>\n    </tr>\n    <tr>\n      <th>4</th>\n      <th>Get Shorty (1995)</th>\n      <th>01-Jan-1995</th>\n      <th>NaN</th>\n      <th>http://us.imdb.com/M/title-exact?Get%20Shorty%20(1995)</th>\n      <th>0</th>\n      <th>1</th>\n      <th>0</th>\n      <th>0</th>\n      <th>0</th>\n      <th>1</th>\n      <th>0</th>\n      <th>0</th>\n      <th>1</th>\n      <th>0</th>\n      <th>0</th>\n      <th>0</th>\n      <th>0</th>\n      <th>0</th>\n      <th>0</th>\n      <th>0</th>\n      <td>0</td>\n      <td>0</td>\n      <td>0</td>\n    </tr>\n    <tr>\n      <th>5</th>\n      <th>Copycat (1995)</th>\n      <th>01-Jan-1995</th>\n      <th>NaN</th>\n      <th>http://us.imdb.com/M/title-exact?Copycat%20(1995)</th>\n      <th>0</th>\n      <th>0</th>\n      <th>0</th>\n      <th>0</th>\n      <th>0</th>\n      <th>0</th>\n      <th>1</th>\n      <th>0</th>\n      <th>1</th>\n      <th>0</th>\n      <th>0</th>\n      <th>0</th>\n      <th>0</th>\n      <th>0</th>\n      <th>0</th>\n      <th>0</th>\n      <td>1</td>\n      <td>0</td>\n      <td>0</td>\n    </tr>\n  </tbody>\n</table>\n</div>"
     },
     "execution_count": 6,
     "metadata": {},
     "output_type": "execute_result"
    }
   ],
   "source": [
    "movies.head()"
   ],
   "metadata": {
    "collapsed": false,
    "pycharm": {
     "name": "#%%\n"
    }
   }
  },
  {
   "cell_type": "code",
   "execution_count": 7,
   "outputs": [
    {
     "name": "stdout",
     "output_type": "stream",
     "text": [
      "Embeddings: 943 users, 1682 movies\n",
      "Dataset shape: (100000, 2)\n",
      "Target shape: (100000,)\n"
     ]
    }
   ],
   "source": [
    "def create_dataset(ratings, top=None):\n",
    "    if top is not None:\n",
    "        ratings.groupby('userId')['rating'].count()\n",
    "\n",
    "    unique_users = ratings.userId.unique()\n",
    "    user_to_index = {old: new for new, old in enumerate(unique_users)}\n",
    "    new_users = ratings.userId.map(user_to_index)\n",
    "\n",
    "    unique_movies = ratings.movieId.unique()\n",
    "    movie_to_index = {old: new for new, old in enumerate(unique_movies)}\n",
    "    new_movies = ratings.movieId.map(movie_to_index)\n",
    "\n",
    "    n_users = unique_users.shape[0]\n",
    "    n_movies = unique_movies.shape[0]\n",
    "\n",
    "    X = pd.DataFrame({'user_id': new_users, 'movie_id': new_movies})\n",
    "    y = ratings['rating'].astype(np.float32)\n",
    "    return (n_users, n_movies), (X, y), (user_to_index, movie_to_index)\n",
    "\n",
    "(n, m), (X, y), _ = create_dataset(ratings)\n",
    "print(f'Embeddings: {n} users, {m} movies')\n",
    "print(f'Dataset shape: {X.shape}')\n",
    "print(f'Target shape: {y.shape}')"
   ],
   "metadata": {
    "collapsed": false,
    "pycharm": {
     "name": "#%%\n"
    }
   }
  },
  {
   "cell_type": "code",
   "execution_count": 8,
   "outputs": [],
   "source": [
    "X_train, X_valid, y_train, y_valid = train_test_split(X, y, test_size=0.4, random_state=RANDOM_STATE)\n",
    "X_valid, X_test, y_valid, y_test = train_test_split(X_valid, y_valid, test_size=0.5, random_state=RANDOM_STATE)\n",
    "datasets = {'train': (X_train, y_train), 'val': (X_valid, y_valid), 'test': (X_test, y_test)}\n",
    "dataset_sizes = {'train': len(X_train), 'val': len(X_valid), 'test': len(X_test)}\n"
   ],
   "metadata": {
    "collapsed": false,
    "pycharm": {
     "name": "#%%\n"
    }
   }
  },
  {
   "cell_type": "code",
   "execution_count": 9,
   "outputs": [],
   "source": [
    "class RatingsIterator:\n",
    "\n",
    "    def __init__(self, X, y, batch_size=32, shuffle=True):\n",
    "        X, y = np.asarray(X), np.asarray(y)\n",
    "        if shuffle:\n",
    "            index = np.random.permutation(X.shape[0])\n",
    "            X, y = X[index], y[index]\n",
    "        self.X = X\n",
    "        self.y = y\n",
    "        self.batch_size = batch_size\n",
    "        self.shuffle = shuffle\n",
    "        self.n_batches = int(math.ceil(X.shape[0] // batch_size))\n",
    "        self._current = 0\n",
    "\n",
    "    def __iter__(self):\n",
    "        return self\n",
    "\n",
    "    def __next__(self):\n",
    "        return self.next()\n",
    "\n",
    "    def next(self):\n",
    "        if self._current >= self.n_batches:\n",
    "            raise StopIteration()\n",
    "        k = self._current\n",
    "        self._current += 1\n",
    "        bs = self.batch_size\n",
    "        return self.X[k*bs:(k + 1)*bs], self.y[k*bs:(k + 1)*bs]"
   ],
   "metadata": {
    "collapsed": false,
    "pycharm": {
     "name": "#%%\n"
    }
   }
  },
  {
   "cell_type": "code",
   "execution_count": 10,
   "outputs": [],
   "source": [
    "def batches(X, y, bs=32, shuffle=True):\n",
    "    for xb, yb in RatingsIterator(X, y, bs, shuffle):\n",
    "        xb = torch.LongTensor(xb)\n",
    "        yb = torch.FloatTensor(yb)\n",
    "        yield xb, yb.view(-1, 1)"
   ],
   "metadata": {
    "collapsed": false,
    "pycharm": {
     "name": "#%%\n"
    }
   }
  },
  {
   "cell_type": "code",
   "execution_count": 11,
   "outputs": [],
   "source": [
    "class RecommenderNet(nn.Module):\n",
    "    \"\"\"\n",
    "    Creates dense MLN with embedding layers.\n",
    "\n",
    "    Args:\n",
    "        n_users:\n",
    "            Number of unique users in the dataset.\n",
    "\n",
    "        n_movies:\n",
    "            Number of unique movies in the dataset.\n",
    "\n",
    "        n_factors:\n",
    "            Number of columns in the embeddings matrix.\n",
    "\n",
    "        embedding_dropout:\n",
    "            Dropout rate to apply right after embeddings layer.\n",
    "\n",
    "        hidden:\n",
    "            A single integer or a list of integers defining the number of\n",
    "            units in hidden layer(s).\n",
    "\n",
    "        dropouts:\n",
    "            A single integer or a list of integers defining the dropout\n",
    "            layers rates applied right after each of hidden layers.\n",
    "\n",
    "    \"\"\"\n",
    "    def __init__(self, n_users, n_movies,\n",
    "                 n_factors=50, embedding_dropout=0.02,\n",
    "                 hidden=10, dropouts=0.2):\n",
    "\n",
    "        super().__init__()\n",
    "        hidden = get_list(hidden)\n",
    "        dropouts = get_list(dropouts)\n",
    "        n_last = hidden[-1]\n",
    "\n",
    "        def gen_layers(n_in):\n",
    "            \"\"\"\n",
    "            A generator that yields a sequence of hidden layers and\n",
    "            their activations/dropouts.\n",
    "\n",
    "            Note that the function captures `hidden` and `dropouts`\n",
    "            values from the outer scope.\n",
    "            \"\"\"\n",
    "            nonlocal hidden, dropouts\n",
    "            assert len(dropouts) <= len(hidden)\n",
    "\n",
    "            for n_out, rate in zip_longest(hidden, dropouts):\n",
    "                yield nn.Linear(n_in, n_out)\n",
    "                yield nn.ReLU()\n",
    "                if rate is not None and rate > 0.:\n",
    "                    yield nn.Dropout(rate)\n",
    "                n_in = n_out\n",
    "\n",
    "        self.u = nn.Embedding(n_users, n_factors)\n",
    "        self.m = nn.Embedding(n_movies, n_factors)\n",
    "        self.drop = nn.Dropout(embedding_dropout)\n",
    "        self.hidden = nn.Sequential(*list(gen_layers(n_factors * 2)))\n",
    "        self.fc = nn.Linear(n_last, 1)\n",
    "        self.relu = nn.ReLU()\n",
    "        self._init()\n",
    "\n",
    "    def forward(self, users, movies, minmax=None):\n",
    "        features = torch.cat([self.u(users), self.m(movies)], dim=1)\n",
    "        x = self.drop(features)\n",
    "        x = self.hidden(x)\n",
    "        out = torch.sigmoid(self.fc(x))\n",
    "        #out = self.relu(self.fc(x))  # relu delivers worse rsme\n",
    "        if minmax is not None:\n",
    "            min_rating, max_rating = minmax\n",
    "            out = out*(max_rating - min_rating + 1) + min_rating - 0.5\n",
    "        return out\n",
    "\n",
    "    def _init(self):\n",
    "        \"\"\"\n",
    "        Setup embeddings and hidden layers with reasonable initial values.\n",
    "        \"\"\"\n",
    "\n",
    "        def init(m):\n",
    "            if type(m) == nn.Linear:\n",
    "                torch.nn.init.xavier_uniform_(m.weight)\n",
    "                m.bias.data.fill_(0.01)\n",
    "\n",
    "        self.u.weight.data.uniform_(-0.05, 0.05)\n",
    "        self.m.weight.data.uniform_(-0.05, 0.05)\n",
    "        self.hidden.apply(init)\n",
    "        init(self.fc)\n",
    "\n",
    "\n",
    "def get_list(n):\n",
    "    if isinstance(n, (int, float)):\n",
    "        return [n]\n",
    "    elif hasattr(n, '__iter__'):\n",
    "        return list(n)\n",
    "    raise TypeError('layers configuraiton should be a single number or a list of numbers')"
   ],
   "metadata": {
    "collapsed": false,
    "pycharm": {
     "name": "#%%\n"
    }
   }
  },
  {
   "cell_type": "code",
   "execution_count": 12,
   "outputs": [],
   "source": [
    "def plot_lr(schedule):\n",
    "    ts = list(range(1000))\n",
    "    y = [schedule(t, 0.001) for t in ts]\n",
    "    plt.plot(ts, y)\n"
   ],
   "metadata": {
    "collapsed": false,
    "pycharm": {
     "name": "#%%\n"
    }
   }
  },
  {
   "cell_type": "code",
   "execution_count": 13,
   "outputs": [
    {
     "data": {
      "text/plain": "(1.0, 5.0)"
     },
     "execution_count": 13,
     "metadata": {},
     "output_type": "execute_result"
    }
   ],
   "source": [
    "minmax = float(ratings.rating.min()), float(ratings.rating.max())\n",
    "minmax"
   ],
   "metadata": {
    "collapsed": false,
    "pycharm": {
     "name": "#%%\n"
    }
   }
  },
  {
   "cell_type": "code",
   "execution_count": 80,
   "outputs": [],
   "source": [
    "# small net\n",
    "\n",
    "start = time.time()\n",
    "net = RecommenderNet(\n",
    "    n_users=n, n_movies=m,\n",
    "    n_factors=10, hidden=[10],\n",
    "    embedding_dropout=0.05, dropouts=[0.3])"
   ],
   "metadata": {
    "collapsed": false,
    "pycharm": {
     "name": "#%%\n"
    }
   }
  },
  {
   "cell_type": "code",
   "execution_count": 81,
   "outputs": [],
   "source": [
    "lr = 1e-3\n",
    "wd = 1e-5\n",
    "bs = 4096\n",
    "n_epochs = 300\n",
    "patience = 300\n",
    "no_improvements = 0\n",
    "best_loss = np.inf\n",
    "best_weights = None\n",
    "history = []\n",
    "lr_history = []\n",
    "\n",
    "device = torch.device('cuda:0' if torch.cuda.is_available() else 'cpu')\n",
    "\n",
    "net.to(device)\n",
    "criterion = nn.MSELoss(reduction='sum')\n",
    "optimizer = optim.Adam(net.parameters(), lr=lr, weight_decay=wd)"
   ],
   "metadata": {
    "collapsed": false,
    "pycharm": {
     "name": "#%%\n"
    }
   }
  },
  {
   "cell_type": "code",
   "execution_count": 82,
   "outputs": [
    {
     "name": "stdout",
     "output_type": "stream",
     "text": [
      "loss improvement on epoch: 1\n",
      "[001/300] train: 1.3937 - val: 1.1510\n",
      "loss improvement on epoch: 2\n",
      "[002/300] train: 1.2975 - val: 1.0737\n",
      "loss improvement on epoch: 3\n",
      "[003/300] train: 1.2071 - val: 1.0021\n",
      "loss improvement on epoch: 4\n",
      "[004/300] train: 1.1221 - val: 0.9425\n",
      "loss improvement on epoch: 5\n",
      "[005/300] train: 1.0612 - val: 0.8986\n",
      "loss improvement on epoch: 6\n",
      "[006/300] train: 1.0116 - val: 0.8652\n",
      "loss improvement on epoch: 7\n",
      "[007/300] train: 0.9713 - val: 0.8431\n",
      "loss improvement on epoch: 8\n",
      "[008/300] train: 0.9444 - val: 0.8274\n",
      "loss improvement on epoch: 9\n",
      "[009/300] train: 0.9194 - val: 0.8097\n",
      "loss improvement on epoch: 10\n",
      "[010/300] train: 0.9017 - val: 0.7998\n",
      "loss improvement on epoch: 11\n",
      "[011/300] train: 0.8865 - val: 0.7914\n",
      "loss improvement on epoch: 12\n",
      "[012/300] train: 0.8749 - val: 0.7834\n",
      "loss improvement on epoch: 13\n",
      "[013/300] train: 0.8673 - val: 0.7777\n",
      "loss improvement on epoch: 14\n",
      "[014/300] train: 0.8604 - val: 0.7769\n",
      "loss improvement on epoch: 15\n",
      "[015/300] train: 0.8516 - val: 0.7732\n",
      "loss improvement on epoch: 16\n",
      "[016/300] train: 0.8467 - val: 0.7654\n",
      "[017/300] train: 0.8371 - val: 0.7665\n",
      "[018/300] train: 0.8340 - val: 0.7672\n",
      "loss improvement on epoch: 19\n",
      "[019/300] train: 0.8395 - val: 0.7646\n",
      "loss improvement on epoch: 20\n",
      "[020/300] train: 0.8282 - val: 0.7595\n",
      "loss improvement on epoch: 21\n",
      "[021/300] train: 0.8265 - val: 0.7539\n",
      "[022/300] train: 0.8238 - val: 0.7575\n",
      "[023/300] train: 0.8205 - val: 0.7571\n",
      "[024/300] train: 0.8201 - val: 0.7554\n",
      "[025/300] train: 0.8159 - val: 0.7581\n",
      "[026/300] train: 0.8179 - val: 0.7557\n",
      "[027/300] train: 0.8135 - val: 0.7540\n",
      "loss improvement on epoch: 28\n",
      "[028/300] train: 0.8131 - val: 0.7534\n",
      "[029/300] train: 0.8109 - val: 0.7541\n",
      "[030/300] train: 0.8107 - val: 0.7552\n",
      "loss improvement on epoch: 31\n",
      "[031/300] train: 0.8077 - val: 0.7514\n",
      "loss improvement on epoch: 32\n",
      "[032/300] train: 0.8073 - val: 0.7501\n",
      "loss improvement on epoch: 33\n",
      "[033/300] train: 0.8066 - val: 0.7486\n",
      "[034/300] train: 0.8039 - val: 0.7507\n",
      "[035/300] train: 0.7993 - val: 0.7504\n",
      "[036/300] train: 0.7978 - val: 0.7515\n",
      "[037/300] train: 0.7953 - val: 0.7514\n",
      "[038/300] train: 0.7976 - val: 0.7523\n",
      "[039/300] train: 0.7988 - val: 0.7497\n",
      "loss improvement on epoch: 40\n",
      "[040/300] train: 0.7963 - val: 0.7461\n",
      "[041/300] train: 0.7961 - val: 0.7519\n",
      "[042/300] train: 0.7948 - val: 0.7491\n",
      "[043/300] train: 0.7930 - val: 0.7512\n",
      "loss improvement on epoch: 44\n",
      "[044/300] train: 0.7915 - val: 0.7457\n",
      "[045/300] train: 0.7898 - val: 0.7568\n",
      "[046/300] train: 0.7908 - val: 0.7487\n",
      "[047/300] train: 0.7856 - val: 0.7514\n",
      "[048/300] train: 0.7845 - val: 0.7470\n",
      "[049/300] train: 0.7861 - val: 0.7492\n",
      "[050/300] train: 0.7852 - val: 0.7568\n",
      "[051/300] train: 0.7840 - val: 0.7539\n",
      "[052/300] train: 0.7867 - val: 0.7543\n",
      "[053/300] train: 0.7861 - val: 0.7522\n",
      "[054/300] train: 0.7820 - val: 0.7501\n",
      "[055/300] train: 0.7789 - val: 0.7506\n",
      "[056/300] train: 0.7833 - val: 0.7538\n",
      "[057/300] train: 0.7796 - val: 0.7509\n",
      "[058/300] train: 0.7804 - val: 0.7577\n",
      "[059/300] train: 0.7812 - val: 0.7559\n",
      "[060/300] train: 0.7785 - val: 0.7565\n",
      "[061/300] train: 0.7785 - val: 0.7514\n",
      "[062/300] train: 0.7788 - val: 0.7566\n",
      "[063/300] train: 0.7772 - val: 0.7567\n",
      "[064/300] train: 0.7792 - val: 0.7580\n",
      "[065/300] train: 0.7748 - val: 0.7554\n",
      "[066/300] train: 0.7757 - val: 0.7579\n",
      "[067/300] train: 0.7740 - val: 0.7549\n",
      "[068/300] train: 0.7786 - val: 0.7550\n",
      "[069/300] train: 0.7772 - val: 0.7580\n",
      "[070/300] train: 0.7738 - val: 0.7569\n",
      "[071/300] train: 0.7724 - val: 0.7590\n",
      "[072/300] train: 0.7778 - val: 0.7583\n",
      "[073/300] train: 0.7746 - val: 0.7576\n",
      "[074/300] train: 0.7735 - val: 0.7578\n",
      "[075/300] train: 0.7743 - val: 0.7577\n",
      "[076/300] train: 0.7724 - val: 0.7579\n",
      "[077/300] train: 0.7710 - val: 0.7559\n",
      "[078/300] train: 0.7719 - val: 0.7593\n",
      "[079/300] train: 0.7702 - val: 0.7623\n",
      "[080/300] train: 0.7728 - val: 0.7555\n",
      "[081/300] train: 0.7745 - val: 0.7545\n",
      "[082/300] train: 0.7740 - val: 0.7608\n",
      "[083/300] train: 0.7714 - val: 0.7595\n",
      "[084/300] train: 0.7752 - val: 0.7567\n",
      "[085/300] train: 0.7727 - val: 0.7571\n",
      "[086/300] train: 0.7730 - val: 0.7647\n",
      "[087/300] train: 0.7691 - val: 0.7564\n",
      "[088/300] train: 0.7729 - val: 0.7578\n",
      "[089/300] train: 0.7709 - val: 0.7575\n",
      "[090/300] train: 0.7702 - val: 0.7583\n",
      "[091/300] train: 0.7745 - val: 0.7649\n",
      "[092/300] train: 0.7698 - val: 0.7659\n",
      "[093/300] train: 0.7705 - val: 0.7585\n",
      "[094/300] train: 0.7719 - val: 0.7591\n",
      "[095/300] train: 0.7721 - val: 0.7597\n",
      "[096/300] train: 0.7680 - val: 0.7591\n",
      "[097/300] train: 0.7692 - val: 0.7572\n",
      "[098/300] train: 0.7692 - val: 0.7556\n",
      "[099/300] train: 0.7667 - val: 0.7585\n",
      "[100/300] train: 0.7723 - val: 0.7550\n",
      "[101/300] train: 0.7663 - val: 0.7540\n",
      "[102/300] train: 0.7700 - val: 0.7579\n",
      "[103/300] train: 0.7697 - val: 0.7602\n",
      "[104/300] train: 0.7690 - val: 0.7596\n",
      "[105/300] train: 0.7680 - val: 0.7638\n",
      "[106/300] train: 0.7706 - val: 0.7604\n",
      "[107/300] train: 0.7685 - val: 0.7590\n",
      "[108/300] train: 0.7679 - val: 0.7566\n",
      "[109/300] train: 0.7680 - val: 0.7600\n",
      "[110/300] train: 0.7695 - val: 0.7566\n",
      "[111/300] train: 0.7672 - val: 0.7600\n",
      "[112/300] train: 0.7659 - val: 0.7608\n",
      "[113/300] train: 0.7674 - val: 0.7617\n",
      "[114/300] train: 0.7673 - val: 0.7593\n",
      "[115/300] train: 0.7658 - val: 0.7652\n",
      "[116/300] train: 0.7663 - val: 0.7577\n",
      "[117/300] train: 0.7629 - val: 0.7566\n",
      "[118/300] train: 0.7647 - val: 0.7601\n",
      "[119/300] train: 0.7672 - val: 0.7687\n",
      "[120/300] train: 0.7661 - val: 0.7623\n",
      "[121/300] train: 0.7675 - val: 0.7605\n",
      "[122/300] train: 0.7645 - val: 0.7633\n",
      "[123/300] train: 0.7657 - val: 0.7637\n",
      "[124/300] train: 0.7660 - val: 0.7618\n",
      "[125/300] train: 0.7652 - val: 0.7588\n",
      "[126/300] train: 0.7680 - val: 0.7641\n",
      "[127/300] train: 0.7658 - val: 0.7606\n",
      "[128/300] train: 0.7678 - val: 0.7642\n",
      "[129/300] train: 0.7650 - val: 0.7600\n",
      "[130/300] train: 0.7653 - val: 0.7645\n",
      "[131/300] train: 0.7639 - val: 0.7639\n",
      "[132/300] train: 0.7663 - val: 0.7623\n",
      "[133/300] train: 0.7662 - val: 0.7632\n",
      "[134/300] train: 0.7637 - val: 0.7662\n",
      "[135/300] train: 0.7632 - val: 0.7585\n",
      "[136/300] train: 0.7600 - val: 0.7634\n",
      "[137/300] train: 0.7627 - val: 0.7542\n",
      "[138/300] train: 0.7629 - val: 0.7670\n",
      "[139/300] train: 0.7660 - val: 0.7611\n",
      "[140/300] train: 0.7647 - val: 0.7604\n",
      "[141/300] train: 0.7607 - val: 0.7643\n",
      "[142/300] train: 0.7639 - val: 0.7655\n",
      "[143/300] train: 0.7612 - val: 0.7589\n",
      "[144/300] train: 0.7619 - val: 0.7610\n",
      "[145/300] train: 0.7623 - val: 0.7664\n",
      "[146/300] train: 0.7611 - val: 0.7573\n",
      "[147/300] train: 0.7606 - val: 0.7607\n",
      "[148/300] train: 0.7611 - val: 0.7576\n",
      "[149/300] train: 0.7604 - val: 0.7621\n",
      "[150/300] train: 0.7637 - val: 0.7593\n",
      "[151/300] train: 0.7619 - val: 0.7628\n",
      "[152/300] train: 0.7649 - val: 0.7653\n",
      "[153/300] train: 0.7599 - val: 0.7631\n",
      "[154/300] train: 0.7635 - val: 0.7628\n",
      "[155/300] train: 0.7618 - val: 0.7594\n",
      "[156/300] train: 0.7607 - val: 0.7665\n",
      "[157/300] train: 0.7599 - val: 0.7655\n",
      "[158/300] train: 0.7628 - val: 0.7617\n",
      "[159/300] train: 0.7613 - val: 0.7677\n",
      "[160/300] train: 0.7612 - val: 0.7636\n",
      "[161/300] train: 0.7616 - val: 0.7602\n",
      "[162/300] train: 0.7597 - val: 0.7641\n",
      "[163/300] train: 0.7575 - val: 0.7648\n",
      "[164/300] train: 0.7569 - val: 0.7700\n",
      "[165/300] train: 0.7592 - val: 0.7600\n",
      "[166/300] train: 0.7570 - val: 0.7713\n",
      "[167/300] train: 0.7643 - val: 0.7629\n",
      "[168/300] train: 0.7581 - val: 0.7639\n",
      "[169/300] train: 0.7598 - val: 0.7618\n",
      "[170/300] train: 0.7580 - val: 0.7624\n",
      "[171/300] train: 0.7602 - val: 0.7595\n",
      "[172/300] train: 0.7568 - val: 0.7654\n",
      "[173/300] train: 0.7589 - val: 0.7680\n",
      "[174/300] train: 0.7586 - val: 0.7662\n",
      "[175/300] train: 0.7594 - val: 0.7627\n",
      "[176/300] train: 0.7567 - val: 0.7597\n",
      "[177/300] train: 0.7570 - val: 0.7673\n",
      "[178/300] train: 0.7555 - val: 0.7600\n",
      "[179/300] train: 0.7581 - val: 0.7684\n",
      "[180/300] train: 0.7515 - val: 0.7652\n",
      "[181/300] train: 0.7578 - val: 0.7642\n",
      "[182/300] train: 0.7545 - val: 0.7662\n",
      "[183/300] train: 0.7536 - val: 0.7716\n",
      "[184/300] train: 0.7556 - val: 0.7606\n",
      "[185/300] train: 0.7529 - val: 0.7625\n",
      "[186/300] train: 0.7550 - val: 0.7648\n",
      "[187/300] train: 0.7548 - val: 0.7619\n",
      "[188/300] train: 0.7551 - val: 0.7659\n",
      "[189/300] train: 0.7540 - val: 0.7637\n",
      "[190/300] train: 0.7553 - val: 0.7627\n",
      "[191/300] train: 0.7522 - val: 0.7647\n",
      "[192/300] train: 0.7520 - val: 0.7710\n",
      "[193/300] train: 0.7530 - val: 0.7629\n",
      "[194/300] train: 0.7531 - val: 0.7669\n",
      "[195/300] train: 0.7543 - val: 0.7672\n",
      "[196/300] train: 0.7518 - val: 0.7645\n",
      "[197/300] train: 0.7512 - val: 0.7679\n",
      "[198/300] train: 0.7529 - val: 0.7698\n",
      "[199/300] train: 0.7502 - val: 0.7650\n",
      "[200/300] train: 0.7509 - val: 0.7672\n",
      "[201/300] train: 0.7504 - val: 0.7700\n",
      "[202/300] train: 0.7511 - val: 0.7709\n",
      "[203/300] train: 0.7514 - val: 0.7673\n",
      "[204/300] train: 0.7483 - val: 0.7627\n",
      "[205/300] train: 0.7482 - val: 0.7725\n",
      "[206/300] train: 0.7495 - val: 0.7654\n",
      "[207/300] train: 0.7481 - val: 0.7668\n",
      "[208/300] train: 0.7484 - val: 0.7714\n",
      "[209/300] train: 0.7507 - val: 0.7641\n",
      "[210/300] train: 0.7472 - val: 0.7661\n",
      "[211/300] train: 0.7497 - val: 0.7707\n",
      "[212/300] train: 0.7477 - val: 0.7683\n",
      "[213/300] train: 0.7483 - val: 0.7630\n",
      "[214/300] train: 0.7473 - val: 0.7629\n",
      "[215/300] train: 0.7458 - val: 0.7681\n",
      "[216/300] train: 0.7466 - val: 0.7678\n",
      "[217/300] train: 0.7442 - val: 0.7679\n",
      "[218/300] train: 0.7508 - val: 0.7683\n",
      "[219/300] train: 0.7472 - val: 0.7741\n",
      "[220/300] train: 0.7438 - val: 0.7661\n",
      "[221/300] train: 0.7436 - val: 0.7648\n",
      "[222/300] train: 0.7460 - val: 0.7716\n",
      "[223/300] train: 0.7479 - val: 0.7684\n",
      "[224/300] train: 0.7432 - val: 0.7724\n",
      "[225/300] train: 0.7450 - val: 0.7738\n",
      "[226/300] train: 0.7445 - val: 0.7669\n",
      "[227/300] train: 0.7469 - val: 0.7698\n",
      "[228/300] train: 0.7448 - val: 0.7720\n",
      "[229/300] train: 0.7458 - val: 0.7656\n",
      "[230/300] train: 0.7440 - val: 0.7696\n",
      "[231/300] train: 0.7445 - val: 0.7763\n",
      "[232/300] train: 0.7440 - val: 0.7719\n",
      "[233/300] train: 0.7454 - val: 0.7716\n",
      "[234/300] train: 0.7454 - val: 0.7696\n",
      "[235/300] train: 0.7449 - val: 0.7695\n",
      "[236/300] train: 0.7475 - val: 0.7648\n",
      "[237/300] train: 0.7437 - val: 0.7691\n",
      "[238/300] train: 0.7407 - val: 0.7669\n",
      "[239/300] train: 0.7422 - val: 0.7730\n",
      "[240/300] train: 0.7424 - val: 0.7747\n",
      "[241/300] train: 0.7395 - val: 0.7726\n",
      "[242/300] train: 0.7420 - val: 0.7687\n",
      "[243/300] train: 0.7422 - val: 0.7678\n",
      "[244/300] train: 0.7418 - val: 0.7691\n",
      "[245/300] train: 0.7427 - val: 0.7732\n",
      "[246/300] train: 0.7437 - val: 0.7696\n",
      "[247/300] train: 0.7406 - val: 0.7680\n",
      "[248/300] train: 0.7416 - val: 0.7741\n",
      "[249/300] train: 0.7407 - val: 0.7672\n",
      "[250/300] train: 0.7411 - val: 0.7695\n",
      "[251/300] train: 0.7398 - val: 0.7700\n",
      "[252/300] train: 0.7430 - val: 0.7778\n",
      "[253/300] train: 0.7387 - val: 0.7752\n",
      "[254/300] train: 0.7362 - val: 0.7718\n",
      "[255/300] train: 0.7407 - val: 0.7694\n",
      "[256/300] train: 0.7396 - val: 0.7638\n",
      "[257/300] train: 0.7378 - val: 0.7735\n",
      "[258/300] train: 0.7401 - val: 0.7675\n",
      "[259/300] train: 0.7393 - val: 0.7718\n",
      "[260/300] train: 0.7351 - val: 0.7674\n",
      "[261/300] train: 0.7393 - val: 0.7665\n",
      "[262/300] train: 0.7427 - val: 0.7714\n",
      "[263/300] train: 0.7408 - val: 0.7665\n",
      "[264/300] train: 0.7367 - val: 0.7691\n",
      "[265/300] train: 0.7403 - val: 0.7716\n",
      "[266/300] train: 0.7389 - val: 0.7747\n",
      "[267/300] train: 0.7376 - val: 0.7685\n",
      "[268/300] train: 0.7382 - val: 0.7685\n",
      "[269/300] train: 0.7413 - val: 0.7701\n",
      "[270/300] train: 0.7358 - val: 0.7763\n",
      "[271/300] train: 0.7383 - val: 0.7717\n",
      "[272/300] train: 0.7367 - val: 0.7696\n",
      "[273/300] train: 0.7387 - val: 0.7702\n",
      "[274/300] train: 0.7369 - val: 0.7695\n",
      "[275/300] train: 0.7376 - val: 0.7718\n",
      "[276/300] train: 0.7400 - val: 0.7682\n",
      "[277/300] train: 0.7377 - val: 0.7737\n",
      "[278/300] train: 0.7350 - val: 0.7728\n",
      "[279/300] train: 0.7368 - val: 0.7726\n",
      "[280/300] train: 0.7344 - val: 0.7699\n",
      "[281/300] train: 0.7384 - val: 0.7770\n",
      "[282/300] train: 0.7373 - val: 0.7694\n",
      "[283/300] train: 0.7344 - val: 0.7644\n",
      "[284/300] train: 0.7359 - val: 0.7724\n",
      "[285/300] train: 0.7373 - val: 0.7710\n",
      "[286/300] train: 0.7334 - val: 0.7751\n",
      "[287/300] train: 0.7340 - val: 0.7744\n",
      "[288/300] train: 0.7350 - val: 0.7711\n",
      "[289/300] train: 0.7364 - val: 0.7727\n",
      "[290/300] train: 0.7368 - val: 0.7730\n",
      "[291/300] train: 0.7330 - val: 0.7735\n",
      "[292/300] train: 0.7321 - val: 0.7753\n",
      "[293/300] train: 0.7372 - val: 0.7779\n",
      "[294/300] train: 0.7333 - val: 0.7745\n",
      "[295/300] train: 0.7333 - val: 0.7772\n",
      "[296/300] train: 0.7352 - val: 0.7768\n",
      "[297/300] train: 0.7318 - val: 0.7755\n",
      "[298/300] train: 0.7372 - val: 0.7735\n",
      "[299/300] train: 0.7325 - val: 0.7726\n",
      "[300/300] train: 0.7349 - val: 0.7766\n"
     ]
    }
   ],
   "source": [
    "for epoch in range(n_epochs):\n",
    "    stats = {'epoch': epoch + 1, 'total': n_epochs}\n",
    "\n",
    "    for phase in ('train', 'val'):\n",
    "        if phase == 'train':\n",
    "          training = True\n",
    "        else:\n",
    "          training = False\n",
    "        running_loss = 0\n",
    "        n_batches = 0\n",
    "        for batch in batches(*datasets[phase], shuffle=training, bs=bs):\n",
    "            x_batch, y_batch = [b.to(device) for b in batch]\n",
    "            optimizer.zero_grad()\n",
    "            # compute gradients only during 'train' phase\n",
    "            with torch.set_grad_enabled(training):\n",
    "                outputs = net(x_batch[:,0], x_batch[:,1], minmax)\n",
    "                loss = criterion(outputs, y_batch)\n",
    "                # don't update weights and rates when in 'val' phase\n",
    "                if training:\n",
    "                    #scheduler.step()\n",
    "                    loss.backward()\n",
    "                    optimizer.step()\n",
    "                    #lr_history.extend(scheduler.get_lr())\n",
    "            running_loss += loss.item()\n",
    "        epoch_loss = running_loss / dataset_sizes[phase]\n",
    "        stats[phase] = epoch_loss\n",
    "        # early stopping: save weights of the best model so far\n",
    "        if phase == 'val':\n",
    "            if epoch_loss < best_loss:\n",
    "                print('loss improvement on epoch: %d' % (epoch + 1))\n",
    "                best_loss = epoch_loss\n",
    "                best_weights = copy.deepcopy(net.state_dict())\n",
    "                no_improvements = 0\n",
    "            else:\n",
    "                no_improvements += 1\n",
    "    history.append(stats)\n",
    "    with open(f'logs/small.txt', 'a') as f:\n",
    "        print('[{epoch:03d}/{total:03d}] train: {train:.4f} - val: {val:.4f}'.format(**stats))\n",
    "        f.write('[{epoch:03d}/{total:03d}] train: {train:.4f} - val: {val:.4f}'.format(**stats))\n",
    "    if no_improvements >= patience:\n",
    "        print('early stopping after epoch {epoch:03d}'.format(**stats))\n",
    "        break"
   ],
   "metadata": {
    "collapsed": false,
    "pycharm": {
     "name": "#%%\n"
    }
   }
  },
  {
   "cell_type": "code",
   "execution_count": 83,
   "outputs": [
    {
     "data": {
      "text/plain": "<All keys matched successfully>"
     },
     "execution_count": 83,
     "metadata": {},
     "output_type": "execute_result"
    }
   ],
   "source": [
    "net.load_state_dict(best_weights)"
   ],
   "metadata": {
    "collapsed": false,
    "pycharm": {
     "name": "#%%\n"
    }
   }
  },
  {
   "cell_type": "code",
   "execution_count": 84,
   "outputs": [],
   "source": [
    "groud_truth, predictions = [], []\n",
    "\n",
    "with torch.no_grad():\n",
    "    for batch in batches(*datasets['val'], shuffle=False, bs=bs):\n",
    "        x_batch, y_batch = [b.to(device) for b in batch]\n",
    "        outputs = net(x_batch[:, 0], x_batch[:, 1], minmax)\n",
    "        groud_truth.extend(y_batch.tolist())\n",
    "        predictions.extend(outputs.tolist())\n",
    "\n",
    "groud_truth = np.asarray(groud_truth).ravel()\n",
    "predictions = np.asarray(predictions).ravel()"
   ],
   "metadata": {
    "collapsed": false,
    "pycharm": {
     "name": "#%%\n"
    }
   }
  },
  {
   "cell_type": "code",
   "execution_count": 85,
   "outputs": [
    {
     "name": "stdout",
     "output_type": "stream",
     "text": [
      "Validation RMSE: 0.9570\n"
     ]
    }
   ],
   "source": [
    "valid_loss = np.sqrt(np.mean((predictions - groud_truth)**2))\n",
    "print(f'Validation RMSE: {valid_loss:.4f}')"
   ],
   "metadata": {
    "collapsed": false,
    "pycharm": {
     "name": "#%%\n"
    }
   }
  },
  {
   "cell_type": "code",
   "execution_count": 86,
   "outputs": [],
   "source": [
    "groud_truth, predictions = [], []\n",
    "\n",
    "with torch.no_grad():\n",
    "    for batch in batches(*datasets['test'], shuffle=False, bs=bs):\n",
    "        x_batch, y_batch = [b.to(device) for b in batch]\n",
    "        outputs = net(x_batch[:, 0], x_batch[:, 1], minmax)\n",
    "        groud_truth.extend(y_batch.tolist())\n",
    "        predictions.extend(outputs.tolist())\n",
    "\n",
    "groud_truth = np.asarray(groud_truth).ravel()\n",
    "predictions = np.asarray(predictions).ravel()"
   ],
   "metadata": {
    "collapsed": false,
    "pycharm": {
     "name": "#%%\n"
    }
   }
  },
  {
   "cell_type": "code",
   "execution_count": 87,
   "outputs": [
    {
     "name": "stdout",
     "output_type": "stream",
     "text": [
      "Small Test RMSE: 0.9637\n"
     ]
    }
   ],
   "source": [
    "final_loss = np.sqrt(np.mean((predictions - groud_truth)**2))\n",
    "print(f'Small Test RMSE: {final_loss:.4f}')"
   ],
   "metadata": {
    "collapsed": false,
    "pycharm": {
     "name": "#%%\n"
    }
   }
  },
  {
   "cell_type": "code",
   "execution_count": 88,
   "outputs": [
    {
     "name": "stdout",
     "output_type": "stream",
     "text": [
      "Small duration: 8.0946\n"
     ]
    }
   ],
   "source": [
    "print(f'Small duration: {round(time.time() - start, 4)}')"
   ],
   "metadata": {
    "collapsed": false,
    "pycharm": {
     "name": "#%%\n"
    }
   }
  },
  {
   "cell_type": "code",
   "execution_count": 89,
   "outputs": [
    {
     "data": {
      "text/plain": "<Figure size 432x288 with 1 Axes>",
      "image/png": "[encoded data removed]"
     },
     "metadata": {},
     "output_type": "display_data"
    }
   ],
   "source": [
    "plt.rcParams['font.size'] = 26\n",
    "plt.rcParams['axes.labelsize'] = 26\n",
    "plt.rcParams['xtick.labelsize'] = 26\n",
    "plt.rcParams['ytick.labelsize'] = 26\n",
    "plt.rcParams['legend.fontsize'] = 26\n",
    "plt.style.use('seaborn-whitegrid')\n",
    "ax = pd.DataFrame(history).drop(columns='total').plot(x='epoch')\n",
    "plt.ylabel('loss')\n",
    "plt.ylim([0.2, 1.8])\n",
    "\n",
    "plt.savefig(figure_path + '/' + dataset +'-small-loss.png', dpi=300, bbox_inches='tight')\n"
   ],
   "metadata": {
    "collapsed": false,
    "pycharm": {
     "name": "#%%\n"
    }
   }
  },
  {
   "cell_type": "code",
   "execution_count": 90,
   "outputs": [],
   "source": [
    "with open('best.weights.small', 'wb') as file:\n",
    "    pickle.dump(best_weights, file)"
   ],
   "metadata": {
    "collapsed": false,
    "pycharm": {
     "name": "#%%\n"
    }
   }
  },
  {
   "cell_type": "code",
   "execution_count": 91,
   "outputs": [],
   "source": [
    "# medium net\n",
    "\n",
    "start = time.time()\n",
    "net = RecommenderNet(\n",
    "    n_users=n, n_movies=m,\n",
    "    n_factors=20, hidden=[10 ,10],\n",
    "    embedding_dropout=0.05, dropouts=[0.3, 0.3])"
   ],
   "metadata": {
    "collapsed": false,
    "pycharm": {
     "name": "#%%\n"
    }
   }
  },
  {
   "cell_type": "code",
   "execution_count": 92,
   "outputs": [],
   "source": [
    "lr = 1e-3\n",
    "wd = 1e-5\n",
    "bs = 4096\n",
    "n_epochs = 300\n",
    "patience = 300\n",
    "no_improvements = 0\n",
    "best_loss = np.inf\n",
    "best_weights = None\n",
    "history = []\n",
    "lr_history = []\n",
    "\n",
    "device = torch.device('cuda:0' if torch.cuda.is_available() else 'cpu')\n",
    "\n",
    "net.to(device)\n",
    "criterion = nn.MSELoss(reduction='sum')\n",
    "optimizer = optim.Adam(net.parameters(), lr=lr, weight_decay=wd)"
   ],
   "metadata": {
    "collapsed": false,
    "pycharm": {
     "name": "#%%\n"
    }
   }
  },
  {
   "cell_type": "code",
   "execution_count": 93,
   "outputs": [
    {
     "name": "stdout",
     "output_type": "stream",
     "text": [
      "loss improvement on epoch: 1\n",
      "[001/300] train: 1.4179 - val: 1.1567\n",
      "loss improvement on epoch: 2\n",
      "[002/300] train: 1.2987 - val: 1.0687\n",
      "loss improvement on epoch: 3\n",
      "[003/300] train: 1.2083 - val: 1.0054\n",
      "loss improvement on epoch: 4\n",
      "[004/300] train: 1.1396 - val: 0.9665\n",
      "loss improvement on epoch: 5\n",
      "[005/300] train: 1.0842 - val: 0.9235\n",
      "loss improvement on epoch: 6\n",
      "[006/300] train: 1.0430 - val: 0.8970\n",
      "loss improvement on epoch: 7\n",
      "[007/300] train: 0.9950 - val: 0.8625\n",
      "loss improvement on epoch: 8\n",
      "[008/300] train: 0.9626 - val: 0.8402\n",
      "loss improvement on epoch: 9\n",
      "[009/300] train: 0.9338 - val: 0.8280\n",
      "loss improvement on epoch: 10\n",
      "[010/300] train: 0.9121 - val: 0.8174\n",
      "loss improvement on epoch: 11\n",
      "[011/300] train: 0.8990 - val: 0.8095\n",
      "loss improvement on epoch: 12\n",
      "[012/300] train: 0.8853 - val: 0.8067\n",
      "loss improvement on epoch: 13\n",
      "[013/300] train: 0.8799 - val: 0.7957\n",
      "loss improvement on epoch: 14\n",
      "[014/300] train: 0.8702 - val: 0.7948\n",
      "loss improvement on epoch: 15\n",
      "[015/300] train: 0.8615 - val: 0.7882\n",
      "[016/300] train: 0.8618 - val: 0.7908\n",
      "loss improvement on epoch: 17\n",
      "[017/300] train: 0.8511 - val: 0.7862\n",
      "[018/300] train: 0.8480 - val: 0.7907\n",
      "[019/300] train: 0.8416 - val: 0.7899\n",
      "loss improvement on epoch: 20\n",
      "[020/300] train: 0.8377 - val: 0.7802\n",
      "[021/300] train: 0.8319 - val: 0.7853\n",
      "[022/300] train: 0.8282 - val: 0.7804\n",
      "loss improvement on epoch: 23\n",
      "[023/300] train: 0.8246 - val: 0.7793\n",
      "loss improvement on epoch: 24\n",
      "[024/300] train: 0.8212 - val: 0.7752\n",
      "[025/300] train: 0.8207 - val: 0.7866\n",
      "[026/300] train: 0.8212 - val: 0.7863\n",
      "[027/300] train: 0.8206 - val: 0.7868\n",
      "[028/300] train: 0.8156 - val: 0.7844\n",
      "[029/300] train: 0.8155 - val: 0.7899\n",
      "[030/300] train: 0.8106 - val: 0.7774\n",
      "[031/300] train: 0.8111 - val: 0.7789\n",
      "[032/300] train: 0.8045 - val: 0.7810\n",
      "[033/300] train: 0.8075 - val: 0.7843\n",
      "[034/300] train: 0.8054 - val: 0.7827\n",
      "[035/300] train: 0.7996 - val: 0.7830\n",
      "[036/300] train: 0.8002 - val: 0.7788\n",
      "loss improvement on epoch: 37\n",
      "[037/300] train: 0.8000 - val: 0.7739\n",
      "[038/300] train: 0.7928 - val: 0.7790\n",
      "[039/300] train: 0.7960 - val: 0.7815\n",
      "[040/300] train: 0.7929 - val: 0.7814\n",
      "[041/300] train: 0.7945 - val: 0.7834\n",
      "[042/300] train: 0.7916 - val: 0.7744\n",
      "[043/300] train: 0.7903 - val: 0.7843\n",
      "[044/300] train: 0.7925 - val: 0.7764\n",
      "[045/300] train: 0.7894 - val: 0.7838\n",
      "[046/300] train: 0.7845 - val: 0.7845\n",
      "[047/300] train: 0.7862 - val: 0.7897\n",
      "[048/300] train: 0.7838 - val: 0.7752\n",
      "[049/300] train: 0.7809 - val: 0.7842\n",
      "[050/300] train: 0.7803 - val: 0.7826\n",
      "[051/300] train: 0.7813 - val: 0.7794\n",
      "[052/300] train: 0.7811 - val: 0.7853\n",
      "[053/300] train: 0.7796 - val: 0.7865\n",
      "[054/300] train: 0.7772 - val: 0.7796\n",
      "[055/300] train: 0.7785 - val: 0.7763\n",
      "[056/300] train: 0.7750 - val: 0.7741\n",
      "[057/300] train: 0.7751 - val: 0.7819\n",
      "[058/300] train: 0.7729 - val: 0.7834\n",
      "[059/300] train: 0.7739 - val: 0.7886\n",
      "[060/300] train: 0.7733 - val: 0.7823\n",
      "[061/300] train: 0.7685 - val: 0.7769\n",
      "[062/300] train: 0.7695 - val: 0.7780\n",
      "[063/300] train: 0.7709 - val: 0.7812\n",
      "[064/300] train: 0.7648 - val: 0.7820\n",
      "[065/300] train: 0.7652 - val: 0.7850\n",
      "[066/300] train: 0.7625 - val: 0.7862\n",
      "[067/300] train: 0.7641 - val: 0.7898\n",
      "[068/300] train: 0.7576 - val: 0.7892\n",
      "[069/300] train: 0.7670 - val: 0.7871\n",
      "[070/300] train: 0.7589 - val: 0.7849\n",
      "[071/300] train: 0.7629 - val: 0.7895\n",
      "[072/300] train: 0.7642 - val: 0.7858\n",
      "[073/300] train: 0.7601 - val: 0.7832\n",
      "[074/300] train: 0.7630 - val: 0.7856\n",
      "[075/300] train: 0.7589 - val: 0.7881\n",
      "[076/300] train: 0.7581 - val: 0.7875\n",
      "[077/300] train: 0.7564 - val: 0.7940\n",
      "[078/300] train: 0.7581 - val: 0.7856\n",
      "[079/300] train: 0.7553 - val: 0.7852\n",
      "[080/300] train: 0.7535 - val: 0.7906\n",
      "[081/300] train: 0.7566 - val: 0.7891\n",
      "[082/300] train: 0.7492 - val: 0.7878\n",
      "[083/300] train: 0.7524 - val: 0.7842\n",
      "[084/300] train: 0.7504 - val: 0.7877\n",
      "[085/300] train: 0.7493 - val: 0.7830\n",
      "[086/300] train: 0.7502 - val: 0.7950\n",
      "[087/300] train: 0.7517 - val: 0.7921\n",
      "[088/300] train: 0.7462 - val: 0.7940\n",
      "[089/300] train: 0.7488 - val: 0.7929\n",
      "[090/300] train: 0.7501 - val: 0.7881\n",
      "[091/300] train: 0.7507 - val: 0.7905\n",
      "[092/300] train: 0.7501 - val: 0.7863\n",
      "[093/300] train: 0.7436 - val: 0.7928\n",
      "[094/300] train: 0.7432 - val: 0.7916\n",
      "[095/300] train: 0.7422 - val: 0.7920\n",
      "[096/300] train: 0.7363 - val: 0.7927\n",
      "[097/300] train: 0.7391 - val: 0.7945\n",
      "[098/300] train: 0.7413 - val: 0.7964\n",
      "[099/300] train: 0.7444 - val: 0.7950\n",
      "[100/300] train: 0.7417 - val: 0.7880\n",
      "[101/300] train: 0.7415 - val: 0.8013\n",
      "[102/300] train: 0.7396 - val: 0.8051\n",
      "[103/300] train: 0.7396 - val: 0.8000\n",
      "[104/300] train: 0.7358 - val: 0.7983\n",
      "[105/300] train: 0.7374 - val: 0.8014\n",
      "[106/300] train: 0.7368 - val: 0.7983\n",
      "[107/300] train: 0.7388 - val: 0.7966\n",
      "[108/300] train: 0.7365 - val: 0.7972\n",
      "[109/300] train: 0.7365 - val: 0.7988\n",
      "[110/300] train: 0.7362 - val: 0.7971\n",
      "[111/300] train: 0.7397 - val: 0.7979\n",
      "[112/300] train: 0.7311 - val: 0.8039\n",
      "[113/300] train: 0.7360 - val: 0.7993\n",
      "[114/300] train: 0.7347 - val: 0.7953\n",
      "[115/300] train: 0.7319 - val: 0.7986\n",
      "[116/300] train: 0.7329 - val: 0.8006\n",
      "[117/300] train: 0.7323 - val: 0.8032\n",
      "[118/300] train: 0.7331 - val: 0.8020\n",
      "[119/300] train: 0.7306 - val: 0.8021\n",
      "[120/300] train: 0.7349 - val: 0.7949\n",
      "[121/300] train: 0.7306 - val: 0.7964\n",
      "[122/300] train: 0.7318 - val: 0.8010\n",
      "[123/300] train: 0.7299 - val: 0.8014\n",
      "[124/300] train: 0.7301 - val: 0.7989\n",
      "[125/300] train: 0.7326 - val: 0.8042\n",
      "[126/300] train: 0.7311 - val: 0.8034\n",
      "[127/300] train: 0.7310 - val: 0.8046\n",
      "[128/300] train: 0.7291 - val: 0.8020\n",
      "[129/300] train: 0.7333 - val: 0.8038\n",
      "[130/300] train: 0.7263 - val: 0.7975\n",
      "[131/300] train: 0.7274 - val: 0.7994\n",
      "[132/300] train: 0.7296 - val: 0.8035\n",
      "[133/300] train: 0.7246 - val: 0.8091\n",
      "[134/300] train: 0.7279 - val: 0.8001\n",
      "[135/300] train: 0.7252 - val: 0.8058\n",
      "[136/300] train: 0.7265 - val: 0.7998\n",
      "[137/300] train: 0.7275 - val: 0.8050\n",
      "[138/300] train: 0.7270 - val: 0.8069\n",
      "[139/300] train: 0.7285 - val: 0.8098\n",
      "[140/300] train: 0.7259 - val: 0.8091\n",
      "[141/300] train: 0.7257 - val: 0.8128\n",
      "[142/300] train: 0.7217 - val: 0.8055\n",
      "[143/300] train: 0.7256 - val: 0.8010\n",
      "[144/300] train: 0.7252 - val: 0.8061\n",
      "[145/300] train: 0.7249 - val: 0.8021\n",
      "[146/300] train: 0.7216 - val: 0.8054\n",
      "[147/300] train: 0.7247 - val: 0.8017\n",
      "[148/300] train: 0.7245 - val: 0.8065\n",
      "[149/300] train: 0.7187 - val: 0.8093\n",
      "[150/300] train: 0.7197 - val: 0.8064\n",
      "[151/300] train: 0.7206 - val: 0.8111\n",
      "[152/300] train: 0.7243 - val: 0.8111\n",
      "[153/300] train: 0.7251 - val: 0.8053\n",
      "[154/300] train: 0.7191 - val: 0.8044\n",
      "[155/300] train: 0.7194 - val: 0.8076\n",
      "[156/300] train: 0.7204 - val: 0.8025\n",
      "[157/300] train: 0.7220 - val: 0.8110\n",
      "[158/300] train: 0.7182 - val: 0.8004\n",
      "[159/300] train: 0.7212 - val: 0.8132\n",
      "[160/300] train: 0.7229 - val: 0.7986\n",
      "[161/300] train: 0.7215 - val: 0.8081\n",
      "[162/300] train: 0.7178 - val: 0.8060\n",
      "[163/300] train: 0.7155 - val: 0.8084\n",
      "[164/300] train: 0.7201 - val: 0.8092\n",
      "[165/300] train: 0.7172 - val: 0.8098\n",
      "[166/300] train: 0.7143 - val: 0.8083\n",
      "[167/300] train: 0.7197 - val: 0.8002\n",
      "[168/300] train: 0.7207 - val: 0.8082\n",
      "[169/300] train: 0.7194 - val: 0.8043\n",
      "[170/300] train: 0.7150 - val: 0.8072\n",
      "[171/300] train: 0.7186 - val: 0.8071\n",
      "[172/300] train: 0.7203 - val: 0.8124\n",
      "[173/300] train: 0.7173 - val: 0.8126\n",
      "[174/300] train: 0.7194 - val: 0.8075\n",
      "[175/300] train: 0.7153 - val: 0.8075\n",
      "[176/300] train: 0.7179 - val: 0.8039\n",
      "[177/300] train: 0.7187 - val: 0.8103\n",
      "[178/300] train: 0.7178 - val: 0.8087\n",
      "[179/300] train: 0.7186 - val: 0.8097\n",
      "[180/300] train: 0.7202 - val: 0.8083\n",
      "[181/300] train: 0.7174 - val: 0.8078\n",
      "[182/300] train: 0.7164 - val: 0.8086\n",
      "[183/300] train: 0.7164 - val: 0.8071\n",
      "[184/300] train: 0.7193 - val: 0.8154\n",
      "[185/300] train: 0.7155 - val: 0.8050\n",
      "[186/300] train: 0.7176 - val: 0.8092\n",
      "[187/300] train: 0.7171 - val: 0.8166\n",
      "[188/300] train: 0.7149 - val: 0.8133\n",
      "[189/300] train: 0.7169 - val: 0.8156\n",
      "[190/300] train: 0.7123 - val: 0.8095\n",
      "[191/300] train: 0.7155 - val: 0.8167\n",
      "[192/300] train: 0.7160 - val: 0.8133\n",
      "[193/300] train: 0.7152 - val: 0.8129\n",
      "[194/300] train: 0.7142 - val: 0.8152\n",
      "[195/300] train: 0.7121 - val: 0.8113\n",
      "[196/300] train: 0.7101 - val: 0.8065\n",
      "[197/300] train: 0.7152 - val: 0.8171\n",
      "[198/300] train: 0.7135 - val: 0.8213\n",
      "[199/300] train: 0.7131 - val: 0.8108\n",
      "[200/300] train: 0.7130 - val: 0.8104\n",
      "[201/300] train: 0.7139 - val: 0.8197\n",
      "[202/300] train: 0.7150 - val: 0.8226\n",
      "[203/300] train: 0.7136 - val: 0.8119\n",
      "[204/300] train: 0.7100 - val: 0.8095\n",
      "[205/300] train: 0.7155 - val: 0.8148\n",
      "[206/300] train: 0.7120 - val: 0.8184\n",
      "[207/300] train: 0.7102 - val: 0.8096\n",
      "[208/300] train: 0.7126 - val: 0.8085\n",
      "[209/300] train: 0.7135 - val: 0.8128\n",
      "[210/300] train: 0.7139 - val: 0.8025\n",
      "[211/300] train: 0.7102 - val: 0.8170\n",
      "[212/300] train: 0.7096 - val: 0.8086\n",
      "[213/300] train: 0.7098 - val: 0.8113\n",
      "[214/300] train: 0.7123 - val: 0.8132\n",
      "[215/300] train: 0.7132 - val: 0.8151\n",
      "[216/300] train: 0.7119 - val: 0.8159\n",
      "[217/300] train: 0.7123 - val: 0.8126\n",
      "[218/300] train: 0.7130 - val: 0.8167\n",
      "[219/300] train: 0.7048 - val: 0.8087\n",
      "[220/300] train: 0.7099 - val: 0.8194\n",
      "[221/300] train: 0.7127 - val: 0.8112\n",
      "[222/300] train: 0.7103 - val: 0.8185\n",
      "[223/300] train: 0.7091 - val: 0.8134\n",
      "[224/300] train: 0.7090 - val: 0.8152\n",
      "[225/300] train: 0.7097 - val: 0.8136\n",
      "[226/300] train: 0.7113 - val: 0.8127\n",
      "[227/300] train: 0.7055 - val: 0.8206\n",
      "[228/300] train: 0.7119 - val: 0.8286\n",
      "[229/300] train: 0.7126 - val: 0.8150\n",
      "[230/300] train: 0.7065 - val: 0.8196\n",
      "[231/300] train: 0.7089 - val: 0.8126\n",
      "[232/300] train: 0.7076 - val: 0.8161\n",
      "[233/300] train: 0.7062 - val: 0.8124\n",
      "[234/300] train: 0.7108 - val: 0.8139\n",
      "[235/300] train: 0.7092 - val: 0.8154\n",
      "[236/300] train: 0.7048 - val: 0.8214\n",
      "[237/300] train: 0.7082 - val: 0.8150\n",
      "[238/300] train: 0.7078 - val: 0.8218\n",
      "[239/300] train: 0.7120 - val: 0.8191\n",
      "[240/300] train: 0.7097 - val: 0.8179\n",
      "[241/300] train: 0.7078 - val: 0.8218\n",
      "[242/300] train: 0.7098 - val: 0.8174\n",
      "[243/300] train: 0.7069 - val: 0.8098\n",
      "[244/300] train: 0.7101 - val: 0.8144\n",
      "[245/300] train: 0.7052 - val: 0.8212\n",
      "[246/300] train: 0.7090 - val: 0.8136\n",
      "[247/300] train: 0.7098 - val: 0.8139\n",
      "[248/300] train: 0.7065 - val: 0.8106\n",
      "[249/300] train: 0.7052 - val: 0.8168\n",
      "[250/300] train: 0.7077 - val: 0.8115\n",
      "[251/300] train: 0.7067 - val: 0.8157\n",
      "[252/300] train: 0.7032 - val: 0.8161\n",
      "[253/300] train: 0.7042 - val: 0.8175\n",
      "[254/300] train: 0.7073 - val: 0.8183\n",
      "[255/300] train: 0.7081 - val: 0.8173\n",
      "[256/300] train: 0.7090 - val: 0.8152\n",
      "[257/300] train: 0.7089 - val: 0.8249\n",
      "[258/300] train: 0.7039 - val: 0.8201\n",
      "[259/300] train: 0.7061 - val: 0.8209\n",
      "[260/300] train: 0.7038 - val: 0.8221\n",
      "[261/300] train: 0.7017 - val: 0.8202\n",
      "[262/300] train: 0.7044 - val: 0.8153\n",
      "[263/300] train: 0.7053 - val: 0.8180\n",
      "[264/300] train: 0.7046 - val: 0.8214\n",
      "[265/300] train: 0.7074 - val: 0.8183\n",
      "[266/300] train: 0.7077 - val: 0.8206\n",
      "[267/300] train: 0.7054 - val: 0.8221\n",
      "[268/300] train: 0.7057 - val: 0.8213\n",
      "[269/300] train: 0.7075 - val: 0.8197\n",
      "[270/300] train: 0.7047 - val: 0.8163\n",
      "[271/300] train: 0.7018 - val: 0.8160\n",
      "[272/300] train: 0.7048 - val: 0.8196\n",
      "[273/300] train: 0.7070 - val: 0.8277\n",
      "[274/300] train: 0.7031 - val: 0.8194\n",
      "[275/300] train: 0.7056 - val: 0.8229\n",
      "[276/300] train: 0.7031 - val: 0.8189\n",
      "[277/300] train: 0.7078 - val: 0.8180\n",
      "[278/300] train: 0.7046 - val: 0.8219\n",
      "[279/300] train: 0.7068 - val: 0.8143\n",
      "[280/300] train: 0.7034 - val: 0.8218\n",
      "[281/300] train: 0.7046 - val: 0.8145\n",
      "[282/300] train: 0.7042 - val: 0.8201\n",
      "[283/300] train: 0.7073 - val: 0.8127\n",
      "[284/300] train: 0.7031 - val: 0.8258\n",
      "[285/300] train: 0.7040 - val: 0.8146\n",
      "[286/300] train: 0.7055 - val: 0.8160\n",
      "[287/300] train: 0.7007 - val: 0.8177\n",
      "[288/300] train: 0.7002 - val: 0.8076\n",
      "[289/300] train: 0.6984 - val: 0.8191\n",
      "[290/300] train: 0.7024 - val: 0.8286\n",
      "[291/300] train: 0.7033 - val: 0.8168\n",
      "[292/300] train: 0.7047 - val: 0.8243\n",
      "[293/300] train: 0.7067 - val: 0.8172\n",
      "[294/300] train: 0.6994 - val: 0.8214\n",
      "[295/300] train: 0.7066 - val: 0.8213\n",
      "[296/300] train: 0.7073 - val: 0.8208\n",
      "[297/300] train: 0.7050 - val: 0.8182\n",
      "[298/300] train: 0.7049 - val: 0.8157\n",
      "[299/300] train: 0.7074 - val: 0.8109\n",
      "[300/300] train: 0.7028 - val: 0.8196\n"
     ]
    }
   ],
   "source": [
    "for epoch in range(n_epochs):\n",
    "    stats = {'epoch': epoch + 1, 'total': n_epochs}\n",
    "\n",
    "    for phase in ('train', 'val'):\n",
    "        if phase == 'train':\n",
    "          training = True\n",
    "        else:\n",
    "          training = False\n",
    "        running_loss = 0\n",
    "        n_batches = 0\n",
    "        for batch in batches(*datasets[phase], shuffle=training, bs=bs):\n",
    "            x_batch, y_batch = [b.to(device) for b in batch]\n",
    "            optimizer.zero_grad()\n",
    "            # compute gradients only during 'train' phase\n",
    "            with torch.set_grad_enabled(training):\n",
    "                outputs = net(x_batch[:,0], x_batch[:,1], minmax)\n",
    "                loss = criterion(outputs, y_batch)\n",
    "                # don't update weights and rates when in 'val' phase\n",
    "                if training:\n",
    "                    #scheduler.step()\n",
    "                    loss.backward()\n",
    "                    optimizer.step()\n",
    "                    #lr_history.extend(scheduler.get_lr())\n",
    "            running_loss += loss.item()\n",
    "        epoch_loss = running_loss / dataset_sizes[phase]\n",
    "        stats[phase] = epoch_loss\n",
    "        # early stopping: save weights of the best model so far\n",
    "        if phase == 'val':\n",
    "            if epoch_loss < best_loss:\n",
    "                print('loss improvement on epoch: %d' % (epoch + 1))\n",
    "                best_loss = epoch_loss\n",
    "                best_weights = copy.deepcopy(net.state_dict())\n",
    "                no_improvements = 0\n",
    "            else:\n",
    "                no_improvements += 1\n",
    "    history.append(stats)\n",
    "    with open(f'logs/medium.txt', 'a') as f:\n",
    "        print('[{epoch:03d}/{total:03d}] train: {train:.4f} - val: {val:.4f}'.format(**stats))\n",
    "        f.write('[{epoch:03d}/{total:03d}] train: {train:.4f} - val: {val:.4f}'.format(**stats))\n",
    "    if no_improvements >= patience:\n",
    "        print('early stopping after epoch {epoch:03d}'.format(**stats))\n",
    "        break"
   ],
   "metadata": {
    "collapsed": false,
    "pycharm": {
     "name": "#%%\n"
    }
   }
  },
  {
   "cell_type": "code",
   "execution_count": 94,
   "outputs": [
    {
     "data": {
      "text/plain": "<All keys matched successfully>"
     },
     "execution_count": 94,
     "metadata": {},
     "output_type": "execute_result"
    }
   ],
   "source": [
    "net.load_state_dict(best_weights)"
   ],
   "metadata": {
    "collapsed": false,
    "pycharm": {
     "name": "#%%\n"
    }
   }
  },
  {
   "cell_type": "code",
   "execution_count": 95,
   "outputs": [],
   "source": [
    "groud_truth, predictions = [], []\n",
    "\n",
    "with torch.no_grad():\n",
    "    for batch in batches(*datasets['val'], shuffle=False, bs=bs):\n",
    "        x_batch, y_batch = [b.to(device) for b in batch]\n",
    "        outputs = net(x_batch[:, 0], x_batch[:, 1], minmax)\n",
    "        groud_truth.extend(y_batch.tolist())\n",
    "        predictions.extend(outputs.tolist())\n",
    "\n",
    "groud_truth = np.asarray(groud_truth).ravel()\n",
    "predictions = np.asarray(predictions).ravel()"
   ],
   "metadata": {
    "collapsed": false,
    "pycharm": {
     "name": "#%%\n"
    }
   }
  },
  {
   "cell_type": "code",
   "execution_count": 96,
   "outputs": [
    {
     "name": "stdout",
     "output_type": "stream",
     "text": [
      "Validation RMSE: 0.9784\n"
     ]
    }
   ],
   "source": [
    "valid_loss = np.sqrt(np.mean((predictions - groud_truth)**2))\n",
    "print(f'Validation RMSE: {valid_loss:.4f}')"
   ],
   "metadata": {
    "collapsed": false,
    "pycharm": {
     "name": "#%%\n"
    }
   }
  },
  {
   "cell_type": "code",
   "execution_count": 97,
   "outputs": [],
   "source": [
    "groud_truth, predictions = [], []\n",
    "\n",
    "with torch.no_grad():\n",
    "    for batch in batches(*datasets['test'], shuffle=False, bs=bs):\n",
    "        x_batch, y_batch = [b.to(device) for b in batch]\n",
    "        outputs = net(x_batch[:, 0], x_batch[:, 1], minmax)\n",
    "        groud_truth.extend(y_batch.tolist())\n",
    "        predictions.extend(outputs.tolist())\n",
    "\n",
    "groud_truth = np.asarray(groud_truth).ravel()\n",
    "predictions = np.asarray(predictions).ravel()"
   ],
   "metadata": {
    "collapsed": false,
    "pycharm": {
     "name": "#%%\n"
    }
   }
  },
  {
   "cell_type": "code",
   "execution_count": 98,
   "outputs": [
    {
     "name": "stdout",
     "output_type": "stream",
     "text": [
      "Medium test RMSE: 0.9895\n"
     ]
    }
   ],
   "source": [
    "final_loss = np.sqrt(np.mean((predictions - groud_truth)**2))\n",
    "print(f'Medium test RMSE: {final_loss:.4f}')"
   ],
   "metadata": {
    "collapsed": false,
    "pycharm": {
     "name": "#%%\n"
    }
   }
  },
  {
   "cell_type": "code",
   "execution_count": 99,
   "outputs": [
    {
     "name": "stdout",
     "output_type": "stream",
     "text": [
      "Medium duration: 9.702\n"
     ]
    }
   ],
   "source": [
    "print(f'Medium duration: {round(time.time() - start, 4)}')"
   ],
   "metadata": {
    "collapsed": false,
    "pycharm": {
     "name": "#%%\n"
    }
   }
  },
  {
   "cell_type": "code",
   "execution_count": 100,
   "outputs": [],
   "source": [
    "with open('best.weights.medium', 'wb') as file:\n",
    "    pickle.dump(best_weights, file)"
   ],
   "metadata": {
    "collapsed": false,
    "pycharm": {
     "name": "#%%\n"
    }
   }
  },
  {
   "cell_type": "code",
   "execution_count": 101,
   "outputs": [
    {
     "data": {
      "text/plain": "<Figure size 432x288 with 1 Axes>",
      "image/png": "[encoded data removed]"
     },
     "metadata": {},
     "output_type": "display_data"
    }
   ],
   "source": [
    "plt.rcParams['font.size'] = 26\n",
    "plt.rcParams['axes.labelsize'] = 26\n",
    "plt.rcParams['xtick.labelsize'] = 26\n",
    "plt.rcParams['ytick.labelsize'] = 26\n",
    "plt.rcParams['legend.fontsize'] = 26\n",
    "plt.style.use('seaborn-whitegrid')\n",
    "ax = pd.DataFrame(history).drop(columns='total').plot(x='epoch')\n",
    "plt.ylabel('loss')\n",
    "plt.ylim([0.2, 1.8])\n",
    "\n",
    "plt.savefig(figure_path + '/' + dataset +'-medium-loss.png', dpi=300, bbox_inches='tight')"
   ],
   "metadata": {
    "collapsed": false,
    "pycharm": {
     "name": "#%%\n"
    }
   }
  },
  {
   "cell_type": "code",
   "execution_count": 102,
   "outputs": [],
   "source": [
    "# large net\n",
    "\n",
    "start = time.time()\n",
    "net = RecommenderNet(\n",
    "    n_users=n, n_movies=m,\n",
    "    n_factors=50, hidden=[100, 100, 100],\n",
    "    embedding_dropout=0.05, dropouts=[0.3, 0.3, 0.3])"
   ],
   "metadata": {
    "collapsed": false,
    "pycharm": {
     "name": "#%%\n"
    }
   }
  },
  {
   "cell_type": "code",
   "execution_count": 103,
   "outputs": [],
   "source": [
    "lr = 1e-3\n",
    "wd = 1e-5\n",
    "bs = 4096\n",
    "n_epochs = 300\n",
    "patience = 300\n",
    "no_improvements = 0\n",
    "best_loss = np.inf\n",
    "best_weights = None\n",
    "history = []\n",
    "lr_history = []\n",
    "\n",
    "device = torch.device('cuda:0' if torch.cuda.is_available() else 'cpu')\n",
    "\n",
    "net.to(device)\n",
    "criterion = nn.MSELoss(reduction='sum')\n",
    "optimizer = optim.Adam(net.parameters(), lr=lr, weight_decay=wd)"
   ],
   "metadata": {
    "collapsed": false,
    "pycharm": {
     "name": "#%%\n"
    }
   }
  },
  {
   "cell_type": "code",
   "execution_count": 104,
   "outputs": [
    {
     "name": "stdout",
     "output_type": "stream",
     "text": [
      "loss improvement on epoch: 1\n",
      "[001/300] train: 1.2516 - val: 1.0223\n",
      "loss improvement on epoch: 2\n",
      "[002/300] train: 1.1229 - val: 0.9022\n",
      "loss improvement on epoch: 3\n",
      "[003/300] train: 0.9791 - val: 0.8222\n",
      "loss improvement on epoch: 4\n",
      "[004/300] train: 0.9104 - val: 0.7966\n",
      "loss improvement on epoch: 5\n",
      "[005/300] train: 0.8680 - val: 0.7694\n",
      "loss improvement on epoch: 6\n",
      "[006/300] train: 0.8407 - val: 0.7554\n",
      "loss improvement on epoch: 7\n",
      "[007/300] train: 0.8187 - val: 0.7469\n",
      "loss improvement on epoch: 8\n",
      "[008/300] train: 0.8008 - val: 0.7404\n",
      "loss improvement on epoch: 9\n",
      "[009/300] train: 0.7925 - val: 0.7381\n",
      "[010/300] train: 0.7822 - val: 0.7395\n",
      "[011/300] train: 0.7719 - val: 0.7388\n",
      "[012/300] train: 0.7649 - val: 0.7411\n",
      "[013/300] train: 0.7562 - val: 0.7394\n",
      "[014/300] train: 0.7439 - val: 0.7459\n",
      "[015/300] train: 0.7362 - val: 0.7492\n",
      "[016/300] train: 0.7282 - val: 0.7527\n",
      "[017/300] train: 0.7137 - val: 0.7517\n",
      "[018/300] train: 0.7016 - val: 0.7658\n",
      "[019/300] train: 0.6850 - val: 0.7695\n",
      "[020/300] train: 0.6687 - val: 0.7850\n",
      "[021/300] train: 0.6535 - val: 0.7908\n",
      "[022/300] train: 0.6394 - val: 0.7972\n",
      "[023/300] train: 0.6221 - val: 0.8070\n",
      "[024/300] train: 0.6074 - val: 0.8185\n",
      "[025/300] train: 0.5947 - val: 0.8176\n",
      "[026/300] train: 0.5801 - val: 0.8256\n",
      "[027/300] train: 0.5681 - val: 0.8315\n",
      "[028/300] train: 0.5581 - val: 0.8329\n",
      "[029/300] train: 0.5464 - val: 0.8342\n",
      "[030/300] train: 0.5372 - val: 0.8416\n",
      "[031/300] train: 0.5282 - val: 0.8475\n",
      "[032/300] train: 0.5202 - val: 0.8486\n",
      "[033/300] train: 0.5147 - val: 0.8593\n",
      "[034/300] train: 0.5052 - val: 0.8599\n",
      "[035/300] train: 0.4986 - val: 0.8577\n",
      "[036/300] train: 0.4922 - val: 0.8692\n",
      "[037/300] train: 0.4886 - val: 0.8644\n",
      "[038/300] train: 0.4845 - val: 0.8760\n",
      "[039/300] train: 0.4765 - val: 0.8638\n",
      "[040/300] train: 0.4720 - val: 0.8704\n",
      "[041/300] train: 0.4646 - val: 0.8734\n",
      "[042/300] train: 0.4604 - val: 0.8703\n",
      "[043/300] train: 0.4569 - val: 0.8768\n",
      "[044/300] train: 0.4484 - val: 0.8863\n",
      "[045/300] train: 0.4430 - val: 0.8784\n",
      "[046/300] train: 0.4390 - val: 0.8862\n",
      "[047/300] train: 0.4367 - val: 0.8829\n",
      "[048/300] train: 0.4324 - val: 0.8844\n",
      "[049/300] train: 0.4304 - val: 0.8897\n",
      "[050/300] train: 0.4262 - val: 0.8907\n",
      "[051/300] train: 0.4260 - val: 0.8845\n",
      "[052/300] train: 0.4219 - val: 0.9021\n",
      "[053/300] train: 0.4181 - val: 0.9059\n",
      "[054/300] train: 0.4178 - val: 0.9052\n",
      "[055/300] train: 0.4115 - val: 0.8997\n",
      "[056/300] train: 0.4094 - val: 0.8960\n",
      "[057/300] train: 0.4063 - val: 0.8932\n",
      "[058/300] train: 0.4030 - val: 0.8995\n",
      "[059/300] train: 0.4038 - val: 0.8976\n",
      "[060/300] train: 0.3990 - val: 0.9067\n",
      "[061/300] train: 0.3967 - val: 0.9151\n",
      "[062/300] train: 0.3958 - val: 0.9006\n",
      "[063/300] train: 0.3941 - val: 0.9077\n",
      "[064/300] train: 0.3890 - val: 0.9014\n",
      "[065/300] train: 0.3894 - val: 0.9014\n",
      "[066/300] train: 0.3867 - val: 0.9044\n",
      "[067/300] train: 0.3890 - val: 0.9132\n",
      "[068/300] train: 0.3830 - val: 0.9070\n",
      "[069/300] train: 0.3860 - val: 0.9011\n",
      "[070/300] train: 0.3822 - val: 0.9057\n",
      "[071/300] train: 0.3805 - val: 0.9168\n",
      "[072/300] train: 0.3768 - val: 0.9065\n",
      "[073/300] train: 0.3776 - val: 0.9164\n",
      "[074/300] train: 0.3759 - val: 0.9124\n",
      "[075/300] train: 0.3738 - val: 0.9122\n",
      "[076/300] train: 0.3697 - val: 0.9087\n",
      "[077/300] train: 0.3700 - val: 0.8989\n",
      "[078/300] train: 0.3672 - val: 0.9206\n",
      "[079/300] train: 0.3661 - val: 0.9191\n",
      "[080/300] train: 0.3662 - val: 0.9114\n",
      "[081/300] train: 0.3636 - val: 0.9132\n",
      "[082/300] train: 0.3656 - val: 0.9100\n",
      "[083/300] train: 0.3661 - val: 0.9177\n",
      "[084/300] train: 0.3628 - val: 0.8967\n",
      "[085/300] train: 0.3613 - val: 0.9078\n",
      "[086/300] train: 0.3542 - val: 0.9227\n",
      "[087/300] train: 0.3577 - val: 0.9165\n",
      "[088/300] train: 0.3575 - val: 0.9137\n",
      "[089/300] train: 0.3558 - val: 0.9075\n",
      "[090/300] train: 0.3520 - val: 0.9058\n",
      "[091/300] train: 0.3538 - val: 0.9280\n",
      "[092/300] train: 0.3513 - val: 0.9191\n",
      "[093/300] train: 0.3522 - val: 0.9107\n",
      "[094/300] train: 0.3497 - val: 0.9143\n",
      "[095/300] train: 0.3503 - val: 0.9047\n",
      "[096/300] train: 0.3501 - val: 0.9045\n",
      "[097/300] train: 0.3480 - val: 0.9292\n",
      "[098/300] train: 0.3479 - val: 0.9256\n",
      "[099/300] train: 0.3454 - val: 0.9231\n",
      "[100/300] train: 0.3447 - val: 0.9128\n",
      "[101/300] train: 0.3428 - val: 0.9240\n",
      "[102/300] train: 0.3424 - val: 0.9125\n",
      "[103/300] train: 0.3436 - val: 0.9097\n",
      "[104/300] train: 0.3418 - val: 0.9104\n",
      "[105/300] train: 0.3400 - val: 0.9144\n",
      "[106/300] train: 0.3432 - val: 0.9245\n",
      "[107/300] train: 0.3418 - val: 0.9157\n",
      "[108/300] train: 0.3378 - val: 0.9095\n",
      "[109/300] train: 0.3396 - val: 0.9122\n",
      "[110/300] train: 0.3402 - val: 0.9110\n",
      "[111/300] train: 0.3383 - val: 0.9279\n",
      "[112/300] train: 0.3368 - val: 0.9208\n",
      "[113/300] train: 0.3346 - val: 0.9121\n",
      "[114/300] train: 0.3365 - val: 0.9078\n",
      "[115/300] train: 0.3348 - val: 0.9094\n",
      "[116/300] train: 0.3358 - val: 0.9203\n",
      "[117/300] train: 0.3344 - val: 0.9222\n",
      "[118/300] train: 0.3336 - val: 0.9140\n",
      "[119/300] train: 0.3356 - val: 0.9186\n",
      "[120/300] train: 0.3299 - val: 0.9252\n",
      "[121/300] train: 0.3324 - val: 0.9202\n",
      "[122/300] train: 0.3296 - val: 0.9255\n",
      "[123/300] train: 0.3292 - val: 0.9368\n",
      "[124/300] train: 0.3291 - val: 0.9199\n",
      "[125/300] train: 0.3288 - val: 0.9113\n",
      "[126/300] train: 0.3263 - val: 0.9040\n",
      "[127/300] train: 0.3262 - val: 0.9122\n",
      "[128/300] train: 0.3263 - val: 0.9091\n",
      "[129/300] train: 0.3265 - val: 0.9185\n",
      "[130/300] train: 0.3284 - val: 0.9320\n",
      "[131/300] train: 0.3265 - val: 0.9132\n",
      "[132/300] train: 0.3267 - val: 0.9159\n",
      "[133/300] train: 0.3248 - val: 0.9156\n",
      "[134/300] train: 0.3233 - val: 0.9276\n",
      "[135/300] train: 0.3244 - val: 0.9116\n",
      "[136/300] train: 0.3200 - val: 0.9166\n",
      "[137/300] train: 0.3217 - val: 0.9063\n",
      "[138/300] train: 0.3214 - val: 0.9252\n",
      "[139/300] train: 0.3214 - val: 0.9170\n",
      "[140/300] train: 0.3204 - val: 0.9178\n",
      "[141/300] train: 0.3187 - val: 0.9162\n",
      "[142/300] train: 0.3232 - val: 0.9163\n",
      "[143/300] train: 0.3185 - val: 0.9011\n",
      "[144/300] train: 0.3176 - val: 0.9136\n",
      "[145/300] train: 0.3181 - val: 0.9214\n",
      "[146/300] train: 0.3213 - val: 0.9151\n",
      "[147/300] train: 0.3182 - val: 0.9182\n",
      "[148/300] train: 0.3174 - val: 0.9233\n",
      "[149/300] train: 0.3150 - val: 0.9087\n",
      "[150/300] train: 0.3183 - val: 0.9118\n",
      "[151/300] train: 0.3165 - val: 0.9138\n",
      "[152/300] train: 0.3174 - val: 0.9266\n",
      "[153/300] train: 0.3154 - val: 0.9213\n",
      "[154/300] train: 0.3144 - val: 0.9171\n",
      "[155/300] train: 0.3134 - val: 0.9238\n",
      "[156/300] train: 0.3145 - val: 0.9159\n",
      "[157/300] train: 0.3139 - val: 0.9118\n",
      "[158/300] train: 0.3136 - val: 0.9245\n",
      "[159/300] train: 0.3148 - val: 0.9253\n",
      "[160/300] train: 0.3108 - val: 0.9165\n",
      "[161/300] train: 0.3136 - val: 0.9118\n",
      "[162/300] train: 0.3142 - val: 0.9089\n",
      "[163/300] train: 0.3114 - val: 0.9226\n",
      "[164/300] train: 0.3106 - val: 0.9210\n",
      "[165/300] train: 0.3132 - val: 0.9197\n",
      "[166/300] train: 0.3126 - val: 0.9191\n",
      "[167/300] train: 0.3096 - val: 0.9167\n",
      "[168/300] train: 0.3106 - val: 0.9127\n",
      "[169/300] train: 0.3108 - val: 0.9150\n",
      "[170/300] train: 0.3106 - val: 0.9176\n",
      "[171/300] train: 0.3075 - val: 0.9158\n",
      "[172/300] train: 0.3066 - val: 0.9121\n",
      "[173/300] train: 0.3086 - val: 0.9138\n",
      "[174/300] train: 0.3096 - val: 0.9217\n",
      "[175/300] train: 0.3077 - val: 0.9098\n",
      "[176/300] train: 0.3090 - val: 0.9410\n",
      "[177/300] train: 0.3096 - val: 0.9211\n",
      "[178/300] train: 0.3077 - val: 0.9157\n",
      "[179/300] train: 0.3058 - val: 0.9296\n",
      "[180/300] train: 0.3060 - val: 0.9157\n",
      "[181/300] train: 0.3038 - val: 0.9238\n",
      "[182/300] train: 0.3088 - val: 0.9240\n",
      "[183/300] train: 0.3075 - val: 0.9193\n",
      "[184/300] train: 0.3060 - val: 0.9187\n",
      "[185/300] train: 0.3062 - val: 0.9277\n",
      "[186/300] train: 0.3031 - val: 0.9243\n",
      "[187/300] train: 0.3060 - val: 0.9161\n",
      "[188/300] train: 0.3082 - val: 0.9287\n",
      "[189/300] train: 0.3062 - val: 0.9212\n",
      "[190/300] train: 0.3047 - val: 0.9195\n",
      "[191/300] train: 0.3011 - val: 0.9346\n",
      "[192/300] train: 0.3049 - val: 0.9249\n",
      "[193/300] train: 0.3042 - val: 0.9184\n",
      "[194/300] train: 0.3036 - val: 0.9332\n",
      "[195/300] train: 0.3023 - val: 0.9310\n",
      "[196/300] train: 0.3018 - val: 0.9231\n",
      "[197/300] train: 0.3001 - val: 0.9297\n",
      "[198/300] train: 0.3009 - val: 0.9216\n",
      "[199/300] train: 0.3030 - val: 0.9115\n",
      "[200/300] train: 0.2990 - val: 0.9179\n",
      "[201/300] train: 0.3018 - val: 0.9168\n",
      "[202/300] train: 0.3018 - val: 0.9290\n",
      "[203/300] train: 0.3008 - val: 0.9217\n",
      "[204/300] train: 0.2986 - val: 0.9198\n",
      "[205/300] train: 0.3017 - val: 0.9190\n",
      "[206/300] train: 0.2992 - val: 0.9181\n",
      "[207/300] train: 0.3006 - val: 0.9157\n",
      "[208/300] train: 0.3021 - val: 0.9318\n",
      "[209/300] train: 0.2981 - val: 0.9243\n",
      "[210/300] train: 0.2971 - val: 0.9173\n",
      "[211/300] train: 0.2980 - val: 0.9326\n",
      "[212/300] train: 0.2978 - val: 0.9174\n",
      "[213/300] train: 0.2976 - val: 0.9308\n",
      "[214/300] train: 0.2985 - val: 0.9147\n",
      "[215/300] train: 0.2991 - val: 0.9215\n",
      "[216/300] train: 0.2929 - val: 0.9285\n",
      "[217/300] train: 0.2960 - val: 0.9332\n",
      "[218/300] train: 0.2963 - val: 0.9231\n",
      "[219/300] train: 0.2973 - val: 0.9292\n",
      "[220/300] train: 0.2983 - val: 0.9204\n",
      "[221/300] train: 0.2962 - val: 0.9254\n",
      "[222/300] train: 0.2914 - val: 0.9132\n",
      "[223/300] train: 0.2933 - val: 0.9158\n",
      "[224/300] train: 0.2951 - val: 0.9235\n",
      "[225/300] train: 0.2934 - val: 0.9337\n",
      "[226/300] train: 0.2934 - val: 0.9185\n",
      "[227/300] train: 0.2959 - val: 0.9272\n",
      "[228/300] train: 0.2970 - val: 0.9223\n",
      "[229/300] train: 0.2959 - val: 0.9198\n",
      "[230/300] train: 0.2949 - val: 0.9249\n",
      "[231/300] train: 0.2951 - val: 0.9213\n",
      "[232/300] train: 0.2929 - val: 0.9276\n",
      "[233/300] train: 0.2966 - val: 0.9417\n",
      "[234/300] train: 0.2928 - val: 0.9418\n",
      "[235/300] train: 0.2915 - val: 0.9271\n",
      "[236/300] train: 0.2915 - val: 0.9178\n",
      "[237/300] train: 0.2938 - val: 0.9245\n",
      "[238/300] train: 0.2942 - val: 0.9195\n",
      "[239/300] train: 0.2936 - val: 0.9187\n",
      "[240/300] train: 0.2917 - val: 0.9291\n",
      "[241/300] train: 0.2942 - val: 0.9331\n",
      "[242/300] train: 0.2938 - val: 0.9200\n",
      "[243/300] train: 0.2936 - val: 0.9188\n",
      "[244/300] train: 0.2943 - val: 0.9148\n",
      "[245/300] train: 0.2924 - val: 0.9002\n",
      "[246/300] train: 0.2929 - val: 0.9257\n",
      "[247/300] train: 0.2910 - val: 0.9159\n",
      "[248/300] train: 0.2928 - val: 0.9278\n",
      "[249/300] train: 0.2902 - val: 0.9143\n",
      "[250/300] train: 0.2909 - val: 0.9235\n",
      "[251/300] train: 0.2906 - val: 0.9201\n",
      "[252/300] train: 0.2916 - val: 0.9186\n",
      "[253/300] train: 0.2885 - val: 0.9164\n",
      "[254/300] train: 0.2891 - val: 0.9207\n",
      "[255/300] train: 0.2871 - val: 0.9324\n",
      "[256/300] train: 0.2905 - val: 0.9300\n",
      "[257/300] train: 0.2860 - val: 0.9125\n",
      "[258/300] train: 0.2877 - val: 0.9198\n",
      "[259/300] train: 0.2916 - val: 0.9259\n",
      "[260/300] train: 0.2865 - val: 0.9213\n",
      "[261/300] train: 0.2864 - val: 0.9237\n",
      "[262/300] train: 0.2872 - val: 0.9354\n",
      "[263/300] train: 0.2868 - val: 0.9200\n",
      "[264/300] train: 0.2908 - val: 0.9327\n",
      "[265/300] train: 0.2905 - val: 0.9244\n",
      "[266/300] train: 0.2859 - val: 0.9128\n",
      "[267/300] train: 0.2875 - val: 0.9281\n",
      "[268/300] train: 0.2870 - val: 0.9275\n",
      "[269/300] train: 0.2845 - val: 0.9310\n",
      "[270/300] train: 0.2880 - val: 0.9270\n",
      "[271/300] train: 0.2876 - val: 0.9209\n",
      "[272/300] train: 0.2850 - val: 0.9157\n",
      "[273/300] train: 0.2874 - val: 0.9289\n",
      "[274/300] train: 0.2866 - val: 0.9132\n",
      "[275/300] train: 0.2886 - val: 0.9258\n",
      "[276/300] train: 0.2856 - val: 0.9341\n",
      "[277/300] train: 0.2852 - val: 0.9229\n",
      "[278/300] train: 0.2858 - val: 0.9227\n",
      "[279/300] train: 0.2850 - val: 0.9159\n",
      "[280/300] train: 0.2871 - val: 0.9131\n",
      "[281/300] train: 0.2866 - val: 0.9228\n",
      "[282/300] train: 0.2831 - val: 0.9176\n",
      "[283/300] train: 0.2874 - val: 0.9047\n",
      "[284/300] train: 0.2834 - val: 0.9168\n",
      "[285/300] train: 0.2828 - val: 0.9195\n",
      "[286/300] train: 0.2813 - val: 0.9322\n",
      "[287/300] train: 0.2847 - val: 0.9211\n",
      "[288/300] train: 0.2834 - val: 0.9318\n",
      "[289/300] train: 0.2823 - val: 0.9135\n",
      "[290/300] train: 0.2850 - val: 0.9172\n",
      "[291/300] train: 0.2838 - val: 0.9180\n",
      "[292/300] train: 0.2834 - val: 0.9253\n",
      "[293/300] train: 0.2846 - val: 0.9177\n",
      "[294/300] train: 0.2857 - val: 0.9078\n",
      "[295/300] train: 0.2848 - val: 0.9145\n",
      "[296/300] train: 0.2821 - val: 0.9262\n",
      "[297/300] train: 0.2822 - val: 0.9263\n",
      "[298/300] train: 0.2820 - val: 0.9146\n",
      "[299/300] train: 0.2837 - val: 0.9131\n",
      "[300/300] train: 0.2839 - val: 0.9339\n"
     ]
    }
   ],
   "source": [
    "for epoch in range(n_epochs):\n",
    "    stats = {'epoch': epoch + 1, 'total': n_epochs}\n",
    "\n",
    "    for phase in ('train', 'val'):\n",
    "        if phase == 'train':\n",
    "          training = True\n",
    "        else:\n",
    "          training = False\n",
    "        running_loss = 0\n",
    "        n_batches = 0\n",
    "        for batch in batches(*datasets[phase], shuffle=training, bs=bs):\n",
    "            x_batch, y_batch = [b.to(device) for b in batch]\n",
    "            optimizer.zero_grad()\n",
    "            # compute gradients only during 'train' phase\n",
    "            with torch.set_grad_enabled(training):\n",
    "                outputs = net(x_batch[:,0], x_batch[:,1], minmax)\n",
    "                loss = criterion(outputs, y_batch)\n",
    "                # don't update weights and rates when in 'val' phase\n",
    "                if training:\n",
    "                    #scheduler.step()\n",
    "                    loss.backward()\n",
    "                    optimizer.step()\n",
    "                    #lr_history.extend(scheduler.get_lr())\n",
    "            running_loss += loss.item()\n",
    "        epoch_loss = running_loss / dataset_sizes[phase]\n",
    "        stats[phase] = epoch_loss\n",
    "        # early stopping: save weights of the best model so far\n",
    "        if phase == 'val':\n",
    "            if epoch_loss < best_loss:\n",
    "                print('loss improvement on epoch: %d' % (epoch + 1))\n",
    "                best_loss = epoch_loss\n",
    "                best_weights = copy.deepcopy(net.state_dict())\n",
    "                no_improvements = 0\n",
    "            else:\n",
    "                no_improvements += 1\n",
    "    history.append(stats)\n",
    "    with open(f'logs/large.txt', 'a') as f:\n",
    "        print('[{epoch:03d}/{total:03d}] train: {train:.4f} - val: {val:.4f}'.format(**stats))\n",
    "        f.write('[{epoch:03d}/{total:03d}] train: {train:.4f} - val: {val:.4f}'.format(**stats))\n",
    "    if no_improvements >= patience:\n",
    "        print('early stopping after epoch {epoch:03d}'.format(**stats))\n",
    "        break"
   ],
   "metadata": {
    "collapsed": false,
    "pycharm": {
     "name": "#%%\n"
    }
   }
  },
  {
   "cell_type": "code",
   "execution_count": 105,
   "outputs": [
    {
     "data": {
      "text/plain": "<All keys matched successfully>"
     },
     "execution_count": 105,
     "metadata": {},
     "output_type": "execute_result"
    }
   ],
   "source": [
    "net.load_state_dict(best_weights)"
   ],
   "metadata": {
    "collapsed": false,
    "pycharm": {
     "name": "#%%\n"
    }
   }
  },
  {
   "cell_type": "code",
   "execution_count": 106,
   "outputs": [],
   "source": [
    "groud_truth, predictions = [], []\n",
    "\n",
    "with torch.no_grad():\n",
    "    for batch in batches(*datasets['val'], shuffle=False, bs=bs):\n",
    "        x_batch, y_batch = [b.to(device) for b in batch]\n",
    "        outputs = net(x_batch[:, 0], x_batch[:, 1], minmax)\n",
    "        groud_truth.extend(y_batch.tolist())\n",
    "        predictions.extend(outputs.tolist())\n",
    "\n",
    "groud_truth = np.asarray(groud_truth).ravel()\n",
    "predictions = np.asarray(predictions).ravel()"
   ],
   "metadata": {
    "collapsed": false,
    "pycharm": {
     "name": "#%%\n"
    }
   }
  },
  {
   "cell_type": "code",
   "execution_count": 107,
   "outputs": [
    {
     "name": "stdout",
     "output_type": "stream",
     "text": [
      "Validation RMSE: 0.9499\n"
     ]
    }
   ],
   "source": [
    "valid_loss = np.sqrt(np.mean((predictions - groud_truth)**2))\n",
    "print(f'Validation RMSE: {valid_loss:.4f}')"
   ],
   "metadata": {
    "collapsed": false,
    "pycharm": {
     "name": "#%%\n"
    }
   }
  },
  {
   "cell_type": "code",
   "execution_count": 108,
   "outputs": [],
   "source": [
    "groud_truth, predictions = [], []\n",
    "\n",
    "with torch.no_grad():\n",
    "    for batch in batches(*datasets['test'], shuffle=False, bs=bs):\n",
    "        x_batch, y_batch = [b.to(device) for b in batch]\n",
    "        outputs = net(x_batch[:, 0], x_batch[:, 1], minmax)\n",
    "        groud_truth.extend(y_batch.tolist())\n",
    "        predictions.extend(outputs.tolist())\n",
    "\n",
    "groud_truth = np.asarray(groud_truth).ravel()\n",
    "predictions = np.asarray(predictions).ravel()"
   ],
   "metadata": {
    "collapsed": false,
    "pycharm": {
     "name": "#%%\n"
    }
   }
  },
  {
   "cell_type": "code",
   "execution_count": 109,
   "outputs": [
    {
     "name": "stdout",
     "output_type": "stream",
     "text": [
      "Large test RMSE: 0.9527\n"
     ]
    }
   ],
   "source": [
    "final_loss = np.sqrt(np.mean((predictions - groud_truth)**2))\n",
    "print(f'Large test RMSE: {final_loss:.4f}')"
   ],
   "metadata": {
    "collapsed": false,
    "pycharm": {
     "name": "#%%\n"
    }
   }
  },
  {
   "cell_type": "code",
   "execution_count": 110,
   "outputs": [
    {
     "name": "stdout",
     "output_type": "stream",
     "text": [
      "Large duration: 10.5609\n"
     ]
    }
   ],
   "source": [
    "print(f'Large duration: {round(time.time() - start, 4)}')\n"
   ],
   "metadata": {
    "collapsed": false,
    "pycharm": {
     "name": "#%%\n"
    }
   }
  },
  {
   "cell_type": "code",
   "execution_count": 111,
   "outputs": [],
   "source": [
    "with open('best.weights.big', 'wb') as file:\n",
    "    pickle.dump(best_weights, file)"
   ],
   "metadata": {
    "collapsed": false,
    "pycharm": {
     "name": "#%%\n"
    }
   }
  },
  {
   "cell_type": "code",
   "execution_count": 112,
   "outputs": [
    {
     "data": {
      "text/plain": "<Figure size 432x288 with 1 Axes>",
      "image/png": "[encoded data removed]"
     },
     "metadata": {},
     "output_type": "display_data"
    }
   ],
   "source": [
    "plt.rcParams['font.size'] = 26\n",
    "plt.rcParams['axes.labelsize'] = 26\n",
    "plt.rcParams['xtick.labelsize'] = 26\n",
    "plt.rcParams['ytick.labelsize'] = 26\n",
    "plt.rcParams['legend.fontsize'] = 26\n",
    "plt.style.use('seaborn-whitegrid')\n",
    "ax = pd.DataFrame(history).drop(columns='total').plot(x='epoch')\n",
    "plt.ylabel('loss')\n",
    "plt.ylim([0.2, 1.8])\n",
    "\n",
    "plt.savefig(figure_path + '/' + dataset +'-large-loss.png', dpi=300, bbox_inches='tight')"
   ],
   "metadata": {
    "collapsed": false,
    "pycharm": {
     "name": "#%%\n"
    }
   }
  },
  {
   "cell_type": "code",
   "execution_count": 112,
   "outputs": [],
   "source": [],
   "metadata": {
    "collapsed": false,
    "pycharm": {
     "name": "#%%\n"
    }
   }
  }
 ],
 "metadata": {
  "kernelspec": {
   "name": "pycharm-f57757a1",
   "language": "python",
   "display_name": "PyCharm (rs-via-gnn)"
  },
  "language_info": {
   "codemirror_mode": {
    "name": "ipython",
    "version": 2
   },
   "file_extension": ".py",
   "mimetype": "text/x-python",
   "name": "python",
   "nbconvert_exporter": "python",
   "pygments_lexer": "ipython2",
   "version": "2.7.6"
  }
 },
 "nbformat": 4,
 "nbformat_minor": 0
}