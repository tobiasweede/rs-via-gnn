{
 "cells": [
  {
   "cell_type": "markdown",
   "metadata": {
    "collapsed": true,
    "pycharm": {
     "name": "#%% md\n"
    }
   },
   "source": [
    "# MovieLens MLN Recommendation via PyTorch\n",
    "\n",
    "adapted from https://github.com/fastai/fastai"
   ]
  },
  {
   "cell_type": "code",
   "execution_count": 31,
   "outputs": [],
   "source": [
    "import math\n",
    "import copy\n",
    "import pickle\n",
    "from pathlib import Path\n",
    "from itertools import zip_longest\n",
    "\n",
    "import numpy as np\n",
    "import pandas as pd\n",
    "import matplotlib.pyplot as plt\n",
    "from sklearn.model_selection import train_test_split\n",
    "\n",
    "import torch\n",
    "from torch import nn\n",
    "from torch import optim\n",
    "from torch.optim.lr_scheduler import _LRScheduler\n",
    "\n",
    "import time"
   ],
   "metadata": {
    "collapsed": false,
    "pycharm": {
     "name": "#%%\n"
    }
   }
  },
  {
   "cell_type": "code",
   "execution_count": 32,
   "outputs": [],
   "source": [
    "def set_random_seed(state=1):\n",
    "    gens = (np.random.seed, torch.manual_seed, torch.cuda.manual_seed)\n",
    "    for set_state in gens:\n",
    "        set_state(state)\n",
    "\n",
    "RANDOM_STATE = 2021\n",
    "set_random_seed(RANDOM_STATE)"
   ],
   "metadata": {
    "collapsed": false,
    "pycharm": {
     "name": "#%%\n"
    }
   }
  },
  {
   "cell_type": "code",
   "execution_count": 33,
   "outputs": [],
   "source": [
    "def read_data(path):\n",
    "    files = {}\n",
    "    path = Path(path)\n",
    "    for filename in path.glob('*'):\n",
    "        if filename.suffix == '.dat':\n",
    "            if filename.stem == 'ratings':\n",
    "                columns = ['userId', 'movieId', 'rating', 'timestamp']\n",
    "            else:\n",
    "                columns = ['movieId', 'title', 'genres']\n",
    "            data = pd.read_csv(filename, sep='::', names=columns, engine='python')\n",
    "            files[filename.stem] = data\n",
    "    return files['ratings'], files['movies']"
   ],
   "metadata": {
    "collapsed": false,
    "pycharm": {
     "name": "#%%\n"
    }
   }
  },
  {
   "cell_type": "code",
   "execution_count": 34,
   "outputs": [],
   "source": [
    "# pick one of the available folders\n",
    "ratings, movies = read_data('/home/weiss/rs_data/ml-10m')"
   ],
   "metadata": {
    "collapsed": false,
    "pycharm": {
     "name": "#%%\n"
    }
   }
  },
  {
   "cell_type": "code",
   "execution_count": 35,
   "outputs": [
    {
     "data": {
      "text/plain": "   userId  movieId  rating  timestamp\n0       1      122     5.0  838985046\n1       1      185     5.0  838983525\n2       1      231     5.0  838983392\n3       1      292     5.0  838983421\n4       1      316     5.0  838983392",
      "text/html": "<div>\n<style scoped>\n    .dataframe tbody tr th:only-of-type {\n        vertical-align: middle;\n    }\n\n    .dataframe tbody tr th {\n        vertical-align: top;\n    }\n\n    .dataframe thead th {\n        text-align: right;\n    }\n</style>\n<table border=\"1\" class=\"dataframe\">\n  <thead>\n    <tr style=\"text-align: right;\">\n      <th></th>\n      <th>userId</th>\n      <th>movieId</th>\n      <th>rating</th>\n      <th>timestamp</th>\n    </tr>\n  </thead>\n  <tbody>\n    <tr>\n      <th>0</th>\n      <td>1</td>\n      <td>122</td>\n      <td>5.0</td>\n      <td>838985046</td>\n    </tr>\n    <tr>\n      <th>1</th>\n      <td>1</td>\n      <td>185</td>\n      <td>5.0</td>\n      <td>838983525</td>\n    </tr>\n    <tr>\n      <th>2</th>\n      <td>1</td>\n      <td>231</td>\n      <td>5.0</td>\n      <td>838983392</td>\n    </tr>\n    <tr>\n      <th>3</th>\n      <td>1</td>\n      <td>292</td>\n      <td>5.0</td>\n      <td>838983421</td>\n    </tr>\n    <tr>\n      <th>4</th>\n      <td>1</td>\n      <td>316</td>\n      <td>5.0</td>\n      <td>838983392</td>\n    </tr>\n  </tbody>\n</table>\n</div>"
     },
     "execution_count": 35,
     "metadata": {},
     "output_type": "execute_result"
    }
   ],
   "source": [
    "ratings.head()"
   ],
   "metadata": {
    "collapsed": false,
    "pycharm": {
     "name": "#%%\n"
    }
   }
  },
  {
   "cell_type": "code",
   "execution_count": 36,
   "outputs": [
    {
     "data": {
      "text/plain": "   movieId                               title  \\\n0        1                    Toy Story (1995)   \n1        2                      Jumanji (1995)   \n2        3             Grumpier Old Men (1995)   \n3        4            Waiting to Exhale (1995)   \n4        5  Father of the Bride Part II (1995)   \n\n                                        genres  \n0  Adventure|Animation|Children|Comedy|Fantasy  \n1                   Adventure|Children|Fantasy  \n2                               Comedy|Romance  \n3                         Comedy|Drama|Romance  \n4                                       Comedy  ",
      "text/html": "<div>\n<style scoped>\n    .dataframe tbody tr th:only-of-type {\n        vertical-align: middle;\n    }\n\n    .dataframe tbody tr th {\n        vertical-align: top;\n    }\n\n    .dataframe thead th {\n        text-align: right;\n    }\n</style>\n<table border=\"1\" class=\"dataframe\">\n  <thead>\n    <tr style=\"text-align: right;\">\n      <th></th>\n      <th>movieId</th>\n      <th>title</th>\n      <th>genres</th>\n    </tr>\n  </thead>\n  <tbody>\n    <tr>\n      <th>0</th>\n      <td>1</td>\n      <td>Toy Story (1995)</td>\n      <td>Adventure|Animation|Children|Comedy|Fantasy</td>\n    </tr>\n    <tr>\n      <th>1</th>\n      <td>2</td>\n      <td>Jumanji (1995)</td>\n      <td>Adventure|Children|Fantasy</td>\n    </tr>\n    <tr>\n      <th>2</th>\n      <td>3</td>\n      <td>Grumpier Old Men (1995)</td>\n      <td>Comedy|Romance</td>\n    </tr>\n    <tr>\n      <th>3</th>\n      <td>4</td>\n      <td>Waiting to Exhale (1995)</td>\n      <td>Comedy|Drama|Romance</td>\n    </tr>\n    <tr>\n      <th>4</th>\n      <td>5</td>\n      <td>Father of the Bride Part II (1995)</td>\n      <td>Comedy</td>\n    </tr>\n  </tbody>\n</table>\n</div>"
     },
     "execution_count": 36,
     "metadata": {},
     "output_type": "execute_result"
    }
   ],
   "source": [
    "movies.head()"
   ],
   "metadata": {
    "collapsed": false,
    "pycharm": {
     "name": "#%%\n"
    }
   }
  },
  {
   "cell_type": "code",
   "execution_count": 37,
   "outputs": [
    {
     "name": "stdout",
     "output_type": "stream",
     "text": [
      "Embeddings: 69878 users, 10677 movies\n",
      "Dataset shape: (10000054, 2)\n",
      "Target shape: (10000054,)\n"
     ]
    }
   ],
   "source": [
    "def create_dataset(ratings, top=None):\n",
    "    unique_users = ratings.userId.unique()\n",
    "    user_to_index = {old: new for new, old in enumerate(unique_users)}\n",
    "    new_users = ratings.userId.map(user_to_index)\n",
    "\n",
    "    unique_movies = ratings.movieId.unique()\n",
    "    movie_to_index = {old: new for new, old in enumerate(unique_movies)}\n",
    "    new_movies = ratings.movieId.map(movie_to_index)\n",
    "\n",
    "    n_users = unique_users.shape[0]\n",
    "    n_movies = unique_movies.shape[0]\n",
    "\n",
    "    X = pd.DataFrame({'user_id': new_users, 'movie_id': new_movies})\n",
    "    y = ratings['rating'].astype(np.float32)\n",
    "    return (n_users, n_movies), (X, y), (user_to_index, movie_to_index)\n",
    "\n",
    "(n, m), (X, y), _ = create_dataset(ratings)\n",
    "print(f'Embeddings: {n} users, {m} movies')\n",
    "print(f'Dataset shape: {X.shape}')\n",
    "print(f'Target shape: {y.shape}')"
   ],
   "metadata": {
    "collapsed": false,
    "pycharm": {
     "name": "#%%\n"
    }
   }
  },
  {
   "cell_type": "code",
   "execution_count": 38,
   "outputs": [],
   "source": [
    "X_train, X_valid, y_train, y_valid = train_test_split(X, y, test_size=0.4, random_state=RANDOM_STATE)\n",
    "X_valid, X_test, y_valid, y_test = train_test_split(X_valid, y_valid, test_size=0.5, random_state=RANDOM_STATE)\n",
    "datasets = {'train': (X_train, y_train), 'val': (X_valid, y_valid), 'test': (X_test, y_test)}\n",
    "dataset_sizes = {'train': len(X_train), 'val': len(X_valid), 'test': len(X_test)}\n"
   ],
   "metadata": {
    "collapsed": false,
    "pycharm": {
     "name": "#%%\n"
    }
   }
  },
  {
   "cell_type": "code",
   "execution_count": 39,
   "outputs": [],
   "source": [
    "class RatingsIterator:\n",
    "\n",
    "    def __init__(self, X, y, batch_size=32, shuffle=True):\n",
    "        X, y = np.asarray(X), np.asarray(y)\n",
    "        if shuffle:\n",
    "            index = np.random.permutation(X.shape[0])\n",
    "            X, y = X[index], y[index]\n",
    "        self.X = X\n",
    "        self.y = y\n",
    "        self.batch_size = batch_size\n",
    "        self.shuffle = shuffle\n",
    "        self.n_batches = int(math.ceil(X.shape[0] // batch_size))\n",
    "        self._current = 0\n",
    "\n",
    "    def __iter__(self):\n",
    "        return self\n",
    "\n",
    "    def __next__(self):\n",
    "        return self.next()\n",
    "\n",
    "    def next(self):\n",
    "        if self._current >= self.n_batches:\n",
    "            raise StopIteration()\n",
    "        k = self._current\n",
    "        self._current += 1\n",
    "        bs = self.batch_size\n",
    "        return self.X[k*bs:(k + 1)*bs], self.y[k*bs:(k + 1)*bs]"
   ],
   "metadata": {
    "collapsed": false,
    "pycharm": {
     "name": "#%%\n"
    }
   }
  },
  {
   "cell_type": "code",
   "execution_count": 40,
   "outputs": [],
   "source": [
    "def batches(X, y, bs=32, shuffle=True):\n",
    "    for xb, yb in RatingsIterator(X, y, bs, shuffle):\n",
    "        xb = torch.LongTensor(xb)\n",
    "        yb = torch.FloatTensor(yb)\n",
    "        yield xb, yb.view(-1, 1)"
   ],
   "metadata": {
    "collapsed": false,
    "pycharm": {
     "name": "#%%\n"
    }
   }
  },
  {
   "cell_type": "code",
   "execution_count": 41,
   "outputs": [],
   "source": [
    "class RecommenderNet(nn.Module):\n",
    "    \"\"\"\n",
    "    Creates dense MLN with embedding layers.\n",
    "\n",
    "    Args:\n",
    "        n_users:\n",
    "            Number of unique users in the dataset.\n",
    "\n",
    "        n_movies:\n",
    "            Number of unique movies in the dataset.\n",
    "\n",
    "        n_factors:\n",
    "            Number of columns in the embeddings matrix.\n",
    "\n",
    "        embedding_dropout:\n",
    "            Dropout rate to apply right after embeddings layer.\n",
    "\n",
    "        hidden:\n",
    "            A single integer or a list of integers defining the number of\n",
    "            units in hidden layer(s).\n",
    "\n",
    "        dropouts:\n",
    "            A single integer or a list of integers defining the dropout\n",
    "            layers rates applied right after each of hidden layers.\n",
    "\n",
    "    \"\"\"\n",
    "    def __init__(self, n_users, n_movies,\n",
    "                 n_factors=50, embedding_dropout=0.02,\n",
    "                 hidden=10, dropouts=0.2):\n",
    "\n",
    "        super().__init__()\n",
    "        hidden = get_list(hidden)\n",
    "        dropouts = get_list(dropouts)\n",
    "        n_last = hidden[-1]\n",
    "\n",
    "        def gen_layers(n_in):\n",
    "            \"\"\"\n",
    "            A generator that yields a sequence of hidden layers and\n",
    "            their activations/dropouts.\n",
    "\n",
    "            Note that the function captures `hidden` and `dropouts`\n",
    "            values from the outer scope.\n",
    "            \"\"\"\n",
    "            nonlocal hidden, dropouts\n",
    "            assert len(dropouts) <= len(hidden)\n",
    "\n",
    "            for n_out, rate in zip_longest(hidden, dropouts):\n",
    "                yield nn.Linear(n_in, n_out)\n",
    "                yield nn.ReLU()\n",
    "                if rate is not None and rate > 0.:\n",
    "                    yield nn.Dropout(rate)\n",
    "                n_in = n_out\n",
    "\n",
    "        self.u = nn.Embedding(n_users, n_factors)\n",
    "        self.m = nn.Embedding(n_movies, n_factors)\n",
    "        self.drop = nn.Dropout(embedding_dropout)\n",
    "        self.hidden = nn.Sequential(*list(gen_layers(n_factors * 2)))\n",
    "        self.fc = nn.Linear(n_last, 1)\n",
    "        self.relu = nn.ReLU()\n",
    "        self._init()\n",
    "\n",
    "    def forward(self, users, movies, minmax=None):\n",
    "        features = torch.cat([self.u(users), self.m(movies)], dim=1)\n",
    "        x = self.drop(features)\n",
    "        x = self.hidden(x)\n",
    "        out = torch.sigmoid(self.fc(x))\n",
    "        #out = self.relu(self.fc(x))  # relu delivers worse rsme\n",
    "        if minmax is not None:\n",
    "            min_rating, max_rating = minmax\n",
    "            out = out*(max_rating - min_rating + 1) + min_rating - 0.5\n",
    "        return out\n",
    "\n",
    "    def _init(self):\n",
    "        \"\"\"\n",
    "        Setup embeddings and hidden layers with reasonable initial values.\n",
    "        \"\"\"\n",
    "\n",
    "        def init(m):\n",
    "            if type(m) == nn.Linear:\n",
    "                torch.nn.init.xavier_uniform_(m.weight)\n",
    "                m.bias.data.fill_(0.01)\n",
    "\n",
    "        self.u.weight.data.uniform_(-0.05, 0.05)\n",
    "        self.m.weight.data.uniform_(-0.05, 0.05)\n",
    "        self.hidden.apply(init)\n",
    "        init(self.fc)\n",
    "\n",
    "\n",
    "def get_list(n):\n",
    "    if isinstance(n, (int, float)):\n",
    "        return [n]\n",
    "    elif hasattr(n, '__iter__'):\n",
    "        return list(n)\n",
    "    raise TypeError('layers configuraiton should be a single number or a list of numbers')"
   ],
   "metadata": {
    "collapsed": false,
    "pycharm": {
     "name": "#%%\n"
    }
   }
  },
  {
   "cell_type": "code",
   "execution_count": 42,
   "outputs": [],
   "source": [
    "class CyclicLR(_LRScheduler):\n",
    "\n",
    "    def __init__(self, optimizer, schedule, last_epoch=-1):\n",
    "        assert callable(schedule)\n",
    "        self.schedule = schedule\n",
    "        super().__init__(optimizer, last_epoch)\n",
    "\n",
    "    def get_lr(self):\n",
    "        return [self.schedule(self.last_epoch, lr) for lr in self.base_lrs]"
   ],
   "metadata": {
    "collapsed": false,
    "pycharm": {
     "name": "#%%\n"
    }
   }
  },
  {
   "cell_type": "code",
   "execution_count": 43,
   "outputs": [],
   "source": [
    "def cosine(t_max, eta_min=0):\n",
    "\n",
    "    def scheduler(epoch, base_lr):\n",
    "        t = epoch % t_max\n",
    "        return eta_min + (base_lr - eta_min)*(1 + math.cos(math.pi*t/t_max))/2\n",
    "    return scheduler"
   ],
   "metadata": {
    "collapsed": false,
    "pycharm": {
     "name": "#%%\n"
    }
   }
  },
  {
   "cell_type": "code",
   "execution_count": 44,
   "outputs": [],
   "source": [
    "def plot_lr(schedule):\n",
    "    ts = list(range(1000))\n",
    "    y = [schedule(t, 0.001) for t in ts]\n",
    "    plt.plot(ts, y)\n"
   ],
   "metadata": {
    "collapsed": false,
    "pycharm": {
     "name": "#%%\n"
    }
   }
  },
  {
   "cell_type": "code",
   "execution_count": 45,
   "outputs": [
    {
     "data": {
      "text/plain": "(0.5, 5.0)"
     },
     "execution_count": 45,
     "metadata": {},
     "output_type": "execute_result"
    }
   ],
   "source": [
    "minmax = float(ratings.rating.min()), float(ratings.rating.max())\n",
    "minmax"
   ],
   "metadata": {
    "collapsed": false,
    "pycharm": {
     "name": "#%%\n"
    }
   }
  },
  {
   "cell_type": "code",
   "execution_count": 46,
   "outputs": [],
   "source": [
    "# small net\n",
    "\n",
    "start = time.time()\n",
    "net = RecommenderNet(\n",
    "    n_users=n, n_movies=m,\n",
    "    n_factors=10, hidden=[10],\n",
    "    embedding_dropout=0.05, dropouts=[0.3])"
   ],
   "metadata": {
    "collapsed": false,
    "pycharm": {
     "name": "#%%\n"
    }
   }
  },
  {
   "cell_type": "code",
   "execution_count": 47,
   "outputs": [],
   "source": [
    "lr = 1e-3\n",
    "wd = 1e-5\n",
    "bs = 4096\n",
    "n_epochs = 300\n",
    "patience = 300\n",
    "no_improvements = 0\n",
    "best_loss = np.inf\n",
    "best_weights = None\n",
    "history = []\n",
    "lr_history = []\n",
    "\n",
    "device = torch.device('cuda:0' if torch.cuda.is_available() else 'cpu')\n",
    "\n",
    "net.to(device)\n",
    "criterion = nn.MSELoss(reduction='sum')\n",
    "optimizer = optim.Adam(net.parameters(), lr=lr, weight_decay=wd)\n",
    "#iterations_per_epoch = int(math.ceil(dataset_sizes['train'] // bs))\n",
    "#scheduler = CyclicLR(optimizer, cosine(t_max=iterations_per_epoch * 2, eta_min=lr/10))"
   ],
   "metadata": {
    "collapsed": false,
    "pycharm": {
     "name": "#%%\n"
    }
   }
  },
  {
   "cell_type": "code",
   "execution_count": 48,
   "outputs": [
    {
     "name": "stdout",
     "output_type": "stream",
     "text": [
      "loss improvement on epoch: 1\n",
      "[001/300] train: 0.8456 - val: 0.7826\n",
      "loss improvement on epoch: 2\n",
      "[002/300] train: 0.7686 - val: 0.7732\n",
      "loss improvement on epoch: 3\n",
      "[003/300] train: 0.7586 - val: 0.7696\n",
      "loss improvement on epoch: 4\n",
      "[004/300] train: 0.7536 - val: 0.7689\n",
      "loss improvement on epoch: 5\n",
      "[005/300] train: 0.7501 - val: 0.7671\n",
      "loss improvement on epoch: 6\n",
      "[006/300] train: 0.7472 - val: 0.7662\n",
      "loss improvement on epoch: 7\n",
      "[007/300] train: 0.7441 - val: 0.7655\n",
      "loss improvement on epoch: 8\n",
      "[008/300] train: 0.7421 - val: 0.7641\n",
      "loss improvement on epoch: 9\n",
      "[009/300] train: 0.7404 - val: 0.7640\n",
      "loss improvement on epoch: 10\n",
      "[010/300] train: 0.7389 - val: 0.7632\n",
      "loss improvement on epoch: 11\n",
      "[011/300] train: 0.7373 - val: 0.7630\n",
      "loss improvement on epoch: 12\n",
      "[012/300] train: 0.7358 - val: 0.7626\n",
      "loss improvement on epoch: 13\n",
      "[013/300] train: 0.7345 - val: 0.7620\n",
      "loss improvement on epoch: 14\n",
      "[014/300] train: 0.7330 - val: 0.7617\n",
      "loss improvement on epoch: 15\n",
      "[015/300] train: 0.7318 - val: 0.7613\n",
      "[016/300] train: 0.7304 - val: 0.7613\n",
      "loss improvement on epoch: 17\n",
      "[017/300] train: 0.7297 - val: 0.7608\n",
      "loss improvement on epoch: 18\n",
      "[018/300] train: 0.7285 - val: 0.7607\n",
      "loss improvement on epoch: 19\n",
      "[019/300] train: 0.7274 - val: 0.7607\n",
      "loss improvement on epoch: 20\n",
      "[020/300] train: 0.7269 - val: 0.7604\n",
      "loss improvement on epoch: 21\n",
      "[021/300] train: 0.7262 - val: 0.7602\n",
      "[022/300] train: 0.7250 - val: 0.7605\n",
      "[023/300] train: 0.7243 - val: 0.7609\n",
      "loss improvement on epoch: 24\n",
      "[024/300] train: 0.7232 - val: 0.7599\n",
      "[025/300] train: 0.7227 - val: 0.7608\n",
      "[026/300] train: 0.7224 - val: 0.7607\n",
      "[027/300] train: 0.7216 - val: 0.7605\n",
      "[028/300] train: 0.7215 - val: 0.7605\n",
      "[029/300] train: 0.7212 - val: 0.7606\n",
      "[030/300] train: 0.7207 - val: 0.7608\n",
      "[031/300] train: 0.7201 - val: 0.7609\n",
      "[032/300] train: 0.7200 - val: 0.7612\n",
      "[033/300] train: 0.7195 - val: 0.7611\n",
      "[034/300] train: 0.7192 - val: 0.7611\n",
      "[035/300] train: 0.7193 - val: 0.7607\n",
      "[036/300] train: 0.7191 - val: 0.7600\n",
      "[037/300] train: 0.7185 - val: 0.7610\n",
      "[038/300] train: 0.7183 - val: 0.7606\n",
      "[039/300] train: 0.7183 - val: 0.7609\n",
      "[040/300] train: 0.7181 - val: 0.7605\n",
      "[041/300] train: 0.7177 - val: 0.7604\n",
      "[042/300] train: 0.7177 - val: 0.7611\n",
      "[043/300] train: 0.7174 - val: 0.7608\n",
      "[044/300] train: 0.7173 - val: 0.7605\n",
      "[045/300] train: 0.7170 - val: 0.7609\n",
      "[046/300] train: 0.7168 - val: 0.7606\n",
      "[047/300] train: 0.7168 - val: 0.7607\n",
      "[048/300] train: 0.7167 - val: 0.7607\n",
      "[049/300] train: 0.7166 - val: 0.7608\n",
      "[050/300] train: 0.7162 - val: 0.7608\n",
      "[051/300] train: 0.7160 - val: 0.7606\n",
      "[052/300] train: 0.7159 - val: 0.7607\n",
      "[053/300] train: 0.7157 - val: 0.7608\n",
      "[054/300] train: 0.7158 - val: 0.7605\n",
      "[055/300] train: 0.7154 - val: 0.7608\n",
      "[056/300] train: 0.7153 - val: 0.7611\n",
      "[057/300] train: 0.7150 - val: 0.7608\n",
      "[058/300] train: 0.7148 - val: 0.7609\n",
      "[059/300] train: 0.7150 - val: 0.7616\n",
      "[060/300] train: 0.7145 - val: 0.7612\n",
      "[061/300] train: 0.7147 - val: 0.7614\n",
      "[062/300] train: 0.7149 - val: 0.7616\n",
      "[063/300] train: 0.7148 - val: 0.7611\n",
      "[064/300] train: 0.7145 - val: 0.7614\n",
      "[065/300] train: 0.7143 - val: 0.7614\n",
      "[066/300] train: 0.7144 - val: 0.7610\n",
      "[067/300] train: 0.7142 - val: 0.7608\n",
      "[068/300] train: 0.7139 - val: 0.7619\n",
      "[069/300] train: 0.7141 - val: 0.7611\n",
      "[070/300] train: 0.7141 - val: 0.7616\n",
      "[071/300] train: 0.7140 - val: 0.7615\n",
      "[072/300] train: 0.7137 - val: 0.7614\n",
      "[073/300] train: 0.7137 - val: 0.7617\n",
      "[074/300] train: 0.7133 - val: 0.7616\n",
      "[075/300] train: 0.7137 - val: 0.7617\n",
      "[076/300] train: 0.7136 - val: 0.7618\n",
      "[077/300] train: 0.7132 - val: 0.7618\n",
      "[078/300] train: 0.7132 - val: 0.7606\n",
      "[079/300] train: 0.7130 - val: 0.7615\n",
      "[080/300] train: 0.7135 - val: 0.7618\n",
      "[081/300] train: 0.7129 - val: 0.7615\n",
      "[082/300] train: 0.7130 - val: 0.7609\n",
      "[083/300] train: 0.7130 - val: 0.7617\n",
      "[084/300] train: 0.7131 - val: 0.7609\n",
      "[085/300] train: 0.7130 - val: 0.7610\n",
      "[086/300] train: 0.7127 - val: 0.7619\n",
      "[087/300] train: 0.7124 - val: 0.7617\n",
      "[088/300] train: 0.7129 - val: 0.7610\n",
      "[089/300] train: 0.7125 - val: 0.7620\n",
      "[090/300] train: 0.7124 - val: 0.7619\n",
      "[091/300] train: 0.7127 - val: 0.7615\n",
      "[092/300] train: 0.7128 - val: 0.7615\n",
      "[093/300] train: 0.7125 - val: 0.7616\n",
      "[094/300] train: 0.7121 - val: 0.7619\n",
      "[095/300] train: 0.7127 - val: 0.7610\n",
      "[096/300] train: 0.7124 - val: 0.7613\n",
      "[097/300] train: 0.7119 - val: 0.7614\n",
      "[098/300] train: 0.7122 - val: 0.7617\n",
      "[099/300] train: 0.7117 - val: 0.7619\n",
      "[100/300] train: 0.7121 - val: 0.7612\n",
      "[101/300] train: 0.7119 - val: 0.7613\n",
      "[102/300] train: 0.7117 - val: 0.7624\n",
      "[103/300] train: 0.7119 - val: 0.7614\n",
      "[104/300] train: 0.7118 - val: 0.7617\n",
      "[105/300] train: 0.7116 - val: 0.7614\n",
      "[106/300] train: 0.7118 - val: 0.7620\n",
      "[107/300] train: 0.7114 - val: 0.7616\n",
      "[108/300] train: 0.7115 - val: 0.7621\n",
      "[109/300] train: 0.7115 - val: 0.7622\n",
      "[110/300] train: 0.7117 - val: 0.7622\n",
      "[111/300] train: 0.7114 - val: 0.7625\n",
      "[112/300] train: 0.7113 - val: 0.7616\n",
      "[113/300] train: 0.7109 - val: 0.7614\n",
      "[114/300] train: 0.7111 - val: 0.7617\n",
      "[115/300] train: 0.7115 - val: 0.7624\n",
      "[116/300] train: 0.7110 - val: 0.7622\n",
      "[117/300] train: 0.7112 - val: 0.7619\n",
      "[118/300] train: 0.7111 - val: 0.7623\n",
      "[119/300] train: 0.7110 - val: 0.7619\n",
      "[120/300] train: 0.7111 - val: 0.7623\n",
      "[121/300] train: 0.7109 - val: 0.7620\n",
      "[122/300] train: 0.7110 - val: 0.7621\n",
      "[123/300] train: 0.7111 - val: 0.7618\n",
      "[124/300] train: 0.7107 - val: 0.7617\n",
      "[125/300] train: 0.7108 - val: 0.7619\n",
      "[126/300] train: 0.7110 - val: 0.7623\n",
      "[127/300] train: 0.7109 - val: 0.7613\n",
      "[128/300] train: 0.7106 - val: 0.7615\n",
      "[129/300] train: 0.7108 - val: 0.7616\n",
      "[130/300] train: 0.7110 - val: 0.7618\n",
      "[131/300] train: 0.7105 - val: 0.7619\n",
      "[132/300] train: 0.7109 - val: 0.7620\n",
      "[133/300] train: 0.7107 - val: 0.7617\n",
      "[134/300] train: 0.7105 - val: 0.7624\n",
      "[135/300] train: 0.7107 - val: 0.7621\n",
      "[136/300] train: 0.7106 - val: 0.7622\n",
      "[137/300] train: 0.7105 - val: 0.7625\n",
      "[138/300] train: 0.7106 - val: 0.7619\n",
      "[139/300] train: 0.7105 - val: 0.7615\n",
      "[140/300] train: 0.7103 - val: 0.7615\n",
      "[141/300] train: 0.7102 - val: 0.7620\n",
      "[142/300] train: 0.7103 - val: 0.7618\n",
      "[143/300] train: 0.7104 - val: 0.7626\n",
      "[144/300] train: 0.7103 - val: 0.7623\n",
      "[145/300] train: 0.7101 - val: 0.7624\n",
      "[146/300] train: 0.7104 - val: 0.7618\n",
      "[147/300] train: 0.7101 - val: 0.7620\n",
      "[148/300] train: 0.7101 - val: 0.7620\n",
      "[149/300] train: 0.7099 - val: 0.7624\n",
      "[150/300] train: 0.7099 - val: 0.7618\n",
      "[151/300] train: 0.7098 - val: 0.7622\n",
      "[152/300] train: 0.7100 - val: 0.7623\n",
      "[153/300] train: 0.7102 - val: 0.7620\n",
      "[154/300] train: 0.7098 - val: 0.7615\n",
      "[155/300] train: 0.7095 - val: 0.7621\n",
      "[156/300] train: 0.7096 - val: 0.7622\n",
      "[157/300] train: 0.7099 - val: 0.7630\n",
      "[158/300] train: 0.7098 - val: 0.7625\n",
      "[159/300] train: 0.7098 - val: 0.7614\n",
      "[160/300] train: 0.7099 - val: 0.7616\n",
      "[161/300] train: 0.7097 - val: 0.7619\n",
      "[162/300] train: 0.7096 - val: 0.7617\n",
      "[163/300] train: 0.7102 - val: 0.7621\n",
      "[164/300] train: 0.7099 - val: 0.7623\n",
      "[165/300] train: 0.7096 - val: 0.7618\n",
      "[166/300] train: 0.7093 - val: 0.7623\n",
      "[167/300] train: 0.7095 - val: 0.7620\n",
      "[168/300] train: 0.7097 - val: 0.7617\n",
      "[169/300] train: 0.7099 - val: 0.7619\n",
      "[170/300] train: 0.7095 - val: 0.7623\n",
      "[171/300] train: 0.7096 - val: 0.7619\n",
      "[172/300] train: 0.7097 - val: 0.7625\n",
      "[173/300] train: 0.7094 - val: 0.7629\n",
      "[174/300] train: 0.7094 - val: 0.7618\n",
      "[175/300] train: 0.7092 - val: 0.7618\n",
      "[176/300] train: 0.7095 - val: 0.7617\n",
      "[177/300] train: 0.7093 - val: 0.7621\n",
      "[178/300] train: 0.7095 - val: 0.7621\n",
      "[179/300] train: 0.7094 - val: 0.7624\n",
      "[180/300] train: 0.7092 - val: 0.7618\n",
      "[181/300] train: 0.7092 - val: 0.7623\n",
      "[182/300] train: 0.7091 - val: 0.7627\n",
      "[183/300] train: 0.7092 - val: 0.7624\n",
      "[184/300] train: 0.7093 - val: 0.7627\n",
      "[185/300] train: 0.7092 - val: 0.7619\n",
      "[186/300] train: 0.7092 - val: 0.7620\n",
      "[187/300] train: 0.7093 - val: 0.7620\n",
      "[188/300] train: 0.7088 - val: 0.7625\n",
      "[189/300] train: 0.7090 - val: 0.7620\n",
      "[190/300] train: 0.7091 - val: 0.7625\n",
      "[191/300] train: 0.7094 - val: 0.7621\n",
      "[192/300] train: 0.7091 - val: 0.7626\n",
      "[193/300] train: 0.7092 - val: 0.7626\n",
      "[194/300] train: 0.7092 - val: 0.7623\n",
      "[195/300] train: 0.7089 - val: 0.7623\n",
      "[196/300] train: 0.7092 - val: 0.7621\n",
      "[197/300] train: 0.7087 - val: 0.7630\n",
      "[198/300] train: 0.7087 - val: 0.7633\n",
      "[199/300] train: 0.7089 - val: 0.7626\n",
      "[200/300] train: 0.7088 - val: 0.7621\n",
      "[201/300] train: 0.7088 - val: 0.7625\n",
      "[202/300] train: 0.7088 - val: 0.7627\n",
      "[203/300] train: 0.7086 - val: 0.7619\n",
      "[204/300] train: 0.7086 - val: 0.7624\n",
      "[205/300] train: 0.7086 - val: 0.7622\n",
      "[206/300] train: 0.7088 - val: 0.7633\n",
      "[207/300] train: 0.7090 - val: 0.7625\n",
      "[208/300] train: 0.7086 - val: 0.7625\n",
      "[209/300] train: 0.7089 - val: 0.7629\n",
      "[210/300] train: 0.7087 - val: 0.7620\n",
      "[211/300] train: 0.7088 - val: 0.7618\n",
      "[212/300] train: 0.7085 - val: 0.7617\n",
      "[213/300] train: 0.7087 - val: 0.7621\n",
      "[214/300] train: 0.7084 - val: 0.7621\n",
      "[215/300] train: 0.7089 - val: 0.7620\n",
      "[216/300] train: 0.7085 - val: 0.7627\n",
      "[217/300] train: 0.7087 - val: 0.7624\n",
      "[218/300] train: 0.7085 - val: 0.7621\n",
      "[219/300] train: 0.7088 - val: 0.7623\n",
      "[220/300] train: 0.7085 - val: 0.7624\n",
      "[221/300] train: 0.7086 - val: 0.7630\n",
      "[222/300] train: 0.7087 - val: 0.7624\n",
      "[223/300] train: 0.7084 - val: 0.7633\n",
      "[224/300] train: 0.7086 - val: 0.7621\n",
      "[225/300] train: 0.7087 - val: 0.7621\n",
      "[226/300] train: 0.7085 - val: 0.7623\n",
      "[227/300] train: 0.7084 - val: 0.7624\n",
      "[228/300] train: 0.7084 - val: 0.7626\n",
      "[229/300] train: 0.7085 - val: 0.7631\n",
      "[230/300] train: 0.7085 - val: 0.7633\n",
      "[231/300] train: 0.7086 - val: 0.7633\n",
      "[232/300] train: 0.7084 - val: 0.7624\n",
      "[233/300] train: 0.7085 - val: 0.7629\n",
      "[234/300] train: 0.7084 - val: 0.7633\n",
      "[235/300] train: 0.7085 - val: 0.7624\n",
      "[236/300] train: 0.7083 - val: 0.7624\n",
      "[237/300] train: 0.7084 - val: 0.7633\n",
      "[238/300] train: 0.7084 - val: 0.7622\n",
      "[239/300] train: 0.7085 - val: 0.7626\n",
      "[240/300] train: 0.7084 - val: 0.7623\n",
      "[241/300] train: 0.7081 - val: 0.7624\n",
      "[242/300] train: 0.7084 - val: 0.7629\n",
      "[243/300] train: 0.7082 - val: 0.7621\n",
      "[244/300] train: 0.7081 - val: 0.7619\n",
      "[245/300] train: 0.7082 - val: 0.7632\n",
      "[246/300] train: 0.7082 - val: 0.7628\n",
      "[247/300] train: 0.7081 - val: 0.7623\n",
      "[248/300] train: 0.7081 - val: 0.7627\n",
      "[249/300] train: 0.7082 - val: 0.7629\n",
      "[250/300] train: 0.7078 - val: 0.7627\n",
      "[251/300] train: 0.7081 - val: 0.7620\n",
      "[252/300] train: 0.7080 - val: 0.7622\n",
      "[253/300] train: 0.7078 - val: 0.7624\n",
      "[254/300] train: 0.7082 - val: 0.7621\n",
      "[255/300] train: 0.7079 - val: 0.7631\n",
      "[256/300] train: 0.7081 - val: 0.7625\n",
      "[257/300] train: 0.7080 - val: 0.7624\n",
      "[258/300] train: 0.7078 - val: 0.7621\n",
      "[259/300] train: 0.7078 - val: 0.7626\n",
      "[260/300] train: 0.7081 - val: 0.7628\n",
      "[261/300] train: 0.7080 - val: 0.7625\n",
      "[262/300] train: 0.7079 - val: 0.7629\n",
      "[263/300] train: 0.7080 - val: 0.7627\n",
      "[264/300] train: 0.7080 - val: 0.7634\n",
      "[265/300] train: 0.7079 - val: 0.7622\n",
      "[266/300] train: 0.7077 - val: 0.7623\n",
      "[267/300] train: 0.7081 - val: 0.7631\n",
      "[268/300] train: 0.7077 - val: 0.7630\n",
      "[269/300] train: 0.7078 - val: 0.7627\n",
      "[270/300] train: 0.7077 - val: 0.7616\n",
      "[271/300] train: 0.7079 - val: 0.7627\n",
      "[272/300] train: 0.7080 - val: 0.7627\n",
      "[273/300] train: 0.7077 - val: 0.7627\n",
      "[274/300] train: 0.7079 - val: 0.7623\n",
      "[275/300] train: 0.7077 - val: 0.7631\n",
      "[276/300] train: 0.7078 - val: 0.7624\n",
      "[277/300] train: 0.7081 - val: 0.7624\n",
      "[278/300] train: 0.7080 - val: 0.7624\n",
      "[279/300] train: 0.7076 - val: 0.7635\n",
      "[280/300] train: 0.7080 - val: 0.7624\n",
      "[281/300] train: 0.7075 - val: 0.7629\n",
      "[282/300] train: 0.7073 - val: 0.7628\n",
      "[283/300] train: 0.7074 - val: 0.7616\n",
      "[284/300] train: 0.7077 - val: 0.7624\n",
      "[285/300] train: 0.7079 - val: 0.7638\n",
      "[286/300] train: 0.7075 - val: 0.7634\n",
      "[287/300] train: 0.7078 - val: 0.7615\n",
      "[288/300] train: 0.7076 - val: 0.7617\n",
      "[289/300] train: 0.7077 - val: 0.7637\n",
      "[290/300] train: 0.7079 - val: 0.7626\n",
      "[291/300] train: 0.7072 - val: 0.7618\n",
      "[292/300] train: 0.7079 - val: 0.7626\n",
      "[293/300] train: 0.7079 - val: 0.7640\n",
      "[294/300] train: 0.7076 - val: 0.7626\n",
      "[295/300] train: 0.7076 - val: 0.7629\n",
      "[296/300] train: 0.7074 - val: 0.7626\n",
      "[297/300] train: 0.7074 - val: 0.7627\n",
      "[298/300] train: 0.7074 - val: 0.7619\n",
      "[299/300] train: 0.7075 - val: 0.7632\n",
      "[300/300] train: 0.7073 - val: 0.7622\n"
     ]
    }
   ],
   "source": [
    "for epoch in range(n_epochs):\n",
    "    stats = {'epoch': epoch + 1, 'total': n_epochs}\n",
    "\n",
    "    for phase in ('train', 'val'):\n",
    "        if phase == 'train':\n",
    "          training = True\n",
    "        else:\n",
    "          training = False\n",
    "        running_loss = 0\n",
    "        n_batches = 0\n",
    "        for batch in batches(*datasets[phase], shuffle=training, bs=bs):\n",
    "            x_batch, y_batch = [b.to(device) for b in batch]\n",
    "            optimizer.zero_grad()\n",
    "            # compute gradients only during 'train' phase\n",
    "            with torch.set_grad_enabled(training):\n",
    "                outputs = net(x_batch[:,0], x_batch[:,1], minmax)\n",
    "                loss = criterion(outputs, y_batch)\n",
    "                # don't update weights and rates when in 'val' phase\n",
    "                if training:\n",
    "                    #scheduler.step()\n",
    "                    loss.backward()\n",
    "                    optimizer.step()\n",
    "                    #lr_history.extend(scheduler.get_lr())\n",
    "            running_loss += loss.item()\n",
    "        epoch_loss = running_loss / dataset_sizes[phase]\n",
    "        stats[phase] = epoch_loss\n",
    "        # early stopping: save weights of the best model so far\n",
    "        if phase == 'val':\n",
    "            if epoch_loss < best_loss:\n",
    "                print('loss improvement on epoch: %d' % (epoch + 1))\n",
    "                best_loss = epoch_loss\n",
    "                best_weights = copy.deepcopy(net.state_dict())\n",
    "                no_improvements = 0\n",
    "            else:\n",
    "                no_improvements += 1\n",
    "    history.append(stats)\n",
    "    print('[{epoch:03d}/{total:03d}] train: {train:.4f} - val: {val:.4f}'.format(**stats))\n",
    "    if no_improvements >= patience:\n",
    "        print('early stopping after epoch {epoch:03d}'.format(**stats))\n",
    "        break"
   ],
   "metadata": {
    "collapsed": false,
    "pycharm": {
     "name": "#%%\n"
    }
   }
  },
  {
   "cell_type": "code",
   "execution_count": 49,
   "outputs": [
    {
     "data": {
      "text/plain": "<Figure size 432x288 with 1 Axes>",
      "image/png": "[encoded data removed]"
     },
     "metadata": {
      "needs_background": "light"
     },
     "output_type": "display_data"
    }
   ],
   "source": [
    "ax = pd.DataFrame(history).drop(columns='total').plot(x='epoch')"
   ],
   "metadata": {
    "collapsed": false,
    "pycharm": {
     "name": "#%%\n"
    }
   }
  },
  {
   "cell_type": "code",
   "execution_count": 50,
   "outputs": [],
   "source": [
    "# Plot decreasing learning rate\n",
    "\n",
    "#_ = plt.plot(lr_history[:2*iterations_per_epoch-1])"
   ],
   "metadata": {
    "collapsed": false,
    "pycharm": {
     "name": "#%%\n"
    }
   }
  },
  {
   "cell_type": "code",
   "execution_count": 51,
   "outputs": [
    {
     "data": {
      "text/plain": "<All keys matched successfully>"
     },
     "execution_count": 51,
     "metadata": {},
     "output_type": "execute_result"
    }
   ],
   "source": [
    "net.load_state_dict(best_weights)"
   ],
   "metadata": {
    "collapsed": false,
    "pycharm": {
     "name": "#%%\n"
    }
   }
  },
  {
   "cell_type": "code",
   "execution_count": 52,
   "outputs": [],
   "source": [
    "groud_truth, predictions = [], []\n",
    "\n",
    "with torch.no_grad():\n",
    "    for batch in batches(*datasets['val'], shuffle=False, bs=bs):\n",
    "        x_batch, y_batch = [b.to(device) for b in batch]\n",
    "        outputs = net(x_batch[:, 0], x_batch[:, 1], minmax)\n",
    "        groud_truth.extend(y_batch.tolist())\n",
    "        predictions.extend(outputs.tolist())\n",
    "\n",
    "groud_truth = np.asarray(groud_truth).ravel()\n",
    "predictions = np.asarray(predictions).ravel()"
   ],
   "metadata": {
    "collapsed": false,
    "pycharm": {
     "name": "#%%\n"
    }
   }
  },
  {
   "cell_type": "code",
   "execution_count": 53,
   "outputs": [
    {
     "name": "stdout",
     "output_type": "stream",
     "text": [
      "Validation RMSE: 0.8726\n"
     ]
    }
   ],
   "source": [
    "valid_loss = np.sqrt(np.mean((predictions - groud_truth)**2))\n",
    "print(f'Validation RMSE: {valid_loss:.4f}')"
   ],
   "metadata": {
    "collapsed": false,
    "pycharm": {
     "name": "#%%\n"
    }
   }
  },
  {
   "cell_type": "code",
   "execution_count": 54,
   "outputs": [],
   "source": [
    "groud_truth, predictions = [], []\n",
    "\n",
    "with torch.no_grad():\n",
    "    for batch in batches(*datasets['test'], shuffle=False, bs=bs):\n",
    "        x_batch, y_batch = [b.to(device) for b in batch]\n",
    "        outputs = net(x_batch[:, 0], x_batch[:, 1], minmax)\n",
    "        groud_truth.extend(y_batch.tolist())\n",
    "        predictions.extend(outputs.tolist())\n",
    "\n",
    "groud_truth = np.asarray(groud_truth).ravel()\n",
    "predictions = np.asarray(predictions).ravel()"
   ],
   "metadata": {
    "collapsed": false,
    "pycharm": {
     "name": "#%%\n"
    }
   }
  },
  {
   "cell_type": "code",
   "execution_count": 55,
   "outputs": [
    {
     "name": "stdout",
     "output_type": "stream",
     "text": [
      "Final RMSE: 0.8721\n"
     ]
    }
   ],
   "source": [
    "final_loss = np.sqrt(np.mean((predictions - groud_truth)**2))\n",
    "print(f'Final RMSE: {final_loss:.4f}')"
   ],
   "metadata": {
    "collapsed": false,
    "pycharm": {
     "name": "#%%\n"
    }
   }
  },
  {
   "cell_type": "code",
   "execution_count": 56,
   "outputs": [],
   "source": [
    "with open('best.weights.small', 'wb') as file:\n",
    "    pickle.dump(best_weights, file)"
   ],
   "metadata": {
    "collapsed": false,
    "pycharm": {
     "name": "#%%\n"
    }
   }
  },
  {
   "cell_type": "code",
   "execution_count": 57,
   "outputs": [
    {
     "name": "stdout",
     "output_type": "stream",
     "text": [
      "duration: 3600.7334\n"
     ]
    }
   ],
   "source": [
    "print(f'duration: {round(time.time() - start, 4)}')"
   ],
   "metadata": {
    "collapsed": false,
    "pycharm": {
     "name": "#%%\n"
    }
   }
  },
  {
   "cell_type": "code",
   "execution_count": 57,
   "outputs": [],
   "source": [],
   "metadata": {
    "collapsed": false,
    "pycharm": {
     "name": "#%%\n"
    }
   }
  },
  {
   "cell_type": "code",
   "execution_count": 61,
   "outputs": [],
   "source": [
    "# medium net\n",
    "\n",
    "start = time.time()\n",
    "net = RecommenderNet(\n",
    "    n_users=n, n_movies=m,\n",
    "    n_factors=20, hidden=[10 ,10],\n",
    "    embedding_dropout=0.05, dropouts=[0.3, 0.3])"
   ],
   "metadata": {
    "collapsed": false,
    "pycharm": {
     "name": "#%%\n"
    }
   }
  },
  {
   "cell_type": "code",
   "execution_count": 62,
   "outputs": [],
   "source": [
    "lr = 1e-3\n",
    "wd = 1e-5\n",
    "bs = 4096\n",
    "n_epochs = 300\n",
    "patience = 300\n",
    "no_improvements = 0\n",
    "best_loss = np.inf\n",
    "best_weights = None\n",
    "history = []\n",
    "lr_history = []\n",
    "\n",
    "device = torch.device('cuda:0' if torch.cuda.is_available() else 'cpu')\n",
    "\n",
    "net.to(device)\n",
    "criterion = nn.MSELoss(reduction='sum')\n",
    "optimizer = optim.Adam(net.parameters(), lr=lr, weight_decay=wd)\n",
    "#iterations_per_epoch = int(math.ceil(dataset_sizes['train'] // bs))\n",
    "#scheduler = CyclicLR(optimizer, cosine(t_max=iterations_per_epoch * 2, eta_min=lr/10))"
   ],
   "metadata": {
    "collapsed": false,
    "pycharm": {
     "name": "#%%\n"
    }
   }
  },
  {
   "cell_type": "code",
   "execution_count": 63,
   "outputs": [
    {
     "name": "stdout",
     "output_type": "stream",
     "text": [
      "loss improvement on epoch: 1\n",
      "[001/300] train: 0.8640 - val: 0.7961\n",
      "loss improvement on epoch: 2\n",
      "[002/300] train: 0.7792 - val: 0.7845\n",
      "loss improvement on epoch: 3\n",
      "[003/300] train: 0.7679 - val: 0.7799\n",
      "loss improvement on epoch: 4\n",
      "[004/300] train: 0.7610 - val: 0.7764\n",
      "loss improvement on epoch: 5\n",
      "[005/300] train: 0.7555 - val: 0.7750\n",
      "loss improvement on epoch: 6\n",
      "[006/300] train: 0.7519 - val: 0.7748\n",
      "loss improvement on epoch: 7\n",
      "[007/300] train: 0.7485 - val: 0.7735\n",
      "loss improvement on epoch: 8\n",
      "[008/300] train: 0.7458 - val: 0.7728\n",
      "[009/300] train: 0.7436 - val: 0.7731\n",
      "[010/300] train: 0.7419 - val: 0.7730\n",
      "loss improvement on epoch: 11\n",
      "[011/300] train: 0.7400 - val: 0.7721\n",
      "loss improvement on epoch: 12\n",
      "[012/300] train: 0.7390 - val: 0.7720\n",
      "[013/300] train: 0.7372 - val: 0.7722\n",
      "[014/300] train: 0.7363 - val: 0.7721\n",
      "[015/300] train: 0.7353 - val: 0.7721\n",
      "loss improvement on epoch: 16\n",
      "[016/300] train: 0.7344 - val: 0.7714\n",
      "[017/300] train: 0.7336 - val: 0.7721\n",
      "loss improvement on epoch: 18\n",
      "[018/300] train: 0.7329 - val: 0.7708\n",
      "[019/300] train: 0.7319 - val: 0.7712\n",
      "[020/300] train: 0.7311 - val: 0.7716\n",
      "[021/300] train: 0.7306 - val: 0.7711\n",
      "[022/300] train: 0.7299 - val: 0.7710\n",
      "loss improvement on epoch: 23\n",
      "[023/300] train: 0.7294 - val: 0.7708\n",
      "[024/300] train: 0.7287 - val: 0.7721\n",
      "loss improvement on epoch: 25\n",
      "[025/300] train: 0.7281 - val: 0.7708\n",
      "[026/300] train: 0.7279 - val: 0.7713\n",
      "[027/300] train: 0.7273 - val: 0.7715\n",
      "[028/300] train: 0.7267 - val: 0.7719\n",
      "[029/300] train: 0.7267 - val: 0.7713\n",
      "[030/300] train: 0.7263 - val: 0.7716\n",
      "[031/300] train: 0.7256 - val: 0.7713\n",
      "[032/300] train: 0.7252 - val: 0.7714\n",
      "[033/300] train: 0.7245 - val: 0.7720\n",
      "[034/300] train: 0.7246 - val: 0.7718\n",
      "[035/300] train: 0.7239 - val: 0.7711\n",
      "[036/300] train: 0.7237 - val: 0.7725\n",
      "[037/300] train: 0.7239 - val: 0.7724\n",
      "[038/300] train: 0.7232 - val: 0.7724\n",
      "[039/300] train: 0.7228 - val: 0.7720\n",
      "[040/300] train: 0.7227 - val: 0.7716\n",
      "[041/300] train: 0.7225 - val: 0.7720\n",
      "[042/300] train: 0.7221 - val: 0.7724\n",
      "[043/300] train: 0.7219 - val: 0.7722\n",
      "[044/300] train: 0.7213 - val: 0.7728\n",
      "[045/300] train: 0.7216 - val: 0.7719\n",
      "[046/300] train: 0.7210 - val: 0.7725\n",
      "[047/300] train: 0.7210 - val: 0.7725\n",
      "[048/300] train: 0.7205 - val: 0.7724\n",
      "[049/300] train: 0.7201 - val: 0.7725\n",
      "[050/300] train: 0.7206 - val: 0.7729\n",
      "[051/300] train: 0.7201 - val: 0.7720\n",
      "[052/300] train: 0.7196 - val: 0.7724\n",
      "[053/300] train: 0.7193 - val: 0.7732\n",
      "[054/300] train: 0.7194 - val: 0.7731\n",
      "[055/300] train: 0.7194 - val: 0.7730\n",
      "[056/300] train: 0.7190 - val: 0.7731\n",
      "[057/300] train: 0.7186 - val: 0.7735\n",
      "[058/300] train: 0.7188 - val: 0.7733\n",
      "[059/300] train: 0.7186 - val: 0.7737\n",
      "[060/300] train: 0.7182 - val: 0.7741\n",
      "[061/300] train: 0.7181 - val: 0.7732\n",
      "[062/300] train: 0.7181 - val: 0.7728\n",
      "[063/300] train: 0.7178 - val: 0.7724\n",
      "[064/300] train: 0.7179 - val: 0.7744\n",
      "[065/300] train: 0.7176 - val: 0.7736\n",
      "[066/300] train: 0.7176 - val: 0.7737\n",
      "[067/300] train: 0.7173 - val: 0.7734\n",
      "[068/300] train: 0.7171 - val: 0.7743\n",
      "[069/300] train: 0.7171 - val: 0.7735\n",
      "[070/300] train: 0.7171 - val: 0.7730\n",
      "[071/300] train: 0.7171 - val: 0.7735\n",
      "[072/300] train: 0.7168 - val: 0.7743\n",
      "[073/300] train: 0.7167 - val: 0.7741\n",
      "[074/300] train: 0.7163 - val: 0.7746\n",
      "[075/300] train: 0.7168 - val: 0.7731\n",
      "[076/300] train: 0.7163 - val: 0.7740\n",
      "[077/300] train: 0.7159 - val: 0.7734\n",
      "[078/300] train: 0.7162 - val: 0.7746\n",
      "[079/300] train: 0.7150 - val: 0.7733\n",
      "[080/300] train: 0.7137 - val: 0.7732\n",
      "[081/300] train: 0.7134 - val: 0.7738\n",
      "[082/300] train: 0.7134 - val: 0.7730\n",
      "[083/300] train: 0.7129 - val: 0.7730\n",
      "[084/300] train: 0.7131 - val: 0.7724\n",
      "[085/300] train: 0.7129 - val: 0.7729\n",
      "[086/300] train: 0.7127 - val: 0.7733\n",
      "[087/300] train: 0.7123 - val: 0.7725\n",
      "[088/300] train: 0.7125 - val: 0.7742\n",
      "[089/300] train: 0.7124 - val: 0.7743\n",
      "[090/300] train: 0.7123 - val: 0.7736\n",
      "[091/300] train: 0.7122 - val: 0.7738\n",
      "[092/300] train: 0.7123 - val: 0.7729\n",
      "[093/300] train: 0.7121 - val: 0.7742\n",
      "[094/300] train: 0.7119 - val: 0.7728\n",
      "[095/300] train: 0.7119 - val: 0.7730\n",
      "[096/300] train: 0.7119 - val: 0.7745\n",
      "[097/300] train: 0.7119 - val: 0.7732\n",
      "[098/300] train: 0.7118 - val: 0.7735\n",
      "[099/300] train: 0.7115 - val: 0.7741\n",
      "[100/300] train: 0.7112 - val: 0.7737\n",
      "[101/300] train: 0.7115 - val: 0.7734\n",
      "[102/300] train: 0.7115 - val: 0.7746\n",
      "[103/300] train: 0.7113 - val: 0.7741\n",
      "[104/300] train: 0.7112 - val: 0.7734\n",
      "[105/300] train: 0.7112 - val: 0.7732\n",
      "[106/300] train: 0.7111 - val: 0.7736\n",
      "[107/300] train: 0.7112 - val: 0.7737\n",
      "[108/300] train: 0.7108 - val: 0.7746\n",
      "[109/300] train: 0.7108 - val: 0.7759\n",
      "[110/300] train: 0.7108 - val: 0.7729\n",
      "[111/300] train: 0.7108 - val: 0.7742\n",
      "[112/300] train: 0.7104 - val: 0.7738\n",
      "[113/300] train: 0.7108 - val: 0.7748\n",
      "[114/300] train: 0.7106 - val: 0.7741\n",
      "[115/300] train: 0.7105 - val: 0.7747\n",
      "[116/300] train: 0.7105 - val: 0.7744\n",
      "[117/300] train: 0.7103 - val: 0.7739\n",
      "[118/300] train: 0.7102 - val: 0.7743\n",
      "[119/300] train: 0.7106 - val: 0.7747\n",
      "[120/300] train: 0.7103 - val: 0.7738\n",
      "[121/300] train: 0.7102 - val: 0.7743\n",
      "[122/300] train: 0.7099 - val: 0.7750\n",
      "[123/300] train: 0.7101 - val: 0.7745\n",
      "[124/300] train: 0.7102 - val: 0.7735\n",
      "[125/300] train: 0.7100 - val: 0.7741\n",
      "[126/300] train: 0.7097 - val: 0.7747\n",
      "[127/300] train: 0.7097 - val: 0.7751\n",
      "[128/300] train: 0.7096 - val: 0.7743\n",
      "[129/300] train: 0.7098 - val: 0.7733\n",
      "[130/300] train: 0.7100 - val: 0.7738\n",
      "[131/300] train: 0.7096 - val: 0.7743\n",
      "[132/300] train: 0.7091 - val: 0.7750\n",
      "[133/300] train: 0.7092 - val: 0.7742\n",
      "[134/300] train: 0.7096 - val: 0.7746\n",
      "[135/300] train: 0.7095 - val: 0.7751\n",
      "[136/300] train: 0.7097 - val: 0.7744\n",
      "[137/300] train: 0.7091 - val: 0.7741\n",
      "[138/300] train: 0.7092 - val: 0.7750\n",
      "[139/300] train: 0.7094 - val: 0.7747\n",
      "[140/300] train: 0.7093 - val: 0.7745\n",
      "[141/300] train: 0.7092 - val: 0.7748\n",
      "[142/300] train: 0.7092 - val: 0.7742\n",
      "[143/300] train: 0.7092 - val: 0.7742\n",
      "[144/300] train: 0.7088 - val: 0.7737\n",
      "[145/300] train: 0.7089 - val: 0.7741\n",
      "[146/300] train: 0.7091 - val: 0.7748\n",
      "[147/300] train: 0.7090 - val: 0.7745\n",
      "[148/300] train: 0.7090 - val: 0.7749\n",
      "[149/300] train: 0.7088 - val: 0.7754\n",
      "[150/300] train: 0.7089 - val: 0.7751\n",
      "[151/300] train: 0.7091 - val: 0.7742\n",
      "[152/300] train: 0.7086 - val: 0.7750\n",
      "[153/300] train: 0.7087 - val: 0.7757\n",
      "[154/300] train: 0.7086 - val: 0.7753\n",
      "[155/300] train: 0.7088 - val: 0.7751\n",
      "[156/300] train: 0.7086 - val: 0.7754\n",
      "[157/300] train: 0.7085 - val: 0.7754\n",
      "[158/300] train: 0.7086 - val: 0.7748\n",
      "[159/300] train: 0.7083 - val: 0.7746\n",
      "[160/300] train: 0.7086 - val: 0.7744\n",
      "[161/300] train: 0.7083 - val: 0.7762\n",
      "[162/300] train: 0.7085 - val: 0.7746\n",
      "[163/300] train: 0.7079 - val: 0.7747\n",
      "[164/300] train: 0.7083 - val: 0.7747\n",
      "[165/300] train: 0.7084 - val: 0.7746\n",
      "[166/300] train: 0.7086 - val: 0.7742\n",
      "[167/300] train: 0.7084 - val: 0.7749\n",
      "[168/300] train: 0.7081 - val: 0.7758\n",
      "[169/300] train: 0.7082 - val: 0.7757\n",
      "[170/300] train: 0.7082 - val: 0.7750\n",
      "[171/300] train: 0.7080 - val: 0.7761\n",
      "[172/300] train: 0.7078 - val: 0.7770\n",
      "[173/300] train: 0.7081 - val: 0.7746\n",
      "[174/300] train: 0.7079 - val: 0.7753\n",
      "[175/300] train: 0.7079 - val: 0.7766\n",
      "[176/300] train: 0.7076 - val: 0.7765\n",
      "[177/300] train: 0.7080 - val: 0.7757\n",
      "[178/300] train: 0.7076 - val: 0.7754\n",
      "[179/300] train: 0.7081 - val: 0.7748\n",
      "[180/300] train: 0.7081 - val: 0.7757\n",
      "[181/300] train: 0.7076 - val: 0.7750\n",
      "[182/300] train: 0.7077 - val: 0.7751\n",
      "[183/300] train: 0.7077 - val: 0.7752\n",
      "[184/300] train: 0.7077 - val: 0.7750\n",
      "[185/300] train: 0.7078 - val: 0.7748\n",
      "[186/300] train: 0.7078 - val: 0.7748\n",
      "[187/300] train: 0.7079 - val: 0.7761\n",
      "[188/300] train: 0.7073 - val: 0.7749\n",
      "[189/300] train: 0.7075 - val: 0.7754\n",
      "[190/300] train: 0.7075 - val: 0.7755\n",
      "[191/300] train: 0.7072 - val: 0.7748\n",
      "[192/300] train: 0.7075 - val: 0.7753\n",
      "[193/300] train: 0.7073 - val: 0.7762\n",
      "[194/300] train: 0.7073 - val: 0.7747\n",
      "[195/300] train: 0.7076 - val: 0.7754\n",
      "[196/300] train: 0.7077 - val: 0.7754\n",
      "[197/300] train: 0.7072 - val: 0.7758\n",
      "[198/300] train: 0.7076 - val: 0.7755\n",
      "[199/300] train: 0.7075 - val: 0.7765\n",
      "[200/300] train: 0.7072 - val: 0.7769\n",
      "[201/300] train: 0.7071 - val: 0.7758\n",
      "[202/300] train: 0.7072 - val: 0.7751\n",
      "[203/300] train: 0.7071 - val: 0.7766\n",
      "[204/300] train: 0.7073 - val: 0.7746\n",
      "[205/300] train: 0.7072 - val: 0.7757\n",
      "[206/300] train: 0.7072 - val: 0.7755\n",
      "[207/300] train: 0.7073 - val: 0.7750\n",
      "[208/300] train: 0.7072 - val: 0.7764\n",
      "[209/300] train: 0.7070 - val: 0.7749\n",
      "[210/300] train: 0.7076 - val: 0.7761\n",
      "[211/300] train: 0.7072 - val: 0.7761\n",
      "[212/300] train: 0.7067 - val: 0.7759\n",
      "[213/300] train: 0.7070 - val: 0.7765\n",
      "[214/300] train: 0.7068 - val: 0.7762\n",
      "[215/300] train: 0.7070 - val: 0.7753\n",
      "[216/300] train: 0.7072 - val: 0.7742\n",
      "[217/300] train: 0.7071 - val: 0.7755\n",
      "[218/300] train: 0.7072 - val: 0.7755\n",
      "[219/300] train: 0.7070 - val: 0.7762\n",
      "[220/300] train: 0.7069 - val: 0.7747\n",
      "[221/300] train: 0.7072 - val: 0.7771\n",
      "[222/300] train: 0.7070 - val: 0.7751\n",
      "[223/300] train: 0.7069 - val: 0.7758\n",
      "[224/300] train: 0.7066 - val: 0.7757\n",
      "[225/300] train: 0.7070 - val: 0.7757\n",
      "[226/300] train: 0.7065 - val: 0.7761\n",
      "[227/300] train: 0.7066 - val: 0.7756\n",
      "[228/300] train: 0.7068 - val: 0.7756\n",
      "[229/300] train: 0.7072 - val: 0.7756\n",
      "[230/300] train: 0.7065 - val: 0.7760\n",
      "[231/300] train: 0.7068 - val: 0.7765\n",
      "[232/300] train: 0.7066 - val: 0.7761\n",
      "[233/300] train: 0.7064 - val: 0.7756\n",
      "[234/300] train: 0.7069 - val: 0.7753\n",
      "[235/300] train: 0.7069 - val: 0.7768\n",
      "[236/300] train: 0.7070 - val: 0.7762\n",
      "[237/300] train: 0.7069 - val: 0.7755\n",
      "[238/300] train: 0.7060 - val: 0.7766\n",
      "[239/300] train: 0.7066 - val: 0.7771\n",
      "[240/300] train: 0.7065 - val: 0.7752\n",
      "[241/300] train: 0.7066 - val: 0.7764\n",
      "[242/300] train: 0.7063 - val: 0.7757\n",
      "[243/300] train: 0.7065 - val: 0.7755\n",
      "[244/300] train: 0.7063 - val: 0.7755\n",
      "[245/300] train: 0.7069 - val: 0.7779\n",
      "[246/300] train: 0.7068 - val: 0.7765\n",
      "[247/300] train: 0.7064 - val: 0.7756\n",
      "[248/300] train: 0.7067 - val: 0.7766\n",
      "[249/300] train: 0.7066 - val: 0.7760\n",
      "[250/300] train: 0.7066 - val: 0.7771\n",
      "[251/300] train: 0.7063 - val: 0.7759\n",
      "[252/300] train: 0.7067 - val: 0.7773\n",
      "[253/300] train: 0.7063 - val: 0.7773\n",
      "[254/300] train: 0.7063 - val: 0.7747\n",
      "[255/300] train: 0.7063 - val: 0.7760\n",
      "[256/300] train: 0.7060 - val: 0.7763\n",
      "[257/300] train: 0.7062 - val: 0.7765\n",
      "[258/300] train: 0.7062 - val: 0.7754\n",
      "[259/300] train: 0.7062 - val: 0.7765\n",
      "[260/300] train: 0.7067 - val: 0.7777\n",
      "[261/300] train: 0.7061 - val: 0.7759\n",
      "[262/300] train: 0.7062 - val: 0.7754\n",
      "[263/300] train: 0.7063 - val: 0.7749\n",
      "[264/300] train: 0.7062 - val: 0.7769\n",
      "[265/300] train: 0.7063 - val: 0.7766\n",
      "[266/300] train: 0.7064 - val: 0.7756\n",
      "[267/300] train: 0.7060 - val: 0.7750\n",
      "[268/300] train: 0.7059 - val: 0.7772\n",
      "[269/300] train: 0.7061 - val: 0.7760\n",
      "[270/300] train: 0.7060 - val: 0.7759\n",
      "[271/300] train: 0.7063 - val: 0.7757\n",
      "[272/300] train: 0.7061 - val: 0.7760\n",
      "[273/300] train: 0.7059 - val: 0.7771\n",
      "[274/300] train: 0.7059 - val: 0.7760\n",
      "[275/300] train: 0.7065 - val: 0.7757\n",
      "[276/300] train: 0.7058 - val: 0.7763\n",
      "[277/300] train: 0.7057 - val: 0.7765\n",
      "[278/300] train: 0.7057 - val: 0.7765\n",
      "[279/300] train: 0.7059 - val: 0.7761\n",
      "[280/300] train: 0.7057 - val: 0.7763\n",
      "[281/300] train: 0.7061 - val: 0.7755\n",
      "[282/300] train: 0.7060 - val: 0.7756\n",
      "[283/300] train: 0.7059 - val: 0.7781\n",
      "[284/300] train: 0.7060 - val: 0.7762\n",
      "[285/300] train: 0.7062 - val: 0.7772\n",
      "[286/300] train: 0.7059 - val: 0.7767\n",
      "[287/300] train: 0.7060 - val: 0.7757\n",
      "[288/300] train: 0.7058 - val: 0.7763\n",
      "[289/300] train: 0.7058 - val: 0.7759\n",
      "[290/300] train: 0.7063 - val: 0.7773\n",
      "[291/300] train: 0.7059 - val: 0.7756\n",
      "[292/300] train: 0.7060 - val: 0.7782\n",
      "[293/300] train: 0.7058 - val: 0.7766\n",
      "[294/300] train: 0.7058 - val: 0.7765\n",
      "[295/300] train: 0.7060 - val: 0.7773\n",
      "[296/300] train: 0.7057 - val: 0.7758\n",
      "[297/300] train: 0.7059 - val: 0.7763\n",
      "[298/300] train: 0.7058 - val: 0.7762\n",
      "[299/300] train: 0.7060 - val: 0.7768\n",
      "[300/300] train: 0.7058 - val: 0.7755\n"
     ]
    }
   ],
   "source": [
    "for epoch in range(n_epochs):\n",
    "    stats = {'epoch': epoch + 1, 'total': n_epochs}\n",
    "\n",
    "    for phase in ('train', 'val'):\n",
    "        if phase == 'train':\n",
    "          training = True\n",
    "        else:\n",
    "          training = False\n",
    "        running_loss = 0\n",
    "        n_batches = 0\n",
    "        for batch in batches(*datasets[phase], shuffle=training, bs=bs):\n",
    "            x_batch, y_batch = [b.to(device) for b in batch]\n",
    "            optimizer.zero_grad()\n",
    "            # compute gradients only during 'train' phase\n",
    "            with torch.set_grad_enabled(training):\n",
    "                outputs = net(x_batch[:,0], x_batch[:,1], minmax)\n",
    "                loss = criterion(outputs, y_batch)\n",
    "                # don't update weights and rates when in 'val' phase\n",
    "                if training:\n",
    "                    #scheduler.step()\n",
    "                    loss.backward()\n",
    "                    optimizer.step()\n",
    "                    #lr_history.extend(scheduler.get_lr())\n",
    "            running_loss += loss.item()\n",
    "        epoch_loss = running_loss / dataset_sizes[phase]\n",
    "        stats[phase] = epoch_loss\n",
    "        # early stopping: save weights of the best model so far\n",
    "        if phase == 'val':\n",
    "            if epoch_loss < best_loss:\n",
    "                print('loss improvement on epoch: %d' % (epoch + 1))\n",
    "                best_loss = epoch_loss\n",
    "                best_weights = copy.deepcopy(net.state_dict())\n",
    "                no_improvements = 0\n",
    "            else:\n",
    "                no_improvements += 1\n",
    "    history.append(stats)\n",
    "    print('[{epoch:03d}/{total:03d}] train: {train:.4f} - val: {val:.4f}'.format(**stats))\n",
    "    if no_improvements >= patience:\n",
    "        print('early stopping after epoch {epoch:03d}'.format(**stats))\n",
    "        break"
   ],
   "metadata": {
    "collapsed": false,
    "pycharm": {
     "name": "#%%\n"
    }
   }
  },
  {
   "cell_type": "code",
   "execution_count": 64,
   "outputs": [
    {
     "data": {
      "text/plain": "<Figure size 432x288 with 1 Axes>",
      "image/png": "[encoded data removed]"
     },
     "metadata": {
      "needs_background": "light"
     },
     "output_type": "display_data"
    }
   ],
   "source": [
    "ax = pd.DataFrame(history).drop(columns='total').plot(x='epoch')"
   ],
   "metadata": {
    "collapsed": false,
    "pycharm": {
     "name": "#%%\n"
    }
   }
  },
  {
   "cell_type": "code",
   "execution_count": 65,
   "outputs": [],
   "source": [
    "# Plot decreasing learning rate\n",
    "\n",
    "#_ = plt.plot(lr_history[:2*iterations_per_epoch-1])"
   ],
   "metadata": {
    "collapsed": false,
    "pycharm": {
     "name": "#%%\n"
    }
   }
  },
  {
   "cell_type": "code",
   "execution_count": 66,
   "outputs": [
    {
     "data": {
      "text/plain": "<All keys matched successfully>"
     },
     "execution_count": 66,
     "metadata": {},
     "output_type": "execute_result"
    }
   ],
   "source": [
    "net.load_state_dict(best_weights)"
   ],
   "metadata": {
    "collapsed": false,
    "pycharm": {
     "name": "#%%\n"
    }
   }
  },
  {
   "cell_type": "code",
   "execution_count": 67,
   "outputs": [],
   "source": [
    "groud_truth, predictions = [], []\n",
    "\n",
    "with torch.no_grad():\n",
    "    for batch in batches(*datasets['val'], shuffle=False, bs=bs):\n",
    "        x_batch, y_batch = [b.to(device) for b in batch]\n",
    "        outputs = net(x_batch[:, 0], x_batch[:, 1], minmax)\n",
    "        groud_truth.extend(y_batch.tolist())\n",
    "        predictions.extend(outputs.tolist())\n",
    "\n",
    "groud_truth = np.asarray(groud_truth).ravel()\n",
    "predictions = np.asarray(predictions).ravel()"
   ],
   "metadata": {
    "collapsed": false,
    "pycharm": {
     "name": "#%%\n"
    }
   }
  },
  {
   "cell_type": "code",
   "execution_count": 68,
   "outputs": [
    {
     "name": "stdout",
     "output_type": "stream",
     "text": [
      "Validation RMSE: 0.8780\n"
     ]
    }
   ],
   "source": [
    "valid_loss = np.sqrt(np.mean((predictions - groud_truth)**2))\n",
    "print(f'Validation RMSE: {valid_loss:.4f}')"
   ],
   "metadata": {
    "collapsed": false,
    "pycharm": {
     "name": "#%%\n"
    }
   }
  },
  {
   "cell_type": "code",
   "execution_count": 69,
   "outputs": [],
   "source": [
    "groud_truth, predictions = [], []\n",
    "\n",
    "with torch.no_grad():\n",
    "    for batch in batches(*datasets['test'], shuffle=False, bs=bs):\n",
    "        x_batch, y_batch = [b.to(device) for b in batch]\n",
    "        outputs = net(x_batch[:, 0], x_batch[:, 1], minmax)\n",
    "        groud_truth.extend(y_batch.tolist())\n",
    "        predictions.extend(outputs.tolist())\n",
    "\n",
    "groud_truth = np.asarray(groud_truth).ravel()\n",
    "predictions = np.asarray(predictions).ravel()"
   ],
   "metadata": {
    "collapsed": false,
    "pycharm": {
     "name": "#%%\n"
    }
   }
  },
  {
   "cell_type": "code",
   "execution_count": 70,
   "outputs": [
    {
     "name": "stdout",
     "output_type": "stream",
     "text": [
      "Final RMSE: 0.8785\n"
     ]
    }
   ],
   "source": [
    "final_loss = np.sqrt(np.mean((predictions - groud_truth)**2))\n",
    "print(f'Final RMSE: {final_loss:.4f}')"
   ],
   "metadata": {
    "collapsed": false,
    "pycharm": {
     "name": "#%%\n"
    }
   }
  },
  {
   "cell_type": "code",
   "execution_count": 71,
   "outputs": [],
   "source": [
    "with open('best.weights.medium', 'wb') as file:\n",
    "    pickle.dump(best_weights, file)"
   ],
   "metadata": {
    "collapsed": false,
    "pycharm": {
     "name": "#%%\n"
    }
   }
  },
  {
   "cell_type": "code",
   "execution_count": 72,
   "outputs": [
    {
     "name": "stdout",
     "output_type": "stream",
     "text": [
      "duration: 5392.5075\n"
     ]
    }
   ],
   "source": [
    "print(f'duration: {round(time.time() - start, 4)}')"
   ],
   "metadata": {
    "collapsed": false,
    "pycharm": {
     "name": "#%%\n"
    }
   }
  },
  {
   "cell_type": "code",
   "execution_count": 72,
   "outputs": [],
   "source": [],
   "metadata": {
    "collapsed": false,
    "pycharm": {
     "name": "#%%\n"
    }
   }
  },
  {
   "cell_type": "code",
   "execution_count": 73,
   "outputs": [],
   "source": [
    "# big net\n",
    "\n",
    "start = time.time()\n",
    "net = RecommenderNet(\n",
    "    n_users=n, n_movies=m,\n",
    "    n_factors=50, hidden=[100, 100, 100],\n",
    "    embedding_dropout=0.05, dropouts=[0.3, 0.3, 0.3])"
   ],
   "metadata": {
    "collapsed": false,
    "pycharm": {
     "name": "#%%\n"
    }
   }
  },
  {
   "cell_type": "code",
   "execution_count": 74,
   "outputs": [],
   "source": [
    "lr = 1e-3\n",
    "wd = 1e-5\n",
    "bs = 4096\n",
    "n_epochs = 300\n",
    "patience = 300\n",
    "no_improvements = 0\n",
    "best_loss = np.inf\n",
    "best_weights = None\n",
    "history = []\n",
    "lr_history = []\n",
    "\n",
    "device = torch.device('cuda:0' if torch.cuda.is_available() else 'cpu')\n",
    "\n",
    "net.to(device)\n",
    "criterion = nn.MSELoss(reduction='sum')\n",
    "optimizer = optim.Adam(net.parameters(), lr=lr, weight_decay=wd)\n",
    "#iterations_per_epoch = int(math.ceil(dataset_sizes['train'] // bs))\n",
    "#scheduler = CyclicLR(optimizer, cosine(t_max=iterations_per_epoch * 2, eta_min=lr/10))"
   ],
   "metadata": {
    "collapsed": false,
    "pycharm": {
     "name": "#%%\n"
    }
   }
  },
  {
   "cell_type": "code",
   "execution_count": 75,
   "outputs": [
    {
     "name": "stdout",
     "output_type": "stream",
     "text": [
      "loss improvement on epoch: 1\n",
      "[001/300] train: 0.7889 - val: 0.7380\n"
     ]
    },
    {
     "ename": "KeyboardInterrupt",
     "evalue": "",
     "output_type": "error",
     "traceback": [
      "\u001B[0;31m---------------------------------------------------------------------------\u001B[0m",
      "\u001B[0;31mKeyboardInterrupt\u001B[0m                         Traceback (most recent call last)",
      "\u001B[0;32m<ipython-input-75-3677654c9e49>\u001B[0m in \u001B[0;36m<module>\u001B[0;34m\u001B[0m\n\u001B[1;32m     19\u001B[0m                 \u001B[0;32mif\u001B[0m \u001B[0mtraining\u001B[0m\u001B[0;34m:\u001B[0m\u001B[0;34m\u001B[0m\u001B[0;34m\u001B[0m\u001B[0m\n\u001B[1;32m     20\u001B[0m                     \u001B[0;31m#scheduler.step()\u001B[0m\u001B[0;34m\u001B[0m\u001B[0;34m\u001B[0m\u001B[0;34m\u001B[0m\u001B[0m\n\u001B[0;32m---> 21\u001B[0;31m                     \u001B[0mloss\u001B[0m\u001B[0;34m.\u001B[0m\u001B[0mbackward\u001B[0m\u001B[0;34m(\u001B[0m\u001B[0;34m)\u001B[0m\u001B[0;34m\u001B[0m\u001B[0;34m\u001B[0m\u001B[0m\n\u001B[0m\u001B[1;32m     22\u001B[0m                     \u001B[0moptimizer\u001B[0m\u001B[0;34m.\u001B[0m\u001B[0mstep\u001B[0m\u001B[0;34m(\u001B[0m\u001B[0;34m)\u001B[0m\u001B[0;34m\u001B[0m\u001B[0;34m\u001B[0m\u001B[0m\n\u001B[1;32m     23\u001B[0m                     \u001B[0;31m#lr_history.extend(scheduler.get_lr())\u001B[0m\u001B[0;34m\u001B[0m\u001B[0;34m\u001B[0m\u001B[0;34m\u001B[0m\u001B[0m\n",
      "\u001B[0;32m~/.conda/envs/GNN/lib/python3.7/site-packages/torch/tensor.py\u001B[0m in \u001B[0;36mbackward\u001B[0;34m(self, gradient, retain_graph, create_graph, inputs)\u001B[0m\n\u001B[1;32m    243\u001B[0m                 \u001B[0mcreate_graph\u001B[0m\u001B[0;34m=\u001B[0m\u001B[0mcreate_graph\u001B[0m\u001B[0;34m,\u001B[0m\u001B[0;34m\u001B[0m\u001B[0;34m\u001B[0m\u001B[0m\n\u001B[1;32m    244\u001B[0m                 inputs=inputs)\n\u001B[0;32m--> 245\u001B[0;31m         \u001B[0mtorch\u001B[0m\u001B[0;34m.\u001B[0m\u001B[0mautograd\u001B[0m\u001B[0;34m.\u001B[0m\u001B[0mbackward\u001B[0m\u001B[0;34m(\u001B[0m\u001B[0mself\u001B[0m\u001B[0;34m,\u001B[0m \u001B[0mgradient\u001B[0m\u001B[0;34m,\u001B[0m \u001B[0mretain_graph\u001B[0m\u001B[0;34m,\u001B[0m \u001B[0mcreate_graph\u001B[0m\u001B[0;34m,\u001B[0m \u001B[0minputs\u001B[0m\u001B[0;34m=\u001B[0m\u001B[0minputs\u001B[0m\u001B[0;34m)\u001B[0m\u001B[0;34m\u001B[0m\u001B[0;34m\u001B[0m\u001B[0m\n\u001B[0m\u001B[1;32m    246\u001B[0m \u001B[0;34m\u001B[0m\u001B[0m\n\u001B[1;32m    247\u001B[0m     \u001B[0;32mdef\u001B[0m \u001B[0mregister_hook\u001B[0m\u001B[0;34m(\u001B[0m\u001B[0mself\u001B[0m\u001B[0;34m,\u001B[0m \u001B[0mhook\u001B[0m\u001B[0;34m)\u001B[0m\u001B[0;34m:\u001B[0m\u001B[0;34m\u001B[0m\u001B[0;34m\u001B[0m\u001B[0m\n",
      "\u001B[0;32m~/.conda/envs/GNN/lib/python3.7/site-packages/torch/autograd/__init__.py\u001B[0m in \u001B[0;36mbackward\u001B[0;34m(tensors, grad_tensors, retain_graph, create_graph, grad_variables, inputs)\u001B[0m\n\u001B[1;32m    145\u001B[0m     Variable._execution_engine.run_backward(\n\u001B[1;32m    146\u001B[0m         \u001B[0mtensors\u001B[0m\u001B[0;34m,\u001B[0m \u001B[0mgrad_tensors_\u001B[0m\u001B[0;34m,\u001B[0m \u001B[0mretain_graph\u001B[0m\u001B[0;34m,\u001B[0m \u001B[0mcreate_graph\u001B[0m\u001B[0;34m,\u001B[0m \u001B[0minputs\u001B[0m\u001B[0;34m,\u001B[0m\u001B[0;34m\u001B[0m\u001B[0;34m\u001B[0m\u001B[0m\n\u001B[0;32m--> 147\u001B[0;31m         allow_unreachable=True, accumulate_grad=True)  # allow_unreachable flag\n\u001B[0m\u001B[1;32m    148\u001B[0m \u001B[0;34m\u001B[0m\u001B[0m\n\u001B[1;32m    149\u001B[0m \u001B[0;34m\u001B[0m\u001B[0m\n",
      "\u001B[0;31mKeyboardInterrupt\u001B[0m: "
     ]
    }
   ],
   "source": [
    "for epoch in range(n_epochs):\n",
    "    stats = {'epoch': epoch + 1, 'total': n_epochs}\n",
    "\n",
    "    for phase in ('train', 'val'):\n",
    "        if phase == 'train':\n",
    "          training = True\n",
    "        else:\n",
    "          training = False\n",
    "        running_loss = 0\n",
    "        n_batches = 0\n",
    "        for batch in batches(*datasets[phase], shuffle=training, bs=bs):\n",
    "            x_batch, y_batch = [b.to(device) for b in batch]\n",
    "            optimizer.zero_grad()\n",
    "            # compute gradients only during 'train' phase\n",
    "            with torch.set_grad_enabled(training):\n",
    "                outputs = net(x_batch[:,0], x_batch[:,1], minmax)\n",
    "                loss = criterion(outputs, y_batch)\n",
    "                # don't update weights and rates when in 'val' phase\n",
    "                if training:\n",
    "                    #scheduler.step()\n",
    "                    loss.backward()\n",
    "                    optimizer.step()\n",
    "                    #lr_history.extend(scheduler.get_lr())\n",
    "            running_loss += loss.item()\n",
    "        epoch_loss = running_loss / dataset_sizes[phase]\n",
    "        stats[phase] = epoch_loss\n",
    "        # early stopping: save weights of the best model so far\n",
    "        if phase == 'val':\n",
    "            if epoch_loss < best_loss:\n",
    "                print('loss improvement on epoch: %d' % (epoch + 1))\n",
    "                best_loss = epoch_loss\n",
    "                best_weights = copy.deepcopy(net.state_dict())\n",
    "                no_improvements = 0\n",
    "            else:\n",
    "                no_improvements += 1\n",
    "    history.append(stats)\n",
    "    print('[{epoch:03d}/{total:03d}] train: {train:.4f} - val: {val:.4f}'.format(**stats))\n",
    "    if no_improvements >= patience:\n",
    "        print('early stopping after epoch {epoch:03d}'.format(**stats))\n",
    "        break"
   ],
   "metadata": {
    "collapsed": false,
    "pycharm": {
     "name": "#%%\n"
    }
   }
  },
  {
   "cell_type": "code",
   "execution_count": null,
   "outputs": [],
   "source": [
    "ax = pd.DataFrame(history).drop(columns='total').plot(x='epoch')"
   ],
   "metadata": {
    "collapsed": false,
    "pycharm": {
     "name": "#%%\n"
    }
   }
  },
  {
   "cell_type": "code",
   "execution_count": null,
   "outputs": [],
   "source": [
    "# Plot decreasing learning rate\n",
    "\n",
    "#_ = plt.plot(lr_history[:2*iterations_per_epoch-1])"
   ],
   "metadata": {
    "collapsed": false,
    "pycharm": {
     "name": "#%%\n"
    }
   }
  },
  {
   "cell_type": "code",
   "execution_count": null,
   "outputs": [],
   "source": [
    "net.load_state_dict(best_weights)"
   ],
   "metadata": {
    "collapsed": false,
    "pycharm": {
     "name": "#%%\n"
    }
   }
  },
  {
   "cell_type": "code",
   "execution_count": null,
   "outputs": [],
   "source": [
    "groud_truth, predictions = [], []\n",
    "\n",
    "with torch.no_grad():\n",
    "    for batch in batches(*datasets['val'], shuffle=False, bs=bs):\n",
    "        x_batch, y_batch = [b.to(device) for b in batch]\n",
    "        outputs = net(x_batch[:, 0], x_batch[:, 1], minmax)\n",
    "        groud_truth.extend(y_batch.tolist())\n",
    "        predictions.extend(outputs.tolist())\n",
    "\n",
    "groud_truth = np.asarray(groud_truth).ravel()\n",
    "predictions = np.asarray(predictions).ravel()"
   ],
   "metadata": {
    "collapsed": false,
    "pycharm": {
     "name": "#%%\n"
    }
   }
  },
  {
   "cell_type": "code",
   "execution_count": null,
   "outputs": [],
   "source": [
    "valid_loss = np.sqrt(np.mean((predictions - groud_truth)**2))\n",
    "print(f'Validation RMSE: {valid_loss:.4f}')"
   ],
   "metadata": {
    "collapsed": false,
    "pycharm": {
     "name": "#%%\n"
    }
   }
  },
  {
   "cell_type": "code",
   "execution_count": null,
   "outputs": [],
   "source": [
    "groud_truth, predictions = [], []\n",
    "\n",
    "with torch.no_grad():\n",
    "    for batch in batches(*datasets['test'], shuffle=False, bs=bs):\n",
    "        x_batch, y_batch = [b.to(device) for b in batch]\n",
    "        outputs = net(x_batch[:, 0], x_batch[:, 1], minmax)\n",
    "        groud_truth.extend(y_batch.tolist())\n",
    "        predictions.extend(outputs.tolist())\n",
    "\n",
    "groud_truth = np.asarray(groud_truth).ravel()\n",
    "predictions = np.asarray(predictions).ravel()"
   ],
   "metadata": {
    "collapsed": false,
    "pycharm": {
     "name": "#%%\n"
    }
   }
  },
  {
   "cell_type": "code",
   "execution_count": null,
   "outputs": [],
   "source": [
    "final_loss = np.sqrt(np.mean((predictions - groud_truth)**2))\n",
    "print(f'Final RMSE: {final_loss:.4f}')"
   ],
   "metadata": {
    "collapsed": false,
    "pycharm": {
     "name": "#%%\n"
    }
   }
  },
  {
   "cell_type": "code",
   "execution_count": null,
   "outputs": [],
   "source": [
    "with open('best.weights.big', 'wb') as file:\n",
    "    pickle.dump(best_weights, file)"
   ],
   "metadata": {
    "collapsed": false,
    "pycharm": {
     "name": "#%%\n"
    }
   }
  },
  {
   "cell_type": "code",
   "execution_count": null,
   "outputs": [],
   "source": [
    "print(f'duration: {round(time.time() - start, 4)}')"
   ],
   "metadata": {
    "collapsed": false,
    "pycharm": {
     "name": "#%%\n"
    }
   }
  },
  {
   "cell_type": "code",
   "execution_count": null,
   "outputs": [],
   "source": [],
   "metadata": {
    "collapsed": false,
    "pycharm": {
     "name": "#%%\n"
    }
   }
  }
 ],
 "metadata": {
  "kernelspec": {
   "name": "pycharm-f57757a1",
   "language": "python",
   "display_name": "PyCharm (rs-via-gnn)"
  },
  "language_info": {
   "codemirror_mode": {
    "name": "ipython",
    "version": 2
   },
   "file_extension": ".py",
   "mimetype": "text/x-python",
   "name": "python",
   "nbconvert_exporter": "python",
   "pygments_lexer": "ipython2",
   "version": "2.7.6"
  }
 },
 "nbformat": 4,
 "nbformat_minor": 0
}