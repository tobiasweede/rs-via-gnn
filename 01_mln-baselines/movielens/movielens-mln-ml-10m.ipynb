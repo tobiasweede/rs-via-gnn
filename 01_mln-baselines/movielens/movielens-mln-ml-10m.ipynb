{
 "cells": [
  {
   "cell_type": "markdown",
   "metadata": {
    "collapsed": true,
    "pycharm": {
     "name": "#%% md\n"
    }
   },
   "source": [
    "# MovieLens MLN Recommendation via PyTorch\n",
    "\n",
    "adapted from https://github.com/fastai/fastai"
   ]
  },
  {
   "cell_type": "code",
   "execution_count": 1,
   "outputs": [],
   "source": [
    "import math\n",
    "import copy\n",
    "import pickle\n",
    "from pathlib import Path\n",
    "from itertools import zip_longest\n",
    "\n",
    "import numpy as np\n",
    "import pandas as pd\n",
    "import matplotlib.pyplot as plt\n",
    "from sklearn.model_selection import train_test_split\n",
    "\n",
    "import torch\n",
    "from torch import nn\n",
    "from torch import optim\n",
    "\n",
    "import time\n",
    "\n",
    "figure_path = '/home/weiss/git/thesis/doc/figures/'"
   ],
   "metadata": {
    "collapsed": false,
    "pycharm": {
     "name": "#%%\n"
    }
   }
  },
  {
   "cell_type": "code",
   "execution_count": 2,
   "outputs": [],
   "source": [
    "def set_random_seed(state=1):\n",
    "    gens = (np.random.seed, torch.manual_seed, torch.cuda.manual_seed)\n",
    "    for set_state in gens:\n",
    "        set_state(state)\n",
    "\n",
    "RANDOM_STATE = 2021\n",
    "set_random_seed(RANDOM_STATE)"
   ],
   "metadata": {
    "collapsed": false,
    "pycharm": {
     "name": "#%%\n"
    }
   }
  },
  {
   "cell_type": "code",
   "execution_count": 3,
   "outputs": [],
   "source": [
    "def read_data(path):\n",
    "    files = {}\n",
    "    path = Path(path)\n",
    "    for filename in path.glob('*'):\n",
    "        if filename.suffix == '.csv':\n",
    "            files[filename.stem] = pd.read_csv(filename)\n",
    "        elif filename.suffix == '.dat':\n",
    "            if filename.stem == 'ratings':\n",
    "                columns = ['userId', 'movieId', 'rating', 'timestamp']\n",
    "            else:\n",
    "                columns = ['movieId', 'title', 'genres']\n",
    "            data = pd.read_csv(filename, sep='::', names=columns, engine='python')\n",
    "            files[filename.stem] = data\n",
    "        elif filename.suffix == '.data':  # ml-100k\n",
    "            if filename.stem == 'u':\n",
    "                columns = ['userId', 'movieId', 'rating', 'timestamp']\n",
    "                data = pd.read_csv(filename, sep='\\t', names=columns, engine='python')\n",
    "                files['ratings'] = data\n",
    "        elif filename.suffix == '.item':  # ml-100k\n",
    "            if filename.stem == 'u':\n",
    "                columns = ['movieId', 'title', 'genres']\n",
    "                data = pd.read_csv(filename, sep='|', names=columns, engine='python')\n",
    "                files['movies'] = data\n",
    "    return files['ratings'], files['movies']"
   ],
   "metadata": {
    "collapsed": false,
    "pycharm": {
     "name": "#%%\n"
    }
   }
  },
  {
   "cell_type": "code",
   "execution_count": 4,
   "outputs": [],
   "source": [
    "dataset = 'ml-10m'\n",
    "\n",
    "# pick one of the available folders\n",
    "ratings, movies = read_data('/home/weiss/rs_data/'+dataset)"
   ],
   "metadata": {
    "collapsed": false,
    "pycharm": {
     "name": "#%%\n"
    }
   }
  },
  {
   "cell_type": "code",
   "execution_count": 5,
   "outputs": [
    {
     "data": {
      "text/plain": "   userId  movieId  rating  timestamp\n0       1     1193       5  978300760\n1       1      661       3  978302109\n2       1      914       3  978301968\n3       1     3408       4  978300275\n4       1     2355       5  978824291",
      "text/html": "<div>\n<style scoped>\n    .dataframe tbody tr th:only-of-type {\n        vertical-align: middle;\n    }\n\n    .dataframe tbody tr th {\n        vertical-align: top;\n    }\n\n    .dataframe thead th {\n        text-align: right;\n    }\n</style>\n<table border=\"1\" class=\"dataframe\">\n  <thead>\n    <tr style=\"text-align: right;\">\n      <th></th>\n      <th>userId</th>\n      <th>movieId</th>\n      <th>rating</th>\n      <th>timestamp</th>\n    </tr>\n  </thead>\n  <tbody>\n    <tr>\n      <th>0</th>\n      <td>1</td>\n      <td>1193</td>\n      <td>5</td>\n      <td>978300760</td>\n    </tr>\n    <tr>\n      <th>1</th>\n      <td>1</td>\n      <td>661</td>\n      <td>3</td>\n      <td>978302109</td>\n    </tr>\n    <tr>\n      <th>2</th>\n      <td>1</td>\n      <td>914</td>\n      <td>3</td>\n      <td>978301968</td>\n    </tr>\n    <tr>\n      <th>3</th>\n      <td>1</td>\n      <td>3408</td>\n      <td>4</td>\n      <td>978300275</td>\n    </tr>\n    <tr>\n      <th>4</th>\n      <td>1</td>\n      <td>2355</td>\n      <td>5</td>\n      <td>978824291</td>\n    </tr>\n  </tbody>\n</table>\n</div>"
     },
     "execution_count": 5,
     "metadata": {},
     "output_type": "execute_result"
    }
   ],
   "source": [
    "ratings.head()"
   ],
   "metadata": {
    "collapsed": false,
    "pycharm": {
     "name": "#%%\n"
    }
   }
  },
  {
   "cell_type": "code",
   "execution_count": 6,
   "outputs": [
    {
     "data": {
      "text/plain": "   movieId                               title                        genres\n0        1                    Toy Story (1995)   Animation|Children's|Comedy\n1        2                      Jumanji (1995)  Adventure|Children's|Fantasy\n2        3             Grumpier Old Men (1995)                Comedy|Romance\n3        4            Waiting to Exhale (1995)                  Comedy|Drama\n4        5  Father of the Bride Part II (1995)                        Comedy",
      "text/html": "<div>\n<style scoped>\n    .dataframe tbody tr th:only-of-type {\n        vertical-align: middle;\n    }\n\n    .dataframe tbody tr th {\n        vertical-align: top;\n    }\n\n    .dataframe thead th {\n        text-align: right;\n    }\n</style>\n<table border=\"1\" class=\"dataframe\">\n  <thead>\n    <tr style=\"text-align: right;\">\n      <th></th>\n      <th>movieId</th>\n      <th>title</th>\n      <th>genres</th>\n    </tr>\n  </thead>\n  <tbody>\n    <tr>\n      <th>0</th>\n      <td>1</td>\n      <td>Toy Story (1995)</td>\n      <td>Animation|Children's|Comedy</td>\n    </tr>\n    <tr>\n      <th>1</th>\n      <td>2</td>\n      <td>Jumanji (1995)</td>\n      <td>Adventure|Children's|Fantasy</td>\n    </tr>\n    <tr>\n      <th>2</th>\n      <td>3</td>\n      <td>Grumpier Old Men (1995)</td>\n      <td>Comedy|Romance</td>\n    </tr>\n    <tr>\n      <th>3</th>\n      <td>4</td>\n      <td>Waiting to Exhale (1995)</td>\n      <td>Comedy|Drama</td>\n    </tr>\n    <tr>\n      <th>4</th>\n      <td>5</td>\n      <td>Father of the Bride Part II (1995)</td>\n      <td>Comedy</td>\n    </tr>\n  </tbody>\n</table>\n</div>"
     },
     "execution_count": 6,
     "metadata": {},
     "output_type": "execute_result"
    }
   ],
   "source": [
    "movies.head()"
   ],
   "metadata": {
    "collapsed": false,
    "pycharm": {
     "name": "#%%\n"
    }
   }
  },
  {
   "cell_type": "code",
   "execution_count": 7,
   "outputs": [
    {
     "name": "stdout",
     "output_type": "stream",
     "text": [
      "Embeddings: 6040 users, 3706 movies\n",
      "Dataset shape: (1000209, 2)\n",
      "Target shape: (1000209,)\n"
     ]
    }
   ],
   "source": [
    "def create_dataset(ratings, top=None):\n",
    "    if top is not None:\n",
    "        ratings.groupby('userId')['rating'].count()\n",
    "\n",
    "    unique_users = ratings.userId.unique()\n",
    "    user_to_index = {old: new for new, old in enumerate(unique_users)}\n",
    "    new_users = ratings.userId.map(user_to_index)\n",
    "\n",
    "    unique_movies = ratings.movieId.unique()\n",
    "    movie_to_index = {old: new for new, old in enumerate(unique_movies)}\n",
    "    new_movies = ratings.movieId.map(movie_to_index)\n",
    "\n",
    "    n_users = unique_users.shape[0]\n",
    "    n_movies = unique_movies.shape[0]\n",
    "\n",
    "    X = pd.DataFrame({'user_id': new_users, 'movie_id': new_movies})\n",
    "    y = ratings['rating'].astype(np.float32)\n",
    "    return (n_users, n_movies), (X, y), (user_to_index, movie_to_index)\n",
    "\n",
    "(n, m), (X, y), _ = create_dataset(ratings)\n",
    "print(f'Embeddings: {n} users, {m} movies')\n",
    "print(f'Dataset shape: {X.shape}')\n",
    "print(f'Target shape: {y.shape}')"
   ],
   "metadata": {
    "collapsed": false,
    "pycharm": {
     "name": "#%%\n"
    }
   }
  },
  {
   "cell_type": "code",
   "execution_count": 8,
   "outputs": [],
   "source": [
    "X_train, X_valid, y_train, y_valid = train_test_split(X, y, test_size=0.4, random_state=RANDOM_STATE)\n",
    "X_valid, X_test, y_valid, y_test = train_test_split(X_valid, y_valid, test_size=0.5, random_state=RANDOM_STATE)\n",
    "datasets = {'train': (X_train, y_train), 'val': (X_valid, y_valid), 'test': (X_test, y_test)}\n",
    "dataset_sizes = {'train': len(X_train), 'val': len(X_valid), 'test': len(X_test)}\n"
   ],
   "metadata": {
    "collapsed": false,
    "pycharm": {
     "name": "#%%\n"
    }
   }
  },
  {
   "cell_type": "code",
   "execution_count": 9,
   "outputs": [],
   "source": [
    "class RatingsIterator:\n",
    "\n",
    "    def __init__(self, X, y, batch_size=32, shuffle=True):\n",
    "        X, y = np.asarray(X), np.asarray(y)\n",
    "        if shuffle:\n",
    "            index = np.random.permutation(X.shape[0])\n",
    "            X, y = X[index], y[index]\n",
    "        self.X = X\n",
    "        self.y = y\n",
    "        self.batch_size = batch_size\n",
    "        self.shuffle = shuffle\n",
    "        self.n_batches = int(math.ceil(X.shape[0] // batch_size))\n",
    "        self._current = 0\n",
    "\n",
    "    def __iter__(self):\n",
    "        return self\n",
    "\n",
    "    def __next__(self):\n",
    "        return self.next()\n",
    "\n",
    "    def next(self):\n",
    "        if self._current >= self.n_batches:\n",
    "            raise StopIteration()\n",
    "        k = self._current\n",
    "        self._current += 1\n",
    "        bs = self.batch_size\n",
    "        return self.X[k*bs:(k + 1)*bs], self.y[k*bs:(k + 1)*bs]"
   ],
   "metadata": {
    "collapsed": false,
    "pycharm": {
     "name": "#%%\n"
    }
   }
  },
  {
   "cell_type": "code",
   "execution_count": 10,
   "outputs": [],
   "source": [
    "def batches(X, y, bs=32, shuffle=True):\n",
    "    for xb, yb in RatingsIterator(X, y, bs, shuffle):\n",
    "        xb = torch.LongTensor(xb)\n",
    "        yb = torch.FloatTensor(yb)\n",
    "        yield xb, yb.view(-1, 1)"
   ],
   "metadata": {
    "collapsed": false,
    "pycharm": {
     "name": "#%%\n"
    }
   }
  },
  {
   "cell_type": "code",
   "execution_count": 11,
   "outputs": [],
   "source": [
    "class RecommenderNet(nn.Module):\n",
    "    \"\"\"\n",
    "    Creates dense MLN with embedding layers.\n",
    "\n",
    "    Args:\n",
    "        n_users:\n",
    "            Number of unique users in the dataset.\n",
    "\n",
    "        n_movies:\n",
    "            Number of unique movies in the dataset.\n",
    "\n",
    "        n_factors:\n",
    "            Number of columns in the embeddings matrix.\n",
    "\n",
    "        embedding_dropout:\n",
    "            Dropout rate to apply right after embeddings layer.\n",
    "\n",
    "        hidden:\n",
    "            A single integer or a list of integers defining the number of\n",
    "            units in hidden layer(s).\n",
    "\n",
    "        dropouts:\n",
    "            A single integer or a list of integers defining the dropout\n",
    "            layers rates applied right after each of hidden layers.\n",
    "\n",
    "    \"\"\"\n",
    "    def __init__(self, n_users, n_movies,\n",
    "                 n_factors=50, embedding_dropout=0.02,\n",
    "                 hidden=10, dropouts=0.2):\n",
    "\n",
    "        super().__init__()\n",
    "        hidden = get_list(hidden)\n",
    "        dropouts = get_list(dropouts)\n",
    "        n_last = hidden[-1]\n",
    "\n",
    "        def gen_layers(n_in):\n",
    "            \"\"\"\n",
    "            A generator that yields a sequence of hidden layers and\n",
    "            their activations/dropouts.\n",
    "\n",
    "            Note that the function captures `hidden` and `dropouts`\n",
    "            values from the outer scope.\n",
    "            \"\"\"\n",
    "            nonlocal hidden, dropouts\n",
    "            assert len(dropouts) <= len(hidden)\n",
    "\n",
    "            for n_out, rate in zip_longest(hidden, dropouts):\n",
    "                yield nn.Linear(n_in, n_out)\n",
    "                yield nn.ReLU()\n",
    "                if rate is not None and rate > 0.:\n",
    "                    yield nn.Dropout(rate)\n",
    "                n_in = n_out\n",
    "\n",
    "        self.u = nn.Embedding(n_users, n_factors)\n",
    "        self.m = nn.Embedding(n_movies, n_factors)\n",
    "        self.drop = nn.Dropout(embedding_dropout)\n",
    "        self.hidden = nn.Sequential(*list(gen_layers(n_factors * 2)))\n",
    "        self.fc = nn.Linear(n_last, 1)\n",
    "        self.relu = nn.ReLU()\n",
    "        self._init()\n",
    "\n",
    "    def forward(self, users, movies, minmax=None):\n",
    "        features = torch.cat([self.u(users), self.m(movies)], dim=1)\n",
    "        x = self.drop(features)\n",
    "        x = self.hidden(x)\n",
    "        out = torch.sigmoid(self.fc(x))\n",
    "        #out = self.relu(self.fc(x))  # relu delivers worse rsme\n",
    "        if minmax is not None:\n",
    "            min_rating, max_rating = minmax\n",
    "            out = out*(max_rating - min_rating + 1) + min_rating - 0.5\n",
    "        return out\n",
    "\n",
    "    def _init(self):\n",
    "        \"\"\"\n",
    "        Setup embeddings and hidden layers with reasonable initial values.\n",
    "        \"\"\"\n",
    "\n",
    "        def init(m):\n",
    "            if type(m) == nn.Linear:\n",
    "                torch.nn.init.xavier_uniform_(m.weight)\n",
    "                m.bias.data.fill_(0.01)\n",
    "\n",
    "        self.u.weight.data.uniform_(-0.05, 0.05)\n",
    "        self.m.weight.data.uniform_(-0.05, 0.05)\n",
    "        self.hidden.apply(init)\n",
    "        init(self.fc)\n",
    "\n",
    "\n",
    "def get_list(n):\n",
    "    if isinstance(n, (int, float)):\n",
    "        return [n]\n",
    "    elif hasattr(n, '__iter__'):\n",
    "        return list(n)\n",
    "    raise TypeError('layers configuraiton should be a single number or a list of numbers')"
   ],
   "metadata": {
    "collapsed": false,
    "pycharm": {
     "name": "#%%\n"
    }
   }
  },
  {
   "cell_type": "code",
   "execution_count": 12,
   "outputs": [],
   "source": [
    "def plot_lr(schedule):\n",
    "    ts = list(range(1000))\n",
    "    y = [schedule(t, 0.001) for t in ts]\n",
    "    plt.plot(ts, y)\n"
   ],
   "metadata": {
    "collapsed": false,
    "pycharm": {
     "name": "#%%\n"
    }
   }
  },
  {
   "cell_type": "code",
   "execution_count": 13,
   "outputs": [
    {
     "data": {
      "text/plain": "(1.0, 5.0)"
     },
     "execution_count": 13,
     "metadata": {},
     "output_type": "execute_result"
    }
   ],
   "source": [
    "minmax = float(ratings.rating.min()), float(ratings.rating.max())\n",
    "minmax"
   ],
   "metadata": {
    "collapsed": false,
    "pycharm": {
     "name": "#%%\n"
    }
   }
  },
  {
   "cell_type": "code",
   "execution_count": 14,
   "outputs": [],
   "source": [
    "# small net\n",
    "\n",
    "start = time.time()\n",
    "net = RecommenderNet(\n",
    "    n_users=n, n_movies=m,\n",
    "    n_factors=10, hidden=[10],\n",
    "    embedding_dropout=0.05, dropouts=[0.3])"
   ],
   "metadata": {
    "collapsed": false,
    "pycharm": {
     "name": "#%%\n"
    }
   }
  },
  {
   "cell_type": "code",
   "execution_count": 15,
   "outputs": [],
   "source": [
    "lr = 1e-3\n",
    "wd = 1e-5\n",
    "bs = 4096\n",
    "n_epochs = 300\n",
    "patience = 300\n",
    "no_improvements = 0\n",
    "best_loss = np.inf\n",
    "best_weights = None\n",
    "history = []\n",
    "lr_history = []\n",
    "\n",
    "device = torch.device('cuda:0' if torch.cuda.is_available() else 'cpu')\n",
    "\n",
    "net.to(device)\n",
    "criterion = nn.MSELoss(reduction='sum')\n",
    "optimizer = optim.Adam(net.parameters(), lr=lr, weight_decay=wd)"
   ],
   "metadata": {
    "collapsed": false,
    "pycharm": {
     "name": "#%%\n"
    }
   }
  },
  {
   "cell_type": "code",
   "execution_count": 16,
   "outputs": [
    {
     "name": "stdout",
     "output_type": "stream",
     "text": [
      "loss improvement on epoch: 1\n",
      "[001/300] train: 1.1976 - val: 0.9426\n",
      "loss improvement on epoch: 2\n",
      "[002/300] train: 0.9012 - val: 0.8667\n",
      "loss improvement on epoch: 3\n",
      "[003/300] train: 0.8622 - val: 0.8519\n",
      "loss improvement on epoch: 4\n",
      "[004/300] train: 0.8468 - val: 0.8432\n",
      "loss improvement on epoch: 5\n",
      "[005/300] train: 0.8368 - val: 0.8390\n",
      "loss improvement on epoch: 6\n",
      "[006/300] train: 0.8290 - val: 0.8346\n",
      "loss improvement on epoch: 7\n",
      "[007/300] train: 0.8233 - val: 0.8299\n",
      "[008/300] train: 0.8203 - val: 0.8301\n",
      "loss improvement on epoch: 9\n",
      "[009/300] train: 0.8160 - val: 0.8289\n",
      "loss improvement on epoch: 10\n",
      "[010/300] train: 0.8138 - val: 0.8273\n",
      "loss improvement on epoch: 11\n",
      "[011/300] train: 0.8118 - val: 0.8265\n",
      "[012/300] train: 0.8099 - val: 0.8266\n",
      "loss improvement on epoch: 13\n",
      "[013/300] train: 0.8088 - val: 0.8258\n",
      "[014/300] train: 0.8074 - val: 0.8259\n",
      "loss improvement on epoch: 15\n",
      "[015/300] train: 0.8059 - val: 0.8238\n",
      "[016/300] train: 0.8056 - val: 0.8245\n",
      "[017/300] train: 0.8046 - val: 0.8250\n",
      "[018/300] train: 0.8028 - val: 0.8240\n",
      "[019/300] train: 0.8018 - val: 0.8239\n",
      "loss improvement on epoch: 20\n",
      "[020/300] train: 0.8001 - val: 0.8232\n",
      "[021/300] train: 0.7989 - val: 0.8242\n",
      "loss improvement on epoch: 22\n",
      "[022/300] train: 0.7990 - val: 0.8232\n",
      "loss improvement on epoch: 23\n",
      "[023/300] train: 0.7984 - val: 0.8230\n",
      "loss improvement on epoch: 24\n",
      "[024/300] train: 0.7969 - val: 0.8230\n",
      "[025/300] train: 0.7962 - val: 0.8234\n",
      "[026/300] train: 0.7947 - val: 0.8236\n",
      "[027/300] train: 0.7939 - val: 0.8237\n",
      "[028/300] train: 0.7932 - val: 0.8231\n",
      "loss improvement on epoch: 29\n",
      "[029/300] train: 0.7919 - val: 0.8223\n",
      "[030/300] train: 0.7919 - val: 0.8233\n",
      "[031/300] train: 0.7903 - val: 0.8241\n",
      "[032/300] train: 0.7891 - val: 0.8233\n",
      "[033/300] train: 0.7882 - val: 0.8228\n",
      "[034/300] train: 0.7879 - val: 0.8232\n",
      "loss improvement on epoch: 35\n",
      "[035/300] train: 0.7881 - val: 0.8217\n",
      "[036/300] train: 0.7873 - val: 0.8227\n",
      "loss improvement on epoch: 37\n",
      "[037/300] train: 0.7863 - val: 0.8214\n",
      "[038/300] train: 0.7863 - val: 0.8250\n",
      "[039/300] train: 0.7856 - val: 0.8225\n",
      "[040/300] train: 0.7844 - val: 0.8231\n",
      "[041/300] train: 0.7839 - val: 0.8233\n",
      "loss improvement on epoch: 42\n",
      "[042/300] train: 0.7839 - val: 0.8213\n",
      "[043/300] train: 0.7834 - val: 0.8225\n",
      "[044/300] train: 0.7826 - val: 0.8230\n",
      "[045/300] train: 0.7813 - val: 0.8230\n",
      "[046/300] train: 0.7811 - val: 0.8226\n",
      "[047/300] train: 0.7806 - val: 0.8235\n",
      "[048/300] train: 0.7801 - val: 0.8217\n",
      "[049/300] train: 0.7796 - val: 0.8233\n",
      "[050/300] train: 0.7790 - val: 0.8219\n",
      "[051/300] train: 0.7792 - val: 0.8222\n",
      "[052/300] train: 0.7785 - val: 0.8214\n",
      "[053/300] train: 0.7785 - val: 0.8215\n",
      "[054/300] train: 0.7771 - val: 0.8239\n",
      "[055/300] train: 0.7774 - val: 0.8236\n",
      "[056/300] train: 0.7774 - val: 0.8227\n",
      "[057/300] train: 0.7767 - val: 0.8232\n",
      "[058/300] train: 0.7773 - val: 0.8241\n",
      "[059/300] train: 0.7763 - val: 0.8219\n",
      "[060/300] train: 0.7754 - val: 0.8243\n",
      "[061/300] train: 0.7748 - val: 0.8235\n",
      "[062/300] train: 0.7753 - val: 0.8240\n",
      "[063/300] train: 0.7747 - val: 0.8256\n",
      "[064/300] train: 0.7738 - val: 0.8231\n",
      "[065/300] train: 0.7747 - val: 0.8238\n",
      "[066/300] train: 0.7734 - val: 0.8229\n",
      "[067/300] train: 0.7731 - val: 0.8233\n",
      "[068/300] train: 0.7741 - val: 0.8242\n",
      "[069/300] train: 0.7730 - val: 0.8239\n",
      "[070/300] train: 0.7730 - val: 0.8237\n",
      "[071/300] train: 0.7735 - val: 0.8253\n",
      "[072/300] train: 0.7717 - val: 0.8242\n",
      "[073/300] train: 0.7720 - val: 0.8236\n",
      "[074/300] train: 0.7714 - val: 0.8245\n",
      "[075/300] train: 0.7720 - val: 0.8255\n",
      "[076/300] train: 0.7709 - val: 0.8252\n",
      "[077/300] train: 0.7721 - val: 0.8249\n",
      "[078/300] train: 0.7718 - val: 0.8242\n",
      "[079/300] train: 0.7711 - val: 0.8223\n",
      "[080/300] train: 0.7705 - val: 0.8239\n",
      "[081/300] train: 0.7706 - val: 0.8246\n",
      "[082/300] train: 0.7705 - val: 0.8242\n",
      "[083/300] train: 0.7701 - val: 0.8253\n",
      "[084/300] train: 0.7699 - val: 0.8238\n",
      "[085/300] train: 0.7704 - val: 0.8248\n",
      "[086/300] train: 0.7703 - val: 0.8258\n",
      "[087/300] train: 0.7702 - val: 0.8255\n",
      "[088/300] train: 0.7703 - val: 0.8252\n",
      "[089/300] train: 0.7698 - val: 0.8253\n",
      "[090/300] train: 0.7687 - val: 0.8249\n",
      "[091/300] train: 0.7688 - val: 0.8283\n",
      "[092/300] train: 0.7702 - val: 0.8269\n",
      "[093/300] train: 0.7688 - val: 0.8258\n",
      "[094/300] train: 0.7691 - val: 0.8271\n",
      "[095/300] train: 0.7696 - val: 0.8255\n",
      "[096/300] train: 0.7690 - val: 0.8232\n",
      "[097/300] train: 0.7693 - val: 0.8264\n",
      "[098/300] train: 0.7691 - val: 0.8258\n",
      "[099/300] train: 0.7692 - val: 0.8256\n",
      "[100/300] train: 0.7690 - val: 0.8252\n",
      "[101/300] train: 0.7697 - val: 0.8269\n",
      "[102/300] train: 0.7678 - val: 0.8269\n",
      "[103/300] train: 0.7679 - val: 0.8262\n",
      "[104/300] train: 0.7686 - val: 0.8265\n",
      "[105/300] train: 0.7692 - val: 0.8257\n",
      "[106/300] train: 0.7677 - val: 0.8259\n",
      "[107/300] train: 0.7676 - val: 0.8270\n",
      "[108/300] train: 0.7690 - val: 0.8242\n",
      "[109/300] train: 0.7688 - val: 0.8254\n",
      "[110/300] train: 0.7677 - val: 0.8253\n",
      "[111/300] train: 0.7679 - val: 0.8252\n",
      "[112/300] train: 0.7669 - val: 0.8265\n",
      "[113/300] train: 0.7668 - val: 0.8264\n",
      "[114/300] train: 0.7681 - val: 0.8268\n",
      "[115/300] train: 0.7671 - val: 0.8260\n",
      "[116/300] train: 0.7680 - val: 0.8264\n",
      "[117/300] train: 0.7669 - val: 0.8276\n",
      "[118/300] train: 0.7672 - val: 0.8254\n",
      "[119/300] train: 0.7674 - val: 0.8278\n",
      "[120/300] train: 0.7683 - val: 0.8286\n",
      "[121/300] train: 0.7666 - val: 0.8265\n",
      "[122/300] train: 0.7671 - val: 0.8259\n",
      "[123/300] train: 0.7663 - val: 0.8254\n",
      "[124/300] train: 0.7667 - val: 0.8272\n",
      "[125/300] train: 0.7662 - val: 0.8275\n",
      "[126/300] train: 0.7681 - val: 0.8259\n",
      "[127/300] train: 0.7671 - val: 0.8259\n",
      "[128/300] train: 0.7663 - val: 0.8268\n",
      "[129/300] train: 0.7658 - val: 0.8262\n",
      "[130/300] train: 0.7658 - val: 0.8277\n",
      "[131/300] train: 0.7665 - val: 0.8260\n",
      "[132/300] train: 0.7656 - val: 0.8286\n",
      "[133/300] train: 0.7657 - val: 0.8274\n",
      "[134/300] train: 0.7657 - val: 0.8278\n",
      "[135/300] train: 0.7660 - val: 0.8272\n",
      "[136/300] train: 0.7661 - val: 0.8282\n",
      "[137/300] train: 0.7661 - val: 0.8280\n",
      "[138/300] train: 0.7654 - val: 0.8269\n",
      "[139/300] train: 0.7660 - val: 0.8288\n",
      "[140/300] train: 0.7650 - val: 0.8262\n",
      "[141/300] train: 0.7656 - val: 0.8283\n",
      "[142/300] train: 0.7651 - val: 0.8278\n",
      "[143/300] train: 0.7653 - val: 0.8295\n",
      "[144/300] train: 0.7655 - val: 0.8277\n",
      "[145/300] train: 0.7652 - val: 0.8266\n",
      "[146/300] train: 0.7657 - val: 0.8284\n",
      "[147/300] train: 0.7654 - val: 0.8270\n",
      "[148/300] train: 0.7648 - val: 0.8279\n",
      "[149/300] train: 0.7648 - val: 0.8251\n",
      "[150/300] train: 0.7644 - val: 0.8265\n",
      "[151/300] train: 0.7659 - val: 0.8269\n",
      "[152/300] train: 0.7633 - val: 0.8270\n",
      "[153/300] train: 0.7655 - val: 0.8277\n",
      "[154/300] train: 0.7643 - val: 0.8271\n",
      "[155/300] train: 0.7653 - val: 0.8284\n",
      "[156/300] train: 0.7649 - val: 0.8268\n",
      "[157/300] train: 0.7649 - val: 0.8276\n",
      "[158/300] train: 0.7650 - val: 0.8272\n",
      "[159/300] train: 0.7652 - val: 0.8313\n",
      "[160/300] train: 0.7644 - val: 0.8295\n",
      "[161/300] train: 0.7649 - val: 0.8293\n",
      "[162/300] train: 0.7632 - val: 0.8270\n",
      "[163/300] train: 0.7643 - val: 0.8272\n",
      "[164/300] train: 0.7632 - val: 0.8298\n",
      "[165/300] train: 0.7631 - val: 0.8301\n",
      "[166/300] train: 0.7644 - val: 0.8277\n",
      "[167/300] train: 0.7645 - val: 0.8282\n",
      "[168/300] train: 0.7639 - val: 0.8286\n",
      "[169/300] train: 0.7645 - val: 0.8288\n",
      "[170/300] train: 0.7636 - val: 0.8292\n",
      "[171/300] train: 0.7648 - val: 0.8290\n",
      "[172/300] train: 0.7640 - val: 0.8279\n",
      "[173/300] train: 0.7637 - val: 0.8287\n",
      "[174/300] train: 0.7642 - val: 0.8268\n",
      "[175/300] train: 0.7637 - val: 0.8295\n",
      "[176/300] train: 0.7642 - val: 0.8259\n",
      "[177/300] train: 0.7640 - val: 0.8264\n",
      "[178/300] train: 0.7640 - val: 0.8284\n",
      "[179/300] train: 0.7637 - val: 0.8275\n",
      "[180/300] train: 0.7626 - val: 0.8286\n",
      "[181/300] train: 0.7640 - val: 0.8275\n",
      "[182/300] train: 0.7638 - val: 0.8292\n",
      "[183/300] train: 0.7627 - val: 0.8290\n",
      "[184/300] train: 0.7641 - val: 0.8302\n",
      "[185/300] train: 0.7643 - val: 0.8293\n",
      "[186/300] train: 0.7635 - val: 0.8282\n",
      "[187/300] train: 0.7638 - val: 0.8267\n",
      "[188/300] train: 0.7636 - val: 0.8297\n",
      "[189/300] train: 0.7641 - val: 0.8288\n",
      "[190/300] train: 0.7642 - val: 0.8310\n",
      "[191/300] train: 0.7629 - val: 0.8271\n",
      "[192/300] train: 0.7635 - val: 0.8310\n",
      "[193/300] train: 0.7633 - val: 0.8279\n",
      "[194/300] train: 0.7634 - val: 0.8287\n",
      "[195/300] train: 0.7639 - val: 0.8279\n",
      "[196/300] train: 0.7623 - val: 0.8275\n",
      "[197/300] train: 0.7641 - val: 0.8283\n",
      "[198/300] train: 0.7626 - val: 0.8293\n",
      "[199/300] train: 0.7631 - val: 0.8298\n",
      "[200/300] train: 0.7634 - val: 0.8278\n",
      "[201/300] train: 0.7622 - val: 0.8287\n",
      "[202/300] train: 0.7629 - val: 0.8274\n",
      "[203/300] train: 0.7629 - val: 0.8271\n",
      "[204/300] train: 0.7634 - val: 0.8289\n",
      "[205/300] train: 0.7626 - val: 0.8285\n",
      "[206/300] train: 0.7614 - val: 0.8301\n",
      "[207/300] train: 0.7623 - val: 0.8278\n",
      "[208/300] train: 0.7615 - val: 0.8282\n",
      "[209/300] train: 0.7633 - val: 0.8265\n",
      "[210/300] train: 0.7629 - val: 0.8290\n",
      "[211/300] train: 0.7628 - val: 0.8280\n",
      "[212/300] train: 0.7625 - val: 0.8288\n",
      "[213/300] train: 0.7626 - val: 0.8294\n",
      "[214/300] train: 0.7630 - val: 0.8274\n",
      "[215/300] train: 0.7623 - val: 0.8290\n",
      "[216/300] train: 0.7617 - val: 0.8294\n",
      "[217/300] train: 0.7620 - val: 0.8275\n",
      "[218/300] train: 0.7622 - val: 0.8287\n",
      "[219/300] train: 0.7627 - val: 0.8299\n",
      "[220/300] train: 0.7625 - val: 0.8293\n",
      "[221/300] train: 0.7614 - val: 0.8272\n",
      "[222/300] train: 0.7623 - val: 0.8284\n",
      "[223/300] train: 0.7634 - val: 0.8277\n",
      "[224/300] train: 0.7629 - val: 0.8270\n",
      "[225/300] train: 0.7615 - val: 0.8285\n",
      "[226/300] train: 0.7614 - val: 0.8285\n",
      "[227/300] train: 0.7630 - val: 0.8310\n",
      "[228/300] train: 0.7623 - val: 0.8289\n",
      "[229/300] train: 0.7637 - val: 0.8295\n",
      "[230/300] train: 0.7609 - val: 0.8277\n",
      "[231/300] train: 0.7630 - val: 0.8297\n",
      "[232/300] train: 0.7621 - val: 0.8282\n",
      "[233/300] train: 0.7616 - val: 0.8311\n",
      "[234/300] train: 0.7622 - val: 0.8278\n",
      "[235/300] train: 0.7619 - val: 0.8294\n",
      "[236/300] train: 0.7625 - val: 0.8285\n",
      "[237/300] train: 0.7624 - val: 0.8295\n",
      "[238/300] train: 0.7623 - val: 0.8301\n",
      "[239/300] train: 0.7624 - val: 0.8282\n",
      "[240/300] train: 0.7621 - val: 0.8296\n",
      "[241/300] train: 0.7619 - val: 0.8316\n",
      "[242/300] train: 0.7614 - val: 0.8306\n",
      "[243/300] train: 0.7619 - val: 0.8286\n",
      "[244/300] train: 0.7614 - val: 0.8293\n",
      "[245/300] train: 0.7626 - val: 0.8289\n",
      "[246/300] train: 0.7629 - val: 0.8280\n",
      "[247/300] train: 0.7619 - val: 0.8277\n",
      "[248/300] train: 0.7625 - val: 0.8297\n",
      "[249/300] train: 0.7625 - val: 0.8291\n",
      "[250/300] train: 0.7608 - val: 0.8309\n",
      "[251/300] train: 0.7612 - val: 0.8325\n",
      "[252/300] train: 0.7605 - val: 0.8293\n",
      "[253/300] train: 0.7617 - val: 0.8281\n",
      "[254/300] train: 0.7614 - val: 0.8294\n",
      "[255/300] train: 0.7612 - val: 0.8305\n",
      "[256/300] train: 0.7603 - val: 0.8297\n",
      "[257/300] train: 0.7619 - val: 0.8298\n",
      "[258/300] train: 0.7609 - val: 0.8295\n",
      "[259/300] train: 0.7599 - val: 0.8294\n",
      "[260/300] train: 0.7612 - val: 0.8306\n",
      "[261/300] train: 0.7611 - val: 0.8298\n",
      "[262/300] train: 0.7612 - val: 0.8289\n",
      "[263/300] train: 0.7606 - val: 0.8301\n",
      "[264/300] train: 0.7623 - val: 0.8300\n",
      "[265/300] train: 0.7612 - val: 0.8309\n",
      "[266/300] train: 0.7609 - val: 0.8294\n",
      "[267/300] train: 0.7615 - val: 0.8289\n",
      "[268/300] train: 0.7602 - val: 0.8291\n",
      "[269/300] train: 0.7614 - val: 0.8298\n",
      "[270/300] train: 0.7611 - val: 0.8290\n",
      "[271/300] train: 0.7633 - val: 0.8286\n",
      "[272/300] train: 0.7616 - val: 0.8313\n",
      "[273/300] train: 0.7617 - val: 0.8300\n",
      "[274/300] train: 0.7604 - val: 0.8295\n",
      "[275/300] train: 0.7621 - val: 0.8298\n",
      "[276/300] train: 0.7593 - val: 0.8288\n",
      "[277/300] train: 0.7602 - val: 0.8276\n",
      "[278/300] train: 0.7613 - val: 0.8300\n",
      "[279/300] train: 0.7604 - val: 0.8285\n",
      "[280/300] train: 0.7616 - val: 0.8302\n",
      "[281/300] train: 0.7610 - val: 0.8298\n",
      "[282/300] train: 0.7603 - val: 0.8324\n",
      "[283/300] train: 0.7610 - val: 0.8286\n",
      "[284/300] train: 0.7607 - val: 0.8307\n",
      "[285/300] train: 0.7616 - val: 0.8303\n",
      "[286/300] train: 0.7606 - val: 0.8289\n",
      "[287/300] train: 0.7610 - val: 0.8322\n",
      "[288/300] train: 0.7604 - val: 0.8287\n",
      "[289/300] train: 0.7605 - val: 0.8316\n",
      "[290/300] train: 0.7615 - val: 0.8292\n",
      "[291/300] train: 0.7619 - val: 0.8294\n",
      "[292/300] train: 0.7600 - val: 0.8296\n",
      "[293/300] train: 0.7607 - val: 0.8286\n",
      "[294/300] train: 0.7597 - val: 0.8318\n",
      "[295/300] train: 0.7611 - val: 0.8273\n",
      "[296/300] train: 0.7611 - val: 0.8311\n",
      "[297/300] train: 0.7595 - val: 0.8305\n",
      "[298/300] train: 0.7612 - val: 0.8307\n",
      "[299/300] train: 0.7599 - val: 0.8306\n",
      "[300/300] train: 0.7598 - val: 0.8301\n"
     ]
    }
   ],
   "source": [
    "for epoch in range(n_epochs):\n",
    "    stats = {'epoch': epoch + 1, 'total': n_epochs}\n",
    "\n",
    "    for phase in ('train', 'val'):\n",
    "        if phase == 'train':\n",
    "          training = True\n",
    "        else:\n",
    "          training = False\n",
    "        running_loss = 0\n",
    "        n_batches = 0\n",
    "        for batch in batches(*datasets[phase], shuffle=training, bs=bs):\n",
    "            x_batch, y_batch = [b.to(device) for b in batch]\n",
    "            optimizer.zero_grad()\n",
    "            # compute gradients only during 'train' phase\n",
    "            with torch.set_grad_enabled(training):\n",
    "                outputs = net(x_batch[:,0], x_batch[:,1], minmax)\n",
    "                loss = criterion(outputs, y_batch)\n",
    "                # don't update weights and rates when in 'val' phase\n",
    "                if training:\n",
    "                    #scheduler.step()\n",
    "                    loss.backward()\n",
    "                    optimizer.step()\n",
    "                    #lr_history.extend(scheduler.get_lr())\n",
    "            running_loss += loss.item()\n",
    "        epoch_loss = running_loss / dataset_sizes[phase]\n",
    "        stats[phase] = epoch_loss\n",
    "        # early stopping: save weights of the best model so far\n",
    "        if phase == 'val':\n",
    "            if epoch_loss < best_loss:\n",
    "                print('loss improvement on epoch: %d' % (epoch + 1))\n",
    "                best_loss = epoch_loss\n",
    "                best_weights = copy.deepcopy(net.state_dict())\n",
    "                no_improvements = 0\n",
    "            else:\n",
    "                no_improvements += 1\n",
    "    history.append(stats)\n",
    "    with open(f'logs/small.txt', 'a') as f:\n",
    "        print('[{epoch:03d}/{total:03d}] train: {train:.4f} - val: {val:.4f}'.format(**stats))\n",
    "        f.write('[{epoch:03d}/{total:03d}] train: {train:.4f} - val: {val:.4f}'.format(**stats))\n",
    "    if no_improvements >= patience:\n",
    "        print('early stopping after epoch {epoch:03d}'.format(**stats))\n",
    "        break"
   ],
   "metadata": {
    "collapsed": false,
    "pycharm": {
     "name": "#%%\n"
    }
   }
  },
  {
   "cell_type": "code",
   "execution_count": 17,
   "outputs": [
    {
     "data": {
      "text/plain": "<All keys matched successfully>"
     },
     "execution_count": 17,
     "metadata": {},
     "output_type": "execute_result"
    }
   ],
   "source": [
    "net.load_state_dict(best_weights)"
   ],
   "metadata": {
    "collapsed": false,
    "pycharm": {
     "name": "#%%\n"
    }
   }
  },
  {
   "cell_type": "code",
   "execution_count": 18,
   "outputs": [],
   "source": [
    "groud_truth, predictions = [], []\n",
    "\n",
    "with torch.no_grad():\n",
    "    for batch in batches(*datasets['val'], shuffle=False, bs=bs):\n",
    "        x_batch, y_batch = [b.to(device) for b in batch]\n",
    "        outputs = net(x_batch[:, 0], x_batch[:, 1], minmax)\n",
    "        groud_truth.extend(y_batch.tolist())\n",
    "        predictions.extend(outputs.tolist())\n",
    "\n",
    "groud_truth = np.asarray(groud_truth).ravel()\n",
    "predictions = np.asarray(predictions).ravel()"
   ],
   "metadata": {
    "collapsed": false,
    "pycharm": {
     "name": "#%%\n"
    }
   }
  },
  {
   "cell_type": "code",
   "execution_count": 19,
   "outputs": [
    {
     "name": "stdout",
     "output_type": "stream",
     "text": [
      "Validation RMSE: 0.9145\n"
     ]
    }
   ],
   "source": [
    "valid_loss = np.sqrt(np.mean((predictions - groud_truth)**2))\n",
    "print(f'Validation RMSE: {valid_loss:.4f}')"
   ],
   "metadata": {
    "collapsed": false,
    "pycharm": {
     "name": "#%%\n"
    }
   }
  },
  {
   "cell_type": "code",
   "execution_count": 20,
   "outputs": [],
   "source": [
    "groud_truth, predictions = [], []\n",
    "\n",
    "with torch.no_grad():\n",
    "    for batch in batches(*datasets['test'], shuffle=False, bs=bs):\n",
    "        x_batch, y_batch = [b.to(device) for b in batch]\n",
    "        outputs = net(x_batch[:, 0], x_batch[:, 1], minmax)\n",
    "        groud_truth.extend(y_batch.tolist())\n",
    "        predictions.extend(outputs.tolist())\n",
    "\n",
    "groud_truth = np.asarray(groud_truth).ravel()\n",
    "predictions = np.asarray(predictions).ravel()"
   ],
   "metadata": {
    "collapsed": false,
    "pycharm": {
     "name": "#%%\n"
    }
   }
  },
  {
   "cell_type": "code",
   "execution_count": 21,
   "outputs": [
    {
     "name": "stdout",
     "output_type": "stream",
     "text": [
      "Small Test RMSE: 0.9168\n"
     ]
    }
   ],
   "source": [
    "final_loss = np.sqrt(np.mean((predictions - groud_truth)**2))\n",
    "print(f'Small Test RMSE: {final_loss:.4f}')"
   ],
   "metadata": {
    "collapsed": false,
    "pycharm": {
     "name": "#%%\n"
    }
   }
  },
  {
   "cell_type": "code",
   "execution_count": 22,
   "outputs": [
    {
     "name": "stdout",
     "output_type": "stream",
     "text": [
      "Small duration: 87.041\n"
     ]
    }
   ],
   "source": [
    "print(f'Small duration: {round(time.time() - start, 4)}')"
   ],
   "metadata": {
    "collapsed": false,
    "pycharm": {
     "name": "#%%\n"
    }
   }
  },
  {
   "cell_type": "code",
   "execution_count": 23,
   "outputs": [
    {
     "data": {
      "text/plain": "<Figure size 432x288 with 1 Axes>",
      "image/png": "[encoded data removed]"
     },
     "metadata": {},
     "output_type": "display_data"
    }
   ],
   "source": [
    "plt.rcParams['font.size'] = 26\n",
    "plt.rcParams['axes.labelsize'] = 26\n",
    "plt.rcParams['xtick.labelsize'] = 26\n",
    "plt.rcParams['ytick.labelsize'] = 26\n",
    "plt.rcParams['legend.fontsize'] = 26\n",
    "plt.style.use('seaborn-whitegrid')\n",
    "ax = pd.DataFrame(history).drop(columns='total').plot(x='epoch')\n",
    "plt.ylabel('RMSE')\n",
    "plt.ylim([0.2, 1.8])\n",
    "\n",
    "plt.savefig(figure_path + '/' + dataset +'-small-loss.png', dpi=300, bbox_inches='tight')\n"
   ],
   "metadata": {
    "collapsed": false,
    "pycharm": {
     "name": "#%%\n"
    }
   }
  },
  {
   "cell_type": "code",
   "execution_count": 24,
   "outputs": [],
   "source": [
    "with open('best.weights.small', 'wb') as file:\n",
    "    pickle.dump(best_weights, file)"
   ],
   "metadata": {
    "collapsed": false,
    "pycharm": {
     "name": "#%%\n"
    }
   }
  },
  {
   "cell_type": "code",
   "execution_count": 25,
   "outputs": [],
   "source": [
    "# medium net\n",
    "\n",
    "start = time.time()\n",
    "net = RecommenderNet(\n",
    "    n_users=n, n_movies=m,\n",
    "    n_factors=20, hidden=[10 ,10],\n",
    "    embedding_dropout=0.05, dropouts=[0.3, 0.3])"
   ],
   "metadata": {
    "collapsed": false,
    "pycharm": {
     "name": "#%%\n"
    }
   }
  },
  {
   "cell_type": "code",
   "execution_count": 26,
   "outputs": [],
   "source": [
    "lr = 1e-3\n",
    "wd = 1e-5\n",
    "bs = 4096\n",
    "n_epochs = 300\n",
    "patience = 300\n",
    "no_improvements = 0\n",
    "best_loss = np.inf\n",
    "best_weights = None\n",
    "history = []\n",
    "lr_history = []\n",
    "\n",
    "device = torch.device('cuda:0' if torch.cuda.is_available() else 'cpu')\n",
    "\n",
    "net.to(device)\n",
    "criterion = nn.MSELoss(reduction='sum')\n",
    "optimizer = optim.Adam(net.parameters(), lr=lr, weight_decay=wd)"
   ],
   "metadata": {
    "collapsed": false,
    "pycharm": {
     "name": "#%%\n"
    }
   }
  },
  {
   "cell_type": "code",
   "execution_count": 27,
   "outputs": [
    {
     "name": "stdout",
     "output_type": "stream",
     "text": [
      "loss improvement on epoch: 1\n",
      "[001/300] train: 1.1910 - val: 0.9509\n",
      "loss improvement on epoch: 2\n",
      "[002/300] train: 0.9255 - val: 0.8859\n",
      "loss improvement on epoch: 3\n",
      "[003/300] train: 0.8761 - val: 0.8629\n",
      "loss improvement on epoch: 4\n",
      "[004/300] train: 0.8557 - val: 0.8562\n",
      "loss improvement on epoch: 5\n",
      "[005/300] train: 0.8459 - val: 0.8535\n",
      "loss improvement on epoch: 6\n",
      "[006/300] train: 0.8396 - val: 0.8493\n",
      "loss improvement on epoch: 7\n",
      "[007/300] train: 0.8350 - val: 0.8492\n",
      "loss improvement on epoch: 8\n",
      "[008/300] train: 0.8311 - val: 0.8488\n",
      "[009/300] train: 0.8265 - val: 0.8489\n",
      "loss improvement on epoch: 10\n",
      "[010/300] train: 0.8259 - val: 0.8446\n",
      "[011/300] train: 0.8229 - val: 0.8475\n",
      "[012/300] train: 0.8202 - val: 0.8485\n",
      "[013/300] train: 0.8188 - val: 0.8483\n",
      "[014/300] train: 0.8173 - val: 0.8476\n",
      "[015/300] train: 0.8146 - val: 0.8466\n",
      "[016/300] train: 0.8136 - val: 0.8466\n",
      "[017/300] train: 0.8124 - val: 0.8464\n",
      "[018/300] train: 0.8098 - val: 0.8449\n",
      "[019/300] train: 0.8091 - val: 0.8478\n",
      "[020/300] train: 0.8067 - val: 0.8475\n",
      "loss improvement on epoch: 21\n",
      "[021/300] train: 0.8054 - val: 0.8444\n",
      "[022/300] train: 0.8044 - val: 0.8466\n",
      "[023/300] train: 0.8031 - val: 0.8462\n",
      "[024/300] train: 0.8031 - val: 0.8466\n",
      "[025/300] train: 0.8009 - val: 0.8455\n",
      "[026/300] train: 0.8011 - val: 0.8453\n",
      "[027/300] train: 0.7994 - val: 0.8471\n",
      "[028/300] train: 0.7982 - val: 0.8455\n",
      "[029/300] train: 0.7974 - val: 0.8479\n",
      "[030/300] train: 0.7965 - val: 0.8477\n",
      "[031/300] train: 0.7951 - val: 0.8470\n",
      "[032/300] train: 0.7957 - val: 0.8483\n",
      "[033/300] train: 0.7949 - val: 0.8477\n",
      "[034/300] train: 0.7939 - val: 0.8464\n",
      "[035/300] train: 0.7938 - val: 0.8477\n",
      "[036/300] train: 0.7921 - val: 0.8505\n",
      "[037/300] train: 0.7913 - val: 0.8494\n",
      "[038/300] train: 0.7916 - val: 0.8484\n",
      "[039/300] train: 0.7910 - val: 0.8502\n",
      "[040/300] train: 0.7899 - val: 0.8488\n",
      "[041/300] train: 0.7904 - val: 0.8495\n",
      "[042/300] train: 0.7902 - val: 0.8498\n",
      "[043/300] train: 0.7882 - val: 0.8506\n",
      "[044/300] train: 0.7879 - val: 0.8497\n",
      "[045/300] train: 0.7873 - val: 0.8497\n",
      "[046/300] train: 0.7862 - val: 0.8496\n",
      "[047/300] train: 0.7875 - val: 0.8483\n",
      "[048/300] train: 0.7878 - val: 0.8502\n",
      "[049/300] train: 0.7855 - val: 0.8511\n",
      "[050/300] train: 0.7841 - val: 0.8509\n",
      "[051/300] train: 0.7855 - val: 0.8519\n",
      "[052/300] train: 0.7851 - val: 0.8489\n",
      "[053/300] train: 0.7836 - val: 0.8519\n",
      "[054/300] train: 0.7838 - val: 0.8509\n",
      "[055/300] train: 0.7841 - val: 0.8502\n",
      "[056/300] train: 0.7837 - val: 0.8511\n",
      "[057/300] train: 0.7829 - val: 0.8509\n",
      "[058/300] train: 0.7839 - val: 0.8501\n",
      "[059/300] train: 0.7825 - val: 0.8504\n",
      "[060/300] train: 0.7829 - val: 0.8520\n",
      "[061/300] train: 0.7822 - val: 0.8504\n",
      "[062/300] train: 0.7824 - val: 0.8495\n",
      "[063/300] train: 0.7812 - val: 0.8506\n",
      "[064/300] train: 0.7800 - val: 0.8527\n",
      "[065/300] train: 0.7812 - val: 0.8519\n",
      "[066/300] train: 0.7804 - val: 0.8490\n",
      "[067/300] train: 0.7802 - val: 0.8529\n",
      "[068/300] train: 0.7806 - val: 0.8509\n",
      "[069/300] train: 0.7800 - val: 0.8494\n",
      "[070/300] train: 0.7788 - val: 0.8519\n",
      "[071/300] train: 0.7798 - val: 0.8517\n",
      "[072/300] train: 0.7795 - val: 0.8499\n",
      "[073/300] train: 0.7798 - val: 0.8522\n",
      "[074/300] train: 0.7785 - val: 0.8508\n",
      "[075/300] train: 0.7782 - val: 0.8540\n",
      "[076/300] train: 0.7797 - val: 0.8522\n",
      "[077/300] train: 0.7797 - val: 0.8527\n",
      "[078/300] train: 0.7784 - val: 0.8521\n",
      "[079/300] train: 0.7789 - val: 0.8539\n",
      "[080/300] train: 0.7778 - val: 0.8525\n",
      "[081/300] train: 0.7790 - val: 0.8528\n",
      "[082/300] train: 0.7773 - val: 0.8519\n",
      "[083/300] train: 0.7780 - val: 0.8531\n",
      "[084/300] train: 0.7770 - val: 0.8529\n",
      "[085/300] train: 0.7764 - val: 0.8527\n",
      "[086/300] train: 0.7773 - val: 0.8540\n",
      "[087/300] train: 0.7770 - val: 0.8526\n",
      "[088/300] train: 0.7760 - val: 0.8500\n",
      "[089/300] train: 0.7763 - val: 0.8503\n",
      "[090/300] train: 0.7759 - val: 0.8525\n",
      "[091/300] train: 0.7747 - val: 0.8521\n",
      "[092/300] train: 0.7756 - val: 0.8538\n",
      "[093/300] train: 0.7751 - val: 0.8520\n",
      "[094/300] train: 0.7743 - val: 0.8504\n",
      "[095/300] train: 0.7743 - val: 0.8547\n",
      "[096/300] train: 0.7749 - val: 0.8523\n",
      "[097/300] train: 0.7748 - val: 0.8519\n",
      "[098/300] train: 0.7740 - val: 0.8558\n",
      "[099/300] train: 0.7751 - val: 0.8519\n",
      "[100/300] train: 0.7740 - val: 0.8516\n",
      "[101/300] train: 0.7742 - val: 0.8531\n",
      "[102/300] train: 0.7737 - val: 0.8527\n",
      "[103/300] train: 0.7740 - val: 0.8540\n",
      "[104/300] train: 0.7737 - val: 0.8539\n",
      "[105/300] train: 0.7725 - val: 0.8551\n",
      "[106/300] train: 0.7726 - val: 0.8533\n",
      "[107/300] train: 0.7729 - val: 0.8557\n",
      "[108/300] train: 0.7734 - val: 0.8527\n",
      "[109/300] train: 0.7731 - val: 0.8516\n",
      "[110/300] train: 0.7724 - val: 0.8523\n",
      "[111/300] train: 0.7731 - val: 0.8514\n",
      "[112/300] train: 0.7717 - val: 0.8519\n",
      "[113/300] train: 0.7733 - val: 0.8517\n",
      "[114/300] train: 0.7718 - val: 0.8522\n",
      "[115/300] train: 0.7726 - val: 0.8497\n",
      "[116/300] train: 0.7729 - val: 0.8531\n",
      "[117/300] train: 0.7720 - val: 0.8520\n",
      "[118/300] train: 0.7711 - val: 0.8528\n",
      "[119/300] train: 0.7727 - val: 0.8543\n",
      "[120/300] train: 0.7719 - val: 0.8534\n",
      "[121/300] train: 0.7727 - val: 0.8525\n",
      "[122/300] train: 0.7707 - val: 0.8521\n",
      "[123/300] train: 0.7717 - val: 0.8532\n",
      "[124/300] train: 0.7708 - val: 0.8541\n",
      "[125/300] train: 0.7713 - val: 0.8529\n",
      "[126/300] train: 0.7709 - val: 0.8535\n",
      "[127/300] train: 0.7710 - val: 0.8545\n",
      "[128/300] train: 0.7707 - val: 0.8536\n",
      "[129/300] train: 0.7702 - val: 0.8521\n",
      "[130/300] train: 0.7691 - val: 0.8542\n",
      "[131/300] train: 0.7696 - val: 0.8518\n",
      "[132/300] train: 0.7702 - val: 0.8564\n",
      "[133/300] train: 0.7702 - val: 0.8533\n",
      "[134/300] train: 0.7698 - val: 0.8525\n",
      "[135/300] train: 0.7705 - val: 0.8535\n",
      "[136/300] train: 0.7702 - val: 0.8532\n",
      "[137/300] train: 0.7707 - val: 0.8555\n",
      "[138/300] train: 0.7695 - val: 0.8535\n",
      "[139/300] train: 0.7700 - val: 0.8528\n",
      "[140/300] train: 0.7710 - val: 0.8510\n",
      "[141/300] train: 0.7697 - val: 0.8538\n",
      "[142/300] train: 0.7692 - val: 0.8526\n",
      "[143/300] train: 0.7698 - val: 0.8523\n",
      "[144/300] train: 0.7687 - val: 0.8563\n",
      "[145/300] train: 0.7694 - val: 0.8510\n",
      "[146/300] train: 0.7694 - val: 0.8544\n",
      "[147/300] train: 0.7688 - val: 0.8525\n",
      "[148/300] train: 0.7690 - val: 0.8518\n",
      "[149/300] train: 0.7692 - val: 0.8538\n",
      "[150/300] train: 0.7690 - val: 0.8528\n",
      "[151/300] train: 0.7689 - val: 0.8550\n",
      "[152/300] train: 0.7699 - val: 0.8552\n",
      "[153/300] train: 0.7690 - val: 0.8561\n",
      "[154/300] train: 0.7685 - val: 0.8539\n",
      "[155/300] train: 0.7687 - val: 0.8546\n",
      "[156/300] train: 0.7684 - val: 0.8544\n",
      "[157/300] train: 0.7683 - val: 0.8532\n",
      "[158/300] train: 0.7672 - val: 0.8527\n",
      "[159/300] train: 0.7686 - val: 0.8557\n",
      "[160/300] train: 0.7676 - val: 0.8520\n",
      "[161/300] train: 0.7685 - val: 0.8533\n",
      "[162/300] train: 0.7693 - val: 0.8536\n",
      "[163/300] train: 0.7669 - val: 0.8535\n",
      "[164/300] train: 0.7671 - val: 0.8553\n",
      "[165/300] train: 0.7691 - val: 0.8561\n",
      "[166/300] train: 0.7675 - val: 0.8553\n",
      "[167/300] train: 0.7669 - val: 0.8586\n",
      "[168/300] train: 0.7684 - val: 0.8538\n",
      "[169/300] train: 0.7671 - val: 0.8546\n",
      "[170/300] train: 0.7684 - val: 0.8548\n",
      "[171/300] train: 0.7671 - val: 0.8555\n",
      "[172/300] train: 0.7673 - val: 0.8556\n",
      "[173/300] train: 0.7669 - val: 0.8560\n",
      "[174/300] train: 0.7675 - val: 0.8535\n",
      "[175/300] train: 0.7674 - val: 0.8559\n",
      "[176/300] train: 0.7670 - val: 0.8556\n",
      "[177/300] train: 0.7676 - val: 0.8563\n",
      "[178/300] train: 0.7668 - val: 0.8542\n",
      "[179/300] train: 0.7667 - val: 0.8565\n",
      "[180/300] train: 0.7672 - val: 0.8536\n",
      "[181/300] train: 0.7679 - val: 0.8527\n",
      "[182/300] train: 0.7661 - val: 0.8553\n",
      "[183/300] train: 0.7664 - val: 0.8549\n",
      "[184/300] train: 0.7665 - val: 0.8554\n",
      "[185/300] train: 0.7661 - val: 0.8544\n",
      "[186/300] train: 0.7670 - val: 0.8548\n",
      "[187/300] train: 0.7669 - val: 0.8521\n",
      "[188/300] train: 0.7669 - val: 0.8551\n",
      "[189/300] train: 0.7663 - val: 0.8568\n",
      "[190/300] train: 0.7669 - val: 0.8549\n",
      "[191/300] train: 0.7666 - val: 0.8547\n",
      "[192/300] train: 0.7669 - val: 0.8558\n",
      "[193/300] train: 0.7656 - val: 0.8561\n",
      "[194/300] train: 0.7656 - val: 0.8591\n",
      "[195/300] train: 0.7660 - val: 0.8525\n",
      "[196/300] train: 0.7664 - val: 0.8549\n",
      "[197/300] train: 0.7657 - val: 0.8540\n",
      "[198/300] train: 0.7669 - val: 0.8549\n",
      "[199/300] train: 0.7662 - val: 0.8541\n",
      "[200/300] train: 0.7654 - val: 0.8555\n",
      "[201/300] train: 0.7660 - val: 0.8579\n",
      "[202/300] train: 0.7661 - val: 0.8552\n",
      "[203/300] train: 0.7651 - val: 0.8561\n",
      "[204/300] train: 0.7665 - val: 0.8547\n",
      "[205/300] train: 0.7668 - val: 0.8550\n",
      "[206/300] train: 0.7659 - val: 0.8564\n",
      "[207/300] train: 0.7654 - val: 0.8572\n",
      "[208/300] train: 0.7657 - val: 0.8569\n",
      "[209/300] train: 0.7652 - val: 0.8535\n",
      "[210/300] train: 0.7656 - val: 0.8566\n",
      "[211/300] train: 0.7657 - val: 0.8554\n",
      "[212/300] train: 0.7652 - val: 0.8571\n",
      "[213/300] train: 0.7654 - val: 0.8559\n",
      "[214/300] train: 0.7651 - val: 0.8550\n",
      "[215/300] train: 0.7665 - val: 0.8551\n",
      "[216/300] train: 0.7656 - val: 0.8561\n",
      "[217/300] train: 0.7652 - val: 0.8556\n",
      "[218/300] train: 0.7649 - val: 0.8546\n",
      "[219/300] train: 0.7662 - val: 0.8572\n",
      "[220/300] train: 0.7643 - val: 0.8572\n",
      "[221/300] train: 0.7640 - val: 0.8560\n",
      "[222/300] train: 0.7651 - val: 0.8561\n",
      "[223/300] train: 0.7656 - val: 0.8570\n",
      "[224/300] train: 0.7644 - val: 0.8562\n",
      "[225/300] train: 0.7635 - val: 0.8571\n",
      "[226/300] train: 0.7648 - val: 0.8538\n",
      "[227/300] train: 0.7639 - val: 0.8566\n",
      "[228/300] train: 0.7646 - val: 0.8548\n",
      "[229/300] train: 0.7631 - val: 0.8559\n",
      "[230/300] train: 0.7638 - val: 0.8546\n",
      "[231/300] train: 0.7643 - val: 0.8561\n",
      "[232/300] train: 0.7656 - val: 0.8560\n",
      "[233/300] train: 0.7648 - val: 0.8568\n",
      "[234/300] train: 0.7635 - val: 0.8553\n",
      "[235/300] train: 0.7647 - val: 0.8582\n",
      "[236/300] train: 0.7636 - val: 0.8577\n",
      "[237/300] train: 0.7641 - val: 0.8575\n",
      "[238/300] train: 0.7637 - val: 0.8569\n",
      "[239/300] train: 0.7642 - val: 0.8564\n",
      "[240/300] train: 0.7642 - val: 0.8571\n",
      "[241/300] train: 0.7645 - val: 0.8553\n",
      "[242/300] train: 0.7642 - val: 0.8554\n",
      "[243/300] train: 0.7637 - val: 0.8599\n",
      "[244/300] train: 0.7633 - val: 0.8582\n",
      "[245/300] train: 0.7632 - val: 0.8547\n",
      "[246/300] train: 0.7643 - val: 0.8569\n",
      "[247/300] train: 0.7639 - val: 0.8576\n",
      "[248/300] train: 0.7627 - val: 0.8594\n",
      "[249/300] train: 0.7629 - val: 0.8598\n",
      "[250/300] train: 0.7650 - val: 0.8561\n",
      "[251/300] train: 0.7631 - val: 0.8581\n",
      "[252/300] train: 0.7632 - val: 0.8570\n",
      "[253/300] train: 0.7632 - val: 0.8560\n",
      "[254/300] train: 0.7635 - val: 0.8576\n",
      "[255/300] train: 0.7636 - val: 0.8563\n",
      "[256/300] train: 0.7622 - val: 0.8578\n",
      "[257/300] train: 0.7635 - val: 0.8590\n",
      "[258/300] train: 0.7634 - val: 0.8556\n",
      "[259/300] train: 0.7628 - val: 0.8574\n",
      "[260/300] train: 0.7628 - val: 0.8560\n",
      "[261/300] train: 0.7632 - val: 0.8578\n",
      "[262/300] train: 0.7618 - val: 0.8582\n",
      "[263/300] train: 0.7636 - val: 0.8582\n",
      "[264/300] train: 0.7639 - val: 0.8586\n",
      "[265/300] train: 0.7616 - val: 0.8578\n",
      "[266/300] train: 0.7625 - val: 0.8598\n",
      "[267/300] train: 0.7638 - val: 0.8580\n",
      "[268/300] train: 0.7629 - val: 0.8563\n",
      "[269/300] train: 0.7620 - val: 0.8574\n",
      "[270/300] train: 0.7617 - val: 0.8571\n",
      "[271/300] train: 0.7620 - val: 0.8594\n",
      "[272/300] train: 0.7619 - val: 0.8579\n",
      "[273/300] train: 0.7634 - val: 0.8574\n",
      "[274/300] train: 0.7633 - val: 0.8580\n",
      "[275/300] train: 0.7625 - val: 0.8585\n",
      "[276/300] train: 0.7611 - val: 0.8557\n",
      "[277/300] train: 0.7634 - val: 0.8566\n",
      "[278/300] train: 0.7631 - val: 0.8576\n",
      "[279/300] train: 0.7628 - val: 0.8580\n",
      "[280/300] train: 0.7623 - val: 0.8564\n",
      "[281/300] train: 0.7637 - val: 0.8574\n",
      "[282/300] train: 0.7629 - val: 0.8576\n",
      "[283/300] train: 0.7619 - val: 0.8574\n",
      "[284/300] train: 0.7629 - val: 0.8560\n",
      "[285/300] train: 0.7621 - val: 0.8576\n",
      "[286/300] train: 0.7628 - val: 0.8581\n",
      "[287/300] train: 0.7639 - val: 0.8557\n",
      "[288/300] train: 0.7614 - val: 0.8579\n",
      "[289/300] train: 0.7621 - val: 0.8606\n",
      "[290/300] train: 0.7628 - val: 0.8572\n",
      "[291/300] train: 0.7613 - val: 0.8595\n",
      "[292/300] train: 0.7624 - val: 0.8603\n",
      "[293/300] train: 0.7616 - val: 0.8598\n",
      "[294/300] train: 0.7630 - val: 0.8572\n",
      "[295/300] train: 0.7618 - val: 0.8574\n",
      "[296/300] train: 0.7612 - val: 0.8569\n",
      "[297/300] train: 0.7618 - val: 0.8579\n",
      "[298/300] train: 0.7609 - val: 0.8565\n",
      "[299/300] train: 0.7615 - val: 0.8559\n",
      "[300/300] train: 0.7617 - val: 0.8605\n"
     ]
    }
   ],
   "source": [
    "for epoch in range(n_epochs):\n",
    "    stats = {'epoch': epoch + 1, 'total': n_epochs}\n",
    "\n",
    "    for phase in ('train', 'val'):\n",
    "        if phase == 'train':\n",
    "          training = True\n",
    "        else:\n",
    "          training = False\n",
    "        running_loss = 0\n",
    "        n_batches = 0\n",
    "        for batch in batches(*datasets[phase], shuffle=training, bs=bs):\n",
    "            x_batch, y_batch = [b.to(device) for b in batch]\n",
    "            optimizer.zero_grad()\n",
    "            # compute gradients only during 'train' phase\n",
    "            with torch.set_grad_enabled(training):\n",
    "                outputs = net(x_batch[:,0], x_batch[:,1], minmax)\n",
    "                loss = criterion(outputs, y_batch)\n",
    "                # don't update weights and rates when in 'val' phase\n",
    "                if training:\n",
    "                    #scheduler.step()\n",
    "                    loss.backward()\n",
    "                    optimizer.step()\n",
    "                    #lr_history.extend(scheduler.get_lr())\n",
    "            running_loss += loss.item()\n",
    "        epoch_loss = running_loss / dataset_sizes[phase]\n",
    "        stats[phase] = epoch_loss\n",
    "        # early stopping: save weights of the best model so far\n",
    "        if phase == 'val':\n",
    "            if epoch_loss < best_loss:\n",
    "                print('loss improvement on epoch: %d' % (epoch + 1))\n",
    "                best_loss = epoch_loss\n",
    "                best_weights = copy.deepcopy(net.state_dict())\n",
    "                no_improvements = 0\n",
    "            else:\n",
    "                no_improvements += 1\n",
    "    history.append(stats)\n",
    "    with open(f'logs/medium.txt', 'a') as f:\n",
    "        print('[{epoch:03d}/{total:03d}] train: {train:.4f} - val: {val:.4f}'.format(**stats))\n",
    "        f.write('[{epoch:03d}/{total:03d}] train: {train:.4f} - val: {val:.4f}'.format(**stats))\n",
    "    if no_improvements >= patience:\n",
    "        print('early stopping after epoch {epoch:03d}'.format(**stats))\n",
    "        break"
   ],
   "metadata": {
    "collapsed": false,
    "pycharm": {
     "name": "#%%\n"
    }
   }
  },
  {
   "cell_type": "code",
   "execution_count": 28,
   "outputs": [
    {
     "data": {
      "text/plain": "<All keys matched successfully>"
     },
     "execution_count": 28,
     "metadata": {},
     "output_type": "execute_result"
    }
   ],
   "source": [
    "net.load_state_dict(best_weights)"
   ],
   "metadata": {
    "collapsed": false,
    "pycharm": {
     "name": "#%%\n"
    }
   }
  },
  {
   "cell_type": "code",
   "execution_count": 29,
   "outputs": [],
   "source": [
    "groud_truth, predictions = [], []\n",
    "\n",
    "with torch.no_grad():\n",
    "    for batch in batches(*datasets['val'], shuffle=False, bs=bs):\n",
    "        x_batch, y_batch = [b.to(device) for b in batch]\n",
    "        outputs = net(x_batch[:, 0], x_batch[:, 1], minmax)\n",
    "        groud_truth.extend(y_batch.tolist())\n",
    "        predictions.extend(outputs.tolist())\n",
    "\n",
    "groud_truth = np.asarray(groud_truth).ravel()\n",
    "predictions = np.asarray(predictions).ravel()"
   ],
   "metadata": {
    "collapsed": false,
    "pycharm": {
     "name": "#%%\n"
    }
   }
  },
  {
   "cell_type": "code",
   "execution_count": 30,
   "outputs": [
    {
     "name": "stdout",
     "output_type": "stream",
     "text": [
      "Validation RMSE: 0.9281\n"
     ]
    }
   ],
   "source": [
    "valid_loss = np.sqrt(np.mean((predictions - groud_truth)**2))\n",
    "print(f'Validation RMSE: {valid_loss:.4f}')"
   ],
   "metadata": {
    "collapsed": false,
    "pycharm": {
     "name": "#%%\n"
    }
   }
  },
  {
   "cell_type": "code",
   "execution_count": 31,
   "outputs": [],
   "source": [
    "groud_truth, predictions = [], []\n",
    "\n",
    "with torch.no_grad():\n",
    "    for batch in batches(*datasets['test'], shuffle=False, bs=bs):\n",
    "        x_batch, y_batch = [b.to(device) for b in batch]\n",
    "        outputs = net(x_batch[:, 0], x_batch[:, 1], minmax)\n",
    "        groud_truth.extend(y_batch.tolist())\n",
    "        predictions.extend(outputs.tolist())\n",
    "\n",
    "groud_truth = np.asarray(groud_truth).ravel()\n",
    "predictions = np.asarray(predictions).ravel()"
   ],
   "metadata": {
    "collapsed": false,
    "pycharm": {
     "name": "#%%\n"
    }
   }
  },
  {
   "cell_type": "code",
   "execution_count": 32,
   "outputs": [
    {
     "name": "stdout",
     "output_type": "stream",
     "text": [
      "Medium test RMSE: 0.9312\n"
     ]
    }
   ],
   "source": [
    "final_loss = np.sqrt(np.mean((predictions - groud_truth)**2))\n",
    "print(f'Medium test RMSE: {final_loss:.4f}')"
   ],
   "metadata": {
    "collapsed": false,
    "pycharm": {
     "name": "#%%\n"
    }
   }
  },
  {
   "cell_type": "code",
   "execution_count": 33,
   "outputs": [
    {
     "name": "stdout",
     "output_type": "stream",
     "text": [
      "Medium duration: 122.1858\n"
     ]
    }
   ],
   "source": [
    "print(f'Medium duration: {round(time.time() - start, 4)}')"
   ],
   "metadata": {
    "collapsed": false,
    "pycharm": {
     "name": "#%%\n"
    }
   }
  },
  {
   "cell_type": "code",
   "execution_count": 34,
   "outputs": [],
   "source": [
    "with open('best.weights.medium', 'wb') as file:\n",
    "    pickle.dump(best_weights, file)"
   ],
   "metadata": {
    "collapsed": false,
    "pycharm": {
     "name": "#%%\n"
    }
   }
  },
  {
   "cell_type": "code",
   "execution_count": 35,
   "outputs": [
    {
     "data": {
      "text/plain": "<Figure size 432x288 with 1 Axes>",
      "image/png": "[encoded data removed]"
     },
     "metadata": {},
     "output_type": "display_data"
    }
   ],
   "source": [
    "plt.rcParams['font.size'] = 26\n",
    "plt.rcParams['axes.labelsize'] = 26\n",
    "plt.rcParams['xtick.labelsize'] = 26\n",
    "plt.rcParams['ytick.labelsize'] = 26\n",
    "plt.rcParams['legend.fontsize'] = 26\n",
    "plt.style.use('seaborn-whitegrid')\n",
    "ax = pd.DataFrame(history).drop(columns='total').plot(x='epoch')\n",
    "plt.ylabel('RMSE')\n",
    "plt.ylim([0.2, 1.8])\n",
    "\n",
    "plt.savefig(figure_path + '/' + dataset +'-medium-loss.png', dpi=300, bbox_inches='tight')"
   ],
   "metadata": {
    "collapsed": false,
    "pycharm": {
     "name": "#%%\n"
    }
   }
  },
  {
   "cell_type": "code",
   "execution_count": 36,
   "outputs": [],
   "source": [
    "# large net\n",
    "\n",
    "start = time.time()\n",
    "net = RecommenderNet(\n",
    "    n_users=n, n_movies=m,\n",
    "    n_factors=50, hidden=[100, 100, 100],\n",
    "    embedding_dropout=0.05, dropouts=[0.3, 0.3, 0.3])"
   ],
   "metadata": {
    "collapsed": false,
    "pycharm": {
     "name": "#%%\n"
    }
   }
  },
  {
   "cell_type": "code",
   "execution_count": 37,
   "outputs": [],
   "source": [
    "lr = 1e-3\n",
    "wd = 1e-5\n",
    "bs = 4096\n",
    "n_epochs = 300\n",
    "patience = 300\n",
    "no_improvements = 0\n",
    "best_loss = np.inf\n",
    "best_weights = None\n",
    "history = []\n",
    "lr_history = []\n",
    "\n",
    "device = torch.device('cuda:0' if torch.cuda.is_available() else 'cpu')\n",
    "\n",
    "net.to(device)\n",
    "criterion = nn.MSELoss(reduction='sum')\n",
    "optimizer = optim.Adam(net.parameters(), lr=lr, weight_decay=wd)"
   ],
   "metadata": {
    "collapsed": false,
    "pycharm": {
     "name": "#%%\n"
    }
   }
  },
  {
   "cell_type": "code",
   "execution_count": 38,
   "outputs": [
    {
     "name": "stdout",
     "output_type": "stream",
     "text": [
      "loss improvement on epoch: 1\n",
      "[001/300] train: 0.9961 - val: 0.8413\n",
      "loss improvement on epoch: 2\n",
      "[002/300] train: 0.8310 - val: 0.8156\n",
      "loss improvement on epoch: 3\n",
      "[003/300] train: 0.8079 - val: 0.8084\n",
      "loss improvement on epoch: 4\n",
      "[004/300] train: 0.7930 - val: 0.8048\n",
      "loss improvement on epoch: 5\n",
      "[005/300] train: 0.7785 - val: 0.7975\n",
      "loss improvement on epoch: 6\n",
      "[006/300] train: 0.7621 - val: 0.7943\n",
      "[007/300] train: 0.7451 - val: 0.7964\n",
      "[008/300] train: 0.7292 - val: 0.7986\n",
      "[009/300] train: 0.7148 - val: 0.7975\n",
      "[010/300] train: 0.7004 - val: 0.8052\n",
      "[011/300] train: 0.6878 - val: 0.8071\n",
      "[012/300] train: 0.6751 - val: 0.8159\n",
      "[013/300] train: 0.6650 - val: 0.8217\n",
      "[014/300] train: 0.6547 - val: 0.8263\n",
      "[015/300] train: 0.6454 - val: 0.8258\n",
      "[016/300] train: 0.6367 - val: 0.8326\n",
      "[017/300] train: 0.6300 - val: 0.8318\n",
      "[018/300] train: 0.6227 - val: 0.8328\n",
      "[019/300] train: 0.6159 - val: 0.8363\n",
      "[020/300] train: 0.6099 - val: 0.8436\n",
      "[021/300] train: 0.6035 - val: 0.8423\n",
      "[022/300] train: 0.5989 - val: 0.8463\n",
      "[023/300] train: 0.5944 - val: 0.8501\n",
      "[024/300] train: 0.5904 - val: 0.8467\n",
      "[025/300] train: 0.5860 - val: 0.8512\n",
      "[026/300] train: 0.5820 - val: 0.8573\n",
      "[027/300] train: 0.5780 - val: 0.8535\n",
      "[028/300] train: 0.5748 - val: 0.8595\n",
      "[029/300] train: 0.5719 - val: 0.8542\n",
      "[030/300] train: 0.5696 - val: 0.8494\n",
      "[031/300] train: 0.5663 - val: 0.8479\n",
      "[032/300] train: 0.5630 - val: 0.8620\n",
      "[033/300] train: 0.5604 - val: 0.8599\n",
      "[034/300] train: 0.5584 - val: 0.8677\n",
      "[035/300] train: 0.5555 - val: 0.8586\n",
      "[036/300] train: 0.5540 - val: 0.8578\n",
      "[037/300] train: 0.5510 - val: 0.8595\n",
      "[038/300] train: 0.5482 - val: 0.8641\n",
      "[039/300] train: 0.5467 - val: 0.8691\n",
      "[040/300] train: 0.5456 - val: 0.8613\n",
      "[041/300] train: 0.5439 - val: 0.8691\n",
      "[042/300] train: 0.5411 - val: 0.8630\n",
      "[043/300] train: 0.5388 - val: 0.8717\n",
      "[044/300] train: 0.5377 - val: 0.8661\n",
      "[045/300] train: 0.5367 - val: 0.8729\n",
      "[046/300] train: 0.5343 - val: 0.8689\n",
      "[047/300] train: 0.5346 - val: 0.8744\n",
      "[048/300] train: 0.5312 - val: 0.8702\n",
      "[049/300] train: 0.5302 - val: 0.8771\n",
      "[050/300] train: 0.5293 - val: 0.8746\n",
      "[051/300] train: 0.5283 - val: 0.8751\n",
      "[052/300] train: 0.5264 - val: 0.8702\n",
      "[053/300] train: 0.5267 - val: 0.8686\n",
      "[054/300] train: 0.5244 - val: 0.8695\n",
      "[055/300] train: 0.5248 - val: 0.8801\n",
      "[056/300] train: 0.5219 - val: 0.8700\n",
      "[057/300] train: 0.5211 - val: 0.8782\n",
      "[058/300] train: 0.5194 - val: 0.8755\n",
      "[059/300] train: 0.5189 - val: 0.8772\n",
      "[060/300] train: 0.5186 - val: 0.8740\n",
      "[061/300] train: 0.5176 - val: 0.8795\n",
      "[062/300] train: 0.5158 - val: 0.8753\n",
      "[063/300] train: 0.5137 - val: 0.8797\n",
      "[064/300] train: 0.5146 - val: 0.8824\n",
      "[065/300] train: 0.5125 - val: 0.8807\n",
      "[066/300] train: 0.5142 - val: 0.8872\n",
      "[067/300] train: 0.5112 - val: 0.8799\n",
      "[068/300] train: 0.5111 - val: 0.8846\n",
      "[069/300] train: 0.5104 - val: 0.8829\n",
      "[070/300] train: 0.5100 - val: 0.8771\n",
      "[071/300] train: 0.5083 - val: 0.8857\n",
      "[072/300] train: 0.5077 - val: 0.8848\n",
      "[073/300] train: 0.5057 - val: 0.8850\n",
      "[074/300] train: 0.5051 - val: 0.8887\n",
      "[075/300] train: 0.5058 - val: 0.8798\n",
      "[076/300] train: 0.5047 - val: 0.8873\n",
      "[077/300] train: 0.5056 - val: 0.8847\n",
      "[078/300] train: 0.5035 - val: 0.8863\n",
      "[079/300] train: 0.5028 - val: 0.8822\n",
      "[080/300] train: 0.5020 - val: 0.8975\n",
      "[081/300] train: 0.5012 - val: 0.8899\n",
      "[082/300] train: 0.5019 - val: 0.8855\n",
      "[083/300] train: 0.5006 - val: 0.8869\n",
      "[084/300] train: 0.4994 - val: 0.8855\n",
      "[085/300] train: 0.4996 - val: 0.8878\n",
      "[086/300] train: 0.4990 - val: 0.8856\n",
      "[087/300] train: 0.4983 - val: 0.8865\n",
      "[088/300] train: 0.4969 - val: 0.8806\n",
      "[089/300] train: 0.4954 - val: 0.8863\n",
      "[090/300] train: 0.4970 - val: 0.8886\n",
      "[091/300] train: 0.4957 - val: 0.8850\n",
      "[092/300] train: 0.4953 - val: 0.8963\n",
      "[093/300] train: 0.4941 - val: 0.8905\n",
      "[094/300] train: 0.4935 - val: 0.8940\n",
      "[095/300] train: 0.4940 - val: 0.8905\n",
      "[096/300] train: 0.4936 - val: 0.8920\n",
      "[097/300] train: 0.4923 - val: 0.8881\n",
      "[098/300] train: 0.4919 - val: 0.8916\n",
      "[099/300] train: 0.4924 - val: 0.8906\n",
      "[100/300] train: 0.4903 - val: 0.8881\n",
      "[101/300] train: 0.4905 - val: 0.8969\n",
      "[102/300] train: 0.4905 - val: 0.8913\n",
      "[103/300] train: 0.4901 - val: 0.8904\n",
      "[104/300] train: 0.4908 - val: 0.8914\n",
      "[105/300] train: 0.4892 - val: 0.8889\n",
      "[106/300] train: 0.4888 - val: 0.8950\n",
      "[107/300] train: 0.4877 - val: 0.8888\n",
      "[108/300] train: 0.4879 - val: 0.8905\n",
      "[109/300] train: 0.4875 - val: 0.8913\n",
      "[110/300] train: 0.4875 - val: 0.8926\n",
      "[111/300] train: 0.4877 - val: 0.8912\n",
      "[112/300] train: 0.4861 - val: 0.8928\n",
      "[113/300] train: 0.4854 - val: 0.8988\n",
      "[114/300] train: 0.4866 - val: 0.8889\n",
      "[115/300] train: 0.4845 - val: 0.9011\n",
      "[116/300] train: 0.4846 - val: 0.8950\n",
      "[117/300] train: 0.4849 - val: 0.8984\n",
      "[118/300] train: 0.4847 - val: 0.8906\n",
      "[119/300] train: 0.4846 - val: 0.8954\n",
      "[120/300] train: 0.4830 - val: 0.8974\n",
      "[121/300] train: 0.4831 - val: 0.8941\n",
      "[122/300] train: 0.4824 - val: 0.8950\n",
      "[123/300] train: 0.4821 - val: 0.8948\n",
      "[124/300] train: 0.4812 - val: 0.8996\n",
      "[125/300] train: 0.4812 - val: 0.8919\n",
      "[126/300] train: 0.4813 - val: 0.9019\n",
      "[127/300] train: 0.4806 - val: 0.9003\n",
      "[128/300] train: 0.4803 - val: 0.8947\n",
      "[129/300] train: 0.4806 - val: 0.8969\n",
      "[130/300] train: 0.4797 - val: 0.8953\n",
      "[131/300] train: 0.4798 - val: 0.9019\n",
      "[132/300] train: 0.4795 - val: 0.8964\n",
      "[133/300] train: 0.4793 - val: 0.8941\n",
      "[134/300] train: 0.4787 - val: 0.8921\n",
      "[135/300] train: 0.4781 - val: 0.8921\n",
      "[136/300] train: 0.4769 - val: 0.8986\n",
      "[137/300] train: 0.4786 - val: 0.8996\n",
      "[138/300] train: 0.4768 - val: 0.9009\n",
      "[139/300] train: 0.4767 - val: 0.8960\n",
      "[140/300] train: 0.4760 - val: 0.8918\n",
      "[141/300] train: 0.4758 - val: 0.9027\n",
      "[142/300] train: 0.4758 - val: 0.8992\n",
      "[143/300] train: 0.4760 - val: 0.8951\n",
      "[144/300] train: 0.4762 - val: 0.8958\n",
      "[145/300] train: 0.4754 - val: 0.8950\n",
      "[146/300] train: 0.4743 - val: 0.8904\n",
      "[147/300] train: 0.4752 - val: 0.8985\n",
      "[148/300] train: 0.4744 - val: 0.9029\n",
      "[149/300] train: 0.4744 - val: 0.8972\n",
      "[150/300] train: 0.4729 - val: 0.8984\n",
      "[151/300] train: 0.4737 - val: 0.8951\n",
      "[152/300] train: 0.4738 - val: 0.9018\n",
      "[153/300] train: 0.4732 - val: 0.8978\n",
      "[154/300] train: 0.4733 - val: 0.8928\n",
      "[155/300] train: 0.4720 - val: 0.8952\n",
      "[156/300] train: 0.4721 - val: 0.9048\n",
      "[157/300] train: 0.4716 - val: 0.9005\n",
      "[158/300] train: 0.4727 - val: 0.9023\n",
      "[159/300] train: 0.4708 - val: 0.9001\n",
      "[160/300] train: 0.4715 - val: 0.8965\n",
      "[161/300] train: 0.4715 - val: 0.9025\n",
      "[162/300] train: 0.4709 - val: 0.9020\n",
      "[163/300] train: 0.4695 - val: 0.9045\n",
      "[164/300] train: 0.4708 - val: 0.9008\n",
      "[165/300] train: 0.4689 - val: 0.9065\n",
      "[166/300] train: 0.4699 - val: 0.9078\n",
      "[167/300] train: 0.4704 - val: 0.9040\n",
      "[168/300] train: 0.4695 - val: 0.9002\n",
      "[169/300] train: 0.4683 - val: 0.9001\n",
      "[170/300] train: 0.4691 - val: 0.9035\n",
      "[171/300] train: 0.4683 - val: 0.8993\n",
      "[172/300] train: 0.4690 - val: 0.9007\n",
      "[173/300] train: 0.4682 - val: 0.9073\n",
      "[174/300] train: 0.4675 - val: 0.9015\n",
      "[175/300] train: 0.4694 - val: 0.8969\n",
      "[176/300] train: 0.4676 - val: 0.9048\n",
      "[177/300] train: 0.4674 - val: 0.9036\n",
      "[178/300] train: 0.4675 - val: 0.9023\n",
      "[179/300] train: 0.4669 - val: 0.9025\n",
      "[180/300] train: 0.4662 - val: 0.9034\n",
      "[181/300] train: 0.4650 - val: 0.9126\n",
      "[182/300] train: 0.4663 - val: 0.9097\n",
      "[183/300] train: 0.4664 - val: 0.8993\n",
      "[184/300] train: 0.4663 - val: 0.9005\n",
      "[185/300] train: 0.4654 - val: 0.9005\n",
      "[186/300] train: 0.4644 - val: 0.9039\n",
      "[187/300] train: 0.4652 - val: 0.9045\n",
      "[188/300] train: 0.4643 - val: 0.9011\n",
      "[189/300] train: 0.4646 - val: 0.8982\n",
      "[190/300] train: 0.4649 - val: 0.9064\n",
      "[191/300] train: 0.4638 - val: 0.9117\n",
      "[192/300] train: 0.4646 - val: 0.9043\n",
      "[193/300] train: 0.4648 - val: 0.9012\n",
      "[194/300] train: 0.4640 - val: 0.9021\n",
      "[195/300] train: 0.4640 - val: 0.9085\n",
      "[196/300] train: 0.4640 - val: 0.9014\n",
      "[197/300] train: 0.4629 - val: 0.9110\n",
      "[198/300] train: 0.4635 - val: 0.8959\n",
      "[199/300] train: 0.4624 - val: 0.9073\n",
      "[200/300] train: 0.4626 - val: 0.9121\n",
      "[201/300] train: 0.4632 - val: 0.9033\n",
      "[202/300] train: 0.4624 - val: 0.9056\n",
      "[203/300] train: 0.4623 - val: 0.9066\n",
      "[204/300] train: 0.4616 - val: 0.9031\n",
      "[205/300] train: 0.4619 - val: 0.9039\n",
      "[206/300] train: 0.4619 - val: 0.9049\n",
      "[207/300] train: 0.4616 - val: 0.9046\n",
      "[208/300] train: 0.4615 - val: 0.9014\n",
      "[209/300] train: 0.4614 - val: 0.9056\n",
      "[210/300] train: 0.4611 - val: 0.9103\n",
      "[211/300] train: 0.4607 - val: 0.9066\n",
      "[212/300] train: 0.4595 - val: 0.9072\n",
      "[213/300] train: 0.4599 - val: 0.9059\n",
      "[214/300] train: 0.4602 - val: 0.9078\n",
      "[215/300] train: 0.4607 - val: 0.9055\n",
      "[216/300] train: 0.4600 - val: 0.9025\n",
      "[217/300] train: 0.4597 - val: 0.9009\n",
      "[218/300] train: 0.4590 - val: 0.9084\n",
      "[219/300] train: 0.4588 - val: 0.9038\n",
      "[220/300] train: 0.4585 - val: 0.9120\n",
      "[221/300] train: 0.4581 - val: 0.9019\n",
      "[222/300] train: 0.4577 - val: 0.9043\n",
      "[223/300] train: 0.4596 - val: 0.9054\n",
      "[224/300] train: 0.4585 - val: 0.9226\n",
      "[225/300] train: 0.4586 - val: 0.9073\n",
      "[226/300] train: 0.4584 - val: 0.9053\n",
      "[227/300] train: 0.4582 - val: 0.9122\n",
      "[228/300] train: 0.4577 - val: 0.9062\n",
      "[229/300] train: 0.4582 - val: 0.9038\n",
      "[230/300] train: 0.4568 - val: 0.9032\n",
      "[231/300] train: 0.4569 - val: 0.9155\n",
      "[232/300] train: 0.4563 - val: 0.9177\n",
      "[233/300] train: 0.4583 - val: 0.9081\n",
      "[234/300] train: 0.4584 - val: 0.9070\n",
      "[235/300] train: 0.4562 - val: 0.9101\n",
      "[236/300] train: 0.4568 - val: 0.9064\n",
      "[237/300] train: 0.4560 - val: 0.9111\n",
      "[238/300] train: 0.4573 - val: 0.9047\n",
      "[239/300] train: 0.4562 - val: 0.9055\n",
      "[240/300] train: 0.4545 - val: 0.9088\n",
      "[241/300] train: 0.4569 - val: 0.9132\n",
      "[242/300] train: 0.4556 - val: 0.9091\n",
      "[243/300] train: 0.4564 - val: 0.9093\n",
      "[244/300] train: 0.4542 - val: 0.9037\n",
      "[245/300] train: 0.4560 - val: 0.9060\n",
      "[246/300] train: 0.4534 - val: 0.9068\n",
      "[247/300] train: 0.4553 - val: 0.9014\n",
      "[248/300] train: 0.4553 - val: 0.9069\n",
      "[249/300] train: 0.4549 - val: 0.9111\n",
      "[250/300] train: 0.4544 - val: 0.9087\n",
      "[251/300] train: 0.4540 - val: 0.9199\n",
      "[252/300] train: 0.4549 - val: 0.9106\n",
      "[253/300] train: 0.4541 - val: 0.9045\n",
      "[254/300] train: 0.4541 - val: 0.9079\n",
      "[255/300] train: 0.4545 - val: 0.9113\n",
      "[256/300] train: 0.4523 - val: 0.9170\n",
      "[257/300] train: 0.4536 - val: 0.9137\n",
      "[258/300] train: 0.4544 - val: 0.9098\n",
      "[259/300] train: 0.4532 - val: 0.9135\n",
      "[260/300] train: 0.4535 - val: 0.9143\n",
      "[261/300] train: 0.4536 - val: 0.9087\n",
      "[262/300] train: 0.4526 - val: 0.9107\n",
      "[263/300] train: 0.4540 - val: 0.9114\n",
      "[264/300] train: 0.4523 - val: 0.9139\n",
      "[265/300] train: 0.4520 - val: 0.9088\n",
      "[266/300] train: 0.4526 - val: 0.9118\n",
      "[267/300] train: 0.4508 - val: 0.9031\n",
      "[268/300] train: 0.4516 - val: 0.9083\n",
      "[269/300] train: 0.4514 - val: 0.9120\n",
      "[270/300] train: 0.4520 - val: 0.9152\n",
      "[271/300] train: 0.4509 - val: 0.9140\n",
      "[272/300] train: 0.4509 - val: 0.9120\n",
      "[273/300] train: 0.4501 - val: 0.9104\n",
      "[274/300] train: 0.4523 - val: 0.9120\n",
      "[275/300] train: 0.4517 - val: 0.9168\n",
      "[276/300] train: 0.4512 - val: 0.9098\n",
      "[277/300] train: 0.4499 - val: 0.9072\n",
      "[278/300] train: 0.4513 - val: 0.9153\n",
      "[279/300] train: 0.4502 - val: 0.9211\n",
      "[280/300] train: 0.4505 - val: 0.9112\n",
      "[281/300] train: 0.4503 - val: 0.9048\n",
      "[282/300] train: 0.4510 - val: 0.9173\n",
      "[283/300] train: 0.4504 - val: 0.9112\n",
      "[284/300] train: 0.4493 - val: 0.9168\n",
      "[285/300] train: 0.4497 - val: 0.9112\n",
      "[286/300] train: 0.4494 - val: 0.9107\n",
      "[287/300] train: 0.4501 - val: 0.9159\n",
      "[288/300] train: 0.4500 - val: 0.9111\n",
      "[289/300] train: 0.4490 - val: 0.9130\n",
      "[290/300] train: 0.4494 - val: 0.9105\n",
      "[291/300] train: 0.4491 - val: 0.9172\n",
      "[292/300] train: 0.4488 - val: 0.9111\n",
      "[293/300] train: 0.4497 - val: 0.9106\n",
      "[294/300] train: 0.4486 - val: 0.9173\n",
      "[295/300] train: 0.4492 - val: 0.9152\n",
      "[296/300] train: 0.4492 - val: 0.9152\n",
      "[297/300] train: 0.4485 - val: 0.9117\n",
      "[298/300] train: 0.4485 - val: 0.9104\n",
      "[299/300] train: 0.4488 - val: 0.9111\n",
      "[300/300] train: 0.4487 - val: 0.9162\n"
     ]
    }
   ],
   "source": [
    "for epoch in range(n_epochs):\n",
    "    stats = {'epoch': epoch + 1, 'total': n_epochs}\n",
    "\n",
    "    for phase in ('train', 'val'):\n",
    "        if phase == 'train':\n",
    "          training = True\n",
    "        else:\n",
    "          training = False\n",
    "        running_loss = 0\n",
    "        n_batches = 0\n",
    "        for batch in batches(*datasets[phase], shuffle=training, bs=bs):\n",
    "            x_batch, y_batch = [b.to(device) for b in batch]\n",
    "            optimizer.zero_grad()\n",
    "            # compute gradients only during 'train' phase\n",
    "            with torch.set_grad_enabled(training):\n",
    "                outputs = net(x_batch[:,0], x_batch[:,1], minmax)\n",
    "                loss = criterion(outputs, y_batch)\n",
    "                # don't update weights and rates when in 'val' phase\n",
    "                if training:\n",
    "                    #scheduler.step()\n",
    "                    loss.backward()\n",
    "                    optimizer.step()\n",
    "                    #lr_history.extend(scheduler.get_lr())\n",
    "            running_loss += loss.item()\n",
    "        epoch_loss = running_loss / dataset_sizes[phase]\n",
    "        stats[phase] = epoch_loss\n",
    "        # early stopping: save weights of the best model so far\n",
    "        if phase == 'val':\n",
    "            if epoch_loss < best_loss:\n",
    "                print('loss improvement on epoch: %d' % (epoch + 1))\n",
    "                best_loss = epoch_loss\n",
    "                best_weights = copy.deepcopy(net.state_dict())\n",
    "                no_improvements = 0\n",
    "            else:\n",
    "                no_improvements += 1\n",
    "    history.append(stats)\n",
    "    with open(f'logs/large.txt', 'a') as f:\n",
    "        print('[{epoch:03d}/{total:03d}] train: {train:.4f} - val: {val:.4f}'.format(**stats))\n",
    "        f.write('[{epoch:03d}/{total:03d}] train: {train:.4f} - val: {val:.4f}'.format(**stats))\n",
    "    if no_improvements >= patience:\n",
    "        print('early stopping after epoch {epoch:03d}'.format(**stats))\n",
    "        break"
   ],
   "metadata": {
    "collapsed": false,
    "pycharm": {
     "name": "#%%\n"
    }
   }
  },
  {
   "cell_type": "code",
   "execution_count": 39,
   "outputs": [
    {
     "data": {
      "text/plain": "<All keys matched successfully>"
     },
     "execution_count": 39,
     "metadata": {},
     "output_type": "execute_result"
    }
   ],
   "source": [
    "net.load_state_dict(best_weights)"
   ],
   "metadata": {
    "collapsed": false,
    "pycharm": {
     "name": "#%%\n"
    }
   }
  },
  {
   "cell_type": "code",
   "execution_count": 40,
   "outputs": [],
   "source": [
    "groud_truth, predictions = [], []\n",
    "\n",
    "with torch.no_grad():\n",
    "    for batch in batches(*datasets['val'], shuffle=False, bs=bs):\n",
    "        x_batch, y_batch = [b.to(device) for b in batch]\n",
    "        outputs = net(x_batch[:, 0], x_batch[:, 1], minmax)\n",
    "        groud_truth.extend(y_batch.tolist())\n",
    "        predictions.extend(outputs.tolist())\n",
    "\n",
    "groud_truth = np.asarray(groud_truth).ravel()\n",
    "predictions = np.asarray(predictions).ravel()"
   ],
   "metadata": {
    "collapsed": false,
    "pycharm": {
     "name": "#%%\n"
    }
   }
  },
  {
   "cell_type": "code",
   "execution_count": 41,
   "outputs": [
    {
     "name": "stdout",
     "output_type": "stream",
     "text": [
      "Validation RMSE: 0.8991\n"
     ]
    }
   ],
   "source": [
    "valid_loss = np.sqrt(np.mean((predictions - groud_truth)**2))\n",
    "print(f'Validation RMSE: {valid_loss:.4f}')"
   ],
   "metadata": {
    "collapsed": false,
    "pycharm": {
     "name": "#%%\n"
    }
   }
  },
  {
   "cell_type": "code",
   "execution_count": 42,
   "outputs": [],
   "source": [
    "groud_truth, predictions = [], []\n",
    "\n",
    "with torch.no_grad():\n",
    "    for batch in batches(*datasets['test'], shuffle=False, bs=bs):\n",
    "        x_batch, y_batch = [b.to(device) for b in batch]\n",
    "        outputs = net(x_batch[:, 0], x_batch[:, 1], minmax)\n",
    "        groud_truth.extend(y_batch.tolist())\n",
    "        predictions.extend(outputs.tolist())\n",
    "\n",
    "groud_truth = np.asarray(groud_truth).ravel()\n",
    "predictions = np.asarray(predictions).ravel()"
   ],
   "metadata": {
    "collapsed": false,
    "pycharm": {
     "name": "#%%\n"
    }
   }
  },
  {
   "cell_type": "code",
   "execution_count": 43,
   "outputs": [
    {
     "name": "stdout",
     "output_type": "stream",
     "text": [
      "Large test RMSE: 0.9022\n"
     ]
    }
   ],
   "source": [
    "final_loss = np.sqrt(np.mean((predictions - groud_truth)**2))\n",
    "print(f'Large test RMSE: {final_loss:.4f}')"
   ],
   "metadata": {
    "collapsed": false,
    "pycharm": {
     "name": "#%%\n"
    }
   }
  },
  {
   "cell_type": "code",
   "execution_count": 44,
   "outputs": [
    {
     "name": "stdout",
     "output_type": "stream",
     "text": [
      "Large duration: 141.6181\n"
     ]
    }
   ],
   "source": [
    "print(f'Large duration: {round(time.time() - start, 4)}')\n"
   ],
   "metadata": {
    "collapsed": false,
    "pycharm": {
     "name": "#%%\n"
    }
   }
  },
  {
   "cell_type": "code",
   "execution_count": 45,
   "outputs": [],
   "source": [
    "with open('best.weights.big', 'wb') as file:\n",
    "    pickle.dump(best_weights, file)"
   ],
   "metadata": {
    "collapsed": false,
    "pycharm": {
     "name": "#%%\n"
    }
   }
  },
  {
   "cell_type": "code",
   "execution_count": 46,
   "outputs": [
    {
     "data": {
      "text/plain": "<Figure size 432x288 with 1 Axes>",
      "image/png": "[encoded data removed]"
     },
     "metadata": {},
     "output_type": "display_data"
    }
   ],
   "source": [
    "plt.rcParams['font.size'] = 26\n",
    "plt.rcParams['axes.labelsize'] = 26\n",
    "plt.rcParams['xtick.labelsize'] = 26\n",
    "plt.rcParams['ytick.labelsize'] = 26\n",
    "plt.rcParams['legend.fontsize'] = 26\n",
    "plt.style.use('seaborn-whitegrid')\n",
    "ax = pd.DataFrame(history).drop(columns='total').plot(x='epoch')\n",
    "plt.ylabel('RMSE')\n",
    "plt.ylim([0.2, 1.8])\n",
    "\n",
    "plt.savefig(figure_path + '/' + dataset +'-large-loss.png', dpi=300, bbox_inches='tight')"
   ],
   "metadata": {
    "collapsed": false,
    "pycharm": {
     "name": "#%%\n"
    }
   }
  },
  {
   "cell_type": "code",
   "execution_count": 46,
   "outputs": [],
   "source": [],
   "metadata": {
    "collapsed": false,
    "pycharm": {
     "name": "#%%\n"
    }
   }
  }
 ],
 "metadata": {
  "kernelspec": {
   "name": "pycharm-f57757a1",
   "language": "python",
   "display_name": "PyCharm (rs-via-gnn)"
  },
  "language_info": {
   "codemirror_mode": {
    "name": "ipython",
    "version": 2
   },
   "file_extension": ".py",
   "mimetype": "text/x-python",
   "name": "python",
   "nbconvert_exporter": "python",
   "pygments_lexer": "ipython2",
   "version": "2.7.6"
  }
 },
 "nbformat": 4,
 "nbformat_minor": 0
}