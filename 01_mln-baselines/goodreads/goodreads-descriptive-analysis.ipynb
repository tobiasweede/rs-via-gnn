{
 "cells": [
  {
   "cell_type": "markdown",
   "metadata": {
    "pycharm": {
     "name": "#%% md\n"
    }
   },
   "source": [
    "# Goodreads descriptive analysis"
   ]
  },
  {
   "cell_type": "code",
   "execution_count": 20,
   "outputs": [],
   "source": [
    "import gzip\n",
    "import json\n",
    "import numpy as np\n",
    "import pandas as pd\n",
    "import os\n",
    "pd.options.display.float_format = '{:,}'.format\n",
    "\n",
    "import seaborn as sns\n",
    "import matplotlib.pyplot as plt\n",
    "sns.set_style(\"whitegrid\")\n",
    "\n",
    "RANDOM = 2021\n",
    "\n",
    "figure_path = '/home/weiss/git/thesis/doc/figures/'\n",
    "\n",
    "DIR = '/home/weiss/rs_data/goodreads/'"
   ],
   "metadata": {
    "collapsed": false,
    "pycharm": {
     "name": "#%%\n"
    }
   }
  },
  {
   "cell_type": "code",
   "execution_count": 2,
   "outputs": [],
   "source": [
    "def count_lines(file_name):\n",
    "    \"\"\"count number of lines in a given file\"\"\"\n",
    "    print('counting file:', file_name)\n",
    "    count = 0\n",
    "    with gzip.open(file_name) as fin:\n",
    "        for l in fin:\n",
    "            count += 1\n",
    "    print('done!')\n",
    "    return count"
   ],
   "metadata": {
    "collapsed": false,
    "pycharm": {
     "name": "#%%\n"
    }
   }
  },
  {
   "cell_type": "code",
   "execution_count": 3,
   "outputs": [
    {
     "name": "stdout",
     "output_type": "stream",
     "text": [
      "counting file: /home/weiss/rs_data/goodreads/goodreads_books.json.gz\n",
      "done!\n",
      "counting file: /home/weiss/rs_data/goodreads/goodreads_book_works.json.gz\n",
      "done!\n",
      "counting file: /home/weiss/rs_data/goodreads/goodreads_book_authors.json.gz\n",
      "done!\n",
      "counting file: /home/weiss/rs_data/goodreads/goodreads_book_series.json.gz\n",
      "done!\n"
     ]
    }
   ],
   "source": [
    "n_book = count_lines(os.path.join(DIR, 'goodreads_books.json.gz'))\n",
    "n_work = count_lines(os.path.join(DIR, 'goodreads_book_works.json.gz'))\n",
    "n_author = count_lines(os.path.join(DIR, 'goodreads_book_authors.json.gz'))\n",
    "n_series = count_lines(os.path.join(DIR, 'goodreads_book_series.json.gz'))"
   ],
   "metadata": {
    "collapsed": false,
    "pycharm": {
     "name": "#%%\n"
    }
   }
  },
  {
   "cell_type": "code",
   "execution_count": 4,
   "outputs": [],
   "source": [
    "def load_data(file_name, head = 500):\n",
    "    \"\"\"Load a given GZIP compressed JSON file\"\"\"\n",
    "    count = 0\n",
    "    data = []\n",
    "    with gzip.open(file_name) as fin:\n",
    "        for l in fin:\n",
    "            d = json.loads(l)\n",
    "            count += 1\n",
    "            data.append(d)\n",
    "\n",
    "            # break if reaches the 100th line\n",
    "            if (head is not None) and (count > head):\n",
    "                break\n",
    "    return data"
   ],
   "metadata": {
    "collapsed": false,
    "pycharm": {
     "name": "#%%\n"
    }
   }
  },
  {
   "cell_type": "code",
   "execution_count": 5,
   "outputs": [
    {
     "name": "stdout",
     "output_type": "stream",
     "text": [
      "               count\n",
      "# book   2,360,655.0\n",
      "# work   1,521,962.0\n",
      "# author   829,529.0\n",
      "# series   400,390.0\n"
     ]
    }
   ],
   "source": [
    "df_book_stats = pd.DataFrame([n_book, n_work, n_author, n_series], dtype = float,\n",
    "                             columns = ['count'],\n",
    "                             index = ['# book', '# work', '# author', '# series'])\n",
    "print(df_book_stats)"
   ],
   "metadata": {
    "collapsed": false,
    "pycharm": {
     "name": "#%%\n"
    }
   }
  },
  {
   "cell_type": "code",
   "execution_count": 6,
   "outputs": [
    {
     "data": {
      "text/plain": "{'user_id': '72fb0d0087d28c832f15776b0d936598',\n 'book_id': '800780',\n 'review_id': '1ee42604ead1e1f86281fd866da96107',\n 'rating': 4,\n 'review_text': 'This book is, so many times over, a true story. Culleton does not hold back in her descriptions of the horrors these women faced. However, from true stories I\\'ve heard, it is not even close to as horrible as it gets. The way native people have been treated in this country (and elsewhere) is shameful. The trickledown effect of residential schooling and prejudice has scarred our history (and is sadly, still perpetuated) and so many seem unaware. Those that say this book has an agenda... well, it certainly should. \\n The author, in my opinion, successfully wrote on the issue of generational pain without making it seem as though she was \"making excuses\" (a common complaint I hear from prejudice types). The two little girls grew up in an unstable home, had their lives torn apart, and faced hardships throughout their lives. I particularly identified with Cheryl who tried desperately to turn her pain into positive action and struggled so deeply. \\n The other themes she explores include cultural identity, skin colour, addiction, family... She also explores the question of personal strength which I think is something universal. \\n The style of the writing is not the type that usually draws me in, but the story itself needs to be heard. It felt, to me, like April\\'s real voice. Some might say it\\'s too \"simplistic\" but I don\\'t think every fictional book needs to sound like poetry to resonate.',\n 'date_added': 'Wed Apr 27 11:26:25 -0700 2016',\n 'date_updated': 'Wed Apr 27 11:40:14 -0700 2016',\n 'read_at': '',\n 'started_at': '',\n 'n_votes': 0,\n 'n_comments': 0}"
     },
     "execution_count": 6,
     "metadata": {},
     "output_type": "execute_result"
    }
   ],
   "source": [
    "reviews = load_data(os.path.join(DIR, 'goodreads_reviews_dedup.json.gz'))\n",
    "np.random.choice(reviews)"
   ],
   "metadata": {
    "collapsed": false,
    "pycharm": {
     "name": "#%%\n"
    }
   }
  },
  {
   "cell_type": "code",
   "execution_count": 7,
   "outputs": [],
   "source": [
    "# the relevant file is 'goodreads_interactions.csv'\n",
    "\n",
    "PATH_IN = os.path.join(DIR, 'goodreads_interactions.csv')\n",
    "df_interactions = pd.read_csv(PATH_IN)"
   ],
   "metadata": {
    "collapsed": false,
    "pycharm": {
     "name": "#%%\n"
    }
   }
  },
  {
   "cell_type": "code",
   "execution_count": 8,
   "outputs": [
    {
     "name": "stdout",
     "output_type": "stream",
     "text": [
      "=== first 5 records ===\n",
      "   user_id  book_id  is_read  rating  is_reviewed\n",
      "0        0      948        1       5            0\n",
      "1        0      947        1       5            1\n",
      "2        0      946        1       5            0\n",
      "3        0      945        1       5            0\n",
      "4        0      944        1       5            0\n",
      "size 1143241710\n",
      "unique users 876145\n",
      "unique books 2360650\n"
     ]
    }
   ],
   "source": [
    "print('=== first 5 records ===')\n",
    "print(df_interactions.head())\n",
    "print(f'size {df_interactions.size}')\n",
    "print(f'unique users {df_interactions.user_id.unique().size}')\n",
    "print(f'unique books {df_interactions.book_id.unique().size}')"
   ],
   "metadata": {
    "collapsed": false,
    "pycharm": {
     "name": "#%%\n"
    }
   }
  },
  {
   "cell_type": "code",
   "execution_count": 9,
   "outputs": [
    {
     "name": "stdout",
     "output_type": "stream",
     "text": [
      "=== Any empty cells ===\n",
      "user_id        False\n",
      "book_id        False\n",
      "is_read        False\n",
      "rating         False\n",
      "is_reviewed    False\n",
      "dtype: bool\n"
     ]
    }
   ],
   "source": [
    "print('=== Any empty cells ===')\n",
    "print(df_interactions.isnull().any())"
   ],
   "metadata": {
    "collapsed": false,
    "pycharm": {
     "name": "#%%\n"
    }
   }
  },
  {
   "cell_type": "code",
   "execution_count": 10,
   "outputs": [
    {
     "name": "stdout",
     "output_type": "stream",
     "text": [
      "=== duplicated records ===\n",
      "Empty DataFrame\n",
      "Columns: [user_id, book_id, is_read, rating, is_reviewed]\n",
      "Index: []\n"
     ]
    }
   ],
   "source": [
    "print('=== duplicated records ===')\n",
    "print(df_interactions[df_interactions.duplicated(['user_id', 'book_id'], keep=False)])"
   ],
   "metadata": {
    "collapsed": false,
    "pycharm": {
     "name": "#%%\n"
    }
   }
  },
  {
   "cell_type": "code",
   "execution_count": 11,
   "outputs": [
    {
     "name": "stdout",
     "output_type": "stream",
     "text": [
      "user_id\n",
      "165733    119777\n",
      "339532    101295\n",
      "59545      82114\n",
      "311008     79168\n",
      "396456     77057\n",
      "           ...  \n",
      "694442         1\n",
      "694429         1\n",
      "694424         1\n",
      "694422         1\n",
      "828859         1\n",
      "Length: 876145, dtype: int64\n"
     ]
    },
    {
     "data": {
      "text/plain": "<Figure size 432x288 with 1 Axes>",
      "image/png": "[encoded data removed]"
     },
     "metadata": {},
     "output_type": "display_data"
    }
   ],
   "source": [
    "rating_count_by_user = df_interactions.groupby('user_id').size().sort_values(ascending=False)\n",
    "print(rating_count_by_user)  # contains unrealistic users (way too many ratings)\n",
    "size = rating_count_by_user.size\n",
    "\n",
    "df = pd.DataFrame(dict(sorted_user_id=range(1,size+1), rating_counts=rating_count_by_user.values))\n",
    "\n",
    "image = sns.relplot(data=df,\n",
    "                    x=\"sorted_user_id\",\n",
    "                    y=\"rating_counts\",\n",
    "                    kind=\"line\",\n",
    "                    height=4,\n",
    "                    aspect=1.5\n",
    "                    )\n",
    "\n",
    "image.set(xlabel=\"users sorted desc. by # ratings\",\n",
    "          ylabel=\"# ratings\"\n",
    "          )\n",
    "\n",
    "image.savefig(figure_path + '/goodreads-long-tail-distribution.png', dpi=300, bbox_inches='tight')"
   ],
   "metadata": {
    "collapsed": false,
    "pycharm": {
     "name": "#%%\n"
    }
   }
  },
  {
   "cell_type": "code",
   "execution_count": 12,
   "outputs": [
    {
     "name": "stdout",
     "output_type": "stream",
     "text": [
      "True     544597\n",
      "False    331548\n",
      "Name: user_id, dtype: int64\n"
     ]
    }
   ],
   "source": [
    "# Keep entries where the user has rated more than n items and less than m items\n",
    "\n",
    "n = 50\n",
    "m = 1000\n",
    "\n",
    "counts = df_interactions['user_id'].value_counts()\n",
    "mask = (counts >= n) & (counts <= m)\n",
    "print(mask.value_counts())\n",
    "df_interactions = df_interactions[df_interactions['user_id'].isin(mask[mask == True].index)]"
   ],
   "metadata": {
    "collapsed": false,
    "pycharm": {
     "name": "#%%\n"
    }
   }
  },
  {
   "cell_type": "code",
   "execution_count": 13,
   "outputs": [
    {
     "name": "stdout",
     "output_type": "stream",
     "text": [
      "=== first 5 records ===\n",
      "   user_id  book_id  is_read  rating  is_reviewed\n",
      "0        0      948        1       5            0\n",
      "1        0      947        1       5            1\n",
      "2        0      946        1       5            0\n",
      "3        0      945        1       5            0\n",
      "4        0      944        1       5            0\n",
      "size 674896905\n",
      "unique users 544597\n",
      "unique books 2116132\n"
     ]
    }
   ],
   "source": [
    "print('=== first 5 records ===')\n",
    "print(df_interactions.head())\n",
    "print(f'size {df_interactions.size}')\n",
    "print(f'unique users {df_interactions.user_id.unique().size}')\n",
    "print(f'unique books {df_interactions.book_id.unique().size}')"
   ],
   "metadata": {
    "collapsed": false,
    "pycharm": {
     "name": "#%%\n"
    }
   }
  },
  {
   "cell_type": "code",
   "execution_count": 14,
   "outputs": [
    {
     "name": "stdout",
     "output_type": "stream",
     "text": [
      "user_id\n",
      "2191      1000\n",
      "337526    1000\n",
      "359669    1000\n",
      "140695    1000\n",
      "27283     1000\n",
      "          ... \n",
      "674290      50\n",
      "521231      50\n",
      "582986      50\n",
      "680385      50\n",
      "556969      50\n",
      "Length: 544597, dtype: int64\n",
      "<class 'pandas.core.series.Series'>\n",
      "544597\n"
     ]
    },
    {
     "data": {
      "text/plain": "<Figure size 432x288 with 1 Axes>",
      "image/png": "[encoded data removed]"
     },
     "metadata": {},
     "output_type": "display_data"
    }
   ],
   "source": [
    "rating_count_by_user = df_interactions.groupby('user_id').size().sort_values(ascending=False)\n",
    "print(rating_count_by_user)\n",
    "print(type(rating_count_by_user))\n",
    "size = rating_count_by_user.size\n",
    "print(size)\n",
    "\n",
    "df = pd.DataFrame(dict(sorted_user_id=range(1,size+1), rating_counts=rating_count_by_user.values))\n",
    "\n",
    "image = sns.relplot(data=df,\n",
    "                    x=\"sorted_user_id\",\n",
    "                    y=\"rating_counts\",\n",
    "                    kind=\"line\",\n",
    "                    height=4,\n",
    "                    aspect=1.5\n",
    "                    )\n",
    "\n",
    "image.set(xlabel=\"users sorted desc. by # ratings\",\n",
    "          ylabel=\"# ratings\"\n",
    "          )\n",
    "\n",
    "image.savefig(figure_path + '/goodreads-long-tail-distribution-cut.png', dpi=300, bbox_inches='tight')"
   ],
   "metadata": {
    "collapsed": false,
    "pycharm": {
     "name": "#%%\n"
    }
   }
  },
  {
   "cell_type": "code",
   "execution_count": 15,
   "outputs": [
    {
     "name": "stderr",
     "output_type": "stream",
     "text": [
      "/home/weiss/.conda/envs/GNN/lib/python3.7/site-packages/seaborn/categorical.py:3704: UserWarning: The `factorplot` function has been renamed to `catplot`. The original name will be removed in a future release. Please update your code. Note that the default `kind` in `factorplot` (`'point'`) has changed `'strip'` in `catplot`.\n",
      "  warnings.warn(msg)\n",
      "/home/weiss/.conda/envs/GNN/lib/python3.7/site-packages/seaborn/_decorators.py:43: FutureWarning: Pass the following variable as a keyword arg: x. From version 0.12, the only valid positional argument will be `data`, and passing other arguments without an explicit keyword will result in an error or misinterpretation.\n",
      "  FutureWarning\n"
     ]
    },
    {
     "data": {
      "text/plain": "<Figure size 720x360 with 1 Axes>",
      "image/png": "[encoded data removed]"
     },
     "metadata": {},
     "output_type": "display_data"
    }
   ],
   "source": [
    "# rating distribution\n",
    "\n",
    "with sns.axes_style('white'):\n",
    "    g = sns.factorplot(\"rating\", data=df_interactions, aspect=2.0,kind='count')\n",
    "    g.set_ylabels(\"Total number of ratings\")\n",
    "    g.savefig(figure_path + '/goodreads-rating-distribution.png', dpi=300, bbox_inches='tight')"
   ],
   "metadata": {
    "collapsed": false,
    "pycharm": {
     "name": "#%%\n"
    }
   }
  },
  {
   "cell_type": "code",
   "execution_count": 17,
   "outputs": [
    {
     "data": {
      "text/plain": "           user_id  book_id  is_read  rating  is_reviewed\n0                0      948        1       5            0\n1                0      947        1       5            1\n2                0      946        1       5            0\n3                0      945        1       5            0\n4                0      944        1       5            0\n...            ...      ...      ...     ...          ...\n228648336   876144   367428        1       3            0\n228648338   876144    23847        1       4            0\n228648339   876144    23950        1       3            0\n228648340   876144   374106        1       5            1\n228648341   876144   351607        1       5            1\n\n[71182059 rows x 5 columns]",
      "text/html": "<div>\n<style scoped>\n    .dataframe tbody tr th:only-of-type {\n        vertical-align: middle;\n    }\n\n    .dataframe tbody tr th {\n        vertical-align: top;\n    }\n\n    .dataframe thead th {\n        text-align: right;\n    }\n</style>\n<table border=\"1\" class=\"dataframe\">\n  <thead>\n    <tr style=\"text-align: right;\">\n      <th></th>\n      <th>user_id</th>\n      <th>book_id</th>\n      <th>is_read</th>\n      <th>rating</th>\n      <th>is_reviewed</th>\n    </tr>\n  </thead>\n  <tbody>\n    <tr>\n      <th>0</th>\n      <td>0</td>\n      <td>948</td>\n      <td>1</td>\n      <td>5</td>\n      <td>0</td>\n    </tr>\n    <tr>\n      <th>1</th>\n      <td>0</td>\n      <td>947</td>\n      <td>1</td>\n      <td>5</td>\n      <td>1</td>\n    </tr>\n    <tr>\n      <th>2</th>\n      <td>0</td>\n      <td>946</td>\n      <td>1</td>\n      <td>5</td>\n      <td>0</td>\n    </tr>\n    <tr>\n      <th>3</th>\n      <td>0</td>\n      <td>945</td>\n      <td>1</td>\n      <td>5</td>\n      <td>0</td>\n    </tr>\n    <tr>\n      <th>4</th>\n      <td>0</td>\n      <td>944</td>\n      <td>1</td>\n      <td>5</td>\n      <td>0</td>\n    </tr>\n    <tr>\n      <th>...</th>\n      <td>...</td>\n      <td>...</td>\n      <td>...</td>\n      <td>...</td>\n      <td>...</td>\n    </tr>\n    <tr>\n      <th>228648336</th>\n      <td>876144</td>\n      <td>367428</td>\n      <td>1</td>\n      <td>3</td>\n      <td>0</td>\n    </tr>\n    <tr>\n      <th>228648338</th>\n      <td>876144</td>\n      <td>23847</td>\n      <td>1</td>\n      <td>4</td>\n      <td>0</td>\n    </tr>\n    <tr>\n      <th>228648339</th>\n      <td>876144</td>\n      <td>23950</td>\n      <td>1</td>\n      <td>3</td>\n      <td>0</td>\n    </tr>\n    <tr>\n      <th>228648340</th>\n      <td>876144</td>\n      <td>374106</td>\n      <td>1</td>\n      <td>5</td>\n      <td>1</td>\n    </tr>\n    <tr>\n      <th>228648341</th>\n      <td>876144</td>\n      <td>351607</td>\n      <td>1</td>\n      <td>5</td>\n      <td>1</td>\n    </tr>\n  </tbody>\n</table>\n<p>71182059 rows × 5 columns</p>\n</div>"
     },
     "execution_count": 17,
     "metadata": {},
     "output_type": "execute_result"
    }
   ],
   "source": [
    "# remove ratings with value 0\n",
    "df_interactions= df_interactions[df_interactions['rating'] != 0]\n",
    "df_interactions\n"
   ],
   "metadata": {
    "collapsed": false,
    "pycharm": {
     "name": "#%%\n"
    }
   }
  },
  {
   "cell_type": "code",
   "execution_count": 22,
   "outputs": [
    {
     "name": "stderr",
     "output_type": "stream",
     "text": [
      "/home/weiss/.conda/envs/GNN/lib/python3.7/site-packages/seaborn/categorical.py:3704: UserWarning: The `factorplot` function has been renamed to `catplot`. The original name will be removed in a future release. Please update your code. Note that the default `kind` in `factorplot` (`'point'`) has changed `'strip'` in `catplot`.\n",
      "  warnings.warn(msg)\n",
      "/home/weiss/.conda/envs/GNN/lib/python3.7/site-packages/seaborn/_decorators.py:43: FutureWarning: Pass the following variable as a keyword arg: x. From version 0.12, the only valid positional argument will be `data`, and passing other arguments without an explicit keyword will result in an error or misinterpretation.\n",
      "  FutureWarning\n"
     ]
    },
    {
     "data": {
      "text/plain": "<Figure size 720x360 with 1 Axes>",
      "image/png": "[encoded data removed]"
     },
     "metadata": {},
     "output_type": "display_data"
    }
   ],
   "source": [
    "# rating distribution\n",
    "sns.set(font_scale=1.3)\n",
    "with sns.axes_style('whitegrid'):\n",
    "    g = sns.factorplot(\"rating\", data=df_interactions, aspect=2.0,kind='count')\n",
    "    g.set_ylabels(\"Total number of ratings\")\n",
    "    g.savefig(figure_path + '/goodreads-rating-distribution.png', dpi=300, bbox_inches='tight')\n"
   ],
   "metadata": {
    "collapsed": false,
    "pycharm": {
     "name": "#%%\n"
    }
   }
  },
  {
   "cell_type": "code",
   "execution_count": null,
   "outputs": [],
   "source": [],
   "metadata": {
    "collapsed": false,
    "pycharm": {
     "name": "#%%\n"
    }
   }
  }
 ],
 "metadata": {
  "kernelspec": {
   "name": "pycharm-f57757a1",
   "language": "python",
   "display_name": "PyCharm (rs-via-gnn)"
  },
  "language_info": {
   "codemirror_mode": {
    "name": "ipython",
    "version": 3
   },
   "file_extension": ".py",
   "mimetype": "text/x-python",
   "name": "python",
   "nbconvert_exporter": "python",
   "pygments_lexer": "ipython3",
   "version": "3.7.9"
  }
 },
 "nbformat": 4,
 "nbformat_minor": 5
}