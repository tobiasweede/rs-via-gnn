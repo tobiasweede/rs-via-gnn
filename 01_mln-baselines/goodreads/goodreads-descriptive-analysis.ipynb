{
 "cells": [
  {
   "cell_type": "markdown",
   "metadata": {
    "pycharm": {
     "name": "#%% md\n"
    }
   },
   "source": [
    "# Goodreads descriptive analysis"
   ]
  },
  {
   "cell_type": "code",
   "execution_count": 1,
   "outputs": [],
   "source": [
    "import gzip\n",
    "import json\n",
    "import numpy as np\n",
    "import pandas as pd\n",
    "import os\n",
    "pd.options.display.float_format = '{:,}'.format\n",
    "\n",
    "import seaborn as sns\n",
    "sns.set_style(\"whitegrid\")\n",
    "sns.set(font_scale=1.8)\n",
    "\n",
    "RANDOM = 2021\n",
    "\n",
    "figure_path = '/home/weiss/git/thesis/doc/figures/'\n",
    "\n",
    "DIR = '/home/weiss/rs_data/goodreads/'"
   ],
   "metadata": {
    "collapsed": false,
    "pycharm": {
     "name": "#%%\n"
    }
   }
  },
  {
   "cell_type": "code",
   "execution_count": 2,
   "outputs": [],
   "source": [
    "def count_lines(file_name):\n",
    "    \"\"\"count number of lines in a given file\"\"\"\n",
    "    print('counting file:', file_name)\n",
    "    count = 0\n",
    "    with gzip.open(file_name) as fin:\n",
    "        for l in fin:\n",
    "            count += 1\n",
    "    print('done!')\n",
    "    return count"
   ],
   "metadata": {
    "collapsed": false,
    "pycharm": {
     "name": "#%%\n"
    }
   }
  },
  {
   "cell_type": "code",
   "execution_count": 3,
   "outputs": [],
   "source": [
    "#n_book = count_lines(os.path.join(DIR, 'goodreads_books.json.gz'))\n",
    "#n_work = count_lines(os.path.join(DIR, 'goodreads_book_works.json.gz'))\n",
    "#n_author = count_lines(os.path.join(DIR, 'goodreads_book_authors.json.gz'))\n",
    "#n_series = count_lines(os.path.join(DIR, 'goodreads_book_series.json.gz'))"
   ],
   "metadata": {
    "collapsed": false,
    "pycharm": {
     "name": "#%%\n"
    }
   }
  },
  {
   "cell_type": "code",
   "execution_count": 4,
   "outputs": [],
   "source": [
    "def load_data(file_name, head = 500):\n",
    "    \"\"\"Load a given GZIP compressed JSON file\"\"\"\n",
    "    count = 0\n",
    "    data = []\n",
    "    with gzip.open(file_name) as fin:\n",
    "        for l in fin:\n",
    "            d = json.loads(l)\n",
    "            count += 1\n",
    "            data.append(d)\n",
    "\n",
    "            # break if reaches the 100th line\n",
    "            if (head is not None) and (count > head):\n",
    "                break\n",
    "    return data"
   ],
   "metadata": {
    "collapsed": false,
    "pycharm": {
     "name": "#%%\n"
    }
   }
  },
  {
   "cell_type": "code",
   "execution_count": 5,
   "outputs": [],
   "source": [
    "#df_book_stats = pd.DataFrame([n_book, n_work, n_author, n_series], dtype = float,\n",
    "#                             columns = ['count'],\n",
    "#                             index = ['# book', '# work', '# author', '# series'])\n",
    "#print(df_book_stats)"
   ],
   "metadata": {
    "collapsed": false,
    "pycharm": {
     "name": "#%%\n"
    }
   }
  },
  {
   "cell_type": "code",
   "execution_count": 6,
   "outputs": [
    {
     "data": {
      "text/plain": "{'user_id': '8842281e1d1347389f2ab93d60773d4d',\n 'book_id': '22875447',\n 'review_id': '071dc23c5f6dac171554033d84750bd8',\n 'rating': 5,\n 'review_text': 'I think this is a must read for any leader in a modern business. Google has done a lot of things right both in their products and also in how they run their company and build their culture, and this is a fairly detailed account of how they\\'ve built an impressive culture, and is written by someone who knows - their head of HR. I\\'m a little surprised he told as much as he did - but I suppose it will only help for recruiting. \\n Goodreads is now a subsidiary of Amazon, and I have spent significant time learning to integrate the best of Amazons culture with ours. And I\\'m happy to say that many - perhaps most - of the best practices listed in the book are also used by Amazon. Things like hiring people smarter than you, hiring committees and having objective people on them, committees to approve promotions, focusing on the two tails, and more. These don\\'t seem to be things all companies do yet - but should. \\n So while much of the practices were things I\\'m already doing or aware of - there was a lot I learned from the book too. Here are some of the bigger takeaways I had. \\n One of the more interesting ones was the notion to separate performance reviews from compensation discussions. This makes a lot of sense, is something we have already been making progress towards, and is something I\\'m going to think about more. \\n \"Traditional performance management systems make a big mistake. They combine two things that should be completely separate: performance evaluation and people development. Evaluation is necessary to distribute finite resources, like salary increases or bonus dollars. Development is just as necessary so people grow and improve.\" If you want people to grow, don\\'t have those two conversations at the same time. Make development a constant back-and-forth between you and your team members, rather than a year-end surprise.\" \\n Another one was giving managers a bi-annual scorecards from their directs on how they did on ~10 dimensions that Google has determined are the determinants of a great manager. And no surprise (but very important to keep in mind), the book found that \"manager quality was the single best predictor of whether employees would stay or leave, supporting the adage that people don\\'t quit companies, they quit bad managers.\" While we do a lot of surveys, we haven\\'t packaged up the managers feedback into a report like this, and I think that would be powerful. \\n Laszlo was impressive in citing lots of research to prove his points. It was one of my more favorite things about the book - he is clearly a student of human development. This led to lots of tidbits that apply pretty broadly, and which are great things to keep in mind when building a business. \\n The chapter on nudges was I think my favorite in the book. Pretty cool the depth to which they have taken these - reminds me a lot of the onboarding funnel analysis I\\'ve done for Goodreads - paying attention to where you can message timely, relevant, easily actionable messages that will result in people taking desired actions, and a/b testing the results. Pretty impressive they a/b test that kind of stuff at Google! Examples given were around lists on how to onboard someone as a manager, how to be onboarded as a newbie, how to get more people to save money earlier in life and enroll in the 401K program (his data here was impressive - on how people of the same income bracket vary widely on wealth accumulated in their lives based purely on how much they save when they are young), and how to get people to eat healthier by putting the healthier foods in the kitchens more prominently. \\n \"Nudges are an incredibly powerful mechanism for improving teams and organizations. They are also ideally suited to experimentation, so can be tested on smaller populations to fine-tune their results.\" \\n Laszlo did a great job of explaining a lot of the psychology behind nudges too. My favorite was the research about checklists, and story about how the Airforce found that even the smartest, best trained pilots can make mistakes, but having checklists reduces their error rates significantly. \\n \"I realized that management too is phenomenally complex. It\\'s a lot to ask of any leader to be a product visionary or a financial genius or a marketing wizard as well as an inspiring manager. But if we could reduce good management to a checklist, we wouldn\\'t need to invest millions of dollars in training, or try to convince people why one style of leadership is better than another. We wouldn\\'t have to change who they were. We could just change how they behave.\" \\n \"It turns out checklists really do work, even when the list is almost patronizingly simple. We\\'re human, and we sometimes forget the most basic things.\" \\n Another thing I loved was the focus on identifying the people who are best at a specific skill, and designing a program for them to teach that skill to others. G2G (Googlers 2 Googlers). \\n \"Giving employees the opportunity to teach gives them purpose. Even if they don\\'t find meaning in their regular jobs, passing on knowledge is both inspiring and inspirational.\" \\n I liked his descriptions of deliberate learning. He gave examples of asking after every meeting \"what did we learn and how could we do better in the future\". And the story about Tiger hitting golf balls at 4am in the rain was pretty sweet. \\n \"Ericsson refers to this as deliberate practice: intentional repetitions of similar, small tasks with immediate feedback, correction, and experimentation.\" \\n My favorite tidbit - which I know to be true but is something great to keep in mind - is how to motivate people: let them connect to the people their work is helping. \\n \"even a small connection to the people who benefit from your work not only improves productivity, it also makes people happier. And everyone wants their work to have purpose. \\n Bock, Laszlo (2015-04-07). Work Rules!: Insights from Inside Google That Will Transform How You Live and Lead (pp. 340-341). Grand Central Publishing. Kindle Edition.',\n 'date_added': 'Thu Oct 01 22:11:41 -0700 2015',\n 'date_updated': 'Wed Mar 22 11:47:41 -0700 2017',\n 'read_at': 'Sun Dec 27 00:00:00 -0800 2015',\n 'started_at': 'Wed Nov 25 00:00:00 -0800 2015',\n 'n_votes': 36,\n 'n_comments': 2}"
     },
     "execution_count": 6,
     "metadata": {},
     "output_type": "execute_result"
    }
   ],
   "source": [
    "reviews = load_data(os.path.join(DIR, 'goodreads_reviews_dedup.json.gz'))\n",
    "np.random.choice(reviews)"
   ],
   "metadata": {
    "collapsed": false,
    "pycharm": {
     "name": "#%%\n"
    }
   }
  },
  {
   "cell_type": "code",
   "execution_count": 7,
   "outputs": [],
   "source": [
    "# the relevant file is 'goodreads_interactions.csv'\n",
    "\n",
    "PATH_IN = os.path.join(DIR, 'goodreads_interactions.csv')\n",
    "df_interactions = pd.read_csv(PATH_IN)"
   ],
   "metadata": {
    "collapsed": false,
    "pycharm": {
     "name": "#%%\n"
    }
   }
  },
  {
   "cell_type": "code",
   "execution_count": 8,
   "outputs": [
    {
     "name": "stdout",
     "output_type": "stream",
     "text": [
      "=== first 5 records ===\n",
      "   user_id  book_id  is_read  rating  is_reviewed\n",
      "0        0      948        1       5            0\n",
      "1        0      947        1       5            1\n",
      "2        0      946        1       5            0\n",
      "3        0      945        1       5            0\n",
      "4        0      944        1       5            0\n",
      "size 228648342\n",
      "unique users 876145\n",
      "unique books 2360650\n"
     ]
    }
   ],
   "source": [
    "print('=== first 5 records ===')\n",
    "print(df_interactions.head())\n",
    "print(f'size {df_interactions.rating.size}')\n",
    "print(f'unique users {df_interactions.user_id.unique().size}')\n",
    "print(f'unique books {df_interactions.book_id.unique().size}')"
   ],
   "metadata": {
    "collapsed": false,
    "pycharm": {
     "name": "#%%\n"
    }
   }
  },
  {
   "cell_type": "code",
   "execution_count": 9,
   "outputs": [
    {
     "name": "stdout",
     "output_type": "stream",
     "text": [
      "=== Any empty cells ===\n",
      "user_id        False\n",
      "book_id        False\n",
      "is_read        False\n",
      "rating         False\n",
      "is_reviewed    False\n",
      "dtype: bool\n"
     ]
    }
   ],
   "source": [
    "print('=== Any empty cells ===')\n",
    "print(df_interactions.isnull().any())"
   ],
   "metadata": {
    "collapsed": false,
    "pycharm": {
     "name": "#%%\n"
    }
   }
  },
  {
   "cell_type": "code",
   "execution_count": 10,
   "outputs": [
    {
     "name": "stdout",
     "output_type": "stream",
     "text": [
      "=== duplicated records ===\n",
      "Empty DataFrame\n",
      "Columns: [user_id, book_id, is_read, rating, is_reviewed]\n",
      "Index: []\n"
     ]
    }
   ],
   "source": [
    "print('=== duplicated records ===')\n",
    "print(df_interactions[df_interactions.duplicated(['user_id', 'book_id'], keep=False)])"
   ],
   "metadata": {
    "collapsed": false,
    "pycharm": {
     "name": "#%%\n"
    }
   }
  },
  {
   "cell_type": "code",
   "execution_count": 11,
   "outputs": [
    {
     "name": "stdout",
     "output_type": "stream",
     "text": [
      "user_id\n",
      "165733    119777\n",
      "339532    101295\n",
      "59545      82114\n",
      "311008     79168\n",
      "396456     77057\n",
      "           ...  \n",
      "694442         1\n",
      "694429         1\n",
      "694424         1\n",
      "694422         1\n",
      "828859         1\n",
      "Length: 876145, dtype: int64\n"
     ]
    },
    {
     "data": {
      "text/plain": "<Figure size 432x288 with 1 Axes>",
      "image/png": "[encoded data removed]"
     },
     "metadata": {},
     "output_type": "display_data"
    }
   ],
   "source": [
    "rating_count_by_user = df_interactions.groupby('user_id').size().sort_values(ascending=False)\n",
    "print(rating_count_by_user)  # contains unrealistic users (way too many ratings)\n",
    "size = rating_count_by_user.size\n",
    "\n",
    "df = pd.DataFrame(dict(sorted_user_id=range(1,size+1), rating_counts=rating_count_by_user.values))\n",
    "\n",
    "sns.set(style='whitegrid', font_scale=1.5, rc={'xtick.labelsize':12, 'ytick.labelsize':12})\n",
    "image = sns.relplot(data=df,\n",
    "                    x=\"sorted_user_id\",\n",
    "                    y=\"rating_counts\",\n",
    "                    kind=\"line\",\n",
    "                    height=4,\n",
    "                    aspect=1.5\n",
    "                    )\n",
    "\n",
    "image.set(xlabel=\"users sorted desc. by # ratings\",\n",
    "          ylabel=\"# ratings\"\n",
    "          )\n",
    "\n",
    "image.savefig(figure_path + '/goodreads-long-tail-distribution.png', dpi=300, bbox_inches='tight')"
   ],
   "metadata": {
    "collapsed": false,
    "pycharm": {
     "name": "#%%\n"
    }
   }
  },
  {
   "cell_type": "code",
   "execution_count": 12,
   "outputs": [
    {
     "name": "stderr",
     "output_type": "stream",
     "text": [
      "/home/weiss/.conda/envs/GNN/lib/python3.7/site-packages/seaborn/categorical.py:3704: UserWarning: The `factorplot` function has been renamed to `catplot`. The original name will be removed in a future release. Please update your code. Note that the default `kind` in `factorplot` (`'point'`) has changed `'strip'` in `catplot`.\n",
      "  warnings.warn(msg)\n",
      "/home/weiss/.conda/envs/GNN/lib/python3.7/site-packages/seaborn/_decorators.py:43: FutureWarning: Pass the following variable as a keyword arg: x. From version 0.12, the only valid positional argument will be `data`, and passing other arguments without an explicit keyword will result in an error or misinterpretation.\n",
      "  FutureWarning\n"
     ]
    },
    {
     "data": {
      "text/plain": "<Figure size 360x360 with 1 Axes>",
      "image/png": "[encoded data removed]"
     },
     "metadata": {},
     "output_type": "display_data"
    }
   ],
   "source": [
    "# rating distribution before cleanup\n",
    "\n",
    "sns.set(style='whitegrid', font_scale=1.3)\n",
    "g = sns.factorplot(\"rating\", data=df_interactions, kind='count')\n",
    "g.set_ylabels(\"Total number of ratings\")\n",
    "g.savefig(figure_path + '/goodreads-rating-distribution-with-null.png', dpi=300, bbox_inches='tight')"
   ],
   "metadata": {
    "collapsed": false,
    "pycharm": {
     "name": "#%%\n"
    }
   }
  },
  {
   "cell_type": "code",
   "execution_count": 13,
   "outputs": [
    {
     "name": "stdout",
     "output_type": "stream",
     "text": [
      "=== first 5 records ===\n",
      "   user_id  book_id  is_read  rating  is_reviewed\n",
      "0        0      948        1       5            0\n",
      "1        0      947        1       5            1\n",
      "2        0      946        1       5            0\n",
      "3        0      945        1       5            0\n",
      "4        0      944        1       5            0\n",
      "size 228648342\n",
      "unique users 876145\n",
      "unique books 2360650\n"
     ]
    }
   ],
   "source": [
    "print('=== first 5 records ===')\n",
    "print(df_interactions.head())\n",
    "print(f'# ratings {df_interactions.rating.size}')\n",
    "print(f'# users {df_interactions.user_id.unique().size}')\n",
    "print(f'# books {df_interactions.book_id.unique().size}')"
   ],
   "metadata": {
    "collapsed": false,
    "pycharm": {
     "name": "#%%\n"
    }
   }
  },
  {
   "cell_type": "code",
   "execution_count": 14,
   "outputs": [
    {
     "data": {
      "text/plain": "           user_id  book_id  is_read  rating  is_reviewed\n0                0      948        1       5            0\n1                0      947        1       5            1\n2                0      946        1       5            0\n3                0      945        1       5            0\n4                0      944        1       5            0\n...            ...      ...      ...     ...          ...\n228648336   876144   367428        1       3            0\n228648338   876144    23847        1       4            0\n228648339   876144    23950        1       3            0\n228648340   876144   374106        1       5            1\n228648341   876144   351607        1       5            1\n\n[104551549 rows x 5 columns]",
      "text/html": "<div>\n<style scoped>\n    .dataframe tbody tr th:only-of-type {\n        vertical-align: middle;\n    }\n\n    .dataframe tbody tr th {\n        vertical-align: top;\n    }\n\n    .dataframe thead th {\n        text-align: right;\n    }\n</style>\n<table border=\"1\" class=\"dataframe\">\n  <thead>\n    <tr style=\"text-align: right;\">\n      <th></th>\n      <th>user_id</th>\n      <th>book_id</th>\n      <th>is_read</th>\n      <th>rating</th>\n      <th>is_reviewed</th>\n    </tr>\n  </thead>\n  <tbody>\n    <tr>\n      <th>0</th>\n      <td>0</td>\n      <td>948</td>\n      <td>1</td>\n      <td>5</td>\n      <td>0</td>\n    </tr>\n    <tr>\n      <th>1</th>\n      <td>0</td>\n      <td>947</td>\n      <td>1</td>\n      <td>5</td>\n      <td>1</td>\n    </tr>\n    <tr>\n      <th>2</th>\n      <td>0</td>\n      <td>946</td>\n      <td>1</td>\n      <td>5</td>\n      <td>0</td>\n    </tr>\n    <tr>\n      <th>3</th>\n      <td>0</td>\n      <td>945</td>\n      <td>1</td>\n      <td>5</td>\n      <td>0</td>\n    </tr>\n    <tr>\n      <th>4</th>\n      <td>0</td>\n      <td>944</td>\n      <td>1</td>\n      <td>5</td>\n      <td>0</td>\n    </tr>\n    <tr>\n      <th>...</th>\n      <td>...</td>\n      <td>...</td>\n      <td>...</td>\n      <td>...</td>\n      <td>...</td>\n    </tr>\n    <tr>\n      <th>228648336</th>\n      <td>876144</td>\n      <td>367428</td>\n      <td>1</td>\n      <td>3</td>\n      <td>0</td>\n    </tr>\n    <tr>\n      <th>228648338</th>\n      <td>876144</td>\n      <td>23847</td>\n      <td>1</td>\n      <td>4</td>\n      <td>0</td>\n    </tr>\n    <tr>\n      <th>228648339</th>\n      <td>876144</td>\n      <td>23950</td>\n      <td>1</td>\n      <td>3</td>\n      <td>0</td>\n    </tr>\n    <tr>\n      <th>228648340</th>\n      <td>876144</td>\n      <td>374106</td>\n      <td>1</td>\n      <td>5</td>\n      <td>1</td>\n    </tr>\n    <tr>\n      <th>228648341</th>\n      <td>876144</td>\n      <td>351607</td>\n      <td>1</td>\n      <td>5</td>\n      <td>1</td>\n    </tr>\n  </tbody>\n</table>\n<p>104551549 rows × 5 columns</p>\n</div>"
     },
     "execution_count": 14,
     "metadata": {},
     "output_type": "execute_result"
    }
   ],
   "source": [
    "# remove ratings with value 0\n",
    "df_interactions= df_interactions[df_interactions['rating'] != 0]\n",
    "df_interactions"
   ],
   "metadata": {
    "collapsed": false,
    "pycharm": {
     "name": "#%%\n"
    }
   }
  },
  {
   "cell_type": "code",
   "execution_count": 15,
   "outputs": [
    {
     "name": "stderr",
     "output_type": "stream",
     "text": [
      "/home/weiss/.conda/envs/GNN/lib/python3.7/site-packages/seaborn/categorical.py:3704: UserWarning: The `factorplot` function has been renamed to `catplot`. The original name will be removed in a future release. Please update your code. Note that the default `kind` in `factorplot` (`'point'`) has changed `'strip'` in `catplot`.\n",
      "  warnings.warn(msg)\n",
      "/home/weiss/.conda/envs/GNN/lib/python3.7/site-packages/seaborn/_decorators.py:43: FutureWarning: Pass the following variable as a keyword arg: x. From version 0.12, the only valid positional argument will be `data`, and passing other arguments without an explicit keyword will result in an error or misinterpretation.\n",
      "  FutureWarning\n"
     ]
    },
    {
     "data": {
      "text/plain": "<Figure size 360x360 with 1 Axes>",
      "image/png": "[encoded data removed]"
     },
     "metadata": {},
     "output_type": "display_data"
    }
   ],
   "source": [
    "# rating distribution after cleanup\n",
    "sns.set(style='whitegrid', font_scale=1.3)\n",
    "g = sns.factorplot(\"rating\", data=df_interactions, kind='count')\n",
    "g.set_ylabels(\"# ratings\")\n",
    "g.savefig(figure_path + '/goodreads-rating-distribution.png', dpi=300, bbox_inches='tight')"
   ],
   "metadata": {
    "collapsed": false,
    "pycharm": {
     "name": "#%%\n"
    }
   }
  },
  {
   "cell_type": "code",
   "execution_count": 16,
   "outputs": [
    {
     "name": "stdout",
     "output_type": "stream",
     "text": [
      "True     424154\n",
      "False    392217\n",
      "Name: user_id, dtype: int64\n"
     ]
    }
   ],
   "source": [
    "# Keep entries where the user has rated more than n items and less than m items\n",
    "\n",
    "n = 50\n",
    "m = 1000\n",
    "\n",
    "counts = df_interactions['user_id'].value_counts()\n",
    "mask = (counts >= n) & (counts <= m)\n",
    "print(mask.value_counts())\n",
    "df_interactions = df_interactions[df_interactions['user_id'].isin(mask[mask == True].index)]"
   ],
   "metadata": {
    "collapsed": false,
    "pycharm": {
     "name": "#%%\n"
    }
   }
  },
  {
   "cell_type": "code",
   "execution_count": 17,
   "outputs": [
    {
     "name": "stdout",
     "output_type": "stream",
     "text": [
      "=== first 5 records ===\n",
      "   user_id  book_id  is_read  rating  is_reviewed\n",
      "0        0      948        1       5            0\n",
      "1        0      947        1       5            1\n",
      "2        0      946        1       5            0\n",
      "3        0      945        1       5            0\n",
      "4        0      944        1       5            0\n",
      "size 81569320\n",
      "unique users 424154\n",
      "unique books 2116340\n"
     ]
    }
   ],
   "source": [
    "print('=== first 5 records ===')\n",
    "print(df_interactions.head())\n",
    "print(f'size {df_interactions[\"rating\"].size}')\n",
    "print(f'unique users {df_interactions[\"user_id\"].unique().size}')\n",
    "print(f'unique books {df_interactions.book_id.unique().size}')"
   ],
   "metadata": {
    "collapsed": false,
    "pycharm": {
     "name": "#%%\n"
    }
   }
  },
  {
   "cell_type": "code",
   "execution_count": 18,
   "outputs": [
    {
     "name": "stdout",
     "output_type": "stream",
     "text": [
      "user_id\n",
      "222640    1000\n",
      "67945     1000\n",
      "128540    1000\n",
      "20886     1000\n",
      "362086    1000\n",
      "          ... \n",
      "482643      50\n",
      "482646      50\n",
      "54187       50\n",
      "604658      50\n",
      "716827      50\n",
      "Length: 424154, dtype: int64\n",
      "<class 'pandas.core.series.Series'>\n",
      "424154\n"
     ]
    },
    {
     "data": {
      "text/plain": "<Figure size 360x360 with 1 Axes>",
      "image/png": "[encoded data removed]"
     },
     "metadata": {},
     "output_type": "display_data"
    }
   ],
   "source": [
    "# power law?\n",
    "rating_count_by_user = df_interactions.groupby('user_id').size().sort_values(ascending=False)\n",
    "print(rating_count_by_user)\n",
    "print(type(rating_count_by_user))\n",
    "size = rating_count_by_user.size\n",
    "print(size)\n",
    "\n",
    "df = pd.DataFrame(dict(sorted_user_id=range(1,size+1), rating_counts=rating_count_by_user.values))\n",
    "\n",
    "sns.set(style='whitegrid', font_scale=1.3, rc={'xtick.labelsize':12, 'ytick.labelsize':12})\n",
    "image = sns.relplot(data=df,\n",
    "                    x=\"sorted_user_id\",\n",
    "                    y=\"rating_counts\",\n",
    "                    kind=\"line\",\n",
    "                    )\n",
    "\n",
    "image.set(xlabel=\"users sorted desc. by # ratings\",\n",
    "          ylabel=\"# ratings\"\n",
    "          )\n",
    "\n",
    "\n",
    "image.savefig(figure_path + '/goodreads-long-tail-distribution-cut.png', dpi=300, bbox_inches='tight')"
   ],
   "metadata": {
    "collapsed": false,
    "pycharm": {
     "name": "#%%\n"
    }
   }
  },
  {
   "cell_type": "code",
   "execution_count": 19,
   "outputs": [
    {
     "data": {
      "text/plain": "3.946898061673188"
     },
     "execution_count": 19,
     "metadata": {},
     "output_type": "execute_result"
    }
   ],
   "source": [
    "df_interactions['rating'].mean()"
   ],
   "metadata": {
    "collapsed": false,
    "pycharm": {
     "name": "#%%\n"
    }
   }
  },
  {
   "cell_type": "code",
   "execution_count": 20,
   "outputs": [
    {
     "data": {
      "text/plain": "4.0"
     },
     "execution_count": 20,
     "metadata": {},
     "output_type": "execute_result"
    }
   ],
   "source": [
    "df_interactions['rating'].median()"
   ],
   "metadata": {
    "collapsed": false,
    "pycharm": {
     "name": "#%%\n"
    }
   }
  },
  {
   "cell_type": "code",
   "execution_count": 20,
   "outputs": [],
   "source": [],
   "metadata": {
    "collapsed": false,
    "pycharm": {
     "name": "#%%\n"
    }
   }
  }
 ],
 "metadata": {
  "kernelspec": {
   "name": "pycharm-f57757a1",
   "language": "python",
   "display_name": "PyCharm (rs-via-gnn)"
  },
  "language_info": {
   "codemirror_mode": {
    "name": "ipython",
    "version": 3
   },
   "file_extension": ".py",
   "mimetype": "text/x-python",
   "name": "python",
   "nbconvert_exporter": "python",
   "pygments_lexer": "ipython3",
   "version": "3.7.9"
  }
 },
 "nbformat": 4,
 "nbformat_minor": 5
}