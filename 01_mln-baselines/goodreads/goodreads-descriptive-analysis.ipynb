{
 "cells": [
  {
   "cell_type": "markdown",
   "metadata": {
    "pycharm": {
     "name": "#%% md\n"
    }
   },
   "source": [
    "# Goodreads descriptive analysis"
   ]
  },
  {
   "cell_type": "code",
   "execution_count": 37,
   "outputs": [],
   "source": [
    "import gzip\n",
    "import json\n",
    "import numpy as np\n",
    "import pandas as pd\n",
    "import os\n",
    "pd.options.display.float_format = '{:,}'.format\n",
    "\n",
    "import seaborn as sns\n",
    "sns.set_style(\"whitegrid\")\n",
    "sns.set(font_scale=1.8)\n",
    "\n",
    "RANDOM = 2021\n",
    "\n",
    "figure_path = '/home/weiss/git/thesis/doc/figures/'\n",
    "\n",
    "DIR = '/home/weiss/rs_data/goodreads/'"
   ],
   "metadata": {
    "collapsed": false,
    "pycharm": {
     "name": "#%%\n"
    }
   }
  },
  {
   "cell_type": "code",
   "execution_count": 38,
   "outputs": [],
   "source": [
    "def count_lines(file_name):\n",
    "    \"\"\"count number of lines in a given file\"\"\"\n",
    "    print('counting file:', file_name)\n",
    "    count = 0\n",
    "    with gzip.open(file_name) as fin:\n",
    "        for l in fin:\n",
    "            count += 1\n",
    "    print('done!')\n",
    "    return count"
   ],
   "metadata": {
    "collapsed": false,
    "pycharm": {
     "name": "#%%\n"
    }
   }
  },
  {
   "cell_type": "code",
   "execution_count": 39,
   "outputs": [],
   "source": [
    "#n_book = count_lines(os.path.join(DIR, 'goodreads_books.json.gz'))\n",
    "#n_work = count_lines(os.path.join(DIR, 'goodreads_book_works.json.gz'))\n",
    "#n_author = count_lines(os.path.join(DIR, 'goodreads_book_authors.json.gz'))\n",
    "#n_series = count_lines(os.path.join(DIR, 'goodreads_book_series.json.gz'))"
   ],
   "metadata": {
    "collapsed": false,
    "pycharm": {
     "name": "#%%\n"
    }
   }
  },
  {
   "cell_type": "code",
   "execution_count": 40,
   "outputs": [],
   "source": [
    "def load_data(file_name, head = 500):\n",
    "    \"\"\"Load a given GZIP compressed JSON file\"\"\"\n",
    "    count = 0\n",
    "    data = []\n",
    "    with gzip.open(file_name) as fin:\n",
    "        for l in fin:\n",
    "            d = json.loads(l)\n",
    "            count += 1\n",
    "            data.append(d)\n",
    "\n",
    "            # break if reaches the 100th line\n",
    "            if (head is not None) and (count > head):\n",
    "                break\n",
    "    return data"
   ],
   "metadata": {
    "collapsed": false,
    "pycharm": {
     "name": "#%%\n"
    }
   }
  },
  {
   "cell_type": "code",
   "execution_count": 41,
   "outputs": [],
   "source": [
    "#df_book_stats = pd.DataFrame([n_book, n_work, n_author, n_series], dtype = float,\n",
    "#                             columns = ['count'],\n",
    "#                             index = ['# book', '# work', '# author', '# series'])\n",
    "#print(df_book_stats)"
   ],
   "metadata": {
    "collapsed": false,
    "pycharm": {
     "name": "#%%\n"
    }
   }
  },
  {
   "cell_type": "code",
   "execution_count": 42,
   "outputs": [
    {
     "data": {
      "text/plain": "{'user_id': '01ec1a320ffded6b2dd47833f2c8e4fb',\n 'book_id': '31450633',\n 'review_id': 'e1b920bc35c0df165f97094281148eab',\n 'rating': 4,\n 'review_text': '4.5 Stars \\n \"If you can\\'t trust yourself, who can you trust?\" \\n OMG!! Intelligent and thrilling page-turner that I read in almost one sitting! The rather abrupt ending was a little unsatisfying BUT the clever story kept me guessing. \\n I think most people do something or fail to take action that may cause some guilt. Well this story begins with Cass taking a shortcut late at night and failing to stop and help a woman who is stopped on the side of the road. \\n The motorist ends up dead. Cass feels guilty, but just as significant are the little things she begins to forget...how to run the washing machine, making dinner plans with friends, and even rather significant purchases. Her mother suffered from early-onset Alzheimer\\'s. What is happening to Cass? \\n Cass\\'s mental well-being soon spirals out of control and she fears she will suffer the same fate as her mother. \\n I literally could not put this book down! I FELT Cass\\'s hysteria and fear. The last part of the book was thrilling and surprising and gave me everything I love about thrillers. I highly recommend this one for all fans of this genre and even if you want to step outside your usual genre. Cass was a memorable heroine and I was cheering for her all throughout the book. This is my first book by B.A. Paris and she has now become one of my faves!! \\n (ARC provided by the publisher in return for an honest review.)',\n 'date_added': 'Tue Jan 10 05:42:05 -0800 2017',\n 'date_updated': 'Sun Jul 23 06:44:32 -0700 2017',\n 'read_at': 'Sun Jun 18 00:00:00 -0700 2017',\n 'started_at': 'Fri Jun 16 00:00:00 -0700 2017',\n 'n_votes': 10,\n 'n_comments': 0}"
     },
     "execution_count": 42,
     "metadata": {},
     "output_type": "execute_result"
    }
   ],
   "source": [
    "reviews = load_data(os.path.join(DIR, 'goodreads_reviews_dedup.json.gz'))\n",
    "np.random.choice(reviews)"
   ],
   "metadata": {
    "collapsed": false,
    "pycharm": {
     "name": "#%%\n"
    }
   }
  },
  {
   "cell_type": "code",
   "execution_count": null,
   "outputs": [],
   "source": [
    "# the relevant file is 'goodreads_interactions.csv'\n",
    "\n",
    "PATH_IN = os.path.join(DIR, 'goodreads_interactions.csv')\n",
    "df_interactions = pd.read_csv(PATH_IN)"
   ],
   "metadata": {
    "collapsed": false,
    "pycharm": {
     "name": "#%%\n",
     "is_executing": true
    }
   }
  },
  {
   "cell_type": "code",
   "execution_count": null,
   "outputs": [],
   "source": [
    "print('=== first 5 records ===')\n",
    "print(df_interactions.head())\n",
    "print(f'size {df_interactions.size}')\n",
    "print(f'unique users {df_interactions.user_id.unique().size}')\n",
    "print(f'unique books {df_interactions.book_id.unique().size}')"
   ],
   "metadata": {
    "collapsed": false,
    "pycharm": {
     "name": "#%%\n",
     "is_executing": true
    }
   }
  },
  {
   "cell_type": "code",
   "execution_count": null,
   "outputs": [],
   "source": [
    "print('=== Any empty cells ===')\n",
    "print(df_interactions.isnull().any())"
   ],
   "metadata": {
    "collapsed": false,
    "pycharm": {
     "name": "#%%\n",
     "is_executing": true
    }
   }
  },
  {
   "cell_type": "code",
   "execution_count": null,
   "outputs": [],
   "source": [
    "print('=== duplicated records ===')\n",
    "print(df_interactions[df_interactions.duplicated(['user_id', 'book_id'], keep=False)])"
   ],
   "metadata": {
    "collapsed": false,
    "pycharm": {
     "name": "#%%\n",
     "is_executing": true
    }
   }
  },
  {
   "cell_type": "code",
   "execution_count": null,
   "outputs": [],
   "source": [
    "rating_count_by_user = df_interactions.groupby('user_id').size().sort_values(ascending=False)\n",
    "print(rating_count_by_user)  # contains unrealistic users (way too many ratings)\n",
    "size = rating_count_by_user.size\n",
    "\n",
    "df = pd.DataFrame(dict(sorted_user_id=range(1,size+1), rating_counts=rating_count_by_user.values))\n",
    "\n",
    "sns.set(style='whitegrid', font_scale=1.5, rc={'xtick.labelsize':12, 'ytick.labelsize':12})\n",
    "image = sns.relplot(data=df,\n",
    "                    x=\"sorted_user_id\",\n",
    "                    y=\"rating_counts\",\n",
    "                    kind=\"line\",\n",
    "                    height=4,\n",
    "                    aspect=1.5\n",
    "                    )\n",
    "\n",
    "image.set(xlabel=\"users sorted desc. by # ratings\",\n",
    "          ylabel=\"# ratings\"\n",
    "          )\n",
    "\n",
    "image.savefig(figure_path + '/goodreads-long-tail-distribution.png', dpi=300, bbox_inches='tight')"
   ],
   "metadata": {
    "collapsed": false,
    "pycharm": {
     "name": "#%%\n",
     "is_executing": true
    }
   }
  },
  {
   "cell_type": "code",
   "execution_count": null,
   "outputs": [],
   "source": [
    "# rating distribution before cleanup\n",
    "\n",
    "sns.set(style='whitegrid', font_scale=1.3)\n",
    "g = sns.factorplot(\"rating\", data=df_interactions, kind='count')\n",
    "g.set_ylabels(\"Total number of ratings\")\n",
    "g.savefig(figure_path + '/goodreads-rating-distribution-with-null.png', dpi=300, bbox_inches='tight')"
   ],
   "metadata": {
    "collapsed": false,
    "pycharm": {
     "name": "#%%\n",
     "is_executing": true
    }
   }
  },
  {
   "cell_type": "code",
   "execution_count": null,
   "outputs": [],
   "source": [
    "print('=== first 5 records ===')\n",
    "print(df_interactions.head())\n",
    "print(f'size {df_interactions.rating.size}')\n",
    "print(f'unique users {df_interactions.user_id.unique().size}')\n",
    "print(f'unique books {df_interactions.book_id.unique().size}')"
   ],
   "metadata": {
    "collapsed": false,
    "pycharm": {
     "name": "#%%\n",
     "is_executing": true
    }
   }
  },
  {
   "cell_type": "code",
   "execution_count": null,
   "outputs": [],
   "source": [
    "# remove ratings with value 0\n",
    "df_interactions= df_interactions[df_interactions['rating'] != 0]\n",
    "df_interactions"
   ],
   "metadata": {
    "collapsed": false,
    "pycharm": {
     "name": "#%%\n",
     "is_executing": true
    }
   }
  },
  {
   "cell_type": "code",
   "execution_count": null,
   "outputs": [],
   "source": [
    "# rating distribution after cleanup\n",
    "sns.set(style='whitegrid', font_scale=1.3)\n",
    "g = sns.factorplot(\"rating\", data=df_interactions, kind='count')\n",
    "g.set_ylabels(\"# ratings\")\n",
    "g.savefig(figure_path + '/goodreads-rating-distribution.png', dpi=300, bbox_inches='tight')"
   ],
   "metadata": {
    "collapsed": false,
    "pycharm": {
     "name": "#%%\n",
     "is_executing": true
    }
   }
  },
  {
   "cell_type": "code",
   "execution_count": null,
   "outputs": [],
   "source": [
    "# Keep entries where the user has rated more than n items and less than m items\n",
    "\n",
    "n = 50\n",
    "m = 1000\n",
    "\n",
    "counts = df_interactions['user_id'].value_counts()\n",
    "mask = (counts >= n) & (counts <= m)\n",
    "print(mask.value_counts())\n",
    "df_interactions = df_interactions[df_interactions['user_id'].isin(mask[mask == True].index)]"
   ],
   "metadata": {
    "collapsed": false,
    "pycharm": {
     "name": "#%%\n",
     "is_executing": true
    }
   }
  },
  {
   "cell_type": "code",
   "execution_count": null,
   "outputs": [],
   "source": [
    "print('=== first 5 records ===')\n",
    "print(df_interactions.head())\n",
    "print(f'size {df_interactions[\"rating\"].size}')\n",
    "print(f'unique users {df_interactions[\"user_id\"].unique().size}')\n",
    "print(f'unique books {df_interactions.book_id.unique().size}')"
   ],
   "metadata": {
    "collapsed": false,
    "pycharm": {
     "name": "#%%\n",
     "is_executing": true
    }
   }
  },
  {
   "cell_type": "code",
   "execution_count": null,
   "outputs": [],
   "source": [
    "rating_count_by_user = df_interactions.groupby('user_id').size().sort_values(ascending=False)\n",
    "print(rating_count_by_user)\n",
    "print(type(rating_count_by_user))\n",
    "size = rating_count_by_user.size\n",
    "print(size)\n",
    "\n",
    "df = pd.DataFrame(dict(sorted_user_id=range(1,size+1), rating_counts=rating_count_by_user.values))\n",
    "\n",
    "sns.set(style='whitegrid', font_scale=1.3, rc={'xtick.labelsize':12, 'ytick.labelsize':12})\n",
    "image = sns.relplot(data=df,\n",
    "                    x=\"sorted_user_id\",\n",
    "                    y=\"rating_counts\",\n",
    "                    kind=\"line\",\n",
    "                    )\n",
    "\n",
    "image.set(xlabel=\"users sorted desc. by # ratings\",\n",
    "          ylabel=\"# ratings\"\n",
    "          )\n",
    "\n",
    "\n",
    "image.savefig(figure_path + '/goodreads-long-tail-distribution-cut.png', dpi=300, bbox_inches='tight')\n"
   ],
   "metadata": {
    "collapsed": false,
    "pycharm": {
     "name": "#%%\n",
     "is_executing": true
    }
   }
  },
  {
   "cell_type": "code",
   "execution_count": null,
   "outputs": [],
   "source": [
    "df_interactions['rating'].mean()"
   ],
   "metadata": {
    "collapsed": false,
    "pycharm": {
     "name": "#%%\n",
     "is_executing": true
    }
   }
  },
  {
   "cell_type": "code",
   "execution_count": null,
   "outputs": [],
   "source": [
    "df_interactions['rating'].median()"
   ],
   "metadata": {
    "collapsed": false,
    "pycharm": {
     "name": "#%%\n",
     "is_executing": true
    }
   }
  },
  {
   "cell_type": "code",
   "execution_count": null,
   "outputs": [],
   "source": [],
   "metadata": {
    "collapsed": false,
    "pycharm": {
     "name": "#%%\n",
     "is_executing": true
    }
   }
  }
 ],
 "metadata": {
  "kernelspec": {
   "name": "pycharm-f57757a1",
   "language": "python",
   "display_name": "PyCharm (rs-via-gnn)"
  },
  "language_info": {
   "codemirror_mode": {
    "name": "ipython",
    "version": 3
   },
   "file_extension": ".py",
   "mimetype": "text/x-python",
   "name": "python",
   "nbconvert_exporter": "python",
   "pygments_lexer": "ipython3",
   "version": "3.7.9"
  }
 },
 "nbformat": 4,
 "nbformat_minor": 5
}